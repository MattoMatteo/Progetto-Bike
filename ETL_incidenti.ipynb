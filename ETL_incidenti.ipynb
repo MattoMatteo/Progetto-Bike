{
 "cells": [
  {
   "cell_type": "code",
   "execution_count": 1,
   "id": "0e9b2eb0",
   "metadata": {},
   "outputs": [
    {
     "name": "stderr",
     "output_type": "stream",
     "text": [
      "C:\\Users\\aless\\AppData\\Local\\Temp\\ipykernel_21352\\17934620.py:4: DtypeWarning: Columns (26,27) have mixed types. Specify dtype option on import or set low_memory=False.\n",
      "  df_incidenti_convertito = pd.read_csv(PATH_INCIDENTI_CONVERTITO)\n"
     ]
    }
   ],
   "source": [
    "import pandas as pd\n",
    "\n",
    "PATH_INCIDENTI_CONVERTITO = \"./Data/Raw/Incidenti/incidenti_convertito.csv\"\n",
    "df_incidenti_convertito = pd.read_csv(PATH_INCIDENTI_CONVERTITO)"
   ]
  },
  {
   "cell_type": "code",
   "execution_count": null,
   "id": "a82c5ef0",
   "metadata": {},
   "outputs": [],
   "source": [
    "# Prendiamo solo Milano\n",
    "df_incidenti_convertito = df_incidenti_convertito[(df_incidenti_convertito[\"provincia\"] == 15) & (df_incidenti_convertito[\"comune\"] == 146)]"
   ]
  },
  {
   "cell_type": "code",
   "execution_count": 14,
   "id": "b393d858",
   "metadata": {},
   "outputs": [],
   "source": [
    "colonne = [\n",
    "    \"organo_di_rilevazione\",\n",
    "    \"localizzazione_incidente\",\n",
    "    \"denominazione_della_strada\",\n",
    "    \"tronco_di_strada_o_autostrada\",\n",
    "    \"tipo_di_strada\",\n",
    "    \"pavimentazione\",\n",
    "    \"intersezione_o_non_interse3\",\n",
    "    \"fondo_stradale\",\n",
    "    \"segnaletica\",\n",
    "    \"natura_incidente\",\n",
    "    \"tipo_veicolo_a\",\n",
    "    \"tipo_veicoli__b_\",\n",
    "    \"tipo_veicolo__c_\",\n",
    "    \"descrizione_strada\",\n",
    "    \"chilometri\",\n",
    "    \"ettometrica\"\n",
    "]\n",
    "df = df_incidenti_convertito[colonne]"
   ]
  },
  {
   "cell_type": "code",
   "execution_count": 15,
   "id": "ca74adfc",
   "metadata": {},
   "outputs": [
    {
     "data": {
      "text/html": [
       "<div>\n",
       "<style scoped>\n",
       "    .dataframe tbody tr th:only-of-type {\n",
       "        vertical-align: middle;\n",
       "    }\n",
       "\n",
       "    .dataframe tbody tr th {\n",
       "        vertical-align: top;\n",
       "    }\n",
       "\n",
       "    .dataframe thead th {\n",
       "        text-align: right;\n",
       "    }\n",
       "</style>\n",
       "<table border=\"1\" class=\"dataframe\">\n",
       "  <thead>\n",
       "    <tr style=\"text-align: right;\">\n",
       "      <th></th>\n",
       "      <th>organo_di_rilevazione</th>\n",
       "      <th>localizzazione_incidente</th>\n",
       "      <th>denominazione_della_strada</th>\n",
       "      <th>tronco_di_strada_o_autostrada</th>\n",
       "      <th>tipo_di_strada</th>\n",
       "      <th>pavimentazione</th>\n",
       "      <th>intersezione_o_non_interse3</th>\n",
       "      <th>fondo_stradale</th>\n",
       "      <th>segnaletica</th>\n",
       "      <th>natura_incidente</th>\n",
       "      <th>tipo_veicolo_a</th>\n",
       "      <th>tipo_veicoli__b_</th>\n",
       "      <th>tipo_veicolo__c_</th>\n",
       "      <th>descrizione_strada</th>\n",
       "      <th>chilometri</th>\n",
       "      <th>ettometrica</th>\n",
       "    </tr>\n",
       "  </thead>\n",
       "  <tbody>\n",
       "  </tbody>\n",
       "</table>\n",
       "</div>"
      ],
      "text/plain": [
       "Empty DataFrame\n",
       "Columns: [organo_di_rilevazione, localizzazione_incidente, denominazione_della_strada, tronco_di_strada_o_autostrada, tipo_di_strada, pavimentazione, intersezione_o_non_interse3, fondo_stradale, segnaletica, natura_incidente, tipo_veicolo_a, tipo_veicoli__b_, tipo_veicolo__c_, descrizione_strada, chilometri, ettometrica]\n",
       "Index: []"
      ]
     },
     "execution_count": 15,
     "metadata": {},
     "output_type": "execute_result"
    }
   ],
   "source": [
    "df = df[df[\"denominazione_della_strada\"].map(lambda x: x.strip() != \"\")]\n",
    "df"
   ]
  }
 ],
 "metadata": {
  "kernelspec": {
   "display_name": ".venv",
   "language": "python",
   "name": "python3"
  },
  "language_info": {
   "codemirror_mode": {
    "name": "ipython",
    "version": 3
   },
   "file_extension": ".py",
   "mimetype": "text/x-python",
   "name": "python",
   "nbconvert_exporter": "python",
   "pygments_lexer": "ipython3",
   "version": "3.13.2"
  }
 },
 "nbformat": 4,
 "nbformat_minor": 5
}
