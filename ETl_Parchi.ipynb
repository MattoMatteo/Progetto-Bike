{
 "cells": [
  {
   "cell_type": "code",
   "execution_count": 12,
   "id": "ed0d79db",
   "metadata": {},
   "outputs": [],
   "source": [
    "import pandas as pd\n",
    "\n",
    "PATH_PARCHI = \"./Data/Raw/Punti_di_interese/parchi.csv\"\n",
    "\n",
    "df = pd.read_csv(PATH_PARCHI, sep=\";\")\n",
    "df = df.drop_duplicates().reset_index()"
   ]
  },
  {
   "cell_type": "code",
   "execution_count": null,
   "id": "748bfd12",
   "metadata": {},
   "outputs": [],
   "source": [
    "lista_parco = df[\"PARCO\"].unique()\n",
    "for parco in lista_parco:\n",
    "    df_parco = df[df[\"PARCO\"] == parco]\n",
    "    print(df_parco)"
   ]
  },
  {
   "cell_type": "markdown",
   "id": "a5b83be1",
   "metadata": {},
   "source": [
    "### Proviamo con il dataset aree verdi milano"
   ]
  },
  {
   "cell_type": "code",
   "execution_count": 51,
   "id": "208ddc69",
   "metadata": {},
   "outputs": [],
   "source": [
    "import fiona\n",
    "import json\n",
    "\n",
    "PATH_PARCHI_SHP = \"./Data/Raw/Punti_di_interesse/Parchi/Parchi_WGS84_Milano_1.shp\"\n",
    "PATH_PARCHI_SHP_JSON = \"./Data/Clean/Punti_di_interesse/Parchi/Parchi_WGS84_Milano_1.geojson\"\n",
    "\n",
    "with fiona.open(PATH_PARCHI_SHP, 'r') as src:\n",
    "    with fiona.open(PATH_PARCHI_SHP_JSON, 'w', driver='GeoJSON', crs=src.crs, schema=src.schema) as dst:\n",
    "        for feature in src:\n",
    "            if feature[\"geometry\"][\"type\"] == \"Polygon\":\n",
    "                dst.write(feature)\n",
    "        \n",
    "with open(PATH_PARCHI_SHP_JSON, 'r') as file:\n",
    "    file_json = json.load(file)\n",
    "    \n",
    "with open(PATH_PARCHI_SHP_JSON, 'w') as file:\n",
    "    json.dump(file_json, file, indent=4)\n"
   ]
  }
 ],
 "metadata": {
  "kernelspec": {
   "display_name": ".venv",
   "language": "python",
   "name": "python3"
  },
  "language_info": {
   "codemirror_mode": {
    "name": "ipython",
    "version": 3
   },
   "file_extension": ".py",
   "mimetype": "text/x-python",
   "name": "python",
   "nbconvert_exporter": "python",
   "pygments_lexer": "ipython3",
   "version": "3.13.2"
  }
 },
 "nbformat": 4,
 "nbformat_minor": 5
}
