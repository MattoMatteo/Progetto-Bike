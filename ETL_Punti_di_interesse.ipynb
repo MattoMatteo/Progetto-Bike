{
 "cells": [
  {
   "cell_type": "markdown",
   "id": "95ff2939",
   "metadata": {},
   "source": [
    "# ETL Punti di interesse"
   ]
  },
  {
   "cell_type": "markdown",
   "id": "b80e93a3",
   "metadata": {},
   "source": [
    "### ETL Municipi"
   ]
  },
  {
   "cell_type": "markdown",
   "id": "0642df14",
   "metadata": {},
   "source": [
    "Carichiamo il file .shp (shape file) e scriviamolo in Clean in formato geojson"
   ]
  },
  {
   "cell_type": "code",
   "execution_count": null,
   "id": "5e165188",
   "metadata": {},
   "outputs": [],
   "source": [
    "import fiona\n",
    "import fiona.transform\n",
    "import json\n",
    "\n",
    "PATH_MUNICIPI = \"./Data/Raw/Punti_di_interesse/Municipi/Municipi.shp\"\n",
    "PATH_MUNICIPI_JSON = \"./Data/Clean/Punti_di_interesse/Municipi.geojson\"\n",
    "\n",
    "src_crs = 'EPSG:6707'\n",
    "dst_crs = 'EPSG:4326'\n",
    "\n",
    "with fiona.open(PATH_MUNICIPI, 'r') as src:\n",
    "    with fiona.open(PATH_MUNICIPI_JSON, 'w', driver='GeoJSON', crs=src.crs, schema=src.schema) as dst:\n",
    "        for feature in src:\n",
    "            feature['geometry'] = fiona.transform.transform_geom(\n",
    "                src_crs,\n",
    "                dst_crs,\n",
    "                feature['geometry']\n",
    "            )\n",
    "            dst.write(feature)\n",
    "\n",
    "# Solo per una corretta indentazione\n",
    "with open(PATH_MUNICIPI_JSON, 'r') as file:\n",
    "    file_json = json.load(file)\n",
    "\n",
    "with open(PATH_MUNICIPI_JSON, 'w') as file:\n",
    "    json.dump(file_json, file, indent=4)"
   ]
  },
  {
   "cell_type": "markdown",
   "id": "bb451ef2",
   "metadata": {},
   "source": [
    "### ETL PARCHI"
   ]
  },
  {
   "cell_type": "markdown",
   "id": "13fa474b",
   "metadata": {},
   "source": [
    "Carichiamo il file .shp (shape file) e scriviamolo in Clean in formato geojson"
   ]
  },
  {
   "cell_type": "code",
   "execution_count": 1,
   "id": "ebd47a40",
   "metadata": {},
   "outputs": [],
   "source": [
    "import fiona\n",
    "import json\n",
    "\n",
    "PATH_PARCHI_SHP = \"./Data/Raw/Punti_di_interesse/Parchi/Parchi_WGS84_Milano_1.shp\"\n",
    "PATH_PARCHI_SHP_JSON = \"./Data/Clean/Punti_di_interesse/parchi.geojson\"\n",
    "\n",
    "with fiona.open(PATH_PARCHI_SHP, 'r') as src:\n",
    "    with fiona.open(PATH_PARCHI_SHP_JSON, 'w', driver='GeoJSON', crs=src.crs, schema=src.schema) as dst:\n",
    "        for feature in src:\n",
    "            if feature[\"geometry\"][\"type\"] == \"Polygon\":\n",
    "                dst.write(feature)\n",
    "\n",
    "# Solo per una corretta indentazione\n",
    "with open(PATH_PARCHI_SHP_JSON, 'r') as file:\n",
    "    file_json = json.load(file)\n",
    "    \n",
    "with open(PATH_PARCHI_SHP_JSON, 'w') as file:\n",
    "    json.dump(file_json, file, indent=4)"
   ]
  }
 ],
 "metadata": {
  "kernelspec": {
   "display_name": ".venv",
   "language": "python",
   "name": "python3"
  },
  "language_info": {
   "codemirror_mode": {
    "name": "ipython",
    "version": 3
   },
   "file_extension": ".py",
   "mimetype": "text/x-python",
   "name": "python",
   "nbconvert_exporter": "python",
   "pygments_lexer": "ipython3",
   "version": "3.13.2"
  }
 },
 "nbformat": 4,
 "nbformat_minor": 5
}
