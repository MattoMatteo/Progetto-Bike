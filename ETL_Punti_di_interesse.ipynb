{
 "cells": [
  {
   "cell_type": "markdown",
   "id": "95ff2939",
   "metadata": {},
   "source": [
    "# ETL Punti di interesse"
   ]
  },
  {
   "cell_type": "markdown",
   "id": "b80e93a3",
   "metadata": {},
   "source": [
    "### Municipi"
   ]
  },
  {
   "cell_type": "markdown",
   "id": "0642df14",
   "metadata": {},
   "source": [
    "Carichiamo il file .shp (shape file) e scriviamolo in Clean in formato geojson"
   ]
  },
  {
   "cell_type": "code",
   "execution_count": null,
   "id": "5e165188",
   "metadata": {},
   "outputs": [],
   "source": [
    "import fiona\n",
    "import fiona.transform\n",
    "import json\n",
    "\n",
    "PATH_MUNICIPI = \"./Data/Raw/Punti_di_interesse/Municipi/Municipi.shp\"\n",
    "PATH_MUNICIPI_JSON = \"./Data/Clean/Punti_di_interesse/Municipi.geojson\"\n",
    "\n",
    "src_crs = 'EPSG:6707'\n",
    "dst_crs = 'EPSG:4326'\n",
    "\n",
    "with fiona.open(PATH_MUNICIPI, 'r') as src:\n",
    "    with fiona.open(PATH_MUNICIPI_JSON, 'w', driver='GeoJSON', crs=src.crs, schema=src.schema) as dst:\n",
    "        for feature in src:\n",
    "            feature['geometry'] = fiona.transform.transform_geom(\n",
    "                src_crs,\n",
    "                dst_crs,\n",
    "                feature['geometry']\n",
    "            )\n",
    "            dst.write(feature)\n",
    "\n",
    "# Solo per una corretta indentazione\n",
    "with open(PATH_MUNICIPI_JSON, 'r') as file:\n",
    "    file_json = json.load(file)\n",
    "\n",
    "with open(PATH_MUNICIPI_JSON, 'w') as file:\n",
    "    json.dump(file_json, file, indent=4)"
   ]
  },
  {
   "cell_type": "markdown",
   "id": "bb451ef2",
   "metadata": {},
   "source": [
    "### PARCHI"
   ]
  },
  {
   "cell_type": "markdown",
   "id": "13fa474b",
   "metadata": {},
   "source": [
    "Carichiamo il file .shp (shape file) e scriviamolo in Clean in formato geojson"
   ]
  },
  {
   "cell_type": "code",
   "execution_count": 1,
   "id": "ebd47a40",
   "metadata": {},
   "outputs": [],
   "source": [
    "import fiona\n",
    "import json\n",
    "\n",
    "PATH_PARCHI_SHP = \"./Data/Raw/Punti_di_interesse/Parchi/Parchi_WGS84_Milano_1.shp\"\n",
    "PATH_PARCHI_SHP_JSON = \"./Data/Clean/Punti_di_interesse/parchi.geojson\"\n",
    "\n",
    "with fiona.open(PATH_PARCHI_SHP, 'r') as src:\n",
    "    with fiona.open(PATH_PARCHI_SHP_JSON, 'w', driver='GeoJSON', crs=src.crs, schema=src.schema) as dst:\n",
    "        for feature in src:\n",
    "            if feature[\"geometry\"][\"type\"] == \"Polygon\":\n",
    "                dst.write(feature)\n",
    "\n",
    "# Solo per una corretta indentazione\n",
    "with open(PATH_PARCHI_SHP_JSON, 'r') as file:\n",
    "    file_json = json.load(file)\n",
    "    \n",
    "with open(PATH_PARCHI_SHP_JSON, 'w') as file:\n",
    "    json.dump(file_json, file, indent=4)"
   ]
  },
  {
   "cell_type": "markdown",
   "id": "fad5fee3",
   "metadata": {},
   "source": [
    "### Fontane"
   ]
  },
  {
   "cell_type": "markdown",
   "id": "66bcd62a",
   "metadata": {},
   "source": [
    "Carichiamo Raw csv"
   ]
  },
  {
   "cell_type": "code",
   "execution_count": 12,
   "id": "033ad7d0",
   "metadata": {},
   "outputs": [
    {
     "name": "stderr",
     "output_type": "stream",
     "text": [
      "c:\\Matteo\\Coding\\Project\\Progetto Esame BI\\.venv\\Lib\\site-packages\\pyogrio\\raw.py:198: RuntimeWarning: driver CSV does not support open option SEP\n",
      "  return ogr_read(\n"
     ]
    }
   ],
   "source": [
    "import geopandas as gpd\n",
    "\n",
    "PATH_FONTANE_RAW = \"./Data/Raw/Punti_di_interesse/fontane.csv\"\n",
    "df = gpd.read_file(PATH_FONTANE_RAW, sep=\";\")"
   ]
  },
  {
   "cell_type": "markdown",
   "id": "f841ce55",
   "metadata": {},
   "source": [
    "Ridenominazione colonne"
   ]
  },
  {
   "cell_type": "code",
   "execution_count": 13,
   "id": "5918b153",
   "metadata": {},
   "outputs": [],
   "source": [
    "df = df.rename(columns = {'objectID':'id_fontane',\n",
    "                           'MUNICIPIO':'municipio',\n",
    "                           'ID_NIL': 'id_nome',\n",
    "                           'NIL': \"nome\",\n",
    "                           'LONG_X_4326':'longitudine',\n",
    "                           'LAT_Y_4326': 'latitudine',\n",
    "                           'Location':'location'})"
   ]
  },
  {
   "cell_type": "markdown",
   "id": "9b1dbc70",
   "metadata": {},
   "source": [
    "Aggiunta icona per visualizzazione su kepler"
   ]
  },
  {
   "cell_type": "code",
   "execution_count": 14,
   "id": "a98e041b",
   "metadata": {},
   "outputs": [],
   "source": [
    "df['icon'] = \"events\""
   ]
  },
  {
   "cell_type": "markdown",
   "id": "82fb78d8",
   "metadata": {},
   "source": [
    "Conversione da csv a geojson"
   ]
  },
  {
   "cell_type": "code",
   "execution_count": 16,
   "id": "f1c726c9",
   "metadata": {},
   "outputs": [],
   "source": [
    "geojson = {\n",
    "    \"type\": \"FeatureCollection\",\n",
    "    \"name\": \"\",\n",
    "    \"crs\": {\n",
    "        \"type\": \"name\",\n",
    "        \"properties\": {\n",
    "            \"name\": \"urn:ogc:def:crs:EPSG::6707\"\n",
    "        }\n",
    "    },\n",
    "    \"features\": []\n",
    "}\n",
    "geojson[\"name\"] = \"Fontane\"\n",
    "for i in df.index:\n",
    "    feature = {\n",
    "        \"type\": \"Feature\",\n",
    "        \"properties\": {},\n",
    "        \"geometry\": {\n",
    "            \"type\": \"\",\n",
    "            \"coordinates\": []\n",
    "            }\n",
    "        }\n",
    "    for j in df.columns:\n",
    "        if j == \"location\":\n",
    "            feature[\"geometry\"][\"type\"] = \"Point\"\n",
    "            coordinates = df.at[i, j].strip(\"(\").strip(\")\").strip().split(\",\")\n",
    "            feature[\"geometry\"][\"coordinates\"].append(float(coordinates[1]))\n",
    "            feature[\"geometry\"][\"coordinates\"].append(float(coordinates[0]))\n",
    "        else:\n",
    "            feature[\"properties\"][j] = df.at[i, j]\n",
    "    geojson[\"features\"].append(feature)"
   ]
  },
  {
   "cell_type": "markdown",
   "id": "14ba8c6d",
   "metadata": {},
   "source": [
    "Salviamo geojson in Clean"
   ]
  },
  {
   "cell_type": "code",
   "execution_count": 17,
   "id": "48656c49",
   "metadata": {},
   "outputs": [],
   "source": [
    "import json\n",
    "PATH_FONTANE_GEOJSON = \"./Data/Clean/Punti_di_interesse/fontane.geojson\"\n",
    "with open(PATH_FONTANE_GEOJSON, 'w') as file:\n",
    "    json.dump(geojson, file, indent=4)"
   ]
  }
 ],
 "metadata": {
  "kernelspec": {
   "display_name": ".venv",
   "language": "python",
   "name": "python3"
  },
  "language_info": {
   "codemirror_mode": {
    "name": "ipython",
    "version": 3
   },
   "file_extension": ".py",
   "mimetype": "text/x-python",
   "name": "python",
   "nbconvert_exporter": "python",
   "pygments_lexer": "ipython3",
   "version": "3.13.2"
  }
 },
 "nbformat": 4,
 "nbformat_minor": 5
}
