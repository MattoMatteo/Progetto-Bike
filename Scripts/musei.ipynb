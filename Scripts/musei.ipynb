{
 "cells": [
  {
   "cell_type": "code",
   "execution_count": 1,
   "id": "f974313b",
   "metadata": {},
   "outputs": [],
   "source": [
    "import pandas as pd\n",
    "import geopandas as gpd\n",
    "from shapely.geometry import Point"
   ]
  },
  {
   "cell_type": "code",
   "execution_count": 2,
   "id": "2335c41e",
   "metadata": {},
   "outputs": [
    {
     "name": "stderr",
     "output_type": "stream",
     "text": [
      "<>:1: SyntaxWarning: invalid escape sequence '\\D'\n",
      "<>:1: SyntaxWarning: invalid escape sequence '\\D'\n",
      "C:\\Users\\apera\\AppData\\Local\\Temp\\ipykernel_5616\\2157352143.py:1: SyntaxWarning: invalid escape sequence '\\D'\n",
      "  PATH_MUSEI_RAW = \"..\\Data\\Raw\\Punti_di_interesse\\musei_raw.json\"\n"
     ]
    }
   ],
   "source": [
    "PATH_MUSEI_RAW = \"..\\Data\\Raw\\Punti_di_interesse\\musei_raw.json\""
   ]
  },
  {
   "cell_type": "code",
   "execution_count": null,
   "id": "71e95b6e",
   "metadata": {},
   "outputs": [],
   "source": [
    "df = pd.read_json(PATH_MUSEI_RAW)\n",
    "\n",
    "df_milano = df[df['ccomune'] == 'Milano']\n",
    "\n",
    "print(df_milano)"
   ]
  },
  {
   "cell_type": "code",
   "execution_count": null,
   "id": "61ac30ef",
   "metadata": {},
   "outputs": [],
   "source": [
    "df_milano['geometry'] = df.apply(lambda row: Point(row['clongitudine'], row['clatitudine']), axis=1)\n",
    "\n",
    "gdf = gpd.GeoDataFrame(df_milano, geometry='geometry', crs='EPSG:4326')\n",
    "\n",
    "gdf.to_file(\"..\\Data\\Clean\\Punti_di_interesse\\musei_milano.geojson\", driver=\"GeoJSON\")"
   ]
  }
 ],
 "metadata": {
  "kernelspec": {
   "display_name": ".venv",
   "language": "python",
   "name": "python3"
  },
  "language_info": {
   "codemirror_mode": {
    "name": "ipython",
    "version": 3
   },
   "file_extension": ".py",
   "mimetype": "text/x-python",
   "name": "python",
   "nbconvert_exporter": "python",
   "pygments_lexer": "ipython3",
   "version": "3.13.5"
  }
 },
 "nbformat": 4,
 "nbformat_minor": 5
}
