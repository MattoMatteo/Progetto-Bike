{
 "cells": [
  {
   "cell_type": "code",
   "execution_count": 1,
   "id": "f974313b",
   "metadata": {},
   "outputs": [],
   "source": [
    "import pandas as pd\n",
    "import geopandas as gpd\n",
    "from shapely.geometry import Point"
   ]
  },
  {
   "cell_type": "code",
   "execution_count": 2,
   "id": "2335c41e",
   "metadata": {},
   "outputs": [
    {
     "name": "stderr",
     "output_type": "stream",
     "text": [
      "<>:1: SyntaxWarning: invalid escape sequence '\\D'\n",
      "<>:1: SyntaxWarning: invalid escape sequence '\\D'\n",
      "C:\\Users\\apera\\AppData\\Local\\Temp\\ipykernel_5616\\2157352143.py:1: SyntaxWarning: invalid escape sequence '\\D'\n",
      "  PATH_MUSEI_RAW = \"..\\Data\\Raw\\Punti_di_interesse\\musei_raw.json\"\n"
     ]
    }
   ],
   "source": [
    "PATH_MUSEI_RAW = \"..\\Data\\Raw\\Punti_di_interesse\\musei_raw.json\""
   ]
  },
  {
   "cell_type": "code",
   "execution_count": null,
   "id": "71e95b6e",
   "metadata": {},
   "outputs": [
    {
     "name": "stdout",
     "output_type": "stream",
     "text": [
      "    ccomune cprovincia   cregione  \\\n",
      "247  Milano     MILANO  Lombardia   \n",
      "248  Milano     MILANO  Lombardia   \n",
      "249  Milano     MILANO  Lombardia   \n",
      "250  Milano     MILANO  Lombardia   \n",
      "251  Milano     MILANO  Lombardia   \n",
      "252  Milano     MILANO  Lombardia   \n",
      "253  Milano     MILANO  Lombardia   \n",
      "254  Milano     MILANO  Lombardia   \n",
      "255  Milano     MILANO  Lombardia   \n",
      "256  Milano     MILANO  Lombardia   \n",
      "257  Milano     MILANO  Lombardia   \n",
      "258  Milano     MILANO  Lombardia   \n",
      "259  Milano     MILANO  Lombardia   \n",
      "260  Milano     MILANO  Lombardia   \n",
      "261  Milano     MILANO  Lombardia   \n",
      "262  Milano     MILANO  Lombardia   \n",
      "263  Milano     MILANO  Lombardia   \n",
      "264  Milano     MILANO  Lombardia   \n",
      "265  Milano     MILANO  Lombardia   \n",
      "266  Milano     MILANO  Lombardia   \n",
      "267  Milano     MILANO  Lombardia   \n",
      "268  Milano     MILANO  Lombardia   \n",
      "269  Milano     MILANO  Lombardia   \n",
      "270  Milano     MILANO  Lombardia   \n",
      "271  Milano     MILANO  Lombardia   \n",
      "272  Milano     MILANO  Lombardia   \n",
      "273  Milano     MILANO  Lombardia   \n",
      "274  Milano     MILANO  Lombardia   \n",
      "\n",
      "                                               cnome  canno_inserimento  \\\n",
      "247                     Casa-museo Boschi Di Stefano               2013   \n",
      "248  Civica raccolta delle stampe Achille Bertarelli               2014   \n",
      "249                                 Fondazione Prada               2015   \n",
      "250                                    Forma Gallery               2012   \n",
      "251                                Gallerie d'Italia               2013   \n",
      "252                               Musei del Castello               2014   \n",
      "253                       Museo Astronomico di Brera               2015   \n",
      "254                          Museo Bagatti Valsecchi               2014   \n",
      "255                              Museo d'arte antica               2014   \n",
      "256                   Museo degli Strumenti Musicali               2014   \n",
      "257         Museo dei Mobili e delle Sculture Lignee               2014   \n",
      "258                                    Museo del 900               2014   \n",
      "259                      Museo del Cenacolo Vinciano               2015   \n",
      "260                              Museo delle culture               2016   \n",
      "261                        Museo Diocesano di Milano               2015   \n",
      "262                          Museo di Sant'Eustorgio               2012   \n",
      "263                                     Museo egizio               2014   \n",
      "264                          Museo Francesco Messina               2014   \n",
      "265                     Museo Interattivo del Cinema               2013   \n",
      "266                       Museo Macchina da Scrivere               2015   \n",
      "267                             Museo Mangimi Bonomi               2012   \n",
      "268                            Museo Piet� Rondanini               2015   \n",
      "269                              Museo Poldi Pezzoli               2013   \n",
      "270                        Museo Teatrale alla Scala               2013   \n",
      "271                            Pinacoteca Ambrosiana               2014   \n",
      "272                Pinacoteca del Castello Sforzesco               2014   \n",
      "273                              Pinacoteca di Brera               2015   \n",
      "274                           Sacrestia del Bramante               2014   \n",
      "\n",
      "    cdata_e_ora_inserimento  cidentificatore_in_openstreetmap  clongitudine  \\\n",
      "247    2013-11-30T21:20:39Z                        2531211706      9.211752   \n",
      "248    2014-01-27T22:31:42Z                        2531219644      9.179621   \n",
      "249    2015-04-16T13:24:32Z                        3459343420      9.204460   \n",
      "250    2012-01-12T13:52:54Z                        1587037621      9.183523   \n",
      "251    2013-11-13T20:34:19Z                        2324825968      9.190526   \n",
      "252    2014-08-01T10:51:50Z                        1852190911      9.179290   \n",
      "253    2015-02-25T15:56:53Z                        2153388340      9.189347   \n",
      "254    2014-07-06T17:15:56Z                        2531365878      9.195266   \n",
      "255    2014-08-01T10:51:50Z                        2535106339      9.179361   \n",
      "256    2014-08-01T10:51:50Z                        2531406270      9.178965   \n",
      "257    2014-08-01T10:51:50Z                        2531420511      9.179020   \n",
      "258    2014-06-30T18:35:33Z                        1223091032      9.190107   \n",
      "259    2015-12-05T17:02:21Z                        1761156826      9.170655   \n",
      "260    2016-02-17T11:48:13Z                        4010994767      9.161319   \n",
      "261    2015-02-06T16:17:54Z                        1898336420      9.181226   \n",
      "262    2012-09-04T13:41:48Z                        1898336423      9.181260   \n",
      "263    2014-12-10T15:53:06Z                        2529645009      9.179757   \n",
      "264    2014-07-06T19:14:28Z                        1003848278      9.181653   \n",
      "265    2013-11-05T23:39:18Z                        2521648565      9.203947   \n",
      "266    2015-03-13T10:54:16Z                        2915890116      9.187286   \n",
      "267    2012-07-24T16:59:46Z                        1836751671      9.185209   \n",
      "268    2015-12-26T08:52:24Z                        3910270284      9.178853   \n",
      "269    2013-07-29T16:36:43Z                        2400614071      9.191780   \n",
      "270    2013-02-24T21:16:09Z                        1828890767      9.189220   \n",
      "271    2014-06-30T18:35:34Z                        2535087543      9.186007   \n",
      "272    2014-08-01T10:51:50Z                        2537169197      9.179808   \n",
      "273    2015-01-12T14:44:20Z                        1029667846      9.188363   \n",
      "274    2014-04-07T22:01:13Z                        2776300548      9.171654   \n",
      "\n",
      "     clatitudine  \n",
      "247    45.479035  \n",
      "248    45.469361  \n",
      "249    45.444020  \n",
      "250    45.449420  \n",
      "251    45.467265  \n",
      "252    45.470567  \n",
      "253    45.471709  \n",
      "254    45.469632  \n",
      "255    45.470569  \n",
      "256    45.470251  \n",
      "257    45.470830  \n",
      "258    45.463497  \n",
      "259    45.466205  \n",
      "260    45.452045  \n",
      "261    45.455023  \n",
      "262    45.454122  \n",
      "263    45.470982  \n",
      "264    45.460959  \n",
      "265    45.513432  \n",
      "266    45.494606  \n",
      "267    45.463458  \n",
      "268    45.469698  \n",
      "269    45.468475  \n",
      "270    45.467257  \n",
      "271    45.463640  \n",
      "272    45.471032  \n",
      "273    45.472204  \n",
      "274    45.466191  \n"
     ]
    }
   ],
   "source": [
    "df = pd.read_json(PATH_MUSEI_RAW)\n",
    "\n",
    "df_milano = df[df['ccomune'] == 'Milano']\n",
    "\n",
    "print(df_milano)\n",
    "\n",
    "culo e palle"
   ]
  },
  {
   "cell_type": "code",
   "execution_count": 5,
   "id": "61ac30ef",
   "metadata": {},
   "outputs": [
    {
     "name": "stderr",
     "output_type": "stream",
     "text": [
      "<>:5: SyntaxWarning: invalid escape sequence '\\D'\n",
      "<>:5: SyntaxWarning: invalid escape sequence '\\D'\n",
      "C:\\Users\\apera\\AppData\\Local\\Temp\\ipykernel_5616\\2256483032.py:5: SyntaxWarning: invalid escape sequence '\\D'\n",
      "  gdf.to_file(\"..\\Data\\Clean\\Punti_di_interesse\\musei_milano.geojson\", driver=\"GeoJSON\")\n",
      "C:\\Users\\apera\\AppData\\Local\\Temp\\ipykernel_5616\\2256483032.py:1: SettingWithCopyWarning: \n",
      "A value is trying to be set on a copy of a slice from a DataFrame.\n",
      "Try using .loc[row_indexer,col_indexer] = value instead\n",
      "\n",
      "See the caveats in the documentation: https://pandas.pydata.org/pandas-docs/stable/user_guide/indexing.html#returning-a-view-versus-a-copy\n",
      "  df_milano['geometry'] = df.apply(lambda row: Point(row['clongitudine'], row['clatitudine']), axis=1)\n"
     ]
    }
   ],
   "source": [
    "df_milano['geometry'] = df.apply(lambda row: Point(row['clongitudine'], row['clatitudine']), axis=1)\n",
    "\n",
    "gdf = gpd.GeoDataFrame(df_milano, geometry='geometry', crs='EPSG:4326')\n",
    "\n",
    "gdf.to_file(\"..\\Data\\Clean\\Punti_di_interesse\\musei_milano.geojson\", driver=\"GeoJSON\")"
   ]
  }
 ],
 "metadata": {
  "kernelspec": {
   "display_name": ".venv",
   "language": "python",
   "name": "python3"
  },
  "language_info": {
   "codemirror_mode": {
    "name": "ipython",
    "version": 3
   },
   "file_extension": ".py",
   "mimetype": "text/x-python",
   "name": "python",
   "nbconvert_exporter": "python",
   "pygments_lexer": "ipython3",
   "version": "3.13.5"
  }
 },
 "nbformat": 4,
 "nbformat_minor": 5
}
