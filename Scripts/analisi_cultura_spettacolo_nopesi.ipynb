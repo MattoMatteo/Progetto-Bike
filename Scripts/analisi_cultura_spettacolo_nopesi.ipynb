{
 "cells": [
  {
   "cell_type": "code",
   "execution_count": 1,
   "id": "910337f6",
   "metadata": {},
   "outputs": [
    {
     "name": "stdout",
     "output_type": "stream",
     "text": [
      "Requirement already satisfied: geopandas in c:\\users\\apera\\onedrive\\documenti\\progetti\\progetto_bike\\.venv\\lib\\site-packages (1.1.1)\n",
      "Requirement already satisfied: numpy>=1.24 in c:\\users\\apera\\onedrive\\documenti\\progetti\\progetto_bike\\.venv\\lib\\site-packages (from geopandas) (2.3.1)\n",
      "Requirement already satisfied: pyogrio>=0.7.2 in c:\\users\\apera\\onedrive\\documenti\\progetti\\progetto_bike\\.venv\\lib\\site-packages (from geopandas) (0.11.1)\n",
      "Requirement already satisfied: packaging in c:\\users\\apera\\onedrive\\documenti\\progetti\\progetto_bike\\.venv\\lib\\site-packages (from geopandas) (25.0)\n",
      "Requirement already satisfied: pandas>=2.0.0 in c:\\users\\apera\\onedrive\\documenti\\progetti\\progetto_bike\\.venv\\lib\\site-packages (from geopandas) (2.3.1)\n",
      "Requirement already satisfied: pyproj>=3.5.0 in c:\\users\\apera\\onedrive\\documenti\\progetti\\progetto_bike\\.venv\\lib\\site-packages (from geopandas) (3.7.1)\n",
      "Requirement already satisfied: shapely>=2.0.0 in c:\\users\\apera\\onedrive\\documenti\\progetti\\progetto_bike\\.venv\\lib\\site-packages (from geopandas) (2.1.1)\n",
      "Requirement already satisfied: python-dateutil>=2.8.2 in c:\\users\\apera\\onedrive\\documenti\\progetti\\progetto_bike\\.venv\\lib\\site-packages (from pandas>=2.0.0->geopandas) (2.9.0.post0)\n",
      "Requirement already satisfied: pytz>=2020.1 in c:\\users\\apera\\onedrive\\documenti\\progetti\\progetto_bike\\.venv\\lib\\site-packages (from pandas>=2.0.0->geopandas) (2025.2)\n",
      "Requirement already satisfied: tzdata>=2022.7 in c:\\users\\apera\\onedrive\\documenti\\progetti\\progetto_bike\\.venv\\lib\\site-packages (from pandas>=2.0.0->geopandas) (2025.2)\n",
      "Requirement already satisfied: certifi in c:\\users\\apera\\onedrive\\documenti\\progetti\\progetto_bike\\.venv\\lib\\site-packages (from pyogrio>=0.7.2->geopandas) (2025.8.3)\n",
      "Requirement already satisfied: six>=1.5 in c:\\users\\apera\\onedrive\\documenti\\progetti\\progetto_bike\\.venv\\lib\\site-packages (from python-dateutil>=2.8.2->pandas>=2.0.0->geopandas) (1.17.0)\n",
      "Requirement already satisfied: osmnx in c:\\users\\apera\\onedrive\\documenti\\progetti\\progetto_bike\\.venv\\lib\\site-packages (2.0.5)\n",
      "Requirement already satisfied: geopandas>=1.0.1 in c:\\users\\apera\\onedrive\\documenti\\progetti\\progetto_bike\\.venv\\lib\\site-packages (from osmnx) (1.1.1)\n",
      "Requirement already satisfied: networkx>=2.5 in c:\\users\\apera\\onedrive\\documenti\\progetti\\progetto_bike\\.venv\\lib\\site-packages (from osmnx) (3.5)\n",
      "Requirement already satisfied: numpy>=1.22 in c:\\users\\apera\\onedrive\\documenti\\progetti\\progetto_bike\\.venv\\lib\\site-packages (from osmnx) (2.3.1)\n",
      "Requirement already satisfied: pandas>=1.4 in c:\\users\\apera\\onedrive\\documenti\\progetti\\progetto_bike\\.venv\\lib\\site-packages (from osmnx) (2.3.1)\n",
      "Requirement already satisfied: requests>=2.27 in c:\\users\\apera\\onedrive\\documenti\\progetti\\progetto_bike\\.venv\\lib\\site-packages (from osmnx) (2.32.4)\n",
      "Requirement already satisfied: shapely>=2.0 in c:\\users\\apera\\onedrive\\documenti\\progetti\\progetto_bike\\.venv\\lib\\site-packages (from osmnx) (2.1.1)\n",
      "Requirement already satisfied: pyogrio>=0.7.2 in c:\\users\\apera\\onedrive\\documenti\\progetti\\progetto_bike\\.venv\\lib\\site-packages (from geopandas>=1.0.1->osmnx) (0.11.1)\n",
      "Requirement already satisfied: packaging in c:\\users\\apera\\onedrive\\documenti\\progetti\\progetto_bike\\.venv\\lib\\site-packages (from geopandas>=1.0.1->osmnx) (25.0)\n",
      "Requirement already satisfied: pyproj>=3.5.0 in c:\\users\\apera\\onedrive\\documenti\\progetti\\progetto_bike\\.venv\\lib\\site-packages (from geopandas>=1.0.1->osmnx) (3.7.1)\n",
      "Requirement already satisfied: python-dateutil>=2.8.2 in c:\\users\\apera\\onedrive\\documenti\\progetti\\progetto_bike\\.venv\\lib\\site-packages (from pandas>=1.4->osmnx) (2.9.0.post0)\n",
      "Requirement already satisfied: pytz>=2020.1 in c:\\users\\apera\\onedrive\\documenti\\progetti\\progetto_bike\\.venv\\lib\\site-packages (from pandas>=1.4->osmnx) (2025.2)\n",
      "Requirement already satisfied: tzdata>=2022.7 in c:\\users\\apera\\onedrive\\documenti\\progetti\\progetto_bike\\.venv\\lib\\site-packages (from pandas>=1.4->osmnx) (2025.2)\n",
      "Requirement already satisfied: certifi in c:\\users\\apera\\onedrive\\documenti\\progetti\\progetto_bike\\.venv\\lib\\site-packages (from pyogrio>=0.7.2->geopandas>=1.0.1->osmnx) (2025.8.3)\n",
      "Requirement already satisfied: six>=1.5 in c:\\users\\apera\\onedrive\\documenti\\progetti\\progetto_bike\\.venv\\lib\\site-packages (from python-dateutil>=2.8.2->pandas>=1.4->osmnx) (1.17.0)\n",
      "Requirement already satisfied: charset_normalizer<4,>=2 in c:\\users\\apera\\onedrive\\documenti\\progetti\\progetto_bike\\.venv\\lib\\site-packages (from requests>=2.27->osmnx) (3.4.2)\n",
      "Requirement already satisfied: idna<4,>=2.5 in c:\\users\\apera\\onedrive\\documenti\\progetti\\progetto_bike\\.venv\\lib\\site-packages (from requests>=2.27->osmnx) (3.10)\n",
      "Requirement already satisfied: urllib3<3,>=1.21.1 in c:\\users\\apera\\onedrive\\documenti\\progetti\\progetto_bike\\.venv\\lib\\site-packages (from requests>=2.27->osmnx) (2.5.0)\n",
      "Requirement already satisfied: scipy in c:\\users\\apera\\onedrive\\documenti\\progetti\\progetto_bike\\.venv\\lib\\site-packages (1.16.1)\n",
      "Requirement already satisfied: numpy<2.6,>=1.25.2 in c:\\users\\apera\\onedrive\\documenti\\progetti\\progetto_bike\\.venv\\lib\\site-packages (from scipy) (2.3.1)\n"
     ]
    },
    {
     "name": "stderr",
     "output_type": "stream",
     "text": [
      "ERROR: unknown command \"installn\" - maybe you meant \"install\"\n",
      "\n"
     ]
    }
   ],
   "source": [
    "!pip install geopandas\n",
    "!pip install osmnx\n",
    "!pip install scipy\n",
    "!pip installn networkx"
   ]
  },
  {
   "cell_type": "code",
   "execution_count": 2,
   "id": "b9d327b4",
   "metadata": {},
   "outputs": [],
   "source": [
    "import pickle\n",
    "import json\n",
    "\n",
    "import geopandas as gpd\n",
    "import networkx as nx\n",
    "from networkx.algorithms.approximation import steiner_tree\n",
    "import osmnx as ox\n",
    "\n",
    "from my_paths import *\n",
    "import Graph_functions"
   ]
  },
  {
   "cell_type": "markdown",
   "id": "1999f79e",
   "metadata": {},
   "source": [
    "ANALISI CULTURA E SPETTACOLO SENZA PESI"
   ]
  },
  {
   "cell_type": "markdown",
   "id": "7f4dd7ef",
   "metadata": {},
   "source": [
    "Utilizzeremo i seguenti dati: \n",
    "\n",
    "1. **Musei**\n",
    "2. **Cinema**\n",
    "3. **Teatri**\n",
    "\n",
    "Saranno i nostri \"poi\", cioè \"Point of Interest\"\n",
    "che verranno aggiunti al Grafo della rete \n",
    "Ciclabile/Stradale per la ricerca di percorsi"
   ]
  },
  {
   "cell_type": "markdown",
   "id": "19123083",
   "metadata": {},
   "source": [
    "Carichiamo il Grafo di base della rete stradale/ciclabile"
   ]
  },
  {
   "cell_type": "code",
   "execution_count": 3,
   "id": "9f48dc27",
   "metadata": {},
   "outputs": [],
   "source": [
    "# Carichiamo Graph Ciclabili\n",
    "with open(PATH_RETE_CICLABILE_COMPLETA_PICKLE_CLEAN, \"rb\") as f:\n",
    "    G_strade_ciclabili = pickle.load(f)"
   ]
  },
  {
   "cell_type": "code",
   "execution_count": 4,
   "id": "adef3291",
   "metadata": {},
   "outputs": [],
   "source": [
    "G_compose = G_strade_ciclabili.copy()"
   ]
  },
  {
   "cell_type": "markdown",
   "id": "5a99b9bc",
   "metadata": {},
   "source": [
    "Rimuoviamo i pesi dalle strade"
   ]
  },
  {
   "cell_type": "code",
   "execution_count": 5,
   "id": "2a8db4c5",
   "metadata": {},
   "outputs": [],
   "source": [
    "\n",
    "for u, v, k in G_compose.edges(keys=True):\n",
    "    if G_compose[u][v][k][\"tipo\"] == \"Strade_ciclabili\":\n",
    "        G_compose[u][v][k]['weight'] = 1"
   ]
  },
  {
   "cell_type": "markdown",
   "id": "4d89e6d2",
   "metadata": {},
   "source": [
    "### Aggiunta di **musei** come **\"poi\"**"
   ]
  },
  {
   "cell_type": "markdown",
   "id": "7f996c67",
   "metadata": {},
   "source": [
    "1. Carichiamo il file dei musei da \"clean\"\n",
    "2. Utilizziamo **\"connect_poi_nodes_to_graph()\"** per connettere il geodataframe come \"poi\" al grafo delle strade/ciclabili."
   ]
  },
  {
   "cell_type": "code",
   "execution_count": 6,
   "id": "e1e5fefb",
   "metadata": {},
   "outputs": [],
   "source": [
    "gdf_musei = gpd.read_file(PATH_MUSEI_CLEAN)\n",
    "G_compose = Graph_functions.connect_poi_nodes_to_graph(G_compose, gdf_musei,\n",
    "                                                       tipo = \"Musei\",\n",
    "                                                       poi = True,\n",
    "                                                       artificial = True)"
   ]
  },
  {
   "cell_type": "markdown",
   "id": "16874754",
   "metadata": {},
   "source": [
    "### Aggiunta di **Teatri** come **\"poi\"**"
   ]
  },
  {
   "cell_type": "code",
   "execution_count": 7,
   "id": "03a25cca",
   "metadata": {},
   "outputs": [],
   "source": [
    "gdf_teatri = gpd.read_file(PATH_TEATRI_CLEAN)\n",
    "G_compose = Graph_functions.connect_poi_nodes_to_graph(G_compose, gdf_teatri,\n",
    "                                                       tipo = \"Teatri\",\n",
    "                                                       poi = True,\n",
    "                                                       artificial = True)"
   ]
  },
  {
   "cell_type": "markdown",
   "id": "57c35a1f",
   "metadata": {},
   "source": [
    "### Aggiunta di **Cinema** come **\"poi\"**"
   ]
  },
  {
   "cell_type": "code",
   "execution_count": 8,
   "id": "4d2edf75",
   "metadata": {},
   "outputs": [],
   "source": [
    "gdf_cinema = gpd.read_file(PATH_CINEMA_CLEAN)\n",
    "G_compose = Graph_functions.connect_poi_nodes_to_graph(G_compose, gdf_cinema,\n",
    "                                                       tipo = \"Cinema\", \n",
    "                                                       poi = True,\n",
    "                                                       artificial = True)"
   ]
  },
  {
   "cell_type": "markdown",
   "id": "4916467a",
   "metadata": {},
   "source": [
    "## Utilizziamo algoritmo di **Steiner Tree**"
   ]
  },
  {
   "cell_type": "code",
   "execution_count": 9,
   "id": "dd91995a",
   "metadata": {},
   "outputs": [],
   "source": [
    "poi_nodes = [n for n, d in G_compose.nodes(data=True) if d.get(\"poi\") == True]\n",
    "G_cultura_e_spettacollo = nx.MultiDiGraph(steiner_tree(G_compose, terminal_nodes=poi_nodes, weight='weight'))"
   ]
  },
  {
   "cell_type": "markdown",
   "id": "66f96095",
   "metadata": {},
   "source": [
    "Risultato lo salviamo in Clean di Analisi (per ora anche il pickle in staging) in geojson pronto da visualizzare"
   ]
  },
  {
   "cell_type": "code",
   "execution_count": null,
   "id": "5ddf0850",
   "metadata": {},
   "outputs": [],
   "source": [
    "with open(\"../Data/Staging/Analisi/Cultura_e_spettacolo_nopesi.pickle\", \"wb\") as f:\n",
    "    pickle.dump(G_cultura_e_spettacollo, f)\n",
    "\n",
    "gdf_steiner = ox.graph_to_gdfs(G_cultura_e_spettacollo, edges=True, nodes=False)\n",
    "gdf_steiner.to_file(\"../Data/Clean/Analisi/Cultura_e_spettacolo_nopesi.pickle\", driver=\"GeoJSON\")"
   ]
  }
 ],
 "metadata": {
  "kernelspec": {
   "display_name": ".venv",
   "language": "python",
   "name": "python3"
  },
  "language_info": {
   "codemirror_mode": {
    "name": "ipython",
    "version": 3
   },
   "file_extension": ".py",
   "mimetype": "text/x-python",
   "name": "python",
   "nbconvert_exporter": "python",
   "pygments_lexer": "ipython3",
   "version": "3.13.5"
  }
 },
 "nbformat": 4,
 "nbformat_minor": 5
}
