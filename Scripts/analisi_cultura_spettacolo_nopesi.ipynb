{
 "cells": [
  {
   "cell_type": "code",
   "execution_count": 1,
   "id": "b9d327b4",
   "metadata": {},
   "outputs": [],
   "source": [
    "import pickle\n",
    "import json\n",
    "\n",
    "import geopandas as gpd\n",
    "import networkx as nx\n",
    "from networkx.algorithms.approximation import steiner_tree\n",
    "import osmnx as ox\n",
    "\n",
    "from my_paths import *\n",
    "import Graph_functions"
   ]
  },
  {
   "cell_type": "markdown",
   "id": "1999f79e",
   "metadata": {},
   "source": [
    "ANALISI CULTURA E SPETTACOLO SENZA PESI"
   ]
  },
  {
   "cell_type": "markdown",
   "id": "7f4dd7ef",
   "metadata": {},
   "source": [
    "Utilizzeremo i seguenti dati: \n",
    "\n",
    "1. **Musei**\n",
    "2. **Cinema**\n",
    "3. **Teatri**\n",
    "\n",
    "Saranno i nostri \"poi\", cioè \"Point of Interest\"\n",
    "che verranno aggiunti al Grafo della rete \n",
    "Ciclabile/Stradale per la ricerca di percorsi"
   ]
  },
  {
   "cell_type": "markdown",
   "id": "19123083",
   "metadata": {},
   "source": [
    "Carichiamo il Grafo di base della rete stradale/ciclabile"
   ]
  },
  {
   "cell_type": "code",
   "execution_count": 2,
   "id": "9f48dc27",
   "metadata": {},
   "outputs": [],
   "source": [
    "# Carichiamo Graph Ciclabili\n",
    "with open(PATH_RETE_CICLABILE_COMPLETA_PICKLE_CLEAN, \"rb\") as f:\n",
    "    G_strade_ciclabili = pickle.load(f)"
   ]
  },
  {
   "cell_type": "code",
   "execution_count": 3,
   "id": "adef3291",
   "metadata": {},
   "outputs": [],
   "source": [
    "G_compose = G_strade_ciclabili.copy()"
   ]
  },
  {
   "cell_type": "markdown",
   "id": "5a99b9bc",
   "metadata": {},
   "source": [
    "Rimuoviamo i pesi dalle strade"
   ]
  },
  {
   "cell_type": "code",
   "execution_count": 4,
   "id": "2a8db4c5",
   "metadata": {},
   "outputs": [],
   "source": [
    "\n",
    "for u, v, k in G_compose.edges(keys=True):\n",
    "    if G_compose[u][v][k][\"tipo\"] == \"Strade_ciclabili\":\n",
    "        G_compose[u][v][k]['weight'] = 1"
   ]
  },
  {
   "cell_type": "markdown",
   "id": "4d89e6d2",
   "metadata": {},
   "source": [
    "### Aggiunta di **musei** come **\"poi\"**"
   ]
  },
  {
   "cell_type": "markdown",
   "id": "7f996c67",
   "metadata": {},
   "source": [
    "1. Carichiamo il file dei musei da \"clean\"\n",
    "2. Utilizziamo **\"connect_poi_nodes_to_graph()\"** per connettere il geodataframe come \"poi\" al grafo delle strade/ciclabili."
   ]
  },
  {
   "cell_type": "code",
   "execution_count": 5,
   "id": "e1e5fefb",
   "metadata": {},
   "outputs": [],
   "source": [
    "gdf_musei = gpd.read_file(PATH_MUSEI_CLEAN)\n",
    "G_compose = Graph_functions.connect_poi_nodes_to_graph(G_compose, gdf_musei,\n",
    "                                                       tipo = \"Musei\",\n",
    "                                                       poi = True,\n",
    "                                                       artificial = True)"
   ]
  },
  {
   "cell_type": "markdown",
   "id": "16874754",
   "metadata": {},
   "source": [
    "### Aggiunta di **Teatri** come **\"poi\"**"
   ]
  },
  {
   "cell_type": "code",
   "execution_count": 6,
   "id": "03a25cca",
   "metadata": {},
   "outputs": [],
   "source": [
    "gdf_teatri = gpd.read_file(PATH_TEATRI_CLEAN)\n",
    "G_compose = Graph_functions.connect_poi_nodes_to_graph(G_compose, gdf_teatri,\n",
    "                                                       tipo = \"Teatri\",\n",
    "                                                       poi = True,\n",
    "                                                       artificial = True)"
   ]
  },
  {
   "cell_type": "markdown",
   "id": "57c35a1f",
   "metadata": {},
   "source": [
    "### Aggiunta di **Cinema** come **\"poi\"**"
   ]
  },
  {
   "cell_type": "code",
   "execution_count": 7,
   "id": "4d2edf75",
   "metadata": {},
   "outputs": [],
   "source": [
    "gdf_cinema = gpd.read_file(PATH_CINEMA_CLEAN)\n",
    "G_compose = Graph_functions.connect_poi_nodes_to_graph(G_compose, gdf_cinema,\n",
    "                                                       tipo = \"Cinema\", \n",
    "                                                       poi = True,\n",
    "                                                       artificial = True)"
   ]
  },
  {
   "cell_type": "markdown",
   "id": "4916467a",
   "metadata": {},
   "source": [
    "## Utilizziamo algoritmo di **Steiner Tree**"
   ]
  },
  {
   "cell_type": "code",
   "execution_count": 8,
   "id": "dd91995a",
   "metadata": {},
   "outputs": [],
   "source": [
    "poi_nodes = [n for n, d in G_compose.nodes(data=True) if d.get(\"poi\") == True]\n",
    "G_cultura_e_spettacollo = nx.MultiDiGraph(steiner_tree(G_compose, terminal_nodes=poi_nodes, weight='weight')).to_undirected()"
   ]
  },
  {
   "cell_type": "markdown",
   "id": "66f96095",
   "metadata": {},
   "source": [
    "Risultato lo salviamo in Clean di Analisi (per ora anche il pickle in staging) in geojson pronto da visualizzare"
   ]
  },
  {
   "cell_type": "code",
   "execution_count": 9,
   "id": "5ddf0850",
   "metadata": {},
   "outputs": [],
   "source": [
    "with open(\"../Data/Staging/Analisi/Cultura_e_spettacolo_nopesi.pickle\", \"wb\") as f:\n",
    "    pickle.dump(G_cultura_e_spettacollo, f)\n",
    "\n",
    "gdf_steiner = ox.graph_to_gdfs(G_cultura_e_spettacollo, edges=True, nodes=False)\n",
    "gdf_steiner.to_file(\"../Data/Clean/Analisi/Cultura_e_spettacolo_nopesi.geojson\", driver=\"GeoJSON\")"
   ]
  }
 ],
 "metadata": {
  "kernelspec": {
   "display_name": ".venv",
   "language": "python",
   "name": "python3"
  },
  "language_info": {
   "codemirror_mode": {
    "name": "ipython",
    "version": 3
   },
   "file_extension": ".py",
   "mimetype": "text/x-python",
   "name": "python",
   "nbconvert_exporter": "python",
   "pygments_lexer": "ipython3",
   "version": "3.13.2"
  }
 },
 "nbformat": 4,
 "nbformat_minor": 5
}
