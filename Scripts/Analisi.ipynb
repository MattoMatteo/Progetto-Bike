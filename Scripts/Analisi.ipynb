{
 "cells": [
  {
   "cell_type": "markdown",
   "id": "0c32c01f",
   "metadata": {},
   "source": [
    "# Analisi"
   ]
  },
  {
   "cell_type": "code",
   "execution_count": 67,
   "id": "772cee29",
   "metadata": {},
   "outputs": [],
   "source": [
    "import geopandas as gpd\n",
    "\n",
    "from my_paths import *"
   ]
  },
  {
   "cell_type": "code",
   "execution_count": 68,
   "id": "9d3a6cf8",
   "metadata": {},
   "outputs": [],
   "source": [
    "PATH_ANALISI_TEST_CLEAN = \"../Data/Clean/Analisi/test.geojson\""
   ]
  },
  {
   "cell_type": "code",
   "execution_count": 80,
   "id": "b420f93e",
   "metadata": {},
   "outputs": [],
   "source": [
    "gdf_ciclabili = gpd.read_file(PATH_CICLABILI_CLEAN).to_crs(\"EPSG:32632\")\n",
    "gdf_bikemi = gpd.read_file(PATH_BIKEMI_CLEAN).to_crs(\"EPSG:32632\")\n",
    "gdf_parchi = gpd.read_file(PATH_PARCHI_CLEAN).to_crs(\"EPSG:32632\")\n",
    "gdf_biblioteche = gpd.read_file(PATH_BIBLIOTECHE_CLEAN).to_crs(\"EPSG:32632\")\n",
    "gdf_impianti_sportivi = gpd.read_file(PATH_IMPIANTI_SPORTIVI_CLEAN).to_crs(\"EPSG:32632\")\n",
    "gdf_fontane = gpd.read_file(PATH_FONTANE_CLEAN).to_crs(\"EPSG:32632\")\n",
    "gdf_inquinamento = gpd.read_file(PATH_INQUINAMENTO_INGESTION_CLEAN).to_crs(\"EPSG:32632\")"
   ]
  },
  {
   "cell_type": "markdown",
   "id": "a4e11617",
   "metadata": {},
   "source": [
    "### Metodo per trovare intersezioni tra geometrie."
   ]
  },
  {
   "cell_type": "markdown",
   "id": "7c2147d9",
   "metadata": {},
   "source": [
    "Per farlo si crea un \"buffer\" di tot distanza (esempio 1000m) attorno a tutti gli oggetti geometrici.\n",
    "Se quando si usa \"intersects.()\" su di un altro oggetto geometrico quello va a intersecarsi con il buffer allora restituisce True altrimenti False. Si crea una Series di True e False.  \n",
    "Qui usiamo il \"not\" (~) per capire quale parco NON si interseca con il buffer di 1km per ogni ciclabile e ci restituisce il geodataframe con i parchi più lontani da quella distanza."
   ]
  },
  {
   "cell_type": "code",
   "execution_count": 81,
   "id": "93122f21",
   "metadata": {},
   "outputs": [],
   "source": [
    "buffer_union = gdf_ciclabili.buffer(1000).union_all()\n",
    "parchi_non_vicini = gdf_parchi[~gdf_parchi.geometry.intersects(buffer_union)]"
   ]
  },
  {
   "cell_type": "code",
   "execution_count": 82,
   "id": "25312e4f",
   "metadata": {},
   "outputs": [],
   "source": [
    "from shapely import LineString, MultiLineString\n",
    "from shapely.ops import nearest_points\n",
    "\n",
    "# Lista per raccogliere risultati\n",
    "risultati = []\n",
    "\n",
    "for idx_parco, parco in parchi_non_vicini.iterrows():\n",
    "    \n",
    "    # Calcolo distanza tra il parco e ogni tratto ciclabile\n",
    "    distanze = gdf_ciclabili.geometry.distance(parco.geometry)\n",
    "    \n",
    "    # Trova il tratto ciclabile più vicino\n",
    "    ciclabile_piu_vicina = gdf_ciclabili.loc[distanze.idxmin()]\n",
    "    \n",
    "    # Trova i due punti più vicini tra geometria del parco e del tratto\n",
    "    punto_parco, punto_ciclabile = nearest_points(parco.geometry, ciclabile_piu_vicina.geometry)\n",
    "    \n",
    "    # Salva risultato\n",
    "    risultati.append({\n",
    "        'id_parco': parco.get('PARCO', idx_parco),  # personalizza la chiave ID se necessario\n",
    "        'id_ciclabile': ciclabile_piu_vicina.get('id_amat', ciclabile_piu_vicina.name),\n",
    "        'distanza_minima': punto_parco.distance(punto_ciclabile),\n",
    "        'geometry': MultiLineString([LineString([punto_parco, punto_ciclabile])])\n",
    "    })\n",
    "\n",
    "# Crea GeoDataFrame del risultato\n",
    "df_risultati = gpd.GeoDataFrame(risultati, geometry='geometry', crs=\"EPSG:32632\").to_crs('EPSG:4326')"
   ]
  },
  {
   "cell_type": "code",
   "execution_count": 83,
   "id": "7c1bacee",
   "metadata": {},
   "outputs": [
    {
     "data": {
      "text/html": [
       "<div>\n",
       "<style scoped>\n",
       "    .dataframe tbody tr th:only-of-type {\n",
       "        vertical-align: middle;\n",
       "    }\n",
       "\n",
       "    .dataframe tbody tr th {\n",
       "        vertical-align: top;\n",
       "    }\n",
       "\n",
       "    .dataframe thead th {\n",
       "        text-align: right;\n",
       "    }\n",
       "</style>\n",
       "<table border=\"1\" class=\"dataframe\">\n",
       "  <thead>\n",
       "    <tr style=\"text-align: right;\">\n",
       "      <th></th>\n",
       "      <th>id_parco</th>\n",
       "      <th>id_ciclabile</th>\n",
       "      <th>distanza_minima</th>\n",
       "      <th>geometry</th>\n",
       "    </tr>\n",
       "  </thead>\n",
       "  <tbody>\n",
       "    <tr>\n",
       "      <th>0</th>\n",
       "      <td>PARCO DELLA CAVA DI MUGGIANO</td>\n",
       "      <td>276</td>\n",
       "      <td>1685.17654</td>\n",
       "      <td>MULTILINESTRING ((9.06633 45.44065, 9.05828 45...</td>\n",
       "    </tr>\n",
       "  </tbody>\n",
       "</table>\n",
       "</div>"
      ],
      "text/plain": [
       "                       id_parco  id_ciclabile  distanza_minima  \\\n",
       "0  PARCO DELLA CAVA DI MUGGIANO           276       1685.17654   \n",
       "\n",
       "                                            geometry  \n",
       "0  MULTILINESTRING ((9.06633 45.44065, 9.05828 45...  "
      ]
     },
     "execution_count": 83,
     "metadata": {},
     "output_type": "execute_result"
    }
   ],
   "source": [
    "df_risultati"
   ]
  },
  {
   "cell_type": "code",
   "execution_count": 84,
   "id": "17b81427",
   "metadata": {},
   "outputs": [
    {
     "name": "stdout",
     "output_type": "stream",
     "text": [
      "MULTILINESTRING ((9.066330415685773 45.44065006707306, 9.05827527105213 45.45471916947457))\n"
     ]
    }
   ],
   "source": [
    "print(df_risultati[\"geometry\"][0])"
   ]
  }
 ],
 "metadata": {
  "kernelspec": {
   "display_name": ".venv",
   "language": "python",
   "name": "python3"
  },
  "language_info": {
   "codemirror_mode": {
    "name": "ipython",
    "version": 3
   },
   "file_extension": ".py",
   "mimetype": "text/x-python",
   "name": "python",
   "nbconvert_exporter": "python",
   "pygments_lexer": "ipython3",
   "version": "3.13.2"
  }
 },
 "nbformat": 4,
 "nbformat_minor": 5
}
