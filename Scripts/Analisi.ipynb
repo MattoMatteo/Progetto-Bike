{
 "cells": [
  {
   "cell_type": "markdown",
   "id": "166309a1",
   "metadata": {},
   "source": [
    "# Analisi - Grafi"
   ]
  },
  {
   "cell_type": "code",
   "execution_count": 9,
   "id": "da77dda3",
   "metadata": {},
   "outputs": [],
   "source": [
    "import pickle\n",
    "\n",
    "import geopandas as gpd\n",
    "import networkx as nx\n",
    "from networkx.algorithms.approximation import steiner_tree\n",
    "import osmnx as ox\n",
    "\n",
    "from my_paths import *\n",
    "import Graph_functions"
   ]
  },
  {
   "cell_type": "markdown",
   "id": "14c4b333",
   "metadata": {},
   "source": [
    "## Sport e tempo libero"
   ]
  },
  {
   "cell_type": "markdown",
   "id": "65a39de7",
   "metadata": {},
   "source": [
    "Utilizzeremo i seguenti dati:\n",
    "1. **Parchi**\n",
    "2. **Impianti sportivi**\n",
    "3. **Aree gioco**\n",
    "Saranno i nostri \"poi\", cioè \"Point of Interest\" che verranno aggiunti al Grafo della rete Ciclabile/Stradale per la ricerca di percorsi"
   ]
  },
  {
   "cell_type": "markdown",
   "id": "454bc180",
   "metadata": {},
   "source": [
    "Carichiamo il Grafo di base della rete stradale/ciclabile"
   ]
  },
  {
   "cell_type": "code",
   "execution_count": 10,
   "id": "b27ac11f",
   "metadata": {},
   "outputs": [],
   "source": [
    "# Carichiamo Graph Ciclabili\n",
    "with open(PATH_RETE_CICLABILE_COMPLETA_PICKLE_CLEAN, \"rb\") as f:\n",
    "    G_strade_ciclabili = pickle.load(f)"
   ]
  },
  {
   "cell_type": "code",
   "execution_count": 11,
   "id": "054f3bd0",
   "metadata": {},
   "outputs": [],
   "source": [
    "G_compose = G_strade_ciclabili.copy()"
   ]
  },
  {
   "cell_type": "markdown",
   "id": "702938c1",
   "metadata": {},
   "source": [
    "### Aggiunta di **Parchi** come **\"poi\"**"
   ]
  },
  {
   "cell_type": "markdown",
   "id": "7c20f5cb",
   "metadata": {},
   "source": [
    "1. Carichiamo il file dei parchi da \"clean\"\n",
    "2. Utilizziamo **\"connect_poi_nodes_to_graph()\"** per connettere il geodataframe come \"poi\" al grafo delle strade/ciclabili."
   ]
  },
  {
   "cell_type": "code",
   "execution_count": 12,
   "id": "413f2266",
   "metadata": {},
   "outputs": [],
   "source": [
    "gdf_parchi = gpd.read_file(PATH_PARCHI_CLEAN)\n",
    "G_compose = Graph_functions.connect_poi_nodes_to_graph(G_compose, gdf_parchi,\n",
    "                                                                     tipo = \"parchi\",\n",
    "                                                                     poi = True,\n",
    "                                                                     artificial=True)"
   ]
  },
  {
   "cell_type": "markdown",
   "id": "e7cc9573",
   "metadata": {},
   "source": [
    "### Aggiunta di **Impianti sportivi** come **\"poi\"**"
   ]
  },
  {
   "cell_type": "code",
   "execution_count": 13,
   "id": "aa482998",
   "metadata": {},
   "outputs": [],
   "source": [
    "gdf_impianti_sportivi = gpd.read_file(PATH_IMPIANTI_SPORTIVI_CLEAN)\n",
    "G_compose = Graph_functions.connect_poi_nodes_to_graph(G_compose, gdf_impianti_sportivi,\n",
    "                                                                     tipo = \"impianti sportivi\",\n",
    "                                                                     poi = True,\n",
    "                                                                     artificial=True)"
   ]
  },
  {
   "cell_type": "markdown",
   "id": "daf14c81",
   "metadata": {},
   "source": [
    "### Aggiunta di **Aree gioco** come **\"poi\"**"
   ]
  },
  {
   "cell_type": "code",
   "execution_count": 14,
   "id": "236a1e6f",
   "metadata": {},
   "outputs": [],
   "source": [
    "gdf_aree_gioco = gpd.read_file(PATH_AREE_GIOCO_CLEAN)\n",
    "G_compose = Graph_functions.connect_poi_nodes_to_graph(G_compose, gdf_aree_gioco,\n",
    "                                                                     tipo = \"aree gioco\",\n",
    "                                                                     poi = True,\n",
    "                                                                     artificial=True)"
   ]
  },
  {
   "cell_type": "markdown",
   "id": "dd7a5a42",
   "metadata": {},
   "source": [
    "## Utilizziamo algoritmo di **Steiner Tree**"
   ]
  },
  {
   "cell_type": "markdown",
   "id": "cf0ca7b6",
   "metadata": {},
   "source": [
    "Una volta aggiunti i \"poi\" al grafo delle strade/ciclabili, eseguiamo l'algoritmo che troverà i percorsi minimi per connettere tutti i \"poi\" tra di loro con il minor \"peso\" possibile.  \n",
    "I pesi sono stati già accuratamente inseriti sugli archi delle strade, mentre quelli delle ciclabili e degli archi all'interno dei poligoni dei \"poi\" sono = 0, in modo da preferire sempre quei percorsi quando possibile (sfruttare ciclabili pre-esistenti il più possibile)."
   ]
  },
  {
   "cell_type": "code",
   "execution_count": 15,
   "id": "4fc6c2e1",
   "metadata": {},
   "outputs": [],
   "source": [
    "poi_nodes = [n for n, d in G_compose.nodes(data=True) if d.get(\"poi\") == True]\n",
    "G_sport_tempo_libero = nx.MultiDiGraph(steiner_tree(G_compose, terminal_nodes=poi_nodes, weight='weight'))\n",
    "# Sembra ridontante castare a MultiDiGraph il risultato di steiner_tree() che è comunque un MultiDiGraph\n",
    "# ma per vari motivi non si riesce poi a salvare in pickle e quindi meglio \"rifare\" una copia profonda in uno nuovo"
   ]
  },
  {
   "cell_type": "markdown",
   "id": "e0bca168",
   "metadata": {},
   "source": [
    "Risultato lo salviamo in Clean di Analisi (per ora anche il pickle in staging) in geojson pronto da visualizzare"
   ]
  },
  {
   "cell_type": "code",
   "execution_count": 16,
   "id": "b5b49bec",
   "metadata": {},
   "outputs": [],
   "source": [
    "with open(PATH_SPORT_TEMPO_LIBERO_ANALISI_PICKLE_STAGING, \"wb\") as f:\n",
    "    pickle.dump(G_sport_tempo_libero, f)\n",
    "\n",
    "gdf_steiner = ox.graph_to_gdfs(G_sport_tempo_libero, edges=True, nodes=False)\n",
    "gdf_steiner.to_file(PATH_SPORT_TEMPO_LIBERO_ANALISI_CLEAN, driver=\"GeoJSON\")"
   ]
  }
 ],
 "metadata": {
  "kernelspec": {
   "display_name": ".venv",
   "language": "python",
   "name": "python3"
  },
  "language_info": {
   "codemirror_mode": {
    "name": "ipython",
    "version": 3
   },
   "file_extension": ".py",
   "mimetype": "text/x-python",
   "name": "python",
   "nbconvert_exporter": "python",
   "pygments_lexer": "ipython3",
   "version": "3.13.2"
  }
 },
 "nbformat": 4,
 "nbformat_minor": 5
}
