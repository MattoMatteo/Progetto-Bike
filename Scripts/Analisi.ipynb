{
 "cells": [
  {
   "cell_type": "markdown",
   "id": "166309a1",
   "metadata": {},
   "source": [
    "# Analisi - Grafi"
   ]
  },
  {
   "cell_type": "code",
   "execution_count": 40,
   "id": "da77dda3",
   "metadata": {},
   "outputs": [],
   "source": [
    "import pickle\n",
    "import json\n",
    "\n",
    "from shapely import Point, LineString\n",
    "import geopandas as gpd\n",
    "import networkx as nx\n",
    "from networkx.algorithms.approximation import steiner_tree\n",
    "import osmnx as ox\n",
    "\n",
    "from my_paths import *\n",
    "import Graph_functions"
   ]
  },
  {
   "cell_type": "markdown",
   "id": "96bd4170",
   "metadata": {},
   "source": [
    "## Analisi Automatica - Documentazione"
   ]
  },
  {
   "cell_type": "markdown",
   "id": "5cfdf378",
   "metadata": {},
   "source": [
    "Tramite la funzione Graph_functions.auto_analysis_poi() è possibile eseguire in automatico la ricreazione del grafo stradale con il dizionario dei pesi desiderato. Spiegazione della funzione:\n",
    "- custom_weights: Un dizionario di pesi del tipo:\n",
    "    ```python\n",
    "    {\"cycleway\": 0, \"primary\": 1, ....}\n",
    "    ```\n",
    "    Possibilità di inserire come chiave: \"default\": quando non viene trovata una \"highway\" associta al dizionario,  \n",
    "    verrà utilizzato il valore contenuto in \"default\".  \n",
    "    In questo modo se si fornisce un dizionario in cui c'è soltanto la chiave \"default\", tutte le strade avranno quel  \n",
    "    valore associato (esempio per creare un grafo di strade senza pesi):\n",
    "    ```python\n",
    "    {\"default\": 1}\n",
    "    ```\n",
    "    Se non viene dato nessun dizionario di pesi, verrà utilizzato direttamente il grafo salvato in staging, che contiene i pesi\n",
    "    standard che abbiamo stabilito, salvati su file json.\n",
    "- Si possono inserire i vari percorsi di salvataggio dei file pickle (grafo) e geojson(geoDataFrame).\n",
    "    Richiede una struttura a liste di dizionari di geoDataFrame per \"poi\" del tipo:\n",
    "    ```python\n",
    "    gdf_list = [\n",
    "        {\"gdf\":  gpd.read_file(PATH_DEL_GEOJSON),\n",
    "        \"tipo\": \"tipo che si vuole assegnare agli archi che connettono il gdf al grafo\",\n",
    "        \"attr\": {\"nome_attributo\": \"valore_attributo\"} # Opzionale, di solito non ci serve\n",
    "        }\n",
    "    ]\n",
    "    ```"
   ]
  },
  {
   "cell_type": "markdown",
   "id": "06c9bf4a",
   "metadata": {},
   "source": [
    "## Estensione rete ciclabili"
   ]
  },
  {
   "cell_type": "code",
   "execution_count": null,
   "id": "57f8b695",
   "metadata": {},
   "outputs": [],
   "source": [
    "gdf_ciclabili = gpd.read_file(PATH_STRADE_CICLABILI_GEOJSON_STAGING)"
   ]
  },
  {
   "cell_type": "markdown",
   "id": "b357cfa6",
   "metadata": {},
   "source": [
    "Provo a creare dei percorsi che hanno lo scopo di unire tutti i frammenti di ciclabili esistenti.\n",
    "Quindi userò come \"poi\" tutti i nodi delle \"highway\"=cycleway"
   ]
  },
  {
   "cell_type": "code",
   "execution_count": null,
   "id": "cbde9a58",
   "metadata": {},
   "outputs": [],
   "source": [
    "gdf_ciclabili_cycleway = gdf_ciclabili[gdf_ciclabili[\"highway\"] == \"cycleway\"]\n",
    "gdf_point_ciclabili = []\n",
    "for idx, row in gdf_ciclabili_cycleway.iterrows():\n",
    "    gdf_point_ciclabili.append(Point(row.geometry.coords[0]))\n",
    "    gdf_point_ciclabili.append(Point(row.geometry.coords[-1]))\n",
    "gdf_point_ciclabili = gpd.GeoDataFrame(gdf_point_ciclabili, columns=[\"geometry\"], crs=CRS_GRAD)"
   ]
  },
  {
   "cell_type": "markdown",
   "id": "641257e7",
   "metadata": {},
   "source": [
    "Faccio partire il calcolo dei percosi"
   ]
  },
  {
   "cell_type": "code",
   "execution_count": null,
   "id": "37bed9f2",
   "metadata": {},
   "outputs": [],
   "source": [
    "gdf_list = [\n",
    "    {\"gdf\":  gdf_point_ciclabili,\n",
    "     \"tipo\": \"poi_ciclabili\"}\n",
    "]\n",
    "Graph_functions.auto_analysis_poi(gdf_list, PATH_GEOJSON=PATH_EXTENDED_CICLABILI_CLEAN)\n",
    "# Rimuoviamo gli archi artificiali che tanto in questo caso specifico sono archi di punti collegati con loro stessi\n",
    "# Che quindi non rappresentano nulla, sono solo rumore\n",
    "gdf_extended_ciclabili = gpd.read_file(PATH_EXTENDED_CICLABILI_CLEAN)\n",
    "gdf_extended_ciclabili = gdf_extended_ciclabili[gdf_extended_ciclabili[\"artificial\"]==False]\n",
    "gdf_extended_ciclabili.reset_index(drop=True).to_file(PATH_EXTENDED_CICLABILI_CLEAN, driver=\"GeoJSON\")"
   ]
  },
  {
   "cell_type": "markdown",
   "id": "1fe77965",
   "metadata": {},
   "source": [
    "### Statistiche"
   ]
  },
  {
   "cell_type": "code",
   "execution_count": null,
   "id": "b029f61f",
   "metadata": {},
   "outputs": [],
   "source": [
    "gdf_extended_ciclabili = gpd.read_file(PATH_EXTENDED_CICLABILI_CLEAN)"
   ]
  },
  {
   "cell_type": "markdown",
   "id": "49e307b0",
   "metadata": {},
   "source": [
    "1. Raggruppiamo per strade e vediamo i km per ogni tipologia"
   ]
  },
  {
   "cell_type": "code",
   "execution_count": null,
   "id": "19eebf89",
   "metadata": {},
   "outputs": [],
   "source": [
    "gdf_extended_ciclabili_highway = gdf_extended_ciclabili.to_crs(CRS_METR).groupby(\"highway\").agg({\n",
    "    \"length\": lambda x: sum(x/1000)\n",
    "    }).sort_values(by=\"length\", ascending=False)\n",
    "print(gdf_extended_ciclabili_highway.head(6))\n",
    "print(gdf_extended_ciclabili_highway[\"length\"].sum(), \"km\")"
   ]
  },
  {
   "cell_type": "markdown",
   "id": "a5ff4dc4",
   "metadata": {},
   "source": [
    "2. Calcoliamo i km nuovi da costruire (rimuoviamo cycleway che sono già costruite in teoria)"
   ]
  },
  {
   "cell_type": "code",
   "execution_count": null,
   "id": "5cd86424",
   "metadata": {},
   "outputs": [],
   "source": [
    "print(gdf_extended_ciclabili_highway.drop(\"cycleway\", axis=0).sum().values[0], \"km\")"
   ]
  },
  {
   "cell_type": "markdown",
   "id": "14c4b333",
   "metadata": {},
   "source": [
    "## Sport e tempo libero"
   ]
  },
  {
   "cell_type": "markdown",
   "id": "65a39de7",
   "metadata": {},
   "source": [
    "Utilizzeremo i seguenti dati:\n",
    "1. **Parchi**\n",
    "2. **Impianti sportivi**\n",
    "3. **Aree gioco**  \n",
    "\n",
    "Saranno i nostri \"poi\", cioè \"Point of Interest\" che verranno aggiunti al Grafo della rete Ciclabile/Stradale per la ricerca di percorsi"
   ]
  },
  {
   "cell_type": "code",
   "execution_count": null,
   "id": "c774a8e6",
   "metadata": {},
   "outputs": [],
   "source": [
    "gdf_list = [\n",
    "    {\"gdf\":  gpd.read_file(PATH_PARCHI_CLEAN),\n",
    "     \"tipo\": \"parchi\",\n",
    "     \"gdf\":  gpd.read_file(PATH_IMPIANTI_SPORTIVI_CLEAN),\n",
    "     \"tipo\": \"Impianti sportivi\",\n",
    "     \"gdf\":  gpd.read_file(PATH_AREE_GIOCO_CLEAN),\n",
    "     \"tipo\": \"Aree gioco\",}\n",
    "]\n",
    "Graph_functions.auto_analysis_poi(gdf_list, PATH_GEOJSON=PATH_SPORT_TEMPO_LIBERO_ANALISI_CLEAN)"
   ]
  },
  {
   "cell_type": "markdown",
   "id": "e1c8e634",
   "metadata": {},
   "source": [
    "### Statisiche"
   ]
  },
  {
   "cell_type": "code",
   "execution_count": 3,
   "id": "9d1ce163",
   "metadata": {},
   "outputs": [],
   "source": [
    "gdf_analisi_sport = gpd.read_file(PATH_SPORT_TEMPO_LIBERO_ANALISI_CLEAN)"
   ]
  },
  {
   "cell_type": "code",
   "execution_count": null,
   "id": "88d01772",
   "metadata": {},
   "outputs": [],
   "source": [
    "# Eliminiamo connessioni \"artificiali\" usate per connettere i \"poi\" al grafo delle strade\n",
    "gdf_analisi_sport_mod = gdf_analisi_sport[gdf_analisi_sport[\"artificial\"] != True]\n",
    "\n",
    "# Eliminiamo i percorsi completamente contenuti all'interno dei \"poi\" poligonari: parchi\n",
    "gdf = gpd.read_file(PATH_PARCHI_CLEAN)\n",
    "geometry_parchi = gdf.union_all()\n",
    "gdf_senza_parchi = []\n",
    "for idx, row in gdf_analisi_sport_mod.iterrows():\n",
    "    if not geometry_parchi.contains(row.geometry):\n",
    "        gdf_senza_parchi.append(row)\n",
    "gdf_analisi_sport_mod = gpd.GeoDataFrame(gdf_senza_parchi, crs=CRS_GRAD)"
   ]
  },
  {
   "cell_type": "code",
   "execution_count": null,
   "id": "04596a5f",
   "metadata": {},
   "outputs": [],
   "source": [
    "# Raggruppiamo per \"highway\" e calcoliamo (in km -> /1000) la lunghezza complessiva delle strade\n",
    "gdf_analisi_sport_mod_most_highways = gdf_analisi_sport_mod.to_crs(CRS_METR).groupby(\"highway\").agg({\n",
    "    \"length\": lambda x: sum(x/1000)\n",
    "    }).sort_values(by=\"length\", ascending=False)"
   ]
  },
  {
   "cell_type": "code",
   "execution_count": null,
   "id": "0d0bf844",
   "metadata": {},
   "outputs": [],
   "source": [
    "# Stampiamo il risultato\n",
    "print(gdf_analisi_sport_mod_most_highways)\n",
    "print(f\"Tot: {gdf_analisi_sport_mod_most_highways[\"length\"].sum()}\")"
   ]
  },
  {
   "cell_type": "markdown",
   "id": "1e83a9c0",
   "metadata": {},
   "source": [
    "## Istruzione"
   ]
  },
  {
   "cell_type": "markdown",
   "id": "d3093a96",
   "metadata": {},
   "source": [
    "Utilizzeremo i seguenti dati:\n",
    "1. **Biblioteche**\n",
    "2. **Scuole**\n",
    "Saranno i nostri \"poi\", cioè \"Point of Interest\" che verranno aggiunti al Grafo della rete Ciclabile/Stradale per la ricerca di percorsi"
   ]
  },
  {
   "cell_type": "code",
   "execution_count": null,
   "id": "c1ec5deb",
   "metadata": {},
   "outputs": [],
   "source": [
    "gdf_list = [\n",
    "    {\"gdf\":  gpd.read_file(PATH_BIBLIOTECHE_CLEAN),\n",
    "     \"tipo\": \"Biblioteche\",\n",
    "     \"gdf\":  gpd.read_file(PATH_SCUOLE_CLEAN),\n",
    "     \"tipo\": \"Scuole\"}\n",
    "     ]\n",
    "Graph_functions.auto_analysis_poi(gdf_list, PATH_GEOJSON=PATH_ISTRUZIONE_CLEAN)"
   ]
  },
  {
   "cell_type": "markdown",
   "id": "a41c8fc2",
   "metadata": {},
   "source": [
    "Analisi lunghezza strade create\n"
   ]
  },
  {
   "cell_type": "code",
   "execution_count": null,
   "id": "c3735fbc",
   "metadata": {},
   "outputs": [
    {
     "name": "stderr",
     "output_type": "stream",
     "text": [
      "c:\\Users\\apera\\OneDrive\\Documenti\\progetti\\Progetto-Bike\\.venv\\Lib\\site-packages\\pyogrio\\raw.py:198: RuntimeWarning: driver GeoJSON does not support open option DRIVER\n",
      "  return ogr_read(\n"
     ]
    }
   ],
   "source": [
    "gdf_analisi_istruzione = gpd.read_file(PATH_ISTRUZIONE_CLEAN, driver= \"GeoJSON\")"
   ]
  },
  {
   "cell_type": "code",
   "execution_count": null,
   "id": "a7bb04ae",
   "metadata": {},
   "outputs": [],
   "source": [
    "# Eliminiamo connessioni \"artificiali\" usate per connettere i \"poi\" al grafo delle strade\n",
    "gdf_analisi_istruzione_mod = gdf_analisi_istruzione[gdf_analisi_istruzione[\"artificial\"] != True]\n",
    "\n",
    "# Leggi i due POI\n",
    "gdf_scuole = gpd.read_file(PATH_SCUOLE_CLEAN)\n",
    "gdf_biblioteche = gpd.read_file(PATH_BIBLIOTECHE_CLEAN)\n",
    "\n",
    "# Unisci in un'unica geometria\n",
    "geometry_poi = gpd.GeoSeries(\n",
    "    gpd.pd.concat([gdf_scuole.geometry, gdf_biblioteche.geometry], ignore_index=True)\n",
    ").union_all()\n",
    "\n",
    "# Filtra il GDF di partenza\n",
    "gdf_senza_poi = []\n",
    "for idx, row in gdf_analisi_istruzione_mod.iterrows():\n",
    "    if not geometry_poi.contains(row.geometry):\n",
    "        gdf_senza_poi.append(row)\n",
    "\n",
    "# Crea nuovo GeoDataFrame\n",
    "gdf_analisi_istruzione_mod = gpd.GeoDataFrame(gdf_senza_poi, crs=CRS_GRAD)\n",
    "\n",
    "# Raggruppiamo per \"highway\" e calcoliamo (in km -> /1000) la lunghezza complessiva delle strade\n",
    "gdf_analisi_istruzione_mod_most_highways = gdf_analisi_istruzione_mod.to_crs(CRS_METR).groupby(\"highway\").agg({\n",
    "    \"length\": lambda x: sum(x/1000)\n",
    "    }).sort_values(by=\"length\", ascending=False)"
   ]
  },
  {
   "cell_type": "code",
   "execution_count": null,
   "id": "f4d8f98d",
   "metadata": {},
   "outputs": [],
   "source": [
    "# Stampiamo il risultato\n",
    "print(gdf_analisi_istruzione_mod_most_highways)\n",
    "print(f\"Tot: {gdf_analisi_istruzione_mod_most_highways[\"length\"].sum()}\")"
   ]
  },
  {
   "cell_type": "markdown",
   "id": "e6dc0de2",
   "metadata": {},
   "source": [
    "## Cultura e spettacolo"
   ]
  },
  {
   "cell_type": "markdown",
   "id": "d00b6cd1",
   "metadata": {},
   "source": [
    "Utilizzeremo i seguenti dati: \n",
    "\n",
    "1. **Musei**\n",
    "2. **Cinema**\n",
    "3. **Teatri**\n",
    "\n",
    "Saranno i nostri \"poi\", cioè \"Point of Interest\"\n",
    "che verranno aggiunti al Grafo della rete \n",
    "Ciclabile/Stradale per la ricerca di percorsi"
   ]
  },
  {
   "cell_type": "code",
   "execution_count": null,
   "id": "bf55f379",
   "metadata": {},
   "outputs": [],
   "source": [
    "gdf_list = [\n",
    "    {\"gdf\":  gpd.read_file(PATH_MUSEI_CLEAN),\n",
    "     \"tipo\": \"Musei\",\n",
    "     \"gdf\":  gpd.read_file(PATH_CINEMA_CLEAN),\n",
    "     \"tipo\": \"Cinema\", \n",
    "     \"gdf\":  gpd.read_file(PATH_TEATRI_CLEAN),\n",
    "     \"tipo\": \"Teatri\"}\n",
    "     ]\n",
    "Graph_functions.auto_analysis_poi(gdf_list, PATH_GEOJSON=PATH_CULTURA_SPETTACOLO_CLEAN)"
   ]
  },
  {
   "cell_type": "code",
   "execution_count": null,
   "id": "38d67835",
   "metadata": {},
   "outputs": [
    {
     "name": "stderr",
     "output_type": "stream",
     "text": [
      "c:\\Users\\apera\\OneDrive\\Documenti\\progetti\\Progetto-Bike\\.venv\\Lib\\site-packages\\pyogrio\\raw.py:198: RuntimeWarning: driver GeoJSON does not support open option DRIVER\n",
      "  return ogr_read(\n"
     ]
    }
   ],
   "source": [
    "gdf_analisi_cultura_spettacolo = gpd.read_file(PATH_CULTURA_SPETTACOLO_CLEAN, driver= \"GeoJSON\")"
   ]
  },
  {
   "cell_type": "code",
   "execution_count": null,
   "id": "9e7af660",
   "metadata": {},
   "outputs": [],
   "source": [
    "# Eliminiamo connessioni \"artificiali\" usate per connettere i \"poi\" al grafo delle strade\n",
    "gdf_analisi_cultura_spettacolo_mod = gdf_analisi_cultura_spettacolo[gdf_analisi_cultura_spettacolo[\"artificial\"] != True]\n",
    "\n",
    "# Leggi i due POI\n",
    "gdf_musei = gpd.read_file(PATH_MUSEI_CLEAN)\n",
    "gdf_teatri = gpd.read_file(PATH_TEATRI_CLEAN)\n",
    "gdf_cinema = gpd.read_file(PATH_CINEMA_CLEAN)\n",
    "\n",
    "# Unisci in un'unica geometria\n",
    "geometry_poi = gpd.GeoSeries(\n",
    "    gpd.pd.concat([gdf_cinema.geometry, gdf_teatri.geometry, gdf_musei.geometry], ignore_index=True)\n",
    ").union_all()\n",
    "\n",
    "# Filtra il GDF di partenza\n",
    "gdf_senza_poi = []\n",
    "for idx, row in gdf_analisi_cultura_spettacolo.iterrows():\n",
    "    if not geometry_poi.contains(row.geometry):\n",
    "        gdf_senza_poi.append(row)\n",
    "\n",
    "# Crea nuovo GeoDataFrame\n",
    "gdf_analisi_cultura_spettacolo_mod = gpd.GeoDataFrame(gdf_senza_poi, crs=CRS_GRAD)\n",
    "\n",
    "# Raggruppiamo per \"highway\" e calcoliamo (in km -> /1000) la lunghezza complessiva delle strade\n",
    "gdf_analisi_cultura_spettacolo_mod_most_highways = gdf_analisi_cultura_spettacolo_mod.to_crs(CRS_METR).groupby(\"highway\").agg({\n",
    "    \"length\": lambda x: sum(x/1000)\n",
    "    }).sort_values(by=\"length\", ascending=False)"
   ]
  },
  {
   "cell_type": "code",
   "execution_count": null,
   "id": "fbc3726e",
   "metadata": {},
   "outputs": [],
   "source": [
    "# Stampiamo il risultato\n",
    "print(gdf_analisi_cultura_spettacolo_mod_most_highways)\n",
    "print(f\"Tot: {gdf_analisi_cultura_spettacolo_mod_most_highways[\"length\"].sum()}\")"
   ]
  },
  {
   "cell_type": "markdown",
   "id": "ced81c85",
   "metadata": {},
   "source": [
    "## Sanità"
   ]
  },
  {
   "cell_type": "markdown",
   "id": "40d5d8a4",
   "metadata": {},
   "source": [
    "Utilizzeremo i seguenti dati: \n",
    "\n",
    "1. **Ospedali**\n",
    "\n",
    "\n",
    "Saranno i nostri \"poi\", cioè \"Point of Interest\"\n",
    "che verranno aggiunti al Grafo della rete \n",
    "Ciclabile/Stradale per la ricerca di percorsi"
   ]
  },
  {
   "cell_type": "code",
   "execution_count": null,
   "id": "c6b788aa",
   "metadata": {},
   "outputs": [],
   "source": [
    "gdf_list = [\n",
    "    {\"gdf\":  gpd.read_file(PATH_OSPEDALI_CLEAN),\n",
    "     \"tipo\": \"Ospedali\"}\n",
    "     ]\n",
    "Graph_functions.auto_analysis_poi(gdf_list,PATH_GEOJSON=PATH_SANITA_CLEAN)"
   ]
  },
  {
   "cell_type": "code",
   "execution_count": null,
   "id": "447087ac",
   "metadata": {},
   "outputs": [
    {
     "name": "stderr",
     "output_type": "stream",
     "text": [
      "c:\\Users\\apera\\OneDrive\\Documenti\\progetti\\Progetto-Bike\\.venv\\Lib\\site-packages\\pyogrio\\raw.py:198: RuntimeWarning: driver GeoJSON does not support open option DRIVER\n",
      "  return ogr_read(\n"
     ]
    }
   ],
   "source": [
    "gdf_analisi_ospedali = gpd.read_file(PATH_SANITA_CLEAN, driver= \"GeoJSON\")"
   ]
  },
  {
   "cell_type": "code",
   "execution_count": null,
   "id": "cddb1238",
   "metadata": {},
   "outputs": [],
   "source": [
    "# Eliminiamo connessioni \"artificiali\" usate per connettere i \"poi\" al grafo delle strade\n",
    "gdf_analisi_ospedali_mod = gdf_analisi_ospedali[gdf_analisi_ospedali[\"artificial\"] != True]\n",
    "\n",
    "# Eliminiamo i percorsi completamente contenuti all'interno dei \"poi\" poligonari: parchi\n",
    "gdf = gpd.read_file(PATH_OSPEDALI_CLEAN)\n",
    "geometry_parchi = gdf.union_all()\n",
    "gdf_senza_poi = []\n",
    "for idx, row in gdf_analisi_ospedali_mod.iterrows():\n",
    "    if not geometry_parchi.contains(row.geometry):\n",
    "        gdf_senza_poi.append(row)\n",
    "gdf_analisi_ospedali_mod = gpd.GeoDataFrame(gdf_senza_poi, crs=CRS_GRAD)\n",
    "\n",
    "# Raggruppiamo per \"highway\" e calcoliamo (in km -> /1000) la lunghezza complessiva delle strade\n",
    "gdf_analisi_ospedali_mod_most_highways = gdf_analisi_ospedali_mod.to_crs(CRS_METR).groupby(\"highway\").agg({\n",
    "    \"length\": lambda x: sum(x/1000)\n",
    "    }).sort_values(by=\"length\", ascending=False)"
   ]
  },
  {
   "cell_type": "code",
   "execution_count": null,
   "id": "6329b55c",
   "metadata": {},
   "outputs": [],
   "source": [
    "# Stampiamo il risultato\n",
    "print(gdf_analisi_ospedali_mod_most_highways)\n",
    "print(f\"Tot: {gdf_analisi_ospedali_mod_most_highways[\"length\"].sum()}\")"
   ]
  },
  {
   "cell_type": "markdown",
   "id": "e151ab70",
   "metadata": {},
   "source": [
    "## Statistiche POI x Municipi"
   ]
  },
  {
   "cell_type": "code",
   "execution_count": null,
   "id": "e8b3410e",
   "metadata": {},
   "outputs": [],
   "source": [
    "# Carica dati, aggiungendo una colonna \"tipo\" e tenendo solo questa colonna e geometry\n",
    "municipi = gpd.read_file(PATH_MUNICIPI_CLEAN)\n",
    "parchi = gpd.read_file(PATH_PARCHI_CLEAN).assign(tipo=\"parchi\")[[\"tipo\", \"geometry\"]]\n",
    "fontane = gpd.read_file(PATH_FONTANE_CLEAN).assign(tipo=\"fontane\")[[\"tipo\", \"geometry\"]]\n",
    "impianti = gpd.read_file(PATH_IMPIANTI_SPORTIVI_CLEAN).assign(tipo=\"impianti_sportivi\")[[\"tipo\", \"geometry\"]]\n",
    "scuole = gpd.read_file(PATH_SCUOLE_CLEAN).assign(tipo=\"scuole\")[[\"tipo\", \"geometry\"]]\n",
    "aree_gioco = gpd.read_file(PATH_AREE_GIOCO_CLEAN).assign(tipo=\"aree_gioco\")[[\"tipo\", \"geometry\"]]\n",
    "biblioteche = gpd.read_file(PATH_BIBLIOTECHE_CLEAN).assign(tipo=\"biblioteche\")[[\"tipo\", \"geometry\"]]\n",
    "stazioni_bikemi = gpd.read_file(PATH_BIKEMI_CLEAN).assign(tipo=\"stazioni_bikemi\")[[\"tipo\", \"geometry\"]]\n",
    "case_acqua = gpd.read_file(PATH_CASE_ACQUA_CLEAN).assign(tipo=\"case_acqua\")[[\"tipo\", \"geometry\"]]\n",
    "cinema = gpd.read_file(PATH_CINEMA_CLEAN).assign(tipo=\"cinema\")[[\"tipo\", \"geometry\"]]\n",
    "farmacie = gpd.read_file(PATH_FARMACIE_CLEAN).assign(tipo=\"farmacie\")[[\"tipo\", \"geometry\"]]\n",
    "musei = gpd.read_file(PATH_MUSEI_CLEAN).assign(tipo=\"musei\")[[\"tipo\", \"geometry\"]]\n",
    "ospedali = gpd.read_file(PATH_OSPEDALI_CLEAN).assign(tipo=\"ospedali\")[[\"tipo\", \"geometry\"]]\n",
    "teatri = gpd.read_file(PATH_TEATRI_CLEAN).assign(tipo=\"teatri\")[[\"tipo\", \"geometry\"]]"
   ]
  },
  {
   "cell_type": "markdown",
   "id": "20de51e9",
   "metadata": {},
   "source": [
    "Uniamo le righe dei vari dataframe in uno unico"
   ]
  },
  {
   "cell_type": "code",
   "execution_count": null,
   "id": "2287bae9",
   "metadata": {},
   "outputs": [],
   "source": [
    "pois = gpd.pd.concat([\n",
    "    parchi, fontane, impianti, scuole, aree_gioco, biblioteche,\n",
    "    stazioni_bikemi, case_acqua, cinema, farmacie, musei, ospedali, teatri\n",
    "], ignore_index=True)"
   ]
  },
  {
   "cell_type": "markdown",
   "id": "b1bed7ee",
   "metadata": {},
   "source": [
    "Tramite sjoin con predicato \"intersect\": eseguiamo una left-join con il gdf dei municipi in base\n",
    "all'intersezione delle geometrie"
   ]
  },
  {
   "cell_type": "code",
   "execution_count": null,
   "id": "f9e68e12",
   "metadata": {},
   "outputs": [],
   "source": [
    "pois_con_municipio = gpd.sjoin(\n",
    "    municipi,\n",
    "    pois,\n",
    "    how=\"left\",\n",
    "    predicate=\"intersects\"\n",
    "    ).drop([\"index_right\"], axis=1) # eliminiamo l'index_right (conserva l'indice del dataframe del gdf di destra ma non ci serve)"
   ]
  },
  {
   "cell_type": "markdown",
   "id": "7aa0eb66",
   "metadata": {},
   "source": [
    "Raggruppiamo per Municipio e Tipo (mettiamo anche geometry così ci rimane per il geojson).  "
   ]
  },
  {
   "cell_type": "code",
   "execution_count": null,
   "id": "9205ef0d",
   "metadata": {},
   "outputs": [],
   "source": [
    "conteggi = pois_con_municipio.groupby(['MUNICIPIO', 'geometry', 'tipo']).size().unstack(fill_value=0).reset_index()"
   ]
  },
  {
   "cell_type": "markdown",
   "id": "46df8294",
   "metadata": {},
   "source": [
    "Aggiungiamo una colonna \"point_etichetta\" a cui assegniamo il \"centroid\" del poligono dei vari municipi, in modo  \n",
    "da utilizzarlo su kepler per aggiungere un layer \"poin\" a cui assegniamo una \"label\" (etichetta) così visualizziamo  \n",
    "a schermo il numero dell'attributo preso in considerazione (esempio, numero di parchi = 34, così si vede direttamente sulla mappa  \n",
    "oltre a vedersi solo il colore. Può essere carino)."
   ]
  },
  {
   "cell_type": "code",
   "execution_count": null,
   "id": "a4eed437",
   "metadata": {},
   "outputs": [],
   "source": [
    "conteggi[\"point_etichetta\"] = conteggi.geometry.apply(lambda x: x.centroid)"
   ]
  },
  {
   "cell_type": "markdown",
   "id": "45712ff7",
   "metadata": {},
   "source": [
    "Riconvertiamo in geodataframe e salviamo su file geojson"
   ]
  },
  {
   "cell_type": "code",
   "execution_count": null,
   "id": "bf0a160b",
   "metadata": {},
   "outputs": [],
   "source": [
    "conteggi = gpd.GeoDataFrame(conteggi, geometry=\"geometry\", crs=CRS_GRAD)\n",
    "conteggi.to_file(PATH_SCORE_X_MUNICIPI, driver=\"GeoJSON\")"
   ]
  }
 ],
 "metadata": {
  "kernelspec": {
   "display_name": ".venv",
   "language": "python",
   "name": "python3"
  },
  "language_info": {
   "codemirror_mode": {
    "name": "ipython",
    "version": 3
   },
   "file_extension": ".py",
   "mimetype": "text/x-python",
   "name": "python",
   "nbconvert_exporter": "python",
   "pygments_lexer": "ipython3",
   "version": "3.13.2"
  }
 },
 "nbformat": 4,
 "nbformat_minor": 5
}
