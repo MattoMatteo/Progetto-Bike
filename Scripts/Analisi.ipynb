{
 "cells": [
  {
   "cell_type": "markdown",
   "id": "0c32c01f",
   "metadata": {},
   "source": [
    "# Analisi"
   ]
  },
  {
   "cell_type": "code",
   "execution_count": 1,
   "id": "772cee29",
   "metadata": {},
   "outputs": [],
   "source": [
    "import geopandas as gdp\n",
    "\n",
    "from my_paths import *"
   ]
  }
 ],
 "metadata": {
  "kernelspec": {
   "display_name": ".venv",
   "language": "python",
   "name": "python3"
  },
  "language_info": {
   "codemirror_mode": {
    "name": "ipython",
    "version": 3
   },
   "file_extension": ".py",
   "mimetype": "text/x-python",
   "name": "python",
   "nbconvert_exporter": "python",
   "pygments_lexer": "ipython3",
   "version": "3.13.2"
  }
 },
 "nbformat": 4,
 "nbformat_minor": 5
}
