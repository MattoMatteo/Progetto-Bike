{
 "cells": [
  {
   "cell_type": "markdown",
   "id": "166309a1",
   "metadata": {},
   "source": [
    "# Analisi - Grafi"
   ]
  },
  {
   "cell_type": "code",
   "execution_count": 1,
   "id": "da77dda3",
   "metadata": {},
   "outputs": [],
   "source": [
    "import pickle\n",
    "import json\n",
    "\n",
    "import geopandas as gpd\n",
    "import networkx as nx\n",
    "from networkx.algorithms.approximation import steiner_tree\n",
    "import osmnx as ox\n",
    "\n",
    "from my_paths import *\n",
    "import Graph_functions"
   ]
  },
  {
   "cell_type": "markdown",
   "id": "96bd4170",
   "metadata": {},
   "source": [
    "## Analisi Automatica"
   ]
  },
  {
   "cell_type": "markdown",
   "id": "5cfdf378",
   "metadata": {},
   "source": [
    "Tramite la funzione Graph_functions.auto_analysis_poi() è possibile eseguire in automatico la ricreazione del grafo stradale con il dizionario dei pesi desiderato.\n",
    "Si può ora caricaricare da file il dizionario dei pesi che abbiamo pre-stabilito.\n",
    "Aggiunta possibilità di inserire come chiave \"default\" nel \"custom_weights\" in modo da dare un valore di base quando non viene trovata una strada. Grazie a questo è possibile utilizzare un dizionario del tipo:\n",
    "```python\n",
    "{\"default\": 1}\n",
    "```\n",
    "In questo modo a tutte le strade verrà assegnato il peso = 1.\n",
    "Si possono inserire i vari percorsi di salvataggio dei file pickle (grafo) e geojson(geoDataFrame).\n",
    "Richiede una struttura a liste di dizionari di geoDataFrame per \"poi\" del tipo:\n",
    "```python\n",
    "gdf_list = [\n",
    "    {\"gdf\":  gpd.read_file(PATH_DEL_GEOJSON),\n",
    "     \"tipo\": \"tipo che si vuole assegnare agli archi che connettono il gdf al grafo\",\n",
    "     \"attr\": {\"nome_attributo\": \"valore_attributo\"} # Opzionale, di solito non ci serve\n",
    "     }\n",
    "]\n",
    "```"
   ]
  },
  {
   "cell_type": "markdown",
   "id": "14c4b333",
   "metadata": {},
   "source": [
    "## Sport e tempo libero"
   ]
  },
  {
   "cell_type": "markdown",
   "id": "65a39de7",
   "metadata": {},
   "source": [
    "Utilizzeremo i seguenti dati:\n",
    "1. **Parchi**\n",
    "2. **Impianti sportivi**\n",
    "3. **Aree gioco**\n",
    "Saranno i nostri \"poi\", cioè \"Point of Interest\" che verranno aggiunti al Grafo della rete Ciclabile/Stradale per la ricerca di percorsi"
   ]
  },
  {
   "cell_type": "markdown",
   "id": "57775649",
   "metadata": {},
   "source": [
    "Con pesi"
   ]
  },
  {
   "cell_type": "code",
   "execution_count": 2,
   "id": "c774a8e6",
   "metadata": {},
   "outputs": [],
   "source": [
    "with open(PATH_CUSTOM_WEIGHTS_STRADE_RAW, 'r') as f:\n",
    "    custom_weights = json.load(f)\n",
    "gdf_list = [\n",
    "    {\"gdf\":  gpd.read_file(PATH_PARCHI_CLEAN),\n",
    "     \"tipo\": \"parchi\"}\n",
    "]\n",
    "custom_weights[\"cycleway\"] = 0\n",
    "custom_weights[\"unclassified\"] = 99\n",
    "custom_weights[\"footway\"] = 1.3\n",
    "Graph_functions.auto_analysis_poi(gdf_list, custom_weights,\n",
    "                                  PATH_SPORT_TEMPO_LIBERO_ANALISI_CLEAN)"
   ]
  },
  {
   "cell_type": "markdown",
   "id": "9dcb09ec",
   "metadata": {},
   "source": [
    "Senza pesi"
   ]
  },
  {
   "cell_type": "code",
   "execution_count": 3,
   "id": "dc25574b",
   "metadata": {},
   "outputs": [],
   "source": [
    "gdf_list = [\n",
    "    {\"gdf\":  gpd.read_file(PATH_PARCHI_CLEAN),\n",
    "     \"tipo\": \"parchi\"}\n",
    "]\n",
    "Graph_functions.auto_analysis_poi(gdf_list, {\"cycleway\": 0, \"default\": 1},\n",
    "                                  \"../Data/Clean/Analisi/sport_tempo_libero_clean_nopesi.geojson\")"
   ]
  },
  {
   "cell_type": "markdown",
   "id": "e1c8e634",
   "metadata": {},
   "source": [
    "### Esempio di statisiche per confrontare 2 grafi: uno con i nostri pesi e l'altro fatto girare con pesi = 1"
   ]
  },
  {
   "cell_type": "code",
   "execution_count": 4,
   "id": "9d1ce163",
   "metadata": {},
   "outputs": [],
   "source": [
    "gdf_pesi = gpd.read_file(PATH_SPORT_TEMPO_LIBERO_ANALISI_CLEAN)\n",
    "gdf_no_pesi = gpd.read_file(\"../Data/Clean/Analisi/sport_tempo_libero_clean_nopesi.geojson\")"
   ]
  },
  {
   "cell_type": "code",
   "execution_count": 5,
   "id": "88d01772",
   "metadata": {},
   "outputs": [
    {
     "name": "stdout",
     "output_type": "stream",
     "text": [
      "[False]\n"
     ]
    }
   ],
   "source": [
    "gdf_pesi_mod = gdf_pesi[gdf_pesi[\"artificial\"] != True]\n",
    "gdf_no_pesi_mod = gdf_no_pesi[gdf_no_pesi[\"artificial\"] != True]\n",
    "\n",
    "print(gdf_pesi_mod[\"poi\"].unique())\n",
    "\n",
    "gdf = gpd.read_file(PATH_PARCHI_CLEAN)\n",
    "geometry_parchi = gdf.union_all()\n",
    "list_gdf = [gdf_pesi_mod, gdf_no_pesi_mod]\n",
    "for i in range(len(list_gdf)):\n",
    "    gdf_senza_parchi = []\n",
    "    for idx, row in list_gdf[i].iterrows():\n",
    "        if not geometry_parchi.contains(row.geometry):\n",
    "            gdf_senza_parchi.append(row)\n",
    "    list_gdf[i] = gpd.GeoDataFrame(gdf_senza_parchi, crs=CRS_GRAD)\n",
    "\n",
    "gdf_pesi_mod = list_gdf[0]\n",
    "gdf_no_pesi_mod = list_gdf[1]\n",
    "\n",
    "gdf_pesi_mod.to_file(\"../Data/Clean/Analisi/sport_senza_parchi_con_pesi.geojson\")\n",
    "gdf_no_pesi_mod.to_file(\"../Data/Clean/Analisi/sport_senza_parchi_senza_pesi.geojson\")\n",
    "\n",
    "gdf_pesi_mod_most_highways = gdf_pesi_mod.to_crs(CRS_METR).groupby(\"highway\").agg({\n",
    "    \"length\": lambda x: sum(x/1000)\n",
    "    }).sort_values(by=\"length\", ascending=False)\n",
    "\n",
    "gdf_no_pesi_mod_most_highways = gdf_no_pesi_mod.to_crs(CRS_METR).groupby(\"highway\").agg({\n",
    "    \"length\": lambda x: sum(x/1000)\n",
    "}).sort_values(by=\"length\", ascending=False)"
   ]
  },
  {
   "cell_type": "code",
   "execution_count": null,
   "id": "0d0bf844",
   "metadata": {},
   "outputs": [],
   "source": [
    "print(\"----------PESI-------------\")\n",
    "print(gdf_pesi_mod_most_highways)\n",
    "print(f\"Tot: {gdf_pesi_mod_most_highways[\"length\"].sum()}\")\n",
    "\n",
    "print(\"----------NO PESI----------\")\n",
    "print(gdf_no_pesi_mod_most_highways)\n",
    "print(f\"Tot: {gdf_no_pesi_mod_most_highways[\"length\"].sum()}\")"
   ]
  }
 ],
 "metadata": {
  "kernelspec": {
   "display_name": ".venv",
   "language": "python",
   "name": "python3"
  },
  "language_info": {
   "codemirror_mode": {
    "name": "ipython",
    "version": 3
   },
   "file_extension": ".py",
   "mimetype": "text/x-python",
   "name": "python",
   "nbconvert_exporter": "python",
   "pygments_lexer": "ipython3",
   "version": "3.13.2"
  }
 },
 "nbformat": 4,
 "nbformat_minor": 5
}
