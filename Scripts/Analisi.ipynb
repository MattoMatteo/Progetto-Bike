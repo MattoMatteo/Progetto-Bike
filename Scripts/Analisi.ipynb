{
 "cells": [
  {
   "cell_type": "markdown",
   "id": "166309a1",
   "metadata": {},
   "source": [
    "# Analisi - Grafi"
   ]
  },
  {
   "cell_type": "code",
   "execution_count": 1,
   "id": "da77dda3",
   "metadata": {},
   "outputs": [],
   "source": [
    "import pickle\n",
    "from shapely import Point, LineString, Polygon, MultiPolygon\n",
    "import geopandas as gpd\n",
    "from tqdm import tqdm\n",
    "\n",
    "from my_paths import *\n",
    "import Graph_functions"
   ]
  },
  {
   "cell_type": "markdown",
   "id": "96bd4170",
   "metadata": {},
   "source": [
    "## Analisi Automatica - Documentazione"
   ]
  },
  {
   "cell_type": "markdown",
   "id": "5cfdf378",
   "metadata": {},
   "source": [
    "Tramite la funzione **Graph_functions.auto_analysis_poi()** è possibile eseguire in automatico la ricreazione del grafo stradale con il dizionario dei pesi desiderato. Spiegazione della funzione:\n",
    " ```python\n",
    "(function) def auto_analysis_poi(\n",
    "    list_gdfs_poi: list[dict],\n",
    "    custom_weights: dict = None,\n",
    "    PATH_GEOJSON: str = None,\n",
    "    PATH_PICKLE: str = None\n",
    ") -> None\n",
    "```\n",
    "- Richiede una struttura a liste di dizionari di geoDataFrame per \"poi\" del tipo:\n",
    "    ```python\n",
    "    gdf_list = [\n",
    "        {\"gdf\":  gpd.read_file(PATH_DEL_GEOJSON),\n",
    "        \"tipo\": \"tipo che si vuole assegnare agli archi che connettono il gdf al grafo\",\n",
    "        \"attr\": {\"nome_attributo\": \"valore_attributo\"} # Opzionale\n",
    "        }\n",
    "    ]\n",
    "    ```\n",
    "    Un attributo che però **non è opzionale** **se** si vuole eseguire la nuova funzione di **\"auto_filter_poi\"** è **\"priorita\"** che deve essere un numero  \n",
    "    intero da 1 in poi. Minore è il valore e maggiore è la priorità (priorità 1 = massima).\n",
    "    ```python\n",
    "    \"attr\": {\"priorita\": 1}\n",
    "- custom_weights: Un dizionario di pesi del tipo:\n",
    "    ```python\n",
    "    {\"cycleway\": 0, \"primary\": 1, ....}\n",
    "    ```\n",
    "    Possibilità di inserire come chiave: \"default\": quando non viene trovata una \"highway\" associta al dizionario,  \n",
    "    verrà utilizzato il valore contenuto in \"default\".  \n",
    "    In questo modo se si fornisce un dizionario in cui c'è soltanto la chiave \"default\", tutte le strade avranno quel  \n",
    "    valore associato (esempio per creare un grafo di strade senza pesi):\n",
    "    ```python\n",
    "    {\"default\": 1}\n",
    "    ```\n",
    "    Se non viene dato nessun dizionario di pesi, verrà utilizzato direttamente il grafo salvato in staging, che contiene i pesi\n",
    "    standard che abbiamo stabilito, salvati su file json.\n",
    "- Si possono inserire i vari percorsi di salvataggio dei file pickle (grafo) e geojson(geoDataFrame).\n",
    "    \n",
    "\n",
    "    ```"
   ]
  },
  {
   "cell_type": "markdown",
   "id": "a2b96e3a",
   "metadata": {},
   "source": [
    "Documentazione per **\"auto_filter_poi\"**\n",
    "Tramite un grafo (il pickle) generato da un **Graph_functions.auto_analysis_poi()** è possibile lanciare una versione \"ridotta\" dei percorsi\n",
    "in base a un numero fissato di \"poi\".  \n",
    "Attributi:\n",
    "```python\n",
    "(function) def auto_filter_poi(\n",
    "    G_percorsi: MultiDiGraph,\n",
    "    max_pois: int,\n",
    "    peso_inquinamento_vs_incidenti: float = 0.5,\n",
    "    peso_fattori_esterni_vs_distribuzione_poi: float = 0.5,\n",
    "    custom_weights: dict = None,\n",
    "    PATH_GEOJSON: str = None,\n",
    "    PATH_PICKLE: str = None\n",
    ") -> None\n",
    "```\n",
    "- **G_percorsi** -> Il file pickle salvato da **Graph_functions.auto_analysis_poi()**\n",
    "- **max_pois** -> Il numero massimo (circa) di \"pois\" su cui creare la versione ridotta del grafo originale.\n",
    "- **peso_inquinamento_vs_incidenti** -> Un numero da 0 -> 1: Più basso è e più sarà orientato verso **incidenti** (priorità su inquinamento = 0 per intenderci), mentre al contrario più è alto e più sarà sbilanciato su **inquinamento** rispetto a incidenti. Di base + 0.5 (non sbilanciato).\n",
    "- **peso_fattori_esterni_vs_distribuzione_poi** -> Stesso discorso di prima ma per quanto riguarda l'impatto dei fattori visti prima, denominati nel loro insieme come **fattori_esterni**. Per **distribuzione_poi** intendiamo la loro \"proporzionale\" diminuzione in base alla loro normale distribuzione tra i vari municipi.  \n",
    "Esempio: Municipio 1 ha 10 pois e Municipio 2 ne ha 20 (tot 30) e noi vogliamo un max di 10 -> vista la proporzione di 1 a 2 ->  \n",
    "Municipio 1 ottiene circa 3 poi mentro Municipio 2 ne ottiene circa 7. Questo nel caso in cui si mettesse come valore 1 a questo attributo e quindi nel caso in cui i \"fattori esterni\" non vengano tenuti in considerazione, altrimenti potrebbero andare a cambiare questi numeri in base a quanto peso si è deciso di dargli nel computo e poi di conseguenza a quale dei due fattori si è deciso di dare più importanza tramite il precedente parametro.\n",
    "- Gli altri parametri sono uguali a **auto_filter_poi()**"
   ]
  },
  {
   "cell_type": "markdown",
   "id": "06c9bf4a",
   "metadata": {},
   "source": [
    "## Estensione rete ciclabili"
   ]
  },
  {
   "cell_type": "markdown",
   "id": "b357cfa6",
   "metadata": {},
   "source": [
    "ETL gdf:  \n",
    "Provo a creare dei percorsi che hanno lo scopo di unire tutti i frammenti di ciclabili esistenti.  \n",
    "Quindi userò come \"poi\" tutti i nodi delle \"highway\"=cycleway"
   ]
  },
  {
   "cell_type": "code",
   "execution_count": 53,
   "id": "cbde9a58",
   "metadata": {},
   "outputs": [],
   "source": [
    "gdf_ciclabili = gpd.read_file(PATH_STRADE_CICLABILI_GEOJSON_CLEAN)\n",
    "gdf_ciclabili_cycleway = gdf_ciclabili[gdf_ciclabili[\"highway\"] == \"cycleway\"]\n",
    "gdf_point_ciclabili = []\n",
    "for idx, row in gdf_ciclabili_cycleway.iterrows():\n",
    "    gdf_point_ciclabili.append(Point(row.geometry.coords[0]))\n",
    "    gdf_point_ciclabili.append(Point(row.geometry.coords[-1]))\n",
    "gdf_point_ciclabili = gpd.GeoDataFrame(gdf_point_ciclabili, columns=[\"geometry\"], crs=CRS_GRAD)"
   ]
  },
  {
   "cell_type": "markdown",
   "id": "641257e7",
   "metadata": {},
   "source": [
    "### Analisi Completo"
   ]
  },
  {
   "cell_type": "code",
   "execution_count": 54,
   "id": "37bed9f2",
   "metadata": {},
   "outputs": [],
   "source": [
    "gdf_list = [\n",
    "    {\"gdf\":  gdf_point_ciclabili,\n",
    "     \"tipo\": \"ciclabile\",\n",
    "     \"attr\": {\"priorita\": 1}}\n",
    "]\n",
    "Graph_functions.auto_analysis_poi(gdf_list,\n",
    "                                  PATH_PICKLE=PATH_EXTENDED_CICLABILI_COMPLETO_PICKLE_STAGING,\n",
    "                                  PATH_GEOJSON=PATH_EXTENDED_CICLABILI_COMPLETO_CLEAN)\n",
    "\n",
    "# --------------------  Post ETL  --------------------------#\n",
    "# Rimuoviamo gli archi artificiali (in questo caso non ci sono effettivi poi che abbiamo collegato)\n",
    "gdf_extended_ciclabili = gpd.read_file(PATH_EXTENDED_CICLABILI_COMPLETO_CLEAN)\n",
    "gdf_extended_ciclabili = gdf_extended_ciclabili[gdf_extended_ciclabili[\"artificial\"]==False]\n",
    "gdf_extended_ciclabili.reset_index(drop=True).to_file(PATH_EXTENDED_CICLABILI_COMPLETO_CLEAN, driver=\"GeoJSON\")"
   ]
  },
  {
   "cell_type": "markdown",
   "id": "f1a325df",
   "metadata": {},
   "source": [
    "### Analisi con filtri"
   ]
  },
  {
   "cell_type": "markdown",
   "id": "4ab88d7e",
   "metadata": {},
   "source": [
    "Versione Incidenti"
   ]
  },
  {
   "cell_type": "code",
   "execution_count": null,
   "id": "8e472ed0",
   "metadata": {},
   "outputs": [],
   "source": [
    "with open(PATH_EXTENDED_CICLABILI_COMPLETO_PICKLE_STAGING, \"rb\") as file:\n",
    "    G_extended_ciclabili = pickle.load(file)\n",
    "\n",
    "n_pois = len(gdf_point_ciclabili) / 100 * 30    # 30% del totale\n",
    "Graph_functions.auto_filter_poi(G_percorsi = G_extended_ciclabili,\n",
    "                                max_pois= n_pois,\n",
    "                                peso_inquinamento_vs_incidenti = 0,\n",
    "                                peso_fattori_esterni_vs_distribuzione_poi = 1,\n",
    "                                PATH_GEOJSON = PATH_EXTENDED_CICLABILI_INCIDENTI_CLEAN)\n",
    "\n",
    "# --------------------  Post ETL  --------------------------#\n",
    "# Rimuoviamo gli archi artificiali (in questo caso non ci sono effettivi poi che abbiamo collegato)\n",
    "gdf_extended_ciclabili = gpd.read_file(PATH_EXTENDED_CICLABILI_INCIDENTI_CLEAN)\n",
    "gdf_extended_ciclabili = gdf_extended_ciclabili[gdf_extended_ciclabili[\"artificial\"]==False]\n",
    "gdf_extended_ciclabili.reset_index(drop=True).to_file(PATH_EXTENDED_CICLABILI_INCIDENTI_CLEAN, driver=\"GeoJSON\")"
   ]
  },
  {
   "cell_type": "markdown",
   "id": "e9742620",
   "metadata": {},
   "source": [
    "Versione Inquinamento"
   ]
  },
  {
   "cell_type": "code",
   "execution_count": null,
   "id": "cd5de82b",
   "metadata": {},
   "outputs": [],
   "source": [
    "with open(PATH_EXTENDED_CICLABILI_COMPLETO_PICKLE_STAGING, \"rb\") as file:\n",
    "    G_extended_ciclabili = pickle.load(file)\n",
    "\n",
    "n_pois = len(gdf_point_ciclabili) / 100 * 30    # 30% del totale\n",
    "Graph_functions.auto_filter_poi(G_percorsi = G_extended_ciclabili,\n",
    "                                max_pois= n_pois,\n",
    "                                peso_inquinamento_vs_incidenti = 1,\n",
    "                                peso_fattori_esterni_vs_distribuzione_poi = 1,\n",
    "                                PATH_GEOJSON = PATH_EXTENDED_CICLABILI_INQUINAMENTO_CLEAN)\n",
    "\n",
    "# --------------------  Post ETL  --------------------------#\n",
    "# Rimuoviamo gli archi artificiali (in questo caso non ci sono effettivi poi che abbiamo collegato)\n",
    "gdf_extended_ciclabili = gpd.read_file(PATH_EXTENDED_CICLABILI_INQUINAMENTO_CLEAN)\n",
    "gdf_extended_ciclabili = gdf_extended_ciclabili[gdf_extended_ciclabili[\"artificial\"]==False]\n",
    "gdf_extended_ciclabili.reset_index(drop=True).to_file(PATH_EXTENDED_CICLABILI_INQUINAMENTO_CLEAN, driver=\"GeoJSON\")"
   ]
  },
  {
   "cell_type": "markdown",
   "id": "a271dbd1",
   "metadata": {},
   "source": [
    "### Unione dei 3 GeoDataFrame"
   ]
  },
  {
   "cell_type": "markdown",
   "id": "9299ed0a",
   "metadata": {},
   "source": [
    "Unione Percorsi generati"
   ]
  },
  {
   "cell_type": "code",
   "execution_count": 57,
   "id": "7a4ee79b",
   "metadata": {},
   "outputs": [],
   "source": [
    "gdf_completo = gpd.read_file(PATH_EXTENDED_CICLABILI_COMPLETO_CLEAN)\n",
    "gdf_filtrato_incidenti = gpd.read_file(PATH_EXTENDED_CICLABILI_INCIDENTI_CLEAN)\n",
    "gdf_filtrato_inquinamento = gpd.read_file(PATH_EXTENDED_CICLABILI_INQUINAMENTO_CLEAN)\n",
    "\n",
    "gdf_completo[\"origine\"] = \"completo\"\n",
    "gdf_filtrato_incidenti[\"origine\"] = \"solo_incidenti\"\n",
    "gdf_filtrato_inquinamento[\"origine\"] = \"solo_inquinamento\"\n",
    "gdf_unito = gpd.GeoDataFrame(gpd.pd.concat([\n",
    "        gdf_completo,\n",
    "        gdf_filtrato_incidenti,\n",
    "        gdf_filtrato_inquinamento,\n",
    "    ], ignore_index=True), crs=CRS_GRAD)"
   ]
  },
  {
   "cell_type": "code",
   "execution_count": 58,
   "id": "8966dcab",
   "metadata": {},
   "outputs": [],
   "source": [
    "gdf_unito.to_file(PATH_EXTENDED_CICLABILI_UNITI_CLEAN)"
   ]
  },
  {
   "cell_type": "markdown",
   "id": "a024f091",
   "metadata": {},
   "source": [
    "Formalmente non ci sono punti di interesse da estrarre dai nodi"
   ]
  },
  {
   "cell_type": "markdown",
   "id": "14c4b333",
   "metadata": {},
   "source": [
    "## Sport e tempo libero"
   ]
  },
  {
   "cell_type": "markdown",
   "id": "65a39de7",
   "metadata": {},
   "source": [
    "Utilizzeremo i seguenti dati:\n",
    "1. **Parchi**\n",
    "2. **Impianti sportivi**\n",
    "3. **Aree gioco**  \n",
    "\n",
    "Saranno i nostri \"poi\", cioè \"Point of Interest\" che verranno aggiunti al Grafo della rete Ciclabile/Stradale per la ricerca di percorsi"
   ]
  },
  {
   "cell_type": "markdown",
   "id": "fc5ed9c9",
   "metadata": {},
   "source": [
    "### Analisi completa"
   ]
  },
  {
   "cell_type": "code",
   "execution_count": 31,
   "id": "c774a8e6",
   "metadata": {},
   "outputs": [],
   "source": [
    "gdf_list = [\n",
    "    {\"gdf\":  gpd.read_file(PATH_PARCHI_CLEAN),\n",
    "     \"tipo\": \"parchi\",\n",
    "     \"attr\": {\"priorita\": 1}},\n",
    "     {\"gdf\":  gpd.read_file(PATH_IMPIANTI_SPORTIVI_CLEAN),\n",
    "     \"tipo\": \"impianti_sportivi\",\n",
    "     \"attr\": {\"priorita\": 2}},\n",
    "     {\"gdf\":  gpd.read_file(PATH_AREE_GIOCO_CLEAN),\n",
    "     \"tipo\": \"aree_gioco\",\n",
    "     \"attr\": {\"priorita\": 3}} \n",
    "]\n",
    "Graph_functions.auto_analysis_poi(gdf_list,\n",
    "                                  PATH_PICKLE=PATH_SPORT_TEMPO_LIBERO_COMPLETO_PICKLE_STAGING,\n",
    "                                  PATH_GEOJSON=PATH_SPORT_TEMPO_LIBERO_COMPLETO_CLEAN)"
   ]
  },
  {
   "cell_type": "markdown",
   "id": "06431cc9",
   "metadata": {},
   "source": [
    "### Analisi filtrata"
   ]
  },
  {
   "cell_type": "markdown",
   "id": "f909aabc",
   "metadata": {},
   "source": [
    "Incidenti"
   ]
  },
  {
   "cell_type": "code",
   "execution_count": 32,
   "id": "45efc912",
   "metadata": {},
   "outputs": [],
   "source": [
    "with open(PATH_SPORT_TEMPO_LIBERO_COMPLETO_PICKLE_STAGING, \"rb\") as file:\n",
    "    G_sport = pickle.load(file)\n",
    "\n",
    "Graph_functions.auto_filter_poi(G_percorsi=G_sport,\n",
    "                                max_pois=400,\n",
    "                                peso_inquinamento_vs_incidenti=0,\n",
    "                                peso_fattori_esterni_vs_distribuzione_poi=1,\n",
    "                                PATH_PICKLE=PATH_SPORT_TEMPO_LIBERO_INCIDENTI_PICKLE_STAGING,\n",
    "                                PATH_GEOJSON=PATH_SPORT_TEMPO_LIBERO_INCIDENTI_CLEAN)"
   ]
  },
  {
   "cell_type": "markdown",
   "id": "9aa023fd",
   "metadata": {},
   "source": [
    "Inquinamento"
   ]
  },
  {
   "cell_type": "code",
   "execution_count": 33,
   "id": "c09b58be",
   "metadata": {},
   "outputs": [],
   "source": [
    "with open(PATH_SPORT_TEMPO_LIBERO_COMPLETO_PICKLE_STAGING, \"rb\") as file:\n",
    "    G_sport = pickle.load(file)\n",
    "\n",
    "Graph_functions.auto_filter_poi(G_percorsi=G_sport,\n",
    "                                max_pois=400,\n",
    "                                peso_inquinamento_vs_incidenti=1,\n",
    "                                peso_fattori_esterni_vs_distribuzione_poi=1,\n",
    "                                PATH_PICKLE=PATH_SPORT_TEMPO_LIBERO_INQUINAMENTO_PICKLE_STAGING,\n",
    "                                PATH_GEOJSON=PATH_SPORT_TEMPO_LIBERO_INQUINAMENTO_CLEAN)"
   ]
  },
  {
   "cell_type": "markdown",
   "id": "77daee37",
   "metadata": {},
   "source": [
    "### Unione 3 GeoDataFrame"
   ]
  },
  {
   "cell_type": "markdown",
   "id": "5b2ac043",
   "metadata": {},
   "source": [
    "Unione Percorsi generati"
   ]
  },
  {
   "cell_type": "code",
   "execution_count": 34,
   "id": "16eebfeb",
   "metadata": {},
   "outputs": [],
   "source": [
    "gdf_completo = gpd.read_file(PATH_SPORT_TEMPO_LIBERO_COMPLETO_CLEAN)\n",
    "gdf_filtrato_incidenti = gpd.read_file(PATH_SPORT_TEMPO_LIBERO_INCIDENTI_CLEAN)\n",
    "gdf_filtrato_inquinamento = gpd.read_file(PATH_SPORT_TEMPO_LIBERO_INQUINAMENTO_CLEAN)\n",
    "\n",
    "gdf_completo[\"origine\"] = \"completo\"\n",
    "gdf_filtrato_incidenti[\"origine\"] = \"solo_incidenti\"\n",
    "gdf_filtrato_inquinamento[\"origine\"] = \"solo_inquinamento\"\n",
    "gdf_unito = gpd.GeoDataFrame(gpd.pd.concat([\n",
    "        gdf_completo,\n",
    "        gdf_filtrato_incidenti,\n",
    "        gdf_filtrato_inquinamento,\n",
    "    ], ignore_index=True), crs=CRS_GRAD)"
   ]
  },
  {
   "cell_type": "code",
   "execution_count": 35,
   "id": "2368bee2",
   "metadata": {},
   "outputs": [],
   "source": [
    "gdf_unito.to_file(PATH_SPORT_TEMPO_LIBERO_UNITI_CLEAN)"
   ]
  },
  {
   "cell_type": "markdown",
   "id": "18bc5e75",
   "metadata": {},
   "source": [
    "Unione POI attraverso i Nodi dei grafi"
   ]
  },
  {
   "cell_type": "code",
   "execution_count": 67,
   "id": "0c09e435",
   "metadata": {},
   "outputs": [],
   "source": [
    "with open(PATH_SPORT_TEMPO_LIBERO_COMPLETO_PICKLE_STAGING, \"rb\") as file:\n",
    "    gdf_nodes_completo = Graph_functions.get_gdf_POI_from_graph(pickle.load(file))\n",
    "with open(PATH_SPORT_TEMPO_LIBERO_INQUINAMENTO_PICKLE_STAGING, \"rb\") as file:\n",
    "    gdf_nodes_inquinamento = Graph_functions.get_gdf_POI_from_graph(pickle.load(file))\n",
    "with open(PATH_SPORT_TEMPO_LIBERO_INCIDENTI_PICKLE_STAGING, \"rb\") as file:\n",
    "    gdf_nodes_incidenti = Graph_functions.get_gdf_POI_from_graph(pickle.load(file))\n",
    "\n",
    "gdf_nodes_completo[\"origine\"] = \"completo\"\n",
    "gdf_nodes_inquinamento[\"origine\"] = \"solo_inquinamento\"\n",
    "gdf_nodes_incidenti[\"origine\"] = \"solo_incidenti\"\n",
    "\n",
    "gdf_nodes_unito = gpd.GeoDataFrame(gpd.pd.concat([\n",
    "        gdf_nodes_completo,\n",
    "        gdf_nodes_incidenti,\n",
    "        gdf_nodes_inquinamento,\n",
    "    ], ignore_index=True), crs=CRS_GRAD)\n"
   ]
  },
  {
   "cell_type": "code",
   "execution_count": 68,
   "id": "311d5003",
   "metadata": {},
   "outputs": [],
   "source": [
    "gdf_nodes_unito.to_file(PATH_SPORT_TEMPO_LIBERO_POI_UNITI_CLEAN, driver=\"GeoJSON\")"
   ]
  },
  {
   "cell_type": "markdown",
   "id": "1e83a9c0",
   "metadata": {},
   "source": [
    "## Istruzione"
   ]
  },
  {
   "cell_type": "markdown",
   "id": "d3093a96",
   "metadata": {},
   "source": [
    "Utilizzeremo i seguenti dati:\n",
    "1. **Biblioteche**\n",
    "2. **Scuole**\n",
    "Saranno i nostri \"poi\", cioè \"Point of Interest\" che verranno aggiunti al Grafo della rete Ciclabile/Stradale per la ricerca di percorsi"
   ]
  },
  {
   "cell_type": "markdown",
   "id": "be3899d3",
   "metadata": {},
   "source": [
    "### Analisi Completa"
   ]
  },
  {
   "cell_type": "code",
   "execution_count": 2,
   "id": "c1ec5deb",
   "metadata": {},
   "outputs": [],
   "source": [
    "gdf_list = [\n",
    "    {\"gdf\":  gpd.read_file(PATH_BIBLIOTECHE_CLEAN),\n",
    "     \"tipo\": \"biblioteche\",\n",
    "     \"attr\": {\"priorita\": 1}},\n",
    "     {\"gdf\":  gpd.read_file(PATH_SCUOLE_CLEAN),\n",
    "     \"tipo\": \"scuole\",\n",
    "     \"attr\": {\"priorita\": 2}}\n",
    "     ]\n",
    "Graph_functions.auto_analysis_poi(gdf_list,\n",
    "                                PATH_PICKLE=PATH_ISTRUZIONE_COMPLETO_PICKLE_STAGING,\n",
    "                                PATH_GEOJSON=PATH_ISTRUZIONE_COMPLETO_CLEAN)"
   ]
  },
  {
   "cell_type": "markdown",
   "id": "8cc2ae49",
   "metadata": {},
   "source": [
    "### Analisi Filtrata"
   ]
  },
  {
   "cell_type": "markdown",
   "id": "21cd103d",
   "metadata": {},
   "source": [
    "Incidenti"
   ]
  },
  {
   "cell_type": "code",
   "execution_count": 3,
   "id": "7fea3c33",
   "metadata": {},
   "outputs": [],
   "source": [
    "with open(PATH_ISTRUZIONE_COMPLETO_PICKLE_STAGING, \"rb\") as file:\n",
    "    G_istruzione = pickle.load(file)\n",
    "\n",
    "Graph_functions.auto_filter_poi(G_percorsi=G_istruzione,\n",
    "                                max_pois=100,\n",
    "                                peso_inquinamento_vs_incidenti=0,\n",
    "                                peso_fattori_esterni_vs_distribuzione_poi=1,\n",
    "                                PATH_PICKLE=PATH_ISTRUZIONE_INCIDENTI_PICKLE_STAGING,\n",
    "                                PATH_GEOJSON=PATH_ISTRUZIONE_INCIDENTI_CLEAN)"
   ]
  },
  {
   "cell_type": "markdown",
   "id": "7ba77a7b",
   "metadata": {},
   "source": [
    "Inquinamento"
   ]
  },
  {
   "cell_type": "code",
   "execution_count": 4,
   "id": "fa924eea",
   "metadata": {},
   "outputs": [],
   "source": [
    "with open(PATH_ISTRUZIONE_COMPLETO_PICKLE_STAGING, \"rb\") as file:\n",
    "    G_istruzione = pickle.load(file)\n",
    "\n",
    "Graph_functions.auto_filter_poi(G_percorsi=G_istruzione,\n",
    "                                max_pois=100,\n",
    "                                peso_inquinamento_vs_incidenti=1,\n",
    "                                peso_fattori_esterni_vs_distribuzione_poi=1,\n",
    "                                PATH_PICKLE=PATH_ISTRUZIONE_INQUINAMENTO_PICKLE_STAGING,\n",
    "                                PATH_GEOJSON=PATH_ISTRUZIONE_INQUINAMENTO_CLEAN)"
   ]
  },
  {
   "cell_type": "markdown",
   "id": "28ca6a26",
   "metadata": {},
   "source": [
    "### Unione 3 GeoDataFrame"
   ]
  },
  {
   "cell_type": "markdown",
   "id": "1048fc9e",
   "metadata": {},
   "source": [
    "Unione Percorsi generati"
   ]
  },
  {
   "cell_type": "code",
   "execution_count": 5,
   "id": "c13a5e7c",
   "metadata": {},
   "outputs": [],
   "source": [
    "gdf_completo = gpd.read_file(PATH_ISTRUZIONE_COMPLETO_CLEAN)\n",
    "gdf_filtrato_incidenti = gpd.read_file(PATH_ISTRUZIONE_INCIDENTI_CLEAN)\n",
    "gdf_filtrato_inquinamento = gpd.read_file(PATH_ISTRUZIONE_INQUINAMENTO_CLEAN)\n",
    "\n",
    "gdf_completo[\"origine\"] = \"completo\"\n",
    "gdf_filtrato_incidenti[\"origine\"] = \"solo_incidenti\"\n",
    "gdf_filtrato_inquinamento[\"origine\"] = \"solo_inquinamento\"\n",
    "gdf_unito = gpd.GeoDataFrame(gpd.pd.concat([\n",
    "        gdf_completo,\n",
    "        gdf_filtrato_incidenti,\n",
    "        gdf_filtrato_inquinamento,\n",
    "    ], ignore_index=True), crs=CRS_GRAD)"
   ]
  },
  {
   "cell_type": "code",
   "execution_count": 6,
   "id": "46c631ab",
   "metadata": {},
   "outputs": [],
   "source": [
    "gdf_unito.to_file(PATH_ISTRUZIONE_UNITI_CLEAN)"
   ]
  },
  {
   "cell_type": "markdown",
   "id": "ad0f892d",
   "metadata": {},
   "source": [
    "Unione POI attraverso i Nodi dei grafi"
   ]
  },
  {
   "cell_type": "code",
   "execution_count": 7,
   "id": "d018ae69",
   "metadata": {},
   "outputs": [],
   "source": [
    "with open(PATH_ISTRUZIONE_COMPLETO_PICKLE_STAGING, \"rb\") as file:\n",
    "    gdf_nodes_completo = Graph_functions.get_gdf_POI_from_graph(pickle.load(file))\n",
    "with open(PATH_ISTRUZIONE_INQUINAMENTO_PICKLE_STAGING, \"rb\") as file:\n",
    "    gdf_nodes_inquinamento = Graph_functions.get_gdf_POI_from_graph(pickle.load(file))\n",
    "with open(PATH_ISTRUZIONE_INCIDENTI_PICKLE_STAGING, \"rb\") as file:\n",
    "    gdf_nodes_incidenti = Graph_functions.get_gdf_POI_from_graph(pickle.load(file))\n",
    "\n",
    "gdf_nodes_completo[\"origine\"] = \"completo\"\n",
    "gdf_nodes_inquinamento[\"origine\"] = \"solo_inquinamento\"\n",
    "gdf_nodes_incidenti[\"origine\"] = \"solo_incidenti\"\n",
    "\n",
    "gdf_nodes_unito = gpd.GeoDataFrame(gpd.pd.concat([\n",
    "        gdf_nodes_completo,\n",
    "        gdf_nodes_incidenti,\n",
    "        gdf_nodes_inquinamento,\n",
    "    ], ignore_index=True), crs=CRS_GRAD)\n"
   ]
  },
  {
   "cell_type": "code",
   "execution_count": 8,
   "id": "b14f9bc4",
   "metadata": {},
   "outputs": [],
   "source": [
    "gdf_nodes_unito.to_file(PATH_ISTRUZIONE_POI_UNITI_CLEAN, driver=\"GeoJSON\")"
   ]
  },
  {
   "cell_type": "markdown",
   "id": "e6dc0de2",
   "metadata": {},
   "source": [
    "## Cultura e spettacolo"
   ]
  },
  {
   "cell_type": "markdown",
   "id": "d00b6cd1",
   "metadata": {},
   "source": [
    "Utilizzeremo i seguenti dati: \n",
    "\n",
    "1. **Musei**\n",
    "2. **Cinema**\n",
    "3. **Teatri**\n",
    "\n",
    "Saranno i nostri \"poi\", cioè \"Point of Interest\"\n",
    "che verranno aggiunti al Grafo della rete \n",
    "Ciclabile/Stradale per la ricerca di percorsi"
   ]
  },
  {
   "cell_type": "markdown",
   "id": "755fac22",
   "metadata": {},
   "source": [
    "### Analisi Completa"
   ]
  },
  {
   "cell_type": "code",
   "execution_count": 16,
   "id": "bf55f379",
   "metadata": {},
   "outputs": [],
   "source": [
    "gdf_list = [\n",
    "    {\"gdf\":  gpd.read_file(PATH_MUSEI_CLEAN),\n",
    "     \"tipo\": \"musei\",\n",
    "     \"attr\": {\"priorita\": 1}},\n",
    "     {\"gdf\":  gpd.read_file(PATH_CINEMA_CLEAN),\n",
    "     \"tipo\": \"cinema\",\n",
    "     \"attr\": {\"priorita\": 2}}, \n",
    "     {\"gdf\":  gpd.read_file(PATH_TEATRI_CLEAN),\n",
    "     \"tipo\": \"teatri\",\n",
    "     \"attr\": {\"priorita\": 3}}\n",
    "     ]\n",
    "Graph_functions.auto_analysis_poi(gdf_list,\n",
    "                                  PATH_PICKLE= PATH_CULTURA_SPETTACOLO_COMPLETO_PICKLE_STAGING,\n",
    "                                  PATH_GEOJSON=PATH_CULTURA_SPETTACOLO_COMPLETO_CLEAN)"
   ]
  },
  {
   "cell_type": "markdown",
   "id": "228427f2",
   "metadata": {},
   "source": [
    "### Analisi Filtrata"
   ]
  },
  {
   "cell_type": "markdown",
   "id": "8336fc61",
   "metadata": {},
   "source": [
    "Incidenti"
   ]
  },
  {
   "cell_type": "code",
   "execution_count": 17,
   "id": "8b29667c",
   "metadata": {},
   "outputs": [],
   "source": [
    "with open(PATH_CULTURA_SPETTACOLO_COMPLETO_PICKLE_STAGING, \"rb\") as file:\n",
    "    G_cultura_spettacolo = pickle.load(file)\n",
    "\n",
    "Graph_functions.auto_filter_poi(G_percorsi=G_cultura_spettacolo,\n",
    "                                max_pois=100,\n",
    "                                peso_inquinamento_vs_incidenti=0,\n",
    "                                peso_fattori_esterni_vs_distribuzione_poi=1,\n",
    "                                PATH_PICKLE=PATH_CULTURA_SPETTACOLO_INCIDENTI_PICKLE_STAGING,\n",
    "                                PATH_GEOJSON=PATH_CULTURA_SPETTACOLO_INCIDENTI_CLEAN)"
   ]
  },
  {
   "cell_type": "markdown",
   "id": "7dee88f3",
   "metadata": {},
   "source": [
    "Inquinamento"
   ]
  },
  {
   "cell_type": "code",
   "execution_count": 18,
   "id": "a711ad3a",
   "metadata": {},
   "outputs": [],
   "source": [
    "with open(PATH_CULTURA_SPETTACOLO_COMPLETO_PICKLE_STAGING, \"rb\") as file:\n",
    "    G_cultura_spettacolo = pickle.load(file)\n",
    "\n",
    "Graph_functions.auto_filter_poi(G_percorsi=G_cultura_spettacolo,\n",
    "                                max_pois=100,\n",
    "                                peso_inquinamento_vs_incidenti=1,\n",
    "                                peso_fattori_esterni_vs_distribuzione_poi=1,\n",
    "                                PATH_PICKLE=PATH_CULTURA_SPETTACOLO_INQUINAMENTO_PICKLE_STAGING,\n",
    "                                PATH_GEOJSON=PATH_CULTURA_SPETTACOLO_INQUINAMENTO_CLEAN)"
   ]
  },
  {
   "cell_type": "markdown",
   "id": "d1682d28",
   "metadata": {},
   "source": [
    "### Unione 3 GeoDataFrame"
   ]
  },
  {
   "cell_type": "markdown",
   "id": "16377445",
   "metadata": {},
   "source": [
    "Unione Percorsi generati"
   ]
  },
  {
   "cell_type": "code",
   "execution_count": 19,
   "id": "066cb2ef",
   "metadata": {},
   "outputs": [],
   "source": [
    "gdf_completo = gpd.read_file(PATH_CULTURA_SPETTACOLO_COMPLETO_CLEAN)\n",
    "gdf_filtrato_incidenti = gpd.read_file(PATH_CULTURA_SPETTACOLO_INCIDENTI_CLEAN)\n",
    "gdf_filtrato_inquinamento = gpd.read_file(PATH_CULTURA_SPETTACOLO_INQUINAMENTO_CLEAN)\n",
    "\n",
    "gdf_completo[\"origine\"] = \"completo\"\n",
    "gdf_filtrato_incidenti[\"origine\"] = \"solo_incidenti\"\n",
    "gdf_filtrato_inquinamento[\"origine\"] = \"solo_inquinamento\"\n",
    "gdf_unito = gpd.GeoDataFrame(gpd.pd.concat([\n",
    "        gdf_completo,\n",
    "        gdf_filtrato_incidenti,\n",
    "        gdf_filtrato_inquinamento,\n",
    "    ], ignore_index=True), crs=CRS_GRAD)"
   ]
  },
  {
   "cell_type": "code",
   "execution_count": 20,
   "id": "67bf17f1",
   "metadata": {},
   "outputs": [],
   "source": [
    "gdf_unito.to_file(PATH_CULTURA_SPETTACOLO_UNITI_CLEAN)"
   ]
  },
  {
   "cell_type": "markdown",
   "id": "fc049b98",
   "metadata": {},
   "source": [
    "Unione POI attraverso i Nodi dei grafi"
   ]
  },
  {
   "cell_type": "code",
   "execution_count": 69,
   "id": "8f959cde",
   "metadata": {},
   "outputs": [],
   "source": [
    "with open(PATH_CULTURA_SPETTACOLO_COMPLETO_PICKLE_STAGING, \"rb\") as file:\n",
    "    gdf_nodes_completo = Graph_functions.get_gdf_POI_from_graph(pickle.load(file))\n",
    "with open(PATH_CULTURA_SPETTACOLO_INQUINAMENTO_PICKLE_STAGING, \"rb\") as file:\n",
    "    gdf_nodes_inquinamento = Graph_functions.get_gdf_POI_from_graph(pickle.load(file))\n",
    "with open(PATH_CULTURA_SPETTACOLO_INCIDENTI_PICKLE_STAGING, \"rb\") as file:\n",
    "    gdf_nodes_incidenti = Graph_functions.get_gdf_POI_from_graph(pickle.load(file))\n",
    "\n",
    "gdf_nodes_completo[\"origine\"] = \"completo\"\n",
    "gdf_nodes_inquinamento[\"origine\"] = \"solo_inquinamento\"\n",
    "gdf_nodes_incidenti[\"origine\"] = \"solo_incidenti\"\n",
    "\n",
    "gdf_nodes_unito = gpd.GeoDataFrame(gpd.pd.concat([\n",
    "        gdf_nodes_completo,\n",
    "        gdf_nodes_incidenti,\n",
    "        gdf_nodes_inquinamento,\n",
    "    ], ignore_index=True), crs=CRS_GRAD)\n"
   ]
  },
  {
   "cell_type": "code",
   "execution_count": 70,
   "id": "896667f0",
   "metadata": {},
   "outputs": [],
   "source": [
    "gdf_nodes_unito.to_file(PATH_CULTURA_SPETTACOLO_POI_UNITI_CLEAN, driver=\"GeoJSON\")"
   ]
  },
  {
   "cell_type": "markdown",
   "id": "ced81c85",
   "metadata": {},
   "source": [
    "## Sanità"
   ]
  },
  {
   "cell_type": "markdown",
   "id": "40d5d8a4",
   "metadata": {},
   "source": [
    "Utilizzeremo i seguenti dati: \n",
    "\n",
    "1. **Ospedali**\n",
    "2. **Farmacie**\n",
    "\n",
    "\n",
    "Saranno i nostri \"poi\", cioè \"Point of Interest\"\n",
    "che verranno aggiunti al Grafo della rete \n",
    "Ciclabile/Stradale per la ricerca di percorsi"
   ]
  },
  {
   "cell_type": "markdown",
   "id": "4dc2f909",
   "metadata": {},
   "source": [
    "### Analisi Completa"
   ]
  },
  {
   "cell_type": "code",
   "execution_count": 23,
   "id": "c6b788aa",
   "metadata": {},
   "outputs": [],
   "source": [
    "gdf_list = [\n",
    "    {\"gdf\":  gpd.read_file(PATH_OSPEDALI_CLEAN),\n",
    "     \"tipo\": \"ospedali\",\n",
    "     \"attr\": {\"priorita\": 1}},\n",
    "     {\"gdf\":  gpd.read_file(PATH_FARMACIE_CLEAN),\n",
    "     \"tipo\": \"farmacie\",\n",
    "     \"attr\": {\"priorita\": 2}}\n",
    "     ]\n",
    "Graph_functions.auto_analysis_poi(gdf_list,\n",
    "                                  PATH_PICKLE=PATH_SANITA_COMPLETO_PICKLE_STAGING,\n",
    "                                  PATH_GEOJSON=PATH_SANITA_COMPLETO_CLEAN)"
   ]
  },
  {
   "cell_type": "markdown",
   "id": "a9f1c60b",
   "metadata": {},
   "source": [
    "### Analisi Filtrata"
   ]
  },
  {
   "cell_type": "markdown",
   "id": "2abc2f3d",
   "metadata": {},
   "source": [
    "Incidenti"
   ]
  },
  {
   "cell_type": "code",
   "execution_count": 24,
   "id": "d96d1a97",
   "metadata": {},
   "outputs": [],
   "source": [
    "with open(PATH_SANITA_COMPLETO_PICKLE_STAGING, \"rb\") as file:\n",
    "    G_sanita = pickle.load(file)\n",
    "\n",
    "Graph_functions.auto_filter_poi(G_percorsi=G_sanita,\n",
    "                                max_pois=300,\n",
    "                                peso_inquinamento_vs_incidenti=0,\n",
    "                                peso_fattori_esterni_vs_distribuzione_poi=1,\n",
    "                                PATH_PICKLE=PATH_SANITA_INCIDENTI_PICKLE_STAGING,\n",
    "                                PATH_GEOJSON=PATH_SANITA_INCIDENTI_CLEAN)"
   ]
  },
  {
   "cell_type": "markdown",
   "id": "88c56c88",
   "metadata": {},
   "source": [
    "Inquinamento"
   ]
  },
  {
   "cell_type": "code",
   "execution_count": 25,
   "id": "137305c8",
   "metadata": {},
   "outputs": [],
   "source": [
    "with open(PATH_SANITA_COMPLETO_PICKLE_STAGING, \"rb\") as file:\n",
    "    G_sanita = pickle.load(file)\n",
    "\n",
    "Graph_functions.auto_filter_poi(G_percorsi=G_sanita,\n",
    "                                max_pois=300,\n",
    "                                peso_inquinamento_vs_incidenti=1,\n",
    "                                peso_fattori_esterni_vs_distribuzione_poi=1,\n",
    "                                PATH_PICKLE=PATH_SANITA_INQUINAMENTO_PICKLE_STAGING,\n",
    "                                PATH_GEOJSON=PATH_SANITA_INQUINAMENTO_CLEAN)"
   ]
  },
  {
   "cell_type": "markdown",
   "id": "e5f6b42f",
   "metadata": {},
   "source": [
    "### Unione 3 GeoDataFrame"
   ]
  },
  {
   "cell_type": "markdown",
   "id": "1948158f",
   "metadata": {},
   "source": [
    "Unione Percorsi generati"
   ]
  },
  {
   "cell_type": "code",
   "execution_count": 26,
   "id": "9fe527ca",
   "metadata": {},
   "outputs": [],
   "source": [
    "gdf_completo = gpd.read_file(PATH_SANITA_COMPLETO_CLEAN)\n",
    "gdf_filtrato_incidenti = gpd.read_file(PATH_SANITA_INCIDENTI_CLEAN)\n",
    "gdf_filtrato_inquinamento = gpd.read_file(PATH_SANITA_INQUINAMENTO_CLEAN)\n",
    "\n",
    "gdf_completo[\"origine\"] = \"completo\"\n",
    "gdf_filtrato_incidenti[\"origine\"] = \"solo_incidenti\"\n",
    "gdf_filtrato_inquinamento[\"origine\"] = \"solo_inquinamento\"\n",
    "gdf_unito = gpd.GeoDataFrame(gpd.pd.concat([\n",
    "        gdf_completo,\n",
    "        gdf_filtrato_incidenti,\n",
    "        gdf_filtrato_inquinamento,\n",
    "    ], ignore_index=True), crs=CRS_GRAD)"
   ]
  },
  {
   "cell_type": "code",
   "execution_count": 27,
   "id": "fa24646a",
   "metadata": {},
   "outputs": [],
   "source": [
    "gdf_unito.to_file(PATH_SANITA_UNITI_CLEAN)"
   ]
  },
  {
   "cell_type": "markdown",
   "id": "ecaf4039",
   "metadata": {},
   "source": [
    "Unione POI attraverso i Nodi dei grafi"
   ]
  },
  {
   "cell_type": "code",
   "execution_count": 71,
   "id": "243de3fe",
   "metadata": {},
   "outputs": [],
   "source": [
    "with open(PATH_SANITA_COMPLETO_PICKLE_STAGING, \"rb\") as file:\n",
    "    gdf_nodes_completo = Graph_functions.get_gdf_POI_from_graph(pickle.load(file))\n",
    "with open(PATH_SANITA_INQUINAMENTO_PICKLE_STAGING, \"rb\") as file:\n",
    "    gdf_nodes_inquinamento = Graph_functions.get_gdf_POI_from_graph(pickle.load(file))\n",
    "with open(PATH_SANITA_INCIDENTI_PICKLE_STAGING, \"rb\") as file:\n",
    "    gdf_nodes_incidenti = Graph_functions.get_gdf_POI_from_graph(pickle.load(file))\n",
    "\n",
    "gdf_nodes_completo[\"origine\"] = \"completo\"\n",
    "gdf_nodes_inquinamento[\"origine\"] = \"solo_inquinamento\"\n",
    "gdf_nodes_incidenti[\"origine\"] = \"solo_incidenti\"\n",
    "\n",
    "gdf_nodes_unito = gpd.GeoDataFrame(gpd.pd.concat([\n",
    "        gdf_nodes_completo,\n",
    "        gdf_nodes_incidenti,\n",
    "        gdf_nodes_inquinamento,\n",
    "    ], ignore_index=True), crs=CRS_GRAD)"
   ]
  },
  {
   "cell_type": "code",
   "execution_count": 72,
   "id": "6ebbf066",
   "metadata": {},
   "outputs": [],
   "source": [
    "gdf_nodes_unito.to_file(PATH_SANITA_POI_UNITI_CLEAN, driver=\"GeoJSON\")"
   ]
  },
  {
   "cell_type": "markdown",
   "id": "e151ab70",
   "metadata": {},
   "source": [
    "## Statistiche POI x Municipi"
   ]
  },
  {
   "cell_type": "code",
   "execution_count": 47,
   "id": "e8b3410e",
   "metadata": {},
   "outputs": [],
   "source": [
    "# Carica dati, aggiungendo una colonna \"tipo\" e tenendo solo questa colonna e geometry\n",
    "municipi = gpd.read_file(PATH_MUNICIPI_CLEAN)\n",
    "parchi = gpd.read_file(PATH_PARCHI_CLEAN).assign(tipo=\"parchi\")[[\"tipo\", \"geometry\"]]\n",
    "fontane = gpd.read_file(PATH_FONTANE_CLEAN).assign(tipo=\"fontane\")[[\"tipo\", \"geometry\"]]\n",
    "impianti = gpd.read_file(PATH_IMPIANTI_SPORTIVI_CLEAN).assign(tipo=\"impianti_sportivi\")[[\"tipo\", \"geometry\"]]\n",
    "scuole = gpd.read_file(PATH_SCUOLE_CLEAN).assign(tipo=\"scuole\")[[\"tipo\", \"geometry\"]]\n",
    "aree_gioco = gpd.read_file(PATH_AREE_GIOCO_CLEAN).assign(tipo=\"aree_gioco\")[[\"tipo\", \"geometry\"]]\n",
    "biblioteche = gpd.read_file(PATH_BIBLIOTECHE_CLEAN).assign(tipo=\"biblioteche\")[[\"tipo\", \"geometry\"]]\n",
    "stazioni_bikemi = gpd.read_file(PATH_BIKEMI_CLEAN).assign(tipo=\"stazioni_bikemi\")[[\"tipo\", \"geometry\"]]\n",
    "case_acqua = gpd.read_file(PATH_CASE_ACQUA_CLEAN).assign(tipo=\"case_acqua\")[[\"tipo\", \"geometry\"]]\n",
    "cinema = gpd.read_file(PATH_CINEMA_CLEAN).assign(tipo=\"cinema\")[[\"tipo\", \"geometry\"]]\n",
    "farmacie = gpd.read_file(PATH_FARMACIE_CLEAN).assign(tipo=\"farmacie\")[[\"tipo\", \"geometry\"]]\n",
    "musei = gpd.read_file(PATH_MUSEI_CLEAN).assign(tipo=\"musei\")[[\"tipo\", \"geometry\"]]\n",
    "ospedali = gpd.read_file(PATH_OSPEDALI_CLEAN).assign(tipo=\"ospedali\")[[\"tipo\", \"geometry\"]]\n",
    "teatri = gpd.read_file(PATH_TEATRI_CLEAN).assign(tipo=\"teatri\")[[\"tipo\", \"geometry\"]]\n",
    "# Anche le ciclabili come \"poi\" per poter poi filtrare con le analisi\n",
    "gdf_ciclabili = gpd.read_file(PATH_STRADE_CICLABILI_GEOJSON_CLEAN)\n",
    "gdf_ciclabili_cycleway = gdf_ciclabili[gdf_ciclabili[\"highway\"] == \"cycleway\"]\n",
    "gdf_point_ciclabili = []\n",
    "for idx, row in gdf_ciclabili_cycleway.iterrows():\n",
    "    gdf_point_ciclabili.append(Point(row.geometry.coords[0]))\n",
    "    gdf_point_ciclabili.append(Point(row.geometry.coords[-1]))\n",
    "ciclabili = gpd.GeoDataFrame(gdf_point_ciclabili, columns=[\"geometry\"], crs=CRS_GRAD).assign(tipo=\"ciclabile\")[[\"tipo\", \"geometry\"]]"
   ]
  },
  {
   "cell_type": "markdown",
   "id": "20de51e9",
   "metadata": {},
   "source": [
    "Uniamo le righe dei vari dataframe in uno unico"
   ]
  },
  {
   "cell_type": "code",
   "execution_count": 48,
   "id": "2287bae9",
   "metadata": {},
   "outputs": [],
   "source": [
    "gdf_pois = gpd.pd.concat([\n",
    "    parchi, fontane, impianti, scuole, aree_gioco, biblioteche,\n",
    "    stazioni_bikemi, case_acqua, cinema, farmacie, musei, ospedali, teatri, ciclabili\n",
    "], ignore_index=True)"
   ]
  },
  {
   "cell_type": "markdown",
   "id": "b1bed7ee",
   "metadata": {},
   "source": [
    "Tramite sjoin con predicato \"intersect\": eseguiamo una left-join con il gdf dei municipi in base\n",
    "all'intersezione delle geometrie"
   ]
  },
  {
   "cell_type": "code",
   "execution_count": 49,
   "id": "f9e68e12",
   "metadata": {},
   "outputs": [],
   "source": [
    "gdf_pois_con_municipio = gpd.sjoin(\n",
    "    municipi,\n",
    "    gdf_pois,\n",
    "    how=\"left\",\n",
    "    predicate=\"intersects\"\n",
    "    ).drop([\"index_right\"], axis=1) # eliminiamo l'index_right (conserva l'indice del dataframe del gdf di destra ma non ci serve)"
   ]
  },
  {
   "cell_type": "markdown",
   "id": "7aa0eb66",
   "metadata": {},
   "source": [
    "Raggruppiamo per Municipio e Tipo (mettiamo anche geometry così ci rimane per il geojson).  "
   ]
  },
  {
   "cell_type": "code",
   "execution_count": 50,
   "id": "9205ef0d",
   "metadata": {},
   "outputs": [],
   "source": [
    "conteggi = gdf_pois_con_municipio.groupby(['MUNICIPIO', 'geometry', 'tipo']).size().unstack(fill_value=0).reset_index()"
   ]
  },
  {
   "cell_type": "markdown",
   "id": "46df8294",
   "metadata": {},
   "source": [
    "Aggiungiamo una colonna \"point_etichetta\" a cui assegniamo il \"centroid\" del poligono dei vari municipi, in modo  \n",
    "da utilizzarlo su kepler per aggiungere un layer \"poin\" a cui assegniamo una \"label\" (etichetta) così visualizziamo  \n",
    "a schermo il numero dell'attributo preso in considerazione (esempio, numero di parchi = 34, così si vede direttamente sulla mappa  \n",
    "oltre a vedersi solo il colore. Può essere carino)."
   ]
  },
  {
   "cell_type": "code",
   "execution_count": 51,
   "id": "a4eed437",
   "metadata": {},
   "outputs": [],
   "source": [
    "conteggi[\"point_etichetta\"] = conteggi.geometry.apply(lambda x: x.centroid)"
   ]
  },
  {
   "cell_type": "markdown",
   "id": "45712ff7",
   "metadata": {},
   "source": [
    "Riconvertiamo in geodataframe e salviamo su file geojson"
   ]
  },
  {
   "cell_type": "code",
   "execution_count": 52,
   "id": "bf0a160b",
   "metadata": {},
   "outputs": [],
   "source": [
    "conteggi = gpd.GeoDataFrame(conteggi, geometry=\"geometry\", crs=CRS_GRAD)\n",
    "conteggi.to_file(PATH_SCORE_X_MUNICIPI, driver=\"GeoJSON\")"
   ]
  }
 ],
 "metadata": {
  "kernelspec": {
   "display_name": ".venv",
   "language": "python",
   "name": "python3"
  },
  "language_info": {
   "codemirror_mode": {
    "name": "ipython",
    "version": 3
   },
   "file_extension": ".py",
   "mimetype": "text/x-python",
   "name": "python",
   "nbconvert_exporter": "python",
   "pygments_lexer": "ipython3",
   "version": "3.13.2"
  }
 },
 "nbformat": 4,
 "nbformat_minor": 5
}
