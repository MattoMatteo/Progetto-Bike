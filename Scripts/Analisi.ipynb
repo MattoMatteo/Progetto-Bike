{
 "cells": [
  {
   "cell_type": "markdown",
   "id": "166309a1",
   "metadata": {},
   "source": [
    "# Analisi - Grafi"
   ]
  },
  {
   "cell_type": "code",
   "execution_count": 1,
   "id": "da77dda3",
   "metadata": {},
   "outputs": [],
   "source": [
    "import pickle\n",
    "from shapely import Point\n",
    "import geopandas as gpd\n",
    "\n",
    "from my_paths import *\n",
    "import Graph_functions"
   ]
  },
  {
   "cell_type": "markdown",
   "id": "96bd4170",
   "metadata": {},
   "source": [
    "## Analisi Automatica - Documentazione"
   ]
  },
  {
   "cell_type": "markdown",
   "id": "5cfdf378",
   "metadata": {},
   "source": [
    "Tramite la funzione **Graph_functions.auto_analysis_poi()** è possibile eseguire in automatico la ricreazione del grafo stradale con il dizionario dei pesi desiderato. Spiegazione della funzione:\n",
    " ```python\n",
    "(function) def auto_analysis_poi(\n",
    "    list_gdfs_poi: list[dict],\n",
    "    custom_weights: dict = None,\n",
    "    PATH_GEOJSON: str = None,\n",
    "    PATH_PICKLE: str = None\n",
    ") -> None\n",
    "```\n",
    "- Richiede una struttura a liste di dizionari di geoDataFrame per \"poi\" del tipo:\n",
    "    ```python\n",
    "    gdf_list = [\n",
    "        {\"gdf\":  gpd.read_file(PATH_DEL_GEOJSON),\n",
    "        \"tipo\": \"tipo che si vuole assegnare agli archi che connettono il gdf al grafo\",\n",
    "        \"attr\": {\"nome_attributo\": \"valore_attributo\"} # Opzionale\n",
    "        }\n",
    "    ]\n",
    "    ```\n",
    "    Un attributo che però **non è opzionale** **se** si vuole eseguire la nuova funzione di **\"auto_filter_poi\"** è **\"priorita\"** che deve essere un numero  \n",
    "    intero da 1 in poi. Minore è il valore e maggiore è la priorità (priorità 1 = massima).\n",
    "    ```python\n",
    "    \"attr\": {\"priorita\": 1}\n",
    "- custom_weights: Un dizionario di pesi del tipo:\n",
    "    ```python\n",
    "    {\"cycleway\": 0, \"primary\": 1, ....}\n",
    "    ```\n",
    "    Possibilità di inserire come chiave: \"default\": quando non viene trovata una \"highway\" associta al dizionario,  \n",
    "    verrà utilizzato il valore contenuto in \"default\".  \n",
    "    In questo modo se si fornisce un dizionario in cui c'è soltanto la chiave \"default\", tutte le strade avranno quel  \n",
    "    valore associato (esempio per creare un grafo di strade senza pesi):\n",
    "    ```python\n",
    "    {\"default\": 1}\n",
    "    ```\n",
    "    Se non viene dato nessun dizionario di pesi, verrà utilizzato direttamente il grafo salvato in staging, che contiene i pesi\n",
    "    standard che abbiamo stabilito, salvati su file json.\n",
    "- Si possono inserire i vari percorsi di salvataggio dei file pickle (grafo) e geojson(geoDataFrame).\n",
    "    \n",
    "\n",
    "    ```"
   ]
  },
  {
   "cell_type": "markdown",
   "id": "a2b96e3a",
   "metadata": {},
   "source": [
    "Documentazione per **\"auto_filter_poi\"**\n",
    "Trami un grafo (il pickle) generato da un **Graph_functions.auto_analysis_poi()** è possibile lanciare una versione \"ridotta\" dei percorsi\n",
    "in base a un numero fissato di \"poi\".  \n",
    "Attributi:\n",
    "```python\n",
    "(function) def auto_filter_poi(\n",
    "    G_percorsi: MultiDiGraph,\n",
    "    max_pois: int,\n",
    "    peso_inquinamento_vs_incidenti: float = 0.5,\n",
    "    peso_fattori_esterni_vs_distribuzione_poi: float = 0.5,\n",
    "    custom_weights: dict = None,\n",
    "    PATH_GEOJSON: str = None,\n",
    "    PATH_PICKLE: str = None\n",
    ") -> None\n",
    "```\n",
    "- **G_percorsi** -> Il file pickle salvato da **Graph_functions.auto_analysis_poi()**\n",
    "- **max_pois** -> Il numero massimo (circa) di \"pois\" su cui creare la versione ridotta del grafo originale.\n",
    "- **peso_inquinamento_vs_incidenti** -> Un numero da 0 -> 1: Più basso è e più sarà orientato verso **incidenti** (priorità su inquinamento = 0 per intenderci), mentre al contrario più è alto e più sarà sbilanciato su **inquinamento** rispetto a incidenti. Di base + 0.5 (non sbilanciato).\n",
    "- **peso_fattori_esterni_vs_distribuzione_poi** -> Stesso discorso di prima ma per quanto riguarda l'impatto dei fattori visti prima, denominati nel loro insieme come **fattori_esterni**. Per **distribuzione_poi** intendiamo la loro \"proporzionale\" diminuzione in base alla loro normale distribuzione tra i vari municipi.  \n",
    "Esempio: Municipio 1 ha 10 pois e Municipio 2 ne ha 20 (tot 30) e noi vogliamo un max di 10 -> vista la proporzione di 1 a 2 ->  \n",
    "Municipio 1 ottiene circa 3 poi mentro Municipio 2 ne ottiene circa 7. Questo nel caso in cui si mettesse come valore 1 a questo attributo e quindi nel caso in cui i \"fattori esterni\" non vengano tenuti in considerazione, altrimenti potrebbero andare a cambiare questi numeri in base a quanto peso si è deciso di dargli nel computo e poi di conseguenza a quale dei due fattori si è deciso di dare più importanza tramite il precedente parametro.\n",
    "- Gli altri parametri sono uguali a **auto_filter_poi()**"
   ]
  },
  {
   "cell_type": "markdown",
   "id": "06c9bf4a",
   "metadata": {},
   "source": [
    "## Estensione rete ciclabili"
   ]
  },
  {
   "cell_type": "markdown",
   "id": "b357cfa6",
   "metadata": {},
   "source": [
    "ETL gdf:  \n",
    "Provo a creare dei percorsi che hanno lo scopo di unire tutti i frammenti di ciclabili esistenti.  \n",
    "Quindi userò come \"poi\" tutti i nodi delle \"highway\"=cycleway"
   ]
  },
  {
   "cell_type": "code",
   "execution_count": 27,
   "id": "cbde9a58",
   "metadata": {},
   "outputs": [],
   "source": [
    "gdf_ciclabili = gpd.read_file(PATH_STRADE_CICLABILI_GEOJSON_CLEAN)\n",
    "gdf_ciclabili_cycleway = gdf_ciclabili[gdf_ciclabili[\"highway\"] == \"cycleway\"]\n",
    "gdf_point_ciclabili = []\n",
    "for idx, row in gdf_ciclabili_cycleway.iterrows():\n",
    "    gdf_point_ciclabili.append(Point(row.geometry.coords[0]))\n",
    "    gdf_point_ciclabili.append(Point(row.geometry.coords[-1]))\n",
    "gdf_point_ciclabili = gpd.GeoDataFrame(gdf_point_ciclabili, columns=[\"geometry\"], crs=CRS_GRAD)"
   ]
  },
  {
   "cell_type": "markdown",
   "id": "641257e7",
   "metadata": {},
   "source": [
    "### Analisi Completo"
   ]
  },
  {
   "cell_type": "code",
   "execution_count": 34,
   "id": "37bed9f2",
   "metadata": {},
   "outputs": [],
   "source": [
    "gdf_list = [\n",
    "    {\"gdf\":  gdf_point_ciclabili,\n",
    "     \"tipo\": \"ciclabile\",\n",
    "     \"attr\": {\"priorita\": 1}}\n",
    "]\n",
    "Graph_functions.auto_analysis_poi(gdf_list,\n",
    "                                  PATH_PICKLE=PATH_EXTENDED_CICLABILI_PICKLE_STAGING,\n",
    "                                  PATH_GEOJSON=PATH_EXTENDED_CICLABILI_CLEAN)\n",
    "\n",
    "# --------------------  Post ETL  --------------------------#\n",
    "# Rimuoviamo gli archi artificiali (in questo caso non ci sono effetti poi che abbiamo collegato)\n",
    "gdf_extended_ciclabili = gpd.read_file(PATH_EXTENDED_CICLABILI_CLEAN)\n",
    "gdf_extended_ciclabili = gdf_extended_ciclabili[gdf_extended_ciclabili[\"artificial\"]==False]\n",
    "gdf_extended_ciclabili.reset_index(drop=True).to_file(PATH_EXTENDED_CICLABILI_CLEAN, driver=\"GeoJSON\")"
   ]
  },
  {
   "cell_type": "markdown",
   "id": "f1a325df",
   "metadata": {},
   "source": [
    "### Analisi con filtri"
   ]
  },
  {
   "cell_type": "markdown",
   "id": "32d1d2a6",
   "metadata": {},
   "source": [
    "Utilizzare questo per capire quanti \"poi\" contiene il gdf e scegliere i \"max pois\" da inserire"
   ]
  },
  {
   "cell_type": "code",
   "execution_count": 65,
   "id": "d4ef509f",
   "metadata": {},
   "outputs": [
    {
     "data": {
      "text/plain": [
       "9686"
      ]
     },
     "execution_count": 65,
     "metadata": {},
     "output_type": "execute_result"
    }
   ],
   "source": [
    "len(gdf_point_ciclabili)"
   ]
  },
  {
   "cell_type": "code",
   "execution_count": 66,
   "id": "8e472ed0",
   "metadata": {},
   "outputs": [],
   "source": [
    "with open(PATH_EXTENDED_CICLABILI_PICKLE_STAGING, \"rb\") as file:\n",
    "    G_extended_ciclabili = pickle.load(file)\n",
    "\n",
    "n_pois = len(gdf_point_ciclabili) / 100 * 30    # 30% del totale\n",
    "Graph_functions.auto_filter_poi(G_percorsi = G_extended_ciclabili,\n",
    "                                max_pois= n_pois,\n",
    "                                peso_inquinamento_vs_incidenti = 0,\n",
    "                                peso_fattori_esterni_vs_distribuzione_poi = 1,\n",
    "                                PATH_GEOJSON = PATH_EXTENDED_CICLABILI_FILTRATO_CLEAN)\n",
    "\n",
    "# --------------------  Post ETL  --------------------------#\n",
    "# Rimuoviamo gli archi artificiali (in questo caso non ci sono effetti poi che abbiamo collegato)\n",
    "gdf_extended_ciclabili = gpd.read_file(PATH_EXTENDED_CICLABILI_FILTRATO_CLEAN)\n",
    "gdf_extended_ciclabili = gdf_extended_ciclabili[gdf_extended_ciclabili[\"artificial\"]==False]\n",
    "gdf_extended_ciclabili.reset_index(drop=True).to_file(PATH_EXTENDED_CICLABILI_FILTRATO_CLEAN, driver=\"GeoJSON\")"
   ]
  },
  {
   "cell_type": "markdown",
   "id": "1fe77965",
   "metadata": {},
   "source": [
    "### Statistiche"
   ]
  },
  {
   "cell_type": "markdown",
   "id": "b64467f3",
   "metadata": {},
   "source": [
    "Per praticità per ora basta commentare quello di cui non si vuole guardare le statistiche"
   ]
  },
  {
   "cell_type": "code",
   "execution_count": 74,
   "id": "b029f61f",
   "metadata": {},
   "outputs": [],
   "source": [
    "gdf_extended_ciclabili = gpd.read_file(PATH_EXTENDED_CICLABILI_CLEAN)\n",
    "#gdf_extended_ciclabili = gpd.read_file(PATH_EXTENDED_CICLABILI_FILTRATO_CLEAN)"
   ]
  },
  {
   "cell_type": "markdown",
   "id": "49e307b0",
   "metadata": {},
   "source": [
    "1. Km per ogni \"highway\""
   ]
  },
  {
   "cell_type": "code",
   "execution_count": 75,
   "id": "19eebf89",
   "metadata": {},
   "outputs": [
    {
     "name": "stdout",
     "output_type": "stream",
     "text": [
      "                 length\n",
      "highway                \n",
      "cycleway     206.214018\n",
      "footway       37.048211\n",
      "residential   15.299822\n",
      "secondary     14.007885\n",
      "tertiary      11.685893\n",
      "service        5.018637\n",
      "306.56043468606293 km\n"
     ]
    }
   ],
   "source": [
    "gdf_extended_ciclabili_highway = gdf_extended_ciclabili.to_crs(CRS_METR).groupby(\"highway\").agg({\n",
    "    \"length\": lambda x: sum(x/1000)\n",
    "    }).sort_values(by=\"length\", ascending=False)\n",
    "print(gdf_extended_ciclabili_highway.head(6))\n",
    "print(gdf_extended_ciclabili_highway[\"length\"].sum(), \"km\")"
   ]
  },
  {
   "cell_type": "markdown",
   "id": "a5ff4dc4",
   "metadata": {},
   "source": [
    "2. Km non di \"ciclabile\", quindi da costruire"
   ]
  },
  {
   "cell_type": "code",
   "execution_count": 76,
   "id": "bc44845d",
   "metadata": {},
   "outputs": [
    {
     "data": {
      "text/plain": [
       "94.60126123978074"
      ]
     },
     "execution_count": 76,
     "metadata": {},
     "output_type": "execute_result"
    }
   ],
   "source": [
    "float(gdf_extended_ciclabili[gdf_extended_ciclabili[\"ciclabile\"] == \"False\"][\"length\"].sum()/1000)"
   ]
  },
  {
   "cell_type": "markdown",
   "id": "14c4b333",
   "metadata": {},
   "source": [
    "## Sport e tempo libero"
   ]
  },
  {
   "cell_type": "markdown",
   "id": "65a39de7",
   "metadata": {},
   "source": [
    "Utilizzeremo i seguenti dati:\n",
    "1. **Parchi**\n",
    "2. **Impianti sportivi**\n",
    "3. **Aree gioco**  \n",
    "\n",
    "Saranno i nostri \"poi\", cioè \"Point of Interest\" che verranno aggiunti al Grafo della rete Ciclabile/Stradale per la ricerca di percorsi"
   ]
  },
  {
   "cell_type": "markdown",
   "id": "fc5ed9c9",
   "metadata": {},
   "source": [
    "### Analisi completa"
   ]
  },
  {
   "cell_type": "code",
   "execution_count": 40,
   "id": "c774a8e6",
   "metadata": {},
   "outputs": [],
   "source": [
    "gdf_list = [\n",
    "    {\"gdf\":  gpd.read_file(PATH_PARCHI_CLEAN),\n",
    "     \"tipo\": \"parchi\",\n",
    "     \"attr\": {\"priorita\": 1}},\n",
    "     {\"gdf\":  gpd.read_file(PATH_IMPIANTI_SPORTIVI_CLEAN),\n",
    "     \"tipo\": \"impianti_sportivi\",\n",
    "     \"attr\": {\"priorita\": 2}},\n",
    "     {\"gdf\":  gpd.read_file(PATH_AREE_GIOCO_CLEAN),\n",
    "     \"tipo\": \"aree_gioco\",\n",
    "     \"attr\": {\"priorita\": 3}} \n",
    "]\n",
    "Graph_functions.auto_analysis_poi(gdf_list,\n",
    "                                  PATH_PICKLE=PATH_SPORT_TEMPO_LIBERO_PICKLE_STAGING,\n",
    "                                  PATH_GEOJSON=PATH_SPORT_TEMPO_LIBERO_CLEAN)"
   ]
  },
  {
   "cell_type": "markdown",
   "id": "06431cc9",
   "metadata": {},
   "source": [
    "### Analisi filtrata"
   ]
  },
  {
   "cell_type": "code",
   "execution_count": 41,
   "id": "45efc912",
   "metadata": {},
   "outputs": [],
   "source": [
    "with open(PATH_SPORT_TEMPO_LIBERO_PICKLE_STAGING, \"rb\") as file:\n",
    "    G_sport = pickle.load(file)\n",
    "\n",
    "Graph_functions.auto_filter_poi(G_percorsi=G_sport,\n",
    "                                max_pois=400,\n",
    "                                peso_inquinamento_vs_incidenti=0,\n",
    "                                peso_fattori_esterni_vs_distribuzione_poi=1,\n",
    "                                PATH_GEOJSON=PATH_SPORT_TEMPO_LIBERO_FILTRATO_CLEAN)"
   ]
  },
  {
   "cell_type": "markdown",
   "id": "e1c8e634",
   "metadata": {},
   "source": [
    "### Statisiche"
   ]
  },
  {
   "cell_type": "code",
   "execution_count": null,
   "id": "9d1ce163",
   "metadata": {},
   "outputs": [],
   "source": [
    "gdf_analisi_sport = gpd.read_file(PATH_SPORT_TEMPO_LIBERO_FILTRATO_CLEAN)"
   ]
  },
  {
   "cell_type": "code",
   "execution_count": 14,
   "id": "87e261e2",
   "metadata": {},
   "outputs": [
    {
     "data": {
      "text/plain": [
       "400"
      ]
     },
     "execution_count": 14,
     "metadata": {},
     "output_type": "execute_result"
    }
   ],
   "source": [
    "len(gdf_analisi_sport[gdf_analisi_sport[\"artificial\"] == True])"
   ]
  },
  {
   "cell_type": "markdown",
   "id": "6363fa28",
   "metadata": {},
   "source": [
    "pre pulizia per tutte le statistiche"
   ]
  },
  {
   "cell_type": "code",
   "execution_count": 15,
   "id": "88d01772",
   "metadata": {},
   "outputs": [],
   "source": [
    "# Eliminiamo connessioni \"artificiali\" usate per connettere i \"poi\" al grafo delle strade\n",
    "gdf_analisi_sport_mod = gdf_analisi_sport[gdf_analisi_sport[\"artificial\"] != True]\n",
    "\n",
    "# Eliminiamo i percorsi completamente contenuti all'interno dei \"poi\" poligonari: parchi\n",
    "gdf = gpd.read_file(PATH_PARCHI_CLEAN)\n",
    "geometry_parchi = gdf.union_all()\n",
    "gdf_senza_parchi = []\n",
    "for idx, row in gdf_analisi_sport_mod.iterrows():\n",
    "    if not geometry_parchi.contains(row.geometry):\n",
    "        gdf_senza_parchi.append(row)\n",
    "gdf_analisi_sport_mod = gpd.GeoDataFrame(gdf_senza_parchi, crs=CRS_GRAD)"
   ]
  },
  {
   "cell_type": "markdown",
   "id": "1ea46bf5",
   "metadata": {},
   "source": [
    "1. Km per \"highway\""
   ]
  },
  {
   "cell_type": "code",
   "execution_count": 16,
   "id": "04596a5f",
   "metadata": {},
   "outputs": [
    {
     "name": "stdout",
     "output_type": "stream",
     "text": [
      "                                 length\n",
      "highway                                \n",
      "cycleway                     100.661339\n",
      "footway                       66.219267\n",
      "residential                   14.011855\n",
      "tertiary                      11.996346\n",
      "secondary                      7.781333\n",
      "track                          3.195524\n",
      "pedestrian                     2.116348\n",
      "primary                        2.018947\n",
      "service                        1.769118\n",
      "path                           1.010400\n",
      "cycleway footway               0.453654\n",
      "footway service                0.451056\n",
      "footway pedestrian             0.359980\n",
      "footway steps                  0.330102\n",
      "cycleway path                  0.291043\n",
      "residential secondary          0.277534\n",
      "residential pedestrian         0.243722\n",
      "footway path                   0.177522\n",
      "pedestrian path                0.118616\n",
      "tertiary_link                  0.117791\n",
      "residential footway            0.111161\n",
      "unclassified                   0.107320\n",
      "residential service            0.094434\n",
      "cycleway service               0.093463\n",
      "residential footway service    0.077618\n",
      "residential cycleway           0.052162\n",
      "primary_link                   0.046211\n",
      "unclassified tertiary          0.014137\n",
      "steps                          0.003917\n",
      "Tot: 214.20192384734432\n"
     ]
    }
   ],
   "source": [
    "# Raggruppiamo per \"highway\" e calcoliamo (in km -> /1000) la lunghezza complessiva delle strade\n",
    "gdf_analisi_sport_mod_most_highways = gdf_analisi_sport_mod.to_crs(CRS_METR).groupby(\"highway\").agg({\n",
    "    \"length\": lambda x: sum(x/1000)\n",
    "    }).sort_values(by=\"length\", ascending=False)\n",
    "# Stampiamo il risultato\n",
    "print(gdf_analisi_sport_mod_most_highways)\n",
    "print(f\"Tot: {gdf_analisi_sport_mod_most_highways[\"length\"].sum()}\")"
   ]
  },
  {
   "cell_type": "markdown",
   "id": "8452dee7",
   "metadata": {},
   "source": [
    "2. Km non di \"ciclabile\", quindi da costruire"
   ]
  },
  {
   "cell_type": "code",
   "execution_count": 17,
   "id": "f7ae7804",
   "metadata": {},
   "outputs": [
    {
     "data": {
      "text/plain": [
       "112.65026341818994"
      ]
     },
     "execution_count": 17,
     "metadata": {},
     "output_type": "execute_result"
    }
   ],
   "source": [
    "float(gdf_analisi_sport_mod[gdf_analisi_sport_mod[\"ciclabile\"] == \"False\"][\"length\"].sum()/1000)"
   ]
  },
  {
   "cell_type": "markdown",
   "id": "1dd034f0",
   "metadata": {},
   "source": [
    "Numero poi per municipio che sono stati connessi e % poi connessi in ogni municipio rispetto al totale connesso"
   ]
  },
  {
   "cell_type": "code",
   "execution_count": null,
   "id": "b0446036",
   "metadata": {},
   "outputs": [],
   "source": [
    "gdf_analisi_sport_raggruppato = gdf_analisi_sport.groupby([\"MUNICIPIO\"]).agg({\n",
    "    \"poi\": \"sum\",\n",
    "    \"length\": lambda x: sum(x)/1000\n",
    "}).reset_index()\n",
    "gdf_analisi_sport_raggruppato[\"MUNICIPIO\"] = gdf_analisi_sport_raggruppato[\"MUNICIPIO\"].astype(int)\n",
    "gdf_analisi_sport_raggruppato = gdf_analisi_sport_raggruppato.sort_index()\n",
    "gdf_analisi_sport_raggruppato = gdf_analisi_sport_raggruppato.merge(\n",
    "    gpd.read_file(PATH_INCIDENTI_CLEAN)[[\"MUNICIPIO\", \"Incidenti\"]], on=\"MUNICIPIO\")\n",
    "\n",
    "gdf_pois = gpd.read_file(PATH_SCORE_X_MUNICIPI)[[\"MUNICIPIO\", \"parchi\", \"impianti_sportivi\", \"aree_gioco\"]]\n",
    "gdf_pois[\"tot\"] = gdf_pois.drop(\"MUNICIPIO\", axis=1).sum(axis=1)\n",
    "gdf_pois[\"MUNICIPIO\"] = gdf_pois[\"MUNICIPIO\"].astype(int)\n",
    "gdf_analisi_sport_raggruppato = gdf_analisi_sport_raggruppato.merge(gdf_pois[[\"MUNICIPIO\", \"tot\"]], on=\"MUNICIPIO\")\n",
    "somma_poi = gdf_analisi_sport_raggruppato[\"poi\"].sum()\n",
    "gdf_analisi_sport_raggruppato[\"% poi\"] = gdf_analisi_sport_raggruppato.apply(lambda row: row[\"poi\"] / somma_poi * 100, axis=1)\n",
    "gdf_analisi_sport_raggruppato.sort_values([\"poi\", \"Incidenti\", \"length\"], ascending=False, inplace=True)\n",
    "print(gdf_analisi_sport_raggruppato)\n"
   ]
  },
  {
   "cell_type": "markdown",
   "id": "07bb8d32",
   "metadata": {},
   "source": [
    "Dettaglio sulla quantità di \"tipo di poi\""
   ]
  },
  {
   "cell_type": "code",
   "execution_count": null,
   "id": "9b200a7c",
   "metadata": {},
   "outputs": [],
   "source": [
    "gdf_analisi_sport = gdf_analisi_sport[gdf_analisi_sport[\"tipo\"] != \"Strade_ciclabili\"]\n",
    "gdf_analisi_sport_raggruppato = gdf_analisi_sport.groupby(\"tipo\").agg({\n",
    "    \"poi\": \"sum\"}).reset_index().sort_values([\"poi\"], ascending=[False])\n",
    "gdf_analisi_sport_raggruppato"
   ]
  },
  {
   "cell_type": "markdown",
   "id": "1e83a9c0",
   "metadata": {},
   "source": [
    "## Istruzione"
   ]
  },
  {
   "cell_type": "markdown",
   "id": "d3093a96",
   "metadata": {},
   "source": [
    "Utilizzeremo i seguenti dati:\n",
    "1. **Biblioteche**\n",
    "2. **Scuole**\n",
    "Saranno i nostri \"poi\", cioè \"Point of Interest\" che verranno aggiunti al Grafo della rete Ciclabile/Stradale per la ricerca di percorsi"
   ]
  },
  {
   "cell_type": "markdown",
   "id": "be3899d3",
   "metadata": {},
   "source": [
    "### Analisi Completa"
   ]
  },
  {
   "cell_type": "code",
   "execution_count": 42,
   "id": "c1ec5deb",
   "metadata": {},
   "outputs": [],
   "source": [
    "gdf_list = [\n",
    "    {\"gdf\":  gpd.read_file(PATH_BIBLIOTECHE_CLEAN),\n",
    "     \"tipo\": \"Biblioteche\",\n",
    "     \"attr\": {\"priorita\": 1}},\n",
    "     {\"gdf\":  gpd.read_file(PATH_SCUOLE_CLEAN),\n",
    "     \"tipo\": \"Scuole\",\n",
    "     \"attr\": {\"priorita\": 2}}\n",
    "     ]\n",
    "Graph_functions.auto_analysis_poi(gdf_list, PATH_GEOJSON=PATH_ISTRUZIONE_CLEAN)"
   ]
  },
  {
   "cell_type": "markdown",
   "id": "8cc2ae49",
   "metadata": {},
   "source": [
    "### Analisi Filtrata"
   ]
  },
  {
   "cell_type": "code",
   "execution_count": null,
   "id": "7fea3c33",
   "metadata": {},
   "outputs": [],
   "source": [
    "# Da aggiungere se necessario"
   ]
  },
  {
   "cell_type": "markdown",
   "id": "a41c8fc2",
   "metadata": {},
   "source": [
    "### Statisiche"
   ]
  },
  {
   "cell_type": "code",
   "execution_count": 77,
   "id": "c3735fbc",
   "metadata": {},
   "outputs": [
    {
     "name": "stderr",
     "output_type": "stream",
     "text": [
      "c:\\Matteo\\Coding\\Project\\Progetto-Bike\\.venv\\Lib\\site-packages\\pyogrio\\raw.py:198: RuntimeWarning: driver GeoJSON does not support open option DRIVER\n",
      "  return ogr_read(\n"
     ]
    }
   ],
   "source": [
    "gdf_analisi_istruzione = gpd.read_file(PATH_ISTRUZIONE_CLEAN, driver= \"GeoJSON\")"
   ]
  },
  {
   "cell_type": "code",
   "execution_count": 78,
   "id": "a7bb04ae",
   "metadata": {},
   "outputs": [],
   "source": [
    "# Eliminiamo connessioni \"artificiali\" usate per connettere i \"poi\" al grafo delle strade\n",
    "gdf_analisi_istruzione_mod = gdf_analisi_istruzione[gdf_analisi_istruzione[\"artificial\"] != True]\n",
    "\n",
    "# Leggi i due POI\n",
    "gdf_scuole = gpd.read_file(PATH_SCUOLE_CLEAN)\n",
    "gdf_biblioteche = gpd.read_file(PATH_BIBLIOTECHE_CLEAN)\n",
    "\n",
    "# Unisci in un'unica geometria\n",
    "geometry_poi = gpd.GeoSeries(\n",
    "    gpd.pd.concat([gdf_scuole.geometry, gdf_biblioteche.geometry], ignore_index=True)\n",
    ").union_all()\n",
    "\n",
    "# Filtra il GDF di partenza\n",
    "gdf_senza_poi = []\n",
    "for idx, row in gdf_analisi_istruzione_mod.iterrows():\n",
    "    if not geometry_poi.contains(row.geometry):\n",
    "        gdf_senza_poi.append(row)\n",
    "\n",
    "# Crea nuovo GeoDataFrame\n",
    "gdf_analisi_istruzione_mod = gpd.GeoDataFrame(gdf_senza_poi, crs=CRS_GRAD)\n",
    "\n",
    "# Raggruppiamo per \"highway\" e calcoliamo (in km -> /1000) la lunghezza complessiva delle strade\n",
    "gdf_analisi_istruzione_mod_most_highways = gdf_analisi_istruzione_mod.to_crs(CRS_METR).groupby(\"highway\").agg({\n",
    "    \"length\": lambda x: sum(x/1000)\n",
    "    }).sort_values(by=\"length\", ascending=False)"
   ]
  },
  {
   "cell_type": "code",
   "execution_count": 80,
   "id": "f4d8f98d",
   "metadata": {},
   "outputs": [
    {
     "name": "stdout",
     "output_type": "stream",
     "text": [
      "                              length\n",
      "highway                             \n",
      "footway                   109.403574\n",
      "cycleway                   85.216865\n",
      "residential                33.887987\n",
      "tertiary                   23.981052\n",
      "secondary                  12.057483\n",
      "primary                     6.631249\n",
      "track                       3.158726\n",
      "pedestrian                  2.210088\n",
      "service                     1.978385\n",
      "path                        1.692647\n",
      "footway steps               0.476395\n",
      "unclassified                0.306090\n",
      "residential footway         0.233284\n",
      "secondary_link              0.224865\n",
      "track service path          0.217083\n",
      "footway service             0.207583\n",
      "tertiary_link               0.175564\n",
      "residential cycleway        0.169111\n",
      "footway pedestrian          0.158530\n",
      "residential pedestrian      0.146128\n",
      "cycleway path               0.133034\n",
      "cycleway footway            0.112219\n",
      "cycleway service            0.093463\n",
      "primary_link                0.085114\n",
      "living_street               0.078441\n",
      "residential steps           0.077507\n",
      "footway platform            0.063971\n",
      "residential path            0.047683\n",
      "steps path                  0.036220\n",
      "steps                       0.031511\n",
      "unclassified residential    0.026767\n",
      "residential service         0.001872\n",
      "Tot: 283.32048936837066\n"
     ]
    }
   ],
   "source": [
    "# Stampiamo il risultato\n",
    "print(gdf_analisi_istruzione_mod_most_highways)\n",
    "print(f\"Tot: {gdf_analisi_istruzione_mod_most_highways[\"length\"].sum()}\")"
   ]
  },
  {
   "cell_type": "code",
   "execution_count": 81,
   "id": "9864fb59",
   "metadata": {},
   "outputs": [
    {
     "ename": "KeyError",
     "evalue": "'ciclabile'",
     "output_type": "error",
     "traceback": [
      "\u001b[31m---------------------------------------------------------------------------\u001b[39m",
      "\u001b[31mKeyError\u001b[39m                                  Traceback (most recent call last)",
      "\u001b[36mFile \u001b[39m\u001b[32mc:\\Matteo\\Coding\\Project\\Progetto-Bike\\.venv\\Lib\\site-packages\\pandas\\core\\indexes\\base.py:3812\u001b[39m, in \u001b[36mIndex.get_loc\u001b[39m\u001b[34m(self, key)\u001b[39m\n\u001b[32m   3811\u001b[39m \u001b[38;5;28;01mtry\u001b[39;00m:\n\u001b[32m-> \u001b[39m\u001b[32m3812\u001b[39m     \u001b[38;5;28;01mreturn\u001b[39;00m \u001b[38;5;28;43mself\u001b[39;49m\u001b[43m.\u001b[49m\u001b[43m_engine\u001b[49m\u001b[43m.\u001b[49m\u001b[43mget_loc\u001b[49m\u001b[43m(\u001b[49m\u001b[43mcasted_key\u001b[49m\u001b[43m)\u001b[49m\n\u001b[32m   3813\u001b[39m \u001b[38;5;28;01mexcept\u001b[39;00m \u001b[38;5;167;01mKeyError\u001b[39;00m \u001b[38;5;28;01mas\u001b[39;00m err:\n",
      "\u001b[36mFile \u001b[39m\u001b[32mpandas/_libs/index.pyx:167\u001b[39m, in \u001b[36mpandas._libs.index.IndexEngine.get_loc\u001b[39m\u001b[34m()\u001b[39m\n",
      "\u001b[36mFile \u001b[39m\u001b[32mpandas/_libs/index.pyx:196\u001b[39m, in \u001b[36mpandas._libs.index.IndexEngine.get_loc\u001b[39m\u001b[34m()\u001b[39m\n",
      "\u001b[36mFile \u001b[39m\u001b[32mpandas/_libs/hashtable_class_helper.pxi:7088\u001b[39m, in \u001b[36mpandas._libs.hashtable.PyObjectHashTable.get_item\u001b[39m\u001b[34m()\u001b[39m\n",
      "\u001b[36mFile \u001b[39m\u001b[32mpandas/_libs/hashtable_class_helper.pxi:7096\u001b[39m, in \u001b[36mpandas._libs.hashtable.PyObjectHashTable.get_item\u001b[39m\u001b[34m()\u001b[39m\n",
      "\u001b[31mKeyError\u001b[39m: 'ciclabile'",
      "\nThe above exception was the direct cause of the following exception:\n",
      "\u001b[31mKeyError\u001b[39m                                  Traceback (most recent call last)",
      "\u001b[36mCell\u001b[39m\u001b[36m \u001b[39m\u001b[32mIn[81]\u001b[39m\u001b[32m, line 1\u001b[39m\n\u001b[32m----> \u001b[39m\u001b[32m1\u001b[39m \u001b[38;5;28mfloat\u001b[39m(gdf_analisi_istruzione_mod_most_highways[\u001b[43mgdf_analisi_istruzione_mod_most_highways\u001b[49m\u001b[43m[\u001b[49m\u001b[33;43m\"\u001b[39;49m\u001b[33;43mciclabile\u001b[39;49m\u001b[33;43m\"\u001b[39;49m\u001b[43m]\u001b[49m == \u001b[33m\"\u001b[39m\u001b[33mFalse\u001b[39m\u001b[33m\"\u001b[39m][\u001b[33m\"\u001b[39m\u001b[33mlength\u001b[39m\u001b[33m\"\u001b[39m].sum()/\u001b[32m1000\u001b[39m)\n",
      "\u001b[36mFile \u001b[39m\u001b[32mc:\\Matteo\\Coding\\Project\\Progetto-Bike\\.venv\\Lib\\site-packages\\pandas\\core\\frame.py:4107\u001b[39m, in \u001b[36mDataFrame.__getitem__\u001b[39m\u001b[34m(self, key)\u001b[39m\n\u001b[32m   4105\u001b[39m \u001b[38;5;28;01mif\u001b[39;00m \u001b[38;5;28mself\u001b[39m.columns.nlevels > \u001b[32m1\u001b[39m:\n\u001b[32m   4106\u001b[39m     \u001b[38;5;28;01mreturn\u001b[39;00m \u001b[38;5;28mself\u001b[39m._getitem_multilevel(key)\n\u001b[32m-> \u001b[39m\u001b[32m4107\u001b[39m indexer = \u001b[38;5;28;43mself\u001b[39;49m\u001b[43m.\u001b[49m\u001b[43mcolumns\u001b[49m\u001b[43m.\u001b[49m\u001b[43mget_loc\u001b[49m\u001b[43m(\u001b[49m\u001b[43mkey\u001b[49m\u001b[43m)\u001b[49m\n\u001b[32m   4108\u001b[39m \u001b[38;5;28;01mif\u001b[39;00m is_integer(indexer):\n\u001b[32m   4109\u001b[39m     indexer = [indexer]\n",
      "\u001b[36mFile \u001b[39m\u001b[32mc:\\Matteo\\Coding\\Project\\Progetto-Bike\\.venv\\Lib\\site-packages\\pandas\\core\\indexes\\base.py:3819\u001b[39m, in \u001b[36mIndex.get_loc\u001b[39m\u001b[34m(self, key)\u001b[39m\n\u001b[32m   3814\u001b[39m     \u001b[38;5;28;01mif\u001b[39;00m \u001b[38;5;28misinstance\u001b[39m(casted_key, \u001b[38;5;28mslice\u001b[39m) \u001b[38;5;129;01mor\u001b[39;00m (\n\u001b[32m   3815\u001b[39m         \u001b[38;5;28misinstance\u001b[39m(casted_key, abc.Iterable)\n\u001b[32m   3816\u001b[39m         \u001b[38;5;129;01mand\u001b[39;00m \u001b[38;5;28many\u001b[39m(\u001b[38;5;28misinstance\u001b[39m(x, \u001b[38;5;28mslice\u001b[39m) \u001b[38;5;28;01mfor\u001b[39;00m x \u001b[38;5;129;01min\u001b[39;00m casted_key)\n\u001b[32m   3817\u001b[39m     ):\n\u001b[32m   3818\u001b[39m         \u001b[38;5;28;01mraise\u001b[39;00m InvalidIndexError(key)\n\u001b[32m-> \u001b[39m\u001b[32m3819\u001b[39m     \u001b[38;5;28;01mraise\u001b[39;00m \u001b[38;5;167;01mKeyError\u001b[39;00m(key) \u001b[38;5;28;01mfrom\u001b[39;00m\u001b[38;5;250m \u001b[39m\u001b[34;01merr\u001b[39;00m\n\u001b[32m   3820\u001b[39m \u001b[38;5;28;01mexcept\u001b[39;00m \u001b[38;5;167;01mTypeError\u001b[39;00m:\n\u001b[32m   3821\u001b[39m     \u001b[38;5;66;03m# If we have a listlike key, _check_indexing_error will raise\u001b[39;00m\n\u001b[32m   3822\u001b[39m     \u001b[38;5;66;03m#  InvalidIndexError. Otherwise we fall through and re-raise\u001b[39;00m\n\u001b[32m   3823\u001b[39m     \u001b[38;5;66;03m#  the TypeError.\u001b[39;00m\n\u001b[32m   3824\u001b[39m     \u001b[38;5;28mself\u001b[39m._check_indexing_error(key)\n",
      "\u001b[31mKeyError\u001b[39m: 'ciclabile'"
     ]
    }
   ],
   "source": [
    "float(gdf_analisi_istruzione_mod_most_highways[gdf_analisi_istruzione_mod_most_highways[\"ciclabile\"] == \"False\"][\"length\"].sum()/1000)"
   ]
  },
  {
   "cell_type": "markdown",
   "id": "e6dc0de2",
   "metadata": {},
   "source": [
    "## Cultura e spettacolo"
   ]
  },
  {
   "cell_type": "markdown",
   "id": "d00b6cd1",
   "metadata": {},
   "source": [
    "Utilizzeremo i seguenti dati: \n",
    "\n",
    "1. **Musei**\n",
    "2. **Cinema**\n",
    "3. **Teatri**\n",
    "\n",
    "Saranno i nostri \"poi\", cioè \"Point of Interest\"\n",
    "che verranno aggiunti al Grafo della rete \n",
    "Ciclabile/Stradale per la ricerca di percorsi"
   ]
  },
  {
   "cell_type": "markdown",
   "id": "755fac22",
   "metadata": {},
   "source": [
    "### Analisi Completa"
   ]
  },
  {
   "cell_type": "code",
   "execution_count": 46,
   "id": "bf55f379",
   "metadata": {},
   "outputs": [],
   "source": [
    "gdf_list = [\n",
    "    {\"gdf\":  gpd.read_file(PATH_MUSEI_CLEAN),\n",
    "     \"tipo\": \"Musei\",\n",
    "     \"attr\": {\"priorita\": 1}},\n",
    "     {\"gdf\":  gpd.read_file(PATH_CINEMA_CLEAN),\n",
    "     \"tipo\": \"Cinema\",\n",
    "     \"attr\": {\"priorita\": 2}}, \n",
    "     {\"gdf\":  gpd.read_file(PATH_TEATRI_CLEAN),\n",
    "     \"tipo\": \"Teatri\",\n",
    "     \"attr\": {\"priorita\": 3}}\n",
    "     ]\n",
    "Graph_functions.auto_analysis_poi(gdf_list,\n",
    "                                  PATH_PICKLE= PATH_CULTURA_SPETTACOLO_PICKLE_STAGING,\n",
    "                                  PATH_GEOJSON=PATH_CULTURA_SPETTACOLO_CLEAN)"
   ]
  },
  {
   "cell_type": "markdown",
   "id": "228427f2",
   "metadata": {},
   "source": [
    "### Analisi Filtrata"
   ]
  },
  {
   "cell_type": "code",
   "execution_count": null,
   "id": "8b29667c",
   "metadata": {},
   "outputs": [],
   "source": [
    "# Da aggiungere"
   ]
  },
  {
   "cell_type": "markdown",
   "id": "d8de1c80",
   "metadata": {},
   "source": [
    "### Statistiche"
   ]
  },
  {
   "cell_type": "code",
   "execution_count": 34,
   "id": "38d67835",
   "metadata": {},
   "outputs": [
    {
     "name": "stderr",
     "output_type": "stream",
     "text": [
      "c:\\Matteo\\Coding\\Project\\Progetto-Bike\\.venv\\Lib\\site-packages\\pyogrio\\raw.py:198: RuntimeWarning: driver GeoJSON does not support open option DRIVER\n",
      "  return ogr_read(\n"
     ]
    }
   ],
   "source": [
    "gdf_analisi_cultura_spettacolo = gpd.read_file(PATH_CULTURA_SPETTACOLO_CLEAN, driver= \"GeoJSON\")"
   ]
  },
  {
   "cell_type": "code",
   "execution_count": 35,
   "id": "9e7af660",
   "metadata": {},
   "outputs": [],
   "source": [
    "# Eliminiamo connessioni \"artificiali\" usate per connettere i \"poi\" al grafo delle strade\n",
    "gdf_analisi_cultura_spettacolo_mod = gdf_analisi_cultura_spettacolo[gdf_analisi_cultura_spettacolo[\"artificial\"] != True]\n",
    "\n",
    "# Leggi i due POI\n",
    "gdf_musei = gpd.read_file(PATH_MUSEI_CLEAN)\n",
    "gdf_teatri = gpd.read_file(PATH_TEATRI_CLEAN)\n",
    "gdf_cinema = gpd.read_file(PATH_CINEMA_CLEAN)\n",
    "\n",
    "# Unisci in un'unica geometria\n",
    "geometry_poi = gpd.GeoSeries(\n",
    "    gpd.pd.concat([gdf_cinema.geometry, gdf_teatri.geometry, gdf_musei.geometry], ignore_index=True)\n",
    ").union_all()\n",
    "\n",
    "# Filtra il GDF di partenza\n",
    "gdf_senza_poi = []\n",
    "for idx, row in gdf_analisi_cultura_spettacolo.iterrows():\n",
    "    if not geometry_poi.contains(row.geometry):\n",
    "        gdf_senza_poi.append(row)\n",
    "\n",
    "# Crea nuovo GeoDataFrame\n",
    "gdf_analisi_cultura_spettacolo_mod = gpd.GeoDataFrame(gdf_senza_poi, crs=CRS_GRAD)\n",
    "\n",
    "# Raggruppiamo per \"highway\" e calcoliamo (in km -> /1000) la lunghezza complessiva delle strade\n",
    "gdf_analisi_cultura_spettacolo_mod_most_highways = gdf_analisi_cultura_spettacolo_mod.to_crs(CRS_METR).groupby(\"highway\").agg({\n",
    "    \"length\": lambda x: sum(x/1000)\n",
    "    }).sort_values(by=\"length\", ascending=False)"
   ]
  },
  {
   "cell_type": "code",
   "execution_count": 36,
   "id": "fbc3726e",
   "metadata": {},
   "outputs": [
    {
     "name": "stdout",
     "output_type": "stream",
     "text": [
      "                         length\n",
      "highway                        \n",
      "cycleway              43.951569\n",
      "footway               28.989399\n",
      "residential           11.314465\n",
      "secondary              7.660920\n",
      "tertiary               5.699776\n",
      "pedestrian             2.074184\n",
      "primary                1.281142\n",
      "footway steps          0.496667\n",
      "service                0.442759\n",
      "cycleway path          0.423736\n",
      "path                   0.276162\n",
      "unclassified           0.204832\n",
      "secondary_link         0.154071\n",
      "residential cycleway   0.116689\n",
      "primary_link           0.082050\n",
      "footway service        0.078886\n",
      "cycleway footway       0.058601\n",
      "footway pedestrian     0.048820\n",
      "steps path             0.018311\n",
      "Tot: 103.37304195969466\n"
     ]
    }
   ],
   "source": [
    "# Stampiamo il risultato\n",
    "print(gdf_analisi_cultura_spettacolo_mod_most_highways)\n",
    "print(f\"Tot: {gdf_analisi_cultura_spettacolo_mod_most_highways[\"length\"].sum()}\")"
   ]
  },
  {
   "cell_type": "markdown",
   "id": "ced81c85",
   "metadata": {},
   "source": [
    "## Sanità"
   ]
  },
  {
   "cell_type": "markdown",
   "id": "40d5d8a4",
   "metadata": {},
   "source": [
    "Utilizzeremo i seguenti dati: \n",
    "\n",
    "1. **Ospedali**\n",
    "\n",
    "\n",
    "Saranno i nostri \"poi\", cioè \"Point of Interest\"\n",
    "che verranno aggiunti al Grafo della rete \n",
    "Ciclabile/Stradale per la ricerca di percorsi"
   ]
  },
  {
   "cell_type": "markdown",
   "id": "4dc2f909",
   "metadata": {},
   "source": [
    "### Analisi Completa"
   ]
  },
  {
   "cell_type": "code",
   "execution_count": 47,
   "id": "c6b788aa",
   "metadata": {},
   "outputs": [],
   "source": [
    "gdf_list = [\n",
    "    {\"gdf\":  gpd.read_file(PATH_OSPEDALI_CLEAN),\n",
    "     \"tipo\": \"Ospedali\",\n",
    "     \"attr\": {\"priorita\": 1}}\n",
    "     ]\n",
    "Graph_functions.auto_analysis_poi(gdf_list,\n",
    "                                  PATH_PICKLE=PATH_SANITA_PICKLE_STAGING,\n",
    "                                  PATH_GEOJSON=PATH_SANITA_CLEAN)"
   ]
  },
  {
   "cell_type": "markdown",
   "id": "a9f1c60b",
   "metadata": {},
   "source": [
    "### Analisi Filtrata"
   ]
  },
  {
   "cell_type": "code",
   "execution_count": null,
   "id": "d96d1a97",
   "metadata": {},
   "outputs": [],
   "source": []
  },
  {
   "cell_type": "markdown",
   "id": "1c1d491b",
   "metadata": {},
   "source": [
    "### Statistiche"
   ]
  },
  {
   "cell_type": "code",
   "execution_count": 38,
   "id": "447087ac",
   "metadata": {},
   "outputs": [
    {
     "name": "stderr",
     "output_type": "stream",
     "text": [
      "c:\\Matteo\\Coding\\Project\\Progetto-Bike\\.venv\\Lib\\site-packages\\pyogrio\\raw.py:198: RuntimeWarning: driver GeoJSON does not support open option DRIVER\n",
      "  return ogr_read(\n"
     ]
    }
   ],
   "source": [
    "gdf_analisi_ospedali = gpd.read_file(PATH_SANITA_CLEAN, driver= \"GeoJSON\")"
   ]
  },
  {
   "cell_type": "code",
   "execution_count": 39,
   "id": "cddb1238",
   "metadata": {},
   "outputs": [],
   "source": [
    "# Eliminiamo connessioni \"artificiali\" usate per connettere i \"poi\" al grafo delle strade\n",
    "gdf_analisi_ospedali_mod = gdf_analisi_ospedali[gdf_analisi_ospedali[\"artificial\"] != True]\n",
    "\n",
    "# Eliminiamo i percorsi completamente contenuti all'interno dei \"poi\" poligonari: parchi\n",
    "gdf = gpd.read_file(PATH_OSPEDALI_CLEAN)\n",
    "geometry_parchi = gdf.union_all()\n",
    "gdf_senza_poi = []\n",
    "for idx, row in gdf_analisi_ospedali_mod.iterrows():\n",
    "    if not geometry_parchi.contains(row.geometry):\n",
    "        gdf_senza_poi.append(row)\n",
    "gdf_analisi_ospedali_mod = gpd.GeoDataFrame(gdf_senza_poi, crs=CRS_GRAD)\n",
    "\n",
    "# Raggruppiamo per \"highway\" e calcoliamo (in km -> /1000) la lunghezza complessiva delle strade\n",
    "gdf_analisi_ospedali_mod_most_highways = gdf_analisi_ospedali_mod.to_crs(CRS_METR).groupby(\"highway\").agg({\n",
    "    \"length\": lambda x: sum(x/1000)\n",
    "    }).sort_values(by=\"length\", ascending=False)"
   ]
  },
  {
   "cell_type": "code",
   "execution_count": 40,
   "id": "6329b55c",
   "metadata": {},
   "outputs": [
    {
     "name": "stdout",
     "output_type": "stream",
     "text": [
      "                           length\n",
      "highway                          \n",
      "cycleway                39.189874\n",
      "footway                 15.456106\n",
      "tertiary                 8.819226\n",
      "residential              4.817837\n",
      "secondary                4.593407\n",
      "primary                  4.326607\n",
      "service                  2.566652\n",
      "path                     0.572301\n",
      "pedestrian               0.542666\n",
      "track                    0.516093\n",
      "unclassified             0.281732\n",
      "footway steps            0.187148\n",
      "residential secondary    0.146541\n",
      "residential pedestrian   0.146171\n",
      "track service            0.126378\n",
      "residential path         0.088589\n",
      "cycleway footway         0.079023\n",
      "tertiary_link            0.050109\n",
      "primary_link             0.012722\n",
      "Tot: 82.51918564502445\n"
     ]
    }
   ],
   "source": [
    "# Stampiamo il risultato\n",
    "print(gdf_analisi_ospedali_mod_most_highways)\n",
    "print(f\"Tot: {gdf_analisi_ospedali_mod_most_highways[\"length\"].sum()}\")"
   ]
  },
  {
   "cell_type": "markdown",
   "id": "e151ab70",
   "metadata": {},
   "source": [
    "## Statistiche POI x Municipi"
   ]
  },
  {
   "cell_type": "code",
   "execution_count": 16,
   "id": "e8b3410e",
   "metadata": {},
   "outputs": [],
   "source": [
    "# Carica dati, aggiungendo una colonna \"tipo\" e tenendo solo questa colonna e geometry\n",
    "municipi = gpd.read_file(PATH_MUNICIPI_CLEAN)\n",
    "parchi = gpd.read_file(PATH_PARCHI_CLEAN).assign(tipo=\"parchi\")[[\"tipo\", \"geometry\"]]\n",
    "fontane = gpd.read_file(PATH_FONTANE_CLEAN).assign(tipo=\"fontane\")[[\"tipo\", \"geometry\"]]\n",
    "impianti = gpd.read_file(PATH_IMPIANTI_SPORTIVI_CLEAN).assign(tipo=\"impianti_sportivi\")[[\"tipo\", \"geometry\"]]\n",
    "scuole = gpd.read_file(PATH_SCUOLE_CLEAN).assign(tipo=\"scuole\")[[\"tipo\", \"geometry\"]]\n",
    "aree_gioco = gpd.read_file(PATH_AREE_GIOCO_CLEAN).assign(tipo=\"aree_gioco\")[[\"tipo\", \"geometry\"]]\n",
    "biblioteche = gpd.read_file(PATH_BIBLIOTECHE_CLEAN).assign(tipo=\"biblioteche\")[[\"tipo\", \"geometry\"]]\n",
    "stazioni_bikemi = gpd.read_file(PATH_BIKEMI_CLEAN).assign(tipo=\"stazioni_bikemi\")[[\"tipo\", \"geometry\"]]\n",
    "case_acqua = gpd.read_file(PATH_CASE_ACQUA_CLEAN).assign(tipo=\"case_acqua\")[[\"tipo\", \"geometry\"]]\n",
    "cinema = gpd.read_file(PATH_CINEMA_CLEAN).assign(tipo=\"cinema\")[[\"tipo\", \"geometry\"]]\n",
    "farmacie = gpd.read_file(PATH_FARMACIE_CLEAN).assign(tipo=\"farmacie\")[[\"tipo\", \"geometry\"]]\n",
    "musei = gpd.read_file(PATH_MUSEI_CLEAN).assign(tipo=\"musei\")[[\"tipo\", \"geometry\"]]\n",
    "ospedali = gpd.read_file(PATH_OSPEDALI_CLEAN).assign(tipo=\"ospedali\")[[\"tipo\", \"geometry\"]]\n",
    "teatri = gpd.read_file(PATH_TEATRI_CLEAN).assign(tipo=\"teatri\")[[\"tipo\", \"geometry\"]]\n",
    "# Anche le ciclabili come \"poi\" per poter poi filtrare con le analisi\n",
    "gdf_ciclabili = gpd.read_file(PATH_STRADE_CICLABILI_GEOJSON_CLEAN)\n",
    "gdf_ciclabili_cycleway = gdf_ciclabili[gdf_ciclabili[\"highway\"] == \"cycleway\"]\n",
    "gdf_point_ciclabili = []\n",
    "for idx, row in gdf_ciclabili_cycleway.iterrows():\n",
    "    gdf_point_ciclabili.append(Point(row.geometry.coords[0]))\n",
    "    gdf_point_ciclabili.append(Point(row.geometry.coords[-1]))\n",
    "ciclabili = gpd.GeoDataFrame(gdf_point_ciclabili, columns=[\"geometry\"], crs=CRS_GRAD).assign(tipo=\"ciclabile\")[[\"tipo\", \"geometry\"]]"
   ]
  },
  {
   "cell_type": "markdown",
   "id": "20de51e9",
   "metadata": {},
   "source": [
    "Uniamo le righe dei vari dataframe in uno unico"
   ]
  },
  {
   "cell_type": "code",
   "execution_count": 17,
   "id": "2287bae9",
   "metadata": {},
   "outputs": [],
   "source": [
    "pois = gpd.pd.concat([\n",
    "    parchi, fontane, impianti, scuole, aree_gioco, biblioteche,\n",
    "    stazioni_bikemi, case_acqua, cinema, farmacie, musei, ospedali, teatri, ciclabili\n",
    "], ignore_index=True)"
   ]
  },
  {
   "cell_type": "markdown",
   "id": "b1bed7ee",
   "metadata": {},
   "source": [
    "Tramite sjoin con predicato \"intersect\": eseguiamo una left-join con il gdf dei municipi in base\n",
    "all'intersezione delle geometrie"
   ]
  },
  {
   "cell_type": "code",
   "execution_count": 18,
   "id": "f9e68e12",
   "metadata": {},
   "outputs": [],
   "source": [
    "pois_con_municipio = gpd.sjoin(\n",
    "    municipi,\n",
    "    pois,\n",
    "    how=\"left\",\n",
    "    predicate=\"intersects\"\n",
    "    ).drop([\"index_right\"], axis=1) # eliminiamo l'index_right (conserva l'indice del dataframe del gdf di destra ma non ci serve)"
   ]
  },
  {
   "cell_type": "markdown",
   "id": "7aa0eb66",
   "metadata": {},
   "source": [
    "Raggruppiamo per Municipio e Tipo (mettiamo anche geometry così ci rimane per il geojson).  "
   ]
  },
  {
   "cell_type": "code",
   "execution_count": 19,
   "id": "9205ef0d",
   "metadata": {},
   "outputs": [],
   "source": [
    "conteggi = pois_con_municipio.groupby(['MUNICIPIO', 'geometry', 'tipo']).size().unstack(fill_value=0).reset_index()"
   ]
  },
  {
   "cell_type": "markdown",
   "id": "46df8294",
   "metadata": {},
   "source": [
    "Aggiungiamo una colonna \"point_etichetta\" a cui assegniamo il \"centroid\" del poligono dei vari municipi, in modo  \n",
    "da utilizzarlo su kepler per aggiungere un layer \"poin\" a cui assegniamo una \"label\" (etichetta) così visualizziamo  \n",
    "a schermo il numero dell'attributo preso in considerazione (esempio, numero di parchi = 34, così si vede direttamente sulla mappa  \n",
    "oltre a vedersi solo il colore. Può essere carino)."
   ]
  },
  {
   "cell_type": "code",
   "execution_count": 20,
   "id": "a4eed437",
   "metadata": {},
   "outputs": [],
   "source": [
    "conteggi[\"point_etichetta\"] = conteggi.geometry.apply(lambda x: x.centroid)"
   ]
  },
  {
   "cell_type": "markdown",
   "id": "45712ff7",
   "metadata": {},
   "source": [
    "Riconvertiamo in geodataframe e salviamo su file geojson"
   ]
  },
  {
   "cell_type": "code",
   "execution_count": 21,
   "id": "bf0a160b",
   "metadata": {},
   "outputs": [],
   "source": [
    "conteggi = gpd.GeoDataFrame(conteggi, geometry=\"geometry\", crs=CRS_GRAD)\n",
    "conteggi.to_file(PATH_SCORE_X_MUNICIPI, driver=\"GeoJSON\")"
   ]
  }
 ],
 "metadata": {
  "kernelspec": {
   "display_name": ".venv",
   "language": "python",
   "name": "python3"
  },
  "language_info": {
   "codemirror_mode": {
    "name": "ipython",
    "version": 3
   },
   "file_extension": ".py",
   "mimetype": "text/x-python",
   "name": "python",
   "nbconvert_exporter": "python",
   "pygments_lexer": "ipython3",
   "version": "3.13.2"
  }
 },
 "nbformat": 4,
 "nbformat_minor": 5
}
