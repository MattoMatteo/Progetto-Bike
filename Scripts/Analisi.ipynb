{
 "cells": [
  {
   "cell_type": "markdown",
   "id": "166309a1",
   "metadata": {},
   "source": [
    "# Analisi - Grafi"
   ]
  },
  {
   "cell_type": "code",
   "execution_count": 1,
   "id": "da77dda3",
   "metadata": {},
   "outputs": [],
   "source": [
    "import pickle\n",
    "import json\n",
    "\n",
    "from shapely import Point, LineString\n",
    "import geopandas as gpd\n",
    "import networkx as nx\n",
    "from networkx.algorithms.approximation import steiner_tree\n",
    "import osmnx as ox\n",
    "\n",
    "from my_paths import *\n",
    "import Graph_functions"
   ]
  },
  {
   "cell_type": "markdown",
   "id": "96bd4170",
   "metadata": {},
   "source": [
    "## Analisi Automatica - Documentazione"
   ]
  },
  {
   "cell_type": "markdown",
   "id": "5cfdf378",
   "metadata": {},
   "source": [
    "Tramite la funzione Graph_functions.auto_analysis_poi() è possibile eseguire in automatico la ricreazione del grafo stradale con il dizionario dei pesi desiderato. Spiegazione della funzione:\n",
    "- custom_weights: Un dizionario di pesi del tipo:\n",
    "    ```python\n",
    "    {\"cycleway\": 0, \"primary\": 1, ....}\n",
    "    ```\n",
    "    Possibilità di inserire come chiave: \"default\": quando non viene trovata una \"highway\" associta al dizionario,  \n",
    "    verrà utilizzato il valore contenuto in \"default\".  \n",
    "    In questo modo se si fornisce un dizionario in cui c'è soltanto la chiave \"default\", tutte le strade avranno quel  \n",
    "    valore associato (esempio per creare un grafo di strade senza pesi):\n",
    "    ```python\n",
    "    {\"default\": 1}\n",
    "    ```\n",
    "    Se non viene dato nessun dizionario di pesi, verrà utilizzato direttamente il grafo salvato in staging, che contiene i pesi\n",
    "    standard che abbiamo stabilito, salvati su file json.\n",
    "- Si possono inserire i vari percorsi di salvataggio dei file pickle (grafo) e geojson(geoDataFrame).\n",
    "    Richiede una struttura a liste di dizionari di geoDataFrame per \"poi\" del tipo:\n",
    "    ```python\n",
    "    gdf_list = [\n",
    "        {\"gdf\":  gpd.read_file(PATH_DEL_GEOJSON),\n",
    "        \"tipo\": \"tipo che si vuole assegnare agli archi che connettono il gdf al grafo\",\n",
    "        \"attr\": {\"nome_attributo\": \"valore_attributo\"} # Opzionale, di solito non ci serve\n",
    "        }\n",
    "    ]\n",
    "    ```"
   ]
  },
  {
   "cell_type": "markdown",
   "id": "14c4b333",
   "metadata": {},
   "source": [
    "## Sport e tempo libero"
   ]
  },
  {
   "cell_type": "markdown",
   "id": "65a39de7",
   "metadata": {},
   "source": [
    "Utilizzeremo i seguenti dati:\n",
    "1. **Parchi**\n",
    "2. **Impianti sportivi**\n",
    "3. **Aree gioco**  \n",
    "\n",
    "Saranno i nostri \"poi\", cioè \"Point of Interest\" che verranno aggiunti al Grafo della rete Ciclabile/Stradale per la ricerca di percorsi"
   ]
  },
  {
   "cell_type": "code",
   "execution_count": 2,
   "id": "c774a8e6",
   "metadata": {},
   "outputs": [],
   "source": [
    "gdf_list = [\n",
    "    {\"gdf\":  gpd.read_file(PATH_PARCHI_CLEAN),\n",
    "     \"tipo\": \"parchi\",\n",
    "     \"gdf\":  gpd.read_file(PATH_IMPIANTI_SPORTIVI_CLEAN),\n",
    "     \"tipo\": \"parchi\",\n",
    "     \"gdf\":  gpd.read_file(PATH_AREE_GIOCO_CLEAN),\n",
    "     \"tipo\": \"parchi\",}\n",
    "]\n",
    "Graph_functions.auto_analysis_poi(gdf_list, PATH_GEOJSON=PATH_SPORT_TEMPO_LIBERO_ANALISI_CLEAN)"
   ]
  },
  {
   "cell_type": "markdown",
   "id": "e1c8e634",
   "metadata": {},
   "source": [
    "### Statisiche"
   ]
  },
  {
   "cell_type": "code",
   "execution_count": 3,
   "id": "9d1ce163",
   "metadata": {},
   "outputs": [],
   "source": [
    "gdf_analisi_sport = gpd.read_file(PATH_SPORT_TEMPO_LIBERO_ANALISI_CLEAN)"
   ]
  },
  {
   "cell_type": "code",
   "execution_count": 4,
   "id": "88d01772",
   "metadata": {},
   "outputs": [],
   "source": [
    "# Eliminiamo connessioni \"artificiali\" usate per connettere i \"poi\" al grafo delle strade\n",
    "gdf_analisi_sport_mod = gdf_analisi_sport[gdf_analisi_sport[\"artificial\"] != True]\n",
    "\n",
    "# Eliminiamo i percorsi completamente contenuti all'interno dei \"poi\" poligonari: parchi\n",
    "gdf = gpd.read_file(PATH_PARCHI_CLEAN)\n",
    "geometry_parchi = gdf.union_all()\n",
    "gdf_senza_parchi = []\n",
    "for idx, row in gdf_analisi_sport_mod.iterrows():\n",
    "    if not geometry_parchi.contains(row.geometry):\n",
    "        gdf_senza_parchi.append(row)\n",
    "gdf_analisi_sport_mod = gpd.GeoDataFrame(gdf_senza_parchi, crs=CRS_GRAD)\n",
    "\n",
    "# Salviamo per test di visualizzazione su kepler\n",
    "gdf_analisi_sport_mod.to_file(\"../Data/Clean/Analisi/sport_senza_parchi_con_pesi.geojson\")\n",
    "\n",
    "# Raggruppiamo per \"highway\" e calcoliamo (in km -> /1000) la lunghezza complessiva delle strade\n",
    "gdf_analisi_sport_mod_most_highways = gdf_analisi_sport_mod.to_crs(CRS_METR).groupby(\"highway\").agg({\n",
    "    \"length\": lambda x: sum(x/1000)\n",
    "    }).sort_values(by=\"length\", ascending=False)"
   ]
  },
  {
   "cell_type": "code",
   "execution_count": null,
   "id": "0d0bf844",
   "metadata": {},
   "outputs": [],
   "source": [
    "# Stampiamo il risultato\n",
    "print(gdf_analisi_sport_mod_most_highways)\n",
    "print(f\"Tot: {gdf_analisi_sport_mod_most_highways[\"length\"].sum()}\")"
   ]
  },
  {
   "cell_type": "markdown",
   "id": "6f06299f",
   "metadata": {},
   "source": [
    "## Unione Rete Ciclabile"
   ]
  },
  {
   "cell_type": "code",
   "execution_count": 7,
   "id": "28321313",
   "metadata": {},
   "outputs": [],
   "source": [
    "gdf_ciclabili = gpd.read_file(PATH_STRADE_CICLABILI_GEOJSON_STAGING)"
   ]
  },
  {
   "cell_type": "markdown",
   "id": "4040727e",
   "metadata": {},
   "source": [
    "Provo a creare dei percorsi che hanno lo scopo di unire tutti i frammenti di ciclabili esistenti.\n",
    "Quindi userò come \"poi\" tutti i nodi delle \"highway\"=cycleway"
   ]
  },
  {
   "cell_type": "code",
   "execution_count": 8,
   "id": "61f311c0",
   "metadata": {},
   "outputs": [],
   "source": [
    "gdf_ciclabili_cycleway = gdf_ciclabili[gdf_ciclabili[\"highway\"] == \"cycleway\"]\n",
    "gdf_point_ciclabili = []\n",
    "for idx, row in gdf_ciclabili_cycleway.iterrows():\n",
    "    gdf_point_ciclabili.append(Point(row.geometry.coords[0]))\n",
    "    gdf_point_ciclabili.append(Point(row.geometry.coords[-1]))\n",
    "gdf_point_ciclabili = gpd.GeoDataFrame(gdf_point_ciclabili, columns=[\"geometry\"], crs=CRS_GRAD)"
   ]
  },
  {
   "cell_type": "markdown",
   "id": "6f9fa5c9",
   "metadata": {},
   "source": [
    "Faccio partire il calcolo dei percosi"
   ]
  },
  {
   "cell_type": "code",
   "execution_count": 14,
   "id": "e2285db0",
   "metadata": {},
   "outputs": [],
   "source": [
    "gdf_list = [\n",
    "    {\"gdf\":  gdf_point_ciclabili,\n",
    "     \"tipo\": \"poi_ciclabili\"}\n",
    "]\n",
    "Graph_functions.auto_analysis_poi(gdf_list, PATH_GEOJSON=\"../Data/Clean/Analisi/extended_ciclabili.geojson\")\n",
    "# Rimuoviamo gli archi artificiali che tanto in questo caso specifico sono archi di punti collegati con loro stessi\n",
    "# Che quindi non rappresentano nulla, sono solo rumore\n",
    "gdf_extended_ciclabili = gpd.read_file(\"../Data/Clean/Analisi/extended_ciclabili.geojson\")\n",
    "gdf_extended_ciclabili = gdf_extended_ciclabili[gdf_extended_ciclabili[\"artificial\"]==False]\n",
    "gdf_extended_ciclabili.reset_index(drop=True).to_file(\"../Data/Clean/Analisi/extended_ciclabili.geojson\", driver=\"GeoJSON\")"
   ]
  },
  {
   "cell_type": "markdown",
   "id": "d07a64c4",
   "metadata": {},
   "source": [
    "### Statistiche"
   ]
  },
  {
   "cell_type": "code",
   "execution_count": 28,
   "id": "cc5d7a44",
   "metadata": {},
   "outputs": [],
   "source": [
    "gdf_extended_ciclabili = gpd.read_file(\"../Data/Clean/Analisi/extended_ciclabili.geojson\")"
   ]
  },
  {
   "cell_type": "markdown",
   "id": "b15407e6",
   "metadata": {},
   "source": [
    "1. Raggruppiamo per strade e vediamo i km per ogni tipologia"
   ]
  },
  {
   "cell_type": "code",
   "execution_count": 34,
   "id": "aeb1b498",
   "metadata": {},
   "outputs": [
    {
     "name": "stdout",
     "output_type": "stream",
     "text": [
      "                 length\n",
      "highway                \n",
      "cycleway     209.282437\n",
      "footway       36.254350\n",
      "residential   15.552589\n",
      "secondary     13.979275\n",
      "tertiary      11.675173\n",
      "service        5.011441\n",
      "308.9554463607366 km\n"
     ]
    }
   ],
   "source": [
    "gdf_extended_ciclabili_highway = gdf_extended_ciclabili.to_crs(CRS_METR).groupby(\"highway\").agg({\n",
    "    \"length\": lambda x: sum(x/1000)\n",
    "    }).sort_values(by=\"length\", ascending=False)\n",
    "print(gdf_extended_ciclabili_highway.head(6))\n",
    "print(gdf_extended_ciclabili_highway[\"length\"].sum(), \"km\")"
   ]
  },
  {
   "cell_type": "markdown",
   "id": "eda24324",
   "metadata": {},
   "source": [
    "2. Calcoliamo i km nuovi da costruire (rimuoviamo cycleway che sono già costruite in teoria)"
   ]
  },
  {
   "cell_type": "code",
   "execution_count": 39,
   "id": "c305dc84",
   "metadata": {},
   "outputs": [
    {
     "name": "stdout",
     "output_type": "stream",
     "text": [
      "99.67300939731115 km\n"
     ]
    }
   ],
   "source": [
    "print(gdf_extended_ciclabili_highway.drop(\"cycleway\", axis=0).sum().values[0], \"km\")"
   ]
  }
 ],
 "metadata": {
  "kernelspec": {
   "display_name": ".venv",
   "language": "python",
   "name": "python3"
  },
  "language_info": {
   "codemirror_mode": {
    "name": "ipython",
    "version": 3
   },
   "file_extension": ".py",
   "mimetype": "text/x-python",
   "name": "python",
   "nbconvert_exporter": "python",
   "pygments_lexer": "ipython3",
   "version": "3.13.2"
  }
 },
 "nbformat": 4,
 "nbformat_minor": 5
}
