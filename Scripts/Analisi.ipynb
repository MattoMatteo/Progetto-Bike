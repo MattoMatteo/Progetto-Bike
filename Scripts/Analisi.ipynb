{
 "cells": [
  {
   "cell_type": "markdown",
   "id": "166309a1",
   "metadata": {},
   "source": [
    "# Analisi - Grafi"
   ]
  },
  {
   "cell_type": "code",
   "execution_count": 1,
   "id": "da77dda3",
   "metadata": {},
   "outputs": [],
   "source": [
    "import pickle\n",
    "\n",
    "import geopandas as gpd\n",
    "import networkx as nx\n",
    "import osmnx as ox\n",
    "\n",
    "from my_paths import *\n",
    "import Graph_functions"
   ]
  },
  {
   "cell_type": "markdown",
   "id": "14c4b333",
   "metadata": {},
   "source": [
    "## Sport e tempo libero"
   ]
  },
  {
   "cell_type": "markdown",
   "id": "65a39de7",
   "metadata": {},
   "source": [
    "Utilizzeremo i seguenti dati:\n",
    "1. Parchi\n",
    "2. impianti sportivi\n",
    "3. aree gioco\n",
    "Saranno i nostri \"poi\", cioè \"Point of Interest\" che verranno aggiunti al Grafo della rete Ciclabile/Stradale per la ricerca di percorsi"
   ]
  },
  {
   "cell_type": "markdown",
   "id": "454bc180",
   "metadata": {},
   "source": [
    "Carichiamo il Grafo di base della rete stradale/ciclabile"
   ]
  },
  {
   "cell_type": "code",
   "execution_count": 2,
   "id": "b27ac11f",
   "metadata": {},
   "outputs": [],
   "source": [
    "# Carichiamo Graph Ciclabili\n",
    "with open(PATH_RETE_CICLABILE_COMPLETA_PICKLE_CLEAN, \"rb\") as f:\n",
    "    G_strade_ciclabili = pickle.load(f)"
   ]
  },
  {
   "cell_type": "markdown",
   "id": "702938c1",
   "metadata": {},
   "source": [
    "### Aggiunta di Parchi come **\"poi\"**"
   ]
  },
  {
   "cell_type": "markdown",
   "id": "7c20f5cb",
   "metadata": {},
   "source": [
    "1. Carichiamo il file dei parchi da \"clean\"\n",
    "2. Utilizziamo **\"connect_poi_nodes_to_graph()\"** per connettere il geodataframe come \"poi\" al grafo delle strade/ciclabili."
   ]
  },
  {
   "cell_type": "code",
   "execution_count": 3,
   "id": "413f2266",
   "metadata": {},
   "outputs": [],
   "source": [
    "gdf_parchi = gpd.read_file(PATH_PARCHI_CLEAN)\n",
    "G_compose_merged_parchi = Graph_functions.connect_poi_nodes_to_graph(G_strade_ciclabili, gdf_parchi,\n",
    "                                                                     tipo = \"parchi\",\n",
    "                                                                     poi = True,\n",
    "                                                                     artificial=True)"
   ]
  },
  {
   "cell_type": "markdown",
   "id": "dd7a5a42",
   "metadata": {},
   "source": [
    "## Utilizziamo algoritmo di **Steiner Tree**"
   ]
  },
  {
   "cell_type": "markdown",
   "id": "cf0ca7b6",
   "metadata": {},
   "source": [
    "Una volta aggiunti i \"poi\" al grafo delle strade/ciclabili, eseguiamo l'algoritmo che troverà i percorsi minimi per connettere tutti i \"poi\" tra di loro con il minor \"peso\" possibile.  \n",
    "I pesi sono stati già accuratamente inseriti sugli archi delle strade, mentre quelli delle ciclabili e degli archi all'interno dei poligoni dei \"poi\" sono = 0, in modo da preferire sempre quei percorsi quando possibile (sfruttare ciclabili pre-esistenti il più possibile)."
   ]
  },
  {
   "cell_type": "code",
   "execution_count": 4,
   "id": "9b5920d2",
   "metadata": {},
   "outputs": [],
   "source": [
    "poi_nodes = [n for n, d in G_compose_merged_parchi.nodes(data=True) if d.get(\"tipo\") == \"parchi\"]\n",
    "\n",
    "components = list(nx.connected_components(G_compose_merged_parchi))\n",
    "largest_cc = max(components, key=len)\n",
    "\n",
    "G_sub = G_compose_merged_parchi.subgraph(largest_cc).copy()\n",
    "poi_sub = [n for n in poi_nodes if n in G_sub.nodes]\n",
    "\n",
    "for u, v, data in G_sub.edges(data=True):\n",
    "    if 'weight' not in data or not isinstance(data['weight'], (int, float)):\n",
    "        data['weight'] = 1  # o un peso di default\n",
    "\n",
    "from networkx.algorithms.approximation import steiner_tree\n",
    "\n",
    "G_sport_tempo_libero = steiner_tree(G_sub, terminal_nodes=poi_sub, weight='weight')"
   ]
  },
  {
   "cell_type": "markdown",
   "id": "e0bca168",
   "metadata": {},
   "source": [
    "Risultato lo salviamo in Clean di Analisi (per ora anche il pickle in staging) in geojson pronto da visualizzare"
   ]
  },
  {
   "cell_type": "code",
   "execution_count": null,
   "id": "b5b49bec",
   "metadata": {},
   "outputs": [],
   "source": [
    "with open(PATH_SPORT_TEMPO_LIBERO_ANALISI_PICKLE_STAGING, \"wb\") as f:\n",
    "    pickle.dump(G_sport_tempo_libero, f)\n",
    "\n",
    "gdf_steiner = ox.graph_to_gdfs(G_sport_tempo_libero, edges=True, nodes=False)\n",
    "gdf_steiner.to_file(PATH_SPORT_TEMPO_LIBERO_ANALISI_CLEAN, driver=\"GeoJSON\")"
   ]
  }
 ],
 "metadata": {
  "kernelspec": {
   "display_name": ".venv",
   "language": "python",
   "name": "python3"
  },
  "language_info": {
   "codemirror_mode": {
    "name": "ipython",
    "version": 3
   },
   "file_extension": ".py",
   "mimetype": "text/x-python",
   "name": "python",
   "nbconvert_exporter": "python",
   "pygments_lexer": "ipython3",
   "version": "3.13.2"
  }
 },
 "nbformat": 4,
 "nbformat_minor": 5
}
