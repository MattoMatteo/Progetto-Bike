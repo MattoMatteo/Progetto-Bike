{
 "cells": [
  {
   "cell_type": "markdown",
   "id": "166309a1",
   "metadata": {},
   "source": [
    "# Analisi - Grafi"
   ]
  },
  {
   "cell_type": "code",
   "execution_count": 1,
   "id": "da77dda3",
   "metadata": {},
   "outputs": [],
   "source": [
    "import pickle\n",
    "from shapely import Point\n",
    "import geopandas as gpd\n",
    "\n",
    "from my_paths import *\n",
    "import Graph_functions"
   ]
  },
  {
   "cell_type": "markdown",
   "id": "96bd4170",
   "metadata": {},
   "source": [
    "## Analisi Automatica - Documentazione"
   ]
  },
  {
   "cell_type": "markdown",
   "id": "5cfdf378",
   "metadata": {},
   "source": [
    "Tramite la funzione **Graph_functions.auto_analysis_poi()** è possibile eseguire in automatico la ricreazione del grafo stradale con il dizionario dei pesi desiderato. Spiegazione della funzione:\n",
    " ```python\n",
    "(function) def auto_analysis_poi(\n",
    "    list_gdfs_poi: list[dict],\n",
    "    custom_weights: dict = None,\n",
    "    PATH_GEOJSON: str = None,\n",
    "    PATH_PICKLE: str = None\n",
    ") -> None\n",
    "```\n",
    "- Richiede una struttura a liste di dizionari di geoDataFrame per \"poi\" del tipo:\n",
    "    ```python\n",
    "    gdf_list = [\n",
    "        {\"gdf\":  gpd.read_file(PATH_DEL_GEOJSON),\n",
    "        \"tipo\": \"tipo che si vuole assegnare agli archi che connettono il gdf al grafo\",\n",
    "        \"attr\": {\"nome_attributo\": \"valore_attributo\"} # Opzionale\n",
    "        }\n",
    "    ]\n",
    "    ```\n",
    "    Un attributo che però **non è opzionale** **se** si vuole eseguire la nuova funzione di **\"auto_filter_poi\"** è **\"priorita\"** che deve essere un numero  \n",
    "    intero da 1 in poi. Minore è il valore e maggiore è la priorità (priorità 1 = massima).\n",
    "    ```python\n",
    "    \"attr\": {\"priorita\": 1}\n",
    "- custom_weights: Un dizionario di pesi del tipo:\n",
    "    ```python\n",
    "    {\"cycleway\": 0, \"primary\": 1, ....}\n",
    "    ```\n",
    "    Possibilità di inserire come chiave: \"default\": quando non viene trovata una \"highway\" associta al dizionario,  \n",
    "    verrà utilizzato il valore contenuto in \"default\".  \n",
    "    In questo modo se si fornisce un dizionario in cui c'è soltanto la chiave \"default\", tutte le strade avranno quel  \n",
    "    valore associato (esempio per creare un grafo di strade senza pesi):\n",
    "    ```python\n",
    "    {\"default\": 1}\n",
    "    ```\n",
    "    Se non viene dato nessun dizionario di pesi, verrà utilizzato direttamente il grafo salvato in staging, che contiene i pesi\n",
    "    standard che abbiamo stabilito, salvati su file json.\n",
    "- Si possono inserire i vari percorsi di salvataggio dei file pickle (grafo) e geojson(geoDataFrame).\n",
    "    \n",
    "\n",
    "    ```"
   ]
  },
  {
   "cell_type": "markdown",
   "id": "a2b96e3a",
   "metadata": {},
   "source": [
    "Documentazione per **\"auto_filter_poi\"**\n",
    "Tramite un grafo (il pickle) generato da un **Graph_functions.auto_analysis_poi()** è possibile lanciare una versione \"ridotta\" dei percorsi\n",
    "in base a un numero fissato di \"poi\".  \n",
    "Attributi:\n",
    "```python\n",
    "(function) def auto_filter_poi(\n",
    "    G_percorsi: MultiDiGraph,\n",
    "    max_pois: int,\n",
    "    peso_inquinamento_vs_incidenti: float = 0.5,\n",
    "    peso_fattori_esterni_vs_distribuzione_poi: float = 0.5,\n",
    "    custom_weights: dict = None,\n",
    "    PATH_GEOJSON: str = None,\n",
    "    PATH_PICKLE: str = None\n",
    ") -> None\n",
    "```\n",
    "- **G_percorsi** -> Il file pickle salvato da **Graph_functions.auto_analysis_poi()**\n",
    "- **max_pois** -> Il numero massimo (circa) di \"pois\" su cui creare la versione ridotta del grafo originale.\n",
    "- **peso_inquinamento_vs_incidenti** -> Un numero da 0 -> 1: Più basso è e più sarà orientato verso **incidenti** (priorità su inquinamento = 0 per intenderci), mentre al contrario più è alto e più sarà sbilanciato su **inquinamento** rispetto a incidenti. Di base + 0.5 (non sbilanciato).\n",
    "- **peso_fattori_esterni_vs_distribuzione_poi** -> Stesso discorso di prima ma per quanto riguarda l'impatto dei fattori visti prima, denominati nel loro insieme come **fattori_esterni**. Per **distribuzione_poi** intendiamo la loro \"proporzionale\" diminuzione in base alla loro normale distribuzione tra i vari municipi.  \n",
    "Esempio: Municipio 1 ha 10 pois e Municipio 2 ne ha 20 (tot 30) e noi vogliamo un max di 10 -> vista la proporzione di 1 a 2 ->  \n",
    "Municipio 1 ottiene circa 3 poi mentro Municipio 2 ne ottiene circa 7. Questo nel caso in cui si mettesse come valore 1 a questo attributo e quindi nel caso in cui i \"fattori esterni\" non vengano tenuti in considerazione, altrimenti potrebbero andare a cambiare questi numeri in base a quanto peso si è deciso di dargli nel computo e poi di conseguenza a quale dei due fattori si è deciso di dare più importanza tramite il precedente parametro.\n",
    "- Gli altri parametri sono uguali a **auto_filter_poi()**"
   ]
  },
  {
   "cell_type": "markdown",
   "id": "06c9bf4a",
   "metadata": {},
   "source": [
    "## Estensione rete ciclabili"
   ]
  },
  {
   "cell_type": "markdown",
   "id": "b357cfa6",
   "metadata": {},
   "source": [
    "ETL gdf:  \n",
    "Provo a creare dei percorsi che hanno lo scopo di unire tutti i frammenti di ciclabili esistenti.  \n",
    "Quindi userò come \"poi\" tutti i nodi delle \"highway\"=cycleway"
   ]
  },
  {
   "cell_type": "code",
   "execution_count": 2,
   "id": "cbde9a58",
   "metadata": {},
   "outputs": [],
   "source": [
    "gdf_ciclabili = gpd.read_file(PATH_STRADE_CICLABILI_GEOJSON_CLEAN)\n",
    "gdf_ciclabili_cycleway = gdf_ciclabili[gdf_ciclabili[\"highway\"] == \"cycleway\"]\n",
    "gdf_point_ciclabili = []\n",
    "for idx, row in gdf_ciclabili_cycleway.iterrows():\n",
    "    gdf_point_ciclabili.append(Point(row.geometry.coords[0]))\n",
    "    gdf_point_ciclabili.append(Point(row.geometry.coords[-1]))\n",
    "gdf_point_ciclabili = gpd.GeoDataFrame(gdf_point_ciclabili, columns=[\"geometry\"], crs=CRS_GRAD)"
   ]
  },
  {
   "cell_type": "markdown",
   "id": "641257e7",
   "metadata": {},
   "source": [
    "### Analisi Completo"
   ]
  },
  {
   "cell_type": "code",
   "execution_count": 3,
   "id": "37bed9f2",
   "metadata": {},
   "outputs": [],
   "source": [
    "gdf_list = [\n",
    "    {\"gdf\":  gdf_point_ciclabili,\n",
    "     \"tipo\": \"ciclabile\",\n",
    "     \"attr\": {\"priorita\": 1}}\n",
    "]\n",
    "Graph_functions.auto_analysis_poi(gdf_list,\n",
    "                                  PATH_PICKLE=PATH_EXTENDED_CICLABILI_PICKLE_STAGING,\n",
    "                                  PATH_GEOJSON=PATH_EXTENDED_CICLABILI_CLEAN)\n",
    "\n",
    "# --------------------  Post ETL  --------------------------#\n",
    "# Rimuoviamo gli archi artificiali (in questo caso non ci sono effetti poi che abbiamo collegato)\n",
    "gdf_extended_ciclabili = gpd.read_file(PATH_EXTENDED_CICLABILI_CLEAN)\n",
    "gdf_extended_ciclabili = gdf_extended_ciclabili[gdf_extended_ciclabili[\"artificial\"]==False]\n",
    "gdf_extended_ciclabili.reset_index(drop=True).to_file(PATH_EXTENDED_CICLABILI_CLEAN, driver=\"GeoJSON\")"
   ]
  },
  {
   "cell_type": "markdown",
   "id": "f1a325df",
   "metadata": {},
   "source": [
    "### Analisi con filtri"
   ]
  },
  {
   "cell_type": "markdown",
   "id": "32d1d2a6",
   "metadata": {},
   "source": [
    "Utilizzare questo per capire quanti \"poi\" contiene il gdf e scegliere i \"max pois\" da inserire"
   ]
  },
  {
   "cell_type": "code",
   "execution_count": 4,
   "id": "d4ef509f",
   "metadata": {},
   "outputs": [
    {
     "data": {
      "text/plain": [
       "9686"
      ]
     },
     "execution_count": 4,
     "metadata": {},
     "output_type": "execute_result"
    }
   ],
   "source": [
    "len(gdf_point_ciclabili)"
   ]
  },
  {
   "cell_type": "code",
   "execution_count": 66,
   "id": "8e472ed0",
   "metadata": {},
   "outputs": [],
   "source": [
    "with open(PATH_EXTENDED_CICLABILI_PICKLE_STAGING, \"rb\") as file:\n",
    "    G_extended_ciclabili = pickle.load(file)\n",
    "\n",
    "n_pois = len(gdf_point_ciclabili) / 100 * 30    # 30% del totale\n",
    "Graph_functions.auto_filter_poi(G_percorsi = G_extended_ciclabili,\n",
    "                                max_pois= n_pois,\n",
    "                                peso_inquinamento_vs_incidenti = 0,\n",
    "                                peso_fattori_esterni_vs_distribuzione_poi = 1,\n",
    "                                PATH_GEOJSON = PATH_EXTENDED_CICLABILI_FILTRATO_CLEAN)\n",
    "\n",
    "# --------------------  Post ETL  --------------------------#\n",
    "# Rimuoviamo gli archi artificiali (in questo caso non ci sono effetti poi che abbiamo collegato)\n",
    "gdf_extended_ciclabili = gpd.read_file(PATH_EXTENDED_CICLABILI_FILTRATO_CLEAN)\n",
    "gdf_extended_ciclabili = gdf_extended_ciclabili[gdf_extended_ciclabili[\"artificial\"]==False]\n",
    "gdf_extended_ciclabili.reset_index(drop=True).to_file(PATH_EXTENDED_CICLABILI_FILTRATO_CLEAN, driver=\"GeoJSON\")"
   ]
  },
  {
   "cell_type": "markdown",
   "id": "1fe77965",
   "metadata": {},
   "source": [
    "### Statistiche"
   ]
  },
  {
   "cell_type": "markdown",
   "id": "b64467f3",
   "metadata": {},
   "source": [
    "Per praticità per ora basta commentare quello di cui non si vuole guardare le statistiche"
   ]
  },
  {
   "cell_type": "code",
   "execution_count": 74,
   "id": "b029f61f",
   "metadata": {},
   "outputs": [],
   "source": [
    "gdf_extended_ciclabili = gpd.read_file(PATH_EXTENDED_CICLABILI_CLEAN)\n",
    "#gdf_extended_ciclabili = gpd.read_file(PATH_EXTENDED_CICLABILI_FILTRATO_CLEAN)"
   ]
  },
  {
   "cell_type": "markdown",
   "id": "49e307b0",
   "metadata": {},
   "source": [
    "1. Km per ogni \"highway\""
   ]
  },
  {
   "cell_type": "code",
   "execution_count": 75,
   "id": "19eebf89",
   "metadata": {},
   "outputs": [
    {
     "name": "stdout",
     "output_type": "stream",
     "text": [
      "                 length\n",
      "highway                \n",
      "cycleway     206.214018\n",
      "footway       37.048211\n",
      "residential   15.299822\n",
      "secondary     14.007885\n",
      "tertiary      11.685893\n",
      "service        5.018637\n",
      "306.56043468606293 km\n"
     ]
    }
   ],
   "source": [
    "gdf_extended_ciclabili_highway = gdf_extended_ciclabili.to_crs(CRS_METR).groupby(\"highway\").agg({\n",
    "    \"length\": lambda x: sum(x/1000)\n",
    "    }).sort_values(by=\"length\", ascending=False)\n",
    "print(gdf_extended_ciclabili_highway.head(6))\n",
    "print(gdf_extended_ciclabili_highway[\"length\"].sum(), \"km\")"
   ]
  },
  {
   "cell_type": "markdown",
   "id": "a5ff4dc4",
   "metadata": {},
   "source": [
    "2. Km non di \"ciclabile\", quindi da costruire"
   ]
  },
  {
   "cell_type": "code",
   "execution_count": 76,
   "id": "bc44845d",
   "metadata": {},
   "outputs": [
    {
     "data": {
      "text/plain": [
       "94.60126123978074"
      ]
     },
     "execution_count": 76,
     "metadata": {},
     "output_type": "execute_result"
    }
   ],
   "source": [
    "float(gdf_extended_ciclabili[gdf_extended_ciclabili[\"ciclabile\"] == \"False\"][\"length\"].sum()/1000)"
   ]
  },
  {
   "cell_type": "markdown",
   "id": "14c4b333",
   "metadata": {},
   "source": [
    "## Sport e tempo libero"
   ]
  },
  {
   "cell_type": "markdown",
   "id": "65a39de7",
   "metadata": {},
   "source": [
    "Utilizzeremo i seguenti dati:\n",
    "1. **Parchi**\n",
    "2. **Impianti sportivi**\n",
    "3. **Aree gioco**  \n",
    "\n",
    "Saranno i nostri \"poi\", cioè \"Point of Interest\" che verranno aggiunti al Grafo della rete Ciclabile/Stradale per la ricerca di percorsi"
   ]
  },
  {
   "cell_type": "markdown",
   "id": "fc5ed9c9",
   "metadata": {},
   "source": [
    "### Analisi completa"
   ]
  },
  {
   "cell_type": "code",
   "execution_count": 5,
   "id": "c774a8e6",
   "metadata": {},
   "outputs": [],
   "source": [
    "gdf_list = [\n",
    "    {\"gdf\":  gpd.read_file(PATH_PARCHI_CLEAN),\n",
    "     \"tipo\": \"parchi\",\n",
    "     \"attr\": {\"priorita\": 1}},\n",
    "     {\"gdf\":  gpd.read_file(PATH_IMPIANTI_SPORTIVI_CLEAN),\n",
    "     \"tipo\": \"impianti_sportivi\",\n",
    "     \"attr\": {\"priorita\": 2}},\n",
    "     {\"gdf\":  gpd.read_file(PATH_AREE_GIOCO_CLEAN),\n",
    "     \"tipo\": \"aree_gioco\",\n",
    "     \"attr\": {\"priorita\": 3}} \n",
    "]\n",
    "Graph_functions.auto_analysis_poi(gdf_list,\n",
    "                                  PATH_PICKLE=PATH_SPORT_TEMPO_LIBERO_PICKLE_STAGING,\n",
    "                                  PATH_GEOJSON=PATH_SPORT_TEMPO_LIBERO_CLEAN)"
   ]
  },
  {
   "cell_type": "markdown",
   "id": "06431cc9",
   "metadata": {},
   "source": [
    "### Analisi filtrata"
   ]
  },
  {
   "cell_type": "markdown",
   "id": "f909aabc",
   "metadata": {},
   "source": [
    "Incidenti"
   ]
  },
  {
   "cell_type": "code",
   "execution_count": 6,
   "id": "45efc912",
   "metadata": {},
   "outputs": [],
   "source": [
    "with open(PATH_SPORT_TEMPO_LIBERO_PICKLE_STAGING, \"rb\") as file:\n",
    "    G_sport = pickle.load(file)\n",
    "\n",
    "Graph_functions.auto_filter_poi(G_percorsi=G_sport,\n",
    "                                max_pois=400,\n",
    "                                peso_inquinamento_vs_incidenti=0,\n",
    "                                peso_fattori_esterni_vs_distribuzione_poi=1,\n",
    "                                PATH_GEOJSON=PATH_SPORT_TEMPO_LIBERO_FILTRATO_CLEAN.replace(\"clean.geojson\", \"incidenti_clean.geojson\"))"
   ]
  },
  {
   "cell_type": "markdown",
   "id": "9aa023fd",
   "metadata": {},
   "source": [
    "Inquinamento"
   ]
  },
  {
   "cell_type": "code",
   "execution_count": 13,
   "id": "c09b58be",
   "metadata": {},
   "outputs": [],
   "source": [
    "with open(PATH_SPORT_TEMPO_LIBERO_PICKLE_STAGING, \"rb\") as file:\n",
    "    G_sport = pickle.load(file)\n",
    "\n",
    "Graph_functions.auto_filter_poi(G_percorsi=G_sport,\n",
    "                                max_pois=400,\n",
    "                                peso_inquinamento_vs_incidenti=1,\n",
    "                                peso_fattori_esterni_vs_distribuzione_poi=1,\n",
    "                                PATH_GEOJSON=PATH_SPORT_TEMPO_LIBERO_FILTRATO_CLEAN.replace(\"clean.geojson\", \"inquinamento_clean.geojson\"))"
   ]
  },
  {
   "cell_type": "markdown",
   "id": "77daee37",
   "metadata": {},
   "source": [
    "Unione dei percorsi in un unico file. Aggiungo dei Tag per distinguere i dataframe."
   ]
  },
  {
   "cell_type": "code",
   "execution_count": 21,
   "id": "16eebfeb",
   "metadata": {},
   "outputs": [],
   "source": [
    "gdf_completo = gpd.read_file(PATH_SPORT_TEMPO_LIBERO_CLEAN)\n",
    "gdf_filtrato_incidenti = gpd.read_file(PATH_SPORT_TEMPO_LIBERO_FILTRATO_CLEAN.replace(\"clean.geojson\", \"incidenti_clean.geojson\"))\n",
    "gdf_filtrato_inquinamento = gpd.read_file(PATH_SPORT_TEMPO_LIBERO_FILTRATO_CLEAN.replace(\"clean.geojson\", \"inquinamento_clean.geojson\"))\n",
    "\n",
    "gdf_completo[\"origine\"] = \"completo\"\n",
    "gdf_filtrato_incidenti[\"origine\"] = \"solo_incidenti\"\n",
    "gdf_filtrato_inquinamento[\"origine\"] = \"solo_inquinamento\"\n",
    "gdf_unito = gpd.GeoDataFrame(gpd.pd.concat([\n",
    "        gdf_completo,\n",
    "        gdf_filtrato_incidenti,\n",
    "        gdf_filtrato_inquinamento,\n",
    "    ], ignore_index=True), crs=CRS_GRAD)"
   ]
  },
  {
   "cell_type": "code",
   "execution_count": 19,
   "id": "2368bee2",
   "metadata": {},
   "outputs": [],
   "source": [
    "gdf_unito.to_file(PATH_SPORT_TEMPO_LIBERO_CLEAN.replace(\"clean.geojson\", \"unito_clean.geojson\"))"
   ]
  },
  {
   "cell_type": "markdown",
   "id": "e1c8e634",
   "metadata": {},
   "source": [
    "### Statisiche"
   ]
  },
  {
   "cell_type": "code",
   "execution_count": 104,
   "id": "9d1ce163",
   "metadata": {},
   "outputs": [],
   "source": [
    "gdf_analisi_sport = gpd.read_file(PATH_SPORT_TEMPO_LIBERO_CLEAN)"
   ]
  },
  {
   "cell_type": "code",
   "execution_count": 109,
   "id": "185bad39",
   "metadata": {},
   "outputs": [
    {
     "data": {
      "text/plain": [
       "np.float64(104.9339840532247)"
      ]
     },
     "execution_count": 109,
     "metadata": {},
     "output_type": "execute_result"
    }
   ],
   "source": [
    "gdf_analisi_sport_mod = gdf_analisi_sport[gdf_analisi_sport[\"artificial\"] != True]\n",
    "gdf_analisi_sport_mod[gdf_analisi_sport_mod[\"ciclabile\"]==\"True\"][\"length\"].sum()/1000"
   ]
  },
  {
   "cell_type": "markdown",
   "id": "6363fa28",
   "metadata": {},
   "source": [
    "pre pulizia per tutte le statistiche"
   ]
  },
  {
   "cell_type": "code",
   "execution_count": 108,
   "id": "88d01772",
   "metadata": {},
   "outputs": [],
   "source": [
    "# Eliminiamo connessioni \"artificiali\" usate per connettere i \"poi\" al grafo delle strade\n",
    "gdf_analisi_sport_mod = gdf_analisi_sport[gdf_analisi_sport[\"artificial\"] != True]\n",
    "\n",
    "# Eliminiamo i percorsi completamente contenuti all'interno dei \"poi\" poligonari: parchi\n",
    "gdf = gpd.read_file(PATH_PARCHI_CLEAN)\n",
    "geometry_parchi = gdf.union_all()\n",
    "gdf_senza_parchi = []\n",
    "for idx, row in gdf_analisi_sport_mod.iterrows():\n",
    "    if not geometry_parchi.contains(row.geometry):\n",
    "        gdf_senza_parchi.append(row)\n",
    "gdf_analisi_sport_mod = gpd.GeoDataFrame(gdf_senza_parchi, crs=CRS_GRAD)"
   ]
  },
  {
   "cell_type": "markdown",
   "id": "1ea46bf5",
   "metadata": {},
   "source": [
    "1. Km per \"highway\""
   ]
  },
  {
   "cell_type": "code",
   "execution_count": 102,
   "id": "04596a5f",
   "metadata": {},
   "outputs": [
    {
     "name": "stdout",
     "output_type": "stream",
     "text": [
      "                                 length\n",
      "highway                                \n",
      "footway                      179.947934\n",
      "cycleway                     102.764815\n",
      "residential                   38.399767\n",
      "tertiary                      24.759123\n",
      "secondary                     10.237838\n",
      "primary                        7.072719\n",
      "service                        5.422086\n",
      "pedestrian                     4.235049\n",
      "path                           3.516888\n",
      "track                          2.303546\n",
      "footway service                1.271002\n",
      "unclassified                   1.251304\n",
      "footway steps                  0.741803\n",
      "footway path                   0.569967\n",
      "residential footway            0.474065\n",
      "footway pedestrian             0.466265\n",
      "proposed footway service       0.321046\n",
      "cycleway path                  0.291043\n",
      "residential pedestrian         0.275658\n",
      "cycleway footway               0.272785\n",
      "track service                  0.234884\n",
      "tertiary_link                  0.217631\n",
      "residential cycleway           0.214467\n",
      "secondary_link                 0.171147\n",
      "residential path               0.163377\n",
      "service path                   0.149921\n",
      "residential service            0.137655\n",
      "construction                   0.132553\n",
      "unclassified residential       0.116679\n",
      "cycleway service               0.093463\n",
      "unclassified primary_link      0.087652\n",
      "residential footway service    0.077618\n",
      "primary_link                   0.073602\n",
      "path pedestrian                0.044139\n",
      "tertiary tertiary_link         0.037849\n",
      "steps                          0.015532\n",
      "Tot: 386.5628717927376\n"
     ]
    }
   ],
   "source": [
    "# Raggruppiamo per \"highway\" e calcoliamo (in km -> /1000) la lunghezza complessiva delle strade\n",
    "gdf_analisi_sport_mod_most_highways = gdf_analisi_sport_mod.to_crs(CRS_METR).groupby(\"highway\").agg({\n",
    "    \"length\": lambda x: sum(x/1000)\n",
    "    }).sort_values(by=\"length\", ascending=False)\n",
    "# Stampiamo il risultato\n",
    "print(gdf_analisi_sport_mod_most_highways)\n",
    "print(f\"Tot: {gdf_analisi_sport_mod_most_highways[\"length\"].sum()}\")"
   ]
  },
  {
   "cell_type": "markdown",
   "id": "8452dee7",
   "metadata": {},
   "source": [
    "2. Km non di \"ciclabile\", quindi da costruire"
   ]
  },
  {
   "cell_type": "code",
   "execution_count": 95,
   "id": "0acbc478",
   "metadata": {},
   "outputs": [
    {
     "data": {
      "text/plain": [
       "450.50374066181047"
      ]
     },
     "execution_count": 95,
     "metadata": {},
     "output_type": "execute_result"
    }
   ],
   "source": [
    "float(gdf_analisi_sport[\"length\"].sum()/1000)"
   ]
  },
  {
   "cell_type": "code",
   "execution_count": 88,
   "id": "f7ae7804",
   "metadata": {},
   "outputs": [
    {
     "data": {
      "text/plain": [
       "112.65026341818994"
      ]
     },
     "execution_count": 88,
     "metadata": {},
     "output_type": "execute_result"
    }
   ],
   "source": [
    "float(gdf_analisi_sport_mod[gdf_analisi_sport_mod[\"ciclabile\"] == \"False\"][\"length\"].sum()/1000)"
   ]
  },
  {
   "cell_type": "markdown",
   "id": "1dd034f0",
   "metadata": {},
   "source": [
    "Numero poi per municipio che sono stati connessi e % poi connessi in ogni municipio rispetto al totale connesso"
   ]
  },
  {
   "cell_type": "code",
   "execution_count": 89,
   "id": "b0446036",
   "metadata": {},
   "outputs": [
    {
     "name": "stdout",
     "output_type": "stream",
     "text": [
      "   MUNICIPIO  poi     length  Incidenti  tot  % poi\n",
      "2          3   56  28.429212       1014   74  14.00\n",
      "7          8   55  30.266064        996  155  13.75\n",
      "8          9   52  28.539204        947  185  13.00\n",
      "0          1   48  23.733266        859   49  12.00\n",
      "6          7   46  29.452303        806  127  11.50\n",
      "5          6   39  20.985732        698  127   9.75\n",
      "3          4   38  25.111688        691  112   9.50\n",
      "4          5   35  27.389635        638  104   8.75\n",
      "1          2   31  21.270263        567   84   7.75\n"
     ]
    }
   ],
   "source": [
    "gdf_analisi_sport_raggruppato = gdf_analisi_sport.groupby([\"MUNICIPIO\"]).agg({\n",
    "    \"poi\": \"sum\",\n",
    "    \"length\": lambda x: sum(x)/1000\n",
    "}).reset_index()\n",
    "gdf_analisi_sport_raggruppato[\"MUNICIPIO\"] = gdf_analisi_sport_raggruppato[\"MUNICIPIO\"].astype(int)\n",
    "gdf_analisi_sport_raggruppato = gdf_analisi_sport_raggruppato.sort_index()\n",
    "gdf_analisi_sport_raggruppato = gdf_analisi_sport_raggruppato.merge(\n",
    "    gpd.read_file(PATH_INCIDENTI_CLEAN)[[\"MUNICIPIO\", \"Incidenti\"]], on=\"MUNICIPIO\")\n",
    "\n",
    "gdf_pois = gpd.read_file(PATH_SCORE_X_MUNICIPI)[[\"MUNICIPIO\", \"parchi\", \"impianti_sportivi\", \"aree_gioco\"]]\n",
    "gdf_pois[\"tot\"] = gdf_pois.drop(\"MUNICIPIO\", axis=1).sum(axis=1)\n",
    "gdf_pois[\"MUNICIPIO\"] = gdf_pois[\"MUNICIPIO\"].astype(int)\n",
    "gdf_analisi_sport_raggruppato = gdf_analisi_sport_raggruppato.merge(gdf_pois[[\"MUNICIPIO\", \"tot\"]], on=\"MUNICIPIO\")\n",
    "somma_poi = gdf_analisi_sport_raggruppato[\"poi\"].sum()\n",
    "gdf_analisi_sport_raggruppato[\"% poi\"] = gdf_analisi_sport_raggruppato.apply(lambda row: row[\"poi\"] / somma_poi * 100, axis=1)\n",
    "gdf_analisi_sport_raggruppato.sort_values([\"poi\", \"Incidenti\", \"length\"], ascending=False, inplace=True)\n",
    "print(gdf_analisi_sport_raggruppato)\n"
   ]
  },
  {
   "cell_type": "markdown",
   "id": "07bb8d32",
   "metadata": {},
   "source": [
    "Dettaglio sulla quantità di \"tipo di poi\""
   ]
  },
  {
   "cell_type": "code",
   "execution_count": null,
   "id": "9b200a7c",
   "metadata": {},
   "outputs": [],
   "source": [
    "gdf_analisi_sport = gdf_analisi_sport[gdf_analisi_sport[\"tipo\"] != \"Strade_ciclabili\"]\n",
    "gdf_analisi_sport_raggruppato = gdf_analisi_sport.groupby(\"tipo\").agg({\n",
    "    \"poi\": \"sum\"}).reset_index().sort_values([\"poi\"], ascending=[False])\n",
    "gdf_analisi_sport_raggruppato"
   ]
  },
  {
   "cell_type": "markdown",
   "id": "1e83a9c0",
   "metadata": {},
   "source": [
    "## Istruzione"
   ]
  },
  {
   "cell_type": "markdown",
   "id": "d3093a96",
   "metadata": {},
   "source": [
    "Utilizzeremo i seguenti dati:\n",
    "1. **Biblioteche**\n",
    "2. **Scuole**\n",
    "Saranno i nostri \"poi\", cioè \"Point of Interest\" che verranno aggiunti al Grafo della rete Ciclabile/Stradale per la ricerca di percorsi"
   ]
  },
  {
   "cell_type": "markdown",
   "id": "be3899d3",
   "metadata": {},
   "source": [
    "### Analisi Completa"
   ]
  },
  {
   "cell_type": "code",
   "execution_count": 7,
   "id": "c1ec5deb",
   "metadata": {},
   "outputs": [],
   "source": [
    "gdf_list = [\n",
    "    {\"gdf\":  gpd.read_file(PATH_BIBLIOTECHE_CLEAN),\n",
    "     \"tipo\": \"Biblioteche\",\n",
    "     \"attr\": {\"priorita\": 1}},\n",
    "     {\"gdf\":  gpd.read_file(PATH_SCUOLE_CLEAN),\n",
    "     \"tipo\": \"Scuole\",\n",
    "     \"attr\": {\"priorita\": 2}}\n",
    "     ]\n",
    "Graph_functions.auto_analysis_poi(gdf_list, PATH_GEOJSON=PATH_ISTRUZIONE_CLEAN)"
   ]
  },
  {
   "cell_type": "markdown",
   "id": "8cc2ae49",
   "metadata": {},
   "source": [
    "### Analisi Filtrata"
   ]
  },
  {
   "cell_type": "code",
   "execution_count": 9,
   "id": "7fea3c33",
   "metadata": {},
   "outputs": [],
   "source": [
    "with open(PATH_ISTRUZIONE_PICKLE_STAGING, \"rb\") as file:\n",
    "    G_istruzione = pickle.load(file)\n",
    "\n",
    "Graph_functions.auto_filter_poi(G_percorsi=G_istruzione,\n",
    "                                max_pois=400,\n",
    "                                peso_inquinamento_vs_incidenti=0,\n",
    "                                peso_fattori_esterni_vs_distribuzione_poi=1,\n",
    "                                PATH_GEOJSON=PATH_ISTRUZIONE_FILTRATO_CLEAN.replace(\"clean.geojson\", \"incidenti_clean.geojson\"))"
   ]
  },
  {
   "cell_type": "code",
   "execution_count": 10,
   "id": "fa924eea",
   "metadata": {},
   "outputs": [],
   "source": [
    "with open(PATH_ISTRUZIONE_PICKLE_STAGING, \"rb\") as file:\n",
    "    G_istruzione = pickle.load(file)\n",
    "\n",
    "Graph_functions.auto_filter_poi(G_percorsi=G_istruzione,\n",
    "                                max_pois=400,\n",
    "                                peso_inquinamento_vs_incidenti=1,\n",
    "                                peso_fattori_esterni_vs_distribuzione_poi=1,\n",
    "                                PATH_GEOJSON=PATH_ISTRUZIONE_FILTRATO_CLEAN.replace(\"clean.geojson\", \"inquinamento_clean.geojson\"))"
   ]
  },
  {
   "cell_type": "code",
   "execution_count": 17,
   "id": "c13a5e7c",
   "metadata": {},
   "outputs": [],
   "source": [
    "gdf_completo = gpd.read_file(PATH_ISTRUZIONE_CLEAN)\n",
    "gdf_filtrato_incidenti = gpd.read_file(PATH_ISTRUZIONE_FILTRATO_CLEAN.replace(\"clean.geojson\", \"incidenti_clean.geojson\"))\n",
    "gdf_filtrato_inquinamento = gpd.read_file(PATH_ISTRUZIONE_FILTRATO_CLEAN.replace(\"clean.geojson\", \"inquinamento_clean.geojson\"))\n",
    "\n",
    "gdf_completo[\"origine\"] = \"completo\"\n",
    "gdf_filtrato_incidenti[\"origine\"] = \"solo_incidenti\"\n",
    "gdf_filtrato_inquinamento[\"origine\"] = \"solo_inquinamento\"\n",
    "gdf_unito = gpd.GeoDataFrame(gpd.pd.concat([\n",
    "        gdf_completo,\n",
    "        gdf_filtrato_incidenti,\n",
    "        gdf_filtrato_inquinamento,\n",
    "    ], ignore_index=True), crs=CRS_GRAD)"
   ]
  },
  {
   "cell_type": "code",
   "execution_count": 18,
   "id": "46c631ab",
   "metadata": {},
   "outputs": [],
   "source": [
    "gdf_unito.to_file(PATH_ISTRUZIONE_FILTRATO_CLEAN.replace(\"clean.geojson\", \"unito_clean.geojson\"))"
   ]
  },
  {
   "cell_type": "markdown",
   "id": "a41c8fc2",
   "metadata": {},
   "source": [
    "### Statisiche"
   ]
  },
  {
   "cell_type": "code",
   "execution_count": 22,
   "id": "c3735fbc",
   "metadata": {},
   "outputs": [
    {
     "name": "stderr",
     "output_type": "stream",
     "text": [
      "c:\\Users\\apera\\OneDrive\\Documenti\\progetti\\Progetto-Bike\\.venv\\Lib\\site-packages\\pyogrio\\raw.py:198: RuntimeWarning: driver GeoJSON does not support open option DRIVER\n",
      "  return ogr_read(\n"
     ]
    }
   ],
   "source": [
    "gdf_analisi_istruzione = gpd.read_file(PATH_ISTRUZIONE_CLEAN, driver= \"GeoJSON\")"
   ]
  },
  {
   "cell_type": "code",
   "execution_count": 23,
   "id": "a7bb04ae",
   "metadata": {},
   "outputs": [],
   "source": [
    "# Eliminiamo connessioni \"artificiali\" usate per connettere i \"poi\" al grafo delle strade\n",
    "gdf_analisi_istruzione_mod = gdf_analisi_istruzione[gdf_analisi_istruzione[\"artificial\"] != True]\n",
    "\n",
    "# Leggi i due POI\n",
    "gdf_scuole = gpd.read_file(PATH_SCUOLE_CLEAN)\n",
    "gdf_biblioteche = gpd.read_file(PATH_BIBLIOTECHE_CLEAN)\n",
    "\n",
    "# Unisci in un'unica geometria\n",
    "geometry_poi = gpd.GeoSeries(\n",
    "    gpd.pd.concat([gdf_scuole.geometry, gdf_biblioteche.geometry], ignore_index=True)\n",
    ").union_all()\n",
    "\n",
    "# Filtra il GDF di partenza\n",
    "gdf_senza_poi = []\n",
    "for idx, row in gdf_analisi_istruzione_mod.iterrows():\n",
    "    if not geometry_poi.contains(row.geometry):\n",
    "        gdf_senza_poi.append(row)\n",
    "\n",
    "# Crea nuovo GeoDataFrame\n",
    "gdf_analisi_istruzione_mod = gpd.GeoDataFrame(gdf_senza_poi, crs=CRS_GRAD)\n",
    "\n",
    "# Raggruppiamo per \"highway\" e calcoliamo (in km -> /1000) la lunghezza complessiva delle strade\n",
    "gdf_analisi_istruzione_mod_most_highways = gdf_analisi_istruzione_mod.to_crs(CRS_METR).groupby(\"highway\").agg({\n",
    "    \"length\": lambda x: sum(x/1000)\n",
    "    }).sort_values(by=\"length\", ascending=False)"
   ]
  },
  {
   "cell_type": "code",
   "execution_count": 24,
   "id": "f4d8f98d",
   "metadata": {},
   "outputs": [
    {
     "name": "stdout",
     "output_type": "stream",
     "text": [
      "                              length\n",
      "highway                             \n",
      "footway                   109.403574\n",
      "cycleway                   85.216865\n",
      "residential                33.887987\n",
      "tertiary                   23.981052\n",
      "secondary                  12.057483\n",
      "primary                     6.631249\n",
      "track                       3.158726\n",
      "pedestrian                  2.210088\n",
      "service                     1.978385\n",
      "path                        1.692647\n",
      "footway steps               0.476395\n",
      "unclassified                0.306090\n",
      "residential footway         0.233284\n",
      "secondary_link              0.224865\n",
      "track service path          0.217083\n",
      "footway service             0.207583\n",
      "tertiary_link               0.175564\n",
      "residential cycleway        0.169111\n",
      "footway pedestrian          0.158530\n",
      "residential pedestrian      0.146128\n",
      "cycleway path               0.133034\n",
      "cycleway footway            0.112219\n",
      "cycleway service            0.093463\n",
      "primary_link                0.085114\n",
      "living_street               0.078441\n",
      "residential steps           0.077507\n",
      "footway platform            0.063971\n",
      "residential path            0.047683\n",
      "steps path                  0.036220\n",
      "steps                       0.031511\n",
      "unclassified residential    0.026767\n",
      "residential service         0.001872\n",
      "Tot: 283.32048936837066\n"
     ]
    }
   ],
   "source": [
    "# Stampiamo il risultato\n",
    "print(gdf_analisi_istruzione_mod_most_highways)\n",
    "print(f\"Tot: {gdf_analisi_istruzione_mod_most_highways[\"length\"].sum()}\")"
   ]
  },
  {
   "cell_type": "code",
   "execution_count": null,
   "id": "9864fb59",
   "metadata": {},
   "outputs": [],
   "source": [
    "float(gdf_analisi_istruzione_mod_most_highways[gdf_analisi_istruzione_mod_most_highways[\"ciclabile\"] == \"False\"][\"length\"].sum()/1000)"
   ]
  },
  {
   "cell_type": "markdown",
   "id": "00c4bf5e",
   "metadata": {},
   "source": [
    "Numero poi per municipio che sono stati connessi e % poi connessi in ogni municipio rispetto al totale connesso"
   ]
  },
  {
   "cell_type": "code",
   "execution_count": 27,
   "id": "328d45bb",
   "metadata": {},
   "outputs": [
    {
     "name": "stdout",
     "output_type": "stream",
     "text": [
      "   MUNICIPIO  poi     length  Incidenti  tot      % poi\n",
      "0          1  373  35.595537        859  373  29.209084\n",
      "2          3  252  35.426513       1014  252  19.733751\n",
      "8          9  194  43.906813        947  194  15.191856\n",
      "5          6   93  31.762571        698   93   7.282694\n",
      "3          4   86  31.708193        691   86   6.734534\n",
      "4          5   77  23.511159        638   77   6.029757\n",
      "7          8   73  36.938777        996   73   5.716523\n",
      "1          2   66  31.334217        567   66   5.168363\n",
      "6          7   63  37.266871        806   63   4.933438\n"
     ]
    }
   ],
   "source": [
    "gdf_analisi_istruzione_raggruppato = gdf_analisi_istruzione.groupby([\"MUNICIPIO\"]).agg({\n",
    "    \"poi\": \"sum\",\n",
    "    \"length\": lambda x: sum(x)/1000\n",
    "}).reset_index()\n",
    "gdf_analisi_istruzione_raggruppato[\"MUNICIPIO\"] = gdf_analisi_istruzione_raggruppato[\"MUNICIPIO\"].astype(int)\n",
    "gdf_analisi_istruzione_raggruppato = gdf_analisi_istruzione_raggruppato.sort_index()\n",
    "gdf_analisi_istruzione_raggruppato = gdf_analisi_istruzione_raggruppato.merge(\n",
    "    gpd.read_file(PATH_INCIDENTI_CLEAN)[[\"MUNICIPIO\", \"Incidenti\"]], on=\"MUNICIPIO\")\n",
    "\n",
    "gdf_pois = gpd.read_file(PATH_SCORE_X_MUNICIPI)[[\"MUNICIPIO\", \"biblioteche\", \"scuole\"]]\n",
    "gdf_pois[\"tot\"] = gdf_pois.drop(\"MUNICIPIO\", axis=1).sum(axis=1)\n",
    "gdf_pois[\"MUNICIPIO\"] = gdf_pois[\"MUNICIPIO\"].astype(int)\n",
    "gdf_analisi_istruzione_raggruppato = gdf_analisi_istruzione_raggruppato.merge(gdf_pois[[\"MUNICIPIO\", \"tot\"]], on=\"MUNICIPIO\")\n",
    "somma_poi = gdf_analisi_istruzione_raggruppato[\"poi\"].sum()\n",
    "gdf_analisi_istruzione_raggruppato[\"% poi\"] = gdf_analisi_istruzione_raggruppato.apply(lambda row: row[\"poi\"] / somma_poi * 100, axis=1)\n",
    "gdf_analisi_istruzione_raggruppato.sort_values([\"poi\", \"Incidenti\", \"length\"], ascending=False, inplace=True)\n",
    "print(gdf_analisi_istruzione_raggruppato)"
   ]
  },
  {
   "cell_type": "code",
   "execution_count": 28,
   "id": "4a024c4f",
   "metadata": {},
   "outputs": [
    {
     "data": {
      "text/html": [
       "<div>\n",
       "<style scoped>\n",
       "    .dataframe tbody tr th:only-of-type {\n",
       "        vertical-align: middle;\n",
       "    }\n",
       "\n",
       "    .dataframe tbody tr th {\n",
       "        vertical-align: top;\n",
       "    }\n",
       "\n",
       "    .dataframe thead th {\n",
       "        text-align: right;\n",
       "    }\n",
       "</style>\n",
       "<table border=\"1\" class=\"dataframe\">\n",
       "  <thead>\n",
       "    <tr style=\"text-align: right;\">\n",
       "      <th></th>\n",
       "      <th>tipo</th>\n",
       "      <th>poi</th>\n",
       "    </tr>\n",
       "  </thead>\n",
       "  <tbody>\n",
       "    <tr>\n",
       "      <th>1</th>\n",
       "      <td>Scuole</td>\n",
       "      <td>1251</td>\n",
       "    </tr>\n",
       "    <tr>\n",
       "      <th>0</th>\n",
       "      <td>Biblioteche</td>\n",
       "      <td>26</td>\n",
       "    </tr>\n",
       "  </tbody>\n",
       "</table>\n",
       "</div>"
      ],
      "text/plain": [
       "          tipo   poi\n",
       "1       Scuole  1251\n",
       "0  Biblioteche    26"
      ]
     },
     "execution_count": 28,
     "metadata": {},
     "output_type": "execute_result"
    }
   ],
   "source": [
    "gdf_analisi_istruzione = gdf_analisi_istruzione[gdf_analisi_istruzione[\"tipo\"] != \"Strade_ciclabili\"]\n",
    "gdf_analisi_istruzione_raggruppato = gdf_analisi_istruzione.groupby(\"tipo\").agg({\n",
    "    \"poi\": \"sum\"}).reset_index().sort_values([\"poi\"], ascending=[False])\n",
    "gdf_analisi_istruzione_raggruppato"
   ]
  },
  {
   "cell_type": "markdown",
   "id": "e6dc0de2",
   "metadata": {},
   "source": [
    "## Cultura e spettacolo"
   ]
  },
  {
   "cell_type": "markdown",
   "id": "d00b6cd1",
   "metadata": {},
   "source": [
    "Utilizzeremo i seguenti dati: \n",
    "\n",
    "1. **Musei**\n",
    "2. **Cinema**\n",
    "3. **Teatri**\n",
    "\n",
    "Saranno i nostri \"poi\", cioè \"Point of Interest\"\n",
    "che verranno aggiunti al Grafo della rete \n",
    "Ciclabile/Stradale per la ricerca di percorsi"
   ]
  },
  {
   "cell_type": "markdown",
   "id": "755fac22",
   "metadata": {},
   "source": [
    "### Analisi Completa"
   ]
  },
  {
   "cell_type": "code",
   "execution_count": 21,
   "id": "bf55f379",
   "metadata": {},
   "outputs": [],
   "source": [
    "gdf_list = [\n",
    "    {\"gdf\":  gpd.read_file(PATH_MUSEI_CLEAN),\n",
    "     \"tipo\": \"musei\",\n",
    "     \"attr\": {\"priorita\": 1}},\n",
    "     {\"gdf\":  gpd.read_file(PATH_CINEMA_CLEAN),\n",
    "     \"tipo\": \"cinema\",\n",
    "     \"attr\": {\"priorita\": 2}}, \n",
    "     {\"gdf\":  gpd.read_file(PATH_TEATRI_CLEAN),\n",
    "     \"tipo\": \"teatri\",\n",
    "     \"attr\": {\"priorita\": 3}}\n",
    "     ]\n",
    "Graph_functions.auto_analysis_poi(gdf_list,\n",
    "                                  PATH_PICKLE= PATH_CULTURA_SPETTACOLO_PICKLE_STAGING,\n",
    "                                  PATH_GEOJSON=PATH_CULTURA_SPETTACOLO_CLEAN)"
   ]
  },
  {
   "cell_type": "markdown",
   "id": "228427f2",
   "metadata": {},
   "source": [
    "### Analisi Filtrata"
   ]
  },
  {
   "cell_type": "code",
   "execution_count": 22,
   "id": "8b29667c",
   "metadata": {},
   "outputs": [],
   "source": [
    "with open(PATH_CULTURA_SPETTACOLO_PICKLE_STAGING, \"rb\") as file:\n",
    "    G_cultura_spettacolo = pickle.load(file)\n",
    "\n",
    "Graph_functions.auto_filter_poi(G_percorsi=G_cultura_spettacolo,\n",
    "                                max_pois=100,\n",
    "                                peso_inquinamento_vs_incidenti=0,\n",
    "                                peso_fattori_esterni_vs_distribuzione_poi=1,\n",
    "                                PATH_GEOJSON=PATH_CULTURA_SPETTACOLO_FILTRATO_CLEAN.replace(\"clean.geojson\", \"incidenti_clean.geojson\"))"
   ]
  },
  {
   "cell_type": "code",
   "execution_count": 23,
   "id": "a711ad3a",
   "metadata": {},
   "outputs": [],
   "source": [
    "with open(PATH_CULTURA_SPETTACOLO_PICKLE_STAGING, \"rb\") as file:\n",
    "    G_cultura_spettacolo = pickle.load(file)\n",
    "\n",
    "Graph_functions.auto_filter_poi(G_percorsi=G_cultura_spettacolo,\n",
    "                                max_pois=100,\n",
    "                                peso_inquinamento_vs_incidenti=1,\n",
    "                                peso_fattori_esterni_vs_distribuzione_poi=1,\n",
    "                                PATH_GEOJSON=PATH_CULTURA_SPETTACOLO_FILTRATO_CLEAN.replace(\"clean.geojson\", \"inquinamento_clean.geojson\"))"
   ]
  },
  {
   "cell_type": "code",
   "execution_count": 24,
   "id": "066cb2ef",
   "metadata": {},
   "outputs": [],
   "source": [
    "gdf_completo = gpd.read_file(PATH_CULTURA_SPETTACOLO_CLEAN)\n",
    "gdf_filtrato_incidenti = gpd.read_file(PATH_CULTURA_SPETTACOLO_FILTRATO_CLEAN.replace(\"clean.geojson\", \"incidenti_clean.geojson\"))\n",
    "gdf_filtrato_inquinamento = gpd.read_file(PATH_CULTURA_SPETTACOLO_FILTRATO_CLEAN.replace(\"clean.geojson\", \"inquinamento_clean.geojson\"))\n",
    "\n",
    "gdf_completo[\"origine\"] = \"completo\"\n",
    "gdf_filtrato_incidenti[\"origine\"] = \"solo_incidenti\"\n",
    "gdf_filtrato_inquinamento[\"origine\"] = \"solo_inquinamento\"\n",
    "gdf_unito = gpd.GeoDataFrame(gpd.pd.concat([\n",
    "        gdf_completo,\n",
    "        gdf_filtrato_incidenti,\n",
    "        gdf_filtrato_inquinamento,\n",
    "    ], ignore_index=True), crs=CRS_GRAD)"
   ]
  },
  {
   "cell_type": "code",
   "execution_count": 25,
   "id": "67bf17f1",
   "metadata": {},
   "outputs": [],
   "source": [
    "gdf_unito.to_file(PATH_CULTURA_SPETTACOLO_FILTRATO_CLEAN.replace(\"clean.geojson\", \"unito_clean.geojson\"))"
   ]
  },
  {
   "cell_type": "markdown",
   "id": "d8de1c80",
   "metadata": {},
   "source": [
    "### Statistiche"
   ]
  },
  {
   "cell_type": "code",
   "execution_count": 8,
   "id": "38d67835",
   "metadata": {},
   "outputs": [
    {
     "name": "stderr",
     "output_type": "stream",
     "text": [
      "c:\\Users\\apera\\OneDrive\\Documenti\\progetti\\Progetto-Bike\\.venv\\Lib\\site-packages\\pyogrio\\raw.py:198: RuntimeWarning: driver GeoJSON does not support open option DRIVER\n",
      "  return ogr_read(\n"
     ]
    }
   ],
   "source": [
    "gdf_analisi_cultura_spettacolo = gpd.read_file(PATH_CULTURA_SPETTACOLO_CLEAN, driver= \"GeoJSON\")"
   ]
  },
  {
   "cell_type": "code",
   "execution_count": 9,
   "id": "9e7af660",
   "metadata": {},
   "outputs": [],
   "source": [
    "# Eliminiamo connessioni \"artificiali\" usate per connettere i \"poi\" al grafo delle strade\n",
    "gdf_analisi_cultura_spettacolo_mod = gdf_analisi_cultura_spettacolo[gdf_analisi_cultura_spettacolo[\"artificial\"] != True]\n",
    "\n",
    "# Leggi i due POI\n",
    "gdf_musei = gpd.read_file(PATH_MUSEI_CLEAN)\n",
    "gdf_teatri = gpd.read_file(PATH_TEATRI_CLEAN)\n",
    "gdf_cinema = gpd.read_file(PATH_CINEMA_CLEAN)\n",
    "\n",
    "# Unisci in un'unica geometria\n",
    "geometry_poi = gpd.GeoSeries(\n",
    "    gpd.pd.concat([gdf_cinema.geometry, gdf_teatri.geometry, gdf_musei.geometry], ignore_index=True)\n",
    ").union_all()\n",
    "\n",
    "# Filtra il GDF di partenza\n",
    "gdf_senza_poi = []\n",
    "for idx, row in gdf_analisi_cultura_spettacolo.iterrows():\n",
    "    if not geometry_poi.contains(row.geometry):\n",
    "        gdf_senza_poi.append(row)\n",
    "\n",
    "# Crea nuovo GeoDataFrame\n",
    "gdf_analisi_cultura_spettacolo_mod = gpd.GeoDataFrame(gdf_senza_poi, crs=CRS_GRAD)\n",
    "\n",
    "# Raggruppiamo per \"highway\" e calcoliamo (in km -> /1000) la lunghezza complessiva delle strade\n",
    "gdf_analisi_cultura_spettacolo_mod_most_highways = gdf_analisi_cultura_spettacolo_mod.to_crs(CRS_METR).groupby(\"highway\").agg({\n",
    "    \"length\": lambda x: sum(x/1000)\n",
    "    }).sort_values(by=\"length\", ascending=False)"
   ]
  },
  {
   "cell_type": "code",
   "execution_count": 10,
   "id": "fbc3726e",
   "metadata": {},
   "outputs": [
    {
     "name": "stdout",
     "output_type": "stream",
     "text": [
      "                         length\n",
      "highway                        \n",
      "cycleway              43.821006\n",
      "footway               28.797061\n",
      "residential           11.283660\n",
      "secondary              7.617717\n",
      "tertiary               5.698120\n",
      "pedestrian             2.073513\n",
      "primary                1.240658\n",
      "footway steps          0.457708\n",
      "service                0.443294\n",
      "cycleway path          0.424077\n",
      "path                   0.276330\n",
      "unclassified           0.205090\n",
      "secondary_link         0.154438\n",
      "residential cycleway   0.116950\n",
      "footway service        0.079077\n",
      "primary_link           0.066293\n",
      "cycleway footway       0.058737\n",
      "footway pedestrian     0.048837\n",
      "steps path             0.018337\n",
      "Tot: 102.88090211247821\n"
     ]
    }
   ],
   "source": [
    "# Stampiamo il risultato\n",
    "print(gdf_analisi_cultura_spettacolo_mod_most_highways)\n",
    "print(f\"Tot: {gdf_analisi_cultura_spettacolo_mod_most_highways[\"length\"].sum()}\")"
   ]
  },
  {
   "cell_type": "markdown",
   "id": "f8c5d5dd",
   "metadata": {},
   "source": [
    "Numero poi per municipio che sono stati connessi e % poi connessi in ogni municipio rispetto al totale connesso"
   ]
  },
  {
   "cell_type": "code",
   "execution_count": 16,
   "id": "0d72a372",
   "metadata": {},
   "outputs": [
    {
     "name": "stdout",
     "output_type": "stream",
     "text": [
      "   MUNICIPIO  poi     length  Incidenti  tot      % poi\n",
      "0          1   62  30.399490        859   62  48.818898\n",
      "2          3    9   8.259516       1014    9   7.086614\n",
      "8          9    9  17.617323        947    9   7.086614\n",
      "3          4    9   8.233088        691    9   7.086614\n",
      "4          5    9   8.277687        638    9   7.086614\n",
      "1          2    9   8.960897        567    9   7.086614\n",
      "7          8    8  11.738548        996    8   6.299213\n",
      "5          6    7   8.413570        698    7   5.511811\n",
      "6          7    5   4.381736        806    5   3.937008\n"
     ]
    }
   ],
   "source": [
    "gdf_analisi_cultura_spettacolo_raggruppato = gdf_analisi_cultura_spettacolo.groupby([\"MUNICIPIO\"]).agg({\n",
    "    \"poi\": \"sum\",\n",
    "    \"length\": lambda x: sum(x)/1000\n",
    "}).reset_index()\n",
    "gdf_analisi_cultura_spettacolo_raggruppato[\"MUNICIPIO\"] = gdf_analisi_cultura_spettacolo_raggruppato[\"MUNICIPIO\"].astype(int)\n",
    "gdf_analisi_cultura_spettacolo_raggruppato = gdf_analisi_cultura_spettacolo_raggruppato.sort_index()\n",
    "gdf_analisi_cultura_spettacolo_raggruppato = gdf_analisi_cultura_spettacolo_raggruppato.merge(\n",
    "    gpd.read_file(PATH_INCIDENTI_CLEAN)[[\"MUNICIPIO\", \"Incidenti\"]], on=\"MUNICIPIO\")\n",
    "\n",
    "gdf_pois = gpd.read_file(PATH_SCORE_X_MUNICIPI)[[\"MUNICIPIO\", \"cinema\", \"musei\", \"teatri\"]]\n",
    "gdf_pois[\"tot\"] = gdf_pois.drop(\"MUNICIPIO\", axis=1).sum(axis=1)\n",
    "gdf_pois[\"MUNICIPIO\"] = gdf_pois[\"MUNICIPIO\"].astype(int)\n",
    "gdf_analisi_cultura_spettacolo_raggruppato = gdf_analisi_cultura_spettacolo_raggruppato.merge(gdf_pois[[\"MUNICIPIO\", \"tot\"]], on=\"MUNICIPIO\")\n",
    "somma_poi = gdf_analisi_cultura_spettacolo_raggruppato[\"poi\"].sum()\n",
    "gdf_analisi_cultura_spettacolo_raggruppato[\"% poi\"] = gdf_analisi_cultura_spettacolo_raggruppato.apply(lambda row: row[\"poi\"] / somma_poi * 100, axis=1)\n",
    "gdf_analisi_cultura_spettacolo_raggruppato.sort_values([\"poi\", \"Incidenti\", \"length\"], ascending=False, inplace=True)\n",
    "print(gdf_analisi_cultura_spettacolo_raggruppato)"
   ]
  },
  {
   "cell_type": "markdown",
   "id": "211824e7",
   "metadata": {},
   "source": [
    "Dettaglio sulla qualità del tipo di POI"
   ]
  },
  {
   "cell_type": "code",
   "execution_count": 17,
   "id": "e9b857d0",
   "metadata": {},
   "outputs": [
    {
     "data": {
      "text/html": [
       "<div>\n",
       "<style scoped>\n",
       "    .dataframe tbody tr th:only-of-type {\n",
       "        vertical-align: middle;\n",
       "    }\n",
       "\n",
       "    .dataframe tbody tr th {\n",
       "        vertical-align: top;\n",
       "    }\n",
       "\n",
       "    .dataframe thead th {\n",
       "        text-align: right;\n",
       "    }\n",
       "</style>\n",
       "<table border=\"1\" class=\"dataframe\">\n",
       "  <thead>\n",
       "    <tr style=\"text-align: right;\">\n",
       "      <th></th>\n",
       "      <th>tipo</th>\n",
       "      <th>poi</th>\n",
       "    </tr>\n",
       "  </thead>\n",
       "  <tbody>\n",
       "    <tr>\n",
       "      <th>2</th>\n",
       "      <td>Teatri</td>\n",
       "      <td>76</td>\n",
       "    </tr>\n",
       "    <tr>\n",
       "      <th>1</th>\n",
       "      <td>Musei</td>\n",
       "      <td>28</td>\n",
       "    </tr>\n",
       "    <tr>\n",
       "      <th>0</th>\n",
       "      <td>Cinema</td>\n",
       "      <td>23</td>\n",
       "    </tr>\n",
       "  </tbody>\n",
       "</table>\n",
       "</div>"
      ],
      "text/plain": [
       "     tipo  poi\n",
       "2  Teatri   76\n",
       "1   Musei   28\n",
       "0  Cinema   23"
      ]
     },
     "execution_count": 17,
     "metadata": {},
     "output_type": "execute_result"
    }
   ],
   "source": [
    "gdf_analisi_cultura_spettacolo = gdf_analisi_cultura_spettacolo[gdf_analisi_cultura_spettacolo[\"tipo\"] != \"Strade_ciclabili\"]\n",
    "gdf_analisi_cultura_spettacolo_raggruppato = gdf_analisi_cultura_spettacolo.groupby(\"tipo\").agg({\n",
    "    \"poi\": \"sum\"}).reset_index().sort_values([\"poi\"], ascending=[False])\n",
    "gdf_analisi_cultura_spettacolo_raggruppato"
   ]
  },
  {
   "cell_type": "markdown",
   "id": "ced81c85",
   "metadata": {},
   "source": [
    "## Sanità"
   ]
  },
  {
   "cell_type": "markdown",
   "id": "40d5d8a4",
   "metadata": {},
   "source": [
    "Utilizzeremo i seguenti dati: \n",
    "\n",
    "1. **Ospedali**\n",
    "2. **famracie**\n",
    "\n",
    "\n",
    "Saranno i nostri \"poi\", cioè \"Point of Interest\"\n",
    "che verranno aggiunti al Grafo della rete \n",
    "Ciclabile/Stradale per la ricerca di percorsi"
   ]
  },
  {
   "cell_type": "markdown",
   "id": "4dc2f909",
   "metadata": {},
   "source": [
    "### Analisi Completa"
   ]
  },
  {
   "cell_type": "code",
   "execution_count": 29,
   "id": "c6b788aa",
   "metadata": {},
   "outputs": [],
   "source": [
    "gdf_list = [\n",
    "    {\"gdf\":  gpd.read_file(PATH_OSPEDALI_CLEAN),\n",
    "     \"tipo\": \"ospedali\",\n",
    "     \"attr\": {\"priorita\": 1}},\n",
    "     {\"gdf\":  gpd.read_file(PATH_FARMACIE_CLEAN),\n",
    "     \"tipo\": \"farmacie\",\n",
    "     \"attr\": {\"priorita\": 2}}\n",
    "     ]\n",
    "Graph_functions.auto_analysis_poi(gdf_list,\n",
    "                                  PATH_PICKLE=PATH_SANITA_PICKLE_STAGING,\n",
    "                                  PATH_GEOJSON=PATH_SANITA_CLEAN)"
   ]
  },
  {
   "cell_type": "markdown",
   "id": "a9f1c60b",
   "metadata": {},
   "source": [
    "### Analisi Filtrata"
   ]
  },
  {
   "cell_type": "code",
   "execution_count": 32,
   "id": "d96d1a97",
   "metadata": {},
   "outputs": [],
   "source": [
    "with open(PATH_SANITA_PICKLE_STAGING, \"rb\") as file:\n",
    "    G_sanita = pickle.load(file)\n",
    "\n",
    "Graph_functions.auto_filter_poi(G_percorsi=G_sanita,\n",
    "                                max_pois=300,\n",
    "                                peso_inquinamento_vs_incidenti=0,\n",
    "                                peso_fattori_esterni_vs_distribuzione_poi=1,\n",
    "                                PATH_GEOJSON=PATH_SANITA_FILTRATO_CLEAN.replace(\"clean.geojson\", \"incidenti_clean.geojson\"))"
   ]
  },
  {
   "cell_type": "code",
   "execution_count": 33,
   "id": "137305c8",
   "metadata": {},
   "outputs": [],
   "source": [
    "with open(PATH_SANITA_PICKLE_STAGING, \"rb\") as file:\n",
    "    G_sanita = pickle.load(file)\n",
    "\n",
    "Graph_functions.auto_filter_poi(G_percorsi=G_sanita,\n",
    "                                max_pois=300,\n",
    "                                peso_inquinamento_vs_incidenti=1,\n",
    "                                peso_fattori_esterni_vs_distribuzione_poi=1,\n",
    "                                PATH_GEOJSON=PATH_SANITA_FILTRATO_CLEAN.replace(\"clean.geojson\", \"inquinamento_clean.geojson\"))"
   ]
  },
  {
   "cell_type": "code",
   "execution_count": 34,
   "id": "9fe527ca",
   "metadata": {},
   "outputs": [],
   "source": [
    "gdf_completo = gpd.read_file(PATH_SANITA_CLEAN)\n",
    "gdf_filtrato_incidenti = gpd.read_file(PATH_SANITA_FILTRATO_CLEAN.replace(\"clean.geojson\", \"incidenti_clean.geojson\"))\n",
    "gdf_filtrato_inquinamento = gpd.read_file(PATH_SANITA_FILTRATO_CLEAN.replace(\"clean.geojson\", \"inquinamento_clean.geojson\"))\n",
    "\n",
    "gdf_completo[\"origine\"] = \"completo\"\n",
    "gdf_filtrato_incidenti[\"origine\"] = \"solo_incidenti\"\n",
    "gdf_filtrato_inquinamento[\"origine\"] = \"solo_inquinamento\"\n",
    "gdf_unito = gpd.GeoDataFrame(gpd.pd.concat([\n",
    "        gdf_completo,\n",
    "        gdf_filtrato_incidenti,\n",
    "        gdf_filtrato_inquinamento,\n",
    "    ], ignore_index=True), crs=CRS_GRAD)"
   ]
  },
  {
   "cell_type": "code",
   "execution_count": 37,
   "id": "fa24646a",
   "metadata": {},
   "outputs": [],
   "source": [
    "gdf_unito.to_file(PATH_SANITA_FILTRATO_CLEAN.replace(\"clean.geojson\", \"unito_clean.geojson\"))"
   ]
  },
  {
   "cell_type": "markdown",
   "id": "1c1d491b",
   "metadata": {},
   "source": [
    "### Statistiche"
   ]
  },
  {
   "cell_type": "code",
   "execution_count": 31,
   "id": "447087ac",
   "metadata": {},
   "outputs": [
    {
     "name": "stderr",
     "output_type": "stream",
     "text": [
      "c:\\Users\\apera\\OneDrive\\Documenti\\progetti\\Progetto-Bike\\.venv\\Lib\\site-packages\\pyogrio\\raw.py:198: RuntimeWarning: driver GeoJSON does not support open option DRIVER\n",
      "  return ogr_read(\n"
     ]
    }
   ],
   "source": [
    "gdf_analisi_ospedali = gpd.read_file(PATH_SANITA_CLEAN, driver= \"GeoJSON\")"
   ]
  },
  {
   "cell_type": "code",
   "execution_count": 32,
   "id": "cddb1238",
   "metadata": {},
   "outputs": [],
   "source": [
    "# Eliminiamo connessioni \"artificiali\" usate per connettere i \"poi\" al grafo delle strade\n",
    "gdf_analisi_ospedali_mod = gdf_analisi_ospedali[gdf_analisi_ospedali[\"artificial\"] != True]\n",
    "\n",
    "# Eliminiamo i percorsi completamente contenuti all'interno dei \"poi\" poligonari: parchi\n",
    "gdf = gpd.read_file(PATH_OSPEDALI_CLEAN)\n",
    "geometry_parchi = gdf.union_all()\n",
    "gdf_senza_poi = []\n",
    "for idx, row in gdf_analisi_ospedali_mod.iterrows():\n",
    "    if not geometry_parchi.contains(row.geometry):\n",
    "        gdf_senza_poi.append(row)\n",
    "gdf_analisi_ospedali_mod = gpd.GeoDataFrame(gdf_senza_poi, crs=CRS_GRAD)\n",
    "\n",
    "# Raggruppiamo per \"highway\" e calcoliamo (in km -> /1000) la lunghezza complessiva delle strade\n",
    "gdf_analisi_ospedali_mod_most_highways = gdf_analisi_ospedali_mod.to_crs(CRS_METR).groupby(\"highway\").agg({\n",
    "    \"length\": lambda x: sum(x/1000)\n",
    "    }).sort_values(by=\"length\", ascending=False)"
   ]
  },
  {
   "cell_type": "code",
   "execution_count": 33,
   "id": "6329b55c",
   "metadata": {},
   "outputs": [
    {
     "name": "stdout",
     "output_type": "stream",
     "text": [
      "                              length\n",
      "highway                             \n",
      "footway                   100.647292\n",
      "cycleway                   78.490197\n",
      "residential                26.678204\n",
      "tertiary                   25.932165\n",
      "secondary                  11.969441\n",
      "primary                     9.613974\n",
      "service                     3.456572\n",
      "track                       2.130879\n",
      "pedestrian                  1.134876\n",
      "residential footway         0.653908\n",
      "footway steps               0.511464\n",
      "unclassified                0.373563\n",
      "path                        0.355212\n",
      "footway service             0.296168\n",
      "cycleway footway            0.278997\n",
      "tertiary_link               0.183503\n",
      "residential secondary       0.146892\n",
      "residential pedestrian      0.146128\n",
      "residential cycleway        0.116950\n",
      "footway platform            0.094960\n",
      "footway pedestrian          0.087068\n",
      "steps path                  0.084408\n",
      "unclassified residential    0.040639\n",
      "living_street footway       0.038044\n",
      "secondary_link              0.034092\n",
      "platform                    0.024906\n",
      "primary_link                0.012731\n",
      "living_street               0.011929\n",
      "Tot: 263.54516273144753\n"
     ]
    }
   ],
   "source": [
    "# Stampiamo il risultato\n",
    "print(gdf_analisi_ospedali_mod_most_highways)\n",
    "print(f\"Tot: {gdf_analisi_ospedali_mod_most_highways[\"length\"].sum()}\")"
   ]
  },
  {
   "cell_type": "markdown",
   "id": "ae257b89",
   "metadata": {},
   "source": [
    "Numero poi per municipio che sono stati connessi e % poi connessi in ogni municipio rispetto al totale connesso"
   ]
  },
  {
   "cell_type": "code",
   "execution_count": 38,
   "id": "ca6427af",
   "metadata": {},
   "outputs": [
    {
     "name": "stdout",
     "output_type": "stream",
     "text": [
      "   MUNICIPIO  poi     length  Incidenti  tot      % poi\n",
      "0          1   76  33.241180        859   78  16.414687\n",
      "2          3   57  25.468327       1014   57  12.311015\n",
      "7          8   56  42.442970        996   56  12.095032\n",
      "3          4   53  32.164410        691   52  11.447084\n",
      "8          9   51  30.706032        947   51  11.015119\n",
      "6          7   51  35.619282        806   51  11.015119\n",
      "1          2   42  26.588773        567   42   9.071274\n",
      "5          6   41  26.085688        698   41   8.855292\n",
      "4          5   36  24.509263        638   35   7.775378\n"
     ]
    },
    {
     "data": {
      "text/html": [
       "<div>\n",
       "<style scoped>\n",
       "    .dataframe tbody tr th:only-of-type {\n",
       "        vertical-align: middle;\n",
       "    }\n",
       "\n",
       "    .dataframe tbody tr th {\n",
       "        vertical-align: top;\n",
       "    }\n",
       "\n",
       "    .dataframe thead th {\n",
       "        text-align: right;\n",
       "    }\n",
       "</style>\n",
       "<table border=\"1\" class=\"dataframe\">\n",
       "  <thead>\n",
       "    <tr style=\"text-align: right;\">\n",
       "      <th></th>\n",
       "      <th>tipo</th>\n",
       "      <th>poi</th>\n",
       "    </tr>\n",
       "  </thead>\n",
       "  <tbody>\n",
       "    <tr>\n",
       "      <th>0</th>\n",
       "      <td>Farmacie</td>\n",
       "      <td>423</td>\n",
       "    </tr>\n",
       "    <tr>\n",
       "      <th>1</th>\n",
       "      <td>Ospedali</td>\n",
       "      <td>40</td>\n",
       "    </tr>\n",
       "    <tr>\n",
       "      <th>2</th>\n",
       "      <td>Strade_ciclabili</td>\n",
       "      <td>0</td>\n",
       "    </tr>\n",
       "  </tbody>\n",
       "</table>\n",
       "</div>"
      ],
      "text/plain": [
       "               tipo  poi\n",
       "0          Farmacie  423\n",
       "1          Ospedali   40\n",
       "2  Strade_ciclabili    0"
      ]
     },
     "execution_count": 38,
     "metadata": {},
     "output_type": "execute_result"
    }
   ],
   "source": [
    "gdf_analisi_sanita_raggruppato = gdf_analisi_ospedali.groupby([\"MUNICIPIO\"]).agg({\n",
    "    \"poi\": \"sum\",\n",
    "    \"length\": lambda x: sum(x)/1000\n",
    "}).reset_index()\n",
    "gdf_analisi_sanita_raggruppato[\"MUNICIPIO\"] = gdf_analisi_sanita_raggruppato[\"MUNICIPIO\"].astype(int)\n",
    "gdf_analisi_sanita_raggruppato = gdf_analisi_sanita_raggruppato.sort_index()\n",
    "gdf_analisi_sanita_raggruppato = gdf_analisi_sanita_raggruppato.merge(\n",
    "    gpd.read_file(PATH_INCIDENTI_CLEAN)[[\"MUNICIPIO\", \"Incidenti\"]], on=\"MUNICIPIO\")\n",
    "\n",
    "gdf_pois = gpd.read_file(PATH_SCORE_X_MUNICIPI)[[\"MUNICIPIO\", \"ospedali\", \"farmacie\"]]\n",
    "gdf_pois[\"tot\"] = gdf_pois.drop(\"MUNICIPIO\", axis=1).sum(axis=1)\n",
    "gdf_pois[\"MUNICIPIO\"] = gdf_pois[\"MUNICIPIO\"].astype(int)\n",
    "gdf_analisi_sanita_raggruppato = gdf_analisi_sanita_raggruppato.merge(gdf_pois[[\"MUNICIPIO\", \"tot\"]], on=\"MUNICIPIO\")\n",
    "somma_poi = gdf_analisi_sanita_raggruppato[\"poi\"].sum()\n",
    "gdf_analisi_sanita_raggruppato[\"% poi\"] = gdf_analisi_sanita_raggruppato.apply(lambda row: row[\"poi\"] / somma_poi * 100, axis=1)\n",
    "gdf_analisi_sanita_raggruppato.sort_values([\"poi\", \"Incidenti\", \"length\"], ascending=False, inplace=True)\n",
    "print(gdf_analisi_sanita_raggruppato)\n",
    "\n",
    "\n",
    "gdf_analisi_sanita = gdf_analisi_ospedali[gdf_analisi_ospedali[\"tipo\"] != \"Strade_ciclabili\"]\n",
    "gdf_analisi_sanita_raggruppato = gdf_analisi_ospedali.groupby(\"tipo\").agg({\n",
    "    \"poi\": \"sum\"}).reset_index().sort_values([\"poi\"], ascending=[False])\n",
    "gdf_analisi_sanita_raggruppato"
   ]
  },
  {
   "cell_type": "markdown",
   "id": "e151ab70",
   "metadata": {},
   "source": [
    "## Statistiche POI x Municipi"
   ]
  },
  {
   "cell_type": "code",
   "execution_count": 16,
   "id": "e8b3410e",
   "metadata": {},
   "outputs": [],
   "source": [
    "# Carica dati, aggiungendo una colonna \"tipo\" e tenendo solo questa colonna e geometry\n",
    "municipi = gpd.read_file(PATH_MUNICIPI_CLEAN)\n",
    "parchi = gpd.read_file(PATH_PARCHI_CLEAN).assign(tipo=\"parchi\")[[\"tipo\", \"geometry\"]]\n",
    "fontane = gpd.read_file(PATH_FONTANE_CLEAN).assign(tipo=\"fontane\")[[\"tipo\", \"geometry\"]]\n",
    "impianti = gpd.read_file(PATH_IMPIANTI_SPORTIVI_CLEAN).assign(tipo=\"impianti_sportivi\")[[\"tipo\", \"geometry\"]]\n",
    "scuole = gpd.read_file(PATH_SCUOLE_CLEAN).assign(tipo=\"scuole\")[[\"tipo\", \"geometry\"]]\n",
    "aree_gioco = gpd.read_file(PATH_AREE_GIOCO_CLEAN).assign(tipo=\"aree_gioco\")[[\"tipo\", \"geometry\"]]\n",
    "biblioteche = gpd.read_file(PATH_BIBLIOTECHE_CLEAN).assign(tipo=\"biblioteche\")[[\"tipo\", \"geometry\"]]\n",
    "stazioni_bikemi = gpd.read_file(PATH_BIKEMI_CLEAN).assign(tipo=\"stazioni_bikemi\")[[\"tipo\", \"geometry\"]]\n",
    "case_acqua = gpd.read_file(PATH_CASE_ACQUA_CLEAN).assign(tipo=\"case_acqua\")[[\"tipo\", \"geometry\"]]\n",
    "cinema = gpd.read_file(PATH_CINEMA_CLEAN).assign(tipo=\"cinema\")[[\"tipo\", \"geometry\"]]\n",
    "farmacie = gpd.read_file(PATH_FARMACIE_CLEAN).assign(tipo=\"farmacie\")[[\"tipo\", \"geometry\"]]\n",
    "musei = gpd.read_file(PATH_MUSEI_CLEAN).assign(tipo=\"musei\")[[\"tipo\", \"geometry\"]]\n",
    "ospedali = gpd.read_file(PATH_OSPEDALI_CLEAN).assign(tipo=\"ospedali\")[[\"tipo\", \"geometry\"]]\n",
    "teatri = gpd.read_file(PATH_TEATRI_CLEAN).assign(tipo=\"teatri\")[[\"tipo\", \"geometry\"]]\n",
    "# Anche le ciclabili come \"poi\" per poter poi filtrare con le analisi\n",
    "gdf_ciclabili = gpd.read_file(PATH_STRADE_CICLABILI_GEOJSON_CLEAN)\n",
    "gdf_ciclabili_cycleway = gdf_ciclabili[gdf_ciclabili[\"highway\"] == \"cycleway\"]\n",
    "gdf_point_ciclabili = []\n",
    "for idx, row in gdf_ciclabili_cycleway.iterrows():\n",
    "    gdf_point_ciclabili.append(Point(row.geometry.coords[0]))\n",
    "    gdf_point_ciclabili.append(Point(row.geometry.coords[-1]))\n",
    "ciclabili = gpd.GeoDataFrame(gdf_point_ciclabili, columns=[\"geometry\"], crs=CRS_GRAD).assign(tipo=\"ciclabile\")[[\"tipo\", \"geometry\"]]"
   ]
  },
  {
   "cell_type": "markdown",
   "id": "20de51e9",
   "metadata": {},
   "source": [
    "Uniamo le righe dei vari dataframe in uno unico"
   ]
  },
  {
   "cell_type": "code",
   "execution_count": 17,
   "id": "2287bae9",
   "metadata": {},
   "outputs": [],
   "source": [
    "pois = gpd.pd.concat([\n",
    "    parchi, fontane, impianti, scuole, aree_gioco, biblioteche,\n",
    "    stazioni_bikemi, case_acqua, cinema, farmacie, musei, ospedali, teatri, ciclabili\n",
    "], ignore_index=True)"
   ]
  },
  {
   "cell_type": "markdown",
   "id": "b1bed7ee",
   "metadata": {},
   "source": [
    "Tramite sjoin con predicato \"intersect\": eseguiamo una left-join con il gdf dei municipi in base\n",
    "all'intersezione delle geometrie"
   ]
  },
  {
   "cell_type": "code",
   "execution_count": 18,
   "id": "f9e68e12",
   "metadata": {},
   "outputs": [],
   "source": [
    "pois_con_municipio = gpd.sjoin(\n",
    "    municipi,\n",
    "    pois,\n",
    "    how=\"left\",\n",
    "    predicate=\"intersects\"\n",
    "    ).drop([\"index_right\"], axis=1) # eliminiamo l'index_right (conserva l'indice del dataframe del gdf di destra ma non ci serve)"
   ]
  },
  {
   "cell_type": "markdown",
   "id": "7aa0eb66",
   "metadata": {},
   "source": [
    "Raggruppiamo per Municipio e Tipo (mettiamo anche geometry così ci rimane per il geojson).  "
   ]
  },
  {
   "cell_type": "code",
   "execution_count": 82,
   "id": "9205ef0d",
   "metadata": {},
   "outputs": [],
   "source": [
    "conteggi = pois_con_municipio.groupby(['MUNICIPIO', 'geometry', 'tipo']).size().unstack(fill_value=0).reset_index()"
   ]
  },
  {
   "cell_type": "markdown",
   "id": "46df8294",
   "metadata": {},
   "source": [
    "Aggiungiamo una colonna \"point_etichetta\" a cui assegniamo il \"centroid\" del poligono dei vari municipi, in modo  \n",
    "da utilizzarlo su kepler per aggiungere un layer \"poin\" a cui assegniamo una \"label\" (etichetta) così visualizziamo  \n",
    "a schermo il numero dell'attributo preso in considerazione (esempio, numero di parchi = 34, così si vede direttamente sulla mappa  \n",
    "oltre a vedersi solo il colore. Può essere carino)."
   ]
  },
  {
   "cell_type": "code",
   "execution_count": 20,
   "id": "a4eed437",
   "metadata": {},
   "outputs": [],
   "source": [
    "conteggi[\"point_etichetta\"] = conteggi.geometry.apply(lambda x: x.centroid)"
   ]
  },
  {
   "cell_type": "markdown",
   "id": "45712ff7",
   "metadata": {},
   "source": [
    "Riconvertiamo in geodataframe e salviamo su file geojson"
   ]
  },
  {
   "cell_type": "code",
   "execution_count": 21,
   "id": "bf0a160b",
   "metadata": {},
   "outputs": [],
   "source": [
    "conteggi = gpd.GeoDataFrame(conteggi, geometry=\"geometry\", crs=CRS_GRAD)\n",
    "conteggi.to_file(PATH_SCORE_X_MUNICIPI, driver=\"GeoJSON\")"
   ]
  }
 ],
 "metadata": {
  "kernelspec": {
   "display_name": ".venv",
   "language": "python",
   "name": "python3"
  },
  "language_info": {
   "codemirror_mode": {
    "name": "ipython",
    "version": 3
   },
   "file_extension": ".py",
   "mimetype": "text/x-python",
   "name": "python",
   "nbconvert_exporter": "python",
   "pygments_lexer": "ipython3",
   "version": "3.13.7"
  }
 },
 "nbformat": 4,
 "nbformat_minor": 5
}
