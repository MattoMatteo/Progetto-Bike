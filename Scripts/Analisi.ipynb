{
 "cells": [
  {
   "cell_type": "markdown",
   "id": "0c32c01f",
   "metadata": {},
   "source": [
    "# Analisi"
   ]
  },
  {
   "cell_type": "code",
   "execution_count": 1,
   "id": "772cee29",
   "metadata": {},
   "outputs": [],
   "source": [
    "import geopandas as gdp\n",
    "\n",
    "from my_paths import *"
   ]
  },
  {
   "cell_type": "code",
   "execution_count": 17,
   "id": "b420f93e",
   "metadata": {},
   "outputs": [],
   "source": [
    "gdf_ciclabili = gdp.read_file(PATH_CICLABILI_CLEAN).to_crs(\"EPSG:32632\")\n",
    "gdf_bikemi = gdp.read_file(PATH_BIKEMI_CLEAN).to_crs(\"EPSG:32632\")\n",
    "gdf_parchi = gdp.read_file(PATH_PARCHI_CLEAN).to_crs(\"EPSG:32632\")\n",
    "gdf_biblioteche = gdp.read_file(PATH_BIBLIOTECHE_CLEAN).to_crs(\"EPSG:32632\")\n",
    "gdf_impianti_sportivi = gdp.read_file(PATH_IMPIANTI_SPORTIVI_CLEAN).to_crs(\"EPSG:32632\")\n",
    "gdf_fontane = gdp.read_file(PATH_FONTANE_CLEAN).to_crs(\"EPSG:32632\")\n",
    "gdf_inquinamento = gdp.read_file(PATH_INQUINAMENTO_INGESTION_CLEAN).to_crs(\"EPSG:32632\")"
   ]
  },
  {
   "cell_type": "code",
   "execution_count": null,
   "id": "93122f21",
   "metadata": {},
   "outputs": [],
   "source": [
    "buffer_union = gdf_ciclabili.buffer(1000).unary_union\n",
    "parchi_non_vicini = gdf_parchi[~gdf_parchi.geometry.intersects(buffer_union)]"
   ]
  },
  {
   "cell_type": "code",
   "execution_count": null,
   "id": "361e9c20",
   "metadata": {},
   "outputs": [],
   "source": [
    "#print(gdf_parchi.info())\n",
    "print(parchi_non_vicini)"
   ]
  }
 ],
 "metadata": {
  "kernelspec": {
   "display_name": ".venv",
   "language": "python",
   "name": "python3"
  },
  "language_info": {
   "codemirror_mode": {
    "name": "ipython",
    "version": 3
   },
   "file_extension": ".py",
   "mimetype": "text/x-python",
   "name": "python",
   "nbconvert_exporter": "python",
   "pygments_lexer": "ipython3",
   "version": "3.13.2"
  }
 },
 "nbformat": 4,
 "nbformat_minor": 5
}
