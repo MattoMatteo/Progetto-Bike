{
 "cells": [
  {
   "cell_type": "markdown",
   "id": "0c32c01f",
   "metadata": {},
   "source": [
    "# Analisi"
   ]
  },
  {
   "cell_type": "code",
   "execution_count": 1,
   "id": "772cee29",
   "metadata": {},
   "outputs": [],
   "source": [
    "import geopandas as gpd\n",
    "\n",
    "from my_paths import *"
   ]
  },
  {
   "cell_type": "code",
   "execution_count": 2,
   "id": "9d3a6cf8",
   "metadata": {},
   "outputs": [],
   "source": [
    "PATH_ANALISI_TEST_CLEAN = \"../Data/Clean/Analisi/test.geojson\""
   ]
  },
  {
   "cell_type": "code",
   "execution_count": 3,
   "id": "b420f93e",
   "metadata": {},
   "outputs": [],
   "source": [
    "gdf_ciclabili = gpd.read_file(PATH_CICLABILI_CLEAN).to_crs(\"EPSG:32632\")\n",
    "gdf_bikemi = gpd.read_file(PATH_BIKEMI_CLEAN).to_crs(\"EPSG:32632\")\n",
    "gdf_parchi = gpd.read_file(PATH_PARCHI_CLEAN).to_crs(\"EPSG:32632\")\n",
    "gdf_biblioteche = gpd.read_file(PATH_BIBLIOTECHE_CLEAN).to_crs(\"EPSG:32632\")\n",
    "gdf_impianti_sportivi = gpd.read_file(PATH_IMPIANTI_SPORTIVI_CLEAN).to_crs(\"EPSG:32632\")\n",
    "gdf_fontane = gpd.read_file(PATH_FONTANE_CLEAN).to_crs(\"EPSG:32632\")\n",
    "gdf_inquinamento = gpd.read_file(PATH_INQUINAMENTO_INGESTION_CLEAN).to_crs(\"EPSG:32632\")"
   ]
  },
  {
   "cell_type": "markdown",
   "id": "a4e11617",
   "metadata": {},
   "source": [
    "### Metodo per trovare intersezioni tra geometrie."
   ]
  },
  {
   "cell_type": "markdown",
   "id": "7c2147d9",
   "metadata": {},
   "source": [
    "Per farlo si crea un \"buffer\" di tot distanza (esempio 1000m) attorno a tutti gli oggetti geometrici.\n",
    "Se quando si usa \"intersects.()\" su di un altro oggetto geometrico quello va a intersecarsi con il buffer allora restituisce True altrimenti False. Si crea una Series di True e False.  \n",
    "Qui usiamo il \"not\" (~) per capire quale parco NON si interseca con il buffer di 1km per ogni ciclabile e ci restituisce il geodataframe con i parchi più lontani da quella distanza."
   ]
  },
  {
   "cell_type": "code",
   "execution_count": 4,
   "id": "93122f21",
   "metadata": {},
   "outputs": [],
   "source": [
    "buffer_union = gdf_ciclabili.buffer(1000).union_all()\n",
    "parchi_non_vicini = gdf_parchi[~gdf_parchi.geometry.intersects(buffer_union)]"
   ]
  },
  {
   "cell_type": "markdown",
   "id": "32ab11f6",
   "metadata": {},
   "source": [
    "Per trovare \"una strada\" che possa connettere i \"parchi_non_vicini\" per prima cosa ho deciso di trovare il loro \"centro\".  \n",
    "Il problema consiste nell'esistenza di tante righe contenente uno stesso parco (dovuto ai vari poligoni).  \n",
    "Usiamo \"geopandas_center\" per ricavare il centro di un parco durante il raggruppamento per nome."
   ]
  },
  {
   "cell_type": "code",
   "execution_count": 14,
   "id": "4246a995",
   "metadata": {},
   "outputs": [],
   "source": [
    "def geopandas_center(polygons):\n",
    "    gdf = gpd.GeoDataFrame(geometry=list(polygons))\n",
    "    return gdf.union_all().centroid"
   ]
  },
  {
   "cell_type": "code",
   "execution_count": 15,
   "id": "3425b6b2",
   "metadata": {},
   "outputs": [],
   "source": [
    "parchi_non_vicini = parchi_non_vicini.to_crs(\"EPSG:4326\") # Più comodo per coordinate spaziali\n",
    "parchi_raggruppati = gpd.GeoDataFrame(parchi_non_vicini.groupby(\"PARCO\")['geometry'].agg(geopandas_center)).reset_index()"
   ]
  },
  {
   "cell_type": "markdown",
   "id": "d9ae4c57",
   "metadata": {},
   "source": [
    "Salviamo per test"
   ]
  },
  {
   "cell_type": "code",
   "execution_count": null,
   "id": "361e9c20",
   "metadata": {},
   "outputs": [],
   "source": [
    "parchi_raggruppati.to_file(PATH_ANALISI_TEST_CLEAN, driver=\"GeoJSON\")"
   ]
  }
 ],
 "metadata": {
  "kernelspec": {
   "display_name": ".venv",
   "language": "python",
   "name": "python3"
  },
  "language_info": {
   "codemirror_mode": {
    "name": "ipython",
    "version": 3
   },
   "file_extension": ".py",
   "mimetype": "text/x-python",
   "name": "python",
   "nbconvert_exporter": "python",
   "pygments_lexer": "ipython3",
   "version": "3.13.2"
  }
 },
 "nbformat": 4,
 "nbformat_minor": 5
}
