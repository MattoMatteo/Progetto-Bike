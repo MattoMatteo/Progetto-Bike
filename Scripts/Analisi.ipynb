{
 "cells": [
  {
   "cell_type": "markdown",
   "id": "0c32c01f",
   "metadata": {},
   "source": [
    "# Analisi"
   ]
  },
  {
   "cell_type": "code",
   "execution_count": 103,
   "id": "772cee29",
   "metadata": {},
   "outputs": [],
   "source": [
    "import requests\n",
    "import json\n",
    "from shapely import LineString, MultiLineString, Point\n",
    "from shapely.ops import nearest_points\n",
    "\n",
    "import geopandas as gpd\n",
    "import polyline\n",
    "\n",
    "from my_paths import *"
   ]
  },
  {
   "cell_type": "code",
   "execution_count": 2,
   "id": "9d3a6cf8",
   "metadata": {},
   "outputs": [],
   "source": [
    "PATH_ANALISI_TEST_CLEAN = \"../Data/Clean/Analisi/test.geojson\""
   ]
  },
  {
   "cell_type": "markdown",
   "id": "18c93209",
   "metadata": {},
   "source": [
    "Carico le api key da file"
   ]
  },
  {
   "cell_type": "code",
   "execution_count": null,
   "id": "f12793e2",
   "metadata": {},
   "outputs": [],
   "source": [
    "PATH_API_KEY = \"../Google_api_credentials/api_key_maps.json\"\n",
    "with open(PATH_API_KEY) as file: \n",
    "    API_KEY_GOOGLE = json.load(file)[\"key\"]"
   ]
  },
  {
   "cell_type": "code",
   "execution_count": 45,
   "id": "b420f93e",
   "metadata": {},
   "outputs": [],
   "source": [
    "gdf_ciclabili = gpd.read_file(PATH_CICLABILI_CLEAN)\n",
    "gdf_bikemi = gpd.read_file(PATH_BIKEMI_CLEAN)\n",
    "gdf_parchi = gpd.read_file(PATH_PARCHI_CLEAN)\n",
    "gdf_biblioteche = gpd.read_file(PATH_BIBLIOTECHE_CLEAN)\n",
    "gdf_impianti_sportivi = gpd.read_file(PATH_IMPIANTI_SPORTIVI_CLEAN)\n",
    "gdf_fontane = gpd.read_file(PATH_FONTANE_CLEAN)\n",
    "gdf_inquinamento = gpd.read_file(PATH_INQUINAMENTO_INGESTION_CLEAN)"
   ]
  },
  {
   "cell_type": "markdown",
   "id": "0980d20b",
   "metadata": {},
   "source": [
    "Per eseguire operazioni di misurazione di distanze è meglio utilizzare crs metrico. Visto che i dataframe sono salvati con crs di tipo angolare (lat e long), li dobbiamo prima convertire."
   ]
  },
  {
   "cell_type": "code",
   "execution_count": 46,
   "id": "47c2aeeb",
   "metadata": {},
   "outputs": [],
   "source": [
    "CRS_GRAD = \"EPSG:4326\"  # Lat-Long\n",
    "CRS_METR = \"EPSG:32632\" # Metri"
   ]
  },
  {
   "cell_type": "markdown",
   "id": "169e703c",
   "metadata": {},
   "source": [
    "## Parchi Isolati"
   ]
  },
  {
   "cell_type": "code",
   "execution_count": 47,
   "id": "74892a33",
   "metadata": {},
   "outputs": [],
   "source": [
    "gdf_ciclabili = gdf_ciclabili.to_crs(CRS_METR)\n",
    "gdf_parchi = gdf_parchi.to_crs(CRS_METR)"
   ]
  },
  {
   "cell_type": "markdown",
   "id": "a172fd9b",
   "metadata": {},
   "source": [
    "Creiamo un \"buffer\" di contorno alle Multylinestring delle piste ciclabili (gli diamo spessore). Si è deciso per ora di  \n",
    "impostare 200 --> 200 metri. Da verificare se modificare.  \n",
    "Il buffer verrà usato per trovare intersezioni con le geometrie dei parchi.  \n",
    "Il nuovo GeoDataFrame avrà tutti i parchi che NON si intersecano con le piste ciclabili."
   ]
  },
  {
   "cell_type": "code",
   "execution_count": null,
   "id": "93122f21",
   "metadata": {},
   "outputs": [],
   "source": [
    "gdf_ciclabili_buffer = gdf_ciclabili.buffer(200).union_all()\n",
    "parchi_non_vicini = gdf_parchi[~gdf_parchi.geometry.intersects(gdf_ciclabili_buffer)]\n",
    "print(len(parchi_non_vicini))"
   ]
  },
  {
   "cell_type": "markdown",
   "id": "e8949e0c",
   "metadata": {},
   "source": [
    "Unisco tutte le piste ciclabili in un unica sola.  "
   ]
  },
  {
   "cell_type": "code",
   "execution_count": null,
   "id": "8f2a8b14",
   "metadata": {},
   "outputs": [],
   "source": [
    "gdf_ciclabili_unite = gpd.GeoDataFrame([gdf_ciclabili.union_all()], columns=[\"geometry\"], crs=CRS_METR)"
   ]
  },
  {
   "cell_type": "markdown",
   "id": "b75fc020",
   "metadata": {},
   "source": [
    "Trovati i parchi da \"servire\" con nuove ipotetiche piste ciclabili, andiamo a cercare i 2 punti più vicini tra la geometria delle piste ciclabili e i parchi. Scrorriamo quindi il dataframe dei parchi e facciamo la \"nearest_points\" delle due geometrie."
   ]
  },
  {
   "cell_type": "code",
   "execution_count": null,
   "id": "25312e4f",
   "metadata": {},
   "outputs": [],
   "source": [
    "# Lista per raccogliere risultati\n",
    "risultati = []\n",
    "\n",
    "for idx_parco, parco in parchi_non_vicini.iterrows():\n",
    "    # Trova i due punti più vicini tra geometria del parco e del tratto\n",
    "    punto_parco, punto_ciclabile = nearest_points(parco[\"geometry\"], gdf_ciclabili_unite[\"geometry\"][0])\n",
    "    \n",
    "    # Salva risultato\n",
    "    risultati.append({\n",
    "        'id_parco': parco.get('PARCO', idx_parco),\n",
    "        'distanza_minima': punto_parco.distance(punto_ciclabile),\n",
    "        'geometry': MultiLineString([LineString([punto_parco, punto_ciclabile])])\n",
    "    })\n",
    "\n",
    "# Crea GeoDataFrame del risultato\n",
    "df_risultati = gpd.GeoDataFrame(risultati, geometry='geometry', crs=CRS_METR)"
   ]
  },
  {
   "cell_type": "markdown",
   "id": "da668fbd",
   "metadata": {},
   "source": [
    "Dichiaro la funzione che utilizzeremo per trovare il percorso in bici tra i due punti grazie alle API di google maps."
   ]
  },
  {
   "cell_type": "code",
   "execution_count": 9,
   "id": "a711d508",
   "metadata": {},
   "outputs": [],
   "source": [
    "def richiedi_percorso_goole(origin:tuple[float, float], dest:tuple[float, float], api_key:str, mode:str = \"bicycling\"):\n",
    "    \"\"\"\n",
    "    Restituisce una Multylinestring del percorso da punto A (origin) a punto B (dest).\n",
    "\n",
    "    Args:\n",
    "        origin (tuple[float, float]): Coordinate punto di partenza in formato: [Latitudine, Longitudine].\n",
    "        dest (tuple[float, float]): Coordinate punto di arrivo in formato: [Latitudine, Longitudine].\n",
    "        api_key (str): API_KEY di google maps per effettuare la richiesta.\n",
    "        mode (str): Mezzo di trasporto da utilizzare per il calcolo: \"driving\", \"walking\", \"bicycling\", \"transit\".\n",
    "                    \"bicycling\" verrà utilizzato di deafult.\n",
    "    Returns:\n",
    "        Multylinestring: Del tipo: [ [Longitudine, Latitudine], [Longitudine, Latitudine] ]. N.B: Sono inverse rispetto\n",
    "                                    al formato dato in input, già pronte per kepler (google le usa al contrario).\n",
    "    \"\"\"\n",
    "\n",
    "    outputFormat = \"json\"   # Usiamo sempre questo\n",
    "    origin_str = f\"{origin[1]},{origin[0]}\"\n",
    "    dest_str = f\"{dest[1]},{dest[0]}\"\n",
    "    parameters = f\"origin={origin_str}&destination={dest_str}&key={api_key}\"\n",
    "    mode = \"bicycling\"  # Alternative: |    driving  |   walking    |   bicycling  |    transit\n",
    "    url_API_directions = f\"https://maps.googleapis.com/maps/api/directions/{outputFormat}?{parameters}&mode={mode}\"\n",
    "\n",
    "    risposta_json = requests.get(url_API_directions).json()\n",
    "    coordinates = polyline.decode(risposta_json['routes'][0]['overview_polyline']['points'])\n",
    "    coordinates = [[x[1], x[0]] for x in coordinates]\n",
    "    return MultiLineString([LineString(coordinates)])"
   ]
  },
  {
   "cell_type": "markdown",
   "id": "64a87f87",
   "metadata": {},
   "source": [
    "Trovo quindi le nuove geometrie dei percorsi di google maps e li vado a sostituire alla sua vecchia geometria che era riferita ai \"nearest_points\""
   ]
  },
  {
   "cell_type": "code",
   "execution_count": null,
   "id": "bb21e9b3",
   "metadata": {},
   "outputs": [],
   "source": [
    "df_risultati = df_risultati.to_crs(CRS_GRAD)    # Google accetta lat-long\n",
    "df_risultati[\"geometry\"] = df_risultati[\"geometry\"].apply(\n",
    "    lambda x: richiedi_percorso_goole(origin=x.geoms[0].coords[0],\n",
    "                                      dest=x.geoms[0].coords[1],\n",
    "                                      api_key=API_KEY_GOOGLE,\n",
    "                                      mode=\"bicycling\"))"
   ]
  },
  {
   "cell_type": "markdown",
   "id": "0bd0fee8",
   "metadata": {},
   "source": [
    "Facciamo una eliminazione delle sovrapposizioni delle \"nuove ciclabili\" con quelle già esistenti per cercare di avere solo le nuove effettive piste da costruire.  \n",
    "Per farlo bisogna lavorare di nuovo con il sistema \"EPSG:32632\" (metrico) e ci aiutiamo con un piccolo buffer (10 metri) sulle ciclabili.  \n",
    "Per farlo si usa la funzione .difference delle Multilinestring."
   ]
  },
  {
   "cell_type": "code",
   "execution_count": null,
   "id": "71b07026",
   "metadata": {},
   "outputs": [],
   "source": [
    "df_risultati = df_risultati.to_crs(CRS_METR)    # Confronto geometrico usiamo metri\n",
    "\n",
    "gpf_ciclabili_uniti_con_buffer = gdf_ciclabili.buffer(10).union_all()\n",
    "\n",
    "df_risultati['geometry'] = df_risultati[\"geometry\"].apply(\n",
    "    lambda geom: geom.difference(gpf_ciclabili_uniti_con_buffer))\n",
    "\n",
    "gdf_parchi_uniti = gdf_parchi.buffer(0.1).union_all()   # buffer minimo dovrebbe aiutare la precisione della difference\n",
    "df_risultati['geometry'] = df_risultati[\"geometry\"].apply(\n",
    "    lambda geom: geom.difference(gdf_parchi_uniti))"
   ]
  },
  {
   "cell_type": "markdown",
   "id": "24914a2c",
   "metadata": {},
   "source": [
    "Salviamo il risultato su Clean"
   ]
  },
  {
   "cell_type": "code",
   "execution_count": 120,
   "id": "5719d0bb",
   "metadata": {},
   "outputs": [],
   "source": [
    "df_risultati.set_crs(CRS_METR).to_crs(CRS_GRAD).to_file(PATH_ANALISI_TEST_CLEAN)"
   ]
  },
  {
   "cell_type": "markdown",
   "id": "2fe68e31",
   "metadata": {},
   "source": [
    "# Google API Monitor"
   ]
  },
  {
   "cell_type": "markdown",
   "id": "532256fb",
   "metadata": {},
   "source": [
    "Da usare ogni tanto per monitorare le chiamate api consumate.  \n",
    "Difficilmente supereremo le 10k chiamate però non si sa mai.\n",
    "\n",
    "N.B: Anche questa operazione ha un numero di chiamate limitate anche se non ho capito qual é ma facendola ogni tanto non mi preoccupo."
   ]
  },
  {
   "cell_type": "code",
   "execution_count": null,
   "id": "58c33b08",
   "metadata": {},
   "outputs": [],
   "source": [
    "from google.cloud import monitoring_v3\n",
    "from datetime import datetime, timezone"
   ]
  },
  {
   "cell_type": "code",
   "execution_count": 26,
   "id": "2eacbe88",
   "metadata": {},
   "outputs": [],
   "source": [
    "PATH_SERVICE_ACCOUNT = \"../Google_api_credentials/service_account.json\""
   ]
  },
  {
   "cell_type": "code",
   "execution_count": null,
   "id": "6fd26255",
   "metadata": {},
   "outputs": [
    {
     "name": "stdout",
     "output_type": "stream",
     "text": [
      "Totale chiamate Maps API questo mese: 35\n"
     ]
    }
   ],
   "source": [
    "client = monitoring_v3.MetricServiceClient.from_service_account_file(PATH_SERVICE_ACCOUNT)\n",
    "project_id = \"progetto-bike-aida\"\n",
    "project_name = f\"projects/{project_id}\"\n",
    "\n",
    "start = datetime(2025, 7, 27)   # Data inizio utilizzo delle api\n",
    "end = datetime.now(timezone.utc)\n",
    "\n",
    "interval = monitoring_v3.TimeInterval({\n",
    "    \"start_time\": {\"seconds\": int(start.timestamp())},\n",
    "    \"end_time\": {\"seconds\": int(end.timestamp())},\n",
    "})\n",
    "\n",
    "results = client.list_time_series(\n",
    "    request={\n",
    "        \"name\": project_name,\n",
    "        \"filter\": 'metric.type = \"maps.googleapis.com/service/v2/request_count\"',\n",
    "        \"interval\": interval,\n",
    "        \"aggregation\": {\n",
    "            \"alignment_period\": {\"seconds\": 86400},\n",
    "            \"per_series_aligner\": monitoring_v3.Aggregation.Aligner.ALIGN_SUM,\n",
    "        },\n",
    "        \"view\": monitoring_v3.ListTimeSeriesRequest.TimeSeriesView.FULL,\n",
    "    }\n",
    ")\n",
    "\n",
    "total = 0\n",
    "for time_series in results:\n",
    "    for point in time_series.points:\n",
    "        total += point.value.int64_value\n",
    "\n",
    "print(f\"Totale chiamate Maps API: {total}\")"
   ]
  }
 ],
 "metadata": {
  "kernelspec": {
   "display_name": ".venv",
   "language": "python",
   "name": "python3"
  },
  "language_info": {
   "codemirror_mode": {
    "name": "ipython",
    "version": 3
   },
   "file_extension": ".py",
   "mimetype": "text/x-python",
   "name": "python",
   "nbconvert_exporter": "python",
   "pygments_lexer": "ipython3",
   "version": "3.13.2"
  }
 },
 "nbformat": 4,
 "nbformat_minor": 5
}
