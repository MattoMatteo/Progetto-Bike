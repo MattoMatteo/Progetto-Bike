{
 "cells": [
  {
   "cell_type": "code",
   "execution_count": 1,
   "id": "1e1b7893",
   "metadata": {},
   "outputs": [
    {
     "name": "stdout",
     "output_type": "stream",
     "text": [
      "Requirement already satisfied: geopandas in c:\\users\\apera\\onedrive\\documenti\\progetti\\progetto_bike\\.venv\\lib\\site-packages (1.1.1)\n",
      "Requirement already satisfied: numpy>=1.24 in c:\\users\\apera\\onedrive\\documenti\\progetti\\progetto_bike\\.venv\\lib\\site-packages (from geopandas) (2.3.1)\n",
      "Requirement already satisfied: pyogrio>=0.7.2 in c:\\users\\apera\\onedrive\\documenti\\progetti\\progetto_bike\\.venv\\lib\\site-packages (from geopandas) (0.11.1)\n",
      "Requirement already satisfied: packaging in c:\\users\\apera\\onedrive\\documenti\\progetti\\progetto_bike\\.venv\\lib\\site-packages (from geopandas) (25.0)\n",
      "Requirement already satisfied: pandas>=2.0.0 in c:\\users\\apera\\onedrive\\documenti\\progetti\\progetto_bike\\.venv\\lib\\site-packages (from geopandas) (2.3.1)\n",
      "Requirement already satisfied: pyproj>=3.5.0 in c:\\users\\apera\\onedrive\\documenti\\progetti\\progetto_bike\\.venv\\lib\\site-packages (from geopandas) (3.7.1)\n",
      "Requirement already satisfied: shapely>=2.0.0 in c:\\users\\apera\\onedrive\\documenti\\progetti\\progetto_bike\\.venv\\lib\\site-packages (from geopandas) (2.1.1)\n",
      "Requirement already satisfied: python-dateutil>=2.8.2 in c:\\users\\apera\\onedrive\\documenti\\progetti\\progetto_bike\\.venv\\lib\\site-packages (from pandas>=2.0.0->geopandas) (2.9.0.post0)\n",
      "Requirement already satisfied: pytz>=2020.1 in c:\\users\\apera\\onedrive\\documenti\\progetti\\progetto_bike\\.venv\\lib\\site-packages (from pandas>=2.0.0->geopandas) (2025.2)\n",
      "Requirement already satisfied: tzdata>=2022.7 in c:\\users\\apera\\onedrive\\documenti\\progetti\\progetto_bike\\.venv\\lib\\site-packages (from pandas>=2.0.0->geopandas) (2025.2)\n",
      "Requirement already satisfied: certifi in c:\\users\\apera\\onedrive\\documenti\\progetti\\progetto_bike\\.venv\\lib\\site-packages (from pyogrio>=0.7.2->geopandas) (2025.8.3)\n",
      "Requirement already satisfied: six>=1.5 in c:\\users\\apera\\onedrive\\documenti\\progetti\\progetto_bike\\.venv\\lib\\site-packages (from python-dateutil>=2.8.2->pandas>=2.0.0->geopandas) (1.17.0)\n",
      "^C\n",
      "Requirement already satisfied: osmnx in c:\\users\\apera\\onedrive\\documenti\\progetti\\progetto_bike\\.venv\\lib\\site-packages (2.0.5)\n",
      "Requirement already satisfied: geopandas>=1.0.1 in c:\\users\\apera\\onedrive\\documenti\\progetti\\progetto_bike\\.venv\\lib\\site-packages (from osmnx) (1.1.1)\n",
      "Requirement already satisfied: networkx>=2.5 in c:\\users\\apera\\onedrive\\documenti\\progetti\\progetto_bike\\.venv\\lib\\site-packages (from osmnx) (3.5)\n",
      "Requirement already satisfied: numpy>=1.22 in c:\\users\\apera\\onedrive\\documenti\\progetti\\progetto_bike\\.venv\\lib\\site-packages (from osmnx) (2.3.1)\n",
      "Requirement already satisfied: pandas>=1.4 in c:\\users\\apera\\onedrive\\documenti\\progetti\\progetto_bike\\.venv\\lib\\site-packages (from osmnx) (2.3.1)\n",
      "Requirement already satisfied: requests>=2.27 in c:\\users\\apera\\onedrive\\documenti\\progetti\\progetto_bike\\.venv\\lib\\site-packages (from osmnx) (2.32.4)\n",
      "Requirement already satisfied: shapely>=2.0 in c:\\users\\apera\\onedrive\\documenti\\progetti\\progetto_bike\\.venv\\lib\\site-packages (from osmnx) (2.1.1)\n",
      "Requirement already satisfied: pyogrio>=0.7.2 in c:\\users\\apera\\onedrive\\documenti\\progetti\\progetto_bike\\.venv\\lib\\site-packages (from geopandas>=1.0.1->osmnx) (0.11.1)\n",
      "Requirement already satisfied: packaging in c:\\users\\apera\\onedrive\\documenti\\progetti\\progetto_bike\\.venv\\lib\\site-packages (from geopandas>=1.0.1->osmnx) (25.0)\n",
      "Requirement already satisfied: pyproj>=3.5.0 in c:\\users\\apera\\onedrive\\documenti\\progetti\\progetto_bike\\.venv\\lib\\site-packages (from geopandas>=1.0.1->osmnx) (3.7.1)\n",
      "Requirement already satisfied: python-dateutil>=2.8.2 in c:\\users\\apera\\onedrive\\documenti\\progetti\\progetto_bike\\.venv\\lib\\site-packages (from pandas>=1.4->osmnx) (2.9.0.post0)\n",
      "Requirement already satisfied: pytz>=2020.1 in c:\\users\\apera\\onedrive\\documenti\\progetti\\progetto_bike\\.venv\\lib\\site-packages (from pandas>=1.4->osmnx) (2025.2)\n",
      "Requirement already satisfied: tzdata>=2022.7 in c:\\users\\apera\\onedrive\\documenti\\progetti\\progetto_bike\\.venv\\lib\\site-packages (from pandas>=1.4->osmnx) (2025.2)\n",
      "Requirement already satisfied: certifi in c:\\users\\apera\\onedrive\\documenti\\progetti\\progetto_bike\\.venv\\lib\\site-packages (from pyogrio>=0.7.2->geopandas>=1.0.1->osmnx) (2025.8.3)\n",
      "Requirement already satisfied: six>=1.5 in c:\\users\\apera\\onedrive\\documenti\\progetti\\progetto_bike\\.venv\\lib\\site-packages (from python-dateutil>=2.8.2->pandas>=1.4->osmnx) (1.17.0)\n",
      "Requirement already satisfied: charset_normalizer<4,>=2 in c:\\users\\apera\\onedrive\\documenti\\progetti\\progetto_bike\\.venv\\lib\\site-packages (from requests>=2.27->osmnx) (3.4.2)\n",
      "Requirement already satisfied: idna<4,>=2.5 in c:\\users\\apera\\onedrive\\documenti\\progetti\\progetto_bike\\.venv\\lib\\site-packages (from requests>=2.27->osmnx) (3.10)\n",
      "Requirement already satisfied: urllib3<3,>=1.21.1 in c:\\users\\apera\\onedrive\\documenti\\progetti\\progetto_bike\\.venv\\lib\\site-packages (from requests>=2.27->osmnx) (2.5.0)\n",
      "Requirement already satisfied: scipy in c:\\users\\apera\\onedrive\\documenti\\progetti\\progetto_bike\\.venv\\lib\\site-packages (1.16.1)\n",
      "Requirement already satisfied: numpy<2.6,>=1.25.2 in c:\\users\\apera\\onedrive\\documenti\\progetti\\progetto_bike\\.venv\\lib\\site-packages (from scipy) (2.3.1)\n"
     ]
    },
    {
     "name": "stderr",
     "output_type": "stream",
     "text": [
      "ERROR: unknown command \"installn\" - maybe you meant \"install\"\n",
      "\n"
     ]
    },
    {
     "name": "stdout",
     "output_type": "stream",
     "text": [
      "Requirement already satisfied: osmnx in c:\\users\\apera\\onedrive\\documenti\\progetti\\progetto_bike\\.venv\\lib\\site-packages (2.0.5)\n",
      "Requirement already satisfied: geopandas>=1.0.1 in c:\\users\\apera\\onedrive\\documenti\\progetti\\progetto_bike\\.venv\\lib\\site-packages (from osmnx) (1.1.1)\n",
      "Requirement already satisfied: networkx>=2.5 in c:\\users\\apera\\onedrive\\documenti\\progetti\\progetto_bike\\.venv\\lib\\site-packages (from osmnx) (3.5)\n",
      "Requirement already satisfied: numpy>=1.22 in c:\\users\\apera\\onedrive\\documenti\\progetti\\progetto_bike\\.venv\\lib\\site-packages (from osmnx) (2.3.1)\n",
      "Requirement already satisfied: pandas>=1.4 in c:\\users\\apera\\onedrive\\documenti\\progetti\\progetto_bike\\.venv\\lib\\site-packages (from osmnx) (2.3.1)\n",
      "Requirement already satisfied: requests>=2.27 in c:\\users\\apera\\onedrive\\documenti\\progetti\\progetto_bike\\.venv\\lib\\site-packages (from osmnx) (2.32.4)\n",
      "Requirement already satisfied: shapely>=2.0 in c:\\users\\apera\\onedrive\\documenti\\progetti\\progetto_bike\\.venv\\lib\\site-packages (from osmnx) (2.1.1)\n",
      "Requirement already satisfied: pyogrio>=0.7.2 in c:\\users\\apera\\onedrive\\documenti\\progetti\\progetto_bike\\.venv\\lib\\site-packages (from geopandas>=1.0.1->osmnx) (0.11.1)\n",
      "Requirement already satisfied: packaging in c:\\users\\apera\\onedrive\\documenti\\progetti\\progetto_bike\\.venv\\lib\\site-packages (from geopandas>=1.0.1->osmnx) (25.0)\n",
      "Requirement already satisfied: pyproj>=3.5.0 in c:\\users\\apera\\onedrive\\documenti\\progetti\\progetto_bike\\.venv\\lib\\site-packages (from geopandas>=1.0.1->osmnx) (3.7.1)\n",
      "Requirement already satisfied: python-dateutil>=2.8.2 in c:\\users\\apera\\onedrive\\documenti\\progetti\\progetto_bike\\.venv\\lib\\site-packages (from pandas>=1.4->osmnx) (2.9.0.post0)\n",
      "Requirement already satisfied: pytz>=2020.1 in c:\\users\\apera\\onedrive\\documenti\\progetti\\progetto_bike\\.venv\\lib\\site-packages (from pandas>=1.4->osmnx) (2025.2)\n",
      "Requirement already satisfied: tzdata>=2022.7 in c:\\users\\apera\\onedrive\\documenti\\progetti\\progetto_bike\\.venv\\lib\\site-packages (from pandas>=1.4->osmnx) (2025.2)\n",
      "Requirement already satisfied: certifi in c:\\users\\apera\\onedrive\\documenti\\progetti\\progetto_bike\\.venv\\lib\\site-packages (from pyogrio>=0.7.2->geopandas>=1.0.1->osmnx) (2025.8.3)\n",
      "Requirement already satisfied: six>=1.5 in c:\\users\\apera\\onedrive\\documenti\\progetti\\progetto_bike\\.venv\\lib\\site-packages (from python-dateutil>=2.8.2->pandas>=1.4->osmnx) (1.17.0)\n",
      "Requirement already satisfied: charset_normalizer<4,>=2 in c:\\users\\apera\\onedrive\\documenti\\progetti\\progetto_bike\\.venv\\lib\\site-packages (from requests>=2.27->osmnx) (3.4.2)\n",
      "Requirement already satisfied: idna<4,>=2.5 in c:\\users\\apera\\onedrive\\documenti\\progetti\\progetto_bike\\.venv\\lib\\site-packages (from requests>=2.27->osmnx) (3.10)\n",
      "Requirement already satisfied: urllib3<3,>=1.21.1 in c:\\users\\apera\\onedrive\\documenti\\progetti\\progetto_bike\\.venv\\lib\\site-packages (from requests>=2.27->osmnx) (2.5.0)\n",
      "Requirement already satisfied: scipy in c:\\users\\apera\\onedrive\\documenti\\progetti\\progetto_bike\\.venv\\lib\\site-packages (1.16.1)\n",
      "Requirement already satisfied: numpy<2.6,>=1.25.2 in c:\\users\\apera\\onedrive\\documenti\\progetti\\progetto_bike\\.venv\\lib\\site-packages (from scipy) (2.3.1)\n"
     ]
    },
    {
     "name": "stderr",
     "output_type": "stream",
     "text": [
      "ERROR: unknown command \"installn\" - maybe you meant \"install\"\n",
      "\n"
     ]
    }
   ],
   "source": [
    "!pip install geopandas\n",
    "!pip install osmnx\n",
    "!pip install scipy\n",
    "!pip installn networkx!pip install geopandas\n",
    "!pip install osmnx\n",
    "!pip install scipy\n",
    "!pip installn networkx"
   ]
  },
  {
   "cell_type": "code",
   "execution_count": 1,
   "id": "85646149",
   "metadata": {},
   "outputs": [],
   "source": [
    "import pickle\n",
    "\n",
    "import geopandas as gpd\n",
    "import networkx as nx\n",
    "from networkx.algorithms.approximation import steiner_tree\n",
    "import osmnx as ox\n",
    "\n",
    "from my_paths import *\n",
    "import Graph_functions"
   ]
  },
  {
   "cell_type": "markdown",
   "id": "8db24b64",
   "metadata": {},
   "source": [
    "Analisi istruzione no pesi\n"
   ]
  },
  {
   "cell_type": "code",
   "execution_count": 7,
   "id": "53d4250f",
   "metadata": {},
   "outputs": [],
   "source": [
    "# Carichiamo Graph Ciclabili\n",
    "with open(PATH_RETE_CICLABILE_COMPLETA_PICKLE_CLEAN, \"rb\") as f:\n",
    "    G_strade_ciclabili = pickle.load(f)"
   ]
  },
  {
   "cell_type": "code",
   "execution_count": 8,
   "id": "e0b52830",
   "metadata": {},
   "outputs": [],
   "source": [
    "G_compose = G_strade_ciclabili.copy()"
   ]
  },
  {
   "cell_type": "markdown",
   "id": "9f31d1e5",
   "metadata": {},
   "source": [
    "Rimuoviamo i pesi delle strade"
   ]
  },
  {
   "cell_type": "code",
   "execution_count": 9,
   "id": "f22c39fa",
   "metadata": {},
   "outputs": [],
   "source": [
    "for u, v, k in G_compose.edges(keys=True):\n",
    "    if G_compose[u][v][k][\"tipo\"] == \"Strade_ciclabili\":\n",
    "        G_compose[u][v][k]['weight'] = 1"
   ]
  },
  {
   "cell_type": "code",
   "execution_count": 10,
   "id": "1f898abd",
   "metadata": {},
   "outputs": [],
   "source": [
    "gdf_biblioteche = gpd.read_file(PATH_BIBLIOTECHE_CLEAN)\n",
    "G_compose = Graph_functions.connect_poi_nodes_to_graph(G_compose, gdf_biblioteche,\n",
    "                                                                     tipo = \"biblioteche\",\n",
    "                                                                     poi = True,\n",
    "                                                                     artificial=True)"
   ]
  },
  {
   "cell_type": "code",
   "execution_count": 11,
   "id": "1a9ceb59",
   "metadata": {},
   "outputs": [],
   "source": [
    "gdf_scuole = gpd.read_file(PATH_SCUOLE_CLEAN)\n",
    "G_compose = Graph_functions.connect_poi_nodes_to_graph(G_compose, gdf_biblioteche,\n",
    "                                                                     tipo = \"scuole\",\n",
    "                                                                     poi = True,\n",
    "                                                                     artificial=True)"
   ]
  },
  {
   "cell_type": "markdown",
   "id": "5c6287da",
   "metadata": {},
   "source": [
    "## Utilizziamo algoritmo di **Steiner Tree**"
   ]
  },
  {
   "cell_type": "code",
   "execution_count": 12,
   "id": "3c107927",
   "metadata": {},
   "outputs": [],
   "source": [
    "poi_nodes = [n for n, d in G_compose.nodes(data=True) if d.get(\"poi\") == True]\n",
    "G_sport_tempo_libero = nx.MultiDiGraph(steiner_tree(G_compose, terminal_nodes=poi_nodes, weight='weight')).to_undirected()"
   ]
  },
  {
   "cell_type": "code",
   "execution_count": 13,
   "id": "d3c9ef6b",
   "metadata": {},
   "outputs": [
    {
     "name": "stderr",
     "output_type": "stream",
     "text": [
      "<>:1: SyntaxWarning: invalid escape sequence '\\D'\n",
      "<>:5: SyntaxWarning: invalid escape sequence '\\D'\n",
      "<>:1: SyntaxWarning: invalid escape sequence '\\D'\n",
      "<>:5: SyntaxWarning: invalid escape sequence '\\D'\n",
      "C:\\Users\\apera\\AppData\\Local\\Temp\\ipykernel_4856\\4181678500.py:1: SyntaxWarning: invalid escape sequence '\\D'\n",
      "  with open(\"..\\Data\\Staging\\Analisi\\Istruzione_clean_nopesi.pickle\", \"wb\") as f:\n",
      "C:\\Users\\apera\\AppData\\Local\\Temp\\ipykernel_4856\\4181678500.py:5: SyntaxWarning: invalid escape sequence '\\D'\n",
      "  gdf_steiner.to_file(\"..\\Data\\Clean\\Analisi\\Istruzione_clean_nopesi.geojson\", driver=\"GeoJSON\")\n"
     ]
    }
   ],
   "source": [
    "with open(\"..\\Data\\Staging\\Analisi\\Istruzione_clean_nopesi.pickle\", \"wb\") as f:\n",
    "    pickle.dump(G_sport_tempo_libero, f)\n",
    "\n",
    "gdf_steiner = ox.graph_to_gdfs(G_sport_tempo_libero, edges=True, nodes=False)\n",
    "gdf_steiner.to_file(\"..\\Data\\Clean\\Analisi\\Istruzione_clean_nopesi.geojson\", driver=\"GeoJSON\")"
   ]
  }
 ],
 "metadata": {
  "kernelspec": {
   "display_name": ".venv",
   "language": "python",
   "name": "python3"
  },
  "language_info": {
   "codemirror_mode": {
    "name": "ipython",
    "version": 3
   },
   "file_extension": ".py",
   "mimetype": "text/x-python",
   "name": "python",
   "nbconvert_exporter": "python",
   "pygments_lexer": "ipython3",
   "version": "3.13.5"
  }
 },
 "nbformat": 4,
 "nbformat_minor": 5
}
