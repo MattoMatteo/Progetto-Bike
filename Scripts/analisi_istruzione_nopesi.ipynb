{
 "cells": [
  {
   "cell_type": "code",
   "execution_count": 1,
   "id": "1e1b7893",
   "metadata": {},
   "outputs": [
    {
     "name": "stdout",
     "output_type": "stream",
     "text": [
      "Requirement already satisfied: geopandas in c:\\users\\apera\\onedrive\\documenti\\progetti\\progetto_bike\\.venv\\lib\\site-packages (1.1.1)\n",
      "Requirement already satisfied: numpy>=1.24 in c:\\users\\apera\\onedrive\\documenti\\progetti\\progetto_bike\\.venv\\lib\\site-packages (from geopandas) (2.3.1)\n",
      "Requirement already satisfied: pyogrio>=0.7.2 in c:\\users\\apera\\onedrive\\documenti\\progetti\\progetto_bike\\.venv\\lib\\site-packages (from geopandas) (0.11.1)\n",
      "Requirement already satisfied: packaging in c:\\users\\apera\\onedrive\\documenti\\progetti\\progetto_bike\\.venv\\lib\\site-packages (from geopandas) (25.0)\n",
      "Requirement already satisfied: pandas>=2.0.0 in c:\\users\\apera\\onedrive\\documenti\\progetti\\progetto_bike\\.venv\\lib\\site-packages (from geopandas) (2.3.1)\n",
      "Requirement already satisfied: pyproj>=3.5.0 in c:\\users\\apera\\onedrive\\documenti\\progetti\\progetto_bike\\.venv\\lib\\site-packages (from geopandas) (3.7.1)\n",
      "Requirement already satisfied: shapely>=2.0.0 in c:\\users\\apera\\onedrive\\documenti\\progetti\\progetto_bike\\.venv\\lib\\site-packages (from geopandas) (2.1.1)\n",
      "Requirement already satisfied: python-dateutil>=2.8.2 in c:\\users\\apera\\onedrive\\documenti\\progetti\\progetto_bike\\.venv\\lib\\site-packages (from pandas>=2.0.0->geopandas) (2.9.0.post0)\n",
      "Requirement already satisfied: pytz>=2020.1 in c:\\users\\apera\\onedrive\\documenti\\progetti\\progetto_bike\\.venv\\lib\\site-packages (from pandas>=2.0.0->geopandas) (2025.2)\n",
      "Requirement already satisfied: tzdata>=2022.7 in c:\\users\\apera\\onedrive\\documenti\\progetti\\progetto_bike\\.venv\\lib\\site-packages (from pandas>=2.0.0->geopandas) (2025.2)\n",
      "Requirement already satisfied: certifi in c:\\users\\apera\\onedrive\\documenti\\progetti\\progetto_bike\\.venv\\lib\\site-packages (from pyogrio>=0.7.2->geopandas) (2025.8.3)\n",
      "Requirement already satisfied: six>=1.5 in c:\\users\\apera\\onedrive\\documenti\\progetti\\progetto_bike\\.venv\\lib\\site-packages (from python-dateutil>=2.8.2->pandas>=2.0.0->geopandas) (1.17.0)\n",
      "^C\n",
      "Requirement already satisfied: osmnx in c:\\users\\apera\\onedrive\\documenti\\progetti\\progetto_bike\\.venv\\lib\\site-packages (2.0.5)\n",
      "Requirement already satisfied: geopandas>=1.0.1 in c:\\users\\apera\\onedrive\\documenti\\progetti\\progetto_bike\\.venv\\lib\\site-packages (from osmnx) (1.1.1)\n",
      "Requirement already satisfied: networkx>=2.5 in c:\\users\\apera\\onedrive\\documenti\\progetti\\progetto_bike\\.venv\\lib\\site-packages (from osmnx) (3.5)\n",
      "Requirement already satisfied: numpy>=1.22 in c:\\users\\apera\\onedrive\\documenti\\progetti\\progetto_bike\\.venv\\lib\\site-packages (from osmnx) (2.3.1)\n",
      "Requirement already satisfied: pandas>=1.4 in c:\\users\\apera\\onedrive\\documenti\\progetti\\progetto_bike\\.venv\\lib\\site-packages (from osmnx) (2.3.1)\n",
      "Requirement already satisfied: requests>=2.27 in c:\\users\\apera\\onedrive\\documenti\\progetti\\progetto_bike\\.venv\\lib\\site-packages (from osmnx) (2.32.4)\n",
      "Requirement already satisfied: shapely>=2.0 in c:\\users\\apera\\onedrive\\documenti\\progetti\\progetto_bike\\.venv\\lib\\site-packages (from osmnx) (2.1.1)\n",
      "Requirement already satisfied: pyogrio>=0.7.2 in c:\\users\\apera\\onedrive\\documenti\\progetti\\progetto_bike\\.venv\\lib\\site-packages (from geopandas>=1.0.1->osmnx) (0.11.1)\n",
      "Requirement already satisfied: packaging in c:\\users\\apera\\onedrive\\documenti\\progetti\\progetto_bike\\.venv\\lib\\site-packages (from geopandas>=1.0.1->osmnx) (25.0)\n",
      "Requirement already satisfied: pyproj>=3.5.0 in c:\\users\\apera\\onedrive\\documenti\\progetti\\progetto_bike\\.venv\\lib\\site-packages (from geopandas>=1.0.1->osmnx) (3.7.1)\n",
      "Requirement already satisfied: python-dateutil>=2.8.2 in c:\\users\\apera\\onedrive\\documenti\\progetti\\progetto_bike\\.venv\\lib\\site-packages (from pandas>=1.4->osmnx) (2.9.0.post0)\n",
      "Requirement already satisfied: pytz>=2020.1 in c:\\users\\apera\\onedrive\\documenti\\progetti\\progetto_bike\\.venv\\lib\\site-packages (from pandas>=1.4->osmnx) (2025.2)\n",
      "Requirement already satisfied: tzdata>=2022.7 in c:\\users\\apera\\onedrive\\documenti\\progetti\\progetto_bike\\.venv\\lib\\site-packages (from pandas>=1.4->osmnx) (2025.2)\n",
      "Requirement already satisfied: certifi in c:\\users\\apera\\onedrive\\documenti\\progetti\\progetto_bike\\.venv\\lib\\site-packages (from pyogrio>=0.7.2->geopandas>=1.0.1->osmnx) (2025.8.3)\n",
      "Requirement already satisfied: six>=1.5 in c:\\users\\apera\\onedrive\\documenti\\progetti\\progetto_bike\\.venv\\lib\\site-packages (from python-dateutil>=2.8.2->pandas>=1.4->osmnx) (1.17.0)\n",
      "Requirement already satisfied: charset_normalizer<4,>=2 in c:\\users\\apera\\onedrive\\documenti\\progetti\\progetto_bike\\.venv\\lib\\site-packages (from requests>=2.27->osmnx) (3.4.2)\n",
      "Requirement already satisfied: idna<4,>=2.5 in c:\\users\\apera\\onedrive\\documenti\\progetti\\progetto_bike\\.venv\\lib\\site-packages (from requests>=2.27->osmnx) (3.10)\n",
      "Requirement already satisfied: urllib3<3,>=1.21.1 in c:\\users\\apera\\onedrive\\documenti\\progetti\\progetto_bike\\.venv\\lib\\site-packages (from requests>=2.27->osmnx) (2.5.0)\n",
      "Requirement already satisfied: scipy in c:\\users\\apera\\onedrive\\documenti\\progetti\\progetto_bike\\.venv\\lib\\site-packages (1.16.1)\n",
      "Requirement already satisfied: numpy<2.6,>=1.25.2 in c:\\users\\apera\\onedrive\\documenti\\progetti\\progetto_bike\\.venv\\lib\\site-packages (from scipy) (2.3.1)\n"
     ]
    },
    {
     "name": "stderr",
     "output_type": "stream",
     "text": [
      "ERROR: unknown command \"installn\" - maybe you meant \"install\"\n",
      "\n"
     ]
    },
    {
     "name": "stdout",
     "output_type": "stream",
     "text": [
      "Requirement already satisfied: osmnx in c:\\users\\apera\\onedrive\\documenti\\progetti\\progetto_bike\\.venv\\lib\\site-packages (2.0.5)\n",
      "Requirement already satisfied: geopandas>=1.0.1 in c:\\users\\apera\\onedrive\\documenti\\progetti\\progetto_bike\\.venv\\lib\\site-packages (from osmnx) (1.1.1)\n",
      "Requirement already satisfied: networkx>=2.5 in c:\\users\\apera\\onedrive\\documenti\\progetti\\progetto_bike\\.venv\\lib\\site-packages (from osmnx) (3.5)\n",
      "Requirement already satisfied: numpy>=1.22 in c:\\users\\apera\\onedrive\\documenti\\progetti\\progetto_bike\\.venv\\lib\\site-packages (from osmnx) (2.3.1)\n",
      "Requirement already satisfied: pandas>=1.4 in c:\\users\\apera\\onedrive\\documenti\\progetti\\progetto_bike\\.venv\\lib\\site-packages (from osmnx) (2.3.1)\n",
      "Requirement already satisfied: requests>=2.27 in c:\\users\\apera\\onedrive\\documenti\\progetti\\progetto_bike\\.venv\\lib\\site-packages (from osmnx) (2.32.4)\n",
      "Requirement already satisfied: shapely>=2.0 in c:\\users\\apera\\onedrive\\documenti\\progetti\\progetto_bike\\.venv\\lib\\site-packages (from osmnx) (2.1.1)\n",
      "Requirement already satisfied: pyogrio>=0.7.2 in c:\\users\\apera\\onedrive\\documenti\\progetti\\progetto_bike\\.venv\\lib\\site-packages (from geopandas>=1.0.1->osmnx) (0.11.1)\n",
      "Requirement already satisfied: packaging in c:\\users\\apera\\onedrive\\documenti\\progetti\\progetto_bike\\.venv\\lib\\site-packages (from geopandas>=1.0.1->osmnx) (25.0)\n",
      "Requirement already satisfied: pyproj>=3.5.0 in c:\\users\\apera\\onedrive\\documenti\\progetti\\progetto_bike\\.venv\\lib\\site-packages (from geopandas>=1.0.1->osmnx) (3.7.1)\n",
      "Requirement already satisfied: python-dateutil>=2.8.2 in c:\\users\\apera\\onedrive\\documenti\\progetti\\progetto_bike\\.venv\\lib\\site-packages (from pandas>=1.4->osmnx) (2.9.0.post0)\n",
      "Requirement already satisfied: pytz>=2020.1 in c:\\users\\apera\\onedrive\\documenti\\progetti\\progetto_bike\\.venv\\lib\\site-packages (from pandas>=1.4->osmnx) (2025.2)\n",
      "Requirement already satisfied: tzdata>=2022.7 in c:\\users\\apera\\onedrive\\documenti\\progetti\\progetto_bike\\.venv\\lib\\site-packages (from pandas>=1.4->osmnx) (2025.2)\n",
      "Requirement already satisfied: certifi in c:\\users\\apera\\onedrive\\documenti\\progetti\\progetto_bike\\.venv\\lib\\site-packages (from pyogrio>=0.7.2->geopandas>=1.0.1->osmnx) (2025.8.3)\n",
      "Requirement already satisfied: six>=1.5 in c:\\users\\apera\\onedrive\\documenti\\progetti\\progetto_bike\\.venv\\lib\\site-packages (from python-dateutil>=2.8.2->pandas>=1.4->osmnx) (1.17.0)\n",
      "Requirement already satisfied: charset_normalizer<4,>=2 in c:\\users\\apera\\onedrive\\documenti\\progetti\\progetto_bike\\.venv\\lib\\site-packages (from requests>=2.27->osmnx) (3.4.2)\n",
      "Requirement already satisfied: idna<4,>=2.5 in c:\\users\\apera\\onedrive\\documenti\\progetti\\progetto_bike\\.venv\\lib\\site-packages (from requests>=2.27->osmnx) (3.10)\n",
      "Requirement already satisfied: urllib3<3,>=1.21.1 in c:\\users\\apera\\onedrive\\documenti\\progetti\\progetto_bike\\.venv\\lib\\site-packages (from requests>=2.27->osmnx) (2.5.0)\n",
      "Requirement already satisfied: scipy in c:\\users\\apera\\onedrive\\documenti\\progetti\\progetto_bike\\.venv\\lib\\site-packages (1.16.1)\n",
      "Requirement already satisfied: numpy<2.6,>=1.25.2 in c:\\users\\apera\\onedrive\\documenti\\progetti\\progetto_bike\\.venv\\lib\\site-packages (from scipy) (2.3.1)\n"
     ]
    },
    {
     "name": "stderr",
     "output_type": "stream",
     "text": [
      "ERROR: unknown command \"installn\" - maybe you meant \"install\"\n",
      "\n"
     ]
    }
   ],
   "source": [
    "!pip install geopandas\n",
    "!pip install osmnx\n",
    "!pip install scipy\n",
    "!pip installn networkx!pip install geopandas\n",
    "!pip install osmnx\n",
    "!pip install scipy\n",
    "!pip installn networkx"
   ]
  },
  {
   "cell_type": "code",
   "execution_count": 1,
   "id": "85646149",
   "metadata": {},
   "outputs": [],
   "source": [
    "import pickle\n",
    "\n",
    "import geopandas as gpd\n",
    "import networkx as nx\n",
    "from networkx.algorithms.approximation import steiner_tree\n",
    "import osmnx as ox\n",
    "\n",
    "from my_paths import *\n",
    "import Graph_functions"
   ]
  },
  {
   "cell_type": "markdown",
   "id": "8db24b64",
   "metadata": {},
   "source": [
    "Analisi istruzione no pesi\n"
   ]
  },
  {
   "cell_type": "code",
   "execution_count": 8,
   "id": "53d4250f",
   "metadata": {},
   "outputs": [],
   "source": [
    "gdf_list = [\n",
    "    {\"gdf\":  gpd.read_file(PATH_BIBLIOTECHE_CLEAN),\n",
    "     \"tipo\": \"Biblioteche\",\n",
    "     \"gdf\":  gpd.read_file(PATH_SCUOLE_CLEAN),\n",
    "     \"tipo\": \"Scuole\"}\n",
    "     ]\n",
    "Graph_functions.auto_analysis_poi(gdf_list, custom_weights={\"default\": 1}, PATH_GEOJSON=\"../Data/Clean/Analisi/Istruzione_nopesi.geojson\")"
   ]
  },
  {
   "cell_type": "code",
   "execution_count": 9,
   "id": "3f4d95aa",
   "metadata": {},
   "outputs": [
    {
     "name": "stderr",
     "output_type": "stream",
     "text": [
      "c:\\Users\\apera\\OneDrive\\Documenti\\progetti\\Progetto-Bike\\.venv\\Lib\\site-packages\\pyogrio\\raw.py:198: RuntimeWarning: driver GeoJSON does not support open option DRIVER\n",
      "  return ogr_read(\n"
     ]
    }
   ],
   "source": [
    "gdf_analisi_istruzione_nopesi = gpd.read_file(\"../Data/Clean/Analisi/Istruzione_nopesi.geojson\", driver= \"GeoJSON\")"
   ]
  },
  {
   "cell_type": "code",
   "execution_count": 10,
   "id": "fe4e6f84",
   "metadata": {},
   "outputs": [],
   "source": [
    "# Eliminiamo connessioni \"artificiali\" usate per connettere i \"poi\" al grafo delle strade\n",
    "gdf_analisi_istruzione_nopesi_mod = gdf_analisi_istruzione_nopesi[gdf_analisi_istruzione_nopesi[\"artificial\"] != True]\n",
    "\n",
    "# Leggi i due POI\n",
    "gdf_scuole = gpd.read_file(PATH_SCUOLE_CLEAN)\n",
    "gdf_biblioteche = gpd.read_file(PATH_BIBLIOTECHE_CLEAN)\n",
    "\n",
    "# Unisci in un'unica geometria\n",
    "geometry_poi = gpd.GeoSeries(\n",
    "    gpd.pd.concat([gdf_scuole.geometry, gdf_biblioteche.geometry], ignore_index=True)\n",
    ").union_all()\n",
    "\n",
    "# Filtra il GDF di partenza\n",
    "gdf_senza_poi = []\n",
    "for idx, row in gdf_analisi_istruzione_nopesi_mod.iterrows():\n",
    "    if not geometry_poi.contains(row.geometry):\n",
    "        gdf_senza_poi.append(row)\n",
    "\n",
    "# Crea nuovo GeoDataFrame\n",
    "gdf_analisi_istruzione_nopesi_mod = gpd.GeoDataFrame(gdf_senza_poi, crs=CRS_GRAD)\n",
    "\n",
    "# Salviamo per test di visualizzazione su kepler\n",
    "gdf_analisi_istruzione_nopesi_mod.to_file(\"../Data/Clean/Analisi/istruzione_nopesi_senza_poi.geojson\", driver=\"GeoJSON\")\n",
    "\n",
    "# Raggruppiamo per \"highway\" e calcoliamo (in km -> /1000) la lunghezza complessiva delle strade\n",
    "gdf_analisi_istruzione_nopesi_mod_most_highways = gdf_analisi_istruzione_nopesi_mod.to_crs(CRS_METR).groupby(\"highway\").agg({\n",
    "    \"length\": lambda x: sum(x/1000)\n",
    "    }).sort_values(by=\"length\", ascending=False)"
   ]
  },
  {
   "cell_type": "code",
   "execution_count": 11,
   "id": "24ffaec5",
   "metadata": {},
   "outputs": [
    {
     "name": "stdout",
     "output_type": "stream",
     "text": [
      "                              length\n",
      "highway                             \n",
      "footway                   121.765413\n",
      "residential                42.096350\n",
      "unclassified               23.689185\n",
      "tertiary                   19.014940\n",
      "service                     9.596027\n",
      "secondary                   8.968093\n",
      "cycleway                    6.613318\n",
      "primary                     3.950768\n",
      "pedestrian                  3.414012\n",
      "track                       2.148947\n",
      "motorway                    1.380705\n",
      "motorway_link               1.333613\n",
      "footway steps               1.080161\n",
      "footway service             0.975948\n",
      "construction                0.656266\n",
      "residential footway         0.483355\n",
      "path                        0.427215\n",
      "residential service         0.330508\n",
      "residential pedestrian      0.268137\n",
      "unclassified path           0.240288\n",
      "footway pedestrian          0.232494\n",
      "unclassified residential    0.220694\n",
      "track service path          0.217139\n",
      "tertiary_link               0.205061\n",
      "residential cycleway        0.162053\n",
      "trunk_link                  0.138373\n",
      "steps                       0.138340\n",
      "unclassified footway        0.138188\n",
      "unclassified track          0.124803\n",
      "unclassified tertiary       0.107652\n",
      "living_street               0.086991\n",
      "track service               0.084233\n",
      "secondary_link              0.082445\n",
      "primary_link                0.067560\n",
      "footway platform            0.063848\n",
      "service path                0.063841\n",
      "footway path                0.055518\n",
      "service pedestrian          0.043467\n",
      "tertiary tertiary_link      0.037768\n",
      "Tot: 250.70371968731462\n"
     ]
    }
   ],
   "source": [
    "# Stampiamo il risultato\n",
    "print(gdf_analisi_istruzione_nopesi_mod_most_highways)\n",
    "print(f\"Tot: {gdf_analisi_istruzione_nopesi_mod_most_highways[\"length\"].sum()}\")"
   ]
  }
 ],
 "metadata": {
  "kernelspec": {
   "display_name": ".venv",
   "language": "python",
   "name": "python3"
  },
  "language_info": {
   "codemirror_mode": {
    "name": "ipython",
    "version": 3
   },
   "file_extension": ".py",
   "mimetype": "text/x-python",
   "name": "python",
   "nbconvert_exporter": "python",
   "pygments_lexer": "ipython3",
   "version": "3.13.5"
  }
 },
 "nbformat": 4,
 "nbformat_minor": 5
}
