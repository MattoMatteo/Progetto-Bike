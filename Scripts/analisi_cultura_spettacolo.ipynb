{
 "cells": [
  {
   "cell_type": "code",
   "execution_count": 1,
   "id": "ae17b23c",
   "metadata": {},
   "outputs": [],
   "source": [
    "import pickle\n",
    "import json\n",
    "\n",
    "import geopandas as gpd\n",
    "import networkx as nx\n",
    "from networkx.algorithms.approximation import steiner_tree\n",
    "import osmnx as ox\n",
    "\n",
    "from my_paths import *\n",
    "import Graph_functions"
   ]
  },
  {
   "cell_type": "markdown",
   "id": "7f3d73bc",
   "metadata": {},
   "source": [
    "ANALISI CULTURA E SPETTACOLO"
   ]
  },
  {
   "cell_type": "markdown",
   "id": "1a3a9793",
   "metadata": {},
   "source": [
    "Utilizzeremo i seguenti dati: \n",
    "\n",
    "1. **Musei**\n",
    "2. **Cinema**\n",
    "3. **Teatri**\n",
    "\n",
    "Saranno i nostri \"poi\", cioè \"Point of Interest\"\n",
    "che verranno aggiunti al Grafo della rete \n",
    "Ciclabile/Stradale per la ricerca di percorsi"
   ]
  },
  {
   "cell_type": "code",
   "execution_count": 2,
   "id": "f6e826ad",
   "metadata": {},
   "outputs": [],
   "source": [
    "gdf_list = [\n",
    "    {\"gdf\":  gpd.read_file(PATH_MUSEI_CLEAN),\n",
    "     \"tipo\": \"Musei\",\n",
    "     \"gdf\":  gpd.read_file(PATH_CINEMA_CLEAN),\n",
    "     \"tipo\": \"Cinema\", \n",
    "     \"gdf\":  gpd.read_file(PATH_TEATRI_CLEAN),\n",
    "     \"tipo\": \"Teatri\"}\n",
    "     ]\n",
    "Graph_functions.auto_analysis_poi(gdf_list, PATH_GEOJSON=\"../Data/Clean/Analisi/Cultura_e_spettacolo.geojson\")"
   ]
  },
  {
   "cell_type": "code",
   "execution_count": 4,
   "id": "b411d53d",
   "metadata": {},
   "outputs": [
    {
     "name": "stderr",
     "output_type": "stream",
     "text": [
      "c:\\Users\\apera\\OneDrive\\Documenti\\progetti\\Progetto-Bike\\.venv\\Lib\\site-packages\\pyogrio\\raw.py:198: RuntimeWarning: driver GeoJSON does not support open option DRIVER\n",
      "  return ogr_read(\n"
     ]
    }
   ],
   "source": [
    "gdf_analisi_cultura_spettacolo = gpd.read_file(\"../Data/Clean/Analisi/Cultura_e_spettacolo.geojson\", driver= \"GeoJSON\")"
   ]
  },
  {
   "cell_type": "code",
   "execution_count": 9,
   "id": "429b2890",
   "metadata": {},
   "outputs": [],
   "source": [
    "# Eliminiamo connessioni \"artificiali\" usate per connettere i \"poi\" al grafo delle strade\n",
    "gdf_analisi_cultura_spettacolo_mod = gdf_analisi_cultura_spettacolo[gdf_analisi_cultura_spettacolo[\"artificial\"] != True]\n",
    "\n",
    "# Leggi i due POI\n",
    "gdf_musei = gpd.read_file(PATH_MUSEI_CLEAN)\n",
    "gdf_teatri = gpd.read_file(PATH_TEATRI_CLEAN)\n",
    "gdf_cinema = gpd.read_file(PATH_CINEMA_CLEAN)\n",
    "\n",
    "# Unisci in un'unica geometria\n",
    "geometry_poi = gpd.GeoSeries(\n",
    "    gpd.pd.concat([gdf_cinema.geometry, gdf_teatri.geometry, gdf_musei.geometry], ignore_index=True)\n",
    ").union_all()\n",
    "\n",
    "# Filtra il GDF di partenza\n",
    "gdf_senza_poi = []\n",
    "for idx, row in gdf_analisi_cultura_spettacolo.iterrows():\n",
    "    if not geometry_poi.contains(row.geometry):\n",
    "        gdf_senza_poi.append(row)\n",
    "\n",
    "# Crea nuovo GeoDataFrame\n",
    "gdf_analisi_cultura_spettacolo_mod = gpd.GeoDataFrame(gdf_senza_poi, crs=CRS_GRAD)\n",
    "\n",
    "# Salviamo per test di visualizzazione su kepler\n",
    "gdf_analisi_cultura_spettacolo_mod.to_file(\"../Data/Clean/Analisi/Cultura_e_spettacolo_senza_poi.geojson\", driver=\"GeoJSON\")\n",
    "\n",
    "# Raggruppiamo per \"highway\" e calcoliamo (in km -> /1000) la lunghezza complessiva delle strade\n",
    "gdf_analisi_cultura_spettacolo_mod_most_highways = gdf_analisi_cultura_spettacolo_mod.to_crs(CRS_METR).groupby(\"highway\").agg({\n",
    "    \"length\": lambda x: sum(x/1000)\n",
    "    }).sort_values(by=\"length\", ascending=False)"
   ]
  },
  {
   "cell_type": "code",
   "execution_count": 10,
   "id": "e762af4f",
   "metadata": {},
   "outputs": [
    {
     "name": "stdout",
     "output_type": "stream",
     "text": [
      "                             length\n",
      "highway                            \n",
      "cycleway                  32.205970\n",
      "footway                   20.011504\n",
      "residential                8.810256\n",
      "tertiary                   4.989268\n",
      "secondary                  4.598090\n",
      "primary                    1.666067\n",
      "pedestrian                 0.914740\n",
      "footway steps              0.381345\n",
      "service                    0.265643\n",
      "unclassified               0.204832\n",
      "secondary_link             0.172719\n",
      "residential cycleway       0.116689\n",
      "residential pedestrian     0.097656\n",
      "primary_link               0.082050\n",
      "footway service            0.078886\n",
      "unclassified residential   0.066621\n",
      "cycleway footway           0.058601\n",
      "path                       0.001734\n",
      "Tot: 74.7226731089275\n"
     ]
    }
   ],
   "source": [
    "# Stampiamo il risultato\n",
    "print(gdf_analisi_cultura_spettacolo_mod_most_highways)\n",
    "print(f\"Tot: {gdf_analisi_cultura_spettacolo_mod_most_highways[\"length\"].sum()}\")"
   ]
  }
 ],
 "metadata": {
  "kernelspec": {
   "display_name": ".venv",
   "language": "python",
   "name": "python3"
  },
  "language_info": {
   "codemirror_mode": {
    "name": "ipython",
    "version": 3
   },
   "file_extension": ".py",
   "mimetype": "text/x-python",
   "name": "python",
   "nbconvert_exporter": "python",
   "pygments_lexer": "ipython3",
   "version": "3.13.5"
  }
 },
 "nbformat": 4,
 "nbformat_minor": 5
}
