{
 "cells": [
  {
   "cell_type": "code",
   "execution_count": 1,
   "id": "2096104f",
   "metadata": {},
   "outputs": [],
   "source": [
    "import pickle\n",
    "import json\n",
    "\n",
    "import geopandas as gpd\n",
    "import networkx as nx\n",
    "from networkx.algorithms.approximation import steiner_tree\n",
    "import osmnx as ox\n",
    "\n",
    "from my_paths import *\n",
    "import Graph_functions"
   ]
  },
  {
   "cell_type": "markdown",
   "id": "c7bd0425",
   "metadata": {},
   "source": [
    "ANALISI OSPEDALI SENZA PESI"
   ]
  },
  {
   "cell_type": "markdown",
   "id": "d424ef39",
   "metadata": {},
   "source": [
    "Utilizzeremo i seguenti dati: \n",
    "\n",
    "1. **Ospedali**\n",
    "\n",
    "\n",
    "Saranno i nostri \"poi\", cioè \"Point of Interest\"\n",
    "che verranno aggiunti al Grafo della rete \n",
    "Ciclabile/Stradale per la ricerca di percorsi"
   ]
  },
  {
   "cell_type": "code",
   "execution_count": 2,
   "id": "5205b094",
   "metadata": {},
   "outputs": [],
   "source": [
    "gdf_list = [\n",
    "    {\"gdf\":  gpd.read_file(PATH_OSPEDALI_CLEAN),\n",
    "     \"tipo\": \"Ospedali\"}\n",
    "     ]\n",
    "Graph_functions.auto_analysis_poi(gdf_list, custom_weights={\"Default\": 1}, PATH_GEOJSON = \"../Data/Clean/Analisi/Ospedali_nopesi.geojson\")"
   ]
  },
  {
   "cell_type": "code",
   "execution_count": 3,
   "id": "a77fd607",
   "metadata": {},
   "outputs": [
    {
     "name": "stderr",
     "output_type": "stream",
     "text": [
      "c:\\Users\\apera\\OneDrive\\Documenti\\progetti\\Progetto-Bike\\.venv\\Lib\\site-packages\\pyogrio\\raw.py:198: RuntimeWarning: driver GeoJSON does not support open option DRIVER\n",
      "  return ogr_read(\n"
     ]
    }
   ],
   "source": [
    "gdf_analisi_ospedali_nopesi = gpd.read_file(\"../Data/Clean/Analisi/Ospedali_nopesi.geojson\", driver= \"GeoJSON\")"
   ]
  },
  {
   "cell_type": "code",
   "execution_count": 4,
   "id": "381b11a7",
   "metadata": {},
   "outputs": [],
   "source": [
    "# Eliminiamo connessioni \"artificiali\" usate per connettere i \"poi\" al grafo delle strade\n",
    "gdf_analisi_ospedali_nopesi_mod = gdf_analisi_ospedali_nopesi[gdf_analisi_ospedali_nopesi[\"artificial\"] != True]\n",
    "\n",
    "# Eliminiamo i percorsi completamente contenuti all'interno dei \"poi\" poligonari: parchi\n",
    "gdf = gpd.read_file(PATH_OSPEDALI_CLEAN)\n",
    "geometry_parchi = gdf.union_all()\n",
    "gdf_senza_poi = []\n",
    "for idx, row in gdf_analisi_ospedali_nopesi_mod.iterrows():\n",
    "    if not geometry_parchi.contains(row.geometry):\n",
    "        gdf_senza_poi.append(row)\n",
    "gdf_analisi_ospedali_nopesi_mod = gpd.GeoDataFrame(gdf_senza_poi, crs=CRS_GRAD)\n",
    "\n",
    "# Salviamo per test di visualizzazione su kepler\n",
    "gdf_analisi_ospedali_nopesi_mod.to_file(\"../Data/Clean/Analisi/ospedali_nopesi_senza_poi.geojson\")\n",
    "\n",
    "# Raggruppiamo per \"highway\" e calcoliamo (in km -> /1000) la lunghezza complessiva delle strade\n",
    "gdf_analisi_ospedali_nopesi_mod_most_highways = gdf_analisi_ospedali_nopesi_mod.to_crs(CRS_METR).groupby(\"highway\").agg({\n",
    "    \"length\": lambda x: sum(x/1000)\n",
    "    }).sort_values(by=\"length\", ascending=False)"
   ]
  },
  {
   "cell_type": "code",
   "execution_count": 5,
   "id": "10f3c729",
   "metadata": {},
   "outputs": [
    {
     "name": "stdout",
     "output_type": "stream",
     "text": [
      "                              length\n",
      "highway                             \n",
      "footway                    18.235176\n",
      "tertiary                   14.042032\n",
      "residential                12.269770\n",
      "secondary                   8.275439\n",
      "unclassified                7.910278\n",
      "primary                     5.066066\n",
      "cycleway                    4.725404\n",
      "service                     3.901186\n",
      "track                       2.363193\n",
      "proposed                    0.638258\n",
      "pedestrian                  0.414529\n",
      "footway steps               0.407917\n",
      "track path                  0.319314\n",
      "path                        0.218419\n",
      "cycleway pedestrian         0.174616\n",
      "residential secondary       0.146541\n",
      "residential footway         0.142077\n",
      "footway service             0.120566\n",
      "unclassified primary_link   0.087553\n",
      "cycleway footway            0.087391\n",
      "primary_link                0.086207\n",
      "footway path                0.083698\n",
      "tertiary_link               0.082140\n",
      "steps                       0.061223\n",
      "unclassified residential    0.046039\n",
      "unclassified footway        0.037333\n",
      "cycleway service            0.030881\n",
      "residential service         0.024119\n",
      "Tot: 79.9973642987185\n"
     ]
    }
   ],
   "source": [
    "# Stampiamo il risultato\n",
    "print(gdf_analisi_ospedali_nopesi_mod_most_highways)\n",
    "print(f\"Tot: {gdf_analisi_ospedali_nopesi_mod_most_highways[\"length\"].sum()}\")"
   ]
  }
 ],
 "metadata": {
  "kernelspec": {
   "display_name": ".venv",
   "language": "python",
   "name": "python3"
  },
  "language_info": {
   "codemirror_mode": {
    "name": "ipython",
    "version": 3
   },
   "file_extension": ".py",
   "mimetype": "text/x-python",
   "name": "python",
   "nbconvert_exporter": "python",
   "pygments_lexer": "ipython3",
   "version": "3.13.5"
  }
 },
 "nbformat": 4,
 "nbformat_minor": 5
}
