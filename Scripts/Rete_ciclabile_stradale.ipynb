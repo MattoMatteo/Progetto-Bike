{
 "cells": [
  {
   "cell_type": "markdown",
   "id": "0a75db66",
   "metadata": {},
   "source": [
    "# Info bici"
   ]
  },
  {
   "cell_type": "code",
   "execution_count": 1,
   "id": "76a32828",
   "metadata": {},
   "outputs": [],
   "source": [
    "import json\n",
    "import pickle\n",
    "from shapely import MultiLineString, LineString, Point\n",
    "\n",
    "import geopandas as gpd\n",
    "import osmnx as ox\n",
    "import networkx as nx\n",
    "\n",
    "from my_paths import *\n",
    "import Graph_functions"
   ]
  },
  {
   "cell_type": "markdown",
   "id": "22fbe7ea",
   "metadata": {},
   "source": [
    "## Strade/Ciclabili"
   ]
  },
  {
   "cell_type": "markdown",
   "id": "e61d6978",
   "metadata": {},
   "source": [
    "### Piste ciclabili"
   ]
  },
  {
   "cell_type": "markdown",
   "id": "c9cf29d0",
   "metadata": {},
   "source": [
    "Prima fase di pulizia del geojson raw"
   ]
  },
  {
   "cell_type": "code",
   "execution_count": 2,
   "id": "656286c9",
   "metadata": {},
   "outputs": [],
   "source": [
    "gdf_ciclabili_raw = gpd.read_file(PATH_CICLABILI_RAW)\n",
    "gdf_ciclabili_staging = gdf_ciclabili_raw.copy()\n",
    "\n",
    "# Convertiamo alcuni tipi\n",
    "gdf_ciclabili_staging[\"geometry\"] = gdf_ciclabili_staging[\"geometry\"].apply(lambda x: x.geoms[0])\n",
    "gdf_ciclabili_staging[\"fine_lavor\"] = gdf_ciclabili_staging[\"fine_lavor\"].astype(int)\n",
    "gdf_ciclabili_staging[\"lunghezza\"] = gdf_ciclabili_staging[\"lunghezza\"].astype(int)\n",
    "gdf_ciclabili_staging = gdf_ciclabili_staging.drop([\"id_amat\", \"id_via\",\"gerarchia\"], axis=1)\n",
    "\n",
    "gdf_ciclabili_staging = gpd.GeoDataFrame(gdf_ciclabili_staging, geometry=\"geometry\")"
   ]
  },
  {
   "cell_type": "markdown",
   "id": "518e7b52",
   "metadata": {},
   "source": [
    "Creazione del grafo + archi di congiunzione tra nodi molto vicini (5 metri).\n",
    "Aggiunta di alcuni attributi utili:\n",
    "- **\"tipo\"** = Per identificare in futuro la provenienza degli archi.\n",
    "- **\"artificiale\"** = \"False\" se riferiti a veri percorsi presi dal geojson, \"True\" se aggiunti per scopi di calcolo percorsi.\n",
    "N.B: \"geojson_to_graph()\" manterrà all'interno degli archi del grafo anche tutti gli attributi delle colonne del gdf."
   ]
  },
  {
   "cell_type": "code",
   "execution_count": 3,
   "id": "bcdc9e4b",
   "metadata": {},
   "outputs": [],
   "source": [
    "G_ciclabili = Graph_functions.geojson_to_graph(gdf_ciclabili_staging, weight_moltiplicator=0, tipo = \"Ciclabile\", artificiale = False).to_undirected()\n",
    "G_ciclabili = Graph_functions.add_edge_near_nodes(G_ciclabili, weight_moltiplicator = 0, tipo = \"Ciclabile\", artificiale = True)"
   ]
  },
  {
   "cell_type": "markdown",
   "id": "ecedc1e3",
   "metadata": {},
   "source": [
    "Salviamo grafo (in pickle) e geojson in staging"
   ]
  },
  {
   "cell_type": "code",
   "execution_count": 4,
   "id": "3241c61b",
   "metadata": {},
   "outputs": [],
   "source": [
    "gdf_edges = ox.graph_to_gdfs(G_ciclabili, edges=True, nodes=False)\n",
    "gdf_edges.to_file(PATH_CICLABILI_GEOJSON_STAGING, driver=\"GeoJSON\") # Anche questo andrebbe ripulito\n",
    "with open(PATH_CICLABILI_PICKLE_STAGING, \"wb\") as f:\n",
    "    pickle.dump(G_ciclabili, f)"
   ]
  },
  {
   "cell_type": "markdown",
   "id": "9309deea",
   "metadata": {},
   "source": [
    "### Strade ciclabili"
   ]
  },
  {
   "cell_type": "markdown",
   "id": "369bcada",
   "metadata": {},
   "source": [
    "#### Ingestion (openstreet maps)"
   ]
  },
  {
   "cell_type": "code",
   "execution_count": 5,
   "id": "49d9dc03",
   "metadata": {},
   "outputs": [],
   "source": [
    "place = \"Milano, Italy\"\n",
    "\n",
    "bike_filter = (\n",
    "    '[\"highway\"][\"bicycle\"!~\"no\"][\"bicycle\"!~\"dismount\"]'\n",
    ")\n",
    "G_ox_strade = ox.graph_from_place(place, network_type='bike', custom_filter=bike_filter)\n",
    "with open(PATH_STRADE_CICLABILI_PICKLE_RAW, \"wb\") as f:\n",
    "    pickle.dump(G_ox_strade, f)"
   ]
  },
  {
   "cell_type": "markdown",
   "id": "11bddcc0",
   "metadata": {},
   "source": [
    "#### ETL "
   ]
  },
  {
   "cell_type": "markdown",
   "id": "c05eb653",
   "metadata": {},
   "source": [
    "1. Scelta attributi da mantenere\n",
    "2. Impostare pesi (weight) in base a: Lunghezza strada e tipo di strada\n",
    "3. Aggiunti di attributi custom, come:\n",
    "    - **\"artificiale\"** = Di base \"False\" ma sarà \"True\" con aggiunta di archi ad hoc a scopi di calcolo percorsi minimi\n",
    "    - **\"geometry\"** = Manteniamo il dato originale della geometria all'interno degli archi. Utile per conversione in gdf.\n",
    "    - **\"tipo\"** = Attributo per distinguere la provenienza degli archi. Utile quando verranno uniti in un solo grafo.\n",
    "4. Aggiunta di archi artificiali per connettere nodi molto vicini non connessi."
   ]
  },
  {
   "cell_type": "code",
   "execution_count": 6,
   "id": "ae1289aa",
   "metadata": {},
   "outputs": [],
   "source": [
    "with open(PATH_STRADE_CICLABILI_PICKLE_RAW, \"rb\") as f:\n",
    "    G_strade = pickle.load(f)\n",
    "\n",
    "for u, v, k, data in G_strade.edges(data=True, keys=True):\n",
    "    # Scelgo gli attributi da mantenere\n",
    "    new_data = {}\n",
    "    new_data['length'] = data['length']\n",
    "    new_data['name'] = data.get('name', None)\n",
    "    new_data['weight'] = data['length'] * 1 # Per ora\n",
    "    new_data[\"tipo\"] = \"Strade_ciclabili\"\n",
    "    new_data[\"artificiale\"] = False\n",
    "    new_data[\"geometry\"] = data.get(\"geometry\", LineString([(G_strade.nodes[u][\"x\"], G_strade.nodes[u][\"y\"]),\n",
    "                                        (G_strade.nodes[v][\"x\"], G_strade.nodes[v][\"y\"])]))\n",
    "    data.clear()\n",
    "    data.update(new_data)\n",
    "\n",
    "G_strade = Graph_functions.add_edge_near_nodes(G_strade.to_undirected(), # undirected -> Doppio senso\n",
    "                                               weight_moltiplicator=1,  # Per ora\n",
    "                                               tipo = \"Strade_ciclabili\", artificiale = True)"
   ]
  },
  {
   "cell_type": "markdown",
   "id": "773ddca3",
   "metadata": {},
   "source": [
    "Salvataggio in staging, sia grafo che geojson."
   ]
  },
  {
   "cell_type": "code",
   "execution_count": 7,
   "id": "832886fa",
   "metadata": {},
   "outputs": [],
   "source": [
    "gdf_edges = ox.graph_to_gdfs(G_strade, edges=True, nodes=False)\n",
    "\n",
    "gdf_edges.to_file(PATH_STRADE_CICLABILI_GEOJSON_STAGING, driver=\"GeoJSON\")\n",
    "\n",
    "with open(PATH_STRADE_CICLABILI_PICKLE_STAGING, \"wb\") as f:\n",
    "    pickle.dump(G_strade, f)"
   ]
  },
  {
   "cell_type": "markdown",
   "id": "ea1fcf94",
   "metadata": {},
   "source": [
    "### Unione Ciclabili e Strade"
   ]
  },
  {
   "cell_type": "markdown",
   "id": "c3c76a6e",
   "metadata": {},
   "source": [
    "Load da staging i 2 Grafi:\n",
    "- Piste **Ciclabili**\n",
    "- **Strade** in cui è permesso usare la bici"
   ]
  },
  {
   "cell_type": "code",
   "execution_count": 8,
   "id": "05c4ae6e",
   "metadata": {},
   "outputs": [],
   "source": [
    "# Carichiamo Graph Ciclabili\n",
    "with open(PATH_CICLABILI_PICKLE_STAGING, \"rb\") as f:\n",
    "    G_ciclabili = pickle.load(f)\n",
    "\n",
    "# Carichiamo Graph Strade\n",
    "with open(PATH_STRADE_CICLABILI_PICKLE_STAGING, \"rb\") as f:\n",
    "    G_strade = pickle.load(f)"
   ]
  },
  {
   "cell_type": "markdown",
   "id": "76f1bb06",
   "metadata": {},
   "source": [
    "1. Unione dei due Grafi tramite: **nx.compose()**.\n",
    "2. Aggiunta di archi artificiali per unire i nodi dei 2 Grafi, in modo che possano essere \"comunicanti\"  \n",
    "(si possa passare da un arco \"strade\" a un arco \"ciclabili\" e viceversa)"
   ]
  },
  {
   "cell_type": "code",
   "execution_count": 9,
   "id": "5761f53c",
   "metadata": {},
   "outputs": [],
   "source": [
    "G_compose = nx.compose(G_strade, G_ciclabili)\n",
    "G_compose_merged = Graph_functions.add_edge_near_nodes(G_compose,\n",
    "                                                       weight_moltiplicator = 0,\n",
    "                                                       tipo = \"Join_ciclabile_strade\",\n",
    "                                                       artificiale=True)"
   ]
  },
  {
   "cell_type": "code",
   "execution_count": null,
   "id": "37cd9e16",
   "metadata": {},
   "outputs": [],
   "source": [
    "with open(PATH_RETE_CICLABILE_COMPLETA_PICKLE_CLEAN, \"wb\") as f:\n",
    "    pickle.dump(G_strade, f)\n",
    "\n",
    "gdf_compose = ox.graph_to_gdfs(G_compose_merged, edges=True, nodes=False)\n",
    "gdf_compose.to_file(PATH_RETE_CICLABILE_COMPLETA_GEOJSON_CLEAN, driver=\"GeoJSON\")"
   ]
  },
  {
   "cell_type": "markdown",
   "id": "e74d02d0",
   "metadata": {},
   "source": [
    "## Stazioni BikeMi"
   ]
  },
  {
   "cell_type": "code",
   "execution_count": 11,
   "id": "336df9bb",
   "metadata": {},
   "outputs": [
    {
     "name": "stderr",
     "output_type": "stream",
     "text": [
      "c:\\Matteo\\Coding\\Project\\Progetto-Bike\\.venv\\Lib\\site-packages\\pyogrio\\raw.py:198: RuntimeWarning: driver CSV does not support open option SEP\n",
      "  return ogr_read(\n"
     ]
    }
   ],
   "source": [
    "gdf = gpd.read_file(PATH_BIKEMI_RAW, sep = ';')\n",
    "gdf = gdf.rename(columns = {'id_amat':'id_stazione',\n",
    "                           'stalli':'n_posti',\n",
    "                           'LONG_X_4326':'longitudine',\n",
    "                           'LAT_Y_4326': 'latitudine',\n",
    "                           'Location':'location'})\n",
    "gdf.drop(['stato', 'id_via', 'indirizzo', 'civico', 'zd_attuale', 'anno', \"tipo\"], axis=1, inplace=True)\n",
    "gdf['icon'] = \"share\"\n",
    "gdf[\"geometry\"] = gdf.apply(lambda row: Point(row['longitudine'], row['latitudine']), axis=1)\n",
    "gdf = gdf.set_geometry(\"geometry\", crs=4326)\n",
    "gdf = gdf.drop(columns=\"location\")"
   ]
  },
  {
   "cell_type": "code",
   "execution_count": 12,
   "id": "909ac5c3",
   "metadata": {},
   "outputs": [],
   "source": [
    "gdf.to_file(PATH_BIKEMI_CLEAN, driver=\"GeoJSON\")"
   ]
  }
 ],
 "metadata": {
  "kernelspec": {
   "display_name": ".venv",
   "language": "python",
   "name": "python3"
  },
  "language_info": {
   "codemirror_mode": {
    "name": "ipython",
    "version": 3
   },
   "file_extension": ".py",
   "mimetype": "text/x-python",
   "name": "python",
   "nbconvert_exporter": "python",
   "pygments_lexer": "ipython3",
   "version": "3.13.2"
  }
 },
 "nbformat": 4,
 "nbformat_minor": 5
}
