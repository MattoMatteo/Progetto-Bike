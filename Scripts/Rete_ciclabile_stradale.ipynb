{
 "cells": [
  {
   "cell_type": "markdown",
   "id": "0a75db66",
   "metadata": {},
   "source": [
    "# Info bici"
   ]
  },
  {
   "cell_type": "code",
   "execution_count": 1,
   "id": "76a32828",
   "metadata": {},
   "outputs": [],
   "source": [
    "import json\n",
    "import pickle\n",
    "from shapely import MultiLineString, LineString, Point\n",
    "\n",
    "import geopandas as gpd\n",
    "import osmnx as ox\n",
    "import networkx as nx\n",
    "\n",
    "from my_paths import *\n",
    "import Graph_functions"
   ]
  },
  {
   "cell_type": "markdown",
   "id": "22fbe7ea",
   "metadata": {},
   "source": [
    "## Strade/Ciclabili"
   ]
  },
  {
   "cell_type": "markdown",
   "id": "e61d6978",
   "metadata": {},
   "source": [
    "### Piste ciclabili"
   ]
  },
  {
   "cell_type": "markdown",
   "id": "c9cf29d0",
   "metadata": {},
   "source": [
    "Prima fase di pulizia del geojson raw"
   ]
  },
  {
   "cell_type": "code",
   "execution_count": 3,
   "id": "656286c9",
   "metadata": {},
   "outputs": [],
   "source": [
    "gdf_ciclabili_raw = gpd.read_file(PATH_CICLABILI_RAW)\n",
    "gdf_ciclabili_staging = gdf_ciclabili_raw.copy()\n",
    "\n",
    "# Convertiamo alcuni tipi\n",
    "gdf_ciclabili_staging[\"geometry\"] = gdf_ciclabili_staging[\"geometry\"].apply(lambda x: x.geoms[0])\n",
    "gdf_ciclabili_staging[\"fine_lavor\"] = gdf_ciclabili_staging[\"fine_lavor\"].astype(int)\n",
    "gdf_ciclabili_staging = gdf_ciclabili_staging.rename(columns={\"anagrafica\": \"name\", \"rete\": \"highway\"})\n",
    "gdf_ciclabili_staging = gdf_ciclabili_staging.drop([\"id_amat\", \"id_via\",\"gerarchia\", \"lunghezza\"], axis=1)\n",
    "\n",
    "gdf_ciclabili_staging = gpd.GeoDataFrame(gdf_ciclabili_staging, geometry=\"geometry\")"
   ]
  },
  {
   "cell_type": "markdown",
   "id": "518e7b52",
   "metadata": {},
   "source": [
    "Creazione del grafo + archi di congiunzione tra nodi molto vicini (5 metri).\n",
    "Aggiunta di alcuni attributi utili:\n",
    "- **\"tipo\"** = Per identificare in futuro la provenienza degli archi.\n",
    "- **\"artificiale\"** = \"False\" se riferiti a veri percorsi presi dal geojson, \"True\" se aggiunti per scopi di calcolo percorsi.\n",
    "N.B: \"geojson_to_graph()\" manterrà all'interno degli archi del grafo anche tutti gli attributi delle colonne del gdf."
   ]
  },
  {
   "cell_type": "code",
   "execution_count": 4,
   "id": "bcdc9e4b",
   "metadata": {},
   "outputs": [],
   "source": [
    "G_ciclabili = Graph_functions.geojson_to_graph(gdf_ciclabili_staging, weight_moltiplicator=0, tipo = \"Ciclabile\", artificiale = False).to_undirected()\n",
    "G_ciclabili = Graph_functions.add_edge_near_nodes(G_ciclabili, weight_moltiplicator = 0, tipo = \"Ciclabile\", artificiale = True)"
   ]
  },
  {
   "cell_type": "markdown",
   "id": "ecedc1e3",
   "metadata": {},
   "source": [
    "Salviamo grafo (in pickle) e geojson in staging"
   ]
  },
  {
   "cell_type": "code",
   "execution_count": 5,
   "id": "3241c61b",
   "metadata": {},
   "outputs": [],
   "source": [
    "gdf_edges = ox.graph_to_gdfs(G_ciclabili, edges=True, nodes=False).reset_index().drop([\"u\",\"v\", \"key\"], axis=1)\n",
    "gdf_edges.to_file(PATH_CICLABILI_GEOJSON_STAGING, driver=\"GeoJSON\") # Anche questo andrebbe ripulito\n",
    "with open(PATH_CICLABILI_PICKLE_STAGING, \"wb\") as f:\n",
    "    pickle.dump(G_ciclabili, f)"
   ]
  },
  {
   "cell_type": "markdown",
   "id": "9309deea",
   "metadata": {},
   "source": [
    "### Strade ciclabili"
   ]
  },
  {
   "cell_type": "markdown",
   "id": "369bcada",
   "metadata": {},
   "source": [
    "#### Ingestion (openstreet maps)"
   ]
  },
  {
   "cell_type": "code",
   "execution_count": null,
   "id": "49d9dc03",
   "metadata": {},
   "outputs": [],
   "source": [
    "place = \"Milano, Italy\"\n",
    "\n",
    "bike_filter = (\n",
    "    '[\"highway\"][\"bicycle\"!~\"no\"][\"bicycle\"!~\"dismount\"]'\n",
    ")\n",
    "G_ox_strade = ox.graph_from_place(place, network_type='bike', custom_filter=bike_filter)\n",
    "with open(PATH_STRADE_CICLABILI_PICKLE_RAW, \"wb\") as f:\n",
    "    pickle.dump(G_ox_strade, f)"
   ]
  },
  {
   "cell_type": "markdown",
   "id": "11bddcc0",
   "metadata": {},
   "source": [
    "#### ETL "
   ]
  },
  {
   "cell_type": "markdown",
   "id": "c05eb653",
   "metadata": {},
   "source": [
    "Processo di ETL sul Grafo Raw scaricato da openstreet maps.\n",
    "Il proceso comprende:\n",
    "1. Selezione attributi da mantenere: name, highway, lenght, maxspeed, tunnel, access, service, geometry\n",
    "2. - Aggiunta di attributi custom:\n",
    "    - weight_multipler: Un moltiplicatore che verrà applicato a weigth in base a \"highway\" tramite\n",
    "    il parametro \"custom_weights\", oppure da file se non specificato.\n",
    "    N.B: di base cycleway dovrebbe assumere valore: 0, per dare massima priorità nel calcolo dei percorsi.\n",
    "    - weight: Sarà di base: length * weight_multipler.\n",
    "    - tipo: Un tag che viene assegnato a tutti i grafi del progetto. In questo caso assumerà valore \"Strade_ciclabili\".\n",
    "    - artificial: Un tag che viene assegnato a tutit i grafi del progetto. Essendo questi archi reali: False\n",
    "    - poi: Un tag che viene assegnato a tutti i grafi del progetto. Essendo queste le strade: False\n",
    "3. Se Geometria non presente, aggiungiamo una LineString \"dritta\" tra i due nodi\n",
    "(può capitare che non ci sia tra nodi molto vicini).\n",
    "4. Infine il grafo viene reso bidirezionale senza ridondanza di archi tra due punti."
   ]
  },
  {
   "cell_type": "code",
   "execution_count": 2,
   "id": "ae1289aa",
   "metadata": {},
   "outputs": [],
   "source": [
    "# Il tutto compattato in questa chiamata a funzione.\n",
    "G_strade = Graph_functions.etl_strade_ciclabili()"
   ]
  },
  {
   "cell_type": "markdown",
   "id": "773ddca3",
   "metadata": {},
   "source": [
    "Salvataggio in staging, sia grafo che geojson."
   ]
  },
  {
   "cell_type": "code",
   "execution_count": 3,
   "id": "832886fa",
   "metadata": {},
   "outputs": [],
   "source": [
    "Graph_functions._custom_graph_to_gdf(G_strade).to_file(PATH_STRADE_CICLABILI_GEOJSON_STAGING, driver=\"GeoJSON\")\n",
    "\n",
    "with open(PATH_STRADE_CICLABILI_PICKLE_STAGING, \"wb\") as f:\n",
    "    pickle.dump(G_strade, f)"
   ]
  },
  {
   "cell_type": "markdown",
   "id": "ea1fcf94",
   "metadata": {},
   "source": [
    "### Unione Ciclabili e Strade"
   ]
  },
  {
   "cell_type": "markdown",
   "id": "c3c76a6e",
   "metadata": {},
   "source": [
    "Load da staging i 2 Grafi:\n",
    "- Piste **Ciclabili**\n",
    "- **Strade** in cui è permesso usare la bici"
   ]
  },
  {
   "cell_type": "code",
   "execution_count": 3,
   "id": "05c4ae6e",
   "metadata": {},
   "outputs": [],
   "source": [
    "# Carichiamo Graph Ciclabili\n",
    "with open(PATH_CICLABILI_PICKLE_STAGING, \"rb\") as f:\n",
    "    G_ciclabili = pickle.load(f)\n",
    "\n",
    "# Carichiamo Graph Strade\n",
    "with open(PATH_STRADE_CICLABILI_PICKLE_STAGING, \"rb\") as f:\n",
    "    G_strade = pickle.load(f)"
   ]
  },
  {
   "cell_type": "markdown",
   "id": "76f1bb06",
   "metadata": {},
   "source": [
    "1. Unione dei due Grafi tramite: **nx.compose()**.\n",
    "2. Aggiunta di archi artificiali per unire i nodi dei 2 Grafi, in modo che possano essere \"comunicanti\"  \n",
    "(si possa passare da un arco \"strade\" a un arco \"ciclabili\" e viceversa)"
   ]
  },
  {
   "cell_type": "code",
   "execution_count": 5,
   "id": "57579f46",
   "metadata": {},
   "outputs": [],
   "source": [
    "G_compose = Graph_functions.connetti_due_grafi(G_strade, G_ciclabili, weight_moltiplicator=1,\n",
    "                                                tipo = \"Join_ciclabile_strade\",\n",
    "                                                artificiale=True)"
   ]
  },
  {
   "cell_type": "code",
   "execution_count": 6,
   "id": "37cd9e16",
   "metadata": {},
   "outputs": [],
   "source": [
    "with open(PATH_RETE_CICLABILE_COMPLETA_PICKLE_CLEAN, \"wb\") as f:\n",
    "    pickle.dump(G_compose, f)\n",
    "\n",
    "gdf_compose = ox.graph_to_gdfs(G_compose, edges=True, nodes=False).reset_index().drop([\"u\",\"v\", \"key\"], axis=1)\n",
    "gdf_compose.to_file(PATH_RETE_CICLABILE_COMPLETA_GEOJSON_CLEAN, driver=\"GeoJSON\")"
   ]
  }
 ],
 "metadata": {
  "kernelspec": {
   "display_name": ".venv",
   "language": "python",
   "name": "python3"
  },
  "language_info": {
   "codemirror_mode": {
    "name": "ipython",
    "version": 3
   },
   "file_extension": ".py",
   "mimetype": "text/x-python",
   "name": "python",
   "nbconvert_exporter": "python",
   "pygments_lexer": "ipython3",
   "version": "3.13.2"
  }
 },
 "nbformat": 4,
 "nbformat_minor": 5
}
