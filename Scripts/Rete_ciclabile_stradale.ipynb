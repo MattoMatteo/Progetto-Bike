{
 "cells": [
  {
   "cell_type": "markdown",
   "id": "0a75db66",
   "metadata": {},
   "source": [
    "# Info bici"
   ]
  },
  {
   "cell_type": "code",
   "execution_count": 2,
   "id": "76a32828",
   "metadata": {},
   "outputs": [],
   "source": [
    "import json\n",
    "import pickle\n",
    "from shapely import MultiLineString, LineString, Point\n",
    "\n",
    "import geopandas as gpd\n",
    "import osmnx as ox\n",
    "import networkx as nx\n",
    "\n",
    "from my_paths import *\n",
    "import Graph_functions"
   ]
  },
  {
   "cell_type": "markdown",
   "id": "22fbe7ea",
   "metadata": {},
   "source": [
    "## Strade/Ciclabili"
   ]
  },
  {
   "cell_type": "markdown",
   "id": "e61d6978",
   "metadata": {},
   "source": [
    "### Piste ciclabili"
   ]
  },
  {
   "cell_type": "markdown",
   "id": "c9cf29d0",
   "metadata": {},
   "source": [
    "Prima fase di pulizia del geojson raw"
   ]
  },
  {
   "cell_type": "code",
   "execution_count": 3,
   "id": "656286c9",
   "metadata": {},
   "outputs": [],
   "source": [
    "gdf_ciclabili_raw = gpd.read_file(PATH_CICLABILI_RAW)\n",
    "gdf_ciclabili_staging = gdf_ciclabili_raw.copy()\n",
    "\n",
    "# Convertiamo alcuni tipi\n",
    "gdf_ciclabili_staging[\"geometry\"] = gdf_ciclabili_staging[\"geometry\"].apply(lambda x: x.geoms[0])\n",
    "gdf_ciclabili_staging[\"fine_lavor\"] = gdf_ciclabili_staging[\"fine_lavor\"].astype(int)\n",
    "gdf_ciclabili_staging = gdf_ciclabili_staging.rename(columns={\"anagrafica\": \"name\", \"rete\": \"highway\"})\n",
    "gdf_ciclabili_staging = gdf_ciclabili_staging.drop([\"id_amat\", \"id_via\",\"gerarchia\", \"lunghezza\"], axis=1)\n",
    "\n",
    "gdf_ciclabili_staging = gpd.GeoDataFrame(gdf_ciclabili_staging, geometry=\"geometry\")"
   ]
  },
  {
   "cell_type": "markdown",
   "id": "518e7b52",
   "metadata": {},
   "source": [
    "Creazione del grafo + archi di congiunzione tra nodi molto vicini (5 metri).\n",
    "Aggiunta di alcuni attributi utili:\n",
    "- **\"tipo\"** = Per identificare in futuro la provenienza degli archi.\n",
    "- **\"artificiale\"** = \"False\" se riferiti a veri percorsi presi dal geojson, \"True\" se aggiunti per scopi di calcolo percorsi.\n",
    "N.B: \"geojson_to_graph()\" manterrà all'interno degli archi del grafo anche tutti gli attributi delle colonne del gdf."
   ]
  },
  {
   "cell_type": "code",
   "execution_count": 4,
   "id": "bcdc9e4b",
   "metadata": {},
   "outputs": [],
   "source": [
    "G_ciclabili = Graph_functions.geojson_to_graph(gdf_ciclabili_staging, weight_moltiplicator=0, tipo = \"Ciclabile\", artificiale = False).to_undirected()\n",
    "G_ciclabili = Graph_functions.add_edge_near_nodes(G_ciclabili, weight_moltiplicator = 0, tipo = \"Ciclabile\", artificiale = True)"
   ]
  },
  {
   "cell_type": "markdown",
   "id": "ecedc1e3",
   "metadata": {},
   "source": [
    "Salviamo grafo (in pickle) e geojson in staging"
   ]
  },
  {
   "cell_type": "code",
   "execution_count": 5,
   "id": "3241c61b",
   "metadata": {},
   "outputs": [],
   "source": [
    "gdf_edges = ox.graph_to_gdfs(G_ciclabili, edges=True, nodes=False).reset_index().drop([\"u\",\"v\", \"key\"], axis=1)\n",
    "gdf_edges.to_file(PATH_CICLABILI_GEOJSON_STAGING, driver=\"GeoJSON\") # Anche questo andrebbe ripulito\n",
    "with open(PATH_CICLABILI_PICKLE_STAGING, \"wb\") as f:\n",
    "    pickle.dump(G_ciclabili, f)"
   ]
  },
  {
   "cell_type": "markdown",
   "id": "9309deea",
   "metadata": {},
   "source": [
    "### Strade ciclabili"
   ]
  },
  {
   "cell_type": "markdown",
   "id": "369bcada",
   "metadata": {},
   "source": [
    "#### Ingestion (openstreet maps)"
   ]
  },
  {
   "cell_type": "code",
   "execution_count": null,
   "id": "49d9dc03",
   "metadata": {},
   "outputs": [],
   "source": [
    "place = \"Milano, Italy\"\n",
    "\n",
    "bike_filter = (\n",
    "    '[\"highway\"][\"bicycle\"!~\"no\"][\"bicycle\"!~\"dismount\"]'\n",
    ")\n",
    "G_ox_strade = ox.graph_from_place(place, network_type='bike', custom_filter=bike_filter)\n",
    "with open(PATH_STRADE_CICLABILI_PICKLE_RAW, \"wb\") as f:\n",
    "    pickle.dump(G_ox_strade, f)"
   ]
  },
  {
   "cell_type": "markdown",
   "id": "11bddcc0",
   "metadata": {},
   "source": [
    "#### ETL "
   ]
  },
  {
   "cell_type": "markdown",
   "id": "c05eb653",
   "metadata": {},
   "source": [
    "1. Scelta attributi da mantenere\n",
    "2. Impostare pesi (weight) in base a: Lunghezza strada e tipo di strada\n",
    "3. Aggiunti di attributi custom, come:\n",
    "    - **\"artificiale\"** = Di base \"False\" ma sarà \"True\" con aggiunta di archi ad hoc a scopi di calcolo percorsi minimi\n",
    "    - **\"geometry\"** = Manteniamo il dato originale della geometria all'interno degli archi. Utile per conversione in gdf.\n",
    "    - **\"tipo\"** = Attributo per distinguere la provenienza degli archi. Utile quando verranno uniti in un solo grafo.\n",
    "4. Aggiunta di archi artificiali per connettere nodi molto vicini non connessi."
   ]
  },
  {
   "cell_type": "code",
   "execution_count": 6,
   "id": "65d95026",
   "metadata": {},
   "outputs": [],
   "source": [
    "def calcola_peso_strada(highway) -> float:\n",
    "    custom_weights = {\n",
    "        \"motorway\": 99,\n",
    "        \"trunk\": 99,\n",
    "        \"primary\": 1.2,\n",
    "        \"secondary\": 1.1,\n",
    "        \"tertiary\": 1.25,\n",
    "        \"residential\": 1.3,\n",
    "        \"unclassified\": 1.3,\n",
    "        \"living_street\": 1.3,\n",
    "        \"motorway_link\": 99,\n",
    "        \"trunk_link\": 99,\n",
    "        \"primary_link\": 1.2,\n",
    "        \"secondary_link\": 1.1,\n",
    "        \"tertiary_link\": 1.25,\n",
    "        \"service\": 99,\n",
    "        \"footway\": 1.2,\n",
    "        \"pedestrian\": 1.5,\n",
    "        \"steps\": 99,\n",
    "        \"platform\": 99,\n",
    "        \"path\": 1.1,\n",
    "        \"cycleway\": 1,\n",
    "        \"track\": 1,\n",
    "        \"bridleway\": 1.6,\n",
    "        \"construction\": 99,\n",
    "        \"proposed\": 99,\n",
    "        \"demolished\": 99,\n",
    "        \"busway\": 99,\n",
    "        \"bus_stop\": 99,\n",
    "        \"corridor\": 99,\n",
    "        \"services\": 99,\n",
    "        \"emergency_bay\": 99\n",
    "    }\n",
    "    if isinstance(highway, str):\n",
    "        highway = [highway]\n",
    "    max_weight = 99\n",
    "    for h in highway:\n",
    "        new_weight = custom_weights.get(h, 99)\n",
    "        if new_weight < max_weight:\n",
    "            max_weight = new_weight\n",
    "    return max_weight"
   ]
  },
  {
   "cell_type": "code",
   "execution_count": 10,
   "id": "ae1289aa",
   "metadata": {},
   "outputs": [],
   "source": [
    "with open(PATH_STRADE_CICLABILI_PICKLE_RAW, \"rb\") as f:\n",
    "    G_strade = pickle.load(f)\n",
    "for u, v, k, data in G_strade.edges(data=True, keys=True):\n",
    "    # Copio i data ed elimino tutto il dizionario.\n",
    "    data = data.copy()\n",
    "    G_strade[u][v][k].clear()\n",
    "    # Scelgo gli attributi da mantenere\n",
    "    G_strade[u][v][k]['length'] = data['length']\n",
    "    G_strade[u][v][k]['name'] = data.get('name', None)\n",
    "    G_strade[u][v][k]['highway'] = data[\"highway\"]\n",
    "    weight_multipler = calcola_peso_strada(data[\"highway\"])\n",
    "    G_strade[u][v][k][\"weight_multipler\"] = weight_multipler\n",
    "    G_strade[u][v][k]['weight'] = data['length'] * weight_multipler # Per ora\n",
    "    G_strade[u][v][k][\"tipo\"] = \"Strade_ciclabili\"\n",
    "    G_strade[u][v][k][\"artificiale\"] = False\n",
    "    # ------------ Da capire se tenere ----------------\n",
    "    G_strade[u][v][k][\"maxspeed\"] = data.get(\"maxspeed\", None)\n",
    "    G_strade[u][v][k][\"tunnel\"] = data.get(\"tunnel\", None)\n",
    "    G_strade[u][v][k][\"access\"] = data.get(\"access\", None)\n",
    "    G_strade[u][v][k][\"service\"] = data.get(\"service\", None)\n",
    "    # ------------------------------------------------\n",
    "    G_strade[u][v][k][\"geometry\"] = data.get(\"geometry\", LineString([(G_strade.nodes[u][\"x\"], G_strade.nodes[u][\"y\"]),\n",
    "                                        (G_strade.nodes[v][\"x\"], G_strade.nodes[v][\"y\"])]))\n",
    "nx.set_node_attributes(G_strade, \"Strade_ciclabili\", \"tipo\")\n",
    "G_strade = G_strade.to_undirected()"
   ]
  },
  {
   "cell_type": "markdown",
   "id": "773ddca3",
   "metadata": {},
   "source": [
    "Salvataggio in staging, sia grafo che geojson."
   ]
  },
  {
   "cell_type": "code",
   "execution_count": 16,
   "id": "832886fa",
   "metadata": {},
   "outputs": [],
   "source": [
    "gdf_edges = ox.graph_to_gdfs(G_strade, edges=True, nodes=False).reset_index().drop([\"u\", \"v\", \"key\"], axis=1)\n",
    "\n",
    "gdf_edges.to_file(PATH_STRADE_CICLABILI_GEOJSON_STAGING, driver=\"GeoJSON\")\n",
    "\n",
    "with open(PATH_STRADE_CICLABILI_PICKLE_STAGING, \"wb\") as f:\n",
    "    pickle.dump(G_strade, f)"
   ]
  },
  {
   "cell_type": "markdown",
   "id": "ea1fcf94",
   "metadata": {},
   "source": [
    "### Unione Ciclabili e Strade"
   ]
  },
  {
   "cell_type": "markdown",
   "id": "c3c76a6e",
   "metadata": {},
   "source": [
    "Load da staging i 2 Grafi:\n",
    "- Piste **Ciclabili**\n",
    "- **Strade** in cui è permesso usare la bici"
   ]
  },
  {
   "cell_type": "code",
   "execution_count": 3,
   "id": "05c4ae6e",
   "metadata": {},
   "outputs": [],
   "source": [
    "# Carichiamo Graph Ciclabili\n",
    "with open(PATH_CICLABILI_PICKLE_STAGING, \"rb\") as f:\n",
    "    G_ciclabili = pickle.load(f)\n",
    "\n",
    "# Carichiamo Graph Strade\n",
    "with open(PATH_STRADE_CICLABILI_PICKLE_STAGING, \"rb\") as f:\n",
    "    G_strade = pickle.load(f)"
   ]
  },
  {
   "cell_type": "markdown",
   "id": "76f1bb06",
   "metadata": {},
   "source": [
    "1. Unione dei due Grafi tramite: **nx.compose()**.\n",
    "2. Aggiunta di archi artificiali per unire i nodi dei 2 Grafi, in modo che possano essere \"comunicanti\"  \n",
    "(si possa passare da un arco \"strade\" a un arco \"ciclabili\" e viceversa)"
   ]
  },
  {
   "cell_type": "code",
   "execution_count": 5,
   "id": "57579f46",
   "metadata": {},
   "outputs": [],
   "source": [
    "G_compose = Graph_functions.connetti_due_grafi(G_strade, G_ciclabili, weight_moltiplicator=1,\n",
    "                                                tipo = \"Join_ciclabile_strade\",\n",
    "                                                artificiale=True)"
   ]
  },
  {
   "cell_type": "code",
   "execution_count": 6,
   "id": "37cd9e16",
   "metadata": {},
   "outputs": [],
   "source": [
    "with open(PATH_RETE_CICLABILE_COMPLETA_PICKLE_CLEAN, \"wb\") as f:\n",
    "    pickle.dump(G_compose, f)\n",
    "\n",
    "gdf_compose = ox.graph_to_gdfs(G_compose, edges=True, nodes=False).reset_index().drop([\"u\",\"v\", \"key\"], axis=1)\n",
    "gdf_compose.to_file(PATH_RETE_CICLABILE_COMPLETA_GEOJSON_CLEAN, driver=\"GeoJSON\")"
   ]
  }
 ],
 "metadata": {
  "kernelspec": {
   "display_name": ".venv",
   "language": "python",
   "name": "python3"
  },
  "language_info": {
   "codemirror_mode": {
    "name": "ipython",
    "version": 3
   },
   "file_extension": ".py",
   "mimetype": "text/x-python",
   "name": "python",
   "nbconvert_exporter": "python",
   "pygments_lexer": "ipython3",
   "version": "3.13.2"
  }
 },
 "nbformat": 4,
 "nbformat_minor": 5
}
