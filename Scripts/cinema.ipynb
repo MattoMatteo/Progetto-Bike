{
 "cells": [
  {
   "cell_type": "code",
   "execution_count": 27,
   "id": "a588dd80",
   "metadata": {},
   "outputs": [],
   "source": [
    "import pandas as pd\n",
    "import geopandas as gpd\n",
    "from shapely.geometry import Point"
   ]
  },
  {
   "cell_type": "code",
   "execution_count": 15,
   "id": "9da4ee14",
   "metadata": {},
   "outputs": [
    {
     "name": "stderr",
     "output_type": "stream",
     "text": [
      "<>:1: SyntaxWarning: invalid escape sequence '\\D'\n",
      "<>:1: SyntaxWarning: invalid escape sequence '\\D'\n",
      "C:\\Users\\apera\\AppData\\Local\\Temp\\ipykernel_11912\\3109378396.py:1: SyntaxWarning: invalid escape sequence '\\D'\n",
      "  PATH_CINEMA_RAW = \"..\\Data\\Raw\\Punti_di_interesse\\cinema_raw.json\"\n"
     ]
    }
   ],
   "source": [
    "PATH_CINEMA_RAW = \"..\\Data\\Raw\\Punti_di_interesse\\cinema_raw.json\""
   ]
  },
  {
   "cell_type": "code",
   "execution_count": null,
   "id": "e92b3429",
   "metadata": {},
   "outputs": [
    {
     "name": "stdout",
     "output_type": "stream",
     "text": [
      "    ccomune cprovincia   cregione                   cnome  canno_inserimento  \\\n",
      "108  Milano     MILANO  Lombardia                   Anteo               2015   \n",
      "109  Milano     MILANO  Lombardia                  Apollo               2009   \n",
      "110  Milano     MILANO  Lombardia  Arcobaleno Film Center               2015   \n",
      "111  Milano     MILANO  Lombardia        Arena Umanitaria               2012   \n",
      "112  Milano     MILANO  Lombardia  Arianteo Conservatorio               2012   \n",
      "113  Milano     MILANO  Lombardia                 Ariosto               2012   \n",
      "114  Milano     MILANO  Lombardia              Arlecchino               2014   \n",
      "115  Milano     MILANO  Lombardia                Centrale               2012   \n",
      "116  Milano     MILANO  Lombardia         Cinema Orchidea               2015   \n",
      "117  Milano     MILANO  Lombardia                Colosseo               2012   \n",
      "118  Milano     MILANO  Lombardia               Don Bosco               2013   \n",
      "119  Milano     MILANO  Lombardia                  Ducale               2012   \n",
      "120  Milano     MILANO  Lombardia                  Eliseo               2012   \n",
      "121  Milano     MILANO  Lombardia        Europlex Bicocca               2012   \n",
      "122  Milano     MILANO  Lombardia                  Garden               2014   \n",
      "123  Milano     MILANO  Lombardia                  Gloria               2012   \n",
      "124  Milano     MILANO  Lombardia                   Gnomo               2009   \n",
      "125  Milano     MILANO  Lombardia                  Mexico               2011   \n",
      "126  Milano     MILANO  Lombardia                   Odeon               2013   \n",
      "127  Milano     MILANO  Lombardia                   Orfeo               2012   \n",
      "128  Milano     MILANO  Lombardia                 Rosetum               2014   \n",
      "129  Milano     MILANO  Lombardia          Spazio Oberdan               2013   \n",
      "130  Milano     MILANO  Lombardia     UCI Cinemas Certosa               2012   \n",
      "\n",
      "    cdata_e_ora_inserimento  cidentificatore_in_openstreetmap  clongitudine  \\\n",
      "108    2015-01-24T09:07:50Z                         252634867      9.187642   \n",
      "109    2009-07-06T12:41:54Z                         435199449      9.194681   \n",
      "110    2015-02-26T11:54:53Z                         442138046      9.205638   \n",
      "111    2012-10-21T22:26:58Z                        1977225057      9.201031   \n",
      "112    2012-10-21T22:26:58Z                        1977225058      9.203401   \n",
      "113    2012-01-20T21:58:26Z                         442586656      9.165995   \n",
      "114    2014-08-09T21:10:45Z                        2420779234      9.195356   \n",
      "115    2012-10-21T22:26:59Z                         442587403      9.185752   \n",
      "116    2015-11-17T08:46:26Z                        3840440921      9.176467   \n",
      "117    2012-01-27T16:47:01Z                         442587550      9.207937   \n",
      "118    2013-11-28T09:25:50Z                         358878181      9.199806   \n",
      "119    2012-10-21T22:26:59Z                          29978509      9.154630   \n",
      "120    2012-10-21T22:26:59Z                         442588357      9.182520   \n",
      "121    2012-09-21T18:44:21Z                         250051812      9.216143   \n",
      "122    2014-10-05T21:55:25Z                         255138301      9.240539   \n",
      "123    2012-10-21T22:27:00Z                         268616396      9.161861   \n",
      "124    2009-07-16T14:46:52Z                         442590118      9.175725   \n",
      "125    2011-11-07T14:42:40Z                         442591065      9.160290   \n",
      "126    2013-06-03T14:52:30Z                         251293086      9.192365   \n",
      "127    2012-10-21T22:27:00Z                         268616425      9.169597   \n",
      "128    2014-12-20T20:42:57Z                         995613962      9.140315   \n",
      "129    2013-11-05T23:53:33Z                        1977225059      9.203967   \n",
      "130    2012-11-29T13:20:10Z                         714322674      9.128150   \n",
      "\n",
      "     clatitudine  \n",
      "108    45.479695  \n",
      "109    45.465745  \n",
      "110    45.477053  \n",
      "111    45.459433  \n",
      "112    45.464769  \n",
      "113    45.469071  \n",
      "114    45.466303  \n",
      "115    45.462213  \n",
      "116    45.465690  \n",
      "117    45.461640  \n",
      "118    45.488243  \n",
      "119    45.452398  \n",
      "120    45.460844  \n",
      "121    45.521937  \n",
      "122    45.487975  \n",
      "123    45.466548  \n",
      "124    45.461562  \n",
      "125    45.452694  \n",
      "126    45.465121  \n",
      "127    45.456873  \n",
      "128    45.467007  \n",
      "129    45.475372  \n",
      "130    45.509640  \n"
     ]
    }
   ],
   "source": [
    "\n",
    "\n",
    "df = pd.read_json(PATH_CINEMA_RAW)\n",
    "\n",
    "df_milano = df[df['ccomune'] == 'Milano']\n",
    "\n",
    "print(df_milano)\n",
    "\n",
    "culo e palle"
   ]
  },
  {
   "cell_type": "code",
   "execution_count": 29,
   "id": "83836a88",
   "metadata": {},
   "outputs": [
    {
     "name": "stderr",
     "output_type": "stream",
     "text": [
      "<>:5: SyntaxWarning: invalid escape sequence '\\D'\n",
      "<>:5: SyntaxWarning: invalid escape sequence '\\D'\n",
      "C:\\Users\\apera\\AppData\\Local\\Temp\\ipykernel_11912\\912326028.py:5: SyntaxWarning: invalid escape sequence '\\D'\n",
      "  gdf.to_file(\"..\\Data\\Clean\\Punti_di_interesse\\cinema_milano.geojson\", driver=\"GeoJSON\")\n",
      "C:\\Users\\apera\\AppData\\Local\\Temp\\ipykernel_11912\\912326028.py:1: SettingWithCopyWarning: \n",
      "A value is trying to be set on a copy of a slice from a DataFrame.\n",
      "Try using .loc[row_indexer,col_indexer] = value instead\n",
      "\n",
      "See the caveats in the documentation: https://pandas.pydata.org/pandas-docs/stable/user_guide/indexing.html#returning-a-view-versus-a-copy\n",
      "  df_milano['geometry'] = df.apply(lambda row: Point(row['clongitudine'], row['clatitudine']), axis=1)\n"
     ]
    }
   ],
   "source": [
    "\n",
    "df_milano['geometry'] = df.apply(lambda row: Point(row['clongitudine'], row['clatitudine']), axis=1)\n",
    "\n",
    "gdf = gpd.GeoDataFrame(df_milano, geometry='geometry', crs='EPSG:4326')\n",
    "\n",
    "gdf.to_file(\"..\\Data\\Clean\\Punti_di_interesse\\cinema_milano.geojson\", driver=\"GeoJSON\")"
   ]
  }
 ],
 "metadata": {
  "kernelspec": {
   "display_name": ".venv",
   "language": "python",
   "name": "python3"
  },
  "language_info": {
   "codemirror_mode": {
    "name": "ipython",
    "version": 3
   },
   "file_extension": ".py",
   "mimetype": "text/x-python",
   "name": "python",
   "nbconvert_exporter": "python",
   "pygments_lexer": "ipython3",
   "version": "3.13.5"
  }
 },
 "nbformat": 4,
 "nbformat_minor": 5
}
