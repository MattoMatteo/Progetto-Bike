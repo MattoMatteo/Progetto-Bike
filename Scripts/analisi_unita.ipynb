{
 "cells": [
  {
   "cell_type": "code",
   "execution_count": null,
   "id": "363a182b",
   "metadata": {},
   "outputs": [],
   "source": [
    "import geopandas as gpd\n",
    "import pandas as pd\n",
    "\n",
    "\n",
    "\n",
    "# --- Lista dei file e delle categorie corrispondenti ---\n",
    "files = {\n",
    "    \"../Data/Clean/Analisi/sport_tempo_libero_unito_clean.geojson\": \"Sport e Tempo Libero\",\n",
    "    \"../Data/Clean/Analisi/istruzione_filtrato_unito_clean.geojson\": \"Istruzione\",\n",
    "    \"../Data/Clean/Analisi/sanita_filtrato_unito_clean.geojson\": \"Sanità\",\n",
    "    \"../Data/Clean/Analisi/cultura_spettacolo_filtrato_unito_clean.geojson\": \"Cultura e Spettacolo\"\n",
    "}\n",
    "\n",
    "# --- Carico e aggiungo la colonna categoria ---\n",
    "gdfs = []\n",
    "for path, categoria in files.items():\n",
    "    gdf = gpd.read_file(path)\n",
    "    gdf[\"Categoria\"] = categoria   # nuova colonna con il nome desiderato\n",
    "    gdfs.append(gdf)\n",
    "\n",
    "# --- Concateno tutti in un unico GeoDataFrame ---\n",
    "gdf_unico = pd.concat(gdfs, ignore_index=True)\n",
    "\n",
    "gdf_unico.to_file(\"../Data/Clean/Analisi/ciclabili_con_categoria_unite.geojson\", driver=\"GeoJSON\")"
   ]
  },
  {
   "cell_type": "code",
   "execution_count": 6,
   "id": "f8fbf0c5",
   "metadata": {},
   "outputs": [],
   "source": [
    "# --- Creo colonne booleane per ogni categoria ---\n",
    "categorie = list(files.values())  # [\"Sport e Tempo Libero\", \"Istruzione\", \"Sanità\", \"Cultura e Spettacolo\"]\n",
    "\n",
    "for cat in categorie:\n",
    "    gdf_unico[cat] = gdf_unico[\"Categoria\"] == cat\n",
    "\n",
    "gdf_unico.to_file(\"../Data/Clean/Analisi/ciclabili_con_categoria_unite.geojson\", driver=\"GeoJSON\")\n"
   ]
  }
 ],
 "metadata": {
  "kernelspec": {
   "display_name": ".venv",
   "language": "python",
   "name": "python3"
  },
  "language_info": {
   "codemirror_mode": {
    "name": "ipython",
    "version": 3
   },
   "file_extension": ".py",
   "mimetype": "text/x-python",
   "name": "python",
   "nbconvert_exporter": "python",
   "pygments_lexer": "ipython3",
   "version": "3.13.7"
  }
 },
 "nbformat": 4,
 "nbformat_minor": 5
}
