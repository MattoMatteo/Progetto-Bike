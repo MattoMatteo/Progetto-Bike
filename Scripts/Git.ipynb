{
 "cells": [
  {
   "cell_type": "markdown",
   "id": "065e6944",
   "metadata": {},
   "source": [
    "# Git Commit Scripts"
   ]
  },
  {
   "cell_type": "code",
   "execution_count": 1,
   "id": "4a52f08b",
   "metadata": {},
   "outputs": [],
   "source": [
    "import os\n",
    "import subprocess"
   ]
  },
  {
   "cell_type": "markdown",
   "id": "5a0d802d",
   "metadata": {},
   "source": [
    "## Prendo informazioni dai files"
   ]
  },
  {
   "cell_type": "markdown",
   "id": "8db82fd4",
   "metadata": {},
   "source": [
    "Funzioni"
   ]
  },
  {
   "cell_type": "code",
   "execution_count": 2,
   "id": "089b30ae",
   "metadata": {},
   "outputs": [],
   "source": [
    "# Private functions\n",
    "def _get_git_repo_root(start_path: str) -> str:\n",
    "    \"\"\"\n",
    "    Trova la root della git repository a partire da una directory.\n",
    "    \"\"\"\n",
    "    try:\n",
    "        result = subprocess.run(\n",
    "            ['git', 'rev-parse', '--show-toplevel'],\n",
    "            cwd=start_path,\n",
    "            stdout=subprocess.PIPE,\n",
    "            stderr=subprocess.DEVNULL,\n",
    "            check=True,\n",
    "            text=True\n",
    "        )\n",
    "        return result.stdout.strip()\n",
    "    except subprocess.CalledProcessError:\n",
    "        return None\n",
    "\n",
    "# Public functions\n",
    "\n",
    "def get_big_files(path:str, paths_to_ignore:list[str] = [\"../.git\"]) -> list[dict] | None:\n",
    "    \"\"\"\n",
    "    Analizza tutti i file contenuti nella directory ricorsivamente.\n",
    "    Restituisce in una lista tutti i file superiori a 100mb composta da dizionari:\n",
    "      {path: str, size: float(in Mb)}\n",
    "    ignore_paths >> Può essere fornita una lista di path da ignorare dal controllo\n",
    "    \"\"\"\n",
    "    big_files = []\n",
    "    for root, dirs, files in os.walk(path):\n",
    "\n",
    "        # Controlla se è un path da ignorare\n",
    "        if any(path in root for path in paths_to_ignore):\n",
    "            continue\n",
    "\n",
    "        for file in files:\n",
    "            try:\n",
    "                file_path = os.path.join(root, file)\n",
    "                size = os.path.getsize(file_path)\n",
    "                if size > 102760448: # 98Mb ci teniamo larghi\n",
    "                    mb_size = size/1048576\n",
    "                    big_files.append({\"name\": file, \"path\": file_path, \"size\": mb_size})\n",
    "            except Exception as e:\n",
    "                print(f\"Errore con il file {file_path}: {e}\")\n",
    "    return big_files\n",
    "\n",
    "def is_tracked_from_git_repo(path:str) -> bool:\n",
    "    \"\"\"\n",
    "    Ritorna True se il file è trackato da git, False altrimenti.\n",
    "    \"\"\"\n",
    "    # Prende la directory in cui si trova il file\n",
    "    file_dir = os.path.dirname(path)\n",
    "\n",
    "    repo_root = _get_git_repo_root(file_dir)\n",
    "    if not repo_root:\n",
    "        return False  # Non è in una repo Git\n",
    "\n",
    "    try:\n",
    "        # Esegue il comando git ls-files sul file specificato\n",
    "        rel_path = os.path.relpath(path, repo_root)\n",
    "        subprocess.run(\n",
    "            ['git', 'ls-files', '--error-unmatch', rel_path],\n",
    "            cwd=file_dir,  # Esegue il comando nella directory del file\n",
    "            stdout=subprocess.DEVNULL,\n",
    "            stderr=subprocess.DEVNULL,\n",
    "            check=True\n",
    "        )\n",
    "        return True\n",
    "    except subprocess.CalledProcessError:\n",
    "        return False\n",
    "    except Exception as e:\n",
    "        print(f\"Errore durante il controllo git per {path}: {e}\")\n",
    "        return False\n",
    "\n",
    "def is_in_gitignore(path_file: str) -> bool:\n",
    "    abs_path = os.path.abspath(path_file)\n",
    "    file_dir = os.path.dirname(abs_path)\n",
    "    repo_root = _get_git_repo_root(file_dir)\n",
    "    \n",
    "    if not repo_root:\n",
    "        return False  # Non siamo in una repo Git\n",
    "\n",
    "    # Path relativo alla root della repo\n",
    "    rel_path = os.path.relpath(abs_path, repo_root)\n",
    "\n",
    "    try:\n",
    "        subprocess.run(\n",
    "            ['git', 'check-ignore', rel_path],\n",
    "            cwd=repo_root,\n",
    "            stdout=subprocess.DEVNULL,\n",
    "            stderr=subprocess.DEVNULL,\n",
    "            check=True\n",
    "        )\n",
    "        return True\n",
    "    except subprocess.CalledProcessError:\n",
    "        return False"
   ]
  },
  {
   "cell_type": "markdown",
   "id": "97ae385a",
   "metadata": {},
   "source": [
    "Main codice"
   ]
  },
  {
   "cell_type": "code",
   "execution_count": 3,
   "id": "5cbb2c3a",
   "metadata": {},
   "outputs": [],
   "source": [
    "big_files = get_big_files(\"../\")\n",
    "\n",
    "for big_file in big_files:\n",
    "    big_file[\"tracked\"] = is_tracked_from_git_repo(big_file[\"path\"])\n",
    "    big_file[\"gitignored\"] = is_in_gitignore(big_file[\"path\"])\n",
    "\n",
    "    # Un file >100MB è committabile solo se NON è tracciato e IGNORATO da Git\n",
    "    big_file[\"committable\"] = not big_file[\"tracked\"] and big_file[\"gitignored\"]     "
   ]
  },
  {
   "cell_type": "markdown",
   "id": "da76825a",
   "metadata": {},
   "source": [
    "## Test commit"
   ]
  },
  {
   "cell_type": "markdown",
   "id": "9b5ca1d7",
   "metadata": {},
   "source": [
    "**True** = Posso committare in tranquillità  \n",
    "**False** = C'è qualche file che ti bloccherà tutto dopo il suo commit"
   ]
  },
  {
   "cell_type": "code",
   "execution_count": 4,
   "id": "e9b56dcc",
   "metadata": {},
   "outputs": [
    {
     "data": {
      "text/plain": [
       "True"
      ]
     },
     "execution_count": 4,
     "metadata": {},
     "output_type": "execute_result"
    }
   ],
   "source": [
    "all(big_file[\"committable\"] == True for big_file in big_files)"
   ]
  },
  {
   "cell_type": "markdown",
   "id": "d2a9309e",
   "metadata": {},
   "source": [
    "## Tenta la correzzione automatica **prima del disastro**"
   ]
  },
  {
   "cell_type": "markdown",
   "id": "1f39fd4f",
   "metadata": {},
   "source": [
    "Funzioni"
   ]
  },
  {
   "cell_type": "code",
   "execution_count": 162,
   "id": "b2c3ce51",
   "metadata": {},
   "outputs": [
    {
     "name": "stderr",
     "output_type": "stream",
     "text": [
      "<>:2: SyntaxWarning: invalid escape sequence '\\C'\n",
      "<>:2: SyntaxWarning: invalid escape sequence '\\C'\n",
      "C:\\Users\\aless\\AppData\\Local\\Temp\\ipykernel_27640\\2423587667.py:2: SyntaxWarning: invalid escape sequence '\\C'\n",
      "  \"\"\"\n"
     ]
    }
   ],
   "source": [
    "def append_to_gitignore_if_needed(path: str, gitignore_path: str):\n",
    "    \"\"\"\n",
    "    ../Data\\Clean\\Rete_ciclabile_stradale\\rete_ciclabile_completa.geojson\n",
    "    \"\"\"\n",
    "    path = path.replace(\"\\\\\", \"/\").strip(\".\").strip(\"/\")\n",
    "    try:\n",
    "        with open(gitignore_path, \"r\") as f:\n",
    "            lines = f.read().splitlines()\n",
    "    except FileNotFoundError:\n",
    "        lines = []\n",
    "\n",
    "    if path not in lines:\n",
    "        with open(gitignore_path, \"a\") as f:\n",
    "            f.write(f\"\\n{path}\")"
   ]
  },
  {
   "cell_type": "markdown",
   "id": "6d6c03df",
   "metadata": {},
   "source": [
    "Rimuoviamo dal tracking se presenti"
   ]
  },
  {
   "cell_type": "code",
   "execution_count": 163,
   "id": "3c41536c",
   "metadata": {},
   "outputs": [
    {
     "data": {
      "text/plain": [
       "CompletedProcess(args=['git', 'commit', '-m', 'Fix: removed >100MB files from tracking and updated .gitignore'], returncode=0)"
      ]
     },
     "execution_count": 163,
     "metadata": {},
     "output_type": "execute_result"
    }
   ],
   "source": [
    "repo_root = _get_git_repo_root(\"./\")\n",
    "for big_file in big_files:\n",
    "    if not big_file[\"committable\"]:\n",
    "        if big_file[\"tracked\"]:\n",
    "            # Rimuovi dal tracking (senza cancellarlo dal disco)\n",
    "            subprocess.run([\"git\", \"rm\", \"--cached\", big_file[\"path\"]], cwd=repo_root)\n",
    "\n",
    "        append_to_gitignore_if_needed(big_file[\"path\"], os.path.join(repo_root, \".gitignore\"))\n",
    "\n",
    "subprocess.run([\"git\", \"add\", \".gitignore\"], cwd=repo_root)\n",
    "subprocess.run([\"git\", \"commit\", \"-m\", \"Fix: removed >100MB files from tracking and updated .gitignore\"], cwd=repo_root)"
   ]
  }
 ],
 "metadata": {
  "kernelspec": {
   "display_name": ".venv",
   "language": "python",
   "name": "python3"
  },
  "language_info": {
   "codemirror_mode": {
    "name": "ipython",
    "version": 3
   },
   "file_extension": ".py",
   "mimetype": "text/x-python",
   "name": "python",
   "nbconvert_exporter": "python",
   "pygments_lexer": "ipython3",
   "version": "3.13.2"
  }
 },
 "nbformat": 4,
 "nbformat_minor": 5
}
