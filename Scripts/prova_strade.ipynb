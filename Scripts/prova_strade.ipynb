{
 "cells": [
  {
   "cell_type": "code",
   "execution_count": 3,
   "id": "29e4158a",
   "metadata": {},
   "outputs": [],
   "source": [
    "import pandas as pd\n",
    "\n",
    "import geopandas as gpd"
   ]
  },
  {
   "cell_type": "code",
   "execution_count": 7,
   "id": "799a46bb",
   "metadata": {},
   "outputs": [
    {
     "name": "stderr",
     "output_type": "stream",
     "text": [
      "<>:1: SyntaxWarning: invalid escape sequence '\\D'\n",
      "<>:1: SyntaxWarning: invalid escape sequence '\\D'\n",
      "C:\\Users\\apera\\AppData\\Local\\Temp\\ipykernel_25304\\2785803128.py:1: SyntaxWarning: invalid escape sequence '\\D'\n",
      "  gdf = gpd.read_file(\"..\\Data\\Raw\\strade_urbane\\prova_strade\\SV_STR.shp\")\n"
     ]
    },
    {
     "name": "stdout",
     "output_type": "stream",
     "text": [
      "        CLASSID SV_STR_TY                                           geometry\n",
      "0     SV_STR_99        03  POLYGON ((9.20951 45.51737, 9.20937 45.51741, ...\n",
      "1    SV_STR_110        03  POLYGON ((9.2115 45.47747, 9.21149 45.47746, 9...\n",
      "2    SV_STR_111        03  POLYGON ((9.22903 45.47355, 9.22908 45.47355, ...\n",
      "3    SV_STR_112        03  POLYGON ((9.2374 45.49091, 9.23742 45.49095, 9...\n",
      "4    SV_STR_113        03  POLYGON ((9.21134 45.46782, 9.21136 45.46783, ...\n",
      "..          ...       ...                                                ...\n",
      "182  SV_STR_161        03  POLYGON ((9.16313 45.46118, 9.16313 45.46118, ...\n",
      "183  SV_STR_171        03  POLYGON ((9.17213 45.44369, 9.17215 45.44368, ...\n",
      "184  SV_STR_187        03  POLYGON ((9.25022 45.42419, 9.25032 45.42408, ...\n",
      "185    SV_STR_2        03  POLYGON ((9.09603 45.46015, 9.09601 45.46014, ...\n",
      "186  SV_STR_164        03  POLYGON ((9.15599 45.44263, 9.15599 45.44264, ...\n",
      "\n",
      "[187 rows x 3 columns]\n"
     ]
    }
   ],
   "source": [
    "gdf = gpd.read_file(\"..\\Data\\Raw\\strade_urbane\\prova_strade\\SV_STR.shp\")\n",
    "\n",
    "gdf = gdf.to_crs(4326)\n",
    "\n",
    "print(gdf)\n",
    "\n",
    "# Salvataggio in formato GeoJSON\n",
    "gdf.to_file(\"..\\\\Data\\\\Staging\\\\Strade_urbane\\\\prova_strade.geojson\", driver=\"GeoJSON\")"
   ]
  },
  {
   "cell_type": "code",
   "execution_count": 8,
   "id": "2860bfe8",
   "metadata": {},
   "outputs": [
    {
     "name": "stderr",
     "output_type": "stream",
     "text": [
      "<>:1: SyntaxWarning: invalid escape sequence '\\D'\n",
      "<>:1: SyntaxWarning: invalid escape sequence '\\D'\n",
      "C:\\Users\\apera\\AppData\\Local\\Temp\\ipykernel_25304\\3038280721.py:1: SyntaxWarning: invalid escape sequence '\\D'\n",
      "  gdf_vei = gpd.read_file(\"..\\Data\\Raw\\strade_urbane\\prova_strade\\AC_VEI.shp\")\n"
     ]
    }
   ],
   "source": [
    "gdf_vei = gpd.read_file(\"..\\Data\\Raw\\strade_urbane\\prova_strade\\AC_VEI.shp\")\n",
    "\n",
    "gdf_vei = gdf_vei.to_crs(4326)\n",
    "\n",
    "\n",
    "\n",
    "# Salvataggio in formato GeoJSON\n",
    "gdf_vei.to_file(\"..\\\\Data\\\\Staging\\\\Strade_urbane\\\\prova_VEI.geojson\", driver=\"GeoJSON\")"
   ]
  },
  {
   "cell_type": "code",
   "execution_count": 10,
   "id": "31e56e52",
   "metadata": {},
   "outputs": [
    {
     "name": "stderr",
     "output_type": "stream",
     "text": [
      "<>:1: SyntaxWarning: invalid escape sequence '\\D'\n",
      "<>:1: SyntaxWarning: invalid escape sequence '\\D'\n",
      "C:\\Users\\apera\\AppData\\Local\\Temp\\ipykernel_25304\\3862146740.py:1: SyntaxWarning: invalid escape sequence '\\D'\n",
      "  gdf_vei_sup = gpd.read_file(\"..\\Data\\Raw\\strade_urbane\\prova_strade\\AC_VEI_AC_VEI_SUP_SR.shp\")\n"
     ]
    },
    {
     "name": "stdout",
     "output_type": "stream",
     "text": [
      "                             NOME         SUBREGID      CLASSREF AC_VEI_FON  \\\n",
      "0               VIA TOMMASO GULLI  AC_VEI_SR_29386  AC_VEI_10701         01   \n",
      "1            VIA ODOARDO TABACCHI  AC_VEI_SR_22800   AC_VEI_9928         01   \n",
      "2      VIA GIAN CARLO CASTELBARCO  AC_VEI_SR_22801   AC_VEI_9942         01   \n",
      "3            VIA ODOARDO TABACCHI  AC_VEI_SR_22802   AC_VEI_9928         01   \n",
      "4            VIA ROBERTO SARFATTI  AC_VEI_SR_22803   AC_VEI_9918         01   \n",
      "...                           ...              ...           ...        ...   \n",
      "37887       VIA GAUDENZIO FANTOLI  AC_VEI_SR_33808   AC_VEI_3563         01   \n",
      "37888       VIA GAUDENZIO FANTOLI  AC_VEI_SR_38070   AC_VEI_3563         01   \n",
      "37889       VIA GAUDENZIO FANTOLI  AC_VEI_SR_38071   AC_VEI_3563         01   \n",
      "37890       VIA GAUDENZIO FANTOLI  AC_VEI_SR_38072   AC_VEI_3563         01   \n",
      "37891       VIA GAUDENZIO FANTOLI  AC_VEI_SR_38073   AC_VEI_3563         01   \n",
      "\n",
      "      AC_VEI_LIV AC_VEI_SED AC_VEI_ZON  \\\n",
      "0             02         01         04   \n",
      "1             02         01         04   \n",
      "2             02         01         04   \n",
      "3             02         01         04   \n",
      "4             02         01         04   \n",
      "...          ...        ...        ...   \n",
      "37887         02         01         01   \n",
      "37888         01         01         01   \n",
      "37889         02         01         01   \n",
      "37890         01         01         01   \n",
      "37891         02         01         01   \n",
      "\n",
      "                                                geometry  \n",
      "0      POLYGON Z ((9.1313 45.46526 121.18, 9.13127 45...  \n",
      "1      POLYGON Z ((9.18614 45.44788 113.789, 9.1861 4...  \n",
      "2      POLYGON Z ((9.18614 45.44804 114.222, 9.1861 4...  \n",
      "3      POLYGON Z ((9.1861 45.44804 114.214, 9.18566 4...  \n",
      "4      POLYGON Z ((9.18728 45.44815 114.286, 9.18689 ...  \n",
      "...                                                  ...  \n",
      "37887  POLYGON Z ((9.25522 45.45324 107.716, 9.25515 ...  \n",
      "37888  POLYGON Z ((9.25538 45.45331 107.716, 9.2553 4...  \n",
      "37889  POLYGON Z ((9.25558 45.45341 107.716, 9.25548 ...  \n",
      "37890  POLYGON Z ((9.25549 45.45351 107.716, 9.25558 ...  \n",
      "37891  POLYGON Z ((9.25677 45.45392 108.375, 9.25677 ...  \n",
      "\n",
      "[37892 rows x 8 columns]\n"
     ]
    }
   ],
   "source": [
    "gdf_vei_sup = gpd.read_file(\"..\\Data\\Raw\\strade_urbane\\prova_strade\\AC_VEI_AC_VEI_SUP_SR.shp\")\n",
    "\n",
    "gdf_vei_sup = gdf_vei_sup.to_crs(4326)\n",
    "\n",
    "print(gdf_vei_sup)\n",
    "\n",
    "# Salvataggio in formato GeoJSON\n",
    "gdf_vei_sup.to_file(\"..\\\\Data\\\\Staging\\\\Strade_urbane\\\\prova_vei_sup.geojson\", driver=\"GeoJSON\")"
   ]
  }
 ],
 "metadata": {
  "kernelspec": {
   "display_name": ".venv",
   "language": "python",
   "name": "python3"
  },
  "language_info": {
   "codemirror_mode": {
    "name": "ipython",
    "version": 3
   },
   "file_extension": ".py",
   "mimetype": "text/x-python",
   "name": "python",
   "nbconvert_exporter": "python",
   "pygments_lexer": "ipython3",
   "version": "3.13.5"
  }
 },
 "nbformat": 4,
 "nbformat_minor": 5
}
