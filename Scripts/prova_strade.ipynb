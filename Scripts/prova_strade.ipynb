{
 "cells": [
  {
   "cell_type": "code",
   "execution_count": null,
   "id": "29e4158a",
   "metadata": {},
   "outputs": [],
   "source": [
    "import pandas as pd\n",
    "\n",
    "import geopandas as gpd"
   ]
  },
  {
   "cell_type": "code",
   "execution_count": null,
   "id": "799a46bb",
   "metadata": {},
   "outputs": [],
   "source": [
    "gdf = gpd.read_file(\"..\\Data\\Raw\\strade_urbane\\prova_strade\\SV_STR.shp\")\n",
    "\n",
    "gdf = gdf.to_crs(4326)\n",
    "\n",
    "print(gdf)\n",
    "\n",
    "# Salvataggio in formato GeoJSON\n",
    "gdf.to_file(\"..\\\\Data\\\\Staging\\\\Strade_urbane\\\\prova_strade.geojson\", driver=\"GeoJSON\")"
   ]
  },
  {
   "cell_type": "code",
   "execution_count": 8,
   "id": "2860bfe8",
   "metadata": {},
   "outputs": [
    {
     "name": "stderr",
     "output_type": "stream",
     "text": [
      "<>:1: SyntaxWarning: invalid escape sequence '\\D'\n",
      "<>:1: SyntaxWarning: invalid escape sequence '\\D'\n",
      "C:\\Users\\apera\\AppData\\Local\\Temp\\ipykernel_25304\\3038280721.py:1: SyntaxWarning: invalid escape sequence '\\D'\n",
      "  gdf_vei = gpd.read_file(\"..\\Data\\Raw\\strade_urbane\\prova_strade\\AC_VEI.shp\")\n"
     ]
    }
   ],
   "source": [
    "gdf_vei = gpd.read_file(\"..\\Data\\Raw\\strade_urbane\\prova_strade\\AC_VEI.shp\")\n",
    "\n",
    "gdf_vei = gdf_vei.to_crs(4326)\n",
    "\n",
    "\n",
    "\n",
    "# Salvataggio in formato GeoJSON\n",
    "gdf_vei.to_file(\"..\\\\Data\\\\Staging\\\\Strade_urbane\\\\prova_VEI.geojson\", driver=\"GeoJSON\")"
   ]
  },
  {
   "cell_type": "code",
   "execution_count": null,
   "id": "31e56e52",
   "metadata": {},
   "outputs": [],
   "source": [
    "gdf_vei_sup = gpd.read_file(\"..\\Data\\Raw\\strade_urbane\\prova_strade\\AC_VEI_AC_VEI_SUP_SR.shp\")\n",
    "\n",
    "gdf_vei_sup = gdf_vei_sup.to_crs(4326)\n",
    "\n",
    "print(gdf_vei_sup)\n",
    "\n",
    "# Salvataggio in formato GeoJSON\n",
    "gdf_vei_sup.to_file(\"..\\\\Data\\\\Staging\\\\Strade_urbane\\\\prova_vei_sup.geojson\", driver=\"GeoJSON\")"
   ]
  }
 ],
 "metadata": {
  "kernelspec": {
   "display_name": ".venv",
   "language": "python",
   "name": "python3"
  },
  "language_info": {
   "codemirror_mode": {
    "name": "ipython",
    "version": 3
   },
   "file_extension": ".py",
   "mimetype": "text/x-python",
   "name": "python",
   "nbconvert_exporter": "python",
   "pygments_lexer": "ipython3",
   "version": "3.13.2"
  }
 },
 "nbformat": 4,
 "nbformat_minor": 5
}
