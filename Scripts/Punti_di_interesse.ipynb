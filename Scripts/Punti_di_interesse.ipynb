{
 "cells": [
  {
   "cell_type": "markdown",
   "id": "95ff2939",
   "metadata": {},
   "source": [
    "# Punti di interesse"
   ]
  },
  {
   "cell_type": "code",
   "execution_count": 35,
   "id": "aa9e1892",
   "metadata": {},
   "outputs": [],
   "source": [
    "from shapely import Point\n",
    "\n",
    "import geopandas as gpd"
   ]
  },
  {
   "cell_type": "code",
   "execution_count": 46,
   "id": "e4ded582",
   "metadata": {},
   "outputs": [],
   "source": [
    "#PATH RAW\n",
    "PATH_MUNICIPI_RAW = \"../Data/Raw/Punti_di_interesse/Municipi/Municipi.shp\"\n",
    "PATH_PARCHI_RAW = \"../Data/Raw/Punti_di_interesse/Parchi/Parchi_WGS84_Milano_1.shp\"\n",
    "PATH_FONTANE_RAW = \"../Data/Raw/Punti_di_interesse/fontane_raw.csv\"\n",
    "PATH_BIBLIOTECHE_RAW = \"../Data/Raw/Punti_di_interesse/biblioteche_raw.geojson\"\n",
    "\n",
    "#PATH CLEAN\n",
    "PATH_MUNICIPI_CLEAN = \"../Data/Clean/Punti_di_interesse/municipi_clean.geojson\"\n",
    "PATH_PARCHI_CLEAN = \"../Data/Clean/Punti_di_interesse/parchi_clean.geojson\"\n",
    "PATH_FONTANE_CLEAN = \"../Data/Clean/Punti_di_interesse/fontane_clean.geojson\"\n",
    "PATH_BIBLIOTECHE_CLEAN = \"../Data/Clean/Punti_di_interesse/biblioteche_clean.geojson\""
   ]
  },
  {
   "cell_type": "markdown",
   "id": "b80e93a3",
   "metadata": {},
   "source": [
    "# Municipi"
   ]
  },
  {
   "cell_type": "code",
   "execution_count": null,
   "id": "36044d24",
   "metadata": {},
   "outputs": [],
   "source": [
    "gdf = gpd.read_file(PATH_MUNICIPI_RAW)\n",
    "gdf = gdf.to_crs(\"EPSG:4326\")\n",
    "gdf.to_file(PATH_MUNICIPI_CLEAN)"
   ]
  },
  {
   "cell_type": "markdown",
   "id": "bb451ef2",
   "metadata": {},
   "source": [
    "# PARCHI"
   ]
  },
  {
   "cell_type": "code",
   "execution_count": 20,
   "id": "9383f129",
   "metadata": {},
   "outputs": [],
   "source": [
    "gdf = gpd.read_file(PATH_PARCHI_RAW)\n",
    "gdf.to_file(PATH_PARCHI_CLEAN)"
   ]
  },
  {
   "cell_type": "markdown",
   "id": "fad5fee3",
   "metadata": {},
   "source": [
    "# Fontane"
   ]
  },
  {
   "cell_type": "markdown",
   "id": "66bcd62a",
   "metadata": {},
   "source": [
    "Carichiamo Raw csv"
   ]
  },
  {
   "cell_type": "code",
   "execution_count": null,
   "id": "033ad7d0",
   "metadata": {},
   "outputs": [],
   "source": [
    "gdf = gpd.read_file(PATH_FONTANE_RAW, sep=\";\")\n",
    "gdf[\"Location\"] = gdf[\"Location\"].apply(lambda x: Point((float(x.strip(\"(\").strip(\")\").strip().split(\",\")[1]),\n",
    "                                                        float(x.strip(\"(\").strip(\")\").strip().split(\",\")[0]))))\n",
    "gdf = gdf.rename(columns = {'objectID':'id_fontane',\n",
    "                           'MUNICIPIO':'municipio',\n",
    "                           'ID_NIL': 'id_nome',\n",
    "                           'NIL': \"nome\",\n",
    "                           'LONG_X_4326':'longitudine',\n",
    "                           'LAT_Y_4326': 'latitudine',\n",
    "                           'Location':'geometry'})\n",
    "gdf['icon'] = \"events\"\n",
    "gdf = gpd.GeoDataFrame(gdf, geometry=\"geometry\", crs=\"EPSG:4326\")\n",
    "gdf.to_file(PATH_FONTANE_CLEAN, driver=\"GeoJSON\")"
   ]
  },
  {
   "cell_type": "markdown",
   "id": "3dd5e252",
   "metadata": {},
   "source": [
    "# Biblioteche"
   ]
  },
  {
   "cell_type": "code",
   "execution_count": 47,
   "id": "e36db582",
   "metadata": {},
   "outputs": [],
   "source": [
    "gdf = gpd.read_file(PATH_BIBLIOTECHE_RAW)\n",
    "column = {\n",
    "    \"Indirizzo\": \"Indirizzo\",\n",
    "    \"CAP\": \"CAP\",\n",
    "    \"MUNICIPIO\": \"Municipio\",\n",
    "    \"NIL\": \"Quartiere\",\n",
    "    \"long\": \"Longitudine\",\n",
    "    \"lat\": \"Latitudine\",\n",
    "    \"geometry\": \"geometry\"\n",
    "}\n",
    "gdf = gdf[column.keys()]\n",
    "gdf[\"icon\"] = \"place\"\n",
    "gdf = gdf.rename(columns=column)\n",
    "gdf.to_file(PATH_BIBLIOTECHE_CLEAN, driver=\"GeoJSON\")"
   ]
  },
  {
   "cell_type": "markdown",
   "id": "2a0e38ba",
   "metadata": {},
   "source": [
    "# Biblioteche Lorenzo"
   ]
  },
  {
   "cell_type": "code",
   "execution_count": null,
   "id": "e1d98873",
   "metadata": {},
   "outputs": [],
   "source": [
    "import geopandas as gpd\n",
    "from shapely.geometry import Point\n",
    "\n",
    "# Percorso file di input e output\n",
    "INPUT_PATH = \"../Data/Raw/Punti_di_interesse/biblioteche_raw.geojson\"\n",
    "OUTPUT_PATH = \"../Data/Clean/Punti_di_interesse/biblioteche_clean.geojson\"\n",
    "\n",
    "# Carica il file GeoJSON\n",
    "gdf = gpd.read_file(INPUT_PATH)\n",
    "\n",
    "# Rimuovo le colonne indesiderate\n",
    "gdf = gdf.drop(columns=[\"INDIRIZZO\", \"TELEFONO\", \"FAX\", \"URL\", \"E_MAIL\", \"SOTTOTIPO\", \"CATEGORIA\", \"DISABILI\", \"INFO\", \"ENTE\", \"CIV_NUM\", \"CIV_BAR\", \"COD_VIA\", \"MATRICE\", \"X\", \"Y\", \"ID\", \"ID_NIL\", \"Location\"])\n",
    "\n",
    "# Rinomino le colonne\n",
    "gdf = gdf.rename(columns={\n",
    "    \"ZONA\": \"MUNICIPIO\",\n",
    "    \"LAT_Y_4326\": \"latitudine\",\n",
    "    \"LONG_X_4326\": \"longitudine\"\n",
    "})\n",
    "\n",
    "# Rimuovo le colonne dove municipio == 0\n",
    "gdf = gdf[gdf[\"MUNICIPIO\"].astype(str).str.strip() != \"0\"]\n",
    "\n",
    "# Creo la colonna geometry\n",
    "gdf[\"geometry\"] = gdf.apply(lambda row: Point(row[\"longitudine\"], row[\"latitudine\"]), axis=1)\n",
    "\n",
    "# Imposto sistema di coordinate geografico\n",
    "gdf.set_crs(epsg=4326, inplace=True)\n",
    "\n",
    "gdf[\"icon\"] = \"bookmark\"\n",
    "\n",
    "# Esporto il GeoJSON pulito\n",
    "gdf.to_file(OUTPUT_PATH, driver=\"GeoJSON\")"
   ]
  },
  {
   "cell_type": "markdown",
   "id": "f921b37d",
   "metadata": {},
   "source": [
    "# Case dell'acqua"
   ]
  },
  {
   "cell_type": "code",
   "execution_count": null,
   "id": "12d1bb87",
   "metadata": {},
   "outputs": [],
   "source": [
    "import geopandas as gpd\n",
    "from shapely.geometry import Point\n",
    "\n",
    "# Percorso file di input e output\n",
    "INPUT_PATH = \"../Data/Raw/Punti_di_interesse/case_acqua_raw.geojson\"\n",
    "OUTPUT_PATH = \"../Data/Clean/Punti_di_interesse/case_acqua_clean.geojson\"\n",
    "\n",
    "# Carica il file GeoJSON\n",
    "gdf = gpd.read_file(INPUT_PATH)\n",
    "\n",
    "# Rimuovo le colonne indesiderate\n",
    "gdf = gdf.drop(columns=[\"CAP\", \"ID_NIL\", \"Location\"])\n",
    "\n",
    "# Rinomino le colonne\n",
    "gdf = gdf.rename(columns={\n",
    "    \"LONG_X_4326\": \"longitudine\",\n",
    "    \"LAT_Y_4326\": \"latitudine\"\n",
    "})\n",
    "\n",
    "# Creo la colonna geometry \n",
    "gdf[\"geometry\"] = gdf.apply(lambda row: Point(row[\"longitudine\"], row[\"latitudine\"]), axis=1)\n",
    "\n",
    "# Imposto il sistema di coordinate\n",
    "gdf.set_crs(epsg=4326, inplace=True)\n",
    "\n",
    "# Esporto il GeoJSON pulito\n",
    "gdf.to_file(OUTPUT_PATH, driver=\"GeoJSON\")"
   ]
  },
  {
   "cell_type": "markdown",
   "id": "4bd3c563",
   "metadata": {},
   "source": [
    "# Farmacie"
   ]
  },
  {
   "cell_type": "code",
   "execution_count": null,
   "id": "db01d35f",
   "metadata": {},
   "outputs": [],
   "source": [
    "import geopandas as gpd\n",
    "from shapely.geometry import Point\n",
    "\n",
    "# Percorso file di input e output\n",
    "INPUT_PATH = \"../Data/Raw/Punti_di_interesse/farmacie_raw.geojson\"\n",
    "OUTPUT_PATH = \"../Data/Clean/Punti_di_interesse/farmacie_clean.geojson\"\n",
    "\n",
    "# Carica il file GeoJSON\n",
    "gdf = gpd.read_file(INPUT_PATH)\n",
    "\n",
    "# Rimuovo le colonne indesiderate\n",
    "gdf = gdf.drop(columns=[\"CODICE_FARMACIA\", \"PARTITA_IVA\", \"COMUNE\", \"FRAZIONE\", \"CAP\", \"PROVINCIA\", \"CODICE_ISTAT\", \"ID_NIL\", \"Location\"])\n",
    "\n",
    "# Rinomino le colonne\n",
    "gdf = gdf.rename(columns={\n",
    "    \"LATITUDINE\": \"latitudine\",\n",
    "    \"LONGITUDINE\": \"longitudine\"\n",
    "})\n",
    "\n",
    "# Creo la colonna geometry\n",
    "gdf[\"geometry\"] = gdf.apply(lambda row: Point(row[\"longitudine\"], row[\"latitudine\"]), axis=1)\n",
    "\n",
    "# Imposto sistema di coordinate geografico\n",
    "gdf.set_crs(epsg=4326, inplace=True)\n",
    "\n",
    "gdf[\"icon\"] = \"control-on\"\n",
    "\n",
    "# Esporto il GeoJSON pulito\n",
    "gdf.to_file(OUTPUT_PATH, driver=\"GeoJSON\")\n"
   ]
  }
 ],
 "metadata": {
  "kernelspec": {
   "display_name": "Python 3",
   "language": "python",
   "name": "python3"
  },
  "language_info": {
   "codemirror_mode": {
    "name": "ipython",
    "version": 3
   },
   "file_extension": ".py",
   "mimetype": "text/x-python",
   "name": "python",
   "nbconvert_exporter": "python",
   "pygments_lexer": "ipython3",
   "version": "3.13.5"
  }
 },
 "nbformat": 4,
 "nbformat_minor": 5
}
