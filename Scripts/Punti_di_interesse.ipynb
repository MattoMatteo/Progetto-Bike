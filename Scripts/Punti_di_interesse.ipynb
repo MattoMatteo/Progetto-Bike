{
 "cells": [
  {
   "cell_type": "markdown",
   "id": "95ff2939",
   "metadata": {},
   "source": [
    "# Punti di interesse"
   ]
  },
  {
   "cell_type": "code",
   "execution_count": 25,
   "id": "aa9e1892",
   "metadata": {},
   "outputs": [],
   "source": [
    "from shapely import Point\n",
    "\n",
    "import geopandas as gpd"
   ]
  },
  {
   "cell_type": "code",
   "execution_count": 21,
   "id": "e4ded582",
   "metadata": {},
   "outputs": [],
   "source": [
    "#PATH RAW\n",
    "PATH_MUNICIPI_RAW = \"../Data/Raw/Punti_di_interesse/Municipi/Municipi.shp\"\n",
    "PATH_PARCHI_RAW = \"../Data/Raw/Punti_di_interesse/Parchi/Parchi_WGS84_Milano_1.shp\"\n",
    "PATH_FONTANE_RAW = \"../Data/Raw/Punti_di_interesse/fontane_raw.csv\"\n",
    "\n",
    "#PATH CLEAN\n",
    "PATH_MUNICIPI_CLEAN = \"../Data/Clean/Punti_di_interesse/municipi_clean.geojson\"\n",
    "PATH_PARCHI_CLEAN = \"../Data/Clean/Punti_di_interesse/parchi_clean.geojson\"\n",
    "PATH_FONTANE_CLEAN = \"../Data/Clean/Punti_di_interesse/fontane_clean.geojson\""
   ]
  },
  {
   "cell_type": "markdown",
   "id": "b80e93a3",
   "metadata": {},
   "source": [
    "# Municipi"
   ]
  },
  {
   "cell_type": "code",
   "execution_count": null,
   "id": "36044d24",
   "metadata": {},
   "outputs": [],
   "source": [
    "gdf = gpd.read_file(PATH_MUNICIPI_RAW)\n",
    "gdf = gdf.to_crs(\"EPSG:4326\")\n",
    "gdf.to_file(PATH_MUNICIPI_CLEAN)"
   ]
  },
  {
   "cell_type": "markdown",
   "id": "bb451ef2",
   "metadata": {},
   "source": [
    "# PARCHI"
   ]
  },
  {
   "cell_type": "code",
   "execution_count": 20,
   "id": "9383f129",
   "metadata": {},
   "outputs": [],
   "source": [
    "gdf = gpd.read_file(PATH_PARCHI_RAW)\n",
    "gdf.to_file(PATH_PARCHI_CLEAN)"
   ]
  },
  {
   "cell_type": "markdown",
   "id": "fad5fee3",
   "metadata": {},
   "source": [
    "# Fontane"
   ]
  },
  {
   "cell_type": "markdown",
   "id": "66bcd62a",
   "metadata": {},
   "source": [
    "Carichiamo Raw csv"
   ]
  },
  {
   "cell_type": "code",
   "execution_count": null,
   "id": "033ad7d0",
   "metadata": {},
   "outputs": [],
   "source": [
    "gdf = gpd.read_file(PATH_FONTANE_RAW, sep=\";\")\n",
    "gdf[\"Location\"] = gdf[\"Location\"].apply(lambda x: Point((float(x.strip(\"(\").strip(\")\").strip().split(\",\")[1]),\n",
    "                                                        float(x.strip(\"(\").strip(\")\").strip().split(\",\")[0]))))\n",
    "gdf = gdf.rename(columns = {'objectID':'id_fontane',\n",
    "                           'MUNICIPIO':'municipio',\n",
    "                           'ID_NIL': 'id_nome',\n",
    "                           'NIL': \"nome\",\n",
    "                           'LONG_X_4326':'longitudine',\n",
    "                           'LAT_Y_4326': 'latitudine',\n",
    "                           'Location':'geometry'})\n",
    "gdf['icon'] = \"events\"\n",
    "gdf = gpd.GeoDataFrame(gdf, geometry=\"geometry\", crs=\"EPSG:4326\")\n",
    "gdf.to_file(PATH_FONTANE_CLEAN, driver=\"GeoJSON\")"
   ]
  }
 ],
 "metadata": {
  "kernelspec": {
   "display_name": ".venv",
   "language": "python",
   "name": "python3"
  },
  "language_info": {
   "codemirror_mode": {
    "name": "ipython",
    "version": 3
   },
   "file_extension": ".py",
   "mimetype": "text/x-python",
   "name": "python",
   "nbconvert_exporter": "python",
   "pygments_lexer": "ipython3",
   "version": "3.13.2"
  }
 },
 "nbformat": 4,
 "nbformat_minor": 5
}
