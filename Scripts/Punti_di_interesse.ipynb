{
 "cells": [
  {
   "cell_type": "markdown",
   "id": "a44a6309",
   "metadata": {},
   "source": [
    "# Punti di interesse"
   ]
  },
  {
   "cell_type": "code",
   "execution_count": 1,
   "id": "e4ded582",
   "metadata": {},
   "outputs": [],
   "source": [
    "import json\n",
    "from shapely import Point\n",
    "from shapely.geometry import MultiPolygon, Polygon\n",
    "from shapely.ops import unary_union\n",
    "\n",
    "import geopandas as gpd\n",
    "\n",
    "from my_paths import *"
   ]
  },
  {
   "cell_type": "markdown",
   "id": "b80e93a3",
   "metadata": {},
   "source": [
    "# Municipi"
   ]
  },
  {
   "cell_type": "code",
   "execution_count": null,
   "id": "36044d24",
   "metadata": {},
   "outputs": [],
   "source": [
    "gdf = gpd.read_file(PATH_MUNICIPI_RAW)\n",
    "gdf = gdf.to_crs(\"EPSG:4326\")\n",
    "gdf.to_file(PATH_MUNICIPI_CLEAN)"
   ]
  },
  {
   "cell_type": "markdown",
   "id": "bb451ef2",
   "metadata": {},
   "source": [
    "# Parchi"
   ]
  },
  {
   "cell_type": "code",
   "execution_count": 20,
   "id": "9fd56124",
   "metadata": {},
   "outputs": [],
   "source": [
    "gdf_parchi = gpd.read_file(PATH_PARCHI_RAW)"
   ]
  },
  {
   "cell_type": "code",
   "execution_count": 21,
   "id": "9383f129",
   "metadata": {},
   "outputs": [],
   "source": [
    "def flatten_to_multipolygon(geoms):\n",
    "    flat_polygons = []\n",
    "    for geom in geoms:\n",
    "        if isinstance(geom, Polygon):\n",
    "            flat_polygons.append(geom)\n",
    "        elif isinstance(geom, MultiPolygon):\n",
    "            flat_polygons.extend(list(geom.geoms))\n",
    "        else:\n",
    "            continue  # ignora altri tipi (es. None)\n",
    "    return MultiPolygon(flat_polygons)\n",
    "\n",
    "gdf_parchi_uniti = gpd.GeoDataFrame(\n",
    "    gdf_parchi.groupby(\"PARCO\").agg({\n",
    "        'ZONA': \"first\",\n",
    "        'AREA': \"first\",\n",
    "        'geometry': flatten_to_multipolygon\n",
    "        })\n",
    ").reset_index()\n",
    "\n",
    "gdf_parchi_uniti = gdf_parchi_uniti.set_crs('EPSG:4326').to_crs(\"EPSG:32632\")\n",
    "gdf_parchi_uniti['PERIM_M'] = gdf_parchi_uniti.geometry.apply(lambda geom: unary_union(geom).boundary.length)\n",
    "gdf_parchi_uniti['AREA_MQ'] = gdf_parchi_uniti.geometry.area\n",
    "\n",
    "gdf_parchi_uniti = gdf_parchi_uniti.to_crs('EPSG:4326')"
   ]
  },
  {
   "cell_type": "code",
   "execution_count": 22,
   "id": "f7d3450c",
   "metadata": {},
   "outputs": [],
   "source": [
    "gdf_parchi_uniti.to_file(PATH_PARCHI_CLEAN, driver=\"GeoJSON\")"
   ]
  },
  {
   "cell_type": "markdown",
   "id": "fad5fee3",
   "metadata": {},
   "source": [
    "# Fontane"
   ]
  },
  {
   "cell_type": "markdown",
   "id": "66bcd62a",
   "metadata": {},
   "source": [
    "Carichiamo Raw csv"
   ]
  },
  {
   "cell_type": "code",
   "execution_count": null,
   "id": "033ad7d0",
   "metadata": {},
   "outputs": [],
   "source": [
    "gdf = gpd.read_file(PATH_FONTANE_RAW, sep=\";\")\n",
    "gdf[\"Location\"] = gdf[\"Location\"].apply(lambda x: Point((float(x.strip(\"(\").strip(\")\").strip().split(\",\")[1]),\n",
    "                                                        float(x.strip(\"(\").strip(\")\").strip().split(\",\")[0]))))\n",
    "gdf = gdf.rename(columns = {'objectID':'id_fontane',\n",
    "                           'MUNICIPIO':'municipio',\n",
    "                           'ID_NIL': 'id_nome',\n",
    "                           'NIL': \"nome\",\n",
    "                           'LONG_X_4326':'longitudine',\n",
    "                           'LAT_Y_4326': 'latitudine',\n",
    "                           'Location':'geometry'})\n",
    "gdf['icon'] = \"events\"\n",
    "gdf = gpd.GeoDataFrame(gdf, geometry=\"geometry\", crs=\"EPSG:4326\")\n",
    "gdf.to_file(PATH_FONTANE_CLEAN, driver=\"GeoJSON\")"
   ]
  },
  {
   "cell_type": "markdown",
   "id": "2d93ee93",
   "metadata": {},
   "source": [
    "# Impianti sportivi"
   ]
  },
  {
   "cell_type": "markdown",
   "id": "0de00c19",
   "metadata": {},
   "source": [
    "1. Rimozione righe in cui non è segnalata una data inizio costruzione\n",
    "2. Rimozione delle piste ciclabili, dato che abbiamo un dataset apposito\n",
    "3. Convertiamo la data in un intero, in modo da poter filtrare agilmente su kepler"
   ]
  },
  {
   "cell_type": "code",
   "execution_count": null,
   "id": "6d4c4779",
   "metadata": {},
   "outputs": [],
   "source": [
    "gdf = gpd.read_file(PATH_IMPIANTI_SPORTIVI_RAW)\n",
    "gdf = gdf[[\"municipio\", \"località\", \"obj_id\", \"data_ini\", \"area_mq\", \"perim_m\", \"descrizione_codice\", \"geometry\"]]\n",
    "gdf = gdf.rename(columns={\"data_ini\": \"anno_inizio\", \"obj_id\": \"id_impianto\"})\n",
    "\n",
    "gdf = gdf[gdf[\"anno_inizio\"].notna()].reset_index()\n",
    "gdf[\"anno_inizio\"] = gdf[\"anno_inizio\"].apply(lambda x: x.year)\n",
    "\n",
    "gdf = gdf[~gdf[\"descrizione_codice\"].str.contains(\"pista ciclabile\", case=False, na=False)].reset_index()\n",
    "gdf = gdf.drop(columns=[\"level_0\", \"index\"], errors=\"ignore\")"
   ]
  },
  {
   "cell_type": "markdown",
   "id": "addcb3b7",
   "metadata": {},
   "source": [
    "Salviamo in Clean"
   ]
  },
  {
   "cell_type": "code",
   "execution_count": null,
   "id": "9f53a865",
   "metadata": {},
   "outputs": [],
   "source": [
    "gdf.to_file(PATH_IMPIANTI_SPORTIVI_CLEAN, driver=\"GeoJSON\")"
   ]
  },
  {
   "cell_type": "markdown",
   "id": "3dd5e252",
   "metadata": {},
   "source": [
    "# Biblioteche"
   ]
  },
  {
   "cell_type": "code",
   "execution_count": null,
   "id": "e36db582",
   "metadata": {},
   "outputs": [],
   "source": [
    "gdf = gpd.read_file(PATH_BIBLIOTECHE_RAW)\n",
    "print(type(gdf))\n",
    "column = {\n",
    "    \"Indirizzo\": \"Indirizzo\",\n",
    "    \"CAP\": \"CAP\",\n",
    "    \"MUNICIPIO\": \"Municipio\",\n",
    "    \"NIL\": \"Quartiere\",\n",
    "    \"long\": \"Longitudine\",\n",
    "    \"lat\": \"Latitudine\",\n",
    "    \"geometry\": \"geometry\"\n",
    "}\n",
    "gdf = gdf[column.keys()]\n",
    "gdf[\"icon\"] = \"place\"\n",
    "gdf = gdf.rename(columns=column)\n",
    "\n",
    "gdf.to_file(PATH_BIBLIOTECHE_CLEAN, driver=\"GeoJSON\")"
   ]
  },
  {
   "cell_type": "markdown",
   "id": "8e79eebc",
   "metadata": {},
   "source": [
    "# Scuole"
   ]
  },
  {
   "cell_type": "markdown",
   "id": "0849981a",
   "metadata": {},
   "source": [
    "Carichiamo tutti i file raw come gdf"
   ]
  },
  {
   "cell_type": "code",
   "execution_count": null,
   "id": "f3e1f1e9",
   "metadata": {},
   "outputs": [],
   "source": [
    "gdf_primarie = gpd.read_file(PATH_SCUOLE_PRIMARIE_RAW)\n",
    "gdf_secondarie_1 = gpd.read_file(PATH_SCUOLE_SECONDARIE_PRIMO_RAW)\n",
    "gdf_secondarie_2 = gpd.read_file(PATH_SCUOLE_SECONDARIE_SECONDO_RAW)\n",
    "gdf_universita = gpd.read_file(PATH_UNIVERSITA_RAW)"
   ]
  },
  {
   "cell_type": "markdown",
   "id": "9b03faf0",
   "metadata": {},
   "source": [
    "Scuole primarie e secondarie di primo grado possiedono la stessa granularità quindi effettiuamo le stesse operazioni per entrambi.  \n",
    "1. Filtro solo per ANNOSCOL 2023/2024  \n",
    "2. Rinomino colonne che ci servono e tengo solo quelle"
   ]
  },
  {
   "cell_type": "code",
   "execution_count": null,
   "id": "3366618a",
   "metadata": {},
   "outputs": [],
   "source": [
    "column_prim_sec1 = {\n",
    "    \"DENOMINAZIONE\": \"Denominazione\",\n",
    "    \"GRADO\": \"Grado\",\n",
    "    \"INDIRIZZO\": \"Indirizzo\",\n",
    "    \"MUNICIPIO\": \"Municipio\",\n",
    "    \"NIL\": \"Quartiere\",\n",
    "    \"LONG_X_4326\": \"Longitudine\",\n",
    "    \"LAT_Y_4326\": \"Latitudine\",\n",
    "    \"geometry\": \"geometry\"\n",
    "}\n",
    "# Modifico nomi e tengo solo colonne che mi serono per primarie\n",
    "gdf_primarie = gdf_primarie[gdf_primarie[\"ANNOSCOL\"] == 2324].reset_index()\n",
    "gdf_primarie = gdf_primarie.rename(columns=column_prim_sec1)[column_prim_sec1.values()]\n",
    "# e secondarie \n",
    "gdf_secondarie_1 = gdf_secondarie_1[gdf_secondarie_1[\"ANNOSCOL\"] == 2324].reset_index()\n",
    "gdf_secondarie_1 = gdf_secondarie_1.rename(columns=column_prim_sec1)[column_prim_sec1.values()]\n",
    "gdf_secondarie_1[\"Grado\"] = \"Scuola secondaria - Primo grado\""
   ]
  },
  {
   "cell_type": "markdown",
   "id": "7edee733",
   "metadata": {},
   "source": [
    "Nulla da sistemare, faccio solo il rename delle colonne ed estraggo dal df solo quelle"
   ]
  },
  {
   "cell_type": "code",
   "execution_count": null,
   "id": "ebd4ea05",
   "metadata": {},
   "outputs": [],
   "source": [
    "column_sec2 = {\n",
    "    \"DENOMINAZ\": \"Denominazione\",\n",
    "    \"TIPOLOGIA\": \"Grado\",\n",
    "    \"INDIRIZZO\": \"Indirizzo\",\n",
    "    \"MUNICIPIO\": \"Municipio\",\n",
    "    \"NIL\": \"Quartiere\",\n",
    "    \"LONG_X_4326\": \"Longitudine\",\n",
    "    \"LAT_Y_4326\": \"Latitudine\",\n",
    "    \"geometry\": \"geometry\"\n",
    "}\n",
    "gdf_secondarie_2 = gdf_secondarie_2.rename(columns=column_sec2)[column_sec2.values()]\n",
    "gdf_secondarie_2[\"Grado\"] = \"Scuola secondaria - Secondo grado\""
   ]
  },
  {
   "cell_type": "markdown",
   "id": "545a39d0",
   "metadata": {},
   "source": [
    "Uguale per università"
   ]
  },
  {
   "cell_type": "code",
   "execution_count": null,
   "id": "8d771453",
   "metadata": {},
   "outputs": [],
   "source": [
    "column_uni = {\n",
    "    \"DENOMINAZ\": \"Denominazione\",\n",
    "    \"TIPOLOGIA\": \"Grado\",\n",
    "    \"INDIRIZZO\": \"Indirizzo\",\n",
    "    \"MUNICIPIO\": \"Municipio\",\n",
    "    \"NIL\": \"Quartiere\",\n",
    "    \"LONG_X_4326\": \"Longitudine\",\n",
    "    \"LAT_Y_4326\": \"Latitudine\",\n",
    "    \"geometry\": \"geometry\"\n",
    "}\n",
    "gdf_universita = gdf_universita.rename(columns=column_uni)[column_uni.values()]\n",
    "gdf_universita[\"Grado\"] = \"Università\""
   ]
  },
  {
   "cell_type": "markdown",
   "id": "1d4871ae",
   "metadata": {},
   "source": [
    "Uniamo i 4 geodataframe ripuliti e portati alla stessa granularità"
   ]
  },
  {
   "cell_type": "code",
   "execution_count": null,
   "id": "a49cecfc",
   "metadata": {},
   "outputs": [],
   "source": [
    "final_gdf = gpd.pd.concat([gdf_primarie, gdf_secondarie_1, gdf_secondarie_2, gdf_universita], ignore_index=True)\n",
    "final_gdf = gpd.GeoDataFrame(final_gdf, geometry=gdf_primarie.geometry.name)"
   ]
  },
  {
   "cell_type": "markdown",
   "id": "f4ae6954",
   "metadata": {},
   "source": [
    "Aggiungo colonna icona per la visualizzazione su kepler"
   ]
  },
  {
   "cell_type": "code",
   "execution_count": null,
   "id": "6d213329",
   "metadata": {},
   "outputs": [],
   "source": [
    "final_gdf[\"icon\"] = \"id-card\""
   ]
  },
  {
   "cell_type": "markdown",
   "id": "7ce1c256",
   "metadata": {},
   "source": [
    "Salviamo il file in Clean"
   ]
  },
  {
   "cell_type": "code",
   "execution_count": null,
   "id": "8004b41a",
   "metadata": {},
   "outputs": [],
   "source": [
    "final_gdf.to_file(PATH_SCUOLE_CLEAN, driver=\"GeoJSON\")"
   ]
  },
  {
   "cell_type": "markdown",
   "id": "528e761f",
   "metadata": {},
   "source": [
    "# Farmacie"
   ]
  },
  {
   "cell_type": "code",
   "execution_count": 1,
   "id": "a58de58c",
   "metadata": {},
   "outputs": [],
   "source": [
    "import geopandas as gpd\n",
    "\n",
    "from my_paths import *"
   ]
  },
  {
   "cell_type": "markdown",
   "id": "c67ad38a",
   "metadata": {},
   "source": [
    "Rinominiamo e filtriamo le colonne che ci interessano"
   ]
  },
  {
   "cell_type": "code",
   "execution_count": 2,
   "id": "75d186dd",
   "metadata": {},
   "outputs": [],
   "source": [
    "gdf = gpd.read_file(PATH_FARMACIE_RAW)\n",
    "column = {\n",
    "    \"DESCRIZIONE_FARMACIA\": \"Descrizione_farmacia\",\n",
    "    \"CAP\":\"CAP\",\n",
    "    \"MUNICIPIO\": \"Municipio\",\n",
    "    \"NIL\": \"Quartiere\",\n",
    "    \"LONGITUDINE\": \"Longitudine\",\n",
    "    \"LATITUDINE\": \"Latitudine\",\n",
    "    \"geometry\": \"geometry\"\n",
    "}\n",
    "gdf = gdf[column.keys()]\n",
    "gdf[\"icon\"] = \"control-on\"\n",
    "gdf = gdf.rename(columns=column)"
   ]
  },
  {
   "cell_type": "markdown",
   "id": "172f5213",
   "metadata": {},
   "source": [
    "Salviamo in Clean"
   ]
  },
  {
   "cell_type": "code",
   "execution_count": 3,
   "id": "c723552f",
   "metadata": {},
   "outputs": [],
   "source": [
    "gdf.to_file(PATH_FARMACIE_CLEAN, driver=\"GeoJSON\")"
   ]
  },
  {
   "cell_type": "markdown",
   "id": "6a714718",
   "metadata": {},
   "source": [
    "# Aree Gioco"
   ]
  },
  {
   "cell_type": "markdown",
   "id": "f2bdab95",
   "metadata": {},
   "source": [
    "Carichiamo il dataframe e modifichiamo la \"data_ini\" in un intero in cui teniamo solo l'anno."
   ]
  },
  {
   "cell_type": "code",
   "execution_count": 43,
   "id": "b4a1e8ec",
   "metadata": {},
   "outputs": [],
   "source": [
    "gdf = gpd.read_file(PATH_AREE_GIOCO_RAW)\n",
    "gdf[\"data_ini\"] = gpd.pd.to_datetime(gdf[\"data_ini\"]).dt.year.astype(\"Int64\")"
   ]
  },
  {
   "cell_type": "markdown",
   "id": "5bb588c7",
   "metadata": {},
   "source": [
    "Creo un dizionario che associa ad ogni range di obj_id la data_ini più probabile in base a quelle presenti nel df.  \n",
    "Questo ci permetterà di sintetizzare le data_ini quando mancano."
   ]
  },
  {
   "cell_type": "code",
   "execution_count": 45,
   "id": "fbd84e01",
   "metadata": {},
   "outputs": [],
   "source": [
    "id_ranges = list(zip(range(0, 170_001, 10_000), range(9_999, 180_001, 10_000)))\n",
    "\n",
    "id_data = {}\n",
    "for start_id, end_id in id_ranges:\n",
    "    df_range = gdf[(gdf[\"obj_id\"] >= start_id) & (gdf[\"obj_id\"] <= end_id)]\n",
    "    if not df_range.empty:\n",
    "        data_counts = df_range[\"data_ini\"].value_counts()\n",
    "        id_data[gpd.pd.Interval(start_id, end_id, closed=\"both\")] = {\n",
    "            \"data\":  data_counts.idxmax(),\n",
    "            \"percentuale\": round(data_counts.max() / data_counts.sum() * 100, 2)\n",
    "        }"
   ]
  },
  {
   "cell_type": "code",
   "execution_count": 46,
   "id": "1177187b",
   "metadata": {},
   "outputs": [],
   "source": [
    "def get_fill_date(row, id_data_reference:dict):\n",
    "    for interval, data in id_data_reference.items():\n",
    "        if row[\"obj_id\"] in interval:\n",
    "            return data[\"data\"]\n",
    "    return None\n",
    "\n",
    "# Modifico i valori mancanti di \"data_ini\"\n",
    "valori_mancanti = gdf[\"data_ini\"].isna() | (gdf[\"data_ini\"].astype(str).str.strip() == \"\")\n",
    "gdf.loc[valori_mancanti, \"data_ini\"] = gdf[valori_mancanti].apply(lambda row: get_fill_date(row, id_data), axis=1)\n",
    "\n",
    "# Elimino colonne superflue\n",
    "gdf = gdf.drop(columns=[\"id_area\", \"obj_id\", \"codice\", \"descrizione_codice\"])"
   ]
  },
  {
   "cell_type": "code",
   "execution_count": 47,
   "id": "20d81422",
   "metadata": {},
   "outputs": [],
   "source": [
    "# Salvo GeoJSON pulito\n",
    "gdf.to_file(PATH_AREE_GIOCO_CLEAN, driver=\"GeoJSON\")"
   ]
  },
  {
   "cell_type": "markdown",
   "id": "344e18bf",
   "metadata": {},
   "source": [
    "# Teatri\n"
   ]
  },
  {
   "cell_type": "markdown",
   "id": "bba3d530",
   "metadata": {},
   "source": [
    "- Conversione json in geojson aggiungendo geometry a partire da: glongitude e glatitude\n",
    "- Filtro su \"zona\" != 0 perché equivale a \"chiusi definitavamente\"\n",
    "- Filtro su \"sottotipo\" mantenendo solo i teatri e auditorium\n",
    "- Manteniamo solo le colonne utili e rinominiamole"
   ]
  },
  {
   "cell_type": "code",
   "execution_count": 34,
   "id": "8ba46c12",
   "metadata": {},
   "outputs": [
    {
     "name": "stderr",
     "output_type": "stream",
     "text": [
      "c:\\Matteo\\Coding\\Project\\Progetto Esame BI\\.venv\\Lib\\site-packages\\pyogrio\\geopandas.py:710: UserWarning: 'crs' was not provided.  The output dataset will not have projection information defined and may not be usable in other systems.\n",
      "  write(\n"
     ]
    }
   ],
   "source": [
    "df = gpd.pd.read_json(PATH_TEATRI_RAW)\n",
    "df[\"geometry\"] = df.apply(lambda row: Point(row[\"glongitude\"], row[\"glatitude\"]), axis=1)\n",
    "df = df[df[\"zona\"] != 0]\n",
    "df = df[df[\"sottotipo\"].str.upper().isin([\"TEATRO\", \"AUDITORIUM\"])]\n",
    "columns = {\n",
    "    \"denominaz\": \"nome_teatro\",\n",
    "    \"sottotipo\": \"sottotipo\",\n",
    "    \"id\": \"id_teatro\",\n",
    "    \"zona\": \"municipio\",\n",
    "    \"glongitude\": \"longitudine\",\n",
    "    \"glatitude\": \"latitudine\",\n",
    "    \"geometry\": \"geometry\"\n",
    "}\n",
    "df = df[columns.keys()]\n",
    "df = df.rename(columns=columns).reset_index(drop=True)\n",
    "gpd.GeoDataFrame(df, geometry=\"geometry\").to_file(PATH_TEATRI_CLEAN, driver=\"GeoJSON\")"
   ]
  }
 ],
 "metadata": {
  "kernelspec": {
   "display_name": ".venv",
   "language": "python",
   "name": "python3"
  },
  "language_info": {
   "codemirror_mode": {
    "name": "ipython",
    "version": 3
   },
   "file_extension": ".py",
   "mimetype": "text/x-python",
   "name": "python",
   "nbconvert_exporter": "python",
   "pygments_lexer": "ipython3",
   "version": "3.13.2"
  }
 },
 "nbformat": 4,
 "nbformat_minor": 5
}
