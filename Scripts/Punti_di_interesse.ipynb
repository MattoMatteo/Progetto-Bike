{
 "cells": [
  {
   "cell_type": "markdown",
   "id": "a44a6309",
   "metadata": {},
   "source": [
    "# Punti di interesse"
   ]
  },
  {
   "cell_type": "code",
   "execution_count": 3,
   "id": "e4ded582",
   "metadata": {},
   "outputs": [],
   "source": [
    "import json\n",
    "from shapely import Point, MultiPolygon, Polygon\n",
    "from shapely.ops import unary_union\n",
    "\n",
    "import geopandas as gpd\n",
    "import osmnx as ox\n",
    "\n",
    "from my_paths import *\n",
    "import Graph_functions"
   ]
  },
  {
   "cell_type": "markdown",
   "id": "7de29985",
   "metadata": {},
   "source": [
    "## Municipi"
   ]
  },
  {
   "cell_type": "code",
   "execution_count": null,
   "id": "6bde508e",
   "metadata": {},
   "outputs": [],
   "source": [
    "gdf = gpd.read_file(PATH_MUNICIPI_RAW).to_crs(CRS_GRAD)\n",
    "gdf.rename(columns={\"municipio\": \"MUNICIPIO\"},inplace=True)\n",
    "gdf[\"MUNICIPIO\"] = gdf[\"MUNICIPIO\"].astype(int)\n",
    "gdf.to_file(PATH_MUNICIPI_CLEAN)"
   ]
  },
  {
   "cell_type": "markdown",
   "id": "a02fd825",
   "metadata": {},
   "source": [
    "## Stazioni BikeMi"
   ]
  },
  {
   "cell_type": "code",
   "execution_count": 46,
   "id": "4e3b2165",
   "metadata": {},
   "outputs": [
    {
     "name": "stderr",
     "output_type": "stream",
     "text": [
      "c:\\Matteo\\Coding\\Project\\Progetto-Bike\\.venv\\Lib\\site-packages\\pyogrio\\raw.py:198: RuntimeWarning: driver CSV does not support open option SEP\n",
      "  return ogr_read(\n"
     ]
    }
   ],
   "source": [
    "gdf = gpd.read_file(PATH_BIKEMI_RAW, sep = ';')\n",
    "gdf = gdf.rename(columns = {'id_amat':'id_stazione',\n",
    "                           'stalli':'n_posti',\n",
    "                           'LONG_X_4326':'longitudine',\n",
    "                           'LAT_Y_4326': 'latitudine',\n",
    "                           'Location':'location'})\n",
    "gdf.drop(['stato', 'id_via', 'indirizzo', 'civico', 'zd_attuale', 'anno', \"tipo\"], axis=1, inplace=True)\n",
    "gdf['icon'] = \"share\"\n",
    "gdf[\"geometry\"] = gdf.apply(lambda row: Point(row['longitudine'], row['latitudine']), axis=1)\n",
    "gdf = gdf.set_geometry(\"geometry\", crs=4326)\n",
    "gdf = gdf.drop(columns=\"location\")"
   ]
  },
  {
   "cell_type": "markdown",
   "id": "47eaa31a",
   "metadata": {},
   "source": [
    "Aggiungiamo colonna MUNICIPI tramite sjoin \"intersect\" per la join con le strade durante le analisi"
   ]
  },
  {
   "cell_type": "code",
   "execution_count": null,
   "id": "db08b838",
   "metadata": {},
   "outputs": [],
   "source": [
    "municipi = gpd.read_file(PATH_MUNICIPI_CLEAN)\n",
    "gdf = gpd.sjoin(\n",
    "    gdf,\n",
    "    municipi,\n",
    "    how=\"left\",\n",
    "    predicate=\"intersects\"\n",
    "    ).drop([\"index_right\"], axis=1) # eliminiamo l'index_right (conserva l'indice del dataframe del gdf di destra ma non ci serve)\n",
    "gdf[\"MUNICIPIO\"] = gdf[\"MUNICIPIO\"].astype(int)\n",
    "gdf.drop([\"AREA\",\"PERIMETRO\"], axis=1, inplace=True)"
   ]
  },
  {
   "cell_type": "code",
   "execution_count": 49,
   "id": "58c26b6c",
   "metadata": {},
   "outputs": [],
   "source": [
    "gdf.to_file(PATH_BIKEMI_CLEAN, driver=\"GeoJSON\")"
   ]
  },
  {
   "cell_type": "markdown",
   "id": "bb451ef2",
   "metadata": {},
   "source": [
    "# Parchi"
   ]
  },
  {
   "cell_type": "code",
   "execution_count": 7,
   "id": "9fd56124",
   "metadata": {},
   "outputs": [],
   "source": [
    "gdf_parchi = gpd.read_file(PATH_PARCHI_RAW)"
   ]
  },
  {
   "cell_type": "code",
   "execution_count": 8,
   "id": "9383f129",
   "metadata": {},
   "outputs": [],
   "source": [
    "def flatten_to_multipolygon(geoms):\n",
    "    flat_polygons = []\n",
    "    for geom in geoms:\n",
    "        if isinstance(geom, Polygon):\n",
    "            flat_polygons.append(geom)\n",
    "        elif isinstance(geom, MultiPolygon):\n",
    "            flat_polygons.extend(list(geom.geoms))\n",
    "        else:\n",
    "            continue  # ignora altri tipi (es. None)\n",
    "    return MultiPolygon(flat_polygons)\n",
    "\n",
    "gdf_parchi_uniti = gpd.GeoDataFrame(\n",
    "    gdf_parchi.groupby(\"PARCO\").agg({\n",
    "        'ZONA': \"first\",\n",
    "        'AREA': \"first\",\n",
    "        'geometry': flatten_to_multipolygon\n",
    "        })\n",
    ").reset_index()\n",
    "gdf_parchi_uniti.rename(columns={\"ZONA\": \"MUNICIPIO\"}, inplace=True)\n",
    "gdf_parchi_uniti[\"MUNICIPIO\"] = gdf_parchi_uniti[\"MUNICIPIO\"].astype(int)\n",
    "gdf_parchi_uniti = gdf_parchi_uniti.set_crs(CRS_GRAD).to_crs(CRS_METR)\n",
    "gdf_parchi_uniti['PERIM_M'] = gdf_parchi_uniti.geometry.apply(lambda geom: unary_union(geom).boundary.length)\n",
    "gdf_parchi_uniti['AREA_MQ'] = gdf_parchi_uniti.geometry.area\n",
    "\n",
    "gdf_parchi_uniti = gdf_parchi_uniti.to_crs(CRS_GRAD)"
   ]
  },
  {
   "cell_type": "code",
   "execution_count": 9,
   "id": "f7d3450c",
   "metadata": {},
   "outputs": [],
   "source": [
    "gdf_parchi_uniti.to_file(PATH_PARCHI_CLEAN, driver=\"GeoJSON\")"
   ]
  },
  {
   "cell_type": "markdown",
   "id": "fad5fee3",
   "metadata": {},
   "source": [
    "# Fontane"
   ]
  },
  {
   "cell_type": "markdown",
   "id": "66bcd62a",
   "metadata": {},
   "source": [
    "Carichiamo Raw csv"
   ]
  },
  {
   "cell_type": "code",
   "execution_count": 53,
   "id": "033ad7d0",
   "metadata": {},
   "outputs": [],
   "source": [
    "df = gpd.pd.read_csv(PATH_FONTANE_RAW, sep=\";\")\n",
    "df[\"Location\"] = df.apply(lambda row: Point(float(row[\"LONG_X_4326\"]), float(row[\"LAT_Y_4326\"])), axis=1)\n",
    "columns = {\n",
    "    'objectID':'id_fontane',\n",
    "    'MUNICIPIO':'MUNICIPIO',\n",
    "    'NIL': \"nome\",\n",
    "    'LONG_X_4326':'longitudine',\n",
    "    'LAT_Y_4326': 'latitudine',\n",
    "    'Location':'geometry'\n",
    "}\n",
    "df = df[columns.keys()]\n",
    "df = df.rename(columns=columns)\n",
    "df[\"MUNICIPIO\"] = df[\"MUNICIPIO\"].astype(int)\n",
    "df['icon'] = \"events\"\n",
    "gdf = gpd.GeoDataFrame(df, geometry=\"geometry\", crs=CRS_GRAD)\n",
    "gdf.to_file(PATH_FONTANE_CLEAN, driver=\"GeoJSON\")"
   ]
  },
  {
   "cell_type": "markdown",
   "id": "2d93ee93",
   "metadata": {},
   "source": [
    "# Impianti sportivi"
   ]
  },
  {
   "cell_type": "markdown",
   "id": "0de00c19",
   "metadata": {},
   "source": [
    "1. Rimozione righe in cui non è segnalata una data inizio costruzione\n",
    "2. Rimozione delle piste ciclabili, dato che abbiamo un dataset apposito\n",
    "3. Convertiamo la data in un intero, in modo da poter filtrare agilmente su kepler"
   ]
  },
  {
   "cell_type": "code",
   "execution_count": 11,
   "id": "6d4c4779",
   "metadata": {},
   "outputs": [],
   "source": [
    "gdf = gpd.read_file(PATH_IMPIANTI_SPORTIVI_RAW)\n",
    "gdf = gdf[[\"municipio\", \"località\", \"obj_id\", \"data_ini\", \"area_mq\", \"perim_m\", \"descrizione_codice\", \"geometry\"]]\n",
    "gdf = gdf.rename(columns={\"data_ini\": \"anno_inizio\", \"obj_id\": \"id_impianto\", \"municipio\": \"MUNICIPIO\"})\n",
    "gdf[\"MUNICIPIO\"] = gdf[\"MUNICIPIO\"].astype(int)\n",
    "gdf = gdf[gdf[\"anno_inizio\"].notna()].reset_index()\n",
    "gdf[\"anno_inizio\"] = gdf[\"anno_inizio\"].apply(lambda x: x.year)\n",
    "\n",
    "gdf = gdf[~gdf[\"descrizione_codice\"].str.contains(\"pista ciclabile\", case=False, na=False)].reset_index()\n",
    "gdf = gdf.drop(columns=[\"level_0\", \"index\"], errors=\"ignore\")"
   ]
  },
  {
   "cell_type": "code",
   "execution_count": 12,
   "id": "a0917ac6",
   "metadata": {},
   "outputs": [],
   "source": [
    "def group_descrizione(x):\n",
    "    x = set(x)\n",
    "    risposta = \"\"\n",
    "    for riga in x:\n",
    "        risposta = risposta + riga.replace(\"Impianti sportivi - \", \"\") + \", \"\n",
    "    return risposta.strip(\", \")\n",
    "\n",
    "def group_geometry(geos):\n",
    "    new_geos = []\n",
    "    for geo in geos.geometry:\n",
    "        for poligon in geo.geoms:\n",
    "            new_geos.append(poligon)\n",
    "    return MultiPolygon(new_geos)\n",
    "\n",
    "gdf = gdf.groupby(\"località\").agg({\n",
    "    \"MUNICIPIO\": \"first\",\n",
    "    \"anno_inizio\": \"max\",\n",
    "    \"area_mq\": \"sum\",\n",
    "    \"descrizione_codice\": group_descrizione,\n",
    "    \"geometry\": group_geometry\n",
    "})\n",
    "gdf = gpd.GeoDataFrame(gdf)\n"
   ]
  },
  {
   "cell_type": "markdown",
   "id": "addcb3b7",
   "metadata": {},
   "source": [
    "Salviamo in Clean"
   ]
  },
  {
   "cell_type": "code",
   "execution_count": 13,
   "id": "9f53a865",
   "metadata": {},
   "outputs": [
    {
     "name": "stderr",
     "output_type": "stream",
     "text": [
      "c:\\Matteo\\Coding\\Project\\Progetto-Bike\\.venv\\Lib\\site-packages\\pyogrio\\geopandas.py:710: UserWarning: 'crs' was not provided.  The output dataset will not have projection information defined and may not be usable in other systems.\n",
      "  write(\n"
     ]
    }
   ],
   "source": [
    "gdf.to_file(PATH_IMPIANTI_SPORTIVI_CLEAN, driver=\"GeoJSON\")"
   ]
  },
  {
   "cell_type": "markdown",
   "id": "3dd5e252",
   "metadata": {},
   "source": [
    "# Biblioteche"
   ]
  },
  {
   "cell_type": "code",
   "execution_count": 14,
   "id": "e36db582",
   "metadata": {},
   "outputs": [
    {
     "name": "stdout",
     "output_type": "stream",
     "text": [
      "<class 'geopandas.geodataframe.GeoDataFrame'>\n"
     ]
    }
   ],
   "source": [
    "gdf = gpd.read_file(PATH_BIBLIOTECHE_RAW)\n",
    "print(type(gdf))\n",
    "column = {\n",
    "    \"MUNICIPIO\": \"Municipio\",\n",
    "    \"NIL\": \"NIL\",\n",
    "    \"long\": \"Longitudine\",\n",
    "    \"lat\": \"Latitudine\",\n",
    "    \"geometry\": \"geometry\"\n",
    "}\n",
    "gdf = gdf[column.keys()]\n",
    "gdf[\"MUNICIPIO\"] = gdf[\"MUNICIPIO\"].astype(int)\n",
    "gdf[\"icon\"] = \"place\"\n",
    "gdf = gdf.rename(columns=column)\n",
    "\n",
    "gdf.to_file(PATH_BIBLIOTECHE_CLEAN, driver=\"GeoJSON\")"
   ]
  },
  {
   "cell_type": "markdown",
   "id": "8e79eebc",
   "metadata": {},
   "source": [
    "# Scuole"
   ]
  },
  {
   "cell_type": "markdown",
   "id": "0849981a",
   "metadata": {},
   "source": [
    "Carichiamo tutti i file raw come gdf"
   ]
  },
  {
   "cell_type": "code",
   "execution_count": 15,
   "id": "f3e1f1e9",
   "metadata": {},
   "outputs": [],
   "source": [
    "gdf_primarie = gpd.read_file(PATH_SCUOLE_PRIMARIE_RAW)\n",
    "gdf_secondarie_1 = gpd.read_file(PATH_SCUOLE_SECONDARIE_PRIMO_RAW)\n",
    "gdf_secondarie_2 = gpd.read_file(PATH_SCUOLE_SECONDARIE_SECONDO_RAW)\n",
    "gdf_universita = gpd.read_file(PATH_UNIVERSITA_RAW)"
   ]
  },
  {
   "cell_type": "markdown",
   "id": "9b03faf0",
   "metadata": {},
   "source": [
    "Scuole primarie e secondarie di primo grado possiedono la stessa granularità quindi effettiuamo le stesse operazioni per entrambi.  \n",
    "1. Filtro solo per ANNOSCOL 2023/2024  \n",
    "2. Rinomino colonne che ci servono e tengo solo quelle"
   ]
  },
  {
   "cell_type": "code",
   "execution_count": 16,
   "id": "3366618a",
   "metadata": {},
   "outputs": [],
   "source": [
    "column_prim_sec1 = {\n",
    "    \"DENOMINAZIONE\": \"Denominazione\",\n",
    "    \"GRADO\": \"Grado\",\n",
    "    \"INDIRIZZO\": \"Indirizzo\",\n",
    "    \"MUNICIPIO\": \"MUNICIPIO\",\n",
    "    \"NIL\": \"Quartiere\",\n",
    "    \"LONG_X_4326\": \"Longitudine\",\n",
    "    \"LAT_Y_4326\": \"Latitudine\",\n",
    "    \"geometry\": \"geometry\"\n",
    "}\n",
    "# Modifico nomi e tengo solo colonne che mi serono per primarie\n",
    "gdf_primarie = gdf_primarie[gdf_primarie[\"ANNOSCOL\"] == 2324].reset_index()\n",
    "gdf_primarie = gdf_primarie[column_prim_sec1.keys()]\n",
    "gdf_primarie = gdf_primarie.rename(columns=column_prim_sec1)\n",
    "# e secondarie \n",
    "gdf_secondarie_1 = gdf_secondarie_1[gdf_secondarie_1[\"ANNOSCOL\"] == 2324].reset_index()\n",
    "gdf_secondarie_1 = gdf_secondarie_1[column_prim_sec1.keys()]\n",
    "gdf_secondarie_1 = gdf_secondarie_1.rename(columns=column_prim_sec1)\n",
    "gdf_secondarie_1[\"Grado\"] = \"Scuola secondaria - Primo grado\""
   ]
  },
  {
   "cell_type": "markdown",
   "id": "7edee733",
   "metadata": {},
   "source": [
    "Nulla da sistemare, faccio solo il rename delle colonne ed estraggo dal df solo quelle"
   ]
  },
  {
   "cell_type": "code",
   "execution_count": 17,
   "id": "ebd4ea05",
   "metadata": {},
   "outputs": [],
   "source": [
    "column_sec2_uni = {\n",
    "    \"DENOMINAZ\": \"Denominazione\",\n",
    "    \"TIPOLOGIA\": \"Grado\",\n",
    "    \"INDIRIZZO\": \"Indirizzo\",\n",
    "    \"MUNICIPIO\": \"MUNICIPIO\",\n",
    "    \"NIL\": \"NIL\",\n",
    "    \"LONG_X_4326\": \"Longitudine\",\n",
    "    \"LAT_Y_4326\": \"Latitudine\",\n",
    "    \"geometry\": \"geometry\"\n",
    "}\n",
    "gdf_secondarie_2 = gdf_secondarie_2[column_sec2_uni.keys()]\n",
    "gdf_secondarie_2 = gdf_secondarie_2.rename(columns=column_sec2_uni)\n",
    "gdf_secondarie_2[\"Grado\"] = \"Scuola secondaria - Secondo grado\"\n",
    "\n",
    "gdf_universita = gdf_universita[column_sec2_uni.keys()]\n",
    "gdf_universita = gdf_universita.rename(columns=column_sec2_uni)\n",
    "gdf_universita[\"Grado\"] = \"Università\""
   ]
  },
  {
   "cell_type": "markdown",
   "id": "1d4871ae",
   "metadata": {},
   "source": [
    "Uniamo i 4 geodataframe ripuliti e portati alla stessa granularità"
   ]
  },
  {
   "cell_type": "code",
   "execution_count": 18,
   "id": "a49cecfc",
   "metadata": {},
   "outputs": [],
   "source": [
    "final_gdf = gpd.pd.concat([gdf_primarie, gdf_secondarie_1, gdf_secondarie_2, gdf_universita], ignore_index=True)\n",
    "final_gdf = gpd.GeoDataFrame(final_gdf, geometry=gdf_primarie.geometry.name)"
   ]
  },
  {
   "cell_type": "markdown",
   "id": "f4ae6954",
   "metadata": {},
   "source": [
    "Aggiungo colonna icona per la visualizzazione su kepler"
   ]
  },
  {
   "cell_type": "code",
   "execution_count": 19,
   "id": "6d213329",
   "metadata": {},
   "outputs": [],
   "source": [
    "final_gdf[\"icon\"] = \"id-card\"\n",
    "final_gdf[\"MUNICIPIO\"] = final_gdf[\"MUNICIPIO\"].astype(int)"
   ]
  },
  {
   "cell_type": "markdown",
   "id": "7ce1c256",
   "metadata": {},
   "source": [
    "Salviamo il file in Clean"
   ]
  },
  {
   "cell_type": "code",
   "execution_count": 20,
   "id": "8004b41a",
   "metadata": {},
   "outputs": [],
   "source": [
    "final_gdf.to_file(PATH_SCUOLE_CLEAN, driver=\"GeoJSON\")"
   ]
  },
  {
   "cell_type": "markdown",
   "id": "528e761f",
   "metadata": {},
   "source": [
    "# Farmacie"
   ]
  },
  {
   "cell_type": "markdown",
   "id": "c67ad38a",
   "metadata": {},
   "source": [
    "Rinominiamo e filtriamo le colonne che ci interessano"
   ]
  },
  {
   "cell_type": "code",
   "execution_count": 21,
   "id": "75d186dd",
   "metadata": {},
   "outputs": [],
   "source": [
    "gdf = gpd.read_file(PATH_FARMACIE_RAW)\n",
    "column = {\n",
    "    \"DESCRIZIONE_FARMACIA\": \"Descrizione_farmacia\",\n",
    "    \"MUNICIPIO\": \"MUNICIPIO\",\n",
    "    \"NIL\": \"NIL\",\n",
    "    \"LONGITUDINE\": \"Longitudine\",\n",
    "    \"LATITUDINE\": \"Latitudine\",\n",
    "    \"geometry\": \"geometry\"\n",
    "}\n",
    "gdf = gdf[column.keys()]\n",
    "gdf[\"MUNICIPIO\"] = gdf[\"MUNICIPIO\"].astype(int)\n",
    "gdf[\"icon\"] = \"control-on\"\n",
    "gdf = gdf.rename(columns=column)"
   ]
  },
  {
   "cell_type": "markdown",
   "id": "172f5213",
   "metadata": {},
   "source": [
    "Salviamo in Clean"
   ]
  },
  {
   "cell_type": "code",
   "execution_count": 22,
   "id": "c723552f",
   "metadata": {},
   "outputs": [],
   "source": [
    "gdf.to_file(PATH_FARMACIE_CLEAN, driver=\"GeoJSON\")"
   ]
  },
  {
   "cell_type": "markdown",
   "id": "6a714718",
   "metadata": {},
   "source": [
    "# Aree Gioco"
   ]
  },
  {
   "cell_type": "markdown",
   "id": "f2bdab95",
   "metadata": {},
   "source": [
    "Carichiamo il dataframe e modifichiamo la \"data_ini\" in un intero in cui teniamo solo l'anno."
   ]
  },
  {
   "cell_type": "code",
   "execution_count": 32,
   "id": "b4a1e8ec",
   "metadata": {},
   "outputs": [],
   "source": [
    "gdf = gpd.read_file(PATH_AREE_GIOCO_RAW)\n",
    "gdf[\"data_ini\"] = gpd.pd.to_datetime(gdf[\"data_ini\"]).dt.year.astype(\"Int64\")"
   ]
  },
  {
   "cell_type": "markdown",
   "id": "5bb588c7",
   "metadata": {},
   "source": [
    "Creo un dizionario che associa ad ogni range di obj_id la data_ini più probabile in base a quelle presenti nel df.  \n",
    "Questo ci permetterà di sintetizzare le data_ini quando mancano."
   ]
  },
  {
   "cell_type": "code",
   "execution_count": 33,
   "id": "fbd84e01",
   "metadata": {},
   "outputs": [],
   "source": [
    "id_ranges = list(zip(range(0, 170_001, 10_000), range(9_999, 180_001, 10_000)))\n",
    "\n",
    "id_data = {}\n",
    "for start_id, end_id in id_ranges:\n",
    "    df_range = gdf[(gdf[\"obj_id\"] >= start_id) & (gdf[\"obj_id\"] <= end_id)]\n",
    "    if not df_range.empty:\n",
    "        data_counts = df_range[\"data_ini\"].value_counts()\n",
    "        id_data[gpd.pd.Interval(start_id, end_id, closed=\"both\")] = {\n",
    "            \"data\":  data_counts.idxmax(),\n",
    "            \"percentuale\": round(data_counts.max() / data_counts.sum() * 100, 2)\n",
    "        }"
   ]
  },
  {
   "cell_type": "code",
   "execution_count": 34,
   "id": "1177187b",
   "metadata": {},
   "outputs": [],
   "source": [
    "def get_fill_date(row, id_data_reference:dict):\n",
    "    for interval, data in id_data_reference.items():\n",
    "        if row[\"obj_id\"] in interval:\n",
    "            return data[\"data\"]\n",
    "    return None\n",
    "\n",
    "# Modifico i valori mancanti di \"data_ini\"\n",
    "valori_mancanti = gdf[\"data_ini\"].isna() | (gdf[\"data_ini\"].astype(str).str.strip() == \"\")\n",
    "gdf.loc[valori_mancanti, \"data_ini\"] = gdf[valori_mancanti].apply(lambda row: get_fill_date(row, id_data), axis=1)\n",
    "\n",
    "# Elimino colonne superflue\n",
    "gdf = gdf.drop(columns=[\"id_area\", \"obj_id\", \"codice\", \"descrizione_codice\"])"
   ]
  },
  {
   "cell_type": "code",
   "execution_count": 35,
   "id": "42e09b7e",
   "metadata": {},
   "outputs": [],
   "source": [
    "# Raggruppo Località e tengo la data inizio più alta\n",
    "def group_geometry(geos):\n",
    "    new_geos = []\n",
    "    for geo in geos.geometry:\n",
    "        for poligon in geo.geoms:\n",
    "            new_geos.append(poligon)\n",
    "    return MultiPolygon(new_geos)\n",
    "\n",
    "gdf.rename(columns={\"municipio\": \"MUNICIPIO\"}, inplace=True)\n",
    "gdf[\"MUNICIPIO\"] = gdf[\"MUNICIPIO\"].astype(int)\n",
    "gdf = gdf.groupby(\"località\").agg({\n",
    "    \"MUNICIPIO\": \"first\",\n",
    "    \"area\": \"first\",\n",
    "    \"data_ini\": \"max\",\n",
    "    \"area_mq\": \"sum\",\n",
    "    \"geometry\": group_geometry\n",
    "})\n",
    "gdf = gpd.GeoDataFrame(gdf)"
   ]
  },
  {
   "cell_type": "code",
   "execution_count": 36,
   "id": "20d81422",
   "metadata": {},
   "outputs": [
    {
     "name": "stderr",
     "output_type": "stream",
     "text": [
      "c:\\Matteo\\Coding\\Project\\Progetto-Bike\\.venv\\Lib\\site-packages\\pyogrio\\geopandas.py:710: UserWarning: 'crs' was not provided.  The output dataset will not have projection information defined and may not be usable in other systems.\n",
      "  write(\n"
     ]
    }
   ],
   "source": [
    "# Salvo GeoJSON pulito\n",
    "gdf.to_file(PATH_AREE_GIOCO_CLEAN, driver=\"GeoJSON\")"
   ]
  },
  {
   "cell_type": "markdown",
   "id": "344e18bf",
   "metadata": {},
   "source": [
    "# Teatri\n"
   ]
  },
  {
   "cell_type": "markdown",
   "id": "bba3d530",
   "metadata": {},
   "source": [
    "- Conversione json in geojson aggiungendo geometry a partire da: glongitude e glatitude\n",
    "- Filtro su \"zona\" != 0 perché equivale a \"chiusi definitavamente\"\n",
    "- Filtro su \"sottotipo\" mantenendo solo i teatri e auditorium\n",
    "- Manteniamo solo le colonne utili e rinominiamole"
   ]
  },
  {
   "cell_type": "code",
   "execution_count": 24,
   "id": "8ba46c12",
   "metadata": {},
   "outputs": [
    {
     "name": "stderr",
     "output_type": "stream",
     "text": [
      "c:\\Matteo\\Coding\\Project\\Progetto-Bike\\.venv\\Lib\\site-packages\\pyogrio\\geopandas.py:710: UserWarning: 'crs' was not provided.  The output dataset will not have projection information defined and may not be usable in other systems.\n",
      "  write(\n"
     ]
    }
   ],
   "source": [
    "df = gpd.pd.read_json(PATH_TEATRI_RAW)\n",
    "df[\"geometry\"] = df.apply(lambda row: Point(row[\"glongitude\"], row[\"glatitude\"]), axis=1)\n",
    "df = df[df[\"zona\"] != 0]\n",
    "df = df[df[\"sottotipo\"].str.upper().isin([\"TEATRO\", \"AUDITORIUM\"])]\n",
    "columns = {\n",
    "    \"denominaz\": \"nome_teatro\",\n",
    "    \"sottotipo\": \"tipologia\",\n",
    "    \"id\": \"id_teatro\",\n",
    "    \"zona\": \"MUNICIPIO\",\n",
    "    \"glongitude\": \"longitudine\",\n",
    "    \"glatitude\": \"latitudine\",\n",
    "    \"geometry\": \"geometry\"\n",
    "}\n",
    "df = df[columns.keys()]\n",
    "df = df.rename(columns=columns).reset_index(drop=True)\n",
    "df[\"MUNICIPIO\"] = df[\"MUNICIPIO\"].astype(int)\n",
    "gpd.GeoDataFrame(df, geometry=\"geometry\").to_file(PATH_TEATRI_CLEAN, driver=\"GeoJSON\")"
   ]
  },
  {
   "cell_type": "markdown",
   "id": "841b8f7d",
   "metadata": {},
   "source": [
    "# Cinema"
   ]
  },
  {
   "cell_type": "markdown",
   "id": "0e4c3a3f",
   "metadata": {},
   "source": [
    "- Filtriamo solo comune Milano\n",
    "- Rinominiamo e manteniamo alcune colonne\n",
    "- Convertiamo in geojson creando la geometry"
   ]
  },
  {
   "cell_type": "code",
   "execution_count": 58,
   "id": "81efae51",
   "metadata": {},
   "outputs": [],
   "source": [
    "df = gpd.pd.read_json(PATH_CINEMA_RAW)\n",
    "\n",
    "df = df[df['ccomune'] == 'Milano']\n",
    "df['geometry'] = df.apply(lambda row: Point(row['clongitudine'], row['clatitudine']), axis=1)\n",
    "\n",
    "columns = {\n",
    "    \"canno_inserimento\": \"anno_inserimento\",\n",
    "    \"cnome\": \"nome\",\n",
    "    \"clongitudine\": \"longitudine\",\n",
    "    \"clatitudine\": \"latitudine\",\n",
    "    \"geometry\": \"geometry\"\n",
    "}\n",
    "df = df[columns.keys()]\n",
    "df = df.rename(columns=columns)\n",
    "gdf = gpd.GeoDataFrame(df, geometry='geometry', crs=CRS_GRAD)"
   ]
  },
  {
   "cell_type": "markdown",
   "id": "ed6793e7",
   "metadata": {},
   "source": [
    "Aggiungiamo colonna MUNICIPI"
   ]
  },
  {
   "cell_type": "code",
   "execution_count": 60,
   "id": "457ce466",
   "metadata": {},
   "outputs": [],
   "source": [
    "municipi = gpd.read_file(PATH_MUNICIPI_CLEAN)\n",
    "gdf = gpd.sjoin(\n",
    "    gdf,\n",
    "    municipi,\n",
    "    how=\"left\",\n",
    "    predicate=\"intersects\"\n",
    "    ).drop([\"index_right\"], axis=1) # eliminiamo l'index_right (conserva l'indice del dataframe del gdf di destra ma non ci serve)\n",
    "gdf[\"MUNICIPIO\"] = gdf[\"MUNICIPIO\"].astype(int)\n",
    "gdf.drop([\"AREA\",\"PERIMETRO\"], axis=1, inplace=True)"
   ]
  },
  {
   "cell_type": "markdown",
   "id": "3d2fdc9f",
   "metadata": {},
   "source": [
    "Salviamo in Clean"
   ]
  },
  {
   "cell_type": "code",
   "execution_count": 64,
   "id": "1366a91f",
   "metadata": {},
   "outputs": [],
   "source": [
    "gdf.to_file(PATH_CINEMA_CLEAN, driver=\"GeoJSON\")"
   ]
  },
  {
   "cell_type": "markdown",
   "id": "6648f2b1",
   "metadata": {},
   "source": [
    "# Musei"
   ]
  },
  {
   "cell_type": "code",
   "execution_count": 65,
   "id": "ff1a3538",
   "metadata": {},
   "outputs": [],
   "source": [
    "df = gpd.pd.read_json(PATH_MUSEI_RAW)\n",
    "\n",
    "df = df[df['ccomune'] == 'Milano']\n",
    "df['geometry'] = df.apply(lambda row: Point(row['clongitudine'], row['clatitudine']), axis=1)\n",
    "\n",
    "columns = {\n",
    "    \"canno_inserimento\": \"anno_inserimento\",\n",
    "    \"cnome\": \"nome\",\n",
    "    \"clongitudine\": \"longitudine\",\n",
    "    \"clatitudine\": \"latitudine\",\n",
    "    \"geometry\": \"geometry\"\n",
    "}\n",
    "df = df[columns.keys()]\n",
    "df = df.rename(columns=columns)\n",
    "gdf = gpd.GeoDataFrame(df, geometry='geometry', crs=CRS_GRAD)"
   ]
  },
  {
   "cell_type": "markdown",
   "id": "58565d5b",
   "metadata": {},
   "source": [
    "Aggiungiamo Municipi"
   ]
  },
  {
   "cell_type": "code",
   "execution_count": 67,
   "id": "252add07",
   "metadata": {},
   "outputs": [],
   "source": [
    "municipi = gpd.read_file(PATH_MUNICIPI_CLEAN)\n",
    "gdf = gpd.sjoin(\n",
    "    gdf,\n",
    "    municipi,\n",
    "    how=\"left\",\n",
    "    predicate=\"intersects\"\n",
    "    ).drop([\"index_right\"], axis=1) # eliminiamo l'index_right (conserva l'indice del dataframe del gdf di destra ma non ci serve)\n",
    "gdf[\"MUNICIPIO\"] = gdf[\"MUNICIPIO\"].astype(int)\n",
    "gdf.drop([\"AREA\",\"PERIMETRO\"], axis=1, inplace=True)"
   ]
  },
  {
   "cell_type": "markdown",
   "id": "c8cee025",
   "metadata": {},
   "source": [
    "Salviamo in Clean"
   ]
  },
  {
   "cell_type": "code",
   "execution_count": 69,
   "id": "65d6e5e8",
   "metadata": {},
   "outputs": [],
   "source": [
    "gdf.to_file(PATH_MUSEI_CLEAN, driver=\"GeoJSON\")"
   ]
  },
  {
   "cell_type": "markdown",
   "id": "57848292",
   "metadata": {},
   "source": [
    "# Ospedali"
   ]
  },
  {
   "cell_type": "markdown",
   "id": "32adcb2a",
   "metadata": {},
   "source": [
    "### Ingestion da openstreet maps"
   ]
  },
  {
   "cell_type": "code",
   "execution_count": 4,
   "id": "8e7dcd0c",
   "metadata": {},
   "outputs": [],
   "source": [
    "place = \"Milano, Italy\"\n",
    "\n",
    "tags = {\n",
    "    \"amenity\":  [\"hospital\"],\n",
    "}\n",
    "\n",
    "gdf = ox.features.features_from_place(place, tags)\n",
    "gdf.to_file(PATH_OSPEDALI_RAW, driver=\"GeoJSON\")"
   ]
  },
  {
   "cell_type": "markdown",
   "id": "c643be91",
   "metadata": {},
   "source": [
    "### Etl"
   ]
  },
  {
   "cell_type": "code",
   "execution_count": 5,
   "id": "ef20f929",
   "metadata": {},
   "outputs": [],
   "source": [
    "gdf = gpd.read_file(PATH_OSPEDALI_RAW).set_crs(CRS_GRAD)\n",
    "gdf = gdf[gdf[\"element\"] != \"relation\"]\n",
    "column = {\n",
    "    \"name\": \"Denominazione\",\n",
    "    \"geometry\": \"geometry\"\n",
    "}\n",
    "gdf = gdf[column.keys()]\n",
    "gdf = gdf.rename(columns=column)"
   ]
  },
  {
   "cell_type": "markdown",
   "id": "ed69410d",
   "metadata": {},
   "source": [
    "Aggiungiamo MUNICIPI"
   ]
  },
  {
   "cell_type": "code",
   "execution_count": 6,
   "id": "1a801fb9",
   "metadata": {},
   "outputs": [],
   "source": [
    "municipi = gpd.read_file(PATH_MUNICIPI_CLEAN)\n",
    "gdf = gpd.sjoin(\n",
    "    gdf,\n",
    "    municipi,\n",
    "    how=\"left\",\n",
    "    predicate=\"intersects\"\n",
    "    ).drop([\"index_right\"], axis=1) # eliminiamo l'index_right (conserva l'indice del dataframe del gdf di destra ma non ci serve)\n",
    "gdf[\"MUNICIPIO\"] = gdf[\"MUNICIPIO\"].astype(int)\n",
    "gdf.drop([\"AREA\",\"PERIMETRO\"], axis=1, inplace=True)"
   ]
  },
  {
   "cell_type": "markdown",
   "id": "fa5e20fa",
   "metadata": {},
   "source": [
    "Salviamo in Clean"
   ]
  },
  {
   "cell_type": "code",
   "execution_count": 8,
   "id": "05bcc177",
   "metadata": {},
   "outputs": [
    {
     "ename": "PermissionError",
     "evalue": "[WinError 32] Impossibile accedere al file. Il file è utilizzato da un altro processo: '../Data/Clean/Punti_di_interesse/ospedali_clean.geojson'",
     "output_type": "error",
     "traceback": [
      "\u001b[31m---------------------------------------------------------------------------\u001b[39m",
      "\u001b[31mPermissionError\u001b[39m                           Traceback (most recent call last)",
      "\u001b[36mCell\u001b[39m\u001b[36m \u001b[39m\u001b[32mIn[8]\u001b[39m\u001b[32m, line 1\u001b[39m\n\u001b[32m----> \u001b[39m\u001b[32m1\u001b[39m \u001b[43mgdf\u001b[49m\u001b[43m.\u001b[49m\u001b[43mto_file\u001b[49m\u001b[43m(\u001b[49m\u001b[43mPATH_OSPEDALI_CLEAN\u001b[49m\u001b[43m)\u001b[49m\n",
      "\u001b[36mFile \u001b[39m\u001b[32mc:\\Users\\apera\\OneDrive\\Documenti\\progetti\\Progetto-Bike\\.venv\\Lib\\site-packages\\geopandas\\geodataframe.py:1637\u001b[39m, in \u001b[36mGeoDataFrame.to_file\u001b[39m\u001b[34m(self, filename, driver, schema, index, **kwargs)\u001b[39m\n\u001b[32m   1543\u001b[39m \u001b[38;5;250m\u001b[39m\u001b[33;03m\"\"\"Write the ``GeoDataFrame`` to a file.\u001b[39;00m\n\u001b[32m   1544\u001b[39m \n\u001b[32m   1545\u001b[39m \u001b[33;03mBy default, an ESRI shapefile is written, but any OGR data source\u001b[39;00m\n\u001b[32m   (...)\u001b[39m\u001b[32m   1633\u001b[39m \n\u001b[32m   1634\u001b[39m \u001b[33;03m\"\"\"\u001b[39;00m\n\u001b[32m   1635\u001b[39m \u001b[38;5;28;01mfrom\u001b[39;00m\u001b[38;5;250m \u001b[39m\u001b[34;01mgeopandas\u001b[39;00m\u001b[34;01m.\u001b[39;00m\u001b[34;01mio\u001b[39;00m\u001b[34;01m.\u001b[39;00m\u001b[34;01mfile\u001b[39;00m\u001b[38;5;250m \u001b[39m\u001b[38;5;28;01mimport\u001b[39;00m _to_file\n\u001b[32m-> \u001b[39m\u001b[32m1637\u001b[39m \u001b[43m_to_file\u001b[49m\u001b[43m(\u001b[49m\u001b[38;5;28;43mself\u001b[39;49m\u001b[43m,\u001b[49m\u001b[43m \u001b[49m\u001b[43mfilename\u001b[49m\u001b[43m,\u001b[49m\u001b[43m \u001b[49m\u001b[43mdriver\u001b[49m\u001b[43m,\u001b[49m\u001b[43m \u001b[49m\u001b[43mschema\u001b[49m\u001b[43m,\u001b[49m\u001b[43m \u001b[49m\u001b[43mindex\u001b[49m\u001b[43m,\u001b[49m\u001b[43m \u001b[49m\u001b[43m*\u001b[49m\u001b[43m*\u001b[49m\u001b[43mkwargs\u001b[49m\u001b[43m)\u001b[49m\n",
      "\u001b[36mFile \u001b[39m\u001b[32mc:\\Users\\apera\\OneDrive\\Documenti\\progetti\\Progetto-Bike\\.venv\\Lib\\site-packages\\geopandas\\io\\file.py:731\u001b[39m, in \u001b[36m_to_file\u001b[39m\u001b[34m(df, filename, driver, schema, index, mode, crs, engine, metadata, **kwargs)\u001b[39m\n\u001b[32m    728\u001b[39m     \u001b[38;5;28;01mraise\u001b[39;00m \u001b[38;5;167;01mValueError\u001b[39;00m(\u001b[33mf\u001b[39m\u001b[33m\"\u001b[39m\u001b[33m'\u001b[39m\u001b[33mmode\u001b[39m\u001b[33m'\u001b[39m\u001b[33m should be one of \u001b[39m\u001b[33m'\u001b[39m\u001b[33mw\u001b[39m\u001b[33m'\u001b[39m\u001b[33m or \u001b[39m\u001b[33m'\u001b[39m\u001b[33ma\u001b[39m\u001b[33m'\u001b[39m\u001b[33m, got \u001b[39m\u001b[33m'\u001b[39m\u001b[38;5;132;01m{\u001b[39;00mmode\u001b[38;5;132;01m}\u001b[39;00m\u001b[33m'\u001b[39m\u001b[33m instead\u001b[39m\u001b[33m\"\u001b[39m)\n\u001b[32m    730\u001b[39m \u001b[38;5;28;01mif\u001b[39;00m engine == \u001b[33m\"\u001b[39m\u001b[33mpyogrio\u001b[39m\u001b[33m\"\u001b[39m:\n\u001b[32m--> \u001b[39m\u001b[32m731\u001b[39m     \u001b[43m_to_file_pyogrio\u001b[49m\u001b[43m(\u001b[49m\u001b[43mdf\u001b[49m\u001b[43m,\u001b[49m\u001b[43m \u001b[49m\u001b[43mfilename\u001b[49m\u001b[43m,\u001b[49m\u001b[43m \u001b[49m\u001b[43mdriver\u001b[49m\u001b[43m,\u001b[49m\u001b[43m \u001b[49m\u001b[43mschema\u001b[49m\u001b[43m,\u001b[49m\u001b[43m \u001b[49m\u001b[43mcrs\u001b[49m\u001b[43m,\u001b[49m\u001b[43m \u001b[49m\u001b[43mmode\u001b[49m\u001b[43m,\u001b[49m\u001b[43m \u001b[49m\u001b[43mmetadata\u001b[49m\u001b[43m,\u001b[49m\u001b[43m \u001b[49m\u001b[43m*\u001b[49m\u001b[43m*\u001b[49m\u001b[43mkwargs\u001b[49m\u001b[43m)\u001b[49m\n\u001b[32m    732\u001b[39m \u001b[38;5;28;01melif\u001b[39;00m engine == \u001b[33m\"\u001b[39m\u001b[33mfiona\u001b[39m\u001b[33m\"\u001b[39m:\n\u001b[32m    733\u001b[39m     _to_file_fiona(df, filename, driver, schema, crs, mode, metadata, **kwargs)\n",
      "\u001b[36mFile \u001b[39m\u001b[32mc:\\Users\\apera\\OneDrive\\Documenti\\progetti\\Progetto-Bike\\.venv\\Lib\\site-packages\\geopandas\\io\\file.py:793\u001b[39m, in \u001b[36m_to_file_pyogrio\u001b[39m\u001b[34m(df, filename, driver, schema, crs, mode, metadata, **kwargs)\u001b[39m\n\u001b[32m    790\u001b[39m \u001b[38;5;28;01mif\u001b[39;00m \u001b[38;5;129;01mnot\u001b[39;00m df.columns.is_unique:\n\u001b[32m    791\u001b[39m     \u001b[38;5;28;01mraise\u001b[39;00m \u001b[38;5;167;01mValueError\u001b[39;00m(\u001b[33m\"\u001b[39m\u001b[33mGeoDataFrame cannot contain duplicated column names.\u001b[39m\u001b[33m\"\u001b[39m)\n\u001b[32m--> \u001b[39m\u001b[32m793\u001b[39m \u001b[43mpyogrio\u001b[49m\u001b[43m.\u001b[49m\u001b[43mwrite_dataframe\u001b[49m\u001b[43m(\u001b[49m\u001b[43mdf\u001b[49m\u001b[43m,\u001b[49m\u001b[43m \u001b[49m\u001b[43mfilename\u001b[49m\u001b[43m,\u001b[49m\u001b[43m \u001b[49m\u001b[43mdriver\u001b[49m\u001b[43m=\u001b[49m\u001b[43mdriver\u001b[49m\u001b[43m,\u001b[49m\u001b[43m \u001b[49m\u001b[43mmetadata\u001b[49m\u001b[43m=\u001b[49m\u001b[43mmetadata\u001b[49m\u001b[43m,\u001b[49m\u001b[43m \u001b[49m\u001b[43m*\u001b[49m\u001b[43m*\u001b[49m\u001b[43mkwargs\u001b[49m\u001b[43m)\u001b[49m\n",
      "\u001b[36mFile \u001b[39m\u001b[32mc:\\Users\\apera\\OneDrive\\Documenti\\progetti\\Progetto-Bike\\.venv\\Lib\\site-packages\\pyogrio\\geopandas.py:710\u001b[39m, in \u001b[36mwrite_dataframe\u001b[39m\u001b[34m(df, path, layer, driver, encoding, geometry_type, promote_to_multi, nan_as_null, append, use_arrow, dataset_metadata, layer_metadata, metadata, dataset_options, layer_options, **kwargs)\u001b[39m\n\u001b[32m    707\u001b[39m         field_data.append(values)\n\u001b[32m    708\u001b[39m         field_mask.append(\u001b[38;5;28;01mNone\u001b[39;00m)\n\u001b[32m--> \u001b[39m\u001b[32m710\u001b[39m \u001b[43mwrite\u001b[49m\u001b[43m(\u001b[49m\n\u001b[32m    711\u001b[39m \u001b[43m    \u001b[49m\u001b[43mpath\u001b[49m\u001b[43m,\u001b[49m\n\u001b[32m    712\u001b[39m \u001b[43m    \u001b[49m\u001b[43mlayer\u001b[49m\u001b[43m=\u001b[49m\u001b[43mlayer\u001b[49m\u001b[43m,\u001b[49m\n\u001b[32m    713\u001b[39m \u001b[43m    \u001b[49m\u001b[43mdriver\u001b[49m\u001b[43m=\u001b[49m\u001b[43mdriver\u001b[49m\u001b[43m,\u001b[49m\n\u001b[32m    714\u001b[39m \u001b[43m    \u001b[49m\u001b[43mgeometry\u001b[49m\u001b[43m=\u001b[49m\u001b[43mgeometry\u001b[49m\u001b[43m,\u001b[49m\n\u001b[32m    715\u001b[39m \u001b[43m    \u001b[49m\u001b[43mfield_data\u001b[49m\u001b[43m=\u001b[49m\u001b[43mfield_data\u001b[49m\u001b[43m,\u001b[49m\n\u001b[32m    716\u001b[39m \u001b[43m    \u001b[49m\u001b[43mfield_mask\u001b[49m\u001b[43m=\u001b[49m\u001b[43mfield_mask\u001b[49m\u001b[43m,\u001b[49m\n\u001b[32m    717\u001b[39m \u001b[43m    \u001b[49m\u001b[43mfields\u001b[49m\u001b[43m=\u001b[49m\u001b[43mfields\u001b[49m\u001b[43m,\u001b[49m\n\u001b[32m    718\u001b[39m \u001b[43m    \u001b[49m\u001b[43mcrs\u001b[49m\u001b[43m=\u001b[49m\u001b[43mcrs\u001b[49m\u001b[43m,\u001b[49m\n\u001b[32m    719\u001b[39m \u001b[43m    \u001b[49m\u001b[43mgeometry_type\u001b[49m\u001b[43m=\u001b[49m\u001b[43mgeometry_type\u001b[49m\u001b[43m,\u001b[49m\n\u001b[32m    720\u001b[39m \u001b[43m    \u001b[49m\u001b[43mencoding\u001b[49m\u001b[43m=\u001b[49m\u001b[43mencoding\u001b[49m\u001b[43m,\u001b[49m\n\u001b[32m    721\u001b[39m \u001b[43m    \u001b[49m\u001b[43mpromote_to_multi\u001b[49m\u001b[43m=\u001b[49m\u001b[43mpromote_to_multi\u001b[49m\u001b[43m,\u001b[49m\n\u001b[32m    722\u001b[39m \u001b[43m    \u001b[49m\u001b[43mnan_as_null\u001b[49m\u001b[43m=\u001b[49m\u001b[43mnan_as_null\u001b[49m\u001b[43m,\u001b[49m\n\u001b[32m    723\u001b[39m \u001b[43m    \u001b[49m\u001b[43mappend\u001b[49m\u001b[43m=\u001b[49m\u001b[43mappend\u001b[49m\u001b[43m,\u001b[49m\n\u001b[32m    724\u001b[39m \u001b[43m    \u001b[49m\u001b[43mdataset_metadata\u001b[49m\u001b[43m=\u001b[49m\u001b[43mdataset_metadata\u001b[49m\u001b[43m,\u001b[49m\n\u001b[32m    725\u001b[39m \u001b[43m    \u001b[49m\u001b[43mlayer_metadata\u001b[49m\u001b[43m=\u001b[49m\u001b[43mlayer_metadata\u001b[49m\u001b[43m,\u001b[49m\n\u001b[32m    726\u001b[39m \u001b[43m    \u001b[49m\u001b[43mmetadata\u001b[49m\u001b[43m=\u001b[49m\u001b[43mmetadata\u001b[49m\u001b[43m,\u001b[49m\n\u001b[32m    727\u001b[39m \u001b[43m    \u001b[49m\u001b[43mdataset_options\u001b[49m\u001b[43m=\u001b[49m\u001b[43mdataset_options\u001b[49m\u001b[43m,\u001b[49m\n\u001b[32m    728\u001b[39m \u001b[43m    \u001b[49m\u001b[43mlayer_options\u001b[49m\u001b[43m=\u001b[49m\u001b[43mlayer_options\u001b[49m\u001b[43m,\u001b[49m\n\u001b[32m    729\u001b[39m \u001b[43m    \u001b[49m\u001b[43mgdal_tz_offsets\u001b[49m\u001b[43m=\u001b[49m\u001b[43mgdal_tz_offsets\u001b[49m\u001b[43m,\u001b[49m\n\u001b[32m    730\u001b[39m \u001b[43m    \u001b[49m\u001b[43m*\u001b[49m\u001b[43m*\u001b[49m\u001b[43mkwargs\u001b[49m\u001b[43m,\u001b[49m\n\u001b[32m    731\u001b[39m \u001b[43m\u001b[49m\u001b[43m)\u001b[49m\n",
      "\u001b[36mFile \u001b[39m\u001b[32mc:\\Users\\apera\\OneDrive\\Documenti\\progetti\\Progetto-Bike\\.venv\\Lib\\site-packages\\pyogrio\\raw.py:723\u001b[39m, in \u001b[36mwrite\u001b[39m\u001b[34m(path, geometry, field_data, fields, field_mask, layer, driver, geometry_type, crs, encoding, promote_to_multi, nan_as_null, append, dataset_metadata, layer_metadata, metadata, dataset_options, layer_options, gdal_tz_offsets, **kwargs)\u001b[39m\n\u001b[32m    718\u001b[39m \u001b[38;5;66;03m# preprocess kwargs and split in dataset and layer creation options\u001b[39;00m\n\u001b[32m    719\u001b[39m dataset_kwargs, layer_kwargs = _preprocess_options_kwargs(\n\u001b[32m    720\u001b[39m     driver, dataset_options, layer_options, kwargs\n\u001b[32m    721\u001b[39m )\n\u001b[32m--> \u001b[39m\u001b[32m723\u001b[39m \u001b[43mogr_write\u001b[49m\u001b[43m(\u001b[49m\n\u001b[32m    724\u001b[39m \u001b[43m    \u001b[49m\u001b[43mpath\u001b[49m\u001b[43m,\u001b[49m\n\u001b[32m    725\u001b[39m \u001b[43m    \u001b[49m\u001b[43mlayer\u001b[49m\u001b[43m=\u001b[49m\u001b[43mlayer\u001b[49m\u001b[43m,\u001b[49m\n\u001b[32m    726\u001b[39m \u001b[43m    \u001b[49m\u001b[43mdriver\u001b[49m\u001b[43m=\u001b[49m\u001b[43mdriver\u001b[49m\u001b[43m,\u001b[49m\n\u001b[32m    727\u001b[39m \u001b[43m    \u001b[49m\u001b[43mgeometry\u001b[49m\u001b[43m=\u001b[49m\u001b[43mgeometry\u001b[49m\u001b[43m,\u001b[49m\n\u001b[32m    728\u001b[39m \u001b[43m    \u001b[49m\u001b[43mgeometry_type\u001b[49m\u001b[43m=\u001b[49m\u001b[43mgeometry_type\u001b[49m\u001b[43m,\u001b[49m\n\u001b[32m    729\u001b[39m \u001b[43m    \u001b[49m\u001b[43mfield_data\u001b[49m\u001b[43m=\u001b[49m\u001b[43mfield_data\u001b[49m\u001b[43m,\u001b[49m\n\u001b[32m    730\u001b[39m \u001b[43m    \u001b[49m\u001b[43mfield_mask\u001b[49m\u001b[43m=\u001b[49m\u001b[43mfield_mask\u001b[49m\u001b[43m,\u001b[49m\n\u001b[32m    731\u001b[39m \u001b[43m    \u001b[49m\u001b[43mfields\u001b[49m\u001b[43m=\u001b[49m\u001b[43mfields\u001b[49m\u001b[43m,\u001b[49m\n\u001b[32m    732\u001b[39m \u001b[43m    \u001b[49m\u001b[43mcrs\u001b[49m\u001b[43m=\u001b[49m\u001b[43mcrs\u001b[49m\u001b[43m,\u001b[49m\n\u001b[32m    733\u001b[39m \u001b[43m    \u001b[49m\u001b[43mencoding\u001b[49m\u001b[43m=\u001b[49m\u001b[43mencoding\u001b[49m\u001b[43m,\u001b[49m\n\u001b[32m    734\u001b[39m \u001b[43m    \u001b[49m\u001b[43mpromote_to_multi\u001b[49m\u001b[43m=\u001b[49m\u001b[43mpromote_to_multi\u001b[49m\u001b[43m,\u001b[49m\n\u001b[32m    735\u001b[39m \u001b[43m    \u001b[49m\u001b[43mnan_as_null\u001b[49m\u001b[43m=\u001b[49m\u001b[43mnan_as_null\u001b[49m\u001b[43m,\u001b[49m\n\u001b[32m    736\u001b[39m \u001b[43m    \u001b[49m\u001b[43mappend\u001b[49m\u001b[43m=\u001b[49m\u001b[43mappend\u001b[49m\u001b[43m,\u001b[49m\n\u001b[32m    737\u001b[39m \u001b[43m    \u001b[49m\u001b[43mdataset_metadata\u001b[49m\u001b[43m=\u001b[49m\u001b[43mdataset_metadata\u001b[49m\u001b[43m,\u001b[49m\n\u001b[32m    738\u001b[39m \u001b[43m    \u001b[49m\u001b[43mlayer_metadata\u001b[49m\u001b[43m=\u001b[49m\u001b[43mlayer_metadata\u001b[49m\u001b[43m,\u001b[49m\n\u001b[32m    739\u001b[39m \u001b[43m    \u001b[49m\u001b[43mdataset_kwargs\u001b[49m\u001b[43m=\u001b[49m\u001b[43mdataset_kwargs\u001b[49m\u001b[43m,\u001b[49m\n\u001b[32m    740\u001b[39m \u001b[43m    \u001b[49m\u001b[43mlayer_kwargs\u001b[49m\u001b[43m=\u001b[49m\u001b[43mlayer_kwargs\u001b[49m\u001b[43m,\u001b[49m\n\u001b[32m    741\u001b[39m \u001b[43m    \u001b[49m\u001b[43mgdal_tz_offsets\u001b[49m\u001b[43m=\u001b[49m\u001b[43mgdal_tz_offsets\u001b[49m\u001b[43m,\u001b[49m\n\u001b[32m    742\u001b[39m \u001b[43m\u001b[49m\u001b[43m)\u001b[49m\n",
      "\u001b[36mFile \u001b[39m\u001b[32mpyogrio\\\\_io.pyx:2434\u001b[39m, in \u001b[36mpyogrio._io.ogr_write\u001b[39m\u001b[34m()\u001b[39m\n",
      "\u001b[36mFile \u001b[39m\u001b[32mpyogrio\\\\_io.pyx:2220\u001b[39m, in \u001b[36mpyogrio._io.create_ogr_dataset_layer\u001b[39m\u001b[34m()\u001b[39m\n",
      "\u001b[31mPermissionError\u001b[39m: [WinError 32] Impossibile accedere al file. Il file è utilizzato da un altro processo: '../Data/Clean/Punti_di_interesse/ospedali_clean.geojson'"
     ]
    }
   ],
   "source": [
    "gdf.to_file(PATH_OSPEDALI_CLEAN)"
   ]
  },
  {
   "cell_type": "markdown",
   "id": "1b3ecdb8",
   "metadata": {},
   "source": [
    "Modifichiamo i poligoni in point, così da poterli rappresentare su Tableau"
   ]
  },
  {
   "cell_type": "code",
   "execution_count": 9,
   "id": "c9cf2908",
   "metadata": {},
   "outputs": [],
   "source": [
    "def polygon_to_point(geom):\n",
    "    if isinstance(geom, (Polygon, MultiPolygon)):\n",
    "        return geom.centroid  # calcola il centroide\n",
    "    else:\n",
    "        return geom  # lascia intatti i punti\n",
    "\n",
    "gdf['geometry'] = gdf['geometry'].apply(polygon_to_point)"
   ]
  },
  {
   "cell_type": "code",
   "execution_count": 10,
   "id": "55d53742",
   "metadata": {},
   "outputs": [],
   "source": [
    "gdf.to_file(\"../Data/Clean/Punti_di_interesse/ospedali_point_clean.geojson\", driver=\"GeoJSON\")"
   ]
  },
  {
   "cell_type": "markdown",
   "id": "c9a203a8",
   "metadata": {},
   "source": [
    "# Case dell'acqua"
   ]
  },
  {
   "cell_type": "code",
   "execution_count": 25,
   "id": "b472250e",
   "metadata": {},
   "outputs": [],
   "source": [
    "# Carica il file GeoJSON\n",
    "gdf = gpd.read_file(PATH_CASE_ACQUA_RAW)\n",
    "\n",
    "# Rimuovo le colonne indesiderate\n",
    "gdf = gdf.drop(columns=[\"CAP\", \"ID_NIL\", \"Location\"])\n",
    "gdf[\"MUNICIPIO\"] = gdf[\"MUNICIPIO\"].astype(int)\n",
    "# Rinomino le colonne\n",
    "gdf = gdf.rename(columns={\n",
    "    \"LONG_X_4326\": \"longitudine\",\n",
    "    \"LAT_Y_4326\": \"latitudine\"\n",
    "})\n",
    "\n",
    "# Creo la colonna geometry \n",
    "gdf[\"geometry\"] = gdf.apply(lambda row: Point(row[\"longitudine\"], row[\"latitudine\"]), axis=1)\n",
    "\n",
    "# Imposto il sistema di coordinate\n",
    "gdf = gdf.set_crs(CRS_GRAD)\n",
    "\n",
    "# Esporto il GeoJSON pulito\n",
    "gdf.to_file(PATH_CASE_ACQUA_CLEAN, driver=\"GeoJSON\")\n"
   ]
  }
 ],
 "metadata": {
  "kernelspec": {
   "display_name": ".venv",
   "language": "python",
   "name": "python3"
  },
  "language_info": {
   "codemirror_mode": {
    "name": "ipython",
    "version": 3
   },
   "file_extension": ".py",
   "mimetype": "text/x-python",
   "name": "python",
   "nbconvert_exporter": "python",
   "pygments_lexer": "ipython3",
   "version": "3.13.7"
  }
 },
 "nbformat": 4,
 "nbformat_minor": 5
}
