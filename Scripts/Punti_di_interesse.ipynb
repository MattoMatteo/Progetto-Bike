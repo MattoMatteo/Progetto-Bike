{
 "cells": [
  {
   "cell_type": "markdown",
   "id": "a44a6309",
   "metadata": {},
   "source": [
    "# Punti di interesse"
   ]
  },
  {
   "cell_type": "code",
   "execution_count": null,
   "id": "e4ded582",
   "metadata": {},
   "outputs": [],
   "source": [
    "from shapely import Point\n",
    "\n",
    "import geopandas as gpd\n",
    "\n",
    "from my_paths import *"
   ]
  },
  {
   "cell_type": "markdown",
   "id": "b80e93a3",
   "metadata": {},
   "source": [
    "# Municipi"
   ]
  },
  {
   "cell_type": "code",
   "execution_count": null,
   "id": "36044d24",
   "metadata": {},
   "outputs": [],
   "source": [
    "gdf = gpd.read_file(PATH_MUNICIPI_RAW)\n",
    "gdf = gdf.to_crs(\"EPSG:4326\")\n",
    "gdf.to_file(PATH_MUNICIPI_CLEAN)"
   ]
  },
  {
   "cell_type": "markdown",
   "id": "bb451ef2",
   "metadata": {},
   "source": [
    "# Parchi"
   ]
  },
  {
   "cell_type": "code",
   "execution_count": 20,
   "id": "9383f129",
   "metadata": {},
   "outputs": [],
   "source": [
    "gdf = gpd.read_file(PATH_PARCHI_RAW)\n",
    "gdf.to_file(PATH_PARCHI_CLEAN)"
   ]
  },
  {
   "cell_type": "markdown",
   "id": "fad5fee3",
   "metadata": {},
   "source": [
    "# Fontane"
   ]
  },
  {
   "cell_type": "markdown",
   "id": "66bcd62a",
   "metadata": {},
   "source": [
    "Carichiamo Raw csv"
   ]
  },
  {
   "cell_type": "code",
   "execution_count": null,
   "id": "033ad7d0",
   "metadata": {},
   "outputs": [],
   "source": [
    "gdf = gpd.read_file(PATH_FONTANE_RAW, sep=\";\")\n",
    "gdf[\"Location\"] = gdf[\"Location\"].apply(lambda x: Point((float(x.strip(\"(\").strip(\")\").strip().split(\",\")[1]),\n",
    "                                                        float(x.strip(\"(\").strip(\")\").strip().split(\",\")[0]))))\n",
    "gdf = gdf.rename(columns = {'objectID':'id_fontane',\n",
    "                           'MUNICIPIO':'municipio',\n",
    "                           'ID_NIL': 'id_nome',\n",
    "                           'NIL': \"nome\",\n",
    "                           'LONG_X_4326':'longitudine',\n",
    "                           'LAT_Y_4326': 'latitudine',\n",
    "                           'Location':'geometry'})\n",
    "gdf['icon'] = \"events\"\n",
    "gdf = gpd.GeoDataFrame(gdf, geometry=\"geometry\", crs=\"EPSG:4326\")\n",
    "gdf.to_file(PATH_FONTANE_CLEAN, driver=\"GeoJSON\")"
   ]
  },
  {
   "cell_type": "markdown",
   "id": "2d93ee93",
   "metadata": {},
   "source": [
    "# Impianti sportivi"
   ]
  },
  {
   "cell_type": "markdown",
   "id": "0de00c19",
   "metadata": {},
   "source": [
    "1. Rimozione righe in cui non è segnalata una data inizio costruzione\n",
    "2. Rimozione delle piste ciclabili, dato che abbiamo un dataset apposito\n",
    "3. Convertiamo la data in un intero, in modo da poter filtrare agilmente su kepler"
   ]
  },
  {
   "cell_type": "code",
   "execution_count": null,
   "id": "6d4c4779",
   "metadata": {},
   "outputs": [],
   "source": [
    "gdf = gpd.read_file(PATH_IMPIANTI_SPORTIVI_RAW)\n",
    "gdf = gdf[[\"municipio\", \"località\", \"obj_id\", \"data_ini\", \"area_mq\", \"perim_m\", \"descrizione_codice\", \"geometry\"]]\n",
    "gdf = gdf.rename(columns={\"data_ini\": \"anno_inizio\", \"obj_id\": \"id_impianto\"})\n",
    "\n",
    "gdf = gdf[gdf[\"anno_inizio\"].notna()].reset_index()\n",
    "gdf[\"anno_inizio\"] = gdf[\"anno_inizio\"].apply(lambda x: x.year)\n",
    "\n",
    "gdf = gdf[~gdf[\"descrizione_codice\"].str.contains(\"pista ciclabile\", case=False, na=False)].reset_index()\n",
    "gdf = gdf.drop(columns=[\"level_0\", \"index\"], errors=\"ignore\")"
   ]
  },
  {
   "cell_type": "markdown",
   "id": "addcb3b7",
   "metadata": {},
   "source": [
    "Salviamo in Clean"
   ]
  },
  {
   "cell_type": "code",
   "execution_count": null,
   "id": "9f53a865",
   "metadata": {},
   "outputs": [],
   "source": [
    "gdf.to_file(PATH_IMPIANTI_SPORTIVI_CLEAN, driver=\"GeoJSON\")"
   ]
  },
  {
   "cell_type": "markdown",
   "id": "3dd5e252",
   "metadata": {},
   "source": [
    "# Biblioteche"
   ]
  },
  {
   "cell_type": "code",
   "execution_count": null,
   "id": "e36db582",
   "metadata": {},
   "outputs": [],
   "source": [
    "gdf = gpd.read_file(PATH_BIBLIOTECHE_RAW)\n",
    "print(type(gdf))\n",
    "column = {\n",
    "    \"Indirizzo\": \"Indirizzo\",\n",
    "    \"CAP\": \"CAP\",\n",
    "    \"MUNICIPIO\": \"Municipio\",\n",
    "    \"NIL\": \"Quartiere\",\n",
    "    \"long\": \"Longitudine\",\n",
    "    \"lat\": \"Latitudine\",\n",
    "    \"geometry\": \"geometry\"\n",
    "}\n",
    "gdf = gdf[column.keys()]\n",
    "gdf[\"icon\"] = \"place\"\n",
    "gdf = gdf.rename(columns=column)\n",
    "\n",
    "gdf.to_file(PATH_BIBLIOTECHE_CLEAN, driver=\"GeoJSON\")"
   ]
  },
  {
   "cell_type": "markdown",
   "id": "8e79eebc",
   "metadata": {},
   "source": [
    "# Scuole"
   ]
  },
  {
   "cell_type": "markdown",
   "id": "0849981a",
   "metadata": {},
   "source": [
    "Carichiamo tutti i file raw come gdf"
   ]
  },
  {
   "cell_type": "code",
   "execution_count": null,
   "id": "f3e1f1e9",
   "metadata": {},
   "outputs": [],
   "source": [
    "gdf_primarie = gpd.read_file(PATH_SCUOLE_PRIMARIE_RAW)\n",
    "gdf_secondarie_1 = gpd.read_file(PATH_SCUOLE_SECONDARIE_PRIMO_RAW)\n",
    "gdf_secondarie_2 = gpd.read_file(PATH_SCUOLE_SECONDARIE_SECONDO_RAW)\n",
    "gdf_universita = gpd.read_file(PATH_UNIVERSITA_RAW)"
   ]
  },
  {
   "cell_type": "markdown",
   "id": "9b03faf0",
   "metadata": {},
   "source": [
    "Scuole primarie e secondarie di primo grado possiedono la stessa granularità quindi effettiuamo le stesse operazioni per entrambi.  \n",
    "1. Filtro solo per ANNOSCOL 2023/2024  \n",
    "2. Rinomino colonne che ci servono e tengo solo quelle"
   ]
  },
  {
   "cell_type": "code",
   "execution_count": null,
   "id": "3366618a",
   "metadata": {},
   "outputs": [],
   "source": [
    "column_prim_sec1 = {\n",
    "    \"DENOMINAZIONE\": \"Denominazione\",\n",
    "    \"GRADO\": \"Grado\",\n",
    "    \"INDIRIZZO\": \"Indirizzo\",\n",
    "    \"MUNICIPIO\": \"Municipio\",\n",
    "    \"NIL\": \"Quartiere\",\n",
    "    \"LONG_X_4326\": \"Longitudine\",\n",
    "    \"LAT_Y_4326\": \"Latitudine\",\n",
    "    \"geometry\": \"geometry\"\n",
    "}\n",
    "# Modifico nomi e tengo solo colonne che mi serono per primarie\n",
    "gdf_primarie = gdf_primarie[gdf_primarie[\"ANNOSCOL\"] == 2324].reset_index()\n",
    "gdf_primarie = gdf_primarie.rename(columns=column_prim_sec1)[column_prim_sec1.values()]\n",
    "# e secondarie \n",
    "gdf_secondarie_1 = gdf_secondarie_1[gdf_secondarie_1[\"ANNOSCOL\"] == 2324].reset_index()\n",
    "gdf_secondarie_1 = gdf_secondarie_1.rename(columns=column_prim_sec1)[column_prim_sec1.values()]\n",
    "gdf_secondarie_1[\"Grado\"] = \"Scuola secondaria - Primo grado\""
   ]
  },
  {
   "cell_type": "markdown",
   "id": "7edee733",
   "metadata": {},
   "source": [
    "Nulla da sistemare, faccio solo il rename delle colonne ed estraggo dal df solo quelle"
   ]
  },
  {
   "cell_type": "code",
   "execution_count": null,
   "id": "ebd4ea05",
   "metadata": {},
   "outputs": [],
   "source": [
    "column_sec2 = {\n",
    "    \"DENOMINAZ\": \"Denominazione\",\n",
    "    \"TIPOLOGIA\": \"Grado\",\n",
    "    \"INDIRIZZO\": \"Indirizzo\",\n",
    "    \"MUNICIPIO\": \"Municipio\",\n",
    "    \"NIL\": \"Quartiere\",\n",
    "    \"LONG_X_4326\": \"Longitudine\",\n",
    "    \"LAT_Y_4326\": \"Latitudine\",\n",
    "    \"geometry\": \"geometry\"\n",
    "}\n",
    "gdf_secondarie_2 = gdf_secondarie_2.rename(columns=column_sec2)[column_sec2.values()]\n",
    "gdf_secondarie_2[\"Grado\"] = \"Scuola secondaria - Secondo grado\""
   ]
  },
  {
   "cell_type": "markdown",
   "id": "545a39d0",
   "metadata": {},
   "source": [
    "Uguale per università"
   ]
  },
  {
   "cell_type": "code",
   "execution_count": null,
   "id": "8d771453",
   "metadata": {},
   "outputs": [],
   "source": [
    "column_uni = {\n",
    "    \"DENOMINAZ\": \"Denominazione\",\n",
    "    \"TIPOLOGIA\": \"Grado\",\n",
    "    \"INDIRIZZO\": \"Indirizzo\",\n",
    "    \"MUNICIPIO\": \"Municipio\",\n",
    "    \"NIL\": \"Quartiere\",\n",
    "    \"LONG_X_4326\": \"Longitudine\",\n",
    "    \"LAT_Y_4326\": \"Latitudine\",\n",
    "    \"geometry\": \"geometry\"\n",
    "}\n",
    "gdf_universita = gdf_universita.rename(columns=column_uni)[column_uni.values()]\n",
    "gdf_universita[\"Grado\"] = \"Università\""
   ]
  },
  {
   "cell_type": "markdown",
   "id": "1d4871ae",
   "metadata": {},
   "source": [
    "Uniamo i 4 geodataframe ripuliti e portati alla stessa granularità"
   ]
  },
  {
   "cell_type": "code",
   "execution_count": null,
   "id": "a49cecfc",
   "metadata": {},
   "outputs": [],
   "source": [
    "final_gdf = gpd.pd.concat([gdf_primarie, gdf_secondarie_1, gdf_secondarie_2, gdf_universita], ignore_index=True)\n",
    "final_gdf = gpd.GeoDataFrame(final_gdf, geometry=gdf_primarie.geometry.name)"
   ]
  },
  {
   "cell_type": "markdown",
   "id": "f4ae6954",
   "metadata": {},
   "source": [
    "Aggiungo colonna icona per la visualizzazione su kepler"
   ]
  },
  {
   "cell_type": "code",
   "execution_count": null,
   "id": "6d213329",
   "metadata": {},
   "outputs": [],
   "source": [
    "final_gdf[\"icon\"] = \"id-card\""
   ]
  },
  {
   "cell_type": "markdown",
   "id": "7ce1c256",
   "metadata": {},
   "source": [
    "Salviamo il file in Clean"
   ]
  },
  {
   "cell_type": "code",
   "execution_count": null,
   "id": "8004b41a",
   "metadata": {},
   "outputs": [],
   "source": [
    "final_gdf.to_file(PATH_SCUOLE_CLEAN, driver=\"GeoJSON\")"
   ]
  }
 ],
 "metadata": {
  "kernelspec": {
   "display_name": "Python 3",
   "language": "python",
   "name": "python3"
  },
  "language_info": {
   "codemirror_mode": {
    "name": "ipython",
    "version": 3
   },
   "file_extension": ".py",
   "mimetype": "text/x-python",
   "name": "python",
   "nbconvert_exporter": "python",
   "pygments_lexer": "ipython3",
   "version": "3.13.5"
  }
 },
 "nbformat": 4,
 "nbformat_minor": 5
}
