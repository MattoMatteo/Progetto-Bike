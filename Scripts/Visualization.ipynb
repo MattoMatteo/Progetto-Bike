{
 "cells": [
  {
   "cell_type": "code",
   "execution_count": null,
   "id": "afc59a0b",
   "metadata": {},
   "outputs": [],
   "source": [
    "import geopandas as gpd\n",
    "\n",
    "from my_paths import *"
   ]
  },
  {
   "cell_type": "markdown",
   "id": "25bc8549",
   "metadata": {},
   "source": [
    "# Unione percorsi dai gruppi di Analisi"
   ]
  },
  {
   "cell_type": "markdown",
   "id": "c436e343",
   "metadata": {},
   "source": [
    "Unione dei gruppi di analisi già uniti nelle loro 3 versioni: Completo, Incidenti e Inquinamento, in un unico geodataframe"
   ]
  },
  {
   "cell_type": "code",
   "execution_count": 127,
   "id": "65970b53",
   "metadata": {},
   "outputs": [],
   "source": [
    "gdf_sport = gpd.read_file(PATH_SPORT_TEMPO_LIBERO_UNITI_CLEAN)\n",
    "gdf_cultura = gpd.read_file(PATH_CULTURA_SPETTACOLO_UNITI_CLEAN)\n",
    "gdf_istruzione = gpd.read_file(PATH_ISTRUZIONE_UNITI_CLEAN)\n",
    "gdf_sanita = gpd.read_file(PATH_SANITA_UNITI_CLEAN)"
   ]
  },
  {
   "cell_type": "markdown",
   "id": "d5d8475d",
   "metadata": {},
   "source": [
    "Aggiungo Tag per distinguerli nel GeoDataFrame finale"
   ]
  },
  {
   "cell_type": "code",
   "execution_count": 128,
   "id": "e413019a",
   "metadata": {},
   "outputs": [],
   "source": [
    "gdf_sport[\"gruppo\"] = \"sport\"\n",
    "gdf_cultura[\"gruppo\"] = \"cultura\"\n",
    "gdf_istruzione[\"gruppo\"] = \"istruzione\"\n",
    "gdf_sanita[\"gruppo\"] = \"sanita\""
   ]
  },
  {
   "cell_type": "markdown",
   "id": "19ec8c77",
   "metadata": {},
   "source": [
    "Concateno"
   ]
  },
  {
   "cell_type": "code",
   "execution_count": 129,
   "id": "6af6da6e",
   "metadata": {},
   "outputs": [],
   "source": [
    "df_concat = gpd.pd.concat([gdf_sport, gdf_cultura, gdf_istruzione, gdf_sanita], ignore_index=True)\n",
    "gpd.GeoDataFrame(df_concat, crs=CRS_GRAD).to_file(PATH_GRUPPI_ANALISI_UNITI_CLEAN, driver=\"GeoJSON\")"
   ]
  },
  {
   "cell_type": "markdown",
   "id": "1fdb7455",
   "metadata": {},
   "source": [
    "# Unione POI dai Gruppi di Analisi"
   ]
  },
  {
   "cell_type": "markdown",
   "id": "6500b751",
   "metadata": {},
   "source": [
    "Carico da file i GeoDataFrame"
   ]
  },
  {
   "cell_type": "code",
   "execution_count": 131,
   "id": "2bb0676d",
   "metadata": {},
   "outputs": [],
   "source": [
    "gdf_poi_sport = gpd.read_file(PATH_SPORT_TEMPO_LIBERO_POI_UNITI_CLEAN)\n",
    "gdf_poi_cultura = gpd.read_file(PATH_CULTURA_SPETTACOLO_POI_UNITI_CLEAN)\n",
    "gdf_poi_istruzione = gpd.read_file(PATH_ISTRUZIONE_POI_UNITI_CLEAN)\n",
    "gdf_poi_sanita = gpd.read_file(PATH_SANITA_POI_UNITI_CLEAN)"
   ]
  },
  {
   "cell_type": "markdown",
   "id": "973480be",
   "metadata": {},
   "source": [
    "Aggiungo \"gruppo\" per distinguere il Gruppo di analisi all'interno del dataframe concatenato."
   ]
  },
  {
   "cell_type": "code",
   "execution_count": 132,
   "id": "b176dd2d",
   "metadata": {},
   "outputs": [],
   "source": [
    "gdf_poi_sport[\"gruppo\"] = \"sport\"\n",
    "gdf_poi_cultura[\"gruppo\"] = \"cultura\"\n",
    "gdf_poi_istruzione[\"gruppo\"] = \"istruzione\"\n",
    "gdf_poi_sanita[\"gruppo\"] = \"sanita\""
   ]
  },
  {
   "cell_type": "markdown",
   "id": "09dfcf7f",
   "metadata": {},
   "source": [
    "Concateno"
   ]
  },
  {
   "cell_type": "code",
   "execution_count": 133,
   "id": "79cfb082",
   "metadata": {},
   "outputs": [],
   "source": [
    "df_concat = gpd.pd.concat([gdf_poi_sport, gdf_poi_cultura, gdf_poi_istruzione, gdf_poi_sanita], ignore_index=True)\n",
    "df_concat[\"MUNICIPIO\"] = df_concat[\"MUNICIPIO\"].astype(int)"
   ]
  },
  {
   "cell_type": "code",
   "execution_count": 134,
   "id": "49f28692",
   "metadata": {},
   "outputs": [],
   "source": [
    "gdf_pois_con_municipio = gpd.GeoDataFrame(df_concat, crs=CRS_GRAD)\n",
    "gdf_pois_con_municipio.to_file(PATH_POI_GRUPPI_ANALISI_UNITI_CLEAN, driver=\"GeoJSON\")"
   ]
  },
  {
   "cell_type": "code",
   "execution_count": 145,
   "id": "9433c428",
   "metadata": {},
   "outputs": [
    {
     "data": {
      "text/plain": [
       "array(['aree_gioco', 'parchi', 'impianti_sportivi', 'musei', 'cinema',\n",
       "       'teatri', 'biblioteche', 'scuole', 'farmacie', 'ospedali'],\n",
       "      dtype=object)"
      ]
     },
     "execution_count": 145,
     "metadata": {},
     "output_type": "execute_result"
    }
   ],
   "source": [
    "gdf_pois_con_municipio.tipo.unique()"
   ]
  },
  {
   "cell_type": "code",
   "execution_count": 143,
   "id": "99b0d71e",
   "metadata": {},
   "outputs": [
    {
     "data": {
      "text/plain": [
       "1191"
      ]
     },
     "execution_count": 143,
     "metadata": {},
     "output_type": "execute_result"
    }
   ],
   "source": [
    "len(gdf_pois_con_municipio[gdf_pois_con_municipio[\"tipo\"] == \"aree_gioco\"])"
   ]
  }
 ],
 "metadata": {
  "kernelspec": {
   "display_name": ".venv",
   "language": "python",
   "name": "python3"
  },
  "language_info": {
   "codemirror_mode": {
    "name": "ipython",
    "version": 3
   },
   "file_extension": ".py",
   "mimetype": "text/x-python",
   "name": "python",
   "nbconvert_exporter": "python",
   "pygments_lexer": "ipython3",
   "version": "3.13.2"
  }
 },
 "nbformat": 4,
 "nbformat_minor": 5
}
