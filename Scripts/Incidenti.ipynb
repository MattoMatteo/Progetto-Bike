{
 "cells": [
  {
   "cell_type": "markdown",
   "id": "945a62f5",
   "metadata": {},
   "source": [
    "# Incidenti"
   ]
  },
  {
   "cell_type": "code",
   "execution_count": 30,
   "id": "b5a2a34f",
   "metadata": {},
   "outputs": [],
   "source": [
    "import geopandas as gpd\n",
    "\n",
    "from my_paths import *"
   ]
  },
  {
   "cell_type": "code",
   "execution_count": 63,
   "id": "28aac848",
   "metadata": {},
   "outputs": [],
   "source": [
    "#Raw\n",
    "PATH_INCIDENTI_MESE_MUNICIPIO_RAW = \"../Data/Raw/Incidenti/incidenti_mese_municipio.csv\"\n",
    "PATH_INCIDENTI_VEICOLI_GIORNO_RAW = \"../Data/Raw/Incidenti/incidenti_veicoliCoinvolti_giorno.csv\"\n",
    "\n",
    "#Staging\n",
    "PATH_INCIDENTI_MESE_MUNICIPIO_STAGING = \"../Data/Staging/Incidenti/incidenti_mese_municipio.geojson\"\n",
    "PATH_INCIDENTI_VEICOLI_GIORNO_STAGING = \"../Data/Staging/Incidenti/incidenti_veicoliCoinvolti_giorno.geojson\"\n",
    "\n",
    "#Clean\n",
    "PATH_INCIDENTI_CLEAN = \"../Data/Clean/Incidenti/incidenti_clean.csv\""
   ]
  },
  {
   "cell_type": "markdown",
   "id": "1afc6eef",
   "metadata": {},
   "source": [
    "## Incidenti_mese_municipio"
   ]
  },
  {
   "cell_type": "markdown",
   "id": "ee278583",
   "metadata": {},
   "source": [
    "Carico, elimino municipi null, converto i municipi a interi"
   ]
  },
  {
   "cell_type": "markdown",
   "id": "6862eeef",
   "metadata": {},
   "source": [
    "Mantengo solo il 2023 e raggruppo per municipio tramite sum su ogni colonna"
   ]
  },
  {
   "cell_type": "code",
   "execution_count": 65,
   "id": "2af9a378",
   "metadata": {},
   "outputs": [],
   "source": [
    "df_mese_municipio = gpd.pd.read_csv(PATH_INCIDENTI_MESE_MUNICIPIO_RAW, sep=\";\")\n",
    "df_mese_municipio = df_mese_municipio[df_mese_municipio[\"Municipio\"].notna()]\n",
    "df_mese_municipio[\"Municipio\"] = df_mese_municipio[\"Municipio\"].astype(int)\n",
    "df_mese_municipio = df_mese_municipio[df_mese_municipio[\"Anno\"] == 2023]\n",
    "df_mese_municipio = df_mese_municipio.drop(columns=[\"Anno\", \"Mese\"])\n",
    "df_mese_municipio = df_mese_municipio.groupby(\"Municipio\", as_index=False).sum().reset_index(drop=True)"
   ]
  },
  {
   "cell_type": "markdown",
   "id": "f9152ed4",
   "metadata": {},
   "source": [
    "Carico le geometrie dei municipi dal file raw e aggiungo la geometria sul df.  \n",
    "Salvo come geojson in Clean."
   ]
  },
  {
   "cell_type": "code",
   "execution_count": null,
   "id": "5a8043aa",
   "metadata": {},
   "outputs": [],
   "source": [
    "gdf = gpd.read_file(PATH_MUNICIPI_RAW).to_crs(\"EPSG:4326\").drop([\"AREA\", \"PERIMETRO\"], axis=1).sort_values(\"MUNICIPIO\").reset_index(drop=True)\n",
    "df_mese_municipio[\"geometry\"] = gdf[\"geometry\"]\n",
    "gpd.GeoDataFrame(df_mese_municipio, geometry=\"geometry\", crs=\"EPSG:4326\").to_file(PATH_INCIDENTI_MESE_MUNICIPIO_STAGING, driver=\"GeoJSON\")"
   ]
  },
  {
   "cell_type": "markdown",
   "id": "d0bbd67b",
   "metadata": {},
   "source": [
    "## Incidenti_veicoliCoinvolti_giorno"
   ]
  }
 ],
 "metadata": {
  "kernelspec": {
   "display_name": ".venv",
   "language": "python",
   "name": "python3"
  },
  "language_info": {
   "codemirror_mode": {
    "name": "ipython",
    "version": 3
   },
   "file_extension": ".py",
   "mimetype": "text/x-python",
   "name": "python",
   "nbconvert_exporter": "python",
   "pygments_lexer": "ipython3",
   "version": "3.13.2"
  }
 },
 "nbformat": 4,
 "nbformat_minor": 5
}
