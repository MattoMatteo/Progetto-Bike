{
 "cells": [
  {
   "cell_type": "markdown",
   "id": "945a62f5",
   "metadata": {},
   "source": [
    "# Incidenti"
   ]
  },
  {
   "cell_type": "code",
   "execution_count": 1,
   "id": "b5a2a34f",
   "metadata": {},
   "outputs": [],
   "source": [
    "import geopandas as gpd\n",
    "\n",
    "from my_paths import *"
   ]
  },
  {
   "cell_type": "markdown",
   "id": "ee278583",
   "metadata": {},
   "source": [
    "Carico, elimino municipi null, converto i municipi a interi"
   ]
  },
  {
   "cell_type": "markdown",
   "id": "6862eeef",
   "metadata": {},
   "source": [
    "Mantengo solo il 2023 e raggruppo per municipio tramite sum su ogni colonna"
   ]
  },
  {
   "cell_type": "code",
   "execution_count": 3,
   "id": "2af9a378",
   "metadata": {},
   "outputs": [],
   "source": [
    "df_mese_municipio = gpd.pd.read_csv(PATH_INCIDENTI_RAW, sep=\";\")\n",
    "df_mese_municipio = df_mese_municipio.rename(columns={\"Municipio\": \"MUNICIPIO\"})\n",
    "df_mese_municipio = df_mese_municipio[df_mese_municipio[\"MUNICIPIO\"].notna()]\n",
    "df_mese_municipio[\"MUNICIPIO\"] = df_mese_municipio[\"MUNICIPIO\"].astype(int)\n",
    "df_mese_municipio = df_mese_municipio[df_mese_municipio[\"Anno\"] == 2023]\n",
    "df_mese_municipio = df_mese_municipio.drop(columns=[\"Anno\", \"Mese\"])\n",
    "df_mese_municipio = df_mese_municipio.groupby(\"MUNICIPIO\", as_index=False).sum().reset_index(drop=True)"
   ]
  },
  {
   "cell_type": "markdown",
   "id": "f9152ed4",
   "metadata": {},
   "source": [
    "Carico le geometrie dei municipi dal file raw e aggiungo la geometria sul df.  \n",
    "Salvo come geojson in Clean."
   ]
  },
  {
   "cell_type": "code",
   "execution_count": 4,
   "id": "5a8043aa",
   "metadata": {},
   "outputs": [],
   "source": [
    "gdf_municipi = gpd.read_file(PATH_MUNICIPI_CLEAN).to_crs(CRS_GRAD).drop([\"AREA\", \"PERIMETRO\"], axis=1)\n",
    "\n",
    "gdf_municipi[\"MUNICIPIO\"] = gdf_municipi[\"MUNICIPIO\"].astype(int)\n",
    "gdf_municipi = gdf_municipi.sort_values(\"MUNICIPIO\").reset_index(drop=True)\n",
    "\n",
    "df_mese_municipio[\"geometry\"] = gdf_municipi[\"geometry\"]\n",
    "gpd.GeoDataFrame(df_mese_municipio, geometry=\"geometry\", crs=CRS_GRAD).to_file(PATH_INCIDENTI_CLEAN, driver=\"GeoJSON\")"
   ]
  }
 ],
 "metadata": {
  "kernelspec": {
   "display_name": ".venv",
   "language": "python",
   "name": "python3"
  },
  "language_info": {
   "codemirror_mode": {
    "name": "ipython",
    "version": 3
   },
   "file_extension": ".py",
   "mimetype": "text/x-python",
   "name": "python",
   "nbconvert_exporter": "python",
   "pygments_lexer": "ipython3",
   "version": "3.13.2"
  }
 },
 "nbformat": 4,
 "nbformat_minor": 5
}
