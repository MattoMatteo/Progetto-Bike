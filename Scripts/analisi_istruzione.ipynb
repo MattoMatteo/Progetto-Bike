{
 "cells": [
  {
   "cell_type": "code",
   "execution_count": 1,
   "id": "e3060e1a",
   "metadata": {},
   "outputs": [
    {
     "name": "stdout",
     "output_type": "stream",
     "text": [
      "Requirement already satisfied: geopandas in c:\\users\\apera\\onedrive\\documenti\\progetti\\progetto-bike\\.venv\\lib\\site-packages (1.1.1)\n",
      "Requirement already satisfied: numpy>=1.24 in c:\\users\\apera\\onedrive\\documenti\\progetti\\progetto-bike\\.venv\\lib\\site-packages (from geopandas) (2.3.1)\n",
      "Requirement already satisfied: pyogrio>=0.7.2 in c:\\users\\apera\\onedrive\\documenti\\progetti\\progetto-bike\\.venv\\lib\\site-packages (from geopandas) (0.11.0)\n",
      "Requirement already satisfied: packaging in c:\\users\\apera\\onedrive\\documenti\\progetti\\progetto-bike\\.venv\\lib\\site-packages (from geopandas) (25.0)\n",
      "Requirement already satisfied: pandas>=2.0.0 in c:\\users\\apera\\onedrive\\documenti\\progetti\\progetto-bike\\.venv\\lib\\site-packages (from geopandas) (2.3.1)\n",
      "Requirement already satisfied: pyproj>=3.5.0 in c:\\users\\apera\\onedrive\\documenti\\progetti\\progetto-bike\\.venv\\lib\\site-packages (from geopandas) (3.7.1)\n",
      "Requirement already satisfied: shapely>=2.0.0 in c:\\users\\apera\\onedrive\\documenti\\progetti\\progetto-bike\\.venv\\lib\\site-packages (from geopandas) (2.1.1)\n",
      "Requirement already satisfied: python-dateutil>=2.8.2 in c:\\users\\apera\\onedrive\\documenti\\progetti\\progetto-bike\\.venv\\lib\\site-packages (from pandas>=2.0.0->geopandas) (2.9.0.post0)\n",
      "Requirement already satisfied: pytz>=2020.1 in c:\\users\\apera\\onedrive\\documenti\\progetti\\progetto-bike\\.venv\\lib\\site-packages (from pandas>=2.0.0->geopandas) (2025.2)\n",
      "Requirement already satisfied: tzdata>=2022.7 in c:\\users\\apera\\onedrive\\documenti\\progetti\\progetto-bike\\.venv\\lib\\site-packages (from pandas>=2.0.0->geopandas) (2025.2)\n",
      "Requirement already satisfied: certifi in c:\\users\\apera\\onedrive\\documenti\\progetti\\progetto-bike\\.venv\\lib\\site-packages (from pyogrio>=0.7.2->geopandas) (2025.7.9)\n",
      "Requirement already satisfied: six>=1.5 in c:\\users\\apera\\onedrive\\documenti\\progetti\\progetto-bike\\.venv\\lib\\site-packages (from python-dateutil>=2.8.2->pandas>=2.0.0->geopandas) (1.17.0)\n",
      "Requirement already satisfied: osmnx in c:\\users\\apera\\onedrive\\documenti\\progetti\\progetto-bike\\.venv\\lib\\site-packages (2.0.5)\n",
      "Requirement already satisfied: geopandas>=1.0.1 in c:\\users\\apera\\onedrive\\documenti\\progetti\\progetto-bike\\.venv\\lib\\site-packages (from osmnx) (1.1.1)\n",
      "Requirement already satisfied: networkx>=2.5 in c:\\users\\apera\\onedrive\\documenti\\progetti\\progetto-bike\\.venv\\lib\\site-packages (from osmnx) (3.5)\n",
      "Requirement already satisfied: numpy>=1.22 in c:\\users\\apera\\onedrive\\documenti\\progetti\\progetto-bike\\.venv\\lib\\site-packages (from osmnx) (2.3.1)\n",
      "Requirement already satisfied: pandas>=1.4 in c:\\users\\apera\\onedrive\\documenti\\progetti\\progetto-bike\\.venv\\lib\\site-packages (from osmnx) (2.3.1)\n",
      "Requirement already satisfied: requests>=2.27 in c:\\users\\apera\\onedrive\\documenti\\progetti\\progetto-bike\\.venv\\lib\\site-packages (from osmnx) (2.32.4)\n",
      "Requirement already satisfied: shapely>=2.0 in c:\\users\\apera\\onedrive\\documenti\\progetti\\progetto-bike\\.venv\\lib\\site-packages (from osmnx) (2.1.1)\n",
      "Requirement already satisfied: pyogrio>=0.7.2 in c:\\users\\apera\\onedrive\\documenti\\progetti\\progetto-bike\\.venv\\lib\\site-packages (from geopandas>=1.0.1->osmnx) (0.11.0)\n",
      "Requirement already satisfied: packaging in c:\\users\\apera\\onedrive\\documenti\\progetti\\progetto-bike\\.venv\\lib\\site-packages (from geopandas>=1.0.1->osmnx) (25.0)\n",
      "Requirement already satisfied: pyproj>=3.5.0 in c:\\users\\apera\\onedrive\\documenti\\progetti\\progetto-bike\\.venv\\lib\\site-packages (from geopandas>=1.0.1->osmnx) (3.7.1)\n",
      "Requirement already satisfied: python-dateutil>=2.8.2 in c:\\users\\apera\\onedrive\\documenti\\progetti\\progetto-bike\\.venv\\lib\\site-packages (from pandas>=1.4->osmnx) (2.9.0.post0)\n",
      "Requirement already satisfied: pytz>=2020.1 in c:\\users\\apera\\onedrive\\documenti\\progetti\\progetto-bike\\.venv\\lib\\site-packages (from pandas>=1.4->osmnx) (2025.2)\n",
      "Requirement already satisfied: tzdata>=2022.7 in c:\\users\\apera\\onedrive\\documenti\\progetti\\progetto-bike\\.venv\\lib\\site-packages (from pandas>=1.4->osmnx) (2025.2)\n",
      "Requirement already satisfied: certifi in c:\\users\\apera\\onedrive\\documenti\\progetti\\progetto-bike\\.venv\\lib\\site-packages (from pyogrio>=0.7.2->geopandas>=1.0.1->osmnx) (2025.7.9)\n",
      "Requirement already satisfied: six>=1.5 in c:\\users\\apera\\onedrive\\documenti\\progetti\\progetto-bike\\.venv\\lib\\site-packages (from python-dateutil>=2.8.2->pandas>=1.4->osmnx) (1.17.0)\n",
      "Requirement already satisfied: charset_normalizer<4,>=2 in c:\\users\\apera\\onedrive\\documenti\\progetti\\progetto-bike\\.venv\\lib\\site-packages (from requests>=2.27->osmnx) (3.4.2)\n",
      "Requirement already satisfied: idna<4,>=2.5 in c:\\users\\apera\\onedrive\\documenti\\progetti\\progetto-bike\\.venv\\lib\\site-packages (from requests>=2.27->osmnx) (3.10)\n",
      "Requirement already satisfied: urllib3<3,>=1.21.1 in c:\\users\\apera\\onedrive\\documenti\\progetti\\progetto-bike\\.venv\\lib\\site-packages (from requests>=2.27->osmnx) (2.5.0)\n",
      "Requirement already satisfied: scipy in c:\\users\\apera\\onedrive\\documenti\\progetti\\progetto-bike\\.venv\\lib\\site-packages (1.16.1)\n",
      "Requirement already satisfied: numpy<2.6,>=1.25.2 in c:\\users\\apera\\onedrive\\documenti\\progetti\\progetto-bike\\.venv\\lib\\site-packages (from scipy) (2.3.1)\n"
     ]
    },
    {
     "name": "stderr",
     "output_type": "stream",
     "text": [
      "ERROR: unknown command \"installn\" - maybe you meant \"install\"\n",
      "\n"
     ]
    }
   ],
   "source": [
    "!pip install geopandas\n",
    "!pip install osmnx\n",
    "!pip install scipy\n",
    "!pip installn networkx"
   ]
  },
  {
   "cell_type": "code",
   "execution_count": 12,
   "id": "2e06ee5c",
   "metadata": {},
   "outputs": [],
   "source": [
    "import pickle\n",
    "\n",
    "import geopandas as gpd\n",
    "import networkx as nx\n",
    "from networkx.algorithms.approximation import steiner_tree\n",
    "import osmnx as ox\n",
    "\n",
    "from my_paths import *\n",
    "import Graph_functions"
   ]
  },
  {
   "cell_type": "markdown",
   "id": "f2531774",
   "metadata": {},
   "source": [
    "## Istruzione"
   ]
  },
  {
   "cell_type": "markdown",
   "id": "41b8d60e",
   "metadata": {},
   "source": [
    "Utilizzeremo i seguenti dati:\n",
    "1. **Biblioteche**\n",
    "2. **Scuole**\n",
    "Saranno i nostri \"poi\", cioè \"Point of Interest\" che verranno aggiunti al Grafo della rete Ciclabile/Stradale per la ricerca di percorsi"
   ]
  },
  {
   "cell_type": "code",
   "execution_count": 13,
   "id": "5cb93b4f",
   "metadata": {},
   "outputs": [],
   "source": [
    "gdf_list = [\n",
    "    {\"gdf\":  gpd.read_file(PATH_BIBLIOTECHE_CLEAN),\n",
    "     \"tipo\": \"Biblioteche\",\n",
    "     \"gdf\":  gpd.read_file(PATH_SCUOLE_CLEAN),\n",
    "\n",
    "     \n",
    "     \"tipo\": \"Scuole\"}\n",
    "     ]\n",
    "Graph_functions.auto_analysis_poi(gdf_list, PATH_GEOJSON=\"../Data/Clean/Analisi/Istruzione.geojson\")"
   ]
  },
  {
   "cell_type": "markdown",
   "id": "4892b141",
   "metadata": {},
   "source": [
    "Analisi lunghezza strade create\n"
   ]
  },
  {
   "cell_type": "code",
   "execution_count": 14,
   "id": "efd6a4bc",
   "metadata": {},
   "outputs": [
    {
     "name": "stderr",
     "output_type": "stream",
     "text": [
      "c:\\Users\\apera\\OneDrive\\Documenti\\progetti\\Progetto-Bike\\.venv\\Lib\\site-packages\\pyogrio\\raw.py:198: RuntimeWarning: driver GeoJSON does not support open option DRIVER\n",
      "  return ogr_read(\n"
     ]
    }
   ],
   "source": [
    "gdf_analisi_istruzione = gpd.read_file(\"../Data/Clean/Analisi/Istruzione.geojson\", driver= \"GeoJSON\")"
   ]
  },
  {
   "cell_type": "code",
   "execution_count": 16,
   "id": "e77eb976",
   "metadata": {},
   "outputs": [],
   "source": [
    "# Eliminiamo connessioni \"artificiali\" usate per connettere i \"poi\" al grafo delle strade\n",
    "gdf_analisi_istruzione_mod = gdf_analisi_istruzione[gdf_analisi_istruzione[\"artificial\"] != True]\n",
    "\n",
    "# Leggi i due POI\n",
    "gdf_scuole = gpd.read_file(PATH_SCUOLE_CLEAN)\n",
    "gdf_biblioteche = gpd.read_file(PATH_BIBLIOTECHE_CLEAN)\n",
    "\n",
    "# Unisci in un'unica geometria\n",
    "geometry_poi = gpd.GeoSeries(\n",
    "    gpd.pd.concat([gdf_scuole.geometry, gdf_biblioteche.geometry], ignore_index=True)\n",
    ").union_all()\n",
    "\n",
    "# Filtra il GDF di partenza\n",
    "gdf_senza_poi = []\n",
    "for idx, row in gdf_analisi_istruzione_mod.iterrows():\n",
    "    if not geometry_poi.contains(row.geometry):\n",
    "        gdf_senza_poi.append(row)\n",
    "\n",
    "# Crea nuovo GeoDataFrame\n",
    "gdf_analisi_istruzione_mod = gpd.GeoDataFrame(gdf_senza_poi, crs=CRS_GRAD)\n",
    "\n",
    "# Salviamo per test di visualizzazione su kepler\n",
    "gdf_analisi_istruzione_mod.to_file(\"../Data/Clean/Analisi/istruzione_senza_poi.geojson\", driver=\"GeoJSON\")\n",
    "\n",
    "# Raggruppiamo per \"highway\" e calcoliamo (in km -> /1000) la lunghezza complessiva delle strade\n",
    "gdf_analisi_istruzione_mod_most_highways = gdf_analisi_istruzione_mod.to_crs(CRS_METR).groupby(\"highway\").agg({\n",
    "    \"length\": lambda x: sum(x/1000)\n",
    "    }).sort_values(by=\"length\", ascending=False)"
   ]
  },
  {
   "cell_type": "code",
   "execution_count": 17,
   "id": "3ff12f54",
   "metadata": {},
   "outputs": [
    {
     "name": "stdout",
     "output_type": "stream",
     "text": [
      "                              length\n",
      "highway                             \n",
      "footway                   103.275866\n",
      "cycleway                   83.758404\n",
      "residential                34.211914\n",
      "tertiary                   23.518353\n",
      "secondary                  12.496913\n",
      "primary                     6.308517\n",
      "track                       3.156910\n",
      "service                     1.937384\n",
      "pedestrian                  1.816089\n",
      "path                        1.562238\n",
      "footway steps               0.456524\n",
      "unclassified                0.297007\n",
      "secondary_link              0.224449\n",
      "track service path          0.217139\n",
      "tertiary_link               0.175544\n",
      "residential cycleway        0.168887\n",
      "residential footway         0.168512\n",
      "footway pedestrian          0.158629\n",
      "residential pedestrian      0.146171\n",
      "cycleway path               0.133149\n",
      "footway service             0.127157\n",
      "cycleway footway            0.112020\n",
      "primary_link                0.097783\n",
      "cycleway service            0.093506\n",
      "living_street               0.078276\n",
      "residential steps           0.077341\n",
      "footway platform            0.063848\n",
      "steps                       0.031466\n",
      "unclassified residential    0.026723\n",
      "residential service         0.001870\n",
      "Tot: 274.8985915091991\n"
     ]
    }
   ],
   "source": [
    "# Stampiamo il risultato\n",
    "print(gdf_analisi_istruzione_mod_most_highways)\n",
    "print(f\"Tot: {gdf_analisi_istruzione_mod_most_highways[\"length\"].sum()}\")"
   ]
  }
 ],
 "metadata": {
  "kernelspec": {
   "display_name": ".venv",
   "language": "python",
   "name": "python3"
  },
  "language_info": {
   "codemirror_mode": {
    "name": "ipython",
    "version": 3
   },
   "file_extension": ".py",
   "mimetype": "text/x-python",
   "name": "python",
   "nbconvert_exporter": "python",
   "pygments_lexer": "ipython3",
   "version": "3.13.5"
  }
 },
 "nbformat": 4,
 "nbformat_minor": 5
}
