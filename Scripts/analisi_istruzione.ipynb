{
 "cells": [
  {
   "cell_type": "code",
   "execution_count": 2,
   "id": "e3060e1a",
   "metadata": {},
   "outputs": [
    {
     "name": "stdout",
     "output_type": "stream",
     "text": [
      "^C\n",
      "Requirement already satisfied: geopandas in c:\\users\\apera\\onedrive\\documenti\\progetti\\progetto_bike\\.venv\\lib\\site-packages (1.1.1)\n",
      "Requirement already satisfied: numpy>=1.24 in c:\\users\\apera\\onedrive\\documenti\\progetti\\progetto_bike\\.venv\\lib\\site-packages (from geopandas) (2.3.1)\n",
      "Requirement already satisfied: pyogrio>=0.7.2 in c:\\users\\apera\\onedrive\\documenti\\progetti\\progetto_bike\\.venv\\lib\\site-packages (from geopandas) (0.11.1)\n",
      "Requirement already satisfied: packaging in c:\\users\\apera\\onedrive\\documenti\\progetti\\progetto_bike\\.venv\\lib\\site-packages (from geopandas) (25.0)\n",
      "Requirement already satisfied: pandas>=2.0.0 in c:\\users\\apera\\onedrive\\documenti\\progetti\\progetto_bike\\.venv\\lib\\site-packages (from geopandas) (2.3.1)\n",
      "Requirement already satisfied: pyproj>=3.5.0 in c:\\users\\apera\\onedrive\\documenti\\progetti\\progetto_bike\\.venv\\lib\\site-packages (from geopandas) (3.7.1)\n",
      "Requirement already satisfied: shapely>=2.0.0 in c:\\users\\apera\\onedrive\\documenti\\progetti\\progetto_bike\\.venv\\lib\\site-packages (from geopandas) (2.1.1)\n",
      "Requirement already satisfied: python-dateutil>=2.8.2 in c:\\users\\apera\\onedrive\\documenti\\progetti\\progetto_bike\\.venv\\lib\\site-packages (from pandas>=2.0.0->geopandas) (2.9.0.post0)\n",
      "Requirement already satisfied: pytz>=2020.1 in c:\\users\\apera\\onedrive\\documenti\\progetti\\progetto_bike\\.venv\\lib\\site-packages (from pandas>=2.0.0->geopandas) (2025.2)\n",
      "Requirement already satisfied: tzdata>=2022.7 in c:\\users\\apera\\onedrive\\documenti\\progetti\\progetto_bike\\.venv\\lib\\site-packages (from pandas>=2.0.0->geopandas) (2025.2)\n",
      "Requirement already satisfied: certifi in c:\\users\\apera\\onedrive\\documenti\\progetti\\progetto_bike\\.venv\\lib\\site-packages (from pyogrio>=0.7.2->geopandas) (2025.8.3)\n",
      "Requirement already satisfied: six>=1.5 in c:\\users\\apera\\onedrive\\documenti\\progetti\\progetto_bike\\.venv\\lib\\site-packages (from python-dateutil>=2.8.2->pandas>=2.0.0->geopandas) (1.17.0)\n",
      "Requirement already satisfied: osmnx in c:\\users\\apera\\onedrive\\documenti\\progetti\\progetto_bike\\.venv\\lib\\site-packages (2.0.5)\n",
      "Requirement already satisfied: geopandas>=1.0.1 in c:\\users\\apera\\onedrive\\documenti\\progetti\\progetto_bike\\.venv\\lib\\site-packages (from osmnx) (1.1.1)\n",
      "Requirement already satisfied: networkx>=2.5 in c:\\users\\apera\\onedrive\\documenti\\progetti\\progetto_bike\\.venv\\lib\\site-packages (from osmnx) (3.5)\n",
      "Requirement already satisfied: numpy>=1.22 in c:\\users\\apera\\onedrive\\documenti\\progetti\\progetto_bike\\.venv\\lib\\site-packages (from osmnx) (2.3.1)\n",
      "Requirement already satisfied: pandas>=1.4 in c:\\users\\apera\\onedrive\\documenti\\progetti\\progetto_bike\\.venv\\lib\\site-packages (from osmnx) (2.3.1)\n",
      "Requirement already satisfied: requests>=2.27 in c:\\users\\apera\\onedrive\\documenti\\progetti\\progetto_bike\\.venv\\lib\\site-packages (from osmnx) (2.32.4)\n",
      "Requirement already satisfied: shapely>=2.0 in c:\\users\\apera\\onedrive\\documenti\\progetti\\progetto_bike\\.venv\\lib\\site-packages (from osmnx) (2.1.1)\n",
      "Requirement already satisfied: pyogrio>=0.7.2 in c:\\users\\apera\\onedrive\\documenti\\progetti\\progetto_bike\\.venv\\lib\\site-packages (from geopandas>=1.0.1->osmnx) (0.11.1)\n",
      "Requirement already satisfied: packaging in c:\\users\\apera\\onedrive\\documenti\\progetti\\progetto_bike\\.venv\\lib\\site-packages (from geopandas>=1.0.1->osmnx) (25.0)\n",
      "Requirement already satisfied: pyproj>=3.5.0 in c:\\users\\apera\\onedrive\\documenti\\progetti\\progetto_bike\\.venv\\lib\\site-packages (from geopandas>=1.0.1->osmnx) (3.7.1)\n",
      "Requirement already satisfied: python-dateutil>=2.8.2 in c:\\users\\apera\\onedrive\\documenti\\progetti\\progetto_bike\\.venv\\lib\\site-packages (from pandas>=1.4->osmnx) (2.9.0.post0)\n",
      "Requirement already satisfied: pytz>=2020.1 in c:\\users\\apera\\onedrive\\documenti\\progetti\\progetto_bike\\.venv\\lib\\site-packages (from pandas>=1.4->osmnx) (2025.2)\n",
      "Requirement already satisfied: tzdata>=2022.7 in c:\\users\\apera\\onedrive\\documenti\\progetti\\progetto_bike\\.venv\\lib\\site-packages (from pandas>=1.4->osmnx) (2025.2)\n",
      "Requirement already satisfied: certifi in c:\\users\\apera\\onedrive\\documenti\\progetti\\progetto_bike\\.venv\\lib\\site-packages (from pyogrio>=0.7.2->geopandas>=1.0.1->osmnx) (2025.8.3)\n",
      "Requirement already satisfied: six>=1.5 in c:\\users\\apera\\onedrive\\documenti\\progetti\\progetto_bike\\.venv\\lib\\site-packages (from python-dateutil>=2.8.2->pandas>=1.4->osmnx) (1.17.0)\n",
      "Requirement already satisfied: charset_normalizer<4,>=2 in c:\\users\\apera\\onedrive\\documenti\\progetti\\progetto_bike\\.venv\\lib\\site-packages (from requests>=2.27->osmnx) (3.4.2)\n",
      "Requirement already satisfied: idna<4,>=2.5 in c:\\users\\apera\\onedrive\\documenti\\progetti\\progetto_bike\\.venv\\lib\\site-packages (from requests>=2.27->osmnx) (3.10)\n",
      "Requirement already satisfied: urllib3<3,>=1.21.1 in c:\\users\\apera\\onedrive\\documenti\\progetti\\progetto_bike\\.venv\\lib\\site-packages (from requests>=2.27->osmnx) (2.5.0)\n",
      "Requirement already satisfied: scipy in c:\\users\\apera\\onedrive\\documenti\\progetti\\progetto_bike\\.venv\\lib\\site-packages (1.16.1)\n",
      "Requirement already satisfied: numpy<2.6,>=1.25.2 in c:\\users\\apera\\onedrive\\documenti\\progetti\\progetto_bike\\.venv\\lib\\site-packages (from scipy) (2.3.1)\n"
     ]
    },
    {
     "name": "stderr",
     "output_type": "stream",
     "text": [
      "ERROR: unknown command \"installn\" - maybe you meant \"install\"\n",
      "\n"
     ]
    }
   ],
   "source": [
    "!pip install geopandas\n",
    "!pip install osmnx\n",
    "!pip install scipy\n",
    "!pip installn networkx"
   ]
  },
  {
   "cell_type": "code",
   "execution_count": 5,
   "id": "2e06ee5c",
   "metadata": {},
   "outputs": [],
   "source": [
    "import pickle\n",
    "\n",
    "import geopandas as gpd\n",
    "import networkx as nx\n",
    "from networkx.algorithms.approximation import steiner_tree\n",
    "import osmnx as ox\n",
    "\n",
    "from my_paths import *\n",
    "import Graph_functions"
   ]
  },
  {
   "cell_type": "markdown",
   "id": "f2531774",
   "metadata": {},
   "source": [
    "## Istruzione"
   ]
  },
  {
   "cell_type": "markdown",
   "id": "41b8d60e",
   "metadata": {},
   "source": [
    "Utilizzeremo i seguenti dati:\n",
    "1. **Biblioteche**\n",
    "2. **Scuole**\n",
    "Saranno i nostri \"poi\", cioè \"Point of Interest\" che verranno aggiunti al Grafo della rete Ciclabile/Stradale per la ricerca di percorsi"
   ]
  },
  {
   "cell_type": "code",
   "execution_count": 6,
   "id": "5cb93b4f",
   "metadata": {},
   "outputs": [],
   "source": [
    "# Carichiamo Graph Ciclabili\n",
    "with open(PATH_RETE_CICLABILE_COMPLETA_PICKLE_CLEAN, \"rb\") as f:\n",
    "    G_strade_ciclabili = pickle.load(f)"
   ]
  },
  {
   "cell_type": "code",
   "execution_count": 7,
   "id": "16de48ee",
   "metadata": {},
   "outputs": [],
   "source": [
    "G_compose = G_strade_ciclabili.copy()"
   ]
  },
  {
   "cell_type": "markdown",
   "id": "83f6d6b4",
   "metadata": {},
   "source": [
    "### Aggiunta di **Biblioteche** come **\"poi\"**"
   ]
  },
  {
   "cell_type": "markdown",
   "id": "708fcf18",
   "metadata": {},
   "source": [
    "1. Carichiamo il file dei biblioteche da \"clean\"\n",
    "2. Utilizziamo **\"connect_poi_nodes_to_graph()\"** per connettere il geodataframe come \"poi\" al grafo delle strade/ciclabili."
   ]
  },
  {
   "cell_type": "code",
   "execution_count": 9,
   "id": "94755c7f",
   "metadata": {},
   "outputs": [],
   "source": [
    "gdf_biblioteche = gpd.read_file(PATH_BIBLIOTECHE_CLEAN)\n",
    "G_compose = Graph_functions.connect_poi_nodes_to_graph(G_compose, gdf_biblioteche,\n",
    "                                                                     tipo = \"biblioteche\",\n",
    "                                                                     poi = True,\n",
    "                                                                     artificial=True)"
   ]
  },
  {
   "cell_type": "markdown",
   "id": "bacba5c6",
   "metadata": {},
   "source": [
    "### Aggiunta di **Scuole** come **\"poi\"**"
   ]
  },
  {
   "cell_type": "code",
   "execution_count": 10,
   "id": "9b5cdf54",
   "metadata": {},
   "outputs": [],
   "source": [
    "gdf_scuole = gpd.read_file(PATH_SCUOLE_CLEAN)\n",
    "G_compose = Graph_functions.connect_poi_nodes_to_graph(G_compose, gdf_biblioteche,\n",
    "                                                                     tipo = \"scuole\",\n",
    "                                                                     poi = True,\n",
    "                                                                     artificial=True)"
   ]
  },
  {
   "cell_type": "markdown",
   "id": "973b4aba",
   "metadata": {},
   "source": [
    "## Utilizziamo algoritmo di **Steiner Tree**"
   ]
  },
  {
   "cell_type": "markdown",
   "id": "feb3c88e",
   "metadata": {},
   "source": [
    "Una volta aggiunti i \"poi\" al grafo delle strade/ciclabili, eseguiamo l'algoritmo che troverà i percorsi minimi per connettere tutti i \"poi\" tra di loro con il minor \"peso\" possibile.  \n",
    "I pesi sono stati già accuratamente inseriti sugli archi delle strade, mentre quelli delle ciclabili e degli archi all'interno dei poligoni dei \"poi\" sono = 0, in modo da preferire sempre quei percorsi quando possibile (sfruttare ciclabili pre-esistenti il più possibile)."
   ]
  },
  {
   "cell_type": "code",
   "execution_count": 11,
   "id": "ea45a273",
   "metadata": {},
   "outputs": [],
   "source": [
    "poi_nodes = [n for n, d in G_compose.nodes(data=True) if d.get(\"poi\") == True]\n",
    "G_sport_tempo_libero = nx.MultiDiGraph(steiner_tree(G_compose, terminal_nodes=poi_nodes, weight='weight')).to_undirected()"
   ]
  },
  {
   "cell_type": "markdown",
   "id": "3e97cb86",
   "metadata": {},
   "source": [
    "Risultato lo salviamo in Clean di Analisi (per ora anche il pickle in staging) in geojson pronto da visualizzare"
   ]
  },
  {
   "cell_type": "code",
   "execution_count": 12,
   "id": "a1d719bc",
   "metadata": {},
   "outputs": [
    {
     "name": "stderr",
     "output_type": "stream",
     "text": [
      "<>:1: SyntaxWarning: invalid escape sequence '\\D'\n",
      "<>:5: SyntaxWarning: invalid escape sequence '\\D'\n",
      "<>:1: SyntaxWarning: invalid escape sequence '\\D'\n",
      "<>:5: SyntaxWarning: invalid escape sequence '\\D'\n",
      "C:\\Users\\apera\\AppData\\Local\\Temp\\ipykernel_26128\\1417971601.py:1: SyntaxWarning: invalid escape sequence '\\D'\n",
      "  with open(\"..\\Data\\Staging\\Analisi\\Istruzione_clean.pickle\", \"wb\") as f:\n",
      "C:\\Users\\apera\\AppData\\Local\\Temp\\ipykernel_26128\\1417971601.py:5: SyntaxWarning: invalid escape sequence '\\D'\n",
      "  gdf_steiner.to_file(\"..\\Data\\Clean\\Analisi\\Istruzione_clean.geojson\", driver=\"GeoJSON\")\n"
     ]
    }
   ],
   "source": [
    "with open(\"..\\Data\\Staging\\Analisi\\Istruzione_clean.pickle\", \"wb\") as f:\n",
    "    pickle.dump(G_sport_tempo_libero, f)\n",
    "\n",
    "gdf_steiner = ox.graph_to_gdfs(G_sport_tempo_libero, edges=True, nodes=False)\n",
    "gdf_steiner.to_file(\"..\\Data\\Clean\\Analisi\\Istruzione_clean.geojson\", driver=\"GeoJSON\")"
   ]
  }
 ],
 "metadata": {
  "kernelspec": {
   "display_name": ".venv",
   "language": "python",
   "name": "python3"
  },
  "language_info": {
   "codemirror_mode": {
    "name": "ipython",
    "version": 3
   },
   "file_extension": ".py",
   "mimetype": "text/x-python",
   "name": "python",
   "nbconvert_exporter": "python",
   "pygments_lexer": "ipython3",
   "version": "3.13.5"
  }
 },
 "nbformat": 4,
 "nbformat_minor": 5
}
