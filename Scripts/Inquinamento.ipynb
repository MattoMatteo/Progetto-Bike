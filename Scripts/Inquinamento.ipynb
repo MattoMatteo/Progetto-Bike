{
 "cells": [
  {
   "cell_type": "markdown",
   "id": "e2ef12bf",
   "metadata": {},
   "source": [
    "# Inquinamento Airnet"
   ]
  },
  {
   "cell_type": "code",
   "execution_count": 62,
   "id": "7cd24381",
   "metadata": {},
   "outputs": [],
   "source": [
    "import json\n",
    "from io import StringIO\n",
    "\n",
    "import requests\n",
    "from sseclient import SSEClient\n",
    "from tqdm import tqdm\n",
    "import geopandas as gpd"
   ]
  },
  {
   "cell_type": "code",
   "execution_count": 63,
   "id": "170c6076",
   "metadata": {},
   "outputs": [],
   "source": [
    "# RAW\n",
    "PATH_INQUINAMENTO_INGESTION_RAW = \"../Data/Raw/Inquinamento/Airnet/inquinamento-airnet_media_raw.geojson\"\n",
    "\n",
    "# CLEAN\n",
    "PATH_INQUINAMENTO_INGESTION_CLEAN = \"../Data/Clean/Inquinamento/Airnet/inquinamento-airnet_ingestion_clean.geojson\""
   ]
  },
  {
   "cell_type": "markdown",
   "id": "cb69a02b",
   "metadata": {},
   "source": [
    "## Scraping"
   ]
  },
  {
   "cell_type": "markdown",
   "id": "09ec67ee",
   "metadata": {},
   "source": [
    "Otteniamo gli id delle stazioni di Milano"
   ]
  },
  {
   "cell_type": "code",
   "execution_count": 64,
   "id": "c6f47ae2",
   "metadata": {},
   "outputs": [],
   "source": [
    "URL = \"https://airnet.waqi.info/airnet/validator/check/112273\" # Una stazione a caso di milano\\\n",
    "risposta = requests.get(URL)\n",
    "risposta_json = risposta.json()\n",
    "neighbors = risposta_json[\"data\"][\"neighbors\"]  # Da questa riusciamo a ricavare tutte le stazioni \"vicine\""
   ]
  },
  {
   "cell_type": "markdown",
   "id": "2c909b97",
   "metadata": {},
   "source": [
    "inizializziamo il geojson con id e coordinate delle stazioni"
   ]
  },
  {
   "cell_type": "code",
   "execution_count": 65,
   "id": "78cac211",
   "metadata": {},
   "outputs": [],
   "source": [
    "geojson = {\n",
    "    \"type\": \"FeatureCollection\",\n",
    "    \"name\": \"Inquinamento\",\n",
    "    \"crs\": {\n",
    "        \"type\": \"name\",\n",
    "        \"properties\": {\n",
    "            \"name\": \"urn:ogc:def:crs:EPSG::6707\"\n",
    "        }\n",
    "    },\n",
    "    \"features\": []\n",
    "}\n",
    "for geo, id in zip(neighbors[\"geos\"], neighbors[\"ids\"]):\n",
    "    if not id == 353767: # Stazione marco emme, Milan, Italy che non contiene dati pm10 e pm25\n",
    "        geojson[\"features\"].append(\n",
    "            {\n",
    "                \"type\": \"Feature\",\n",
    "                \"properties\": {\n",
    "                    \"id\": id,\n",
    "                    \"longitudine\": geo[1],\n",
    "                    \"latitudine\": geo[0],\n",
    "                    \"name\": \"\",\n",
    "                    \"pm10\": [],\n",
    "                    \"pm25\": []\n",
    "                },\n",
    "                \"geometry\": {\n",
    "                    \"type\": \"Point\",\n",
    "                    \"coordinates\": [geo[1], geo[0]]\n",
    "                }\n",
    "            }\n",
    "        )"
   ]
  },
  {
   "cell_type": "markdown",
   "id": "68c3b0e2",
   "metadata": {},
   "source": [
    "Estraiamo i dati di ogni stazione (per i 2 inquinanti) e li inseriamo direttamente tra le \"features\" >> \"properties\" del geojson inizializzato"
   ]
  },
  {
   "cell_type": "code",
   "execution_count": 66,
   "id": "f2598976",
   "metadata": {},
   "outputs": [
    {
     "name": "stderr",
     "output_type": "stream",
     "text": []
    }
   ],
   "source": [
    "pbar = tqdm(total=len(geojson[\"features\"]), desc=\"Scraping progress...\")\n",
    "\n",
    "for feature in geojson[\"features\"]:\n",
    "    for inquinante in [\"pm10\", \"pm25\"]:\n",
    "        url = f\"https://airnet.waqi.info/airnet/sse/historic/daily/{feature[\"properties\"][\"id\"]}?specie={inquinante}\"\n",
    "        response = requests.get(url, params={\"specie\": inquinante}, headers={\"Accept\": \"text/event-stream\"}, stream=True)\n",
    "        client = SSEClient(response)\n",
    "        for i, event in enumerate(client.events()):\n",
    "            if event.event != \"error\":\n",
    "                try:\n",
    "                    data = json.loads(event.data)\n",
    "                    if i == 0:\n",
    "                        feature[\"properties\"][\"name\"] = data[\"meta\"][\"name\"]\n",
    "                    elif isinstance(data, dict): #Ogni tanto ci sono righe sporche di stringhe\n",
    "                        feature[\"properties\"][inquinante].append(data)\n",
    "                except json.JSONDecodeError:\n",
    "                    print(\"Errore JSON:\", event.data)\n",
    "    pbar.update(1)"
   ]
  },
  {
   "cell_type": "markdown",
   "id": "549c8257",
   "metadata": {},
   "source": [
    "salvo il file geojson creato in Raw"
   ]
  },
  {
   "cell_type": "code",
   "execution_count": 67,
   "id": "548c45d8",
   "metadata": {},
   "outputs": [],
   "source": [
    "with open(PATH_INQUINAMENTO_INGESTION_RAW, 'w') as file:\n",
    "    json.dump(geojson, file, indent=4)"
   ]
  },
  {
   "cell_type": "markdown",
   "id": "ec3db842",
   "metadata": {},
   "source": [
    "## ETL"
   ]
  },
  {
   "cell_type": "markdown",
   "id": "c3d8d807",
   "metadata": {},
   "source": [
    "A partire dai dati giornalieri dei 2 inquinanti (pm10 e pm25) ricaviamo gli aggregati per anno sottoforma di media delle mediane giornaliere."
   ]
  },
  {
   "cell_type": "code",
   "execution_count": 68,
   "id": "28682f84",
   "metadata": {},
   "outputs": [],
   "source": [
    "def set_mean_pm(row):\n",
    "    for pm in [\"pm10\", \"pm25\"]:\n",
    "        df = gpd.pd.read_json(StringIO(row[pm]))\n",
    "        df[\"day\"] = gpd.pd.to_datetime(df[\"day\"])\n",
    "        df = df[df['day'].dt.year.isin([2023])].reset_index()\n",
    "        if len(df) > 200:\n",
    "            row[pm] = df[\"median\"].mean()\n",
    "        else:\n",
    "            row[pm] = None\n",
    "    return row\n",
    "\n",
    "gdf = gpd.read_file(PATH_INQUINAMENTO_INGESTION_RAW)\n",
    "gdf = gpd.GeoDataFrame(gdf.apply(set_mean_pm, axis=1), geometry=gdf.geometry.name)"
   ]
  },
  {
   "cell_type": "markdown",
   "id": "2fd823e5",
   "metadata": {},
   "source": [
    "Salviamo su Clean"
   ]
  },
  {
   "cell_type": "code",
   "execution_count": 69,
   "id": "96fbce7f",
   "metadata": {},
   "outputs": [],
   "source": [
    "gdf.to_file(PATH_INQUINAMENTO_INGESTION_CLEAN, driver=\"GeoJSON\")"
   ]
  }
 ],
 "metadata": {
  "kernelspec": {
   "display_name": ".venv",
   "language": "python",
   "name": "python3"
  },
  "language_info": {
   "codemirror_mode": {
    "name": "ipython",
    "version": 3
   },
   "file_extension": ".py",
   "mimetype": "text/x-python",
   "name": "python",
   "nbconvert_exporter": "python",
   "pygments_lexer": "ipython3",
   "version": "3.13.2"
  }
 },
 "nbformat": 4,
 "nbformat_minor": 5
}
