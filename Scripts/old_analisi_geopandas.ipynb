{
 "cells": [
  {
   "cell_type": "markdown",
   "id": "071c95c0",
   "metadata": {},
   "source": [
    "# Analisi - GeoPandas + Google API"
   ]
  },
  {
   "cell_type": "code",
   "execution_count": null,
   "id": "6b8499e9",
   "metadata": {},
   "outputs": [],
   "source": [
    "import requests\n",
    "import json\n",
    "from shapely import LineString, MultiLineString, Point\n",
    "from shapely.ops import nearest_points\n",
    "\n",
    "import geopandas as gpd\n",
    "import polyline\n",
    "\n",
    "from my_paths import *"
   ]
  },
  {
   "cell_type": "code",
   "execution_count": null,
   "id": "e323563d",
   "metadata": {},
   "outputs": [],
   "source": [
    "PATH_ANALISI_TEST_CLEAN = \"../Data/Clean/Analisi/test.geojson\""
   ]
  },
  {
   "cell_type": "markdown",
   "id": "83a56d5d",
   "metadata": {},
   "source": [
    "Carico le api key da file"
   ]
  },
  {
   "cell_type": "code",
   "execution_count": null,
   "id": "286a9ae7",
   "metadata": {},
   "outputs": [],
   "source": [
    "PATH_API_KEY = \"../Google_api_credentials/api_key_maps.json\"\n",
    "with open(PATH_API_KEY) as file: \n",
    "    API_KEY_GOOGLE = json.load(file)[\"key\"]"
   ]
  },
  {
   "cell_type": "code",
   "execution_count": null,
   "id": "ace43c00",
   "metadata": {},
   "outputs": [],
   "source": [
    "gdf_ciclabili = gpd.read_file(\"PATH_CICLABILI_CLEAN\") # Non c'è più quel file andrebbe ricreato\n",
    "gdf_bikemi = gpd.read_file(PATH_BIKEMI_CLEAN)\n",
    "gdf_parchi = gpd.read_file(PATH_PARCHI_CLEAN)\n",
    "gdf_biblioteche = gpd.read_file(PATH_BIBLIOTECHE_CLEAN)\n",
    "gdf_impianti_sportivi = gpd.read_file(PATH_IMPIANTI_SPORTIVI_CLEAN)\n",
    "gdf_fontane = gpd.read_file(PATH_FONTANE_CLEAN)\n",
    "gdf_inquinamento = gpd.read_file(PATH_INQUINAMENTO_INGESTION_CLEAN)"
   ]
  },
  {
   "cell_type": "markdown",
   "id": "f40f7526",
   "metadata": {},
   "source": [
    "Per eseguire operazioni di misurazione di distanze è meglio utilizzare crs metrico. Visto che i dataframe sono salvati con crs di tipo angolare (lat e long), li dobbiamo prima convertire."
   ]
  },
  {
   "cell_type": "markdown",
   "id": "a9ee9173",
   "metadata": {},
   "source": [
    "## Parchi Isolati"
   ]
  },
  {
   "cell_type": "code",
   "execution_count": null,
   "id": "df67bd6f",
   "metadata": {},
   "outputs": [],
   "source": [
    "gdf_ciclabili = gdf_ciclabili.to_crs(CRS_METR)\n",
    "gdf_parchi = gdf_parchi.to_crs(CRS_METR)"
   ]
  },
  {
   "cell_type": "markdown",
   "id": "84a7c904",
   "metadata": {},
   "source": [
    "Creiamo un \"buffer\" di contorno alle Multylinestring delle piste ciclabili (gli diamo spessore). Si è deciso per ora di  \n",
    "impostare 200 --> 200 metri. Da verificare se modificare.  \n",
    "Il buffer verrà usato per trovare intersezioni con le geometrie dei parchi.  \n",
    "Il nuovo GeoDataFrame avrà tutti i parchi che NON si intersecano con le piste ciclabili."
   ]
  },
  {
   "cell_type": "code",
   "execution_count": null,
   "id": "4a7c5479",
   "metadata": {},
   "outputs": [
    {
     "name": "stdout",
     "output_type": "stream",
     "text": [
      "14\n"
     ]
    }
   ],
   "source": [
    "gdf_ciclabili_buffer = gdf_ciclabili.buffer(200).union_all()\n",
    "parchi_non_vicini = gdf_parchi[~gdf_parchi.geometry.intersects(gdf_ciclabili_buffer)]\n",
    "print(len(parchi_non_vicini))"
   ]
  },
  {
   "cell_type": "markdown",
   "id": "3b668219",
   "metadata": {},
   "source": [
    "Trovati i parchi da \"servire\" con nuove ipotetiche piste ciclabili, andiamo a cercare i 2 punti più vicini tra la geometria delle piste ciclabili e i parchi. Scrorriamo quindi il dataframe dei parchi e facciamo la \"nearest_points\" delle due geometrie."
   ]
  },
  {
   "cell_type": "code",
   "execution_count": null,
   "id": "81aacb08",
   "metadata": {},
   "outputs": [],
   "source": [
    "# Unisco tutte le piste ciclabili in un unica sola.  \n",
    "gdf_ciclabili_unite = gpd.GeoDataFrame([gdf_ciclabili.union_all()], columns=[\"geometry\"], crs=CRS_METR)\n",
    "\n",
    "# Lista per raccogliere risultati\n",
    "risultati = []\n",
    "\n",
    "for idx_parco, parco in parchi_non_vicini.iterrows():\n",
    "    # Trova i due punti più vicini tra geometria del parco e del tratto\n",
    "    punto_parco, punto_ciclabile = nearest_points(parco[\"geometry\"], gdf_ciclabili_unite[\"geometry\"][0])\n",
    "    percorso = LineString([punto_parco, punto_ciclabile])\n",
    "\n",
    "    # Salva risultato\n",
    "    risultati.append({\n",
    "        'id_parco': parco[\"PARCO\"],\n",
    "        'distanza': percorso.length,\n",
    "        'geometry': percorso\n",
    "    })\n",
    "\n",
    "# Crea GeoDataFrame del risultato\n",
    "df_risultati = gpd.GeoDataFrame(risultati, geometry='geometry', crs=CRS_METR)"
   ]
  },
  {
   "cell_type": "markdown",
   "id": "e8850109",
   "metadata": {},
   "source": [
    "Dichiaro la funzione che utilizzeremo per trovare il percorso in bici tra i due punti grazie alle API di google maps."
   ]
  },
  {
   "cell_type": "code",
   "execution_count": null,
   "id": "26b47dff",
   "metadata": {},
   "outputs": [],
   "source": [
    "def richiedi_percorso_google(origin:tuple[float, float], dest:tuple[float, float], api_key:str, mode:str = \"walking\"):\n",
    "    \"\"\"\n",
    "    Restituisce una Multylinestring del percorso da punto A (origin) a punto B (dest).\n",
    "\n",
    "    Args:\n",
    "        origin (tuple[float, float]): Coordinate punto di partenza in formato: [Latitudine, Longitudine].\n",
    "        dest (tuple[float, float]): Coordinate punto di arrivo in formato: [Latitudine, Longitudine].\n",
    "        api_key (str): API_KEY di google maps per effettuare la richiesta.\n",
    "        mode (str): Mezzo di trasporto da utilizzare per il calcolo: \"driving\", \"walking\", \"bicycling\", \"transit\".\n",
    "                    \"walking\" verrà utilizzato di deafult.\n",
    "    Returns:\n",
    "        Multylinestring: Del tipo: [ [Longitudine, Latitudine], [Longitudine, Latitudine] ]. N.B: Sono inverse rispetto\n",
    "                                    al formato dato in input, già pronte per kepler (google le usa al contrario).\n",
    "    \"\"\"\n",
    "\n",
    "    outputFormat = \"json\"   # Usiamo sempre questo\n",
    "    origin_str = f\"{origin[1]},{origin[0]}\"\n",
    "    dest_str = f\"{dest[1]},{dest[0]}\"\n",
    "    parameters = f\"origin={origin_str}&destination={dest_str}&key={api_key}\"\n",
    "    url_API_directions = f\"https://maps.googleapis.com/maps/api/directions/{outputFormat}?{parameters}&mode={mode}\"\n",
    "\n",
    "    risposta_json = requests.get(url_API_directions).json()\n",
    "    coordinates = polyline.decode(risposta_json['routes'][0]['overview_polyline']['points'])\n",
    "    coordinates = [[x[1], x[0]] for x in coordinates]\n",
    "    return LineString(coordinates)"
   ]
  },
  {
   "cell_type": "markdown",
   "id": "a436b3dd",
   "metadata": {},
   "source": [
    "Trovo quindi le nuove geometrie dei percorsi di google maps e li vado a sostituire alla sua vecchia geometria che era riferita ai \"nearest_points\""
   ]
  },
  {
   "cell_type": "code",
   "execution_count": null,
   "id": "5e8ad2e5",
   "metadata": {},
   "outputs": [],
   "source": [
    "df_risultati = df_risultati.to_crs(CRS_GRAD)    # Google accetta lat-long\n",
    "df_risultati[\"geometry\"] = df_risultati[\"geometry\"].apply(\n",
    "    lambda x: richiedi_percorso_google(origin=x.coords[0],\n",
    "                                      dest=x.coords[1],\n",
    "                                      api_key=API_KEY_GOOGLE,\n",
    "                                      mode=\"walking\"))"
   ]
  },
  {
   "cell_type": "markdown",
   "id": "0da0b093",
   "metadata": {},
   "source": [
    "Facciamo una eliminazione delle sovrapposizioni delle \"nuove ciclabili\" con quelle già esistenti per cercare di avere solo le nuove effettive piste da costruire.  \n",
    "Per farlo bisogna lavorare di nuovo con il sistema \"EPSG:32632\" (metrico) e ci aiutiamo con un piccolo buffer (10 metri) sulle ciclabili.  \n",
    "Per farlo si usa la funzione .difference delle Multilinestring."
   ]
  },
  {
   "cell_type": "code",
   "execution_count": null,
   "id": "6a677c71",
   "metadata": {},
   "outputs": [],
   "source": [
    "df_risultati = df_risultati.to_crs(CRS_METR)    # Confronto geometrico usiamo metri\n",
    "\n",
    "gpf_ciclabili_uniti_con_buffer = gdf_ciclabili.buffer(10).union_all()\n",
    "\n",
    "df_risultati['geometry'] = df_risultati[\"geometry\"].apply(\n",
    "    lambda geom: geom.difference(gpf_ciclabili_uniti_con_buffer))\n",
    "\n",
    "gdf_parchi_uniti = gdf_parchi.buffer(0.1).union_all()   # buffer minimo dovrebbe aiutare la precisione della difference\n",
    "df_risultati['geometry'] = df_risultati[\"geometry\"].apply(\n",
    "    lambda geom: geom.difference(gdf_parchi_uniti))\n",
    "\n",
    "# Aggiorno anche la lunghezza della ciclabile\n",
    "df_risultati['lunghezza'] = df_risultati['geometry'].apply(lambda x: x.length)"
   ]
  },
  {
   "cell_type": "markdown",
   "id": "37708d4c",
   "metadata": {},
   "source": [
    "Salviamo il risultato su Clean"
   ]
  },
  {
   "cell_type": "code",
   "execution_count": null,
   "id": "d6bc115b",
   "metadata": {},
   "outputs": [],
   "source": [
    "df_risultati.set_crs(CRS_METR).to_crs(CRS_GRAD).to_file(PATH_ANALISI_TEST_CLEAN, driver=\"GeoJSON\")"
   ]
  },
  {
   "cell_type": "markdown",
   "id": "de6b2f29",
   "metadata": {},
   "source": [
    "## Google API Monitor"
   ]
  },
  {
   "cell_type": "markdown",
   "id": "8a34eb62",
   "metadata": {},
   "source": [
    "Da usare ogni tanto per monitorare le chiamate api consumate.  \n",
    "Difficilmente supereremo le 10k chiamate però non si sa mai.\n",
    "\n",
    "N.B: Anche questa operazione ha un numero di chiamate limitate anche se non ho capito qual é ma facendola ogni tanto non mi preoccupo."
   ]
  },
  {
   "cell_type": "code",
   "execution_count": null,
   "id": "d4e68254",
   "metadata": {},
   "outputs": [],
   "source": [
    "from google.cloud import monitoring_v3\n",
    "from datetime import datetime, timezone"
   ]
  },
  {
   "cell_type": "code",
   "execution_count": null,
   "id": "e916ca5e",
   "metadata": {},
   "outputs": [],
   "source": [
    "PATH_SERVICE_ACCOUNT = \"../Google_api_credentials/service_account.json\""
   ]
  },
  {
   "cell_type": "code",
   "execution_count": null,
   "id": "cc1126cd",
   "metadata": {},
   "outputs": [
    {
     "name": "stdout",
     "output_type": "stream",
     "text": [
      "Totale chiamate Maps API: 218\n"
     ]
    }
   ],
   "source": [
    "client = monitoring_v3.MetricServiceClient.from_service_account_file(PATH_SERVICE_ACCOUNT)\n",
    "project_id = \"progetto-bike-aida\"\n",
    "project_name = f\"projects/{project_id}\"\n",
    "\n",
    "start = datetime(2025, 7, 27)   # Data inizio utilizzo delle api\n",
    "end = datetime.now(timezone.utc)\n",
    "\n",
    "interval = monitoring_v3.TimeInterval({\n",
    "    \"start_time\": {\"seconds\": int(start.timestamp())},\n",
    "    \"end_time\": {\"seconds\": int(end.timestamp())},\n",
    "})\n",
    "\n",
    "results = client.list_time_series(\n",
    "    request={\n",
    "        \"name\": project_name,\n",
    "        \"filter\": 'metric.type = \"maps.googleapis.com/service/v2/request_count\"',\n",
    "        \"interval\": interval,\n",
    "        \"aggregation\": {\n",
    "            \"alignment_period\": {\"seconds\": 86400},\n",
    "            \"per_series_aligner\": monitoring_v3.Aggregation.Aligner.ALIGN_SUM,\n",
    "        },\n",
    "        \"view\": monitoring_v3.ListTimeSeriesRequest.TimeSeriesView.FULL,\n",
    "    }\n",
    ")\n",
    "\n",
    "total = 0\n",
    "for time_series in results:\n",
    "    for point in time_series.points:\n",
    "        total += point.value.int64_value\n",
    "\n",
    "print(f\"Totale chiamate Maps API: {total}\")"
   ]
  }
 ],
 "metadata": {
  "language_info": {
   "name": "python"
  }
 },
 "nbformat": 4,
 "nbformat_minor": 5
}
