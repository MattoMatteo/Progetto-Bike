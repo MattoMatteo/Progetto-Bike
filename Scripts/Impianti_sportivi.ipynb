{
 "cells": [
  {
   "cell_type": "markdown",
   "id": "92fa0365",
   "metadata": {},
   "source": [
    "# Impianti sportivi"
   ]
  },
  {
   "cell_type": "markdown",
   "id": "d6009c72",
   "metadata": {},
   "source": [
    "Eliminare impianti di piste ciclabili e modificare il tipo di data_ini in intero del tipo : 2023"
   ]
  },
  {
   "cell_type": "code",
   "execution_count": null,
   "id": "738642f9",
   "metadata": {},
   "outputs": [],
   "source": [
    "import json"
   ]
  },
  {
   "cell_type": "code",
   "execution_count": 40,
   "id": "13cd0826",
   "metadata": {},
   "outputs": [],
   "source": [
    "PATH_IMPIANTI_SPORTIVI_RAW = \"../Data/Raw/Punti_di_interesse/impianti_sportivi_raw.geojson\"\n",
    "PATH_IMPIANTI_SPORTIVI_CLEAN = \"../Data/Clean/Punti_di_interesse/impianti_sportivi_clean.geojson\""
   ]
  },
  {
   "cell_type": "markdown",
   "id": "c6f6cd8d",
   "metadata": {},
   "source": [
    "## ETL"
   ]
  },
  {
   "cell_type": "markdown",
   "id": "ed106f20",
   "metadata": {},
   "source": [
    "Apertura file Raw"
   ]
  },
  {
   "cell_type": "code",
   "execution_count": 41,
   "id": "07e73820",
   "metadata": {},
   "outputs": [],
   "source": [
    "with open(PATH_IMPIANTI_SPORTIVI_RAW, \"r\", encoding=\"utf-8\") as f:\n",
    "    data = json.load(f)"
   ]
  },
  {
   "cell_type": "markdown",
   "id": "75541848",
   "metadata": {},
   "source": [
    "Filtriamo solo le strutture che hanno una data inizio costruzione e manteniamo solo le colonne che ci interessano"
   ]
  },
  {
   "cell_type": "code",
   "execution_count": null,
   "id": "99e59dc1",
   "metadata": {},
   "outputs": [],
   "source": [
    "new_data = data\n",
    "for i, feature in enumerate(data[\"features\"]):\n",
    "    if feature[\"properties\"][\"data_ini\"]:\n",
    "        new_data[\"features\"][i][\"properties\"] = {\n",
    "            \"municipio\": feature[\"properties\"][\"municipio\"],\n",
    "            \"località\": feature[\"properties\"][\"località\"],\n",
    "            \"id_impianto\": feature[\"properties\"][\"obj_id\"], \n",
    "            \"data_ini\": feature[\"properties\"][\"data_ini\"],\n",
    "            \"area_mq\": feature[\"properties\"][\"area_mq\"],\n",
    "            \"perim_m\": feature[\"properties\"][\"perim_m\"],\n",
    "            \"descrizione_codice\": feature[\"properties\"][\"descrizione_codice\"]\n",
    "        }\n",
    "    else:\n",
    "        new_data[\"features\"].pop(i)\n",
    "data = new_data"
   ]
  },
  {
   "cell_type": "markdown",
   "id": "1eeb0804",
   "metadata": {},
   "source": [
    "Salvataggio in Clean"
   ]
  },
  {
   "cell_type": "code",
   "execution_count": 43,
   "id": "a93889f5",
   "metadata": {},
   "outputs": [],
   "source": [
    "with open(PATH_IMPIANTI_SPORTIVI_CLEAN, \"w\", encoding=\"utf-8\") as f:\n",
    "    json.dump(data, f, ensure_ascii=False, indent=2)"
   ]
  }
 ],
 "metadata": {
  "kernelspec": {
   "display_name": ".venv",
   "language": "python",
   "name": "python3"
  },
  "language_info": {
   "codemirror_mode": {
    "name": "ipython",
    "version": 3
   },
   "file_extension": ".py",
   "mimetype": "text/x-python",
   "name": "python",
   "nbconvert_exporter": "python",
   "pygments_lexer": "ipython3",
   "version": "3.13.2"
  }
 },
 "nbformat": 4,
 "nbformat_minor": 5
}
