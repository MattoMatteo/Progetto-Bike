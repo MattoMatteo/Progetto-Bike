{
 "cells": [
  {
   "cell_type": "markdown",
   "id": "92fa0365",
   "metadata": {},
   "source": [
    "# Impianti sportivi"
   ]
  },
  {
   "cell_type": "code",
   "execution_count": 28,
   "id": "c142ac72",
   "metadata": {},
   "outputs": [],
   "source": [
    "import geopandas as gpd"
   ]
  },
  {
   "cell_type": "code",
   "execution_count": 29,
   "id": "a6faba50",
   "metadata": {},
   "outputs": [],
   "source": [
    "PATH_IMPIANTI_SPORTIVI_RAW = \"../Data/Raw/Punti_di_interesse/impianti_sportivi_raw.geojson\"\n",
    "PATH_IMPIANTI_SPORTIVI_CLEAN = \"../Data/Clean/Punti_di_interesse/impianti_sportivi_clean.geojson\""
   ]
  },
  {
   "cell_type": "markdown",
   "id": "c6f6cd8d",
   "metadata": {},
   "source": [
    "## ETL"
   ]
  },
  {
   "cell_type": "markdown",
   "id": "5be3392d",
   "metadata": {},
   "source": [
    "1. Rimozione righe in cui non è segnalata una data inizio costruzione\n",
    "2. Rimozione delle piste ciclabili, dato che abbiamo un dataset apposito\n",
    "3. Convertiamo la data in un intero, in modo da poter filtrare agilmente su kepler"
   ]
  },
  {
   "cell_type": "code",
   "execution_count": 33,
   "id": "4d22303a",
   "metadata": {},
   "outputs": [],
   "source": [
    "gdf = gpd.read_file(PATH_IMPIANTI_SPORTIVI_RAW)\n",
    "gdf = gdf[[\"municipio\", \"località\", \"obj_id\", \"data_ini\", \"area_mq\", \"perim_m\", \"descrizione_codice\", \"geometry\"]]\n",
    "gdf = gdf.rename(columns={\"data_ini\": \"anno_inizio\", \"obj_id\": \"id_impianto\"})\n",
    "\n",
    "gdf = gdf[gdf[\"anno_inizio\"].notna()].reset_index()\n",
    "gdf[\"anno_inizio\"] = gdf[\"anno_inizio\"].apply(lambda x: x.year)\n",
    "\n",
    "gdf = gdf[~gdf[\"descrizione_codice\"].str.contains(\"pista ciclabile\", case=False, na=False)].reset_index()\n",
    "gdf = gdf.drop(columns=[\"level_0\", \"index\"], errors=\"ignore\")"
   ]
  },
  {
   "cell_type": "code",
   "execution_count": 34,
   "id": "f5aaa795",
   "metadata": {},
   "outputs": [],
   "source": [
    "gdf.to_file(PATH_IMPIANTI_SPORTIVI_CLEAN, driver=\"GeoJSON\")"
   ]
  }
 ],
 "metadata": {
  "kernelspec": {
   "display_name": ".venv",
   "language": "python",
   "name": "python3"
  },
  "language_info": {
   "codemirror_mode": {
    "name": "ipython",
    "version": 3
   },
   "file_extension": ".py",
   "mimetype": "text/x-python",
   "name": "python",
   "nbconvert_exporter": "python",
   "pygments_lexer": "ipython3",
   "version": "3.13.2"
  }
 },
 "nbformat": 4,
 "nbformat_minor": 5
}
