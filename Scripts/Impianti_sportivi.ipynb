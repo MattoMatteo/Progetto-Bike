{
 "cells": [
  {
   "cell_type": "markdown",
   "id": "92fa0365",
   "metadata": {},
   "source": [
    "# Impianti sportivi"
   ]
  },
  {
   "cell_type": "code",
   "execution_count": 2,
   "id": "c142ac72",
   "metadata": {},
   "outputs": [],
   "source": [
    "import json\n",
    "from datetime import datetime"
   ]
  },
  {
   "cell_type": "code",
   "execution_count": 3,
   "id": "a6faba50",
   "metadata": {},
   "outputs": [],
   "source": [
    "PATH_IMPIANTI_SPORTIVI_RAW = \"../Data/Raw/Punti_di_interesse/impianti_sportivi_raw.geojson\"\n",
    "PATH_IMPIANTI_SPORTIVI_CLEAN = \"../Data/Clean/Punti_di_interesse/impianti_sportivi_clean.geojson\""
   ]
  },
  {
   "cell_type": "markdown",
   "id": "c6f6cd8d",
   "metadata": {},
   "source": [
    "## ETL"
   ]
  },
  {
   "cell_type": "markdown",
   "id": "5be3392d",
   "metadata": {},
   "source": [
    "1. Rimozione righe in cui non è segnalata una data inizio costruzione\n",
    "2. Rimozione delle piste ciclabili, dato che abbiamo un dataset apposito\n",
    "3. Convertiamo la data in un intero, in modo da poter filtrare agilmente su kepler"
   ]
  },
  {
   "cell_type": "code",
   "execution_count": null,
   "id": "eb245ed2",
   "metadata": {},
   "outputs": [],
   "source": [
    "with open(PATH_IMPIANTI_SPORTIVI_RAW, \"r\", encoding=\"utf-8\") as f:\n",
    "    data = json.load(f)\n",
    "\n",
    "new_features = []\n",
    "for feature in data[\"features\"]:\n",
    "    props = feature[\"properties\"]\n",
    "\n",
    "    # Verifica che esista una data di inizio\n",
    "    if props[\"data_ini\"]:\n",
    "        # Controlla che la descrizione non contenga \"pista ciclabile\" (ignorando maiuscole/minuscole)\n",
    "        descrizione = props[\"descrizione_codice\"].lower()\n",
    "        if \"pista ciclabile\" not in descrizione:\n",
    "            # Convertiamo data da stringa a datetime e preleviamo solo l'anno come intero\n",
    "            anno = datetime.strptime(props[\"data_ini\"], \"%Y-%m-%d\").year\n",
    "            # Crea una nuova feature con le proprietà pulite\n",
    "            new_features.append({\n",
    "                \"type\": \"Feature\",\n",
    "                \"properties\": {\n",
    "                    \"municipio\": props[\"municipio\"],\n",
    "                    \"località\": props[\"località\"],\n",
    "                    \"id_impianto\": props[\"obj_id\"],\n",
    "                    \"anno_inizio\": anno,\n",
    "                    \"area_mq\": props[\"area_mq\"],\n",
    "                    \"perim_m\": props[\"perim_m\"],\n",
    "                    \"descrizione_codice\": props[\"descrizione_codice\"]\n",
    "                },\n",
    "                \"geometry\": feature[\"geometry\"]\n",
    "            })\n",
    "\n",
    "# Sovrascrive le feature nel dizionario con quelle filtrate\n",
    "data[\"features\"] = new_features"
   ]
  },
  {
   "cell_type": "code",
   "execution_count": 5,
   "id": "fdf6b404",
   "metadata": {},
   "outputs": [],
   "source": [
    "with open(PATH_IMPIANTI_SPORTIVI_CLEAN, \"w\", encoding=\"utf-8\") as f:\n",
    "    json.dump(data, f, ensure_ascii=False, indent=4)"
   ]
  }
 ],
 "metadata": {
  "kernelspec": {
   "display_name": ".venv",
   "language": "python",
   "name": "python3"
  },
  "language_info": {
   "codemirror_mode": {
    "name": "ipython",
    "version": 3
   },
   "file_extension": ".py",
   "mimetype": "text/x-python",
   "name": "python",
   "nbconvert_exporter": "python",
   "pygments_lexer": "ipython3",
   "version": "3.13.2"
  }
 },
 "nbformat": 4,
 "nbformat_minor": 5
}
