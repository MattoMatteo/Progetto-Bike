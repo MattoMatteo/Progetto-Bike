{
 "cells": [
  {
   "cell_type": "markdown",
   "id": "92fa0365",
   "metadata": {},
   "source": [
    "# Impianti sportivi"
   ]
  },
  {
   "cell_type": "markdown",
   "id": "d6009c72",
   "metadata": {},
   "source": [
    "Eliminare impianti di piste ciclabili e modificare il tipo di data_ini in intero del tipo : 2023"
   ]
  },
  {
   "cell_type": "code",
   "execution_count": null,
   "id": "738642f9",
   "metadata": {},
   "outputs": [],
   "source": [
    "import json"
   ]
  },
  {
   "cell_type": "code",
   "execution_count": 40,
   "id": "13cd0826",
   "metadata": {},
   "outputs": [],
   "source": [
    "PATH_IMPIANTI_SPORTIVI_RAW = \"../Data/Raw/Punti_di_interesse/impianti_sportivi_raw.geojson\"\n",
    "PATH_IMPIANTI_SPORTIVI_CLEAN = \"../Data/Clean/Punti_di_interesse/impianti_sportivi_clean.geojson\""
   ]
  },
  {
   "cell_type": "markdown",
   "id": "c6f6cd8d",
   "metadata": {},
   "source": [
    "## ETL"
   ]
  },
  {
   "cell_type": "markdown",
   "id": "ed106f20",
   "metadata": {},
   "source": [
    "Apertura file Raw"
   ]
  },
  {
   "cell_type": "code",
   "execution_count": 52,
   "id": "07e73820",
   "metadata": {},
   "outputs": [],
   "source": [
    "with open(PATH_IMPIANTI_SPORTIVI_RAW, \"r\", encoding=\"utf-8\") as f:\n",
    "    data = json.load(f)"
   ]
  },
  {
   "cell_type": "markdown",
   "id": "75541848",
   "metadata": {},
   "source": [
    "Filtriamo solo le strutture che hanno una data inizio costruzione e manteniamo solo le colonne che ci interessano"
   ]
  },
  {
   "cell_type": "markdown",
   "id": "b3007536",
   "metadata": {},
   "source": [
    "## ------ MESSAGGIO PER LORENZO -------"
   ]
  },
  {
   "cell_type": "markdown",
   "id": "0316b242",
   "metadata": {},
   "source": [
    "**Scusa lore se sto cambiando mille volte il codice ma oggi non ragiono!**\n",
    "Ecco la spiegazione:  \n",
    " E' molto meglio CREARE da 0 la lista di \"features\" che vogliamo tenere e poi sostituirla\n",
    " con quella pre-esistente del data, anziché rimuovere con pop da una copia perché\n",
    " sempre per lo stesso discorso: se eliminiamo degli elementi, anche se in delle copie, poi\n",
    " gli indici \"i\" tra una lista e l'altra possono non combaciare più:"
   ]
  },
  {
   "cell_type": "code",
   "execution_count": 58,
   "id": "30c00d0d",
   "metadata": {},
   "outputs": [
    {
     "name": "stdout",
     "output_type": "stream",
     "text": [
      "3 4\n",
      "[1, 3]\n"
     ]
    }
   ],
   "source": [
    "l1 = [1,2,3,4]\n",
    "l2 = [1,2,3,4]\n",
    "for i in range(len(l1)):\n",
    "    if i == 1 or i == 2:\n",
    "        l2.pop(i)\n",
    "print(l1[2], l1[3])\n",
    "print(l2)"
   ]
  },
  {
   "cell_type": "markdown",
   "id": "94f7ad08",
   "metadata": {},
   "source": [
    "Se noti quello che ci si \"aspettava\" è che i==1 e i == 2 fossero i numeri: 2 e 3 della prima lista e quindi il risultato della seconda fosse una lista che contiene solo [1,4]\n",
    "Invece il risultato è [1,3] perché:\n",
    "Nel ciclo di i == 1 viene rimosso effettivamente il numero 2 ma il numero 3 passa dall'indice 2 all'indice 1 e il numero 4 passa dall'indice 3 all'indice 3: -> l1[1,2,3,4] e l2[1,3,4]\n",
    "Al ciclo i == 2, che per l1 è il numero 3 ma nella l2 è il numero 4!!! e quindi viene rimosso il 4 anziché il 3  \n",
    "-> l2[1,3] anziché avere l2[1,4]\n",
    "Spero di essermi spiegato..... per questo è più \"safe\" creare la lista vuota di partenza e inserire solo i valori che vogliamo:"
   ]
  },
  {
   "cell_type": "code",
   "execution_count": null,
   "id": "865faf27",
   "metadata": {},
   "outputs": [],
   "source": [
    "l1 = [1,2,3,4]\n",
    "l2 = []\n",
    "for i in range(len(l1)):\n",
    "    if not (i == 1 or i == 2):  # ho messo not in modo da Inserire tutti tranne quelli (che prima abbiamo invece tolto)\n",
    "        l2.append(l1[i])\n",
    "print(l1[2], l1[3])\n",
    "print(l2)   # Risultato corretto: 1,4"
   ]
  },
  {
   "cell_type": "markdown",
   "id": "4e65e42b",
   "metadata": {},
   "source": [
    "## ------ FINE SPIEGAZIONE ------"
   ]
  },
  {
   "cell_type": "code",
   "execution_count": null,
   "id": "99e59dc1",
   "metadata": {},
   "outputs": [],
   "source": [
    "new_feature = []\n",
    "for feature in data[\"features\"]:\n",
    "    if feature[\"properties\"][\"data_ini\"]:\n",
    "        new_feature.append({\n",
    "            \"type\": \"Feature\",\n",
    "            \"properties\":{\n",
    "                \"municipio\": feature[\"properties\"][\"municipio\"],\n",
    "                \"località\": feature[\"properties\"][\"località\"],\n",
    "                \"id_impianto\": feature[\"properties\"][\"obj_id\"], \n",
    "                \"data_ini\": feature[\"properties\"][\"data_ini\"],\n",
    "                \"area_mq\": feature[\"properties\"][\"area_mq\"],\n",
    "                \"perim_m\": feature[\"properties\"][\"perim_m\"],\n",
    "                \"descrizione_codice\": feature[\"properties\"][\"descrizione_codice\"]\n",
    "                },\n",
    "            \"geometry\": feature[\"geometry\"]\n",
    "            }\n",
    "        )\n",
    "data[\"features\"] = new_feature"
   ]
  },
  {
   "cell_type": "markdown",
   "id": "1eeb0804",
   "metadata": {},
   "source": [
    "Salvataggio in Clean"
   ]
  },
  {
   "cell_type": "code",
   "execution_count": 56,
   "id": "a93889f5",
   "metadata": {},
   "outputs": [],
   "source": [
    "with open(PATH_IMPIANTI_SPORTIVI_CLEAN, \"w\", encoding=\"utf-8\") as f:\n",
    "    json.dump(data, f, ensure_ascii=False, indent=2)"
   ]
  }
 ],
 "metadata": {
  "kernelspec": {
   "display_name": ".venv",
   "language": "python",
   "name": "python3"
  },
  "language_info": {
   "codemirror_mode": {
    "name": "ipython",
    "version": 3
   },
   "file_extension": ".py",
   "mimetype": "text/x-python",
   "name": "python",
   "nbconvert_exporter": "python",
   "pygments_lexer": "ipython3",
   "version": "3.13.2"
  }
 },
 "nbformat": 4,
 "nbformat_minor": 5
}
