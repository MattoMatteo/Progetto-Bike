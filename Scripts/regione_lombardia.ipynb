{
 "cells": [
  {
   "cell_type": "code",
   "execution_count": 5,
   "id": "fff3bca3",
   "metadata": {},
   "outputs": [
    {
     "name": "stdout",
     "output_type": "stream",
     "text": [
      "Requirement already satisfied: fiona in c:\\users\\apera\\onedrive\\documenti\\progetti\\.venv\\lib\\site-packages (1.10.1)\n",
      "Requirement already satisfied: attrs>=19.2.0 in c:\\users\\apera\\onedrive\\documenti\\progetti\\.venv\\lib\\site-packages (from fiona) (25.3.0)\n",
      "Requirement already satisfied: certifi in c:\\users\\apera\\onedrive\\documenti\\progetti\\.venv\\lib\\site-packages (from fiona) (2025.4.26)\n",
      "Requirement already satisfied: click~=8.0 in c:\\users\\apera\\onedrive\\documenti\\progetti\\.venv\\lib\\site-packages (from fiona) (8.2.1)\n",
      "Requirement already satisfied: click-plugins>=1.0 in c:\\users\\apera\\onedrive\\documenti\\progetti\\.venv\\lib\\site-packages (from fiona) (1.1.1.2)\n",
      "Requirement already satisfied: cligj>=0.5 in c:\\users\\apera\\onedrive\\documenti\\progetti\\.venv\\lib\\site-packages (from fiona) (0.7.2)\n",
      "Requirement already satisfied: colorama in c:\\users\\apera\\onedrive\\documenti\\progetti\\.venv\\lib\\site-packages (from click~=8.0->fiona) (0.4.6)\n",
      "Collecting geopandas\n",
      "  Downloading geopandas-1.1.1-py3-none-any.whl.metadata (2.3 kB)\n",
      "Requirement already satisfied: numpy>=1.24 in c:\\users\\apera\\onedrive\\documenti\\progetti\\.venv\\lib\\site-packages (from geopandas) (2.2.4)\n",
      "Requirement already satisfied: pyogrio>=0.7.2 in c:\\users\\apera\\onedrive\\documenti\\progetti\\.venv\\lib\\site-packages (from geopandas) (0.11.0)\n",
      "Requirement already satisfied: packaging in c:\\users\\apera\\onedrive\\documenti\\progetti\\.venv\\lib\\site-packages (from geopandas) (24.2)\n",
      "Requirement already satisfied: pandas>=2.0.0 in c:\\users\\apera\\onedrive\\documenti\\progetti\\.venv\\lib\\site-packages (from geopandas) (2.3.0)\n",
      "Requirement already satisfied: pyproj>=3.5.0 in c:\\users\\apera\\onedrive\\documenti\\progetti\\.venv\\lib\\site-packages (from geopandas) (3.7.1)\n",
      "Requirement already satisfied: shapely>=2.0.0 in c:\\users\\apera\\onedrive\\documenti\\progetti\\.venv\\lib\\site-packages (from geopandas) (2.1.1)\n",
      "Requirement already satisfied: python-dateutil>=2.8.2 in c:\\users\\apera\\onedrive\\documenti\\progetti\\.venv\\lib\\site-packages (from pandas>=2.0.0->geopandas) (2.9.0.post0)\n",
      "Requirement already satisfied: pytz>=2020.1 in c:\\users\\apera\\onedrive\\documenti\\progetti\\.venv\\lib\\site-packages (from pandas>=2.0.0->geopandas) (2025.2)\n",
      "Requirement already satisfied: tzdata>=2022.7 in c:\\users\\apera\\onedrive\\documenti\\progetti\\.venv\\lib\\site-packages (from pandas>=2.0.0->geopandas) (2025.2)\n",
      "Requirement already satisfied: certifi in c:\\users\\apera\\onedrive\\documenti\\progetti\\.venv\\lib\\site-packages (from pyogrio>=0.7.2->geopandas) (2025.4.26)\n",
      "Requirement already satisfied: six>=1.5 in c:\\users\\apera\\onedrive\\documenti\\progetti\\.venv\\lib\\site-packages (from python-dateutil>=2.8.2->pandas>=2.0.0->geopandas) (1.17.0)\n",
      "Downloading geopandas-1.1.1-py3-none-any.whl (338 kB)\n",
      "Installing collected packages: geopandas\n",
      "Successfully installed geopandas-1.1.1\n"
     ]
    }
   ],
   "source": [
    "!pip install fiona\n",
    "!pip install geopandas\n"
   ]
  },
  {
   "cell_type": "code",
   "execution_count": 19,
   "id": "fdbbb5e8",
   "metadata": {},
   "outputs": [],
   "source": [
    "import fiona\n",
    "import fiona.transform\n",
    "import pandas\n",
    "import geopandas\n",
    "import json"
   ]
  },
  {
   "cell_type": "code",
   "execution_count": 22,
   "id": "90c46326",
   "metadata": {},
   "outputs": [
    {
     "ename": "DriverError",
     "evalue": "Failed to create GeoJSON datasource: ../Data/Clean/strade_urbano/intersezioni_stradali.geojson: ../Data/Clean/strade_urbano/intersezioni_stradali.geojson: No such file or directory",
     "output_type": "error",
     "traceback": [
      "\u001b[31m---------------------------------------------------------------------------\u001b[39m",
      "\u001b[31mCPLE_OpenFailedError\u001b[39m                      Traceback (most recent call last)",
      "\u001b[36mFile \u001b[39m\u001b[32mfiona\\\\ogrext.pyx:166\u001b[39m, in \u001b[36mfiona.ogrext.gdal_create\u001b[39m\u001b[34m()\u001b[39m\n",
      "\u001b[36mFile \u001b[39m\u001b[32mfiona\\\\_err.pyx:317\u001b[39m, in \u001b[36mfiona._err.exc_wrap_pointer\u001b[39m\u001b[34m()\u001b[39m\n",
      "\u001b[31mCPLE_OpenFailedError\u001b[39m: Failed to create GeoJSON datasource: ../Data/Clean/strade_urbano/intersezioni_stradali.geojson: ../Data/Clean/strade_urbano/intersezioni_stradali.geojson: No such file or directory",
      "\nDuring handling of the above exception, another exception occurred:\n",
      "\u001b[31mDriverError\u001b[39m                               Traceback (most recent call last)",
      "\u001b[36mCell\u001b[39m\u001b[36m \u001b[39m\u001b[32mIn[22]\u001b[39m\u001b[32m, line 9\u001b[39m\n\u001b[32m      5\u001b[39m dst_crs = \u001b[33m'\u001b[39m\u001b[33mEPSG:4326\u001b[39m\u001b[33m'\u001b[39m\n\u001b[32m      7\u001b[39m \u001b[38;5;28;01mwith\u001b[39;00m fiona.open(PATH_INTERSEZIONI, \u001b[33m'\u001b[39m\u001b[33mr\u001b[39m\u001b[33m'\u001b[39m) \u001b[38;5;28;01mas\u001b[39;00m src:\n\u001b[32m      8\u001b[39m     \u001b[38;5;66;03m# Crea un nuovo file GeoJSON in scrittura, copiando schema, crs e driver\u001b[39;00m\n\u001b[32m----> \u001b[39m\u001b[32m9\u001b[39m     \u001b[38;5;28;01mwith\u001b[39;00m \u001b[43mfiona\u001b[49m\u001b[43m.\u001b[49m\u001b[43mopen\u001b[49m\u001b[43m(\u001b[49m\u001b[43mPATH_INTERSEZIONI_JSON\u001b[49m\u001b[43m,\u001b[49m\u001b[43m \u001b[49m\u001b[33;43m'\u001b[39;49m\u001b[33;43mw\u001b[39;49m\u001b[33;43m'\u001b[39;49m\u001b[43m,\u001b[49m\u001b[43m \u001b[49m\u001b[43mdriver\u001b[49m\u001b[43m=\u001b[49m\u001b[33;43m'\u001b[39;49m\u001b[33;43mGeoJSON\u001b[39;49m\u001b[33;43m'\u001b[39;49m\u001b[43m,\u001b[49m\u001b[43m \u001b[49m\u001b[43mcrs\u001b[49m\u001b[43m=\u001b[49m\u001b[43msrc\u001b[49m\u001b[43m.\u001b[49m\u001b[43mcrs\u001b[49m\u001b[43m,\u001b[49m\u001b[43m \u001b[49m\u001b[43mschema\u001b[49m\u001b[43m=\u001b[49m\u001b[43msrc\u001b[49m\u001b[43m.\u001b[49m\u001b[43mschema\u001b[49m\u001b[43m)\u001b[49m \u001b[38;5;28;01mas\u001b[39;00m dst:\n\u001b[32m     10\u001b[39m         \u001b[38;5;28;01mfor\u001b[39;00m feature \u001b[38;5;129;01min\u001b[39;00m src:\n\u001b[32m     11\u001b[39m             feature[\u001b[33m'\u001b[39m\u001b[33mgeometry\u001b[39m\u001b[33m'\u001b[39m] = fiona.transform.transform_geom(\n\u001b[32m     12\u001b[39m                 src_crs,\n\u001b[32m     13\u001b[39m                 dst_crs,\n\u001b[32m     14\u001b[39m                 feature[\u001b[33m'\u001b[39m\u001b[33mgeometry\u001b[39m\u001b[33m'\u001b[39m]\n\u001b[32m     15\u001b[39m             )\n",
      "\u001b[36mFile \u001b[39m\u001b[32mc:\\Users\\apera\\OneDrive\\Documenti\\progetti\\.venv\\Lib\\site-packages\\fiona\\env.py:457\u001b[39m, in \u001b[36mensure_env_with_credentials.<locals>.wrapper\u001b[39m\u001b[34m(*args, **kwds)\u001b[39m\n\u001b[32m    454\u001b[39m     session = DummySession()\n\u001b[32m    456\u001b[39m \u001b[38;5;28;01mwith\u001b[39;00m env_ctor(session=session):\n\u001b[32m--> \u001b[39m\u001b[32m457\u001b[39m     \u001b[38;5;28;01mreturn\u001b[39;00m \u001b[43mf\u001b[49m\u001b[43m(\u001b[49m\u001b[43m*\u001b[49m\u001b[43margs\u001b[49m\u001b[43m,\u001b[49m\u001b[43m \u001b[49m\u001b[43m*\u001b[49m\u001b[43m*\u001b[49m\u001b[43mkwds\u001b[49m\u001b[43m)\u001b[49m\n",
      "\u001b[36mFile \u001b[39m\u001b[32mc:\\Users\\apera\\OneDrive\\Documenti\\progetti\\.venv\\Lib\\site-packages\\fiona\\__init__.py:370\u001b[39m, in \u001b[36mopen\u001b[39m\u001b[34m(fp, mode, driver, schema, crs, encoding, layer, vfs, enabled_drivers, crs_wkt, ignore_fields, ignore_geometry, include_fields, wkt_version, allow_unsupported_drivers, opener, **kwargs)\u001b[39m\n\u001b[32m    355\u001b[39m     colxn = Collection(\n\u001b[32m    356\u001b[39m         path,\n\u001b[32m    357\u001b[39m         mode,\n\u001b[32m   (...)\u001b[39m\u001b[32m    367\u001b[39m         **kwargs\n\u001b[32m    368\u001b[39m     )\n\u001b[32m    369\u001b[39m \u001b[38;5;28;01melif\u001b[39;00m mode == \u001b[33m\"\u001b[39m\u001b[33mw\u001b[39m\u001b[33m\"\u001b[39m:\n\u001b[32m--> \u001b[39m\u001b[32m370\u001b[39m     colxn = \u001b[43mCollection\u001b[49m\u001b[43m(\u001b[49m\n\u001b[32m    371\u001b[39m \u001b[43m        \u001b[49m\u001b[43mpath\u001b[49m\u001b[43m,\u001b[49m\n\u001b[32m    372\u001b[39m \u001b[43m        \u001b[49m\u001b[43mmode\u001b[49m\u001b[43m,\u001b[49m\n\u001b[32m    373\u001b[39m \u001b[43m        \u001b[49m\u001b[43mcrs\u001b[49m\u001b[43m=\u001b[49m\u001b[43mcrs\u001b[49m\u001b[43m,\u001b[49m\n\u001b[32m    374\u001b[39m \u001b[43m        \u001b[49m\u001b[43mdriver\u001b[49m\u001b[43m=\u001b[49m\u001b[43mdriver\u001b[49m\u001b[43m,\u001b[49m\n\u001b[32m    375\u001b[39m \u001b[43m        \u001b[49m\u001b[43mschema\u001b[49m\u001b[43m=\u001b[49m\u001b[43mschema\u001b[49m\u001b[43m,\u001b[49m\n\u001b[32m    376\u001b[39m \u001b[43m        \u001b[49m\u001b[43mencoding\u001b[49m\u001b[43m=\u001b[49m\u001b[43mencoding\u001b[49m\u001b[43m,\u001b[49m\n\u001b[32m    377\u001b[39m \u001b[43m        \u001b[49m\u001b[43mlayer\u001b[49m\u001b[43m=\u001b[49m\u001b[43mlayer\u001b[49m\u001b[43m,\u001b[49m\n\u001b[32m    378\u001b[39m \u001b[43m        \u001b[49m\u001b[43mignore_fields\u001b[49m\u001b[43m=\u001b[49m\u001b[43mignore_fields\u001b[49m\u001b[43m,\u001b[49m\n\u001b[32m    379\u001b[39m \u001b[43m        \u001b[49m\u001b[43minclude_fields\u001b[49m\u001b[43m=\u001b[49m\u001b[43minclude_fields\u001b[49m\u001b[43m,\u001b[49m\n\u001b[32m    380\u001b[39m \u001b[43m        \u001b[49m\u001b[43mignore_geometry\u001b[49m\u001b[43m=\u001b[49m\u001b[43mignore_geometry\u001b[49m\u001b[43m,\u001b[49m\n\u001b[32m    381\u001b[39m \u001b[43m        \u001b[49m\u001b[43mwkt_version\u001b[49m\u001b[43m=\u001b[49m\u001b[43mwkt_version\u001b[49m\u001b[43m,\u001b[49m\n\u001b[32m    382\u001b[39m \u001b[43m        \u001b[49m\u001b[43menabled_drivers\u001b[49m\u001b[43m=\u001b[49m\u001b[43menabled_drivers\u001b[49m\u001b[43m,\u001b[49m\n\u001b[32m    383\u001b[39m \u001b[43m        \u001b[49m\u001b[43mcrs_wkt\u001b[49m\u001b[43m=\u001b[49m\u001b[43mcrs_wkt\u001b[49m\u001b[43m,\u001b[49m\n\u001b[32m    384\u001b[39m \u001b[43m        \u001b[49m\u001b[43mallow_unsupported_drivers\u001b[49m\u001b[43m=\u001b[49m\u001b[43mallow_unsupported_drivers\u001b[49m\u001b[43m,\u001b[49m\n\u001b[32m    385\u001b[39m \u001b[43m        \u001b[49m\u001b[43m*\u001b[49m\u001b[43m*\u001b[49m\u001b[43mkwargs\u001b[49m\n\u001b[32m    386\u001b[39m \u001b[43m    \u001b[49m\u001b[43m)\u001b[49m\n\u001b[32m    387\u001b[39m \u001b[38;5;28;01melse\u001b[39;00m:\n\u001b[32m    388\u001b[39m     \u001b[38;5;28;01mraise\u001b[39;00m \u001b[38;5;167;01mValueError\u001b[39;00m(\u001b[33m\"\u001b[39m\u001b[33mmode string must be one of \u001b[39m\u001b[33m{\u001b[39m\u001b[33m'\u001b[39m\u001b[33mr\u001b[39m\u001b[33m'\u001b[39m\u001b[33m, \u001b[39m\u001b[33m'\u001b[39m\u001b[33mw\u001b[39m\u001b[33m'\u001b[39m\u001b[33m, \u001b[39m\u001b[33m'\u001b[39m\u001b[33ma\u001b[39m\u001b[33m'\u001b[39m\u001b[33m}\u001b[39m\u001b[33m\"\u001b[39m)\n",
      "\u001b[36mFile \u001b[39m\u001b[32mc:\\Users\\apera\\OneDrive\\Documenti\\progetti\\.venv\\Lib\\site-packages\\fiona\\collection.py:229\u001b[39m, in \u001b[36mCollection.__init__\u001b[39m\u001b[34m(self, path, mode, driver, schema, crs, encoding, layer, vsi, archive, enabled_drivers, crs_wkt, ignore_fields, ignore_geometry, include_fields, wkt_version, allow_unsupported_drivers, **kwargs)\u001b[39m\n\u001b[32m    227\u001b[39m     \u001b[38;5;28;01melif\u001b[39;00m \u001b[38;5;28mself\u001b[39m.mode \u001b[38;5;129;01min\u001b[39;00m (\u001b[33m\"\u001b[39m\u001b[33ma\u001b[39m\u001b[33m\"\u001b[39m, \u001b[33m\"\u001b[39m\u001b[33mw\u001b[39m\u001b[33m\"\u001b[39m):\n\u001b[32m    228\u001b[39m         \u001b[38;5;28mself\u001b[39m.session = WritingSession()\n\u001b[32m--> \u001b[39m\u001b[32m229\u001b[39m         \u001b[38;5;28;43mself\u001b[39;49m\u001b[43m.\u001b[49m\u001b[43msession\u001b[49m\u001b[43m.\u001b[49m\u001b[43mstart\u001b[49m\u001b[43m(\u001b[49m\u001b[38;5;28;43mself\u001b[39;49m\u001b[43m,\u001b[49m\u001b[43m \u001b[49m\u001b[43m*\u001b[49m\u001b[43m*\u001b[49m\u001b[43mkwargs\u001b[49m\u001b[43m)\u001b[49m\n\u001b[32m    230\u001b[39m \u001b[38;5;28;01mexcept\u001b[39;00m \u001b[38;5;167;01mOSError\u001b[39;00m:\n\u001b[32m    231\u001b[39m     \u001b[38;5;28mself\u001b[39m.session = \u001b[38;5;28;01mNone\u001b[39;00m\n",
      "\u001b[36mFile \u001b[39m\u001b[32mfiona\\\\ogrext.pyx:1370\u001b[39m, in \u001b[36mfiona.ogrext.WritingSession.start\u001b[39m\u001b[34m()\u001b[39m\n",
      "\u001b[36mFile \u001b[39m\u001b[32mfiona\\\\ogrext.pyx:1371\u001b[39m, in \u001b[36mfiona.ogrext.WritingSession.start\u001b[39m\u001b[34m()\u001b[39m\n",
      "\u001b[36mFile \u001b[39m\u001b[32mfiona\\\\ogrext.pyx:170\u001b[39m, in \u001b[36mfiona.ogrext.gdal_create\u001b[39m\u001b[34m()\u001b[39m\n",
      "\u001b[31mDriverError\u001b[39m: Failed to create GeoJSON datasource: ../Data/Clean/strade_urbano/intersezioni_stradali.geojson: ../Data/Clean/strade_urbano/intersezioni_stradali.geojson: No such file or directory"
     ]
    }
   ],
   "source": [
    "\n",
    "\n",
    "PATH_INTERSEZIONI = \"../Data/Raw/strade_urbane/REGIONE_LOMBARDIA/Intersezioni_Stradali.shp\"\n",
    "PATH_INTERSEZIONI_JSON = \"../Data/Clean/strade_urbano/intersezioni_stradali.geojson\"\n",
    "\n",
    "src_crs = 'EPSG:6707'\n",
    "dst_crs = 'EPSG:4326'\n",
    "\n",
    "with fiona.open(PATH_INTERSEZIONI, 'r') as src:\n",
    "    # Crea un nuovo file GeoJSON in scrittura, copiando schema, crs e driver\n",
    "    with fiona.open(PATH_INTERSEZIONI_JSON, 'w', driver='GeoJSON', crs=src.crs, schema=src.schema) as dst:\n",
    "        for feature in src:\n",
    "            feature['geometry'] = fiona.transform.transform_geom(\n",
    "                src_crs,\n",
    "                dst_crs,\n",
    "                feature['geometry']\n",
    "            )\n",
    "            dst.write(feature)\n",
    "\n",
    "with open(PATH_INTERSEZIONI_JSON, 'r') as file:\n",
    "    file_json = json.load(file)\n",
    "\n",
    "with open(PATH_INTERSEZIONI_JSON, 'w') as file:\n",
    "    json.dump(file_json, file, indent=4)\n",
    "\n",
    "\n",
    "\n",
    "\n",
    "\n",
    "\n",
    "\n",
    "\n",
    "\n"
   ]
  }
 ],
 "metadata": {
  "kernelspec": {
   "display_name": ".venv",
   "language": "python",
   "name": "python3"
  },
  "language_info": {
   "codemirror_mode": {
    "name": "ipython",
    "version": 3
   },
   "file_extension": ".py",
   "mimetype": "text/x-python",
   "name": "python",
   "nbconvert_exporter": "python",
   "pygments_lexer": "ipython3",
   "version": "3.13.5"
  }
 },
 "nbformat": 4,
 "nbformat_minor": 5
}
