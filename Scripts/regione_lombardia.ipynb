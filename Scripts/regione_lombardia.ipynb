{
 "cells": [
  {
   "cell_type": "markdown",
   "id": "458c4999",
   "metadata": {},
   "source": [
    "# Strade"
   ]
  },
  {
   "cell_type": "code",
   "execution_count": 32,
   "id": "fdbbb5e8",
   "metadata": {},
   "outputs": [],
   "source": [
    "import fiona\n",
    "import geopandas as gpd\n",
    "from fiona.transform import transform_geom"
   ]
  },
  {
   "cell_type": "code",
   "execution_count": null,
   "id": "4c8b97b3",
   "metadata": {},
   "outputs": [],
   "source": [
    "#----- PATH Confini ----#\n",
    "PATH_CONFINI_RAW = \"../Data/Raw/strade_urbane/confini-milano_raw.geojson\"\n",
    "\n",
    "#----- PATH Strade -----#\n",
    "PATH_INTERSEZIONI_RAW = \"../Data/Raw/strade_urbane/REGIONE_LOMBARDIA/Intersezioni_Stradali.shp\"\n",
    "PATH_INTERSEZIONI_STAGIN = \"../Data/Staging/strade_urbane/intersezioni_stradali.geojson\"\n",
    "PATH_INTERSEZIONI_CLEAN = \"../Data/Clean/strade_urbane/intersezioni_stradali.geojson\"\n",
    "\n",
    "PATH_STRADE_PRINCIPALI_RAW = \"../Data/Raw/strade_urbane/REGIONE_LOMBARDIA/Strade_Principali.shp\"\n",
    "PATH_STRADE_PRINCIPALI_STAGIN =\"../Data/Staging/strade_urbane/Strade_Principali.geojson\"\n",
    "PATH_STRADE_PRINCIPALI_CLEAN = \"../Data/Clean/strade_urbane/Strade_Principali.geojson\"\n",
    "\n",
    "PATH_STRADE_SECONDARIE_RAW = \"../Data/Raw/strade_urbane/REGIONE_LOMBARDIA/Strade_Secondarie.shp\"\n",
    "PATH_STRADE_SECONDARIE_STAGIN =\"../Data/Staging/strade_urbane/Strade_Secondarie.geojson\"\n",
    "PATH_STRADE_SECONDARIE_CLEAN = \"../Data/Clean/strade_urbane/Strade_Secondarie.geojson\""
   ]
  },
  {
   "cell_type": "markdown",
   "id": "129afbd5",
   "metadata": {},
   "source": [
    "## ETL"
   ]
  },
  {
   "cell_type": "markdown",
   "id": "8b54d850",
   "metadata": {},
   "source": [
    "Conversione e salvataggio in Staging in formato geojson"
   ]
  },
  {
   "cell_type": "code",
   "execution_count": 34,
   "id": "90c46326",
   "metadata": {},
   "outputs": [
    {
     "name": "stderr",
     "output_type": "stream",
     "text": [
      "C:\\Users\\apera\\AppData\\Local\\Temp\\ipykernel_23168\\3841102503.py:13: FionaDeprecationWarning: instances of this class -- CRS, geometry, and feature objects -- will become immutable in fiona version 2.0\n",
      "  feature['geometry'] = geom_transformed\n"
     ]
    },
    {
     "name": "stdout",
     "output_type": "stream",
     "text": [
      " GeoJSON convertito e salvato correttamente.\n"
     ]
    }
   ],
   "source": [
    "#intersezioni\n",
    "\n",
    "src_crs = 'EPSG:32632'\n",
    "dst_crs = 'EPSG:4326'\n",
    "\n",
    "with fiona.open(PATH_INTERSEZIONI_RAW, 'r') as src:\n",
    "    schema = src.schema.copy()\n",
    "    crs_dst = fiona.crs.from_string(dst_crs)\n",
    "\n",
    "    with fiona.open(PATH_INTERSEZIONI_STAGIN, 'w', driver='GeoJSON', crs=crs_dst, schema=schema) as dst:\n",
    "        for feature in src:\n",
    "            geom_transformed = transform_geom(src_crs, dst_crs, feature['geometry'])\n",
    "            feature['geometry'] = geom_transformed\n",
    "            dst.write(feature)\n",
    "\n",
    "print(\" GeoJSON convertito e salvato correttamente.\")"
   ]
  },
  {
   "cell_type": "code",
   "execution_count": 35,
   "id": "14e58d32",
   "metadata": {},
   "outputs": [
    {
     "name": "stderr",
     "output_type": "stream",
     "text": [
      "C:\\Users\\apera\\AppData\\Local\\Temp\\ipykernel_23168\\3053756607.py:13: FionaDeprecationWarning: instances of this class -- CRS, geometry, and feature objects -- will become immutable in fiona version 2.0\n",
      "  feature['geometry'] = geom_transformed1\n"
     ]
    },
    {
     "name": "stdout",
     "output_type": "stream",
     "text": [
      " GeoJSON convertito e salvato correttamente.\n"
     ]
    }
   ],
   "source": [
    "\n",
    "#strade principali\n",
    "\n",
    "src_crs1 = 'EPSG:32632'\n",
    "dst_crs1 = 'EPSG:4326'\n",
    "\n",
    "with fiona.open(PATH_STRADE_PRINCIPALI_RAW, 'r') as src1:\n",
    "    schema = src1.schema.copy()\n",
    "    crs_dst1 = fiona.crs.from_string(dst_crs1)\n",
    "\n",
    "    with fiona.open(PATH_STRADE_PRINCIPALI_STAGIN, 'w', driver='GeoJSON', crs=crs_dst1, schema=schema) as dst1:\n",
    "        for feature in src1:\n",
    "            geom_transformed1 = transform_geom(src_crs1, dst_crs1, feature['geometry'])\n",
    "            feature['geometry'] = geom_transformed1\n",
    "            dst1.write(feature)\n",
    "\n",
    "print(\" GeoJSON convertito e salvato correttamente.\")"
   ]
  },
  {
   "cell_type": "code",
   "execution_count": 36,
   "id": "b576316f",
   "metadata": {},
   "outputs": [],
   "source": [
    "# ETL strade secodarie\n",
    "\n",
    "gdf_strade_secondarie = gpd.read_file(PATH_STRADE_SECONDARIE_RAW)\n",
    "\n",
    "gdf_strade_secondarie = gdf_strade_secodarie.to_crs(4326)\n",
    "\n",
    "gdf_strade_secondarie.to_file(\"../Data/Staging/strade_urbane/Strade_Secondarie.geojson\", driver = \"GeoJSON\")"
   ]
  },
  {
   "cell_type": "markdown",
   "id": "c973a955",
   "metadata": {},
   "source": [
    "Filtraggio sui confini di Milano"
   ]
  },
  {
   "cell_type": "code",
   "execution_count": 37,
   "id": "979939bc",
   "metadata": {},
   "outputs": [],
   "source": [
    "#inserimento confini su intersezioni\n",
    "\n",
    "gdf_confini = gpd.read_file(PATH_CONFINI_RAW)\n",
    "gdf_intersezioni = gpd.read_file(PATH_INTERSEZIONI_STAGIN)\n",
    "\n",
    "dati_filtrati = gpd.sjoin(gdf_intersezioni, gdf_confini, how=\"inner\", predicate=\"intersects\")"
   ]
  },
  {
   "cell_type": "code",
   "execution_count": 38,
   "id": "37eaf4dd",
   "metadata": {},
   "outputs": [],
   "source": [
    "#inserimento confini su strade principali\n",
    "\n",
    "gdf_confini = gpd.read_file(PATH_CONFINI_RAW)\n",
    "gdf_strade_principali = gpd.read_file(PATH_STRADE_PRINCIPALI_STAGIN)\n",
    "\n",
    "dati_filtrati_str_principali = gpd.sjoin(gdf_strade_principali, gdf_confini, how=\"inner\", predicate=\"intersects\")"
   ]
  },
  {
   "cell_type": "code",
   "execution_count": 39,
   "id": "96dd9b39",
   "metadata": {},
   "outputs": [],
   "source": [
    "#inserimento confini su strade secondarie\n",
    "\n",
    "gdf_confini = gpd.read_file(PATH_CONFINI_RAW)\n",
    "gdf_strade_secondarie = gpd.read_file(PATH_STRADE_PRINCIPALI_STAGIN)\n",
    "\n",
    "dati_filtrati_str_secondarie = gpd.sjoin(gdf_strade_secondarie, gdf_confini, how=\"inner\", predicate=\"intersects\")"
   ]
  },
  {
   "cell_type": "markdown",
   "id": "67089896",
   "metadata": {},
   "source": [
    "Salvataggio in Clean"
   ]
  },
  {
   "cell_type": "code",
   "execution_count": 41,
   "id": "13aa25eb",
   "metadata": {},
   "outputs": [],
   "source": [
    "#dati_filtrati.to_file(PATH_INTERSEZIONI_CLEAN, driver=\"GeoJSON\")\n",
    "#dati_filtrati_str_principali.to_file(PATH_STRADE_PRINCIPALI_CLEAN, driver=\"GeoJSON\")\n",
    "dati_filtrati_str_secondarie.to_file(PATH_STRADE_SECONDARIE_CLEAN, driver=\"GeoJSON\")\n"
   ]
  }
 ],
 "metadata": {
  "kernelspec": {
   "display_name": ".venv",
   "language": "python",
   "name": "python3"
  },
  "language_info": {
   "codemirror_mode": {
    "name": "ipython",
    "version": 3
   },
   "file_extension": ".py",
   "mimetype": "text/x-python",
   "name": "python",
   "nbconvert_exporter": "python",
   "pygments_lexer": "ipython3",
   "version": "3.13.2"
  }
 },
 "nbformat": 4,
 "nbformat_minor": 5
}
