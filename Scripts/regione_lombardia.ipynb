{
 "cells": [
  {
   "cell_type": "markdown",
   "id": "458c4999",
   "metadata": {},
   "source": [
    "# Strade"
   ]
  },
  {
   "cell_type": "code",
   "execution_count": 18,
   "id": "fdbbb5e8",
   "metadata": {},
   "outputs": [],
   "source": [
    "import fiona\n",
    "import geopandas as gpd\n",
    "from fiona.transform import transform_geom"
   ]
  },
  {
   "cell_type": "code",
   "execution_count": 19,
   "id": "4c8b97b3",
   "metadata": {},
   "outputs": [],
   "source": [
    "#----- PATH Confini ----#\n",
    "PATH_CONFINI_RAW = \"../Data/Raw/strade_urbane/confini-milano_raw.geojson\"\n",
    "\n",
    "#----- PATH Strade -----#\n",
    "PATH_INTERSEZIONI_RAW = \"../Data/Raw/strade_urbane/REGIONE_LOMBARDIA/Intersezioni_Stradali.shp\"\n",
    "PATH_INTERSEZIONI_STAGIN = \"../Data/Staging/strade_urbane/intersezioni_stradali.geojson\"\n",
    "PATH_INTERSEZIONI_CLEAN = \"../Data/Clean/strade_urbane/intersezioni_stradali.geojson\""
   ]
  },
  {
   "cell_type": "markdown",
   "id": "129afbd5",
   "metadata": {},
   "source": [
    "## ETL"
   ]
  },
  {
   "cell_type": "markdown",
   "id": "8b54d850",
   "metadata": {},
   "source": [
    "Conversione e salvataggio in Staging in formato geojson"
   ]
  },
  {
   "cell_type": "code",
   "execution_count": 20,
   "id": "90c46326",
   "metadata": {},
   "outputs": [
    {
     "name": "stderr",
     "output_type": "stream",
     "text": [
      "C:\\Users\\aless\\AppData\\Local\\Temp\\ipykernel_8888\\3880021426.py:11: FionaDeprecationWarning: instances of this class -- CRS, geometry, and feature objects -- will become immutable in fiona version 2.0\n",
      "  feature['geometry'] = geom_transformed\n"
     ]
    },
    {
     "name": "stdout",
     "output_type": "stream",
     "text": [
      " GeoJSON convertito e salvato correttamente.\n"
     ]
    }
   ],
   "source": [
    "src_crs = 'EPSG:32632'\n",
    "dst_crs = 'EPSG:4326'\n",
    "\n",
    "with fiona.open(PATH_INTERSEZIONI_RAW, 'r') as src:\n",
    "    schema = src.schema.copy()\n",
    "    crs_dst = fiona.crs.from_string(dst_crs)\n",
    "\n",
    "    with fiona.open(PATH_INTERSEZIONI_STAGIN, 'w', driver='GeoJSON', crs=crs_dst, schema=schema) as dst:\n",
    "        for feature in src:\n",
    "            geom_transformed = transform_geom(src_crs, dst_crs, feature['geometry'])\n",
    "            feature['geometry'] = geom_transformed\n",
    "            dst.write(feature)\n",
    "\n",
    "print(\" GeoJSON convertito e salvato correttamente.\")"
   ]
  },
  {
   "cell_type": "markdown",
   "id": "c973a955",
   "metadata": {},
   "source": [
    "Filtraggio sui confini di Milano"
   ]
  },
  {
   "cell_type": "code",
   "execution_count": 21,
   "id": "979939bc",
   "metadata": {},
   "outputs": [],
   "source": [
    "gdf_confini = gpd.read_file(PATH_CONFINI_RAW)\n",
    "gdf_intersezioni = gpd.read_file(PATH_INTERSEZIONI_STAGIN)\n",
    "\n",
    "dati_filtrati = gpd.sjoin(gdf_intersezioni, gdf_confini, how=\"inner\", predicate=\"intersects\")"
   ]
  },
  {
   "cell_type": "markdown",
   "id": "67089896",
   "metadata": {},
   "source": [
    "Salvataggio in Clean"
   ]
  },
  {
   "cell_type": "code",
   "execution_count": 22,
   "id": "13aa25eb",
   "metadata": {},
   "outputs": [],
   "source": [
    "dati_filtrati.to_file(PATH_INTERSEZIONI_CLEAN, driver=\"GeoJSON\")"
   ]
  }
 ],
 "metadata": {
  "kernelspec": {
   "display_name": ".venv",
   "language": "python",
   "name": "python3"
  },
  "language_info": {
   "codemirror_mode": {
    "name": "ipython",
    "version": 3
   },
   "file_extension": ".py",
   "mimetype": "text/x-python",
   "name": "python",
   "nbconvert_exporter": "python",
   "pygments_lexer": "ipython3",
   "version": "3.13.2"
  }
 },
 "nbformat": 4,
 "nbformat_minor": 5
}
