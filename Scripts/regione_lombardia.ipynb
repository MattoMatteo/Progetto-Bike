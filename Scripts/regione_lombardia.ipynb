{
 "cells": [
  {
   "cell_type": "code",
   "execution_count": 5,
   "id": "fff3bca3",
   "metadata": {},
   "outputs": [
    {
     "name": "stdout",
     "output_type": "stream",
     "text": [
      "Requirement already satisfied: fiona in c:\\users\\apera\\onedrive\\documenti\\progetti\\.venv\\lib\\site-packages (1.10.1)\n",
      "Requirement already satisfied: attrs>=19.2.0 in c:\\users\\apera\\onedrive\\documenti\\progetti\\.venv\\lib\\site-packages (from fiona) (25.3.0)\n",
      "Requirement already satisfied: certifi in c:\\users\\apera\\onedrive\\documenti\\progetti\\.venv\\lib\\site-packages (from fiona) (2025.4.26)\n",
      "Requirement already satisfied: click~=8.0 in c:\\users\\apera\\onedrive\\documenti\\progetti\\.venv\\lib\\site-packages (from fiona) (8.2.1)\n",
      "Requirement already satisfied: click-plugins>=1.0 in c:\\users\\apera\\onedrive\\documenti\\progetti\\.venv\\lib\\site-packages (from fiona) (1.1.1.2)\n",
      "Requirement already satisfied: cligj>=0.5 in c:\\users\\apera\\onedrive\\documenti\\progetti\\.venv\\lib\\site-packages (from fiona) (0.7.2)\n",
      "Requirement already satisfied: colorama in c:\\users\\apera\\onedrive\\documenti\\progetti\\.venv\\lib\\site-packages (from click~=8.0->fiona) (0.4.6)\n",
      "Collecting geopandas\n",
      "  Downloading geopandas-1.1.1-py3-none-any.whl.metadata (2.3 kB)\n",
      "Requirement already satisfied: numpy>=1.24 in c:\\users\\apera\\onedrive\\documenti\\progetti\\.venv\\lib\\site-packages (from geopandas) (2.2.4)\n",
      "Requirement already satisfied: pyogrio>=0.7.2 in c:\\users\\apera\\onedrive\\documenti\\progetti\\.venv\\lib\\site-packages (from geopandas) (0.11.0)\n",
      "Requirement already satisfied: packaging in c:\\users\\apera\\onedrive\\documenti\\progetti\\.venv\\lib\\site-packages (from geopandas) (24.2)\n",
      "Requirement already satisfied: pandas>=2.0.0 in c:\\users\\apera\\onedrive\\documenti\\progetti\\.venv\\lib\\site-packages (from geopandas) (2.3.0)\n",
      "Requirement already satisfied: pyproj>=3.5.0 in c:\\users\\apera\\onedrive\\documenti\\progetti\\.venv\\lib\\site-packages (from geopandas) (3.7.1)\n",
      "Requirement already satisfied: shapely>=2.0.0 in c:\\users\\apera\\onedrive\\documenti\\progetti\\.venv\\lib\\site-packages (from geopandas) (2.1.1)\n",
      "Requirement already satisfied: python-dateutil>=2.8.2 in c:\\users\\apera\\onedrive\\documenti\\progetti\\.venv\\lib\\site-packages (from pandas>=2.0.0->geopandas) (2.9.0.post0)\n",
      "Requirement already satisfied: pytz>=2020.1 in c:\\users\\apera\\onedrive\\documenti\\progetti\\.venv\\lib\\site-packages (from pandas>=2.0.0->geopandas) (2025.2)\n",
      "Requirement already satisfied: tzdata>=2022.7 in c:\\users\\apera\\onedrive\\documenti\\progetti\\.venv\\lib\\site-packages (from pandas>=2.0.0->geopandas) (2025.2)\n",
      "Requirement already satisfied: certifi in c:\\users\\apera\\onedrive\\documenti\\progetti\\.venv\\lib\\site-packages (from pyogrio>=0.7.2->geopandas) (2025.4.26)\n",
      "Requirement already satisfied: six>=1.5 in c:\\users\\apera\\onedrive\\documenti\\progetti\\.venv\\lib\\site-packages (from python-dateutil>=2.8.2->pandas>=2.0.0->geopandas) (1.17.0)\n",
      "Downloading geopandas-1.1.1-py3-none-any.whl (338 kB)\n",
      "Installing collected packages: geopandas\n",
      "Successfully installed geopandas-1.1.1\n"
     ]
    }
   ],
   "source": [
    "!pip install fiona\n",
    "!pip install geopandas\n"
   ]
  },
  {
   "cell_type": "code",
   "execution_count": null,
   "id": "fdbbb5e8",
   "metadata": {},
   "outputs": [],
   "source": [
    "import fiona\n",
    "import pandas\n",
    "import geopandas\n",
    "import json\n",
    "from fiona.transform import transform_geom"
   ]
  },
  {
   "cell_type": "code",
   "execution_count": null,
   "id": "90c46326",
   "metadata": {},
   "outputs": [
    {
     "name": "stderr",
     "output_type": "stream",
     "text": [
      "C:\\Users\\apera\\AppData\\Local\\Temp\\ipykernel_22040\\651617037.py:14: FionaDeprecationWarning: instances of this class -- CRS, geometry, and feature objects -- will become immutable in fiona version 2.0\n",
      "  feature['geometry'] = geom_transformed\n"
     ]
    },
    {
     "name": "stdout",
     "output_type": "stream",
     "text": [
      "✅ File GeoJSON convertito e salvato correttamente.\n"
     ]
    }
   ],
   "source": [
    "\n",
    "\n",
    "PATH_INTERSEZIONI = \"../Data/Raw/strade_urbane/REGIONE_LOMBARDIA/Intersezioni_Stradali.shp\"\n",
    "PATH_INTERSEZIONI_JSON = \"../Data/Clean/strade_urbane/intersezioni_stradali.geojson\"\n",
    "\n",
    "src_crs = 'EPSG:32632'\n",
    "dst_crs = 'EPSG:4326'\n",
    "\n",
    "with fiona.open(PATH_INTERSEZIONI, 'r') as src:\n",
    "    schema = src.schema.copy()\n",
    "    crs_dst = fiona.crs.from_string(dst_crs)\n",
    "\n",
    "    with fiona.open(PATH_INTERSEZIONI_JSON, 'w', driver='GeoJSON', crs=crs_dst, schema=schema) as dst:\n",
    "        for feature in src:\n",
    "            geom_transformed = transform_geom(src_crs, dst_crs, feature['geometry'])\n",
    "            feature['geometry'] = geom_transformed\n",
    "            dst.write(feature)\n",
    "\n",
    "print(\" GeoJSON convertito e salvato correttamente.\")\n",
    "\n",
    "\n",
    "\n",
    "\n",
    "\n",
    "\n",
    "\n",
    "\n",
    "\n",
    "\n"
   ]
  }
 ],
 "metadata": {
  "kernelspec": {
   "display_name": ".venv",
   "language": "python",
   "name": "python3"
  },
  "language_info": {
   "codemirror_mode": {
    "name": "ipython",
    "version": 3
   },
   "file_extension": ".py",
   "mimetype": "text/x-python",
   "name": "python",
   "nbconvert_exporter": "python",
   "pygments_lexer": "ipython3",
   "version": "3.13.5"
  }
 },
 "nbformat": 4,
 "nbformat_minor": 5
}
