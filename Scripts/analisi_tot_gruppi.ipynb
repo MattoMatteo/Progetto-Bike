{
 "cells": [
  {
   "cell_type": "code",
   "execution_count": 7,
   "id": "afc59a0b",
   "metadata": {},
   "outputs": [],
   "source": [
    "import geopandas as gpd\n",
    "\n",
    "from my_paths import *"
   ]
  },
  {
   "cell_type": "code",
   "execution_count": 4,
   "id": "300a660b",
   "metadata": {},
   "outputs": [],
   "source": [
    "PATH_SPORT_UNITO = \"../Data/Clean/Analisi/sport_tempo_libero_unito_clean.geojson\"\n",
    "PATH_CULTURA_UNITO = \"../Data/Clean/Analisi/cultura_spettacolo_filtrato_unito_clean.geojson\"\n",
    "PATH_ISTRUZIONE_UNITO = \"../Data/Clean/Analisi/istruzione_filtrato_unito_clean.geojson\"\n",
    "PATH_SANITA_UNITO = \"../Data/Clean/Analisi/sanita_filtrato_unito_clean.geojson\""
   ]
  },
  {
   "cell_type": "code",
   "execution_count": 5,
   "id": "65970b53",
   "metadata": {},
   "outputs": [],
   "source": [
    "gdf_sport = gpd.read_file(PATH_SPORT_UNITO)\n",
    "gdf_cultura = gpd.read_file(PATH_CULTURA_UNITO)\n",
    "gdf_istruzione = gpd.read_file(PATH_ISTRUZIONE_UNITO)\n",
    "gdf_sanita = gpd.read_file(PATH_SANITA_UNITO)"
   ]
  },
  {
   "cell_type": "markdown",
   "id": "b1d75047",
   "metadata": {},
   "source": [
    "Unione di tutti i Gruppi di analisi in un solo file con raggruppamento sulla geometry e Origine"
   ]
  },
  {
   "cell_type": "code",
   "execution_count": 6,
   "id": "e413019a",
   "metadata": {},
   "outputs": [],
   "source": [
    "gdf_sport[\"gruppo\"] = \"sport\"\n",
    "gdf_cultura[\"gruppo\"] = \"cultura\"\n",
    "gdf_istruzione[\"gruppo\"] = \"istruzione\"\n",
    "gdf_sanita[\"gruppo\"] = \"sanita\""
   ]
  },
  {
   "cell_type": "code",
   "execution_count": 8,
   "id": "6af6da6e",
   "metadata": {},
   "outputs": [],
   "source": [
    "df_concat = gpd.pd.concat([gdf_sport, gdf_cultura, gdf_istruzione, gdf_sanita], ignore_index=True)\n",
    "gdf_concat = gpd.GeoDataFrame(df_concat, crs=CRS_GRAD)"
   ]
  },
  {
   "cell_type": "code",
   "execution_count": null,
   "id": "e49657b4",
   "metadata": {},
   "outputs": [],
   "source": [
    "aggregations = {x: \"first\" for x in list(gdf_concat.columns.drop([\"gruppo\", \"geometry\", \"origine\", \"priorita\"]))}    \n",
    "aggregations[\"gruppo\"] = lambda x: \", \".join(x)"
   ]
  },
  {
   "cell_type": "code",
   "execution_count": 32,
   "id": "a488d073",
   "metadata": {},
   "outputs": [],
   "source": [
    "gdf_totale = gdf_concat.groupby([\"geometry\", \"origine\"]).agg(aggregations).reset_index()\n",
    "gdf_totale = gpd.GeoDataFrame(gdf_totale, crs=CRS_GRAD)"
   ]
  },
  {
   "cell_type": "code",
   "execution_count": 33,
   "id": "59937ae2",
   "metadata": {},
   "outputs": [],
   "source": [
    "gdf_totale.to_file(\"../Data/Staging/Analisi/totale_gruppo_analisi.geojson\", driver=\"GeoJSON\")"
   ]
  }
 ],
 "metadata": {
  "kernelspec": {
   "display_name": ".venv",
   "language": "python",
   "name": "python3"
  },
  "language_info": {
   "codemirror_mode": {
    "name": "ipython",
    "version": 3
   },
   "file_extension": ".py",
   "mimetype": "text/x-python",
   "name": "python",
   "nbconvert_exporter": "python",
   "pygments_lexer": "ipython3",
   "version": "3.13.2"
  }
 },
 "nbformat": 4,
 "nbformat_minor": 5
}
