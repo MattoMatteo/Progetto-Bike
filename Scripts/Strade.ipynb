{
 "cells": [
  {
   "cell_type": "markdown",
   "id": "460c86ae",
   "metadata": {},
   "source": [
    "# Strade Urbane\n"
   ]
  },
  {
   "cell_type": "code",
   "execution_count": 21,
   "id": "53701f79",
   "metadata": {},
   "outputs": [],
   "source": [
    "from shapely import MultiLineString, LineString, Polygon, MultiPolygon\n",
    "\n",
    "import geopandas as gpd"
   ]
  },
  {
   "cell_type": "code",
   "execution_count": 22,
   "id": "8813fef5",
   "metadata": {},
   "outputs": [],
   "source": [
    "gdf = gpd.read_file(PATH_STRADE_URBANE_RAW)\n",
    "gdf = gdf.set_crs(\"EPSG:7794\")\n",
    "gdf = gdf.to_crs(\"EPSG:4326\")"
   ]
  },
  {
   "cell_type": "code",
   "execution_count": 23,
   "id": "86aff796",
   "metadata": {},
   "outputs": [],
   "source": [
    "def polygon_to_multilinestring(geom):\n",
    "    if isinstance(geom, Polygon):\n",
    "        # Converte esterno e interni in LineString e li unisce\n",
    "        lines = [LineString(geom.exterior.coords)] + [LineString(ring.coords) for ring in geom.interiors]\n",
    "        return MultiLineString(lines)\n",
    "    elif isinstance(geom, MultiPolygon):\n",
    "        # Applica la conversione a ogni poligono\n",
    "        lines = []\n",
    "        for poly in geom.geoms:\n",
    "            lines.append(LineString(poly.exterior.coords))\n",
    "            lines.extend([LineString(ring.coords) for ring in poly.interiors])\n",
    "        return MultiLineString(lines)\n",
    "    else:\n",
    "        return geom  # Lascia intatto se è già una LineString o MultiLineString\n",
    "\n",
    "gdf[\"geometry\"] = gdf[\"geometry\"].apply(polygon_to_multilinestring)"
   ]
  },
  {
   "cell_type": "code",
   "execution_count": 24,
   "id": "e1d827fd",
   "metadata": {},
   "outputs": [],
   "source": [
    "gdf.to_file(PATH_STRADE_URBANE_CLEAN, driver=\"GeoJSON\")"
   ]
  }
 ],
 "metadata": {
  "kernelspec": {
   "display_name": ".venv",
   "language": "python",
   "name": "python3"
  },
  "language_info": {
   "codemirror_mode": {
    "name": "ipython",
    "version": 3
   },
   "file_extension": ".py",
   "mimetype": "text/x-python",
   "name": "python",
   "nbconvert_exporter": "python",
   "pygments_lexer": "ipython3",
   "version": "3.13.2"
  }
 },
 "nbformat": 4,
 "nbformat_minor": 5
}
