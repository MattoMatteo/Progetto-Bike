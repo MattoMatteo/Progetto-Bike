{
 "cells": [
  {
   "cell_type": "markdown",
   "id": "4d5f8ae2",
   "metadata": {},
   "source": [
    "# Scuole"
   ]
  }
 ],
 "metadata": {
  "language_info": {
   "name": "python"
  }
 },
 "nbformat": 4,
 "nbformat_minor": 5
}
