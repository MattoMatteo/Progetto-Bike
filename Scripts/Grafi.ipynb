{
 "cells": [
  {
   "cell_type": "code",
   "execution_count": 124,
   "id": "84ed6b83",
   "metadata": {},
   "outputs": [],
   "source": [
    "import pickle\n",
    "\n",
    "import geopandas as gpd\n",
    "from shapely import Point, LineString, MultiLineString, Polygon, MultiPolygon\n",
    "import osmnx as ox\n",
    "import networkx as nx\n",
    "import matplotlib\n",
    "from scipy.spatial import cKDTree\n",
    "import numpy as np\n",
    "import networkx as nx\n",
    "\n",
    "from my_paths import *"
   ]
  },
  {
   "cell_type": "code",
   "execution_count": 109,
   "id": "3a4e52ed",
   "metadata": {},
   "outputs": [],
   "source": [
    "PATH_TEST_STAGING = \"../Data/Staging/Analisi/\""
   ]
  },
  {
   "cell_type": "code",
   "execution_count": 110,
   "id": "507be72b",
   "metadata": {},
   "outputs": [],
   "source": [
    "CRS_GRAD = \"EPSG:4326\"  # Lat-Long\n",
    "CRS_METR = \"EPSG:32632\" # Metri"
   ]
  },
  {
   "cell_type": "markdown",
   "id": "acb48c30",
   "metadata": {},
   "source": [
    "## Creazione strade da openstreet maps (Da passare su notebook ETL)"
   ]
  },
  {
   "cell_type": "markdown",
   "id": "a1d21d7c",
   "metadata": {},
   "source": [
    "Ingestion da openstreet maps"
   ]
  },
  {
   "cell_type": "code",
   "execution_count": 111,
   "id": "6c9e2a7f",
   "metadata": {},
   "outputs": [],
   "source": [
    "place = \"Milano, Italy\"\n",
    "\n",
    "bike_filter = (\n",
    "    '[\"highway\"][\"bicycle\"!~\"no\"][\"bicycle\"!~\"dismount\"]'\n",
    ")\n",
    "G_ox_strade = ox.graph_from_place(place, network_type='bike', custom_filter=bike_filter)"
   ]
  },
  {
   "cell_type": "markdown",
   "id": "652f6e11",
   "metadata": {},
   "source": [
    "Conversione nei 2 geodataframe - conversione dei nodi nei due sistemi crs"
   ]
  },
  {
   "cell_type": "code",
   "execution_count": 113,
   "id": "fe33227d",
   "metadata": {},
   "outputs": [],
   "source": [
    "G_ox_strade_copy = G_ox_strade.copy()\n",
    "gdf_nodes_METR, gdf_edges = ox.graph_to_gdfs(G_ox_strade_copy)\n",
    "gdf_nodes_METR = gdf_nodes_METR.to_crs(CRS_METR)\n",
    "gdf_nodes_GRAD = gdf_nodes_METR.to_crs(CRS_GRAD)"
   ]
  },
  {
   "cell_type": "markdown",
   "id": "ff9410f7",
   "metadata": {},
   "source": [
    "Aggiungiamo archi di congiunzione artificiali per connettere strade molto vicine tra di loro"
   ]
  },
  {
   "cell_type": "code",
   "execution_count": 114,
   "id": "548f0c1a",
   "metadata": {},
   "outputs": [],
   "source": [
    "coords = np.array([[geom.x, geom.y] for geom in gdf_nodes_METR.geometry])\n",
    "\n",
    "tree = cKDTree(coords)\n",
    "pairs = tree.query_pairs(r=5)  # distanza massima in metri\n",
    "\n",
    "for i, j in pairs:\n",
    "    u = gdf_nodes_GRAD.iloc[i].geometry.coords[0]\n",
    "    v = gdf_nodes_GRAD.iloc[j].geometry.coords[0]\n",
    "\n",
    "    if not G_ox_strade_copy.has_edge(u, v):\n",
    "        length = LineString([gdf_nodes_METR.iloc[i].geometry.coords[0], gdf_nodes_METR.iloc[j].geometry.coords[0]]).length\n",
    "        G_ox_strade_copy.add_edge(u, v, geometry=LineString([u,v]), artificial=True, weight=length)\n"
   ]
  },
  {
   "cell_type": "markdown",
   "id": "c64b6018",
   "metadata": {},
   "source": [
    "Graph -> GeoDataFrame"
   ]
  },
  {
   "cell_type": "code",
   "execution_count": 115,
   "id": "697b53d3",
   "metadata": {},
   "outputs": [],
   "source": [
    "G_nx = nx.Graph(G_ox_strade_copy.to_undirected())\n",
    "edge_data = []\n",
    "\n",
    "for u, v, data in G_nx.edges(data=True):\n",
    "    data_copy = data.copy()\n",
    "    data_copy.update({'u': u, 'v': v,})\n",
    "    edge_data.append(data_copy)\n",
    "\n",
    "gdf_edges = gpd.GeoDataFrame(edge_data, geometry='geometry', crs=CRS_GRAD)\n",
    "gdf_edges[\"osmid\"] = gdf_edges[\"osmid\"].apply(lambda x: x[0] if isinstance(x, list) else x)\n",
    "gdf_edges.loc[gdf_edges[\"osmid\"].isna(), \"osmid\"] = -1\n",
    "gdf_edges[\"osmid\"] = gdf_edges[\"osmid\"].astype(int)"
   ]
  },
  {
   "cell_type": "markdown",
   "id": "aabf08d5",
   "metadata": {},
   "source": [
    "Salva GeoJson & Pickle"
   ]
  },
  {
   "cell_type": "code",
   "execution_count": 116,
   "id": "02eef17a",
   "metadata": {},
   "outputs": [],
   "source": [
    "gdf_edges.to_file(PATH_TEST_STAGING+\"strade.geojson\", driver=\"GeoJSON\")\n",
    "\n",
    "with open(PATH_TEST_STAGING+\"strade.pickle\", \"wb\") as f:\n",
    "    pickle.dump(G_nx, f)"
   ]
  },
  {
   "cell_type": "markdown",
   "id": "4f043502",
   "metadata": {},
   "source": [
    "## Converte usando networkx (Da passare su notebook ETL)"
   ]
  },
  {
   "cell_type": "markdown",
   "id": "dfc4977d",
   "metadata": {},
   "source": [
    "Dichiariamo 2 funzioni:\n",
    "1. Conversione: **GeoDataFrame -> Graph**, per quanto riguarda percorsi di Linestring.\n",
    "2. Conversione: **Graph -> GeoDataFrame**, questa in teoria funziona su tutti i Graph."
   ]
  },
  {
   "cell_type": "code",
   "execution_count": null,
   "id": "0ffa0d3c",
   "metadata": {},
   "outputs": [],
   "source": [
    "def percorsi_geojson_to_graph(gdf: gpd.GeoDataFrame) -> nx.Graph:\n",
    "    G = nx.Graph()\n",
    "\n",
    "    for _, row in gdf.iterrows():\n",
    "        geom = row.geometry\n",
    "\n",
    "        coords = list(geom.coords)\n",
    "\n",
    "        for i in range(len(coords) - 1):\n",
    "            u = tuple(coords[i])\n",
    "            v = tuple(coords[i + 1])\n",
    "            length = gpd.GeoDataFrame([LineString([u, v])], columns=[\"geometry\"], crs=CRS_GRAD).to_crs(CRS_METR)[\"geometry\"][0].length\n",
    "            G.add_edge(u, v, weight=length, geometry=LineString([u, v]))\n",
    "    return G\n",
    "\n",
    "def graph_to_geodataframe(G: nx.Graph) -> gpd.GeoDataFrame:\n",
    "    edge_data = []\n",
    "    for u, v, data in G.edges(data=True):\n",
    "        data_copy = data.copy()\n",
    "        data_copy.update({'u': u, 'v': v,})\n",
    "        edge_data.append(data_copy)\n",
    "\n",
    "    return gpd.GeoDataFrame(edge_data, geometry='geometry', crs=CRS_GRAD)"
   ]
  },
  {
   "cell_type": "markdown",
   "id": "8b15e887",
   "metadata": {},
   "source": [
    "Modifico ad hoc il raw delle ciclabili. Se decideremo di utilizzare questo metodo dei graph, modificheremo l'ETL delle ciclabili in questo modo e aggiungeremo la conversione in graph e il salvataggio in pickle"
   ]
  },
  {
   "cell_type": "code",
   "execution_count": null,
   "id": "044e736b",
   "metadata": {},
   "outputs": [],
   "source": [
    "# Carico Raw\n",
    "gdf_ciclabili_raw = gpd.read_file(PATH_CICLABILI_RAW)\n",
    "gdf_ciclabili_staging = gdf_ciclabili_raw.copy()\n",
    "\n",
    "# Convertiamo Multilinestring in Linestring\n",
    "gdf_ciclabili_staging[\"geometry\"] = gdf_ciclabili_staging[\"geometry\"].apply(lambda x: x.geoms[0])\n",
    "\n",
    "# Altre operazioni di pulizia. Da considerare di rimuover il group_by dall'ETL delle piste\n",
    "gdf_ciclabili_staging[\"fine_lavor\"] = gdf_ciclabili_staging[\"fine_lavor\"].astype(int)\n",
    "gdf_ciclabili_staging[\"lunghezza\"] = gdf_ciclabili_staging[\"lunghezza\"].astype(int)\n",
    "gdf_ciclabili_staging = gdf_ciclabili_staging.drop([\"id_amat\", \"id_via\",\"gerarchia\"], axis=1)\n",
    "\n",
    "G_ciclabili = percorsi_geojson_to_graph(gdf_ciclabili_staging)\n",
    "with open(PATH_TEST_STAGING+\"rete_ciclabile.pickle\", \"wb\") as f:\n",
    "    pickle.dump(G_ciclabili, f)"
   ]
  },
  {
   "cell_type": "markdown",
   "id": "3000d90c",
   "metadata": {},
   "source": [
    "## Proviamo a creare connessioni con networkx"
   ]
  },
  {
   "cell_type": "markdown",
   "id": "8a13695a",
   "metadata": {},
   "source": [
    "Carichiamo da file i Graph (dai file pickle)"
   ]
  },
  {
   "cell_type": "code",
   "execution_count": null,
   "id": "c393c9b3",
   "metadata": {},
   "outputs": [],
   "source": [
    "with open(PATH_TEST_STAGING+\"rete_ciclabile.pickle\", \"rb\") as f:\n",
    "    G_ciclabili = pickle.load(f)\n",
    "with open(PATH_TEST_STAGING+\"strade.pickle\", \"rb\") as f:\n",
    "    G_strade = pickle.load(f)"
   ]
  }
 ],
 "metadata": {
  "kernelspec": {
   "display_name": ".venv",
   "language": "python",
   "name": "python3"
  },
  "language_info": {
   "codemirror_mode": {
    "name": "ipython",
    "version": 3
   },
   "file_extension": ".py",
   "mimetype": "text/x-python",
   "name": "python",
   "nbconvert_exporter": "python",
   "pygments_lexer": "ipython3",
   "version": "3.13.2"
  }
 },
 "nbformat": 4,
 "nbformat_minor": 5
}
