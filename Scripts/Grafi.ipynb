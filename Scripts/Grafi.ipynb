{
 "cells": [
  {
   "cell_type": "code",
   "execution_count": 1,
   "id": "84ed6b83",
   "metadata": {},
   "outputs": [],
   "source": [
    "import pickle\n",
    "\n",
    "import geopandas as gpd\n",
    "import osmnx as ox\n",
    "from scipy.spatial import cKDTree\n",
    "import networkx as nx\n",
    "\n",
    "from my_paths import *\n",
    "import Graph_functions"
   ]
  },
  {
   "cell_type": "code",
   "execution_count": 2,
   "id": "3a4e52ed",
   "metadata": {},
   "outputs": [],
   "source": [
    "PATH_STRADE_CICLABILI_PICKLE_RAW = \"../Data/Raw/Info_bici/strade_ciclabili.pickle\"\n",
    "PATH_STRADE_CICLABILI_PICKLE_STAGING = \"../Data/Staging/Info_bici/strade_ciclabili.pickle\"\n",
    "PATH_STRADE_CICLABILI_GEOJSON_STAGING = \"../Data/Staging/Info_bici/strade_ciclabili.geojson\"\n",
    "\n",
    "PATH_CICLABILI_PICKLE_STAGING = \"../Data/Staging/Info_bici/ciclabile.pickle\"\n",
    "PATH_CICLABILI_GEOJSON_STAGING = \"../Data/Staging/Info_bici/ciclabile.geojson\"\n",
    "\n",
    "PATH_TEST_STAGING = \"../Data/Staging/Analisi/\"\n",
    "\n",
    "CRS_GRAD = \"EPSG:4326\"  # Lat-Long\n",
    "CRS_METR = \"EPSG:32632\" # Metri"
   ]
  },
  {
   "cell_type": "markdown",
   "id": "acb48c30",
   "metadata": {},
   "source": [
    "## Creazione Strade ciclabili Graph (compreso ingestion da openstreet maps)"
   ]
  },
  {
   "cell_type": "markdown",
   "id": "a1d21d7c",
   "metadata": {},
   "source": [
    "Ingestion da openstreet maps e salviamo in Raw (pickle)"
   ]
  },
  {
   "cell_type": "code",
   "execution_count": 3,
   "id": "6c9e2a7f",
   "metadata": {},
   "outputs": [],
   "source": [
    "place = \"Milano, Italy\"\n",
    "\n",
    "bike_filter = (\n",
    "    '[\"highway\"][\"bicycle\"!~\"no\"][\"bicycle\"!~\"dismount\"]'\n",
    ")\n",
    "G_ox_strade = ox.graph_from_place(place, network_type='bike', custom_filter=bike_filter)\n",
    "with open(PATH_STRADE_CICLABILI_PICKLE_RAW, \"wb\") as f:\n",
    "    pickle.dump(G_ox_strade, f)"
   ]
  },
  {
   "cell_type": "markdown",
   "id": "e4b383fc",
   "metadata": {},
   "source": [
    "Carichiamo il file da Row e modifichiamolo"
   ]
  },
  {
   "cell_type": "code",
   "execution_count": 3,
   "id": "fe33227d",
   "metadata": {},
   "outputs": [],
   "source": [
    "with open(PATH_STRADE_CICLABILI_PICKLE_RAW, \"rb\") as f:\n",
    "    G_strade = pickle.load(f)"
   ]
  },
  {
   "cell_type": "markdown",
   "id": "ff9410f7",
   "metadata": {},
   "source": [
    "Aggiungiamo archi di congiunzione artificiali per connettere strade molto vicine tra di loro"
   ]
  },
  {
   "cell_type": "code",
   "execution_count": 4,
   "id": "d83de30b",
   "metadata": {},
   "outputs": [],
   "source": [
    "G_strade = G_strade.to_undirected()\n",
    "G_strade = Graph_functions.add_edge_near_nodes(G_strade)"
   ]
  },
  {
   "cell_type": "markdown",
   "id": "aabf08d5",
   "metadata": {},
   "source": [
    "Salva GeoJson & Pickle in staging"
   ]
  },
  {
   "cell_type": "code",
   "execution_count": null,
   "id": "02eef17a",
   "metadata": {},
   "outputs": [],
   "source": [
    "_, gdf_edges = ox.graph_to_gdfs(G_strade)\n",
    "\n",
    "# Andrebbe pulito il geojson ma per ora lo usiamo solo per visualizzazione su kepler\n",
    "gdf_edges.to_file(PATH_STRADE_CICLABILI_GEOJSON_STAGING, driver=\"GeoJSON\")\n",
    "\n",
    "with open(PATH_STRADE_CICLABILI_PICKLE_STAGING, \"wb\") as f:\n",
    "    pickle.dump(G_strade, f)"
   ]
  },
  {
   "cell_type": "markdown",
   "id": "4f043502",
   "metadata": {},
   "source": [
    "## Creazione Ciclabili Graph"
   ]
  },
  {
   "cell_type": "markdown",
   "id": "8b15e887",
   "metadata": {},
   "source": [
    "Modifico ad hoc il raw delle ciclabili. Se decideremo di utilizzare questo metodo dei graph, modificheremo l'ETL delle ciclabili in questo modo e aggiungeremo la conversione in graph e il salvataggio in pickle"
   ]
  },
  {
   "cell_type": "code",
   "execution_count": 3,
   "id": "044e736b",
   "metadata": {},
   "outputs": [],
   "source": [
    "# Carico Raw\n",
    "gdf_ciclabili_raw = gpd.read_file(PATH_CICLABILI_RAW)\n",
    "gdf_ciclabili_staging = gdf_ciclabili_raw.copy()\n",
    "\n",
    "# Convertiamo Multilinestring in Linestring\n",
    "gdf_ciclabili_staging[\"geometry\"] = gdf_ciclabili_staging[\"geometry\"].apply(lambda x: x.geoms[0])\n",
    "\n",
    "# Altre operazioni di pulizia. Da considerare di rimuover il group_by dall'ETL delle piste\n",
    "gdf_ciclabili_staging[\"fine_lavor\"] = gdf_ciclabili_staging[\"fine_lavor\"].astype(int)\n",
    "gdf_ciclabili_staging[\"lunghezza\"] = gdf_ciclabili_staging[\"lunghezza\"].astype(int)\n",
    "gdf_ciclabili_staging = gdf_ciclabili_staging.drop([\"id_amat\", \"id_via\",\"gerarchia\"], axis=1)\n",
    "\n",
    "G_ciclabili = Graph_functions.gdf_to_graph(gdf_ciclabili_staging)\n",
    "with open(PATH_CICLABILI_PICKLE_STAGING, \"wb\") as f:\n",
    "    pickle.dump(G_ciclabili, f)"
   ]
  },
  {
   "cell_type": "markdown",
   "id": "7db1d8cd",
   "metadata": {},
   "source": [
    "Anche qui aggiungiamo connessioni artificiali tra nodi vicini non connessi"
   ]
  },
  {
   "cell_type": "code",
   "execution_count": 5,
   "id": "4770ac5f",
   "metadata": {},
   "outputs": [],
   "source": [
    "# Carichiamo MultiDiGraph da file pickle\n",
    "with open(PATH_CICLABILI_PICKLE_STAGING, \"rb\") as f:\n",
    "    G_ciclabili = pickle.load(f)\n",
    "\n",
    "# Aggiungiamo archi artificiali\n",
    "G_ciclabili = G_ciclabili.to_undirected()\n",
    "G_ciclabili = Graph_functions.add_edge_near_nodes(G_ciclabili)\n",
    "\n",
    "# Salviamo pickle e geojson in staging\n",
    "_, gdf_edges = ox.graph_to_gdfs(G_ciclabili)\n",
    "gdf_edges.to_file(PATH_CICLABILI_GEOJSON_STAGING, driver=\"GeoJSON\") # Anche questo andrebbe ripulito\n",
    "with open(PATH_CICLABILI_PICKLE_STAGING, \"wb\") as f:\n",
    "    pickle.dump(G_ciclabili, f)"
   ]
  },
  {
   "cell_type": "markdown",
   "id": "3000d90c",
   "metadata": {},
   "source": [
    "## Proviamo a creare connessioni con networkx"
   ]
  },
  {
   "cell_type": "markdown",
   "id": "8a13695a",
   "metadata": {},
   "source": [
    "Carichiamo da file i Graph (dai file pickle)"
   ]
  },
  {
   "cell_type": "code",
   "execution_count": null,
   "id": "c393c9b3",
   "metadata": {},
   "outputs": [],
   "source": [
    "# Carichiamo Graph Ciclabili\n",
    "with open(PATH_CICLABILI_PICKLE_STAGING, \"rb\") as f:\n",
    "    G_ciclabili = pickle.load(f)\n",
    "\n",
    "# Carichiamo Graph Strade\n",
    "with open(PATH_STRADE_CICLABILI_PICKLE_STAGING, \"rb\") as f:\n",
    "    G_strade = pickle.load(f)\n",
    "\n",
    "# Carichiamo Parchi GeoDataFrame\n",
    "gdf_parchi = gpd.read_file(PATH_PARCHI_RAW)\n",
    "\n",
    "# Troviamo i centroid e mettiamoli in un dizionari di Punti come tuple\n",
    "gdf_parchi[\"centroid\"] = gdf_parchi.geometry.centroid\n",
    "poi_nodes = {}\n",
    "for idx, row in gdf_parchi.iterrows():\n",
    "    poi_nodes[idx] = (row[\"centroid\"].x, row[\"centroid\"].y)"
   ]
  },
  {
   "cell_type": "markdown",
   "id": "25f5b299",
   "metadata": {},
   "source": [
    "Uniamo in un unico graph"
   ]
  },
  {
   "cell_type": "code",
   "execution_count": null,
   "id": "659b6411",
   "metadata": {},
   "outputs": [],
   "source": []
  }
 ],
 "metadata": {
  "kernelspec": {
   "display_name": ".venv",
   "language": "python",
   "name": "python3"
  },
  "language_info": {
   "codemirror_mode": {
    "name": "ipython",
    "version": 3
   },
   "file_extension": ".py",
   "mimetype": "text/x-python",
   "name": "python",
   "nbconvert_exporter": "python",
   "pygments_lexer": "ipython3",
   "version": "3.13.2"
  }
 },
 "nbformat": 4,
 "nbformat_minor": 5
}
