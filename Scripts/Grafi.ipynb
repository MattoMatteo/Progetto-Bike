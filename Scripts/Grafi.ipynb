{
 "cells": [
  {
   "cell_type": "code",
   "execution_count": 2,
   "id": "84ed6b83",
   "metadata": {},
   "outputs": [],
   "source": [
    "import pickle\n",
    "from shapely import LineString\n",
    "\n",
    "import geopandas as gpd\n",
    "import osmnx as ox\n",
    "from scipy.spatial import cKDTree\n",
    "import networkx as nx\n",
    "\n",
    "from my_paths import *\n",
    "import Graph_functions"
   ]
  },
  {
   "cell_type": "code",
   "execution_count": 3,
   "id": "3a4e52ed",
   "metadata": {},
   "outputs": [],
   "source": [
    "PATH_STRADE_CICLABILI_PICKLE_RAW = \"../Data/Raw/Info_bici/strade_ciclabili.pickle\"\n",
    "PATH_STRADE_CICLABILI_PICKLE_STAGING = \"../Data/Staging/Info_bici/strade_ciclabili.pickle\"\n",
    "PATH_STRADE_CICLABILI_GEOJSON_STAGING = \"../Data/Staging/Info_bici/strade_ciclabili.geojson\"\n",
    "\n",
    "PATH_CICLABILI_PICKLE_STAGING = \"../Data/Staging/Info_bici/ciclabile.pickle\"\n",
    "PATH_CICLABILI_GEOJSON_STAGING = \"../Data/Staging/Info_bici/ciclabile.geojson\"\n",
    "PATH_GEOJSON_STRADE_E_CICLABILI_STAGING = \"../Data/Staging/Analisi/strade_e_ciclabili.geojson\"\n",
    "PATH_GEOJSON_COMPLETO_STAGING = \"../Data/Staging/Analisi/completo.geojson\"\n",
    "\n",
    "PATH_GEOJSON_PERCORSI_STAGING = \"../Data/Staging/Analisi/percorsi.geojson\"\n",
    "\n",
    "PATH_TEST_STAGING = \"../Data/Staging/Analisi/\""
   ]
  },
  {
   "cell_type": "markdown",
   "id": "acb48c30",
   "metadata": {},
   "source": [
    "## Creazione Strade ciclabili Graph (compreso ingestion da openstreet maps)"
   ]
  },
  {
   "cell_type": "markdown",
   "id": "a1d21d7c",
   "metadata": {},
   "source": [
    "Ingestion da openstreet maps e salviamo in Raw (pickle)"
   ]
  },
  {
   "cell_type": "code",
   "execution_count": 52,
   "id": "6c9e2a7f",
   "metadata": {},
   "outputs": [],
   "source": [
    "place = \"Milano, Italy\"\n",
    "\n",
    "bike_filter = (\n",
    "    '[\"highway\"][\"bicycle\"!~\"no\"][\"bicycle\"!~\"dismount\"]'\n",
    ")\n",
    "G_ox_strade = ox.graph_from_place(place, network_type='bike', custom_filter=bike_filter)\n",
    "with open(PATH_STRADE_CICLABILI_PICKLE_RAW, \"wb\") as f:\n",
    "    pickle.dump(G_ox_strade, f)"
   ]
  },
  {
   "cell_type": "markdown",
   "id": "e4b383fc",
   "metadata": {},
   "source": [
    "Carichiamo il file da Raw e modifichiamolo"
   ]
  },
  {
   "cell_type": "code",
   "execution_count": 17,
   "id": "fe33227d",
   "metadata": {},
   "outputs": [],
   "source": [
    "with open(PATH_STRADE_CICLABILI_PICKLE_RAW, \"rb\") as f:\n",
    "    G_strade = pickle.load(f)"
   ]
  },
  {
   "cell_type": "markdown",
   "id": "904347ed",
   "metadata": {},
   "source": [
    "Aggiungiamo un peso in base alla lunghezza della strada"
   ]
  },
  {
   "cell_type": "code",
   "execution_count": 18,
   "id": "ba1cf76f",
   "metadata": {},
   "outputs": [],
   "source": [
    "for u, v, k, data in G_strade.edges(data=True, keys=True):\n",
    "    # Scelgo gli attributi da mantenere\n",
    "    new_data = {}\n",
    "    new_data['length'] = data['length']\n",
    "    new_data['name'] = data.get('name', None)\n",
    "    new_data['weight'] = data['length'] * 1 # Per ora\n",
    "    new_data[\"tipo\"] = \"Strade_ciclabili\"\n",
    "    new_data[\"artificiale\"] = False\n",
    "    new_data[\"geometry\"] = data.get(\"geometry\", LineString([(G_strade.nodes[u][\"x\"], G_strade.nodes[u][\"y\"]),\n",
    "                                        (G_strade.nodes[v][\"x\"], G_strade.nodes[v][\"y\"])]))\n",
    "    data.clear()\n",
    "    data.update(new_data)"
   ]
  },
  {
   "cell_type": "markdown",
   "id": "ff9410f7",
   "metadata": {},
   "source": [
    "Aggiungiamo archi di congiunzione artificiali per connettere strade molto vicine tra di loro"
   ]
  },
  {
   "cell_type": "code",
   "execution_count": 19,
   "id": "d83de30b",
   "metadata": {},
   "outputs": [],
   "source": [
    "G_strade = G_strade.to_undirected()\n",
    "G_strade = Graph_functions.add_edge_near_nodes(G_strade,\n",
    "                                               weight_moltiplicator=1,  # Per ora\n",
    "                                               tipo = \"Strade_ciclabili\", artificiale = True)"
   ]
  },
  {
   "cell_type": "markdown",
   "id": "aabf08d5",
   "metadata": {},
   "source": [
    "Salva GeoJson & Pickle in staging"
   ]
  },
  {
   "cell_type": "code",
   "execution_count": 20,
   "id": "02eef17a",
   "metadata": {},
   "outputs": [],
   "source": [
    "_, gdf_edges = ox.graph_to_gdfs(G_strade)\n",
    "\n",
    "# Andrebbe pulito il geojson ma per ora lo usiamo solo per visualizzazione su kepler\n",
    "gdf_edges.to_file(PATH_STRADE_CICLABILI_GEOJSON_STAGING, driver=\"GeoJSON\")\n",
    "\n",
    "with open(PATH_STRADE_CICLABILI_PICKLE_STAGING, \"wb\") as f:\n",
    "    pickle.dump(G_strade, f)"
   ]
  },
  {
   "cell_type": "markdown",
   "id": "4f043502",
   "metadata": {},
   "source": [
    "## Creazione Ciclabili Graph"
   ]
  },
  {
   "cell_type": "markdown",
   "id": "8b15e887",
   "metadata": {},
   "source": [
    "Modifico ad hoc il raw delle ciclabili. Se decideremo di utilizzare questo metodo dei graph, modificheremo l'ETL delle ciclabili in questo modo e aggiungeremo la conversione in graph e il salvataggio in pickle"
   ]
  },
  {
   "cell_type": "code",
   "execution_count": 21,
   "id": "044e736b",
   "metadata": {},
   "outputs": [],
   "source": [
    "# Carico Raw\n",
    "gdf_ciclabili_raw = gpd.read_file(PATH_CICLABILI_RAW)\n",
    "gdf_ciclabili_staging = gdf_ciclabili_raw.copy()\n",
    "\n",
    "# Convertiamo Multilinestring in Linestring\n",
    "gdf_ciclabili_staging[\"geometry\"] = gdf_ciclabili_staging[\"geometry\"].apply(lambda x: x.geoms[0])\n",
    "\n",
    "# Altre operazioni di pulizia. Da considerare di rimuover il group_by dall'ETL delle piste\n",
    "gdf_ciclabili_staging[\"fine_lavor\"] = gdf_ciclabili_staging[\"fine_lavor\"].astype(int)\n",
    "gdf_ciclabili_staging[\"lunghezza\"] = gdf_ciclabili_staging[\"lunghezza\"].astype(int)\n",
    "gdf_ciclabili_staging = gdf_ciclabili_staging.drop([\"id_amat\", \"id_via\",\"gerarchia\"], axis=1)\n",
    "\n",
    "G_ciclabili = Graph_functions.geojson_to_graph(gdf_ciclabili_staging, weight_moltiplicator=0, tipo = \"Ciclabile\", artificiale = False)\n",
    "with open(PATH_CICLABILI_PICKLE_STAGING, \"wb\") as f:\n",
    "    pickle.dump(G_ciclabili, f)"
   ]
  },
  {
   "cell_type": "markdown",
   "id": "7db1d8cd",
   "metadata": {},
   "source": [
    "Anche qui aggiungiamo connessioni artificiali tra nodi vicini non connessi"
   ]
  },
  {
   "cell_type": "code",
   "execution_count": 22,
   "id": "4770ac5f",
   "metadata": {},
   "outputs": [],
   "source": [
    "# Carichiamo MultiDiGraph da file pickle\n",
    "with open(PATH_CICLABILI_PICKLE_STAGING, \"rb\") as f:\n",
    "    G_ciclabili = pickle.load(f)\n",
    "\n",
    "# Aggiungiamo archi artificiali\n",
    "G_ciclabili = G_ciclabili.to_undirected()\n",
    "G_ciclabili = Graph_functions.add_edge_near_nodes(G_ciclabili, weight_moltiplicator = 0, tipo = \"Ciclabile\", artificiale = True)\n",
    "\n",
    "# Salviamo pickle e geojson in staging\n",
    "_, gdf_edges = ox.graph_to_gdfs(G_ciclabili)\n",
    "gdf_edges.to_file(PATH_CICLABILI_GEOJSON_STAGING, driver=\"GeoJSON\") # Anche questo andrebbe ripulito\n",
    "with open(PATH_CICLABILI_PICKLE_STAGING, \"wb\") as f:\n",
    "    pickle.dump(G_ciclabili, f)"
   ]
  },
  {
   "cell_type": "markdown",
   "id": "3000d90c",
   "metadata": {},
   "source": [
    "## Proviamo a creare connessioni con networkx"
   ]
  },
  {
   "cell_type": "markdown",
   "id": "8a13695a",
   "metadata": {},
   "source": [
    "Carichiamo da file i Graph (dai file pickle)"
   ]
  },
  {
   "cell_type": "code",
   "execution_count": 57,
   "id": "c393c9b3",
   "metadata": {},
   "outputs": [],
   "source": [
    "# Carichiamo Graph Ciclabili\n",
    "with open(PATH_CICLABILI_PICKLE_STAGING, \"rb\") as f:\n",
    "    G_ciclabili = pickle.load(f)\n",
    "\n",
    "# Carichiamo Graph Strade\n",
    "with open(PATH_STRADE_CICLABILI_PICKLE_STAGING, \"rb\") as f:\n",
    "    G_strade = pickle.load(f)"
   ]
  },
  {
   "cell_type": "markdown",
   "id": "25f5b299",
   "metadata": {},
   "source": [
    "Uniamo in un unico graph e aggiungiamo le connessioni tra i due con lo stesso meccanismo usato prima"
   ]
  },
  {
   "cell_type": "code",
   "execution_count": 58,
   "id": "accac20f",
   "metadata": {},
   "outputs": [],
   "source": [
    "for n in G_ciclabili.nodes:\n",
    "    G_ciclabili.nodes[n][\"origin\"] = \"strada\"\n",
    "for n in G_strade.nodes:\n",
    "    G_strade.nodes[n][\"origin\"] = \"pista\"\n",
    "G_compose = nx.compose(G_strade, G_ciclabili)\n",
    "G_compose_merged = Graph_functions.add_edge_near_nodes(G_compose,\n",
    "                                                       weight_moltiplicator = 0,\n",
    "                                                       tipo = \"Join_ciclabile_strade\",\n",
    "                                                       artificiale=True)"
   ]
  },
  {
   "cell_type": "code",
   "execution_count": 59,
   "id": "32af8897",
   "metadata": {},
   "outputs": [],
   "source": [
    "gdf_compose = ox.graph_to_gdfs(G_compose_merged, edges=True, nodes=False)\n",
    "gdf_compose.to_file(PATH_GEOJSON_STRADE_E_CICLABILI_STAGING, driver=\"GeoJSON\")"
   ]
  },
  {
   "cell_type": "code",
   "execution_count": 60,
   "id": "659b6411",
   "metadata": {},
   "outputs": [],
   "source": [
    "# Carichiamo Parchi GeoDataFrame\n",
    "gdf_parchi = gpd.read_file(PATH_PARCHI_CLEAN)\n",
    "\n",
    "G_compose_merged_parchi = Graph_functions.connect_poi_nodes_to_graph(G_compose_merged, gdf_parchi,\n",
    "                                                                     tipo = \"parchi\",\n",
    "                                                                     poi = True,\n",
    "                                                                     artificial=True)"
   ]
  },
  {
   "cell_type": "code",
   "execution_count": 61,
   "id": "2d3de343",
   "metadata": {},
   "outputs": [],
   "source": [
    "gdf_compose = ox.graph_to_gdfs(G_compose_merged_parchi, edges=True, nodes=False)\n",
    "gdf_compose.to_file(PATH_GEOJSON_COMPLETO_STAGING, driver=\"GeoJSON\")"
   ]
  },
  {
   "cell_type": "markdown",
   "id": "b99d6ee6",
   "metadata": {},
   "source": [
    "## Test 1: nx.shortest_path() di tutte le combinazioni di P.O.I e poi nx.minimum_spanning_tree()"
   ]
  },
  {
   "cell_type": "code",
   "execution_count": 54,
   "id": "fff8ae41",
   "metadata": {},
   "outputs": [],
   "source": [
    "from itertools import combinations\n",
    "from tqdm import tqdm \n",
    "\n",
    "poi_nodes = [n for n, d in G_compose_merged_parchi.nodes(data=True) if d.get(\"tipo\") == \"parchi\"]\n",
    "\n",
    "poi_pairs = list(combinations(poi_nodes, 2))"
   ]
  },
  {
   "cell_type": "code",
   "execution_count": 17,
   "id": "f5009e19",
   "metadata": {},
   "outputs": [],
   "source": [
    "graph_complete = nx.Graph()\n",
    "    \n",
    "pbar = tqdm(total=len(list(poi_pairs)), desc=\"Estrazione tweet\")\n",
    "for u, v in poi_pairs:\n",
    "    try:\n",
    "        path = nx.shortest_path(G_compose_merged_parchi, source=u, target=v, weight='weight')\n",
    "        length = sum(G_compose_merged_parchi[u][v][0]['weight'] for u,v in zip(path[:-1], path[1:]))\n",
    "        graph_complete.add_edge(u, v, weight=length, path=path)\n",
    "    except nx.NetworkXNoPath:\n",
    "        continue\n",
    "    pbar.update(1)\n",
    "\n",
    "mst = nx.minimum_spanning_tree(graph_complete, weight='weight')"
   ]
  },
  {
   "cell_type": "code",
   "execution_count": 50,
   "id": "3d607511",
   "metadata": {},
   "outputs": [],
   "source": [
    "from shapely.geometry import LineString\n",
    "import geopandas as gpd\n",
    "\n",
    "edge_geoms = []\n",
    "for u, v, data in mst.edges(data=True):\n",
    "    path = data.get(\"path\")\n",
    "    if not path:\n",
    "        continue\n",
    "    coords = [(G_compose_merged_parchi.nodes[n]['x'], G_compose_merged_parchi.nodes[n]['y']) for n in path]\n",
    "    geom = LineString(coords)\n",
    "    edge_geoms.append({\n",
    "        \"u\": u,\n",
    "        \"v\": v,\n",
    "        \"geometry\": geom,\n",
    "        \"length\": data[\"weight\"]\n",
    "    })\n",
    "\n",
    "gdf_paths = gpd.GeoDataFrame(edge_geoms, geometry=\"geometry\", crs=\"EPSG:4326\")"
   ]
  },
  {
   "cell_type": "code",
   "execution_count": 53,
   "id": "6d8b898d",
   "metadata": {},
   "outputs": [],
   "source": [
    "gdf_paths.to_file(PATH_GEOJSON_PERCORSI_STAGING, driver=\"GeoJSON\")"
   ]
  },
  {
   "cell_type": "markdown",
   "id": "403cca1f",
   "metadata": {},
   "source": [
    "## Test 2: Algoritmo di \"steiner_tree\""
   ]
  },
  {
   "cell_type": "code",
   "execution_count": null,
   "id": "6d98e07a",
   "metadata": {},
   "outputs": [
    {
     "name": "stdout",
     "output_type": "stream",
     "text": [
      "Nodi POI mancanti nel grafo semplice: []\n",
      "Nodi POI fuori dalla componente principale: []\n"
     ]
    }
   ],
   "source": [
    "components = list(nx.connected_components(G_compose_merged_parchi))\n",
    "largest_cc = max(components, key=len)\n",
    "\n",
    "G_sub = G_compose_merged_parchi.subgraph(largest_cc).copy()\n",
    "poi_sub = [n for n in poi_nodes if n in G_sub.nodes]\n",
    "\n",
    "for u, v, data in G_sub.edges(data=True):\n",
    "    if 'weight' not in data or not isinstance(data['weight'], (int, float)):\n",
    "        data['weight'] = 1  # o un peso di default\n",
    "\n",
    "from networkx.algorithms.approximation import steiner_tree\n",
    "\n",
    "T = steiner_tree(G_sub, terminal_nodes=poi_sub, weight='weight')"
   ]
  },
  {
   "cell_type": "code",
   "execution_count": 73,
   "id": "4faf0675",
   "metadata": {},
   "outputs": [],
   "source": [
    "gdf_steiner = ox.graph_to_gdfs(T, edges=True, nodes=False)\n",
    "gdf_compose.to_file(PATH_GEOJSON_COMPLETO_STAGING, driver=\"GeoJSON\")"
   ]
  }
 ],
 "metadata": {
  "kernelspec": {
   "display_name": ".venv",
   "language": "python",
   "name": "python3"
  },
  "language_info": {
   "codemirror_mode": {
    "name": "ipython",
    "version": 3
   },
   "file_extension": ".py",
   "mimetype": "text/x-python",
   "name": "python",
   "nbconvert_exporter": "python",
   "pygments_lexer": "ipython3",
   "version": "3.13.2"
  }
 },
 "nbformat": 4,
 "nbformat_minor": 5
}
