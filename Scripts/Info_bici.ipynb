{
 "cells": [
  {
   "cell_type": "markdown",
   "id": "0a75db66",
   "metadata": {},
   "source": [
    "# Info bici"
   ]
  },
  {
   "cell_type": "markdown",
   "id": "e61d6978",
   "metadata": {},
   "source": [
    "## Piste ciclabili"
   ]
  },
  {
   "cell_type": "code",
   "execution_count": null,
   "id": "76a32828",
   "metadata": {},
   "outputs": [],
   "source": [
    "import json"
   ]
  },
  {
   "cell_type": "code",
   "execution_count": null,
   "id": "793e7ed0",
   "metadata": {},
   "outputs": [],
   "source": [
    "PATH_CICLABILI_RAW = \"./Data/Raw/Info_bici/bike_ciclabili_raw.geojson\"\n",
    "PATH_CICLABILI_CLEAN = \"./Data/Clean/Info_bici/bike_ciclabili_clean.geojson\""
   ]
  },
  {
   "cell_type": "markdown",
   "id": "0213b41a",
   "metadata": {},
   "source": [
    "### ETL (solo conversione di formato)"
   ]
  },
  {
   "cell_type": "markdown",
   "id": "c9cf29d0",
   "metadata": {},
   "source": [
    "Carichiamo il file Raw geojson"
   ]
  },
  {
   "cell_type": "code",
   "execution_count": null,
   "id": "2b615b5e",
   "metadata": {},
   "outputs": [],
   "source": [
    "with open(PATH_CICLABILI_RAW, 'r') as file:\n",
    "    geojson = json.load(file)"
   ]
  },
  {
   "cell_type": "markdown",
   "id": "8bc16a63",
   "metadata": {},
   "source": [
    "Nessuna modifica necessaria al momento"
   ]
  },
  {
   "cell_type": "markdown",
   "id": "d580852f",
   "metadata": {},
   "source": [
    "Salviamo il file modificato geojson in Clean"
   ]
  },
  {
   "cell_type": "code",
   "execution_count": null,
   "id": "6d66511e",
   "metadata": {},
   "outputs": [],
   "source": [
    "with open(PATH_CICLABILI_CLEAN, 'w') as file:\n",
    "    json.dump(geojson, file, indent=4)"
   ]
  },
  {
   "cell_type": "markdown",
   "id": "e74d02d0",
   "metadata": {},
   "source": [
    "## Stazioni BikeMi"
   ]
  },
  {
   "cell_type": "code",
   "execution_count": null,
   "id": "7d18bf54",
   "metadata": {},
   "outputs": [],
   "source": [
    "import json\n",
    "\n",
    "import geopandas as gpd"
   ]
  },
  {
   "cell_type": "code",
   "execution_count": null,
   "id": "6ec20fe9",
   "metadata": {},
   "outputs": [],
   "source": [
    "PATH_BIKEMI_RAW = './Data/Raw/Info_bici/bikemi_stazioni_raw.csv'\n",
    "PATH_BIKEMI_CLEAN = \"./Data/Clean/Info_bici/bikemi_stazioni_clean.geojson\""
   ]
  },
  {
   "cell_type": "markdown",
   "id": "90226ed3",
   "metadata": {},
   "source": [
    "### ETL"
   ]
  },
  {
   "cell_type": "markdown",
   "id": "11ce2ba6",
   "metadata": {},
   "source": [
    "Leggiamo il file csv Raw"
   ]
  },
  {
   "cell_type": "code",
   "execution_count": null,
   "id": "0b0107f4",
   "metadata": {},
   "outputs": [],
   "source": [
    "gdf = gpd.read_file(PATH_BIKEMI_RAW, sep = ';')"
   ]
  },
  {
   "cell_type": "markdown",
   "id": "d7c67153",
   "metadata": {},
   "source": [
    "Rinominiamo alcune colonne"
   ]
  },
  {
   "cell_type": "code",
   "execution_count": null,
   "id": "336df9bb",
   "metadata": {},
   "outputs": [],
   "source": [
    "gdf = gdf.rename(columns = {'id_amat':'id_stazione',\n",
    "                           'stalli':'n_posti',\n",
    "                           'LONG_X_4326':'longitudine',\n",
    "                           'LAT_Y_4326': 'latitudine',\n",
    "                           'Location':'location'})"
   ]
  },
  {
   "cell_type": "markdown",
   "id": "c68e6b59",
   "metadata": {},
   "source": [
    "Eliminiamo le colonne che non ci servono"
   ]
  },
  {
   "cell_type": "code",
   "execution_count": null,
   "id": "9580f3e7",
   "metadata": {},
   "outputs": [],
   "source": [
    "gdf.drop(['stato', 'id_via', 'indirizzo', 'civico', 'zd_attuale', 'anno', \"tipo\"], axis=1, inplace=True)"
   ]
  },
  {
   "cell_type": "markdown",
   "id": "eaeececd",
   "metadata": {},
   "source": [
    "Aggiungiamo una colonna per l'icona da visualizzare su kepler"
   ]
  },
  {
   "cell_type": "code",
   "execution_count": null,
   "id": "ce2ed705",
   "metadata": {},
   "outputs": [],
   "source": [
    "gdf['icon'] = \"events\""
   ]
  },
  {
   "cell_type": "markdown",
   "id": "a7d15c1c",
   "metadata": {},
   "source": [
    "Convertiamo il csv in geojson"
   ]
  },
  {
   "cell_type": "code",
   "execution_count": 31,
   "id": "dda2b595",
   "metadata": {},
   "outputs": [],
   "source": [
    "geojson = {\n",
    "    \"type\": \"FeatureCollection\",\n",
    "    \"name\": \"\",\n",
    "    \"crs\": {\n",
    "        \"type\": \"name\",\n",
    "        \"properties\": {\n",
    "            \"name\": \"urn:ogc:def:crs:EPSG::6707\"\n",
    "        }\n",
    "    },\n",
    "    \"features\": []\n",
    "}\n",
    "geojson[\"name\"] = \"BikeMi_Stazioni\"\n",
    "for i in gdf.index:\n",
    "    feature = {\n",
    "        \"type\": \"Feature\",\n",
    "        \"properties\": {},\n",
    "        \"geometry\": {\n",
    "            \"type\": \"\",\n",
    "            \"coordinates\": []\n",
    "            }\n",
    "        }\n",
    "    for j in gdf.columns:\n",
    "        if j == \"location\":\n",
    "            feature[\"geometry\"][\"type\"] = \"Point\"\n",
    "            coordinates = gdf.at[i, j].strip(\"(\").strip(\")\").strip().split(\",\")\n",
    "            feature[\"geometry\"][\"coordinates\"].append(float(coordinates[1]))\n",
    "            feature[\"geometry\"][\"coordinates\"].append(float(coordinates[0]))\n",
    "        else:\n",
    "            feature[\"properties\"][j] = gdf.at[i, j]\n",
    "    geojson[\"features\"].append(feature)"
   ]
  },
  {
   "cell_type": "markdown",
   "id": "eb2c8a24",
   "metadata": {},
   "source": [
    "Salviamo il geojson nei Clean"
   ]
  },
  {
   "cell_type": "code",
   "execution_count": null,
   "id": "6c88e420",
   "metadata": {},
   "outputs": [],
   "source": [
    "with open(PATH_BIKEMI_CLEAN, 'w') as file:\n",
    "    json.dump(geojson, file, indent=4)"
   ]
  }
 ],
 "metadata": {
  "kernelspec": {
   "display_name": ".venv",
   "language": "python",
   "name": "python3"
  },
  "language_info": {
   "codemirror_mode": {
    "name": "ipython",
    "version": 3
   },
   "file_extension": ".py",
   "mimetype": "text/x-python",
   "name": "python",
   "nbconvert_exporter": "python",
   "pygments_lexer": "ipython3",
   "version": "3.13.2"
  }
 },
 "nbformat": 4,
 "nbformat_minor": 5
}
