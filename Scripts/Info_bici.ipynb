{
 "cells": [
  {
   "cell_type": "markdown",
   "id": "0a75db66",
   "metadata": {},
   "source": [
    "# Info bici"
   ]
  },
  {
   "cell_type": "code",
   "execution_count": 30,
   "id": "76a32828",
   "metadata": {},
   "outputs": [],
   "source": [
    "import json\n",
    "from shapely import MultiLineString, LineString, Point\n",
    "\n",
    "import geopandas as gpd\n",
    "\n",
    "from my_paths import *"
   ]
  },
  {
   "cell_type": "markdown",
   "id": "e61d6978",
   "metadata": {},
   "source": [
    "## Piste ciclabili"
   ]
  },
  {
   "cell_type": "markdown",
   "id": "c9cf29d0",
   "metadata": {},
   "source": [
    "Carichiamo il file Raw geojson"
   ]
  },
  {
   "cell_type": "code",
   "execution_count": 4,
   "id": "2b615b5e",
   "metadata": {},
   "outputs": [],
   "source": [
    "gdf_ciclabili_raw = gpd.read_file(PATH_CICLABILI_RAW)"
   ]
  },
  {
   "cell_type": "code",
   "execution_count": 51,
   "id": "924458a6",
   "metadata": {},
   "outputs": [],
   "source": [
    "def group_by_id_via_geometry(geos):\n",
    "    new_geo = []\n",
    "    for geo in geos:\n",
    "        new_geo.append(geo)\n",
    "    return MultiLineString(new_geo)"
   ]
  },
  {
   "cell_type": "code",
   "execution_count": 58,
   "id": "656286c9",
   "metadata": {},
   "outputs": [],
   "source": [
    "gdf_ciclabili_staging = gdf_ciclabili_raw.copy()\n",
    "\n",
    "# Convertiamo alcuni tipi\n",
    "gdf_ciclabili_staging[\"geometry\"] = gdf_ciclabili_staging[\"geometry\"].apply(lambda x: x.geoms[0])\n",
    "gdf_ciclabili_staging[\"fine_lavor\"] = gdf_ciclabili_staging[\"fine_lavor\"].astype(int)\n",
    "gdf_ciclabili_staging[\"lunghezza\"] = gdf_ciclabili_staging[\"lunghezza\"].astype(int)\n",
    "\n",
    "\n",
    "gdf_ciclabili_staging = gdf_ciclabili_staging.drop([\"id_amat\", \"gerarchia\"], axis=1)\n",
    "gdf_ciclabili_staging = gdf_ciclabili_staging.groupby(\"id_via\").agg({\n",
    "    \"tipologia\": lambda x: str(set(x)),\n",
    "    \"fine_lavor\": \"max\",\n",
    "    \"lunghezza\": \"sum\",\n",
    "    \"geometry\": group_by_id_via_geometry\n",
    "})\n",
    "gdf_ciclabili_staging = gpd.GeoDataFrame(gdf_ciclabili_staging, geometry=\"geometry\")"
   ]
  },
  {
   "cell_type": "markdown",
   "id": "d580852f",
   "metadata": {},
   "source": [
    "Salviamo il file modificato geojson in Clean"
   ]
  },
  {
   "cell_type": "code",
   "execution_count": 59,
   "id": "5a0ea038",
   "metadata": {},
   "outputs": [
    {
     "name": "stderr",
     "output_type": "stream",
     "text": [
      "c:\\Matteo\\Coding\\Project\\Progetto Esame BI\\.venv\\Lib\\site-packages\\pyogrio\\geopandas.py:710: UserWarning: 'crs' was not provided.  The output dataset will not have projection information defined and may not be usable in other systems.\n",
      "  write(\n"
     ]
    }
   ],
   "source": [
    "gdf_ciclabili_clean = gdf_ciclabili_staging.copy()\n",
    "gdf_ciclabili_clean.to_file(PATH_CICLABILI_CLEAN, driver=\"GeoJSON\")"
   ]
  },
  {
   "cell_type": "markdown",
   "id": "e74d02d0",
   "metadata": {},
   "source": [
    "## Stazioni BikeMi"
   ]
  },
  {
   "cell_type": "code",
   "execution_count": null,
   "id": "336df9bb",
   "metadata": {},
   "outputs": [],
   "source": [
    "gdf = gpd.read_file(PATH_BIKEMI_RAW, sep = ';')\n",
    "gdf = gdf.rename(columns = {'id_amat':'id_stazione',\n",
    "                           'stalli':'n_posti',\n",
    "                           'LONG_X_4326':'longitudine',\n",
    "                           'LAT_Y_4326': 'latitudine',\n",
    "                           'Location':'location'})\n",
    "gdf.drop(['stato', 'id_via', 'indirizzo', 'civico', 'zd_attuale', 'anno', \"tipo\"], axis=1, inplace=True)\n",
    "gdf['icon'] = \"share\"\n",
    "gdf[\"geometry\"] = gdf.apply(lambda row: Point(row['longitudine'], row['latitudine']), axis=1)\n",
    "gdf = gdf.set_geometry(\"geometry\", crs=4326)\n",
    "gdf = gdf.drop(columns=\"location\")"
   ]
  },
  {
   "cell_type": "code",
   "execution_count": 15,
   "id": "909ac5c3",
   "metadata": {},
   "outputs": [],
   "source": [
    "gdf.to_file(PATH_BIKEMI_CLEAN, driver=\"GeoJSON\")"
   ]
  }
 ],
 "metadata": {
  "kernelspec": {
   "display_name": ".venv",
   "language": "python",
   "name": "python3"
  },
  "language_info": {
   "codemirror_mode": {
    "name": "ipython",
    "version": 3
   },
   "file_extension": ".py",
   "mimetype": "text/x-python",
   "name": "python",
   "nbconvert_exporter": "python",
   "pygments_lexer": "ipython3",
   "version": "3.13.2"
  }
 },
 "nbformat": 4,
 "nbformat_minor": 5
}
