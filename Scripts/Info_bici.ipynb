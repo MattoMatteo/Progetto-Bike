{
 "cells": [
  {
   "cell_type": "markdown",
   "id": "0a75db66",
   "metadata": {},
   "source": [
    "# Info bici"
   ]
  },
  {
   "cell_type": "markdown",
   "id": "e61d6978",
   "metadata": {},
   "source": [
    "## Piste ciclabili"
   ]
  },
  {
   "cell_type": "code",
   "execution_count": null,
   "id": "76a32828",
   "metadata": {},
   "outputs": [],
   "source": [
    "import json"
   ]
  },
  {
   "cell_type": "code",
   "execution_count": null,
   "id": "793e7ed0",
   "metadata": {},
   "outputs": [],
   "source": [
    "PATH_CICLABILI_RAW = \"../Data/Raw/Info_bici/bike_ciclabili_raw.geojson\"\n",
    "PATH_CICLABILI_CLEAN = \"../Data/Clean/Info_bici/bike_ciclabili_clean.geojson\""
   ]
  },
  {
   "cell_type": "markdown",
   "id": "0213b41a",
   "metadata": {},
   "source": [
    "### ETL"
   ]
  },
  {
   "cell_type": "markdown",
   "id": "c9cf29d0",
   "metadata": {},
   "source": [
    "Carichiamo il file Raw geojson"
   ]
  },
  {
   "cell_type": "code",
   "execution_count": null,
   "id": "2b615b5e",
   "metadata": {},
   "outputs": [],
   "source": [
    "with open(PATH_CICLABILI_RAW, 'r') as file:\n",
    "    geojson = json.load(file)"
   ]
  },
  {
   "cell_type": "markdown",
   "id": "8bc16a63",
   "metadata": {},
   "source": [
    "Nessuna modifica necessaria al momento"
   ]
  },
  {
   "cell_type": "markdown",
   "id": "d580852f",
   "metadata": {},
   "source": [
    "Salviamo il file modificato geojson in Clean"
   ]
  },
  {
   "cell_type": "code",
   "execution_count": null,
   "id": "6d66511e",
   "metadata": {},
   "outputs": [],
   "source": [
    "with open(PATH_CICLABILI_CLEAN, 'w') as file:\n",
    "    json.dump(geojson, file, indent=4)"
   ]
  },
  {
   "cell_type": "markdown",
   "id": "e74d02d0",
   "metadata": {},
   "source": [
    "## Stazioni BikeMi"
   ]
  },
  {
   "cell_type": "code",
   "execution_count": null,
   "id": "7d18bf54",
   "metadata": {},
   "outputs": [],
   "source": [
    "from shapely import Point\n",
    "\n",
    "import geopandas as gpd"
   ]
  },
  {
   "cell_type": "code",
   "execution_count": 3,
   "id": "6ec20fe9",
   "metadata": {},
   "outputs": [],
   "source": [
    "PATH_BIKEMI_RAW = '../Data/Raw/Info_bici/bikemi_stazioni_raw.csv'\n",
    "PATH_BIKEMI_CLEAN = \"../Data/Clean/Info_bici/bikemi_stazioni_clean.geojson\""
   ]
  },
  {
   "cell_type": "markdown",
   "id": "90226ed3",
   "metadata": {},
   "source": [
    "### ETL"
   ]
  },
  {
   "cell_type": "code",
   "execution_count": 13,
   "id": "336df9bb",
   "metadata": {},
   "outputs": [
    {
     "name": "stderr",
     "output_type": "stream",
     "text": [
      "c:\\Matteo\\Coding\\Project\\Progetto Esame BI\\.venv\\Lib\\site-packages\\pyogrio\\raw.py:198: RuntimeWarning: driver CSV does not support open option SEP\n",
      "  return ogr_read(\n"
     ]
    }
   ],
   "source": [
    "gdf = gpd.read_file(PATH_BIKEMI_RAW, sep = ';')\n",
    "gdf = gdf.rename(columns = {'id_amat':'id_stazione',\n",
    "                           'stalli':'n_posti',\n",
    "                           'LONG_X_4326':'longitudine',\n",
    "                           'LAT_Y_4326': 'latitudine',\n",
    "                           'Location':'location'})\n",
    "gdf.drop(['stato', 'id_via', 'indirizzo', 'civico', 'zd_attuale', 'anno', \"tipo\"], axis=1, inplace=True)\n",
    "gdf['icon'] = \"share\""
   ]
  },
  {
   "cell_type": "code",
   "execution_count": 14,
   "id": "5f449304",
   "metadata": {},
   "outputs": [],
   "source": [
    "gdf[\"geometry\"] = gdf.apply(lambda row: Point(row['longitudine'], row['latitudine']), axis=1)\n",
    "gdf = gdf.set_geometry(\"geometry\", crs=4326)\n",
    "gdf = gdf.drop(columns=\"location\")"
   ]
  },
  {
   "cell_type": "code",
   "execution_count": 15,
   "id": "909ac5c3",
   "metadata": {},
   "outputs": [],
   "source": [
    "gdf.to_file(PATH_BIKEMI_CLEAN, driver=\"GeoJSON\")"
   ]
  }
 ],
 "metadata": {
  "kernelspec": {
   "display_name": ".venv",
   "language": "python",
   "name": "python3"
  },
  "language_info": {
   "codemirror_mode": {
    "name": "ipython",
    "version": 3
   },
   "file_extension": ".py",
   "mimetype": "text/x-python",
   "name": "python",
   "nbconvert_exporter": "python",
   "pygments_lexer": "ipython3",
   "version": "3.13.2"
  }
 },
 "nbformat": 4,
 "nbformat_minor": 5
}
