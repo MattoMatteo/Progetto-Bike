{
 "cells": [
  {
   "cell_type": "markdown",
   "id": "2c3dfd0c",
   "metadata": {},
   "source": [
    "# Qualità ciclabili"
   ]
  },
  {
   "cell_type": "code",
   "execution_count": null,
   "id": "bc62359c",
   "metadata": {},
   "outputs": [],
   "source": [
    "import geopandas as gpd\n",
    "\n",
    "from my_paths import *"
   ]
  },
  {
   "cell_type": "code",
   "execution_count": null,
   "id": "e85e89bd",
   "metadata": {},
   "outputs": [],
   "source": [
    "CRS_GRAD = \"EPSG:4326\"  # Lat-Long\n",
    "CRS_METR = \"EPSG:32632\" # Metri\n",
    "\n",
    "gdf_fontane = gpd.read_file(PATH_FONTANE_CLEAN)\n",
    "gdf_ciclabili = gpd.read_file(PATH_CICLABILI_CLEAN)\n",
    "gdf_parchi = gpd.read_file(PATH_PARCHI_CLEAN)\n",
    "\n",
    "gdf_ciclabili = gdf_ciclabili.to_crs(CRS_METR)\n",
    "gdf_fontane = gdf_fontane.to_crs(CRS_METR)\n",
    "gdf_parchi = gdf_parchi.to_crs(CRS_METR)\n",
    "\n",
    "gdf_fontane_con_buffer = gdf_fontane.buffer(500)\n",
    "gdf_ciclabili = gdf_ciclabili.union_all()\n",
    "gdf_parchi = gdf_parchi.union_all()\n",
    "\n",
    "# Lontane 200m da ciclabili\n",
    "fontanelle_lontane = gdf_fontane[~gdf_fontane_con_buffer.intersects(gdf_ciclabili)]\n",
    "print(len(fontanelle_lontane))\n",
    "\n",
    "# Non in dei parchi\n",
    "fontanelle_lontane = fontanelle_lontane[~gdf_fontane_con_buffer.intersects(gdf_parchi)]\n",
    "print(len(fontanelle_lontane))\n"
   ]
  },
  {
   "cell_type": "code",
   "execution_count": 133,
   "id": "1dbf7d7d",
   "metadata": {},
   "outputs": [],
   "source": [
    "fontanelle_lontane.to_crs(CRS_GRAD).to_file(\"./fontanelle_lontane.geojson\", driver=\"GeoJSON\")"
   ]
  },
  {
   "cell_type": "markdown",
   "id": "c71a1db1",
   "metadata": {},
   "source": [
    "# Sport e tempo libero"
   ]
  },
  {
   "cell_type": "code",
   "execution_count": 144,
   "id": "d5fab476",
   "metadata": {},
   "outputs": [],
   "source": [
    "import requests\n",
    "import json\n",
    "from shapely import LineString, MultiLineString, Point\n",
    "from shapely.ops import nearest_points\n",
    "\n",
    "import geopandas as gpd\n",
    "import polyline\n",
    "\n",
    "from my_paths import *"
   ]
  },
  {
   "cell_type": "code",
   "execution_count": 145,
   "id": "402c2d16",
   "metadata": {},
   "outputs": [],
   "source": [
    "PATH_ANALISI_TEST_CLEAN = \"../Data/Clean/Analisi/test.geojson\""
   ]
  },
  {
   "cell_type": "markdown",
   "id": "bdea4c51",
   "metadata": {},
   "source": [
    "Carico le api key da file"
   ]
  },
  {
   "cell_type": "code",
   "execution_count": 146,
   "id": "603d0567",
   "metadata": {},
   "outputs": [],
   "source": [
    "PATH_API_KEY = \"../Google_api_credentials/api_key_maps.json\"\n",
    "with open(PATH_API_KEY) as file: \n",
    "    API_KEY_GOOGLE = json.load(file)[\"key\"]"
   ]
  },
  {
   "cell_type": "code",
   "execution_count": 171,
   "id": "08446286",
   "metadata": {},
   "outputs": [],
   "source": [
    "gdf_ciclabili = gpd.read_file(PATH_CICLABILI_CLEAN)\n",
    "gdf_bikemi = gpd.read_file(PATH_BIKEMI_CLEAN)\n",
    "gdf_parchi = gpd.read_file(PATH_PARCHI_CLEAN)\n",
    "gdf_biblioteche = gpd.read_file(PATH_BIBLIOTECHE_CLEAN)\n",
    "gdf_impianti_sportivi = gpd.read_file(PATH_IMPIANTI_SPORTIVI_CLEAN)\n",
    "gdf_fontane = gpd.read_file(PATH_FONTANE_CLEAN)\n",
    "gdf_inquinamento = gpd.read_file(PATH_INQUINAMENTO_INGESTION_CLEAN)"
   ]
  },
  {
   "cell_type": "markdown",
   "id": "8e6ac9e6",
   "metadata": {},
   "source": [
    "Per eseguire operazioni di misurazione di distanze è meglio utilizzare crs metrico. Visto che i dataframe sono salvati con crs di tipo angolare (lat e long), li dobbiamo prima convertire."
   ]
  },
  {
   "cell_type": "code",
   "execution_count": 148,
   "id": "7500f9f9",
   "metadata": {},
   "outputs": [],
   "source": [
    "CRS_GRAD = \"EPSG:4326\"  # Lat-Long\n",
    "CRS_METR = \"EPSG:32632\" # Metri"
   ]
  },
  {
   "cell_type": "markdown",
   "id": "aa449038",
   "metadata": {},
   "source": [
    "## Parchi Isolati"
   ]
  },
  {
   "cell_type": "code",
   "execution_count": 149,
   "id": "6251f214",
   "metadata": {},
   "outputs": [],
   "source": [
    "gdf_ciclabili = gdf_ciclabili.to_crs(CRS_METR)\n",
    "gdf_parchi = gdf_parchi.to_crs(CRS_METR)"
   ]
  },
  {
   "cell_type": "markdown",
   "id": "5ed21d16",
   "metadata": {},
   "source": [
    "Creiamo un \"buffer\" di contorno alle Multylinestring delle piste ciclabili (gli diamo spessore). Si è deciso per ora di  \n",
    "impostare 200 --> 200 metri. Da verificare se modificare.  \n",
    "Il buffer verrà usato per trovare intersezioni con le geometrie dei parchi.  \n",
    "Il nuovo GeoDataFrame avrà tutti i parchi che NON si intersecano con le piste ciclabili."
   ]
  },
  {
   "cell_type": "code",
   "execution_count": 150,
   "id": "0886c78f",
   "metadata": {},
   "outputs": [
    {
     "name": "stdout",
     "output_type": "stream",
     "text": [
      "14\n"
     ]
    }
   ],
   "source": [
    "gdf_ciclabili_buffer = gdf_ciclabili.buffer(200).union_all()\n",
    "parchi_non_vicini = gdf_parchi[~gdf_parchi.geometry.intersects(gdf_ciclabili_buffer)]\n",
    "print(len(parchi_non_vicini))"
   ]
  },
  {
   "cell_type": "markdown",
   "id": "f17856c5",
   "metadata": {},
   "source": [
    "Trovati i parchi da \"servire\" con nuove ipotetiche piste ciclabili, andiamo a cercare i 2 punti più vicini tra la geometria delle piste ciclabili e i parchi. Scrorriamo quindi il dataframe dei parchi e facciamo la \"nearest_points\" delle due geometrie."
   ]
  },
  {
   "cell_type": "code",
   "execution_count": 151,
   "id": "eb36ebc9",
   "metadata": {},
   "outputs": [],
   "source": [
    "# Unisco tutte le piste ciclabili in un unica sola.  \n",
    "gdf_ciclabili_unite = gpd.GeoDataFrame([gdf_ciclabili.union_all()], columns=[\"geometry\"], crs=CRS_METR)\n",
    "\n",
    "# Lista per raccogliere risultati\n",
    "risultati = []\n",
    "\n",
    "for idx_parco, parco in parchi_non_vicini.iterrows():\n",
    "    # Trova i due punti più vicini tra geometria del parco e del tratto\n",
    "    punto_parco, punto_ciclabile = nearest_points(parco[\"geometry\"], gdf_ciclabili_unite[\"geometry\"][0])\n",
    "    percorso = LineString([punto_parco, punto_ciclabile])\n",
    "\n",
    "    # Salva risultato\n",
    "    risultati.append({\n",
    "        'id_parco': parco[\"PARCO\"],\n",
    "        'distanza': percorso.length,\n",
    "        'geometry': percorso\n",
    "    })\n",
    "\n",
    "# Crea GeoDataFrame del risultato\n",
    "df_risultati_parchi = gpd.GeoDataFrame(risultati, geometry='geometry', crs=CRS_METR)"
   ]
  },
  {
   "cell_type": "markdown",
   "id": "ed333ab4",
   "metadata": {},
   "source": [
    "Dichiaro la funzione che utilizzeremo per trovare il percorso in bici tra i due punti grazie alle API di google maps."
   ]
  },
  {
   "cell_type": "code",
   "execution_count": 152,
   "id": "1c36f418",
   "metadata": {},
   "outputs": [],
   "source": [
    "def richiedi_percorso_google(origin:tuple[float, float], dest:tuple[float, float], api_key:str, mode:str = \"walking\"):\n",
    "    \"\"\"\n",
    "    Restituisce una Multylinestring del percorso da punto A (origin) a punto B (dest).\n",
    "\n",
    "    Args:\n",
    "        origin (tuple[float, float]): Coordinate punto di partenza in formato: [Latitudine, Longitudine].\n",
    "        dest (tuple[float, float]): Coordinate punto di arrivo in formato: [Latitudine, Longitudine].\n",
    "        api_key (str): API_KEY di google maps per effettuare la richiesta.\n",
    "        mode (str): Mezzo di trasporto da utilizzare per il calcolo: \"driving\", \"walking\", \"bicycling\", \"transit\".\n",
    "                    \"walking\" verrà utilizzato di deafult.\n",
    "    Returns:\n",
    "        Multylinestring: Del tipo: [ [Longitudine, Latitudine], [Longitudine, Latitudine] ]. N.B: Sono inverse rispetto\n",
    "                                    al formato dato in input, già pronte per kepler (google le usa al contrario).\n",
    "    \"\"\"\n",
    "\n",
    "    outputFormat = \"json\"   # Usiamo sempre questo\n",
    "    origin_str = f\"{origin[1]},{origin[0]}\"\n",
    "    dest_str = f\"{dest[1]},{dest[0]}\"\n",
    "    parameters = f\"origin={origin_str}&destination={dest_str}&key={api_key}\"\n",
    "    url_API_directions = f\"https://maps.googleapis.com/maps/api/directions/{outputFormat}?{parameters}&mode={mode}\"\n",
    "\n",
    "    risposta_json = requests.get(url_API_directions).json()\n",
    "    coordinates = polyline.decode(risposta_json['routes'][0]['overview_polyline']['points'])\n",
    "    coordinates = [[x[1], x[0]] for x in coordinates]\n",
    "    return LineString(coordinates)"
   ]
  },
  {
   "cell_type": "markdown",
   "id": "cd9db72c",
   "metadata": {},
   "source": [
    "Trovo quindi le nuove geometrie dei percorsi di google maps e li vado a sostituire alla sua vecchia geometria che era riferita ai \"nearest_points\""
   ]
  },
  {
   "cell_type": "code",
   "execution_count": 153,
   "id": "6609fba2",
   "metadata": {},
   "outputs": [],
   "source": [
    "df_risultati_parchi = df_risultati_parchi.to_crs(CRS_GRAD)    # Google accetta lat-long\n",
    "df_risultati_parchi[\"geometry\"] = df_risultati_parchi[\"geometry\"].apply(\n",
    "    lambda x: richiedi_percorso_google(origin=x.coords[0],\n",
    "                                      dest=x.coords[1],\n",
    "                                      api_key=API_KEY_GOOGLE,\n",
    "                                      mode=\"walking\"))"
   ]
  },
  {
   "cell_type": "markdown",
   "id": "906385c7",
   "metadata": {},
   "source": [
    "Facciamo una eliminazione delle sovrapposizioni delle \"nuove ciclabili\" con quelle già esistenti per cercare di avere solo le nuove effettive piste da costruire.  \n",
    "Per farlo bisogna lavorare di nuovo con il sistema \"EPSG:32632\" (metrico) e ci aiutiamo con un piccolo buffer (10 metri) sulle ciclabili.  \n",
    "Per farlo si usa la funzione .difference delle Multilinestring."
   ]
  },
  {
   "cell_type": "code",
   "execution_count": 154,
   "id": "0b2323ff",
   "metadata": {},
   "outputs": [],
   "source": [
    "df_risultati_parchi = df_risultati_parchi.to_crs(CRS_METR)    # Confronto geometrico usiamo metri\n",
    "\n",
    "gpf_ciclabili_uniti_con_buffer = gdf_ciclabili.buffer(10).union_all()\n",
    "\n",
    "df_risultati_parchi['geometry'] = df_risultati_parchi[\"geometry\"].apply(\n",
    "    lambda geom: geom.difference(gpf_ciclabili_uniti_con_buffer))\n",
    "\n",
    "gdf_parchi_uniti = gdf_parchi.buffer(0.1).union_all()   # buffer minimo dovrebbe aiutare la precisione della difference\n",
    "df_risultati_parchi['geometry'] = df_risultati_parchi[\"geometry\"].apply(\n",
    "    lambda geom: geom.difference(gdf_parchi_uniti))\n",
    "\n",
    "# Aggiorno anche la lunghezza della ciclabile\n",
    "df_risultati_parchi['lunghezza'] = df_risultati_parchi['geometry'].apply(lambda x: x.length)"
   ]
  },
  {
   "cell_type": "markdown",
   "id": "f374c6a7",
   "metadata": {},
   "source": [
    "## Impianti sportivi"
   ]
  },
  {
   "cell_type": "code",
   "execution_count": 176,
   "id": "123cbe90",
   "metadata": {},
   "outputs": [
    {
     "name": "stdout",
     "output_type": "stream",
     "text": [
      "72\n"
     ]
    }
   ],
   "source": [
    "gdf_ciclabili_buffer = gdf_ciclabili.to_crs(CRS_METR).buffer(200).union_all()\n",
    "impianti_lontani = gdf_impianti_sportivi[~gdf_impianti_sportivi.to_crs(CRS_METR).geometry.intersects(gdf_ciclabili_buffer)]\n",
    "impianti_lontani = impianti_lontani[~impianti_lontani.geometry.intersects(gdf_parchi.union_all())]\n",
    "\n",
    "print(len(impianti_lontani))"
   ]
  },
  {
   "cell_type": "code",
   "execution_count": 177,
   "id": "bd4e2c75",
   "metadata": {},
   "outputs": [],
   "source": [
    "impianti_lontani.to_file(\"../Data/Clean/Analisi/Impianti_lontani.geojson\", driver=\"GeoJSON\")"
   ]
  },
  {
   "cell_type": "markdown",
   "id": "f65a969f",
   "metadata": {},
   "source": [
    "# Google API Monitor"
   ]
  },
  {
   "cell_type": "markdown",
   "id": "7e37c522",
   "metadata": {},
   "source": [
    "Da usare ogni tanto per monitorare le chiamate api consumate.  \n",
    "Difficilmente supereremo le 10k chiamate però non si sa mai.\n",
    "\n",
    "N.B: Anche questa operazione ha un numero di chiamate limitate anche se non ho capito qual é ma facendola ogni tanto non mi preoccupo."
   ]
  },
  {
   "cell_type": "code",
   "execution_count": null,
   "id": "f77d8f61",
   "metadata": {},
   "outputs": [],
   "source": [
    "from google.cloud import monitoring_v3\n",
    "from datetime import datetime, timezone"
   ]
  },
  {
   "cell_type": "code",
   "execution_count": null,
   "id": "cc91caaa",
   "metadata": {},
   "outputs": [],
   "source": [
    "PATH_SERVICE_ACCOUNT = \"../Google_api_credentials/service_account.json\""
   ]
  },
  {
   "cell_type": "code",
   "execution_count": null,
   "id": "b961c42a",
   "metadata": {},
   "outputs": [
    {
     "name": "stdout",
     "output_type": "stream",
     "text": [
      "Totale chiamate Maps API: 218\n"
     ]
    }
   ],
   "source": [
    "client = monitoring_v3.MetricServiceClient.from_service_account_file(PATH_SERVICE_ACCOUNT)\n",
    "project_id = \"progetto-bike-aida\"\n",
    "project_name = f\"projects/{project_id}\"\n",
    "\n",
    "start = datetime(2025, 7, 27)   # Data inizio utilizzo delle api\n",
    "end = datetime.now(timezone.utc)\n",
    "\n",
    "interval = monitoring_v3.TimeInterval({\n",
    "    \"start_time\": {\"seconds\": int(start.timestamp())},\n",
    "    \"end_time\": {\"seconds\": int(end.timestamp())},\n",
    "})\n",
    "\n",
    "results = client.list_time_series(\n",
    "    request={\n",
    "        \"name\": project_name,\n",
    "        \"filter\": 'metric.type = \"maps.googleapis.com/service/v2/request_count\"',\n",
    "        \"interval\": interval,\n",
    "        \"aggregation\": {\n",
    "            \"alignment_period\": {\"seconds\": 86400},\n",
    "            \"per_series_aligner\": monitoring_v3.Aggregation.Aligner.ALIGN_SUM,\n",
    "        },\n",
    "        \"view\": monitoring_v3.ListTimeSeriesRequest.TimeSeriesView.FULL,\n",
    "    }\n",
    ")\n",
    "\n",
    "total = 0\n",
    "for time_series in results:\n",
    "    for point in time_series.points:\n",
    "        total += point.value.int64_value\n",
    "\n",
    "print(f\"Totale chiamate Maps API: {total}\")"
   ]
  }
 ],
 "metadata": {
  "kernelspec": {
   "display_name": ".venv",
   "language": "python",
   "name": "python3"
  },
  "language_info": {
   "codemirror_mode": {
    "name": "ipython",
    "version": 3
   },
   "file_extension": ".py",
   "mimetype": "text/x-python",
   "name": "python",
   "nbconvert_exporter": "python",
   "pygments_lexer": "ipython3",
   "version": "3.13.2"
  }
 },
 "nbformat": 4,
 "nbformat_minor": 5
}
