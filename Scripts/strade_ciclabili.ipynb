{
 "cells": [
  {
   "cell_type": "code",
   "execution_count": 19,
   "id": "c8de0a00",
   "metadata": {},
   "outputs": [
    {
     "name": "stdout",
     "output_type": "stream",
     "text": [
      "Requirement already satisfied: networkx in c:\\users\\apera\\onedrive\\documenti\\progetti\\progetto-bike\\.venv\\lib\\site-packages (3.5)\n",
      "Collecting osmnx\n",
      "  Using cached osmnx-2.0.5-py3-none-any.whl.metadata (4.9 kB)\n",
      "Requirement already satisfied: geopandas>=1.0.1 in c:\\users\\apera\\onedrive\\documenti\\progetti\\progetto-bike\\.venv\\lib\\site-packages (from osmnx) (1.1.1)\n",
      "Requirement already satisfied: networkx>=2.5 in c:\\users\\apera\\onedrive\\documenti\\progetti\\progetto-bike\\.venv\\lib\\site-packages (from osmnx) (3.5)\n",
      "Requirement already satisfied: numpy>=1.22 in c:\\users\\apera\\onedrive\\documenti\\progetti\\progetto-bike\\.venv\\lib\\site-packages (from osmnx) (2.3.1)\n",
      "Requirement already satisfied: pandas>=1.4 in c:\\users\\apera\\onedrive\\documenti\\progetti\\progetto-bike\\.venv\\lib\\site-packages (from osmnx) (2.3.1)\n",
      "Requirement already satisfied: requests>=2.27 in c:\\users\\apera\\onedrive\\documenti\\progetti\\progetto-bike\\.venv\\lib\\site-packages (from osmnx) (2.32.4)\n",
      "Requirement already satisfied: shapely>=2.0 in c:\\users\\apera\\onedrive\\documenti\\progetti\\progetto-bike\\.venv\\lib\\site-packages (from osmnx) (2.1.1)\n",
      "Requirement already satisfied: pyogrio>=0.7.2 in c:\\users\\apera\\onedrive\\documenti\\progetti\\progetto-bike\\.venv\\lib\\site-packages (from geopandas>=1.0.1->osmnx) (0.11.0)\n",
      "Requirement already satisfied: packaging in c:\\users\\apera\\onedrive\\documenti\\progetti\\progetto-bike\\.venv\\lib\\site-packages (from geopandas>=1.0.1->osmnx) (25.0)\n",
      "Requirement already satisfied: pyproj>=3.5.0 in c:\\users\\apera\\onedrive\\documenti\\progetti\\progetto-bike\\.venv\\lib\\site-packages (from geopandas>=1.0.1->osmnx) (3.7.1)\n",
      "Requirement already satisfied: python-dateutil>=2.8.2 in c:\\users\\apera\\onedrive\\documenti\\progetti\\progetto-bike\\.venv\\lib\\site-packages (from pandas>=1.4->osmnx) (2.9.0.post0)\n",
      "Requirement already satisfied: pytz>=2020.1 in c:\\users\\apera\\onedrive\\documenti\\progetti\\progetto-bike\\.venv\\lib\\site-packages (from pandas>=1.4->osmnx) (2025.2)\n",
      "Requirement already satisfied: tzdata>=2022.7 in c:\\users\\apera\\onedrive\\documenti\\progetti\\progetto-bike\\.venv\\lib\\site-packages (from pandas>=1.4->osmnx) (2025.2)\n",
      "Requirement already satisfied: certifi in c:\\users\\apera\\onedrive\\documenti\\progetti\\progetto-bike\\.venv\\lib\\site-packages (from pyogrio>=0.7.2->geopandas>=1.0.1->osmnx) (2025.7.9)\n",
      "Requirement already satisfied: six>=1.5 in c:\\users\\apera\\onedrive\\documenti\\progetti\\progetto-bike\\.venv\\lib\\site-packages (from python-dateutil>=2.8.2->pandas>=1.4->osmnx) (1.17.0)\n",
      "Requirement already satisfied: charset_normalizer<4,>=2 in c:\\users\\apera\\onedrive\\documenti\\progetti\\progetto-bike\\.venv\\lib\\site-packages (from requests>=2.27->osmnx) (3.4.2)\n",
      "Requirement already satisfied: idna<4,>=2.5 in c:\\users\\apera\\onedrive\\documenti\\progetti\\progetto-bike\\.venv\\lib\\site-packages (from requests>=2.27->osmnx) (3.10)\n",
      "Requirement already satisfied: urllib3<3,>=1.21.1 in c:\\users\\apera\\onedrive\\documenti\\progetti\\progetto-bike\\.venv\\lib\\site-packages (from requests>=2.27->osmnx) (2.5.0)\n",
      "Using cached osmnx-2.0.5-py3-none-any.whl (101 kB)\n",
      "Installing collected packages: osmnx\n",
      "Successfully installed osmnx-2.0.5\n"
     ]
    }
   ],
   "source": [
    "!pip install networkx\n",
    "!pip install osmnx"
   ]
  },
  {
   "cell_type": "code",
   "execution_count": 42,
   "id": "2e4bc86a",
   "metadata": {},
   "outputs": [],
   "source": [
    "import pickle\n",
    "import networkx as nx\n",
    "import osmnx as ox\n",
    "import geopandas\n",
    "import numpy as np"
   ]
  },
  {
   "cell_type": "code",
   "execution_count": 16,
   "id": "23587018",
   "metadata": {},
   "outputs": [
    {
     "name": "stderr",
     "output_type": "stream",
     "text": [
      "<>:1: SyntaxWarning: invalid escape sequence '\\D'\n",
      "<>:1: SyntaxWarning: invalid escape sequence '\\D'\n",
      "C:\\Users\\apera\\AppData\\Local\\Temp\\ipykernel_26404\\2585337373.py:1: SyntaxWarning: invalid escape sequence '\\D'\n",
      "  with open('..\\Data\\Raw\\Info_bici\\strade_ciclabili.pickle', 'rb') as x:\n"
     ]
    }
   ],
   "source": [
    "with open('..\\Data\\Raw\\Info_bici\\strade_ciclabili.pickle', 'rb') as x:    \n",
    "    G = (pickle.load(x))"
   ]
  },
  {
   "cell_type": "code",
   "execution_count": 23,
   "id": "6d9269e2",
   "metadata": {},
   "outputs": [],
   "source": [
    "gdf = ox.graph_to_gdfs(G, nodes=False)"
   ]
  },
  {
   "cell_type": "code",
   "execution_count": 27,
   "id": "29996ce8",
   "metadata": {},
   "outputs": [
    {
     "data": {
      "text/plain": [
       "highway\n",
       "footway                           178673\n",
       "service                            36722\n",
       "residential                        25568\n",
       "unclassified                       14866\n",
       "pedestrian                          9803\n",
       "                                   ...  \n",
       "[platform, steps]                      1\n",
       "[service, living_street]               1\n",
       "[living_street, service]               1\n",
       "[steps, unclassified, footway]         1\n",
       "[steps, platform]                      1\n",
       "Name: count, Length: 114, dtype: int64"
      ]
     },
     "execution_count": 27,
     "metadata": {},
     "output_type": "execute_result"
    }
   ],
   "source": [
    "gdf.head\n",
    "gdf[\"highway\"].value_counts()"
   ]
  },
  {
   "cell_type": "code",
   "execution_count": 32,
   "id": "905fdb25",
   "metadata": {},
   "outputs": [
    {
     "data": {
      "text/plain": [
       "81"
      ]
     },
     "execution_count": 32,
     "metadata": {},
     "output_type": "execute_result"
    }
   ],
   "source": [
    "gdf_motorways = gdf[(gdf[\"highway\"] == \"motorway\")]\n",
    "len(gdf_motorways)"
   ]
  },
  {
   "cell_type": "code",
   "execution_count": 34,
   "id": "a60a6402",
   "metadata": {},
   "outputs": [
    {
     "name": "stdout",
     "output_type": "stream",
     "text": [
      "311\n"
     ]
    }
   ],
   "source": [
    "gdf_motorways = gdf[(gdf[\"highway\"] == \"motorway\") | (gdf[\"highway\"] == \"motorway_link\")]\n",
    "\n",
    "print(len(gdf_motorways))  # Mostra il numero di righe\n",
    "\n",
    "# Salva in GeoJSON\n",
    "gdf_motorways.to_file('..\\\\Data\\\\Raw\\\\Info_bici\\\\strade_motorway.geojson', driver='GeoJSON')"
   ]
  },
  {
   "cell_type": "code",
   "execution_count": 38,
   "id": "21f55516",
   "metadata": {},
   "outputs": [
    {
     "name": "stdout",
     "output_type": "stream",
     "text": [
      "106\n"
     ]
    }
   ],
   "source": [
    "gdf_trunks = gdf[(gdf[\"highway\"] == \"trunk\") | (gdf[\"highway\"] == \"trunk_link\")]\n",
    "\n",
    "print(len(gdf_trunks))  # Mostra il numero di righe\n",
    "\n",
    "# Salva in GeoJSON\n",
    "gdf_trunks.to_file('..\\\\Data\\\\Raw\\\\Info_bici\\\\strade_trunk.geojson', driver='GeoJSON')"
   ]
  },
  {
   "cell_type": "code",
   "execution_count": 47,
   "id": "049ba3cd",
   "metadata": {},
   "outputs": [
    {
     "name": "stdout",
     "output_type": "stream",
     "text": [
      "2435\n"
     ]
    }
   ],
   "source": [
    "gdf_primary = gdf[(gdf[\"highway\"] == \"primary\") | (gdf[\"highway\"] == \"primary_link\")]\n",
    "\n",
    "\n",
    "print(len(gdf_primary))  # Mostra il numero di righe\n",
    "\n",
    "# Salva in GeoJSON\n",
    "gdf_primary.to_file('..\\\\Data\\\\Raw\\\\Info_bici\\\\strade_primary.geojson', driver='GeoJSON')\n"
   ]
  },
  {
   "cell_type": "code",
   "execution_count": 44,
   "id": "d79dd18c",
   "metadata": {},
   "outputs": [],
   "source": [
    "# Sostituisci i None con np.nan nel GeoDataFrame primario\n",
    "gdf_primary.loc[:, \"maxspeed\"] = gdf_primary[\"maxspeed\"].replace({None: np.nan})\n",
    "\n",
    "# Filtra solo le righe con maxspeed mancante\n",
    "gdf_null_maxspeed = gdf_primary[gdf_primary[\"maxspeed\"].isna()]\n",
    "\n",
    "# Salva su file GeoJSON\n",
    "gdf_null_maxspeed.to_file('..\\\\Data\\\\Raw\\\\Info_bici\\\\strade_primary_null.geojson', driver='GeoJSON')\n"
   ]
  },
  {
   "cell_type": "code",
   "execution_count": 48,
   "id": "5a5fbb2d",
   "metadata": {},
   "outputs": [
    {
     "name": "stdout",
     "output_type": "stream",
     "text": [
      "178673\n"
     ]
    }
   ],
   "source": [
    "gdf_footway = gdf[(gdf[\"highway\"] == \"footway\")]\n",
    "\n",
    "\n",
    "print(len(gdf_footway))  # Mostra il numero di righe\n",
    "\n",
    "# Salva in GeoJSON\n",
    "gdf_primary.to_file('..\\\\Data\\\\Raw\\\\Info_bici\\\\strade_footway.geojson', driver='GeoJSON')\n"
   ]
  }
 ],
 "metadata": {
  "kernelspec": {
   "display_name": ".venv",
   "language": "python",
   "name": "python3"
  },
  "language_info": {
   "codemirror_mode": {
    "name": "ipython",
    "version": 3
   },
   "file_extension": ".py",
   "mimetype": "text/x-python",
   "name": "python",
   "nbconvert_exporter": "python",
   "pygments_lexer": "ipython3",
   "version": "3.13.5"
  }
 },
 "nbformat": 4,
 "nbformat_minor": 5
}
