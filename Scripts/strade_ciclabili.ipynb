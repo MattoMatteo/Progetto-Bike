{
 "cells": [
  {
   "cell_type": "code",
   "execution_count": null,
   "id": "c8de0a00",
   "metadata": {},
   "outputs": [],
   "source": [
    "!pip install networkx\n",
    "!pip install osmnx"
   ]
  },
  {
   "cell_type": "code",
   "execution_count": 42,
   "id": "2e4bc86a",
   "metadata": {},
   "outputs": [],
   "source": [
    "import pickle\n",
    "import networkx as nx\n",
    "import osmnx as ox\n",
    "import geopandas\n",
    "import numpy as np"
   ]
  },
  {
   "cell_type": "code",
   "execution_count": null,
   "id": "23587018",
   "metadata": {},
   "outputs": [],
   "source": [
    "with open('..\\Data\\Raw\\Info_bici\\strade_ciclabili.pickle', 'rb') as x:    \n",
    "    G = (pickle.load(x))"
   ]
  },
  {
   "cell_type": "code",
   "execution_count": 23,
   "id": "6d9269e2",
   "metadata": {},
   "outputs": [],
   "source": [
    "gdf = ox.graph_to_gdfs(G, nodes=False)"
   ]
  },
  {
   "cell_type": "code",
   "execution_count": null,
   "id": "29996ce8",
   "metadata": {},
   "outputs": [],
   "source": [
    "gdf.head\n",
    "gdf[\"highway\"].value_counts()"
   ]
  },
  {
   "cell_type": "code",
   "execution_count": 32,
   "id": "905fdb25",
   "metadata": {},
   "outputs": [
    {
     "data": {
      "text/plain": [
       "81"
      ]
     },
     "execution_count": 32,
     "metadata": {},
     "output_type": "execute_result"
    }
   ],
   "source": [
    "gdf_motorways = gdf[(gdf[\"highway\"] == \"motorway\")]\n",
    "len(gdf_motorways)"
   ]
  },
  {
   "cell_type": "code",
   "execution_count": 34,
   "id": "a60a6402",
   "metadata": {},
   "outputs": [
    {
     "name": "stdout",
     "output_type": "stream",
     "text": [
      "311\n"
     ]
    }
   ],
   "source": [
    "gdf_motorways = gdf[(gdf[\"highway\"] == \"motorway\") | (gdf[\"highway\"] == \"motorway_link\")]\n",
    "\n",
    "print(len(gdf_motorways))  # Mostra il numero di righe\n",
    "\n",
    "# Salva in GeoJSON\n",
    "gdf_motorways.to_file('..\\\\Data\\\\Raw\\\\Info_bici\\\\strade_motorway.geojson', driver='GeoJSON')"
   ]
  },
  {
   "cell_type": "code",
   "execution_count": 38,
   "id": "21f55516",
   "metadata": {},
   "outputs": [
    {
     "name": "stdout",
     "output_type": "stream",
     "text": [
      "106\n"
     ]
    }
   ],
   "source": [
    "gdf_trunks = gdf[(gdf[\"highway\"] == \"trunk\") | (gdf[\"highway\"] == \"trunk_link\")]\n",
    "\n",
    "print(len(gdf_trunks))  # Mostra il numero di righe\n",
    "\n",
    "# Salva in GeoJSON\n",
    "gdf_trunks.to_file('..\\\\Data\\\\Raw\\\\Info_bici\\\\strade_trunk.geojson', driver='GeoJSON')"
   ]
  },
  {
   "cell_type": "code",
   "execution_count": null,
   "id": "049ba3cd",
   "metadata": {},
   "outputs": [],
   "source": [
    "gdf_primary = gdf[(gdf[\"highway\"] == \"primary\") | (gdf[\"highway\"] == \"primary_link\")]\n",
    "\n",
    "\n",
    "print(len(gdf_primary))  # Mostra il numero di righe\n",
    "\n",
    "# Salva in GeoJSON\n",
    "gdf_primary.to_file('..\\\\Data\\\\Raw\\\\Info_bici\\\\strade_primary.geojson', driver='GeoJSON')\n"
   ]
  },
  {
   "cell_type": "code",
   "execution_count": 44,
   "id": "d79dd18c",
   "metadata": {},
   "outputs": [],
   "source": [
    "# Sostituisci i None con np.nan nel GeoDataFrame primario\n",
    "gdf_primary.loc[:, \"maxspeed\"] = gdf_primary[\"maxspeed\"].replace({None: np.nan})\n",
    "\n",
    "# Filtra solo le righe con maxspeed mancante\n",
    "gdf_null_maxspeed = gdf_primary[gdf_primary[\"maxspeed\"].isna()]\n",
    "\n",
    "# Salva su file GeoJSON\n",
    "gdf_null_maxspeed.to_file('..\\\\Data\\\\Raw\\\\Info_bici\\\\strade_primary_null.geojson', driver='GeoJSON')\n"
   ]
  },
  {
   "cell_type": "code",
   "execution_count": null,
   "id": "5a5fbb2d",
   "metadata": {},
   "outputs": [],
   "source": [
    "gdf_footway = gdf[(gdf[\"highway\"] == \"footway\")]\n",
    "\n",
    "\n",
    "print(len(gdf_footway))  # Mostra il numero di righe\n",
    "\n",
    "# Salva in GeoJSON\n",
    "gdf_primary.to_file('..\\\\Data\\\\Raw\\\\Info_bici\\\\strade_footway.geojson', driver='GeoJSON')\n"
   ]
  },
  {
   "cell_type": "code",
   "execution_count": null,
   "id": "3589f60e",
   "metadata": {},
   "outputs": [],
   "source": [
    "# Strade Secondary\n",
    "\n",
    "gdf_secondary = gdf[(gdf[\"highway\"] == \"secondary\")]\n",
    "len(gdf_secondary)\n",
    "print(gdf[gdf[\"highway\"] == \"secondary\"].isna().sum())\n",
    "\n",
    "gdf_secondary = gdf[(gdf[\"highway\"] == \"secondary\") | (gdf[\"highway\"] == \"secondary_link\")]\n",
    "\n",
    "print(len(gdf_secondary))  # Mostra il numero di righe\n",
    "\n",
    "# Salva in GeoJSON\n",
    "gdf_secondary.to_file(\"..\\\\Data\\\\Raw\\\\Info_bici\\\\strade_secondary.geojson\", driver='GeoJSON')"
   ]
  },
  {
   "cell_type": "code",
   "execution_count": null,
   "id": "73f3f9f4",
   "metadata": {},
   "outputs": [],
   "source": [
    "# Strade Tertiary\n",
    "\n",
    "gdf_tertiary = gdf[(gdf[\"highway\"] == \"tertiary\")]\n",
    "len(gdf_secondary)\n",
    "print(gdf[gdf[\"highway\"] == \"tertiary\"].isna().sum())\n",
    "\n",
    "gdf_tertiary = gdf[(gdf[\"highway\"] == \"tertiary\") | (gdf[\"highway\"] == \"tertiary_link\")]\n",
    "\n",
    "# Salva in GeoJSON\n",
    "gdf_tertiary.to_file(\"..\\\\Data\\\\Raw\\\\Info_bici\\\\strade_tertiary.geojson\", driver='GeoJSON')"
   ]
  },
  {
   "cell_type": "code",
   "execution_count": null,
   "id": "c6d93b91",
   "metadata": {},
   "outputs": [],
   "source": [
    "# Residential\n",
    "\n",
    "gdf_residential = gdf[(gdf[\"highway\"] == \"residential\")]\n",
    "print(gdf[gdf[\"highway\"] == \"residential\"].isna().sum())\n",
    "\n",
    "print(len(gdf_secondary))  # Mostra il numero di righe\n",
    "\n",
    "# Salva in GeoJSON\n",
    "gdf_residential.to_file(\"..\\\\Data\\\\Raw\\\\Info_bici\\\\strade_residential.geojson\", driver='GeoJSON')"
   ]
  },
  {
   "cell_type": "code",
   "execution_count": null,
   "id": "60c75e07",
   "metadata": {},
   "outputs": [],
   "source": [
    "# Service\n",
    "\n",
    "gdf_service = gdf[(gdf[\"highway\"] == \"service\")]\n",
    "print(gdf[gdf[\"highway\"] == \"service\"].isna().sum())\n",
    "\n",
    "print(len(gdf_service))  # Mostra il numero di righe\n",
    "\n",
    "# Salva in GeoJSON\n",
    "gdf_service.to_file(\"..\\\\Data\\\\Raw\\\\Info_bici\\\\strade_service.geojson\", driver='GeoJSON')"
   ]
  },
  {
   "cell_type": "code",
   "execution_count": null,
   "id": "a469e4df",
   "metadata": {},
   "outputs": [],
   "source": [
    "# Creazione geodataframe manuale\n",
    "\n",
    "import json\n",
    "import geopandas as gpd\n",
    "from shapely.geometry import shape\n",
    "import numpy as np\n",
    "\n",
    "# Carica il GeoJSON come dizionario\n",
    "with open(\"Data/Staging/Info_bici/strade_ciclabili.geojson\", \"r\", encoding=\"utf-8\") as f:\n",
    "    data = json.load(f)\n",
    "\n",
    "# Costruisci il GeoDataFrame manualmente\n",
    "features = data[\"features\"]\n",
    "geometries = [shape(feature[\"geometry\"]) for feature in features]\n",
    "properties = [feature[\"properties\"] for feature in features]\n",
    "\n",
    "gdf = gpd.GeoDataFrame(properties, geometry=geometries)\n",
    "\n",
    "# Imposta il CRS (Coordinate Reference System)\n",
    "gdf.set_crs(\"EPSG: 4326\", inplace=True)\n",
    "\n",
    "# 1. Assicuriamoci che valori None siano convertiti in np.nan\n",
    "gdf['highway'] = gdf['highway'].replace({None: np.nan})\n",
    "\n",
    "# 2. Se necessario, converti in stringa (utile se ci sono tipi misti)\n",
    "gdf['highway'] = gdf['highway'].astype('object')\n",
    "\n",
    "# 3. Crea la maschera con entrambe le condizioni:\n",
    "mask = (\n",
    "    gdf['highway'].isna() |\n",
    "    (gdf['highway'] == 'unclassified')\n",
    ")\n",
    "\n",
    "# 4. Applica il filtro\n",
    "gdf_filtered = gdf[mask]\n",
    "\n",
    "gdf_filtered.duplicated()\n",
    "\n",
    "gdf_filtered.to_file (\"Data/Staging/Info_bici/highway_null_unclassified.geojson\")"
   ]
  }
 ],
 "metadata": {
  "kernelspec": {
   "display_name": ".venv",
   "language": "python",
   "name": "python3"
  },
  "language_info": {
   "codemirror_mode": {
    "name": "ipython",
    "version": 3
   },
   "file_extension": ".py",
   "mimetype": "text/x-python",
   "name": "python",
   "nbconvert_exporter": "python",
   "pygments_lexer": "ipython3",
   "version": "3.13.5"
  }
 },
 "nbformat": 4,
 "nbformat_minor": 5
}
