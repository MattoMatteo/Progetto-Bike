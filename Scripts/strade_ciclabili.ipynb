{
 "cells": [
  {
   "cell_type": "code",
   "execution_count": 3,
   "id": "2e4bc86a",
   "metadata": {},
   "outputs": [],
   "source": [
    "import pickle\n",
    "import json\n",
    "from shapely.geometry import shape\n",
    "\n",
    "import networkx as nx\n",
    "import osmnx as ox\n",
    "import geopandas as gpd\n",
    "import numpy as np\n",
    "\n",
    "from my_paths import *"
   ]
  },
  {
   "cell_type": "code",
   "execution_count": null,
   "id": "38208600",
   "metadata": {},
   "outputs": [],
   "source": [
    "PATH_STRADE_MOTORWAY = '..\\\\Data\\\\Raw\\\\Info_bici\\\\strade_motorway.geojson'\n",
    "PATH_STRADE_TRUNK = '..\\\\Data\\\\Raw\\\\Info_bici\\\\strade_trunk.geojson'\n",
    "PATH_STRADE_PRIMARY = '..\\\\Data\\\\Raw\\\\Info_bici\\\\strade_primary.geojson'\n",
    "PATH_STRADE_PRIMARY_NULL = '..\\\\Data\\\\Raw\\\\Info_bici\\\\strade_primary_null.geojson'\n",
    "PATH_STRADE_FOOTWAY = '..\\\\Data\\\\Raw\\\\Info_bici\\\\strade_footway.geojson'\n",
    "PATH_STRADE_SECONDARY = \"..\\\\Data\\\\Raw\\\\Info_bici\\\\strade_secondary.geojson\"\n",
    "PATH_STRADE_TERTIARY = \"..\\\\Data\\\\Raw\\\\Info_bici\\\\strade_tertiary.geojson\"\n",
    "PATH_STRADE_RESIDENTIAL = \"..\\\\Data\\\\Raw\\\\Info_bici\\\\strade_residential.geojson\"\n",
    "PATH_STRADE_SERVICE = \"..\\\\Data\\\\Raw\\\\Info_bici\\\\strade_service.geojson\"\n",
    "\n",
    "PATH_highway_null_unclassified = \"Data/Staging/Info_bici/highway_null_unclassified.geojson\""
   ]
  },
  {
   "cell_type": "code",
   "execution_count": null,
   "id": "23587018",
   "metadata": {},
   "outputs": [],
   "source": [
    "with open(PATH_STRADE_CICLABILI_PICKLE_RAW, \"rb\") as f:\n",
    "    G_strade = pickle.load(f)"
   ]
  },
  {
   "cell_type": "code",
   "execution_count": null,
   "id": "6d9269e2",
   "metadata": {},
   "outputs": [],
   "source": [
    "gdf = ox.graph_to_gdfs(G_strade, nodes=False)"
   ]
  },
  {
   "cell_type": "code",
   "execution_count": null,
   "id": "29996ce8",
   "metadata": {},
   "outputs": [],
   "source": [
    "gdf.head\n",
    "gdf[\"highway\"].value_counts()"
   ]
  },
  {
   "cell_type": "code",
   "execution_count": 32,
   "id": "905fdb25",
   "metadata": {},
   "outputs": [
    {
     "data": {
      "text/plain": [
       "81"
      ]
     },
     "execution_count": 32,
     "metadata": {},
     "output_type": "execute_result"
    }
   ],
   "source": [
    "gdf_motorways = gdf[(gdf[\"highway\"] == \"motorway\")]\n",
    "len(gdf_motorways)"
   ]
  },
  {
   "cell_type": "code",
   "execution_count": null,
   "id": "a60a6402",
   "metadata": {},
   "outputs": [
    {
     "name": "stdout",
     "output_type": "stream",
     "text": [
      "311\n"
     ]
    }
   ],
   "source": [
    "gdf_motorways = gdf[(gdf[\"highway\"] == \"motorway\") | (gdf[\"highway\"] == \"motorway_link\")]\n",
    "\n",
    "print(len(gdf_motorways))  # Mostra il numero di righe\n",
    "\n",
    "# Salva in GeoJSON\n",
    "gdf_motorways.to_file(PATH_STRADE_MOTORWAY, driver='GeoJSON')"
   ]
  },
  {
   "cell_type": "code",
   "execution_count": null,
   "id": "21f55516",
   "metadata": {},
   "outputs": [
    {
     "name": "stdout",
     "output_type": "stream",
     "text": [
      "106\n"
     ]
    }
   ],
   "source": [
    "gdf_trunks = gdf[(gdf[\"highway\"] == \"trunk\") | (gdf[\"highway\"] == \"trunk_link\")]\n",
    "\n",
    "print(len(gdf_trunks))  # Mostra il numero di righe\n",
    "\n",
    "# Salva in GeoJSON\n",
    "gdf_trunks.to_file(PATH_STRADE_TRUNK, driver='GeoJSON')"
   ]
  },
  {
   "cell_type": "code",
   "execution_count": null,
   "id": "049ba3cd",
   "metadata": {},
   "outputs": [],
   "source": [
    "gdf_primary = gdf[(gdf[\"highway\"] == \"primary\") | (gdf[\"highway\"] == \"primary_link\")]\n",
    "\n",
    "\n",
    "print(len(gdf_primary))  # Mostra il numero di righe\n",
    "\n",
    "# Salva in GeoJSON\n",
    "gdf_primary.to_file(PATH_STRADE_PRIMARY, driver='GeoJSON')\n"
   ]
  },
  {
   "cell_type": "code",
   "execution_count": null,
   "id": "d79dd18c",
   "metadata": {},
   "outputs": [],
   "source": [
    "# Sostituisci i None con np.nan nel GeoDataFrame primario\n",
    "gdf_primary.loc[:, \"maxspeed\"] = gdf_primary[\"maxspeed\"].replace({None: np.nan})\n",
    "\n",
    "# Filtra solo le righe con maxspeed mancante\n",
    "gdf_null_maxspeed = gdf_primary[gdf_primary[\"maxspeed\"].isna()]\n",
    "\n",
    "# Salva su file GeoJSON\n",
    "gdf_null_maxspeed.to_file(PATH_STRADE_PRIMARY_NULL, driver='GeoJSON')\n"
   ]
  },
  {
   "cell_type": "code",
   "execution_count": null,
   "id": "5a5fbb2d",
   "metadata": {},
   "outputs": [],
   "source": [
    "gdf_footway = gdf[(gdf[\"highway\"] == \"footway\")]\n",
    "\n",
    "\n",
    "print(len(gdf_footway))  # Mostra il numero di righe\n",
    "\n",
    "# Salva in GeoJSON\n",
    "gdf_primary.to_file(PATH_STRADE_FOOTWAY, driver='GeoJSON')\n"
   ]
  },
  {
   "cell_type": "code",
   "execution_count": null,
   "id": "3589f60e",
   "metadata": {},
   "outputs": [],
   "source": [
    "# Strade Secondary\n",
    "\n",
    "gdf_secondary = gdf[(gdf[\"highway\"] == \"secondary\")]\n",
    "len(gdf_secondary)\n",
    "print(gdf[gdf[\"highway\"] == \"secondary\"].isna().sum())\n",
    "\n",
    "gdf_secondary = gdf[(gdf[\"highway\"] == \"secondary\") | (gdf[\"highway\"] == \"secondary_link\")]\n",
    "\n",
    "print(len(gdf_secondary))  # Mostra il numero di righe\n",
    "\n",
    "# Salva in GeoJSON\n",
    "gdf_secondary.to_file(PATH_STRADE_SECONDARY, driver='GeoJSON')"
   ]
  },
  {
   "cell_type": "code",
   "execution_count": null,
   "id": "73f3f9f4",
   "metadata": {},
   "outputs": [],
   "source": [
    "# Strade Tertiary\n",
    "\n",
    "gdf_tertiary = gdf[(gdf[\"highway\"] == \"tertiary\")]\n",
    "len(gdf_secondary)\n",
    "print(gdf[gdf[\"highway\"] == \"tertiary\"].isna().sum())\n",
    "\n",
    "gdf_tertiary = gdf[(gdf[\"highway\"] == \"tertiary\") | (gdf[\"highway\"] == \"tertiary_link\")]\n",
    "\n",
    "# Salva in GeoJSON\n",
    "gdf_tertiary.to_file(PATH_STRADE_TERTIARY, driver='GeoJSON')"
   ]
  },
  {
   "cell_type": "code",
   "execution_count": null,
   "id": "c6d93b91",
   "metadata": {},
   "outputs": [],
   "source": [
    "# Residential\n",
    "\n",
    "gdf_residential = gdf[(gdf[\"highway\"] == \"residential\")]\n",
    "print(gdf[gdf[\"highway\"] == \"residential\"].isna().sum())\n",
    "\n",
    "print(len(gdf_secondary))  # Mostra il numero di righe\n",
    "\n",
    "# Salva in GeoJSON\n",
    "gdf_residential.to_file(PATH_STRADE_RESIDENTIAL, driver='GeoJSON')"
   ]
  },
  {
   "cell_type": "code",
   "execution_count": null,
   "id": "60c75e07",
   "metadata": {},
   "outputs": [],
   "source": [
    "# Service\n",
    "\n",
    "gdf_service = gdf[(gdf[\"highway\"] == \"service\")]\n",
    "print(gdf[gdf[\"highway\"] == \"service\"].isna().sum())\n",
    "\n",
    "print(len(gdf_service))  # Mostra il numero di righe\n",
    "\n",
    "# Salva in GeoJSON\n",
    "gdf_service.to_file(PATH_STRADE_SERVICE, driver='GeoJSON')"
   ]
  },
  {
   "cell_type": "markdown",
   "id": "8aeebeec",
   "metadata": {},
   "source": [
    "Forse ho cancellato il \"strade_ciclabili.geojson\" che stavate usando.\n",
    "Dovrebbe essere questo:"
   ]
  },
  {
   "cell_type": "code",
   "execution_count": null,
   "id": "8b509bc5",
   "metadata": {},
   "outputs": [],
   "source": [
    "gdf_ciclabili_raw = gpd.read_file(PATH_CICLABILI_RAW)\n",
    "gdf_ciclabili_staging = gdf_ciclabili_raw.copy()\n",
    "\n",
    "# Convertiamo alcuni tipi\n",
    "gdf_ciclabili_staging[\"geometry\"] = gdf_ciclabili_staging[\"geometry\"].apply(lambda x: x.geoms[0])\n",
    "gdf_ciclabili_staging[\"fine_lavor\"] = gdf_ciclabili_staging[\"fine_lavor\"].astype(int)\n",
    "gdf_ciclabili_staging[\"lunghezza\"] = gdf_ciclabili_staging[\"lunghezza\"].astype(int)\n",
    "gdf_ciclabili_staging = gdf_ciclabili_staging.drop([\"id_amat\", \"id_via\",\"gerarchia\"], axis=1)\n",
    "\n",
    "gdf_ciclabili_staging = gpd.GeoDataFrame(gdf_ciclabili_staging, geometry=\"geometry\")"
   ]
  },
  {
   "cell_type": "markdown",
   "id": "9ad826d1",
   "metadata": {},
   "source": [
    "e anziché caricarlo da file, ottenete il geodataframe come dizionario con la funzione .to_dict() a partire dalla prima parte di ETL del file raw che vi ho riscritto sopra."
   ]
  },
  {
   "cell_type": "code",
   "execution_count": null,
   "id": "df4270cf",
   "metadata": {},
   "outputs": [],
   "source": [
    "data = gdf_ciclabili_staging.to_dict()"
   ]
  },
  {
   "cell_type": "markdown",
   "id": "6f9fa336",
   "metadata": {},
   "source": [
    "Da ora in poi dovrebbe essere identico a prima! Non volevo disturbare il vostro lavoro ma ho ristrutturato le cartelle e i file"
   ]
  },
  {
   "cell_type": "code",
   "execution_count": null,
   "id": "a469e4df",
   "metadata": {},
   "outputs": [],
   "source": [
    "# Creazione geodataframe manuale\n",
    "\n",
    "# Costruisci il GeoDataFrame manualmente\n",
    "features = data[\"features\"]\n",
    "geometries = [shape(feature[\"geometry\"]) for feature in features]\n",
    "properties = [feature[\"properties\"] for feature in features]\n",
    "\n",
    "gdf = gpd.GeoDataFrame(properties, geometry=geometries)\n",
    "\n",
    "# Imposta il CRS (Coordinate Reference System)\n",
    "gdf.set_crs(\"EPSG: 4326\", inplace=True)\n",
    "\n",
    "# 1. Assicuriamoci che valori None siano convertiti in np.nan\n",
    "gdf['highway'] = gdf['highway'].replace({None: np.nan})\n",
    "\n",
    "# 2. Se necessario, converti in stringa (utile se ci sono tipi misti)\n",
    "gdf['highway'] = gdf['highway'].astype('object')\n",
    "\n",
    "# 3. Crea la maschera con entrambe le condizioni:\n",
    "mask = (\n",
    "    gdf['highway'].isna() |\n",
    "    (gdf['highway'] == 'unclassified')\n",
    ")\n",
    "\n",
    "# 4. Applica il filtro\n",
    "gdf_filtered = gdf[mask]\n",
    "\n",
    "gdf_filtered.duplicated()\n",
    "\n",
    "gdf_filtered.to_file(PATH_highway_null_unclassified)"
   ]
  }
 ],
 "metadata": {
  "kernelspec": {
   "display_name": ".venv",
   "language": "python",
   "name": "python3"
  },
  "language_info": {
   "codemirror_mode": {
    "name": "ipython",
    "version": 3
   },
   "file_extension": ".py",
   "mimetype": "text/x-python",
   "name": "python",
   "nbconvert_exporter": "python",
   "pygments_lexer": "ipython3",
   "version": "3.13.2"
  }
 },
 "nbformat": 4,
 "nbformat_minor": 5
}
