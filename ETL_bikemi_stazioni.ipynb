{
 "cells": [
  {
   "cell_type": "code",
   "execution_count": null,
   "id": "336df9bb",
   "metadata": {},
   "outputs": [
    {
     "name": "stderr",
     "output_type": "stream",
     "text": [
      "c:\\Matteo\\Coding\\Project\\Progetto Esame BI\\.venv\\Lib\\site-packages\\pyogrio\\raw.py:198: RuntimeWarning: driver CSV does not support open option SEP\n",
      "  return ogr_read(\n"
     ]
    }
   ],
   "source": [
    "import geopandas as gpd\n",
    "from shapely.geometry import Point\n",
    "\n",
    "gpd.GeoDataFrame\n",
    "\n",
    "def location_to_point(input:str):\n",
    "    points = input.strip(\"(\").strip(\")\").split(\",\")\n",
    "    for point in points:\n",
    "        point.strip()\n",
    "    return Point(float(points[1]), float(points[0]))\n",
    "\n",
    "PATH_BIKEMI = './Data/Raw/Info_bici/bikemi_stazioni.csv'\n",
    "\n",
    "gdf = gpd.read_file(PATH_BIKEMI, sep = ';')\n",
    "gdf = gdf.rename(columns = {'id_amat':'id_stazione',\n",
    "                           'stalli':'n_posti',\n",
    "                           'LONG_X_4326':'longitudine',\n",
    "                           'LAT_Y_4326': 'latitudine',\n",
    "                           'Location':'location'})\n",
    "gdf.drop(['stato', 'id_via', 'indirizzo', 'civico', 'zd_attuale', 'anno', \"tipo\"], axis=1, inplace=True)\n",
    "gdf['location'] = gdf['location'].apply(location_to_point)"
   ]
  },
  {
   "cell_type": "code",
   "execution_count": null,
   "id": "91a638c1",
   "metadata": {},
   "outputs": [
    {
     "name": "stdout",
     "output_type": "stream",
     "text": [
      "<class 'pandas.core.series.Series'>\n"
     ]
    },
    {
     "data": {
      "text/html": [
       "<div>\n",
       "<style scoped>\n",
       "    .dataframe tbody tr th:only-of-type {\n",
       "        vertical-align: middle;\n",
       "    }\n",
       "\n",
       "    .dataframe tbody tr th {\n",
       "        vertical-align: top;\n",
       "    }\n",
       "\n",
       "    .dataframe thead th {\n",
       "        text-align: right;\n",
       "    }\n",
       "</style>\n",
       "<table border=\"1\" class=\"dataframe\">\n",
       "  <thead>\n",
       "    <tr style=\"text-align: right;\">\n",
       "      <th></th>\n",
       "      <th>id_stazione</th>\n",
       "      <th>numero</th>\n",
       "      <th>nome</th>\n",
       "      <th>n_posti</th>\n",
       "      <th>sede</th>\n",
       "      <th>longitudine</th>\n",
       "      <th>latitudine</th>\n",
       "      <th>location</th>\n",
       "      <th>icon</th>\n",
       "    </tr>\n",
       "  </thead>\n",
       "  <tbody>\n",
       "    <tr>\n",
       "      <th>0</th>\n",
       "      <td>1</td>\n",
       "      <td>001</td>\n",
       "      <td>Duomo</td>\n",
       "      <td>24</td>\n",
       "      <td>Carreggiata</td>\n",
       "      <td>9.18914146264194</td>\n",
       "      <td>45.4647459734151</td>\n",
       "      <td>POINT (9.18914146264194 45.4647459734151)</td>\n",
       "      <td>events</td>\n",
       "    </tr>\n",
       "    <tr>\n",
       "      <th>1</th>\n",
       "      <td>3</td>\n",
       "      <td>402</td>\n",
       "      <td>San Babila Bis</td>\n",
       "      <td>24</td>\n",
       "      <td>Marciapiede</td>\n",
       "      <td>9.19725017347506</td>\n",
       "      <td>45.4662661365004</td>\n",
       "      <td>POINT (9.19725017347506 45.4662661365004)</td>\n",
       "      <td>events</td>\n",
       "    </tr>\n",
       "    <tr>\n",
       "      <th>2</th>\n",
       "      <td>4</td>\n",
       "      <td>003</td>\n",
       "      <td>Cadorna 1</td>\n",
       "      <td>21</td>\n",
       "      <td>Marciapiede</td>\n",
       "      <td>9.17566167305518</td>\n",
       "      <td>45.4680028649026</td>\n",
       "      <td>POINT (9.17566167305518 45.4680028649026)</td>\n",
       "      <td>events</td>\n",
       "    </tr>\n",
       "    <tr>\n",
       "      <th>3</th>\n",
       "      <td>5</td>\n",
       "      <td>004</td>\n",
       "      <td>Lanza</td>\n",
       "      <td>24</td>\n",
       "      <td>Marciapiede</td>\n",
       "      <td>9.18197005904563</td>\n",
       "      <td>45.4722739800244</td>\n",
       "      <td>POINT (9.18197005904563 45.4722739800244)</td>\n",
       "      <td>events</td>\n",
       "    </tr>\n",
       "    <tr>\n",
       "      <th>4</th>\n",
       "      <td>6</td>\n",
       "      <td>005</td>\n",
       "      <td>Universita' Cattolica</td>\n",
       "      <td>24</td>\n",
       "      <td>Marciapiede</td>\n",
       "      <td>9.17641155359659</td>\n",
       "      <td>45.4631209673857</td>\n",
       "      <td>POINT (9.17641155359659 45.4631209673857)</td>\n",
       "      <td>events</td>\n",
       "    </tr>\n",
       "  </tbody>\n",
       "</table>\n",
       "</div>"
      ],
      "text/plain": [
       "  id_stazione numero                   nome n_posti         sede  \\\n",
       "0           1    001                  Duomo      24  Carreggiata   \n",
       "1           3    402         San Babila Bis      24  Marciapiede   \n",
       "2           4    003              Cadorna 1      21  Marciapiede   \n",
       "3           5    004                  Lanza      24  Marciapiede   \n",
       "4           6    005  Universita' Cattolica      24  Marciapiede   \n",
       "\n",
       "        longitudine        latitudine  \\\n",
       "0  9.18914146264194  45.4647459734151   \n",
       "1  9.19725017347506  45.4662661365004   \n",
       "2  9.17566167305518  45.4680028649026   \n",
       "3  9.18197005904563  45.4722739800244   \n",
       "4  9.17641155359659  45.4631209673857   \n",
       "\n",
       "                                    location    icon  \n",
       "0  POINT (9.18914146264194 45.4647459734151)  events  \n",
       "1  POINT (9.19725017347506 45.4662661365004)  events  \n",
       "2  POINT (9.17566167305518 45.4680028649026)  events  \n",
       "3  POINT (9.18197005904563 45.4722739800244)  events  \n",
       "4  POINT (9.17641155359659 45.4631209673857)  events  "
      ]
     },
     "execution_count": 37,
     "metadata": {},
     "output_type": "execute_result"
    }
   ],
   "source": [
    "gdf['icon'] = \"events\"\n",
    "gdf.head()"
   ]
  },
  {
   "cell_type": "code",
   "execution_count": 28,
   "id": "66e68bca",
   "metadata": {},
   "outputs": [],
   "source": [
    "gdf.to_csv('./Data/Clean/Info_bici/bikemi_stazioni_clean.csv', index=False)"
   ]
  }
 ],
 "metadata": {
  "kernelspec": {
   "display_name": ".venv",
   "language": "python",
   "name": "python3"
  },
  "language_info": {
   "codemirror_mode": {
    "name": "ipython",
    "version": 3
   },
   "file_extension": ".py",
   "mimetype": "text/x-python",
   "name": "python",
   "nbconvert_exporter": "python",
   "pygments_lexer": "ipython3",
   "version": "3.13.2"
  }
 },
 "nbformat": 4,
 "nbformat_minor": 5
}
