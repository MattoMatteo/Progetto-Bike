{
 "cells": [
  {
   "cell_type": "code",
   "execution_count": null,
   "id": "5e165188",
   "metadata": {},
   "outputs": [
    {
     "name": "stderr",
     "output_type": "stream",
     "text": [
      "C:\\Users\\aless\\AppData\\Local\\Temp\\ipykernel_32216\\4251250195.py:15: FionaDeprecationWarning: instances of this class -- CRS, geometry, and feature objects -- will become immutable in fiona version 2.0\n",
      "  feature['geometry'] = fiona.transform.transform_geom(\n"
     ]
    }
   ],
   "source": [
    "import fiona\n",
    "import fiona.transform\n",
    "import json\n",
    "\n",
    "PATH_MUNICIPI = \"./Data/Raw/Punti_di_interesse/Municipi/Municipi.shp\"\n",
    "PATH_MUNICIPI_JSON = \"./Data/Clean/Punti_di_interesse/Municipi.geojson\"\n",
    "\n",
    "src_crs = 'EPSG:6707'\n",
    "dst_crs = 'EPSG:4326'\n",
    "\n",
    "with fiona.open(PATH_MUNICIPI, 'r') as src:\n",
    "    # Crea un nuovo file GeoJSON in scrittura, copiando schema, crs e driver\n",
    "    with fiona.open(PATH_MUNICIPI_JSON, 'w', driver='GeoJSON', crs=src.crs, schema=src.schema) as dst:\n",
    "        for feature in src:\n",
    "            feature['geometry'] = fiona.transform.transform_geom(\n",
    "                src_crs,\n",
    "                dst_crs,\n",
    "                feature['geometry']\n",
    "            )\n",
    "            dst.write(feature)\n",
    "        \n",
    "with open(PATH_MUNICIPI_JSON, 'r') as file:\n",
    "    file_json = json.load(file)\n",
    "\n",
    "with open(PATH_MUNICIPI_JSON, 'w') as file:\n",
    "    json.dump(file_json, file, indent=4)"
   ]
  }
 ],
 "metadata": {
  "kernelspec": {
   "display_name": ".venv",
   "language": "python",
   "name": "python3"
  },
  "language_info": {
   "codemirror_mode": {
    "name": "ipython",
    "version": 3
   },
   "file_extension": ".py",
   "mimetype": "text/x-python",
   "name": "python",
   "nbconvert_exporter": "python",
   "pygments_lexer": "ipython3",
   "version": "3.13.2"
  }
 },
 "nbformat": 4,
 "nbformat_minor": 5
}
